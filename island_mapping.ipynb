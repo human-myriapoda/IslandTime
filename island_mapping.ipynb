{
 "cells": [
  {
   "cell_type": "code",
   "execution_count": 1,
   "metadata": {},
   "outputs": [],
   "source": [
    "from mpetools import IslandTime\n",
    "import pandas as pd\n",
    "import numpy as np\n",
    "import matplotlib.pyplot as plt\n",
    "import seaborn as sns\n",
    "import os\n",
    "import folium\n",
    "import webbrowser"
   ]
  },
  {
   "cell_type": "code",
   "execution_count": 27,
   "metadata": {},
   "outputs": [
    {
     "data": {
      "text/plain": [
       "True"
      ]
     },
     "execution_count": 27,
     "metadata": {},
     "output_type": "execute_result"
    }
   ],
   "source": [
    "path_to_data = os.path.join(os.getcwd(), 'data', 'info_islands')\n",
    "\n",
    "latitude, longitude, colors, names, desc = [], [], [], [], []\n",
    "\n",
    "for file in os.listdir(path_to_data):\n",
    "    island = file.split('_')[1]\n",
    "    country = file.split('_')[2].split('.')[0]\n",
    "    island_info = IslandTime.retrieve_island_info(island, country, verbose=False)\n",
    "    latitude.append(island_info['spatial_reference']['latitude'])\n",
    "    longitude.append(island_info['spatial_reference']['longitude'])\n",
    "    names.append(island_info['general_info']['island'])\n",
    "\n",
    "    if 'visual_inspection' in island_info['general_info'].keys():\n",
    "        colors.append('blue')\n",
    "        desc.append('Visual inspection done')\n",
    "    \n",
    "    else:\n",
    "        if 'timeseries_coastsat' in island_info.keys():\n",
    "            if 'timeseries' in island_info['timeseries_coastsat'].keys():\n",
    "                colors.append('green')\n",
    "                desc.append('CoastSat time series available')\n",
    "            \n",
    "            else:\n",
    "                if os.path.exists(os.path.join(os.getcwd(), 'data', 'coastsat_data', island+'_'+country)):\n",
    "                    colors.append('orange')\n",
    "                    desc.append('CoastSat images are being downloaded')\n",
    "\n",
    "        \n",
    "        else:\n",
    "            if os.path.exists(os.path.join(os.getcwd(), 'data', 'coastsat_data', island+'_'+country)):\n",
    "                colors.append('orange')\n",
    "                desc.append('CoastSat images are being downloaded')\n",
    "            \n",
    "            else:\n",
    "                colors.append('red')\n",
    "                desc.append('CoastSat has not started downloading images yet')\n",
    "\n",
    "# Create a base map\n",
    "m = folium.Map(location=[sum(latitude) / len(latitude), sum(longitude) / len(longitude)], zoom_start=5)\n",
    "\n",
    "# Add markers for each point\n",
    "for lat, lon, color, name, des in zip(latitude, longitude, colors, names, desc):\n",
    "    folium.Marker([lat, lon], popup=str(name)+'\\n'+str(des), icon=folium.Icon(color=color)).add_to(m)\n",
    "\n",
    "# Save the map to an HTML file\n",
    "m.save('island_mapping.html')\n",
    "\n",
    "# Open the map in a web browser\n",
    "webbrowser.open('island_mapping.html')"
   ]
  }
 ],
 "metadata": {
  "kernelspec": {
   "display_name": "IslandTime",
   "language": "python",
   "name": "python3"
  },
  "language_info": {
   "codemirror_mode": {
    "name": "ipython",
    "version": 3
   },
   "file_extension": ".py",
   "mimetype": "text/x-python",
   "name": "python",
   "nbconvert_exporter": "python",
   "pygments_lexer": "ipython3",
   "version": "3.11.5"
  }
 },
 "nbformat": 4,
 "nbformat_minor": 2
}
