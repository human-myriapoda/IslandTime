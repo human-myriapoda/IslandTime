{
 "cells": [
  {
   "cell_type": "code",
   "execution_count": 4,
   "metadata": {},
   "outputs": [
    {
     "name": "stdout",
     "output_type": "stream",
     "text": [
      "The autoreload extension is already loaded. To reload it, use:\n",
      "  %reload_ext autoreload\n"
     ]
    }
   ],
   "source": [
    "from IslandTime import retrieve_island_info, Segmentation, update_results_map, plot_shoreline_transects, Workflow\n",
    "import pandas as pd\n",
    "import os\n",
    "from tqdm import tqdm\n",
    "import shapely\n",
    "import geopandas as gpd\n",
    "import matplotlib.pyplot as plt\n",
    "\n",
    "%load_ext autoreload\n",
    "%autoreload 2"
   ]
  },
  {
   "cell_type": "code",
   "execution_count": 12,
   "metadata": {},
   "outputs": [
    {
     "data": {
      "text/plain": [
       "(280860.0, 281410.0, 583140.0, 583680.0)"
      ]
     },
     "execution_count": 12,
     "metadata": {},
     "output_type": "execute_result"
    }
   ],
   "source": [
    "import numpy as np\n",
    "import skimage.exposure as exposure\n",
    "import pyproj\n",
    "\n",
    "def _image_stretch(im):\n",
    "    # Rescale image for visualisation\n",
    "    if np.ndim(im) > 2:\n",
    "        for i in range(np.shape(im)[2]):\n",
    "            im_no_nan = im[:, :, i][~np.isnan(im[:, :, i])]\n",
    "            im[:, :, i] = exposure.rescale_intensity(im[:, :, i], in_range=(im_no_nan.min(), im_no_nan.max()))\n",
    "    \n",
    "    else:\n",
    "        im_no_nan = im[~np.isnan(im)]\n",
    "        im = exposure.rescale_intensity(im, in_range=(im_no_nan.min(), im_no_nan.max()))\n",
    "    \n",
    "    return im\n",
    "\n",
    "rgb = all_dict[1]['26-08-2015_S2']\n",
    "georef = all_dict[2]['26-08-2015_S2']\n",
    "\n",
    "fig, ax = plt.subplots()\n",
    "\n",
    "ax.imshow(_image_stretch(rgb), extent=[georef[0], georef[0] + georef[1] * rgb.shape[1], georef[3] + georef[5] * rgb.shape[0], georef[3]])\n",
    "plot_shoreline_transects(island_info, transect_plot=10, ax=ax)\n",
    "ax.axis('off')"
   ]
  },
  {
   "cell_type": "code",
   "execution_count": 136,
   "metadata": {},
   "outputs": [],
   "source": [
    "from statsmodels.graphics.tsaplots import plot_acf, plot_pacf\n",
    "\n",
    "from matplotlib.collections import PolyCollection, LineCollection\n",
    "\n",
    "t = 10\n",
    "ts = island_info['timeseries_preprocessing']['optimal time period']['dict_timeseries']['coastline_position_transect_{}_waterline'.format(t)]['monthly']['coastline_position_transect_{}_waterline'.format(t)]\n",
    "\n",
    "def plot_acf_colors(ax, markercolor=\"firebrick\", linecolor=\"black\", facecolor=\"silver\", barcolor=\"darkcyan\", linewidth=1):\n",
    "    \"\"\"utility function to get some control over colors with  plot_acf()\"\"\"\n",
    "    \n",
    "    for item in ax.collections:\n",
    "        # change the color of the confidence interval \n",
    "        if type(item) == PolyCollection:\n",
    "            item.set_facecolor(facecolor)\n",
    "        # change the color of the vertical lines\n",
    "        if type(item) == LineCollection:\n",
    "            item.set_color(barcolor)\n",
    "    # change the color of the markers\n",
    "    [line.get_label() for line in ax.lines]\n",
    "    for item in ax.lines:\n",
    "        item.set_color(markercolor)\n",
    "    # change the color of the horizontal lines\n",
    "    ax.lines[0].set_color(linecolor)\n",
    "    ax.lines[0].set_linewidth(linewidth)\n",
    "    #ax.lines.remove(ax.lines[0])\n",
    "    return ax\n",
    "\n",
    "fig, axs = plt.subplots(2,2, figsize=(20,20))\n",
    "axs = axs.ravel()\n",
    "plot_acf(ts, lags=40, alpha=0.05, ax=axs[2], color='k', use_vlines=True, fft=True, vlines_kwargs={'colors': 'k', 'linestyles': 'dashed'}, title='', gapcolor='k')\n",
    "ax = plot_acf_colors(axs[2])\n",
    "axs[2].axvline(x=12, color='k', linestyle='-', linewidth=0.5, zorder=0, alpha=0.5)\n",
    "axs[2].axvline(x=6, color='k', linestyle='-', linewidth=0.5, zorder=0, alpha=0.5)\n",
    "# ax.axvline(x=24, color='red', linestyle='--')\n",
    "# ax.axvline(x=36, color='red', linestyle='--')\n",
    "# ax.axvline(x=6, color='g', linestyle='--', label='6 months')\n",
    "# ax.axvline(x=18, color='g', linestyle='--')\n",
    "# ax.axvline(x=30, color='g', linestyle='--')\n",
    "axs[2].set_xlabel('Lag (months)', fontsize=15)\n",
    "axs[2].set_ylabel('Autocorrelation', fontsize=15)\n",
    "axs[2].text(12.5, 0.8, '12 months', fontsize=10, fontweight='bold')\n",
    "axs[2].text(6.5, 0.8, '6 months', fontsize=10, fontweight='bold')\n",
    "axs[2].set_xlim(-1, 40.5)\n",
    "axs[2].set_ylim(-1.05, 1.05)\n",
    "\n",
    "axs[1].plot(ts, color='k', linewidth=1.5, label='Preprocessed time series')\n",
    "axs[1].set_xlabel('Time', fontsize=15)\n",
    "axs[1].set_ylabel('Coastline position (m)', fontsize=15)\n",
    "axs[1].legend()\n",
    "# plot_shoreline_transects(island_info, ax=axs[0], transect_plot=10)\n",
    "\n",
    "axs[3].plot(ts, color='k', linewidth=1.5, alpha=0.3)\n",
    "axs[3].set_xlabel('Time', fontsize=15)\n",
    "axs[3].set_ylabel('Coastline position (m)', fontsize=15)\n",
    "# ax.set_title('')\n",
    "# ax.legend(fontsize=15)\n",
    "\n",
    "import numpy as np\n",
    "import skimage.exposure as exposure\n",
    "import pyproj\n",
    "\n",
    "def _image_stretch(im):\n",
    "    # Rescale image for visualisation\n",
    "    if np.ndim(im) > 2:\n",
    "        for i in range(np.shape(im)[2]):\n",
    "            im_no_nan = im[:, :, i][~np.isnan(im[:, :, i])]\n",
    "            im[:, :, i] = exposure.rescale_intensity(im[:, :, i], in_range=(im_no_nan.min(), im_no_nan.max()))\n",
    "    \n",
    "    else:\n",
    "        im_no_nan = im[~np.isnan(im)]\n",
    "        im = exposure.rescale_intensity(im, in_range=(im_no_nan.min(), im_no_nan.max()))\n",
    "    \n",
    "    return im\n",
    "\n",
    "kk = 3\n",
    "georef = all_dict[2][list(all_dict[2].keys())[kk]]\n",
    "rgb = all_dict[1][list(all_dict[1].keys())[kk]]\n",
    "\n",
    "axs[0].imshow(_image_stretch(rgb), extent=[georef[0], georef[0] + georef[1] * rgb.shape[1], georef[3] + georef[5] * rgb.shape[0], georef[3]])\n",
    "plot_shoreline_transects(island_info, transect_plot=t, ax=axs[0])\n",
    "axs[0].axis('off')\n",
    "\n",
    "from scipy.fft import fft\n",
    "from scipy.signal import find_peaks, argrelextrema\n",
    "from scipy import stats\n",
    "\n",
    "\n",
    "time_series = ts\n",
    "# Fourier transform of time series\n",
    "fft_result = fft(time_series.values)\n",
    "\n",
    "# Get frequencies\n",
    "frequencies = np.fft.fftfreq(len(time_series.values), 1/12)\n",
    "\n",
    "# fft_result without frequency 0\n",
    "fft_result_n = fft_result[1:]\n",
    "\n",
    "# Remove frequencies with amplitude below a threshold\n",
    "#print(all(element is False for element in (stats.zscore(np.abs(fft_result_n)) > self.z_score_seasonality)))\n",
    "score_list = stats.zscore(np.abs(fft_result_n)) > 2\n",
    "if all(not element for element in score_list):\n",
    "    fft_result = fft_result\n",
    "else:\n",
    "    threshold = np.min(np.abs(fft_result_n[stats.zscore(np.abs(fft_result_n)) > 2]))\n",
    "    fft_result[np.abs(fft_result) < threshold] = 0\n",
    "\n",
    "# Inverse Fourier transform (filetered data)\n",
    "filtered_data_fourier = np.fft.ifft(fft_result).real\n",
    "\n",
    "# Find peaks\n",
    "peaks_fourier, _ = find_peaks(filtered_data_fourier, height=0)\n",
    "\n",
    "# Find period\n",
    "period_fourier = stats.mode(np.diff(peaks_fourier)).mode\n",
    "\n",
    "axs[3].plot(time_series.index, filtered_data_fourier, color='seagreen', linewidth=1.5, label='Fourier-filtered time series')\n",
    "ii=0\n",
    "for peak in peaks_fourier:\n",
    "        if ii==0:\n",
    "            axs[3].axvline(time_series.index[peak], color='firebrick', linestyle='--', linewidth=0.8, label='Signal peaks')\n",
    "        else:\n",
    "            axs[3].axvline(time_series.index[peak], color='firebrick', linestyle='--', linewidth=0.8)\n",
    "        ii+=1\n",
    "\n",
    "import datetime\n",
    "# axs[3].annotate('', xy=(datetime.datetime(2017, 5, 1), 136), xytext=(datetime.datetime(2018, 4, 1), 136), arrowprops=dict(arrowstyle='<->', color='black'))\n",
    "# plt.text(datetime.datetime(2017, 10, 15), 138, '12 months', horizontalalignment='center', verticalalignment='center', fontsize=10, fontweight='bold')\n",
    "axs[3].legend(fontsize=10)\n",
    "# ax[1, 1].set_title('Fourier reconstruction'\n",
    "\n",
    "fig.savefig('figures//seasonal_signal.png', dpi=300)\n",
    "\n",
    "# axs[0].text()"
   ]
  },
  {
   "cell_type": "code",
   "execution_count": 163,
   "metadata": {},
   "outputs": [
    {
     "name": "stdout",
     "output_type": "stream",
     "text": [
      "\n"
     ]
    },
    {
     "data": {
      "text/plain": [
       "Text(0, 0.5, 'Coastline time series seasonal component amplitude (m)')"
      ]
     },
     "execution_count": 163,
     "metadata": {},
     "output_type": "execute_result"
    }
   ],
   "source": [
    "from statsmodels.tsa.seasonal import STL\n",
    "import Rbeast as rb\n",
    "\n",
    "res = STL(time_series, period=12, seasonal=13).fit()\n",
    "res_B = rb.beast(ts.values, start=[ts.index[0].year, ts.index[0].month, ts.index[0].day], season='harmonic', deltat='1/12 year', period='1 year', quiet=True, print_progress=False)\n",
    "# rb.plot(res_B)\n",
    "# res.plot()\n",
    "\n",
    "fig, ax = plt.subplots(figsize=(20,20))\n",
    "\n",
    "ax.plot(ts.index, res.seasonal, color='seagreen', label='STL', linewidth=2)\n",
    "ax.plot(ts.index, res_B.season.Y, color='firebrick', label='BEAST', linewidth=2)\n",
    "ax.fill_between(ts.index, res_B.season.CI[:, 0], res_B.season.CI[:, 1], alpha=0.3, color='firebrick')\n",
    "ax.fill_between(ts.index, res.seasonal - res.seasonal, res.seasonal + res.seasonal, color='seagreen', alpha=0.3)\n",
    "ax.set_xlim(ts.index[0], ts.index[-1])\n",
    "ax.legend(fontsize=20)\n",
    "ax.set_xlabel('Time', fontsize=15)\n",
    "ax.set_ylabel('Coastline time series seasonal component amplitude (m)', fontsize=15)"
   ]
  },
  {
   "cell_type": "code",
   "execution_count": 142,
   "metadata": {},
   "outputs": [
    {
     "data": {
      "text/plain": [
       "Text(5, 0.2, '')"
      ]
     },
     "execution_count": 142,
     "metadata": {},
     "output_type": "execute_result"
    }
   ],
   "source": [
    "falig, ax = plt.subplots()\n",
    "# plt.imshow(im)\n",
    "ax.plot(np.arange(10), np.sin(np.arange(10)))\n",
    "ax.annotate('', xy=(0, 0), xytext=(5, 0.2),\n",
    "             arrowprops=dict(arrowstyle='<->', color='black'))"
   ]
  },
  {
   "cell_type": "code",
   "execution_count": 16,
   "metadata": {},
   "outputs": [
    {
     "name": "stdout",
     "output_type": "stream",
     "text": [
      "Updating results maps...\n"
     ]
    },
    {
     "name": "stderr",
     "output_type": "stream",
     "text": [
      "  0%|          | 0/401 [00:00<?, ?it/s]"
     ]
    },
    {
     "name": "stderr",
     "output_type": "stream",
     "text": [
      " 86%|████████▋ | 346/401 [01:19<00:10,  5.46it/s]"
     ]
    },
    {
     "name": "stdout",
     "output_type": "stream",
     "text": [
      "Error with island: Qaruh Island\n"
     ]
    },
    {
     "name": "stderr",
     "output_type": "stream",
     "text": [
      "100%|██████████| 401/401 [01:29<00:00,  4.49it/s]\n"
     ]
    }
   ],
   "source": [
    "# Read file for islands to ignore\n",
    "import shapely.geometry\n",
    "\n",
    "\n",
    "df_islands_ignore = pd.read_excel('islands_to_ignore.xlsx')\n",
    "list_islands_ignore = df_islands_ignore['Island'].values\n",
    "\n",
    "path_to_data = os.path.join(os.getcwd(), 'data', 'info_islands')\n",
    "\n",
    "print('Updating results maps...')\n",
    "\n",
    "multi_point = []\n",
    "multi_point_excluded = []\n",
    "\n",
    "for file in tqdm(os.listdir(path_to_data)):\n",
    "    island = file.split('_')[1] \n",
    "    country = file.split('_')[2].split('.')[0]\n",
    "\n",
    "    try:\n",
    "        island_info = retrieve_island_info(island, country, verbose=False)\n",
    "        lat, lon = island_info['spatial_reference']['latitude'], island_info['spatial_reference']['longitude']\n",
    "        point = shapely.geometry.Point(lon, lat)\n",
    "\n",
    "        if island in list_islands_ignore:\n",
    "            label = 'excluded'\n",
    "            multi_point_excluded.append(point)\n",
    "\n",
    "        else:\n",
    "            label = 'included'\n",
    "            multi_point.append(point)\n",
    "    \n",
    "    except:\n",
    "        print('Error with island:', island)\n",
    "        continue\n",
    "\n",
    "mp = shapely.geometry.MultiPoint(multi_point)\n",
    "mp_excluded = shapely.geometry.MultiPoint(multi_point_excluded)\n",
    "gdf = gpd.GeoDataFrame(geometry=[mp], crs='EPSG:4326')\n",
    "gdf_excluded = gpd.GeoDataFrame(geometry=[mp_excluded], crs='EPSG:4326')\n",
    "gdf.to_file('shp//Huvadhoo_included.shp')\n",
    "gdf_excluded.to_file('shp//Huvadhoo_excluded.shp')"
   ]
  }
 ],
 "metadata": {
  "kernelspec": {
   "display_name": "IslandTime",
   "language": "python",
   "name": "python3"
  },
  "language_info": {
   "codemirror_mode": {
    "name": "ipython",
    "version": 3
   },
   "file_extension": ".py",
   "mimetype": "text/x-python",
   "name": "python",
   "nbconvert_exporter": "python",
   "pygments_lexer": "ipython3",
   "version": "3.11.8"
  }
 },
 "nbformat": 4,
 "nbformat_minor": 2
}
