{
 "cells": [
  {
   "cell_type": "code",
   "execution_count": 1,
   "metadata": {},
   "outputs": [],
   "source": [
    "from mpetools import IslandTime, TimeSeriesPreProcess\n",
    "import pandas as pd\n",
    "import numpy as np\n",
    "import matplotlib.pyplot as plt\n",
    "import datetime\n",
    "import pytz\n",
    "from scipy import stats\n",
    "import cv2\n",
    "import numpy.ma as ma\n",
    "from shapely.geometry import Polygon, LineString, Point\n",
    "import os\n",
    "import zipfile\n",
    "from scipy.signal import savgol_filter\n",
    "import xml.etree.ElementTree as ET\n",
    "from bs4 import BeautifulSoup\n",
    "import pymannkendall as mk\n",
    "import statsmodels.api as sm\n",
    "import tsfresh\n",
    "import shapely\n",
    "import pickle\n",
    "from osgeo import gdal\n",
    "from coastsatmaster.coastsat import SDS_preprocess, SDS_tools\n",
    "import matplotlib\n",
    "%matplotlib qt\n",
    "from skimage.filters import threshold_multiotsu\n",
    "# image processing modules\n",
    "import skimage.filters as filters\n",
    "import skimage.measure as measure\n",
    "import skimage.morphology as morphology\n",
    "import skimage.metrics as metrics\n",
    "from celluloid import Camera\n",
    "from statsmodels.tsa.seasonal import STL, seasonal_decompose\n",
    "\n",
    "%load_ext autoreload\n",
    "\n",
    "%autoreload 2"
   ]
  },
  {
   "cell_type": "code",
   "execution_count": 6,
   "metadata": {},
   "outputs": [],
   "source": [
    "for yr in range(2013, 2023):\n",
    "    dr = pd.date_range(datetime.datetime(yr, 3, 31), datetime.datetime(yr, 10, 1), freq='M')\n",
    "    df_dr = pd.DataFrame(index=dr)\n",
    "    \n",
    "    if yr == 2013:\n",
    "        df_dr_t = df_dr\n",
    "    \n",
    "    else:\n",
    "        df_dr_t = pd.concat([df_dr_t, df_dr])\n",
    "\n",
    "df_dr_t.index = [pytz.utc.localize(df_dr_t.index[i]) for i in range(len(df_dr_t.index))]"
   ]
  },
  {
   "cell_type": "code",
   "execution_count": 8,
   "metadata": {},
   "outputs": [],
   "source": [
    "for i in range(50):\n",
    "    try:\n",
    "        plt.figure()\n",
    "        #ts = island_info['timeseries_preprocessing']['optimal time period']['dict_timeseries']['coastline_position_transect_{}_waterline'.format(i)]['monthly']['coastline_position_transect_{}_waterline'.format(i)]\n",
    "        ts = island_info['timeseries_preprocessing']['df_coastline_timeseries']['coastline_position_transect_{}_waterline'.format(i)].dropna()\n",
    "        ts.plot()\n",
    "        condition = ts.dropna().index.isin(df_dr_t.index)\n",
    "        mask = pd.Series(condition, index=ts.dropna().index)\n",
    "        masked_df = ts.dropna().where(mask, np.nan)\n",
    "        other_df = ts.dropna().where(~mask, np.nan)\n",
    "        \n",
    "        decomp = STL(ts.dropna(), period=12).fit()\n",
    "        decomp.trend.plot()\n",
    "\n",
    "        for yr in range(2013, 2023):\n",
    "            if yr == 2013:\n",
    "                plt.fill_between(pd.date_range(datetime.datetime(yr, 4, 1), datetime.datetime(yr, 9, 1), freq='M'), min(ts), max(ts), color='orange', alpha=0.2, label='Indian Monsoon')\n",
    "            else:\n",
    "                plt.fill_between(pd.date_range(datetime.datetime(yr, 4, 1), datetime.datetime(yr, 9, 1), freq='M'), min(ts), max(ts), color='orange', alpha=0.2)\n",
    "        plt.title('Transect {}'.format(i))\n",
    "        plt.show()\n",
    "        plt.figure()\n",
    "        t_statistic, p_value = stats.ttest_ind((masked_df-decomp.trend).dropna(), (other_df-decomp.trend).dropna())\n",
    "        plt.boxplot([(masked_df-decomp.trend).dropna(), (other_df-decomp.trend).dropna()])\n",
    "        if p_value < 0.05:\n",
    "            plt.title('Transect {} - p-value: {} - significant difference'.format(i, p_value))\n",
    "        else:\n",
    "            plt.title('Transect {} - p-value: {} - no significant difference'.format(i, p_value))\n",
    "        plt.show()\n",
    "    except: continue\n"
   ]
  },
  {
   "cell_type": "code",
   "execution_count": 215,
   "metadata": {},
   "outputs": [
    {
     "name": "stdout",
     "output_type": "stream",
     "text": [
      "Contours at intensity value -0.8841328290870489: 11\n",
      "Contours at intensity value -0.7748241772823778: 4\n",
      "Contours at intensity value -0.47313229830148623: 3\n",
      "Contour counts for all specified intensity values: [11, 4, 3]\n"
     ]
    }
   ],
   "source": [
    "contour_counts = []\n",
    "\n",
    "for value in to:\n",
    "    binary_image = wimg_masked >= value\n",
    "    labeled_image, num_features = measure.label(binary_image, connectivity=2, return_num=True)\n",
    "    contours = measure.find_contours(binary_image, 0.5)  # Adjust the contour level as needed\n",
    "\n",
    "    contour_counts.append(len(contours))\n",
    "\n",
    "    print(f'Contours at intensity value {value}: {len(contours)}')\n",
    "\n",
    "    # Optional: Display contours on the image\n",
    "    plt.figure(figsize=(8, 8))\n",
    "    plt.imshow(wimg_masked, cmap='gray')\n",
    "\n",
    "    for contour in contours:\n",
    "        plt.plot(contour[:, 1], contour[:, 0], linewidth=2)\n",
    "\n",
    "    plt.title(f'Contours at intensity value {value}')\n",
    "    plt.axis('off')\n",
    "    plt.show()\n",
    "\n",
    "print('Contour counts for all specified intensity values:', contour_counts)"
   ]
  },
  {
   "cell_type": "code",
   "execution_count": 206,
   "metadata": {},
   "outputs": [
    {
     "data": {
      "text/plain": [
       "<matplotlib.legend.Legend at 0x188594316d0>"
      ]
     },
     "execution_count": 206,
     "metadata": {},
     "output_type": "execute_result"
    }
   ],
   "source": [
    "plt.plot(ts['coastline_position_transect_8'].index, ts['coastline_position_transect_8'].values, color='k')\n",
    "plt.plot(ts['coastline_position_transect_8'].index, result.trend, color='r', label='trend analysis')\n",
    "\n",
    "'''\n",
    "# Indian Monsoon\n",
    "for yr in range(2013, 2023):\n",
    "    if yr == 2013:\n",
    "        plt.fill_between(pd.date_range(datetime.datetime(yr, 4, 1), datetime.datetime(yr, 9, 1), freq='M'), min(ts['coastline_position_transect_8']), max(ts['coastline_position_transect_8']), color='orange', alpha=0.2, label='Indian Monsoon')\n",
    "    else:\n",
    "        plt.fill_between(pd.date_range(datetime.datetime(yr, 4, 1), datetime.datetime(yr, 9, 1), freq='M'), min(ts['coastline_position_transect_8']), max(ts['coastline_position_transect_8']), color='orange', alpha=0.2)\n",
    " '''\n",
    "# El Nino\n",
    "#plt.fill_between(pd.date_range(datetime.datetime(2015, 3, 1), datetime.datetime(2016, 5, 1), freq='M'), min(ts['coastline_position_transect_8']), max(ts['coastline_position_transect_8']), color='r', alpha=0.2, label='2015/2016 El Nino')\n",
    "\n",
    "# La Nina\n",
    "#plt.fill_between(pd.date_range(datetime.datetime(2020, 8, 1), datetime.datetime(2021, 5, 1), freq='M'), min(ts['coastline_position_transect_8']), max(ts['coastline_position_transect_8']), color='b', alpha=0.2, label='2020/2021 La Nina')\n",
    "\n",
    "# 2021 storm\n",
    "plt.axvline(datetime.datetime(2021, 5, 1), color='grey', linestyle='--', label='2021 storm')\n",
    "\n",
    "# IOD positive\n",
    "plt.fill_between(pd.date_range(datetime.datetime(2015, 1, 1), datetime.datetime(2016, 4, 1), freq='M'), min(ts['coastline_position_transect_8']), max(ts['coastline_position_transect_8']), color='purple', alpha=0.2, label='positive IOD')\n",
    "plt.fill_between(pd.date_range(datetime.datetime(2018, 12, 1), datetime.datetime(2020, 7, 1), freq='M'), min(ts['coastline_position_transect_8']), max(ts['coastline_position_transect_8']), color='purple', alpha=0.2)\n",
    "\n",
    "# IOD negative\n",
    "plt.fill_between(pd.date_range(datetime.datetime(2016, 4, 1), datetime.datetime(2018, 12, 1), freq='M'), min(ts['coastline_position_transect_8']), max(ts['coastline_position_transect_8']), color='green', alpha=0.2, label='negative IOD')\n",
    "plt.fill_between(pd.date_range(datetime.datetime(2020, 7, 1), datetime.datetime(2022, 8, 1), freq='M'), min(ts['coastline_position_transect_8']), max(ts['coastline_position_transect_8']), color='green', alpha=0.2)\n",
    "\n",
    "plt.xlim(datetime.datetime(2015, 1, 1), datetime.datetime(2022, 8, 1))\n",
    "plt.legend()"
   ]
  },
  {
   "cell_type": "code",
   "execution_count": null,
   "metadata": {},
   "outputs": [],
   "source": [
    "from scipy import signal\n",
    "def ccf_values(series1, series2):\n",
    "    p = series1\n",
    "    q = series2\n",
    "    p = (p - np.mean(p)) / (np.std(p) * len(p))\n",
    "    q = (q - np.mean(q)) / (np.std(q))  \n",
    "    c = np.correlate(p, q, 'full')\n",
    "    return c\n",
    "    \n",
    "ccf_ielts = ccf_values(ts['wave_energy_of_combined_wind_waves_and_swell'], ts['coastline_position_transect_8'])\n",
    "ccf_ielts"
   ]
  },
  {
   "cell_type": "code",
   "execution_count": null,
   "metadata": {},
   "outputs": [],
   "source": [
    "import statsmodels\n",
    "statsmodels.tsa.stattools.grangercausalitytests(ts[['wave_energy_of_combined_wind_waves_and_swell', 'coastline_position_transect_8']], maxlag=24)"
   ]
  },
  {
   "cell_type": "code",
   "execution_count": 92,
   "metadata": {},
   "outputs": [],
   "source": [
    "lags = signal.correlation_lags(len(ts['wave_energy_of_combined_wind_waves_and_swell']), len(ts['coastline_position_transect_8']))\n",
    "\n",
    "def ccf_plot(lags, ccf):\n",
    "    fig, ax =plt.subplots(figsize=(9, 6))\n",
    "    ax.plot(lags, ccf)\n",
    "    ax.axhline(-2/np.sqrt(23), color='red', label='5% confidence interval')\n",
    "    ax.axhline(2/np.sqrt(23), color='red')\n",
    "    ax.axvline(x = 0, color = 'black', lw = 1)\n",
    "    ax.axhline(y = 0, color = 'black', lw = 1)\n",
    "    ax.axhline(y = np.max(ccf), color = 'blue', lw = 1, \n",
    "    linestyle='--', label = 'highest +/- correlation')\n",
    "    ax.axhline(y = np.min(ccf), color = 'blue', lw = 1, \n",
    "    linestyle='--')\n",
    "    ax.set(ylim = [-1, 1])\n",
    "    ax.set_title('Cross Correation IElTS Search and Registeration Count', weight='bold', fontsize = 15)\n",
    "    ax.set_ylabel('Correlation Coefficients', weight='bold', \n",
    "    fontsize = 12)\n",
    "    ax.set_xlabel('Time Lags', weight='bold', fontsize = 12)\n",
    "    plt.legend()\n",
    "    \n",
    "ccf_plot(lags, ccf_ielts)"
   ]
  },
  {
   "cell_type": "code",
   "execution_count": 52,
   "metadata": {},
   "outputs": [
    {
     "name": "stdout",
     "output_type": "stream",
     "text": [
      "Mann_Kendall_Test(trend='no trend', h=False, p=0.42479090505531136, z=-0.7981371498910443, Tau=-0.05742821473158552, s=-230.0, var_s=82322.0, slope=-0.010519514596271762, intercept=225.1649923156301)\n"
     ]
    }
   ],
   "source": [
    "col = 'coastline_position_transect_0'\n",
    "df2[col].plot()\n",
    "fig, ax = plt.subplots(figsize=(12, 8))\n",
    "sm.graphics.tsa.plot_acf(df2[col], lags=25, ax=ax)\n",
    "fig, ax = plt.subplots(figsize=(12, 8))\n",
    "sm.graphics.tsa.plot_pacf(df2[col], lags=25, ax=ax)\n",
    "print(mk.original_test(df2[col].values))"
   ]
  }
 ],
 "metadata": {
  "kernelspec": {
   "display_name": "IslandTime",
   "language": "python",
   "name": "python3"
  },
  "language_info": {
   "codemirror_mode": {
    "name": "ipython",
    "version": 3
   },
   "file_extension": ".py",
   "mimetype": "text/x-python",
   "name": "python",
   "nbconvert_exporter": "python",
   "pygments_lexer": "ipython3",
   "version": "3.12.2"
  }
 },
 "nbformat": 4,
 "nbformat_minor": 2
}
