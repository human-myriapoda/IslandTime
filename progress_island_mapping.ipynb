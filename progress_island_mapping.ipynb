{
 "cells": [
  {
   "cell_type": "code",
   "execution_count": 7,
   "metadata": {},
   "outputs": [
    {
     "name": "stdout",
     "output_type": "stream",
     "text": [
      "The autoreload extension is already loaded. To reload it, use:\n",
      "  %reload_ext autoreload\n"
     ]
    }
   ],
   "source": [
    "from IslandTime import retrieve_island_info, PreTimeSeries\n",
    "import pandas as pd\n",
    "import numpy as np\n",
    "import matplotlib.pyplot as plt\n",
    "import seaborn as sns\n",
    "import os\n",
    "import folium\n",
    "import webbrowser\n",
    "import shapely\n",
    "\n",
    "import osmnx as ox\n",
    "%load_ext autoreload\n",
    "%autoreload 2"
   ]
  },
  {
   "cell_type": "code",
   "execution_count": 1,
   "metadata": {},
   "outputs": [],
   "source": [
    "import matplotlib.pyplot as plt\n",
    "import Rbeast as rb\n",
    "from datetime import datetime\n",
    "import os\n",
    "import numpy as np\n",
    "from tqdm import tqdm\n",
    "import matplotlib\n",
    "\n",
    "matplotlib.rcParams['mathtext.fontset'] = 'stix'\n",
    "matplotlib.rcParams['font.family'] = 'STIXGeneral'\n",
    "\n",
    "%load_ext autoreload\n",
    "%autoreload 2"
   ]
  },
  {
   "cell_type": "code",
   "execution_count": 34,
   "metadata": {},
   "outputs": [],
   "source": [
    "tags = {'place':'islet', 'natural':'coastline'}\n",
    "gdf = ox.features_from_place(\"Faadhippolhu\", tags=tags)"
   ]
  },
  {
   "cell_type": "code",
   "execution_count": 35,
   "metadata": {},
   "outputs": [
    {
     "data": {
      "text/plain": [
       "array([nan, nan, 'Maabinhuraa', nan, 'Olhuvelifushi', nan,\n",
       "       'Thilamaafushi', 'Fainuaadhamhuraa', nan, nan, nan, 'Innahura',\n",
       "       nan, nan, nan, nan, 'Raiyruhhuraa', nan, 'Mayyaafushi', nan,\n",
       "       'Faadhoo', nan, nan, nan, 'Meedhaahuraa', 'Kurendhoo', nan,\n",
       "       'Maafilaafushi', 'Lhohi', 'Lhossalafushi', 'Aligaa', 'Medhafushi',\n",
       "       'Varihuraa', nan, nan, 'Madivaru', 'Vavvaru', nan, 'Felivaru',\n",
       "       'Veyvah', nan, nan, 'Naifaru', nan, nan, nan, nan, 'Musleygihuraa',\n",
       "       nan, nan, 'Medhadhihuraa', nan, 'Gaavelifaru', 'Hinnavaru'],\n",
       "      dtype=object)"
      ]
     },
     "execution_count": 35,
     "metadata": {},
     "output_type": "execute_result"
    }
   ],
   "source": [
    "gdf['name:en'].way.values"
   ]
  },
  {
   "cell_type": "code",
   "execution_count": null,
   "metadata": {},
   "outputs": [],
   "source": [
    "islands = gdf['name:en'].way.values\n",
    "for island in islands:\n",
    "    if type(island) == str:\n",
    "        try:\n",
    "            PreTimeSeries(island, 'Maldives').main()\n",
    "        except:\n",
    "            continue"
   ]
  },
  {
   "cell_type": "code",
   "execution_count": 2,
   "metadata": {},
   "outputs": [
    {
     "data": {
      "text/plain": [
       "True"
      ]
     },
     "execution_count": 2,
     "metadata": {},
     "output_type": "execute_result"
    }
   ],
   "source": [
    "path_to_data = os.path.join(os.getcwd(), 'data', 'info_islands')\n",
    "\n",
    "latitude, longitude, colors, names, desc = [], [], [], [], []\n",
    "\n",
    "for file in os.listdir(path_to_data):\n",
    "    island = file.split('_')[1] \n",
    "    country = file.split('_')[2].split('.')[0]\n",
    "    island_info = retrieve_island_info(island, country, verbose=False)\n",
    "    latitude.append(island_info['spatial_reference']['latitude'])\n",
    "    longitude.append(island_info['spatial_reference']['longitude'])\n",
    "    names.append(island_info['general_info']['island'])\n",
    "\n",
    "    if 'visual_inspection' in island_info['general_info'].keys():\n",
    "        colors.append('blue')\n",
    "        desc.append('Visual inspection done')\n",
    "    \n",
    "    else:\n",
    "        if 'timeseries_coastsat' in island_info.keys():\n",
    "            if 'timeseries' in island_info['timeseries_coastsat'].keys():\n",
    "                colors.append('green')\n",
    "                desc.append('CoastSat time series available')\n",
    "            \n",
    "            else:\n",
    "                if os.path.exists(os.path.join(os.getcwd(), 'data', 'coastsat_data', island+'_'+country)):\n",
    "                    colors.append('orange')\n",
    "                    desc.append('CoastSat images are being downloaded')\n",
    "        \n",
    "        else:\n",
    "            if os.path.exists(os.path.join(os.getcwd(), 'data', 'coastsat_data', island+'_'+country)):\n",
    "                colors.append('orange')\n",
    "                desc.append('CoastSat images are being downloaded')\n",
    "            \n",
    "            else:\n",
    "                colors.append('red')\n",
    "                desc.append('CoastSat has not started downloading images yet')\n",
    "\n",
    "# Create a base map\n",
    "m = folium.Map(location=[sum(latitude) / len(latitude), sum(longitude) / len(longitude)], zoom_start=5)\n",
    "\n",
    "# Add markers for each point\n",
    "for lat, lon, color, name, des in zip(latitude, longitude, colors, names, desc):\n",
    "    folium.Marker([lat, lon], popup=str(name)+'\\n'+str(des), icon=folium.Icon(color=color)).add_to(m)\n",
    "\n",
    "# Save the map to an HTML file\n",
    "m.save('progress_island_mapping.html')\n",
    "\n",
    "# Open the map in a web browser\n",
    "webbrowser.open('progress_island_mapping.html')"
   ]
  },
  {
   "cell_type": "code",
   "execution_count": 28,
   "metadata": {},
   "outputs": [
    {
     "data": {
      "text/plain": [
       "True"
      ]
     },
     "execution_count": 28,
     "metadata": {},
     "output_type": "execute_result"
    }
   ],
   "source": [
    "import pyproj\n",
    "from bs4 import BeautifulSoup\n",
    "\n",
    "island = 'Vodamulaa'\n",
    "country = 'Maldives'\n",
    "\n",
    "island_info = retrieve_island_info(island, country, verbose=False)\n",
    "reference_shoreline = island_info['spatial_reference']['reference_shoreline']\n",
    "transects = island_info['spatial_reference']['transects']\n",
    "polygon_reference_shoreline = shapely.geometry.Polygon(reference_shoreline)\n",
    "\n",
    "latitude, longitude = island_info['spatial_reference']['latitude'], island_info['spatial_reference']['longitude']\n",
    "ts_analysis_results = island_info['timeseries_analysis']\n",
    "key_transects = [int((key).split('_')[3]) for key in ts_analysis_results.keys()]\n",
    "intersections = [polygon_reference_shoreline.exterior.intersection(shapely.geometry.LineString(transects[key_transect])) for key_transect in key_transects]\n",
    "x_intersections = [intersection.x for intersection in intersections]\n",
    "y_intersections = [intersection.y for intersection in intersections]\n",
    "\n",
    "m = folium.Map(location=[latitude, longitude], zoom_start=15)\n",
    "\n",
    "# Reproject the coordinates to the Web Mercator projection\n",
    "# Source and target coordinate reference systems\n",
    "tgt_crs = pyproj.CRS('EPSG:4326')\n",
    "src_crs = pyproj.CRS('EPSG:3857')\n",
    "\n",
    "# Define transformer\n",
    "transformer = pyproj.Transformer.from_crs(src_crs, tgt_crs, always_xy=True)\n",
    "\n",
    "# Transform latitude and longitude to x and y\n",
    "x_intersections, y_intersections = transformer.transform(x_intersections, y_intersections)\n",
    "\n",
    "# Transform reference shoreline to x and y\n",
    "x_reference_shoreline, y_reference_shoreline = transformer.transform(polygon_reference_shoreline.exterior.coords.xy[0], polygon_reference_shoreline.exterior.coords.xy[1])\n",
    "\n",
    "c_trend = [ts_analysis_results[val]['trend']['trend_slope'] for val in ts_analysis_results.keys()]\n",
    "symbols_trend = [ts_analysis_results[val]['trend']['trend_result'] for val in ts_analysis_results.keys()]\n",
    "\n",
    "# Add markers for each point with different shapes\n",
    "for lat, lon, symbol in zip(y_intersections, x_intersections, symbols_trend):\n",
    "    if symbol == \"increasing\":\n",
    "        icon = folium.Icon(color='green', icon='arrow-up')\n",
    "    elif symbol == \"decreasing\":\n",
    "        icon = folium.Icon(color='red', icon='arrow-down')\n",
    "    elif symbol == \"no trend\":\n",
    "        icon = folium.Icon(color='orange', icon='minus')\n",
    "    else:\n",
    "        icon = folium.Icon(color='black', icon='question-sign')\n",
    "\n",
    "    folium.Marker(\n",
    "        location=[lat, lon],\n",
    "        icon=icon\n",
    "    ).add_to(m)\n",
    "\n",
    "folium.PolyLine(np.dstack((y_reference_shoreline, x_reference_shoreline)), tooltip=\"Coast\", color='black').add_to(m)\n",
    "\n",
    "# Save the map to an HTML file\n",
    "m.save('results_islands_mapping.html')\n",
    "\n",
    "# Open the map in a web browser\n",
    "webbrowser.open('results_islands_mapping.html')"
   ]
  }
 ],
 "metadata": {
  "kernelspec": {
   "display_name": "IslandTime",
   "language": "python",
   "name": "python3"
  },
  "language_info": {
   "codemirror_mode": {
    "name": "ipython",
    "version": 3
   },
   "file_extension": ".py",
   "mimetype": "text/x-python",
   "name": "python",
   "nbconvert_exporter": "python",
   "pygments_lexer": "ipython3",
   "version": "3.12.2"
  }
 },
 "nbformat": 4,
 "nbformat_minor": 2
}
