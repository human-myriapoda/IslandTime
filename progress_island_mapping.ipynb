{
 "cells": [
  {
   "cell_type": "code",
   "execution_count": 7,
   "metadata": {},
   "outputs": [
    {
     "name": "stdout",
     "output_type": "stream",
     "text": [
      "The autoreload extension is already loaded. To reload it, use:\n",
      "  %reload_ext autoreload\n"
     ]
    }
   ],
   "source": [
    "from IslandTime import retrieve_island_info, PreTimeSeries\n",
    "import pandas as pd\n",
    "import numpy as np\n",
    "import matplotlib.pyplot as plt\n",
    "import seaborn as sns\n",
    "import os\n",
    "import folium\n",
    "import webbrowser\n",
    "import shapely\n",
    "\n",
    "import osmnx as ox\n",
    "%load_ext autoreload\n",
    "%autoreload 2"
   ]
  },
  {
   "cell_type": "code",
   "execution_count": 1,
   "metadata": {},
   "outputs": [],
   "source": [
    "import matplotlib.pyplot as plt\n",
    "import Rbeast as rb\n",
    "from datetime import datetime\n",
    "import os\n",
    "import numpy as np\n",
    "from tqdm import tqdm\n",
    "import matplotlib\n",
    "\n",
    "matplotlib.rcParams['mathtext.fontset'] = 'stix'\n",
    "matplotlib.rcParams['font.family'] = 'STIXGeneral'\n",
    "\n",
    "%load_ext autoreload\n",
    "%autoreload 2"
   ]
  },
  {
   "cell_type": "code",
   "execution_count": 2,
   "metadata": {},
   "outputs": [
    {
     "ename": "NameError",
     "evalue": "name 'Workflow' is not defined",
     "output_type": "error",
     "traceback": [
      "\u001b[1;31m---------------------------------------------------------------------------\u001b[0m",
      "\u001b[1;31mNameError\u001b[0m                                 Traceback (most recent call last)",
      "Cell \u001b[1;32mIn[2], line 11\u001b[0m\n\u001b[0;32m      2\u001b[0m country \u001b[38;5;241m=\u001b[39m \u001b[38;5;124m'\u001b[39m\u001b[38;5;124mMaldives\u001b[39m\u001b[38;5;124m'\u001b[39m\n\u001b[0;32m      4\u001b[0m \u001b[38;5;66;03m# Retrieve island info\u001b[39;00m\n\u001b[0;32m      5\u001b[0m \u001b[38;5;66;03m# island_info = retrieve_island_info(island, country, verbose=False)\u001b[39;00m\n\u001b[0;32m      6\u001b[0m \n\u001b[0;32m      7\u001b[0m \u001b[38;5;66;03m# ii = TimeSeriesCoastSat(island, country, distance_between_transects=5, reference_shoreline_transects_only=True, overwrite=True, retrieve_reference_shoreline_manually=True).main()\u001b[39;00m\n\u001b[0;32m      8\u001b[0m \n\u001b[0;32m      9\u001b[0m \u001b[38;5;66;03m# plot_shoreline_transects(island_info)\u001b[39;00m\n\u001b[1;32m---> 11\u001b[0m ii \u001b[38;5;241m=\u001b[39m \u001b[43mWorkflow\u001b[49m(island, country, run_all\u001b[38;5;241m=\u001b[39m\u001b[38;5;28;01mFalse\u001b[39;00m, execute_analysis\u001b[38;5;241m=\u001b[39m\u001b[38;5;28;01mTrue\u001b[39;00m, execute_preprocess\u001b[38;5;241m=\u001b[39m\u001b[38;5;28;01mTrue\u001b[39;00m, execute_segmentation\u001b[38;5;241m=\u001b[39m\u001b[38;5;28;01mTrue\u001b[39;00m, update_maps\u001b[38;5;241m=\u001b[39m\u001b[38;5;28;01mFalse\u001b[39;00m, small_island\u001b[38;5;241m=\u001b[39m\u001b[38;5;28;01mFalse\u001b[39;00m, overwrite_analysis\u001b[38;5;241m=\u001b[39m\u001b[38;5;28;01mTrue\u001b[39;00m)\u001b[38;5;241m.\u001b[39mmain()\n\u001b[0;32m     13\u001b[0m \u001b[38;5;66;03m# ii = Segmentation(island_info, list_sat=['S2'], find_polygons=True, save=False, plot_results=True, plot_all=True, time_series_only=True, animation_polygons=False).main()\u001b[39;00m\n\u001b[0;32m     14\u001b[0m \n\u001b[0;32m     15\u001b[0m \u001b[38;5;66;03m# all_dict = pd.read_pickle(os.path.join(os.getcwd(), 'data', 'coastsat_data', '{}_{}'.format(island, country), 'all_polygons_{}_{}.data'.format(island, country)))\u001b[39;00m\n",
      "\u001b[1;31mNameError\u001b[0m: name 'Workflow' is not defined"
     ]
    }
   ],
   "source": [
    "island = \"Kalhehutta\"\n",
    "country = 'Maldives'\n",
    "\n",
    "# Retrieve island info\n",
    "# island_info = retrieve_island_info(island, country, verbose=False)\n",
    "\n",
    "# ii = TimeSeriesCoastSat(island, country, distance_between_transects=5, reference_shoreline_transects_only=True, overwrite=True, retrieve_reference_shoreline_manually=True).main()\n",
    "\n",
    "# plot_shoreline_transects(island_info)\n",
    "\n",
    "ii = Workflow(island, country, run_all=False, execute_analysis=True, execute_preprocess=True, execute_segmentation=True, update_maps=False, small_island=False, overwrite_analysis=True).main()\n",
    "\n",
    "# ii = Segmentation(island_info, list_sat=['S2'], find_polygons=True, save=False, plot_results=True, plot_all=True, time_series_only=True, animation_polygons=False).main()\n",
    "\n",
    "# all_dict = pd.read_pickle(os.path.join(os.getcwd(), 'data', 'coastsat_data', '{}_{}'.format(island, country), 'all_polygons_{}_{}.data'.format(island, country)))"
   ]
  },
  {
   "cell_type": "code",
   "execution_count": 45,
   "metadata": {},
   "outputs": [],
   "source": [
    "west, north, east, south = 0.371334, 73.021905, 0.369146, 73.027527\n",
    "\n",
    "\n",
    "polygon_array = [[north, west],\n",
    "                  [south, west],\n",
    "                    [south, east],\n",
    "                      [north, east],\n",
    "                        [north, west]]"
   ]
  },
  {
   "cell_type": "code",
   "execution_count": 13,
   "metadata": {},
   "outputs": [
    {
     "name": "stdout",
     "output_type": "stream",
     "text": [
      "The autoreload extension is already loaded. To reload it, use:\n",
      "  %reload_ext autoreload\n",
      "\n",
      "-------------------------------------------------------------------\n",
      "Retrieving all information available for the island\n",
      "Island: Maavaarulu, Maldives\n",
      "-------------------------------------------------------------------\n",
      "\n",
      "~ The following information is available: ~\n",
      "\n",
      "general_info\n",
      "               island\n",
      "               country\n",
      "spatial_reference\n",
      "               latitude\n",
      "               longitude\n",
      "               polygon\n",
      "               reference_shoreline\n",
      "               transects\n",
      "               area_country\n",
      "image_collection_dict\n",
      "               description\n",
      "               S2\n",
      "               L7\n",
      "               L8\n",
      "               L9\n",
      "timeseries_CRW\n",
      "               description\n",
      "               description_timeseries\n",
      "               source\n",
      "               timeseries\n",
      "timeseries_nighttime_light\n",
      "               description\n",
      "               description_timeseries\n",
      "               source\n",
      "               timeseries\n",
      "timeseries_disasters\n",
      "               description\n",
      "               description_timeseries\n",
      "               source\n",
      "               database\n",
      "               timeseries\n",
      "               confounders\n",
      "timeseries_WorldBank\n",
      "               description\n",
      "               description_timeseries\n",
      "               source\n",
      "               timeseries\n",
      "timeseries_WHO\n",
      "               description\n",
      "               description_timeseries\n",
      "               source\n",
      "               timeseries\n",
      "timeseries_sea_level_anomaly\n",
      "               description\n",
      "               description_timeseries\n",
      "               source\n",
      "               units\n",
      "               timeseries\n",
      "timeseries_PMLV2\n",
      "               description\n",
      "               description_timeseries\n",
      "               source\n",
      "               units\n",
      "timeseries_PSMSL\n",
      "               description\n",
      "               description_timeseries\n",
      "               source\n",
      "               stations\n",
      "               timeseries\n",
      "timeseries_PSLGM\n",
      "               description\n",
      "               description_timeseries\n",
      "               source\n",
      "timeseries_coastsat\n",
      "               description\n",
      "               description_timeseries\n",
      "               source\n",
      "               inputs\n",
      "               settings\n",
      "               timeseries\n",
      "timeseries_ERA5\n",
      "               description\n",
      "               description_timeseries\n",
      "               source\n",
      "               timeseries_transect_specific\n",
      "               timeseries\n",
      "               units\n",
      "characteristics_ECU\n",
      "               description\n",
      "               source\n",
      "               transects_characteristics_ECU\n",
      "timeseries_vegetation\n",
      "               description\n",
      "               description_timeseries\n",
      "               source\n",
      "               mask_total_vegetation_L8\n",
      "               mask_coastal_vegetation_L8\n",
      "               mask_total_vegetation_L9\n",
      "               mask_coastal_vegetation_L9\n",
      "               mask_total_vegetation_S2\n",
      "               mask_coastal_vegetation_S2\n",
      "               timeseries\n",
      "timeseries_climate_indices\n",
      "               description\n",
      "               description_timeseries\n",
      "               source\n",
      "               timeseries\n",
      "timeseries_segmentation\n",
      "               dict_extraction\n",
      "               dict_best_polygons\n",
      "               dict_timeseries\n",
      "               timeseries\n",
      "timeseries_preprocessing\n",
      "               df_coastline_timeseries\n",
      "               raw\n",
      "               optimal time period\n",
      "timeseries_analysis\n",
      "               coastline_position_transect_0_waterline\n",
      "               coastline_position_transect_1_waterline\n",
      "               coastline_position_transect_2_waterline\n",
      "               coastline_position_transect_3_waterline\n",
      "               coastline_position_transect_4_waterline\n",
      "               coastline_position_transect_5_waterline\n",
      "               coastline_position_transect_6_waterline\n",
      "               coastline_position_transect_7_waterline\n",
      "               coastline_position_transect_8_waterline\n",
      "               coastline_position_transect_9_waterline\n",
      "               coastline_position_transect_10_waterline\n",
      "               coastline_position_transect_11_waterline\n",
      "               coastline_position_transect_12_waterline\n",
      "               coastline_position_transect_13_waterline\n",
      "               coastline_position_transect_14_waterline\n",
      "               coastline_position_transect_15_waterline\n",
      "               coastline_position_transect_16_waterline\n",
      "               coastline_position_transect_17_waterline\n",
      "               coastline_position_transect_18_waterline\n",
      "               coastline_position_transect_19_waterline\n",
      "               coastline_position_transect_20_waterline\n",
      "               coastline_position_transect_21_waterline\n",
      "               coastline_position_transect_22_waterline\n",
      "               coastline_position_transect_23_waterline\n",
      "               coastline_position_transect_24_waterline\n",
      "               coastline_position_transect_25_waterline\n",
      "               coastline_position_transect_26_waterline\n",
      "               coastline_position_transect_27_waterline\n",
      "               coastline_position_transect_28_waterline\n",
      "               coastline_position_transect_29_waterline\n",
      "               coastline_position_transect_30_waterline\n",
      "               coastline_position_transect_31_waterline\n",
      "               coastline_position_transect_32_waterline\n",
      "               coastline_position_transect_33_waterline\n",
      "               coastline_position_transect_34_waterline\n",
      "               coastline_position_transect_35_waterline\n",
      "               coastline_position_transect_36_waterline\n",
      "               coastline_position_transect_37_waterline\n",
      "               coastline_position_transect_38_waterline\n",
      "               coastline_position_transect_39_waterline\n",
      "               coastline_position_transect_40_waterline\n",
      "               coastline_position_transect_42_waterline\n",
      "               coastline_position_transect_43_waterline\n",
      "               coastline_position_transect_44_waterline\n",
      "               coastline_position_transect_45_waterline\n",
      "               coastline_position_transect_46_waterline\n",
      "               coastline_position_transect_47_waterline\n",
      "               coastline_position_transect_48_waterline\n",
      "               coastline_position_transect_49_waterline\n",
      "               coastline_position_transect_50_waterline\n",
      "               coastline_position_transect_51_waterline\n",
      "               coastline_position_transect_52_waterline\n",
      "               coastline_position_transect_53_waterline\n",
      "               coastline_position_transect_54_waterline\n",
      "               coastline_position_transect_55_waterline\n",
      "               coastline_position_transect_56_waterline\n",
      "               coastline_position_transect_57_waterline\n",
      "               coastline_position_transect_58_waterline\n",
      "               coastline_position_transect_59_waterline\n",
      "               coastline_position_transect_60_waterline\n",
      "               coastline_position_transect_61_waterline\n",
      "               coastline_position_transect_62_waterline\n",
      "               coastline_position_transect_63_waterline\n",
      "               coastline_position_transect_64_waterline\n",
      "               coastline_position_transect_65_waterline\n",
      "               coastline_position_transect_66_waterline\n",
      "               coastline_position_transect_67_waterline\n",
      "               coastline_position_transect_68_waterline\n",
      "               coastline_position_transect_69_waterline\n",
      "               coastline_position_transect_70_waterline\n",
      "               coastline_position_transect_71_waterline\n",
      "               coastline_position_transect_72_waterline\n",
      "               coastline_position_transect_73_waterline\n",
      "               coastline_position_transect_74_waterline\n",
      "               coastline_position_transect_75_waterline\n",
      "               coastline_position_transect_76_waterline\n",
      "               coastline_position_transect_77_waterline\n",
      "               coastline_position_transect_78_waterline\n",
      "               coastline_position_transect_79_waterline\n",
      "               coastline_position_transect_81_waterline\n",
      "               coastline_position_transect_82_waterline\n",
      "               coastline_position_transect_83_waterline\n",
      "               coastline_position_transect_85_waterline\n",
      "               coastline_position_transect_86_waterline\n",
      "               coastline_position_transect_87_waterline\n",
      "               coastline_position_transect_88_waterline\n",
      "               coastline_position_transect_89_waterline\n",
      "               coastline_position_transect_90_waterline\n",
      "               coastline_position_transect_91_waterline\n",
      "               coastline_position_transect_92_waterline\n",
      "               coastline_position_transect_94_waterline\n",
      "               coastline_position_transect_95_waterline\n",
      "               coastline_position_transect_96_waterline\n",
      "               coastline_position_transect_97_waterline\n",
      "               coastline_position_transect_98_waterline\n",
      "               coastline_position_transect_99_waterline\n",
      "               coastline_position_transect_100_waterline\n",
      "               coastline_position_transect_101_waterline\n",
      "               coastline_position_transect_102_waterline\n",
      "               coastline_position_transect_103_waterline\n",
      "               coastline_position_transect_104_waterline\n",
      "               coastline_position_transect_105_waterline\n",
      "               coastline_position_transect_106_waterline\n",
      "               coastline_position_transect_107_waterline\n",
      "               coastline_position_transect_108_waterline\n",
      "               coastline_position_transect_109_waterline\n",
      "               coastline_position_transect_110_waterline\n",
      "               coastline_position_transect_111_waterline\n",
      "               coastline_position_transect_112_waterline\n",
      "               coastline_position_transect_113_waterline\n",
      "               coastline_position_transect_114_waterline\n",
      "               coastline_position_transect_115_waterline\n",
      "               coastline_position_transect_116_waterline\n",
      "               coastline_position_transect_117_waterline\n",
      "               coastline_position_transect_118_waterline\n",
      "               coastline_position_transect_119_waterline\n",
      "               coastline_position_transect_120_waterline\n",
      "               coastline_position_transect_121_waterline\n",
      "               coastline_position_transect_122_waterline\n",
      "               coastline_position_transect_123_waterline\n",
      "               coastline_position_transect_124_waterline\n",
      "               coastline_position_transect_125_waterline\n",
      "               coastline_position_transect_126_waterline\n",
      "               coastline_position_transect_127_waterline\n",
      "               coastline_position_transect_128_waterline\n",
      "               coastline_position_transect_129_waterline\n",
      "               coastline_position_transect_130_waterline\n",
      "timeseries_aggregation\n",
      "               dict_results_agg_minima\n",
      "               dict_results_agg_peaks\n",
      "\n",
      "-------------------------------------------------------------------\n",
      "Retrieving CoastSat (coastline position along transects)\n",
      "Island: Maavaarulu, Maldives\n",
      "-------------------------------------------------------------------\n",
      "\n",
      "~ Retrieving reference shoreline from OpenStreetMap or manually. ~\n",
      "Reference shoreline already exists and was loaded\n",
      "Reference shoreline coordinates are in epsg:4326\n",
      "~ Creating transects separated by 5 m. ~\n",
      "\n",
      "-------------------------------------------------------------------\n",
      "Retrieving all information available for the island\n",
      "Island: Maavaarulu, Maldives\n",
      "-------------------------------------------------------------------\n",
      "\n",
      "~ The following information is available: ~\n",
      "\n",
      "general_info\n",
      "               island\n",
      "               country\n",
      "spatial_reference\n",
      "               latitude\n",
      "               longitude\n",
      "               polygon\n",
      "               reference_shoreline\n",
      "               transects\n",
      "               area_country\n",
      "image_collection_dict\n",
      "               description\n",
      "               S2\n",
      "               L7\n",
      "               L8\n",
      "               L9\n",
      "timeseries_CRW\n",
      "               description\n",
      "               description_timeseries\n",
      "               source\n",
      "               timeseries\n",
      "timeseries_nighttime_light\n",
      "               description\n",
      "               description_timeseries\n",
      "               source\n",
      "               timeseries\n",
      "timeseries_disasters\n",
      "               description\n",
      "               description_timeseries\n",
      "               source\n",
      "               database\n",
      "               timeseries\n",
      "               confounders\n",
      "timeseries_WorldBank\n",
      "               description\n",
      "               description_timeseries\n",
      "               source\n",
      "               timeseries\n",
      "timeseries_WHO\n",
      "               description\n",
      "               description_timeseries\n",
      "               source\n",
      "               timeseries\n",
      "timeseries_sea_level_anomaly\n",
      "               description\n",
      "               description_timeseries\n",
      "               source\n",
      "               units\n",
      "               timeseries\n",
      "timeseries_PMLV2\n",
      "               description\n",
      "               description_timeseries\n",
      "               source\n",
      "               units\n",
      "timeseries_PSMSL\n",
      "               description\n",
      "               description_timeseries\n",
      "               source\n",
      "               stations\n",
      "               timeseries\n",
      "timeseries_PSLGM\n",
      "               description\n",
      "               description_timeseries\n",
      "               source\n",
      "timeseries_coastsat\n",
      "               description\n",
      "               description_timeseries\n",
      "               source\n",
      "               inputs\n",
      "               settings\n",
      "               timeseries\n",
      "timeseries_ERA5\n",
      "               description\n",
      "               description_timeseries\n",
      "               source\n",
      "               timeseries_transect_specific\n",
      "               timeseries\n",
      "               units\n",
      "characteristics_ECU\n",
      "               description\n",
      "               source\n",
      "               transects_characteristics_ECU\n",
      "timeseries_vegetation\n",
      "               description\n",
      "               description_timeseries\n",
      "               source\n",
      "               mask_total_vegetation_L8\n",
      "               mask_coastal_vegetation_L8\n",
      "               mask_total_vegetation_L9\n",
      "               mask_coastal_vegetation_L9\n",
      "               mask_total_vegetation_S2\n",
      "               mask_coastal_vegetation_S2\n",
      "               timeseries\n",
      "timeseries_climate_indices\n",
      "               description\n",
      "               description_timeseries\n",
      "               source\n",
      "               timeseries\n",
      "timeseries_segmentation\n",
      "               dict_extraction\n",
      "               dict_best_polygons\n",
      "               dict_timeseries\n",
      "               timeseries\n",
      "timeseries_preprocessing\n",
      "               df_coastline_timeseries\n",
      "               raw\n",
      "               optimal time period\n",
      "timeseries_analysis\n",
      "               coastline_position_transect_0_waterline\n",
      "               coastline_position_transect_1_waterline\n",
      "               coastline_position_transect_2_waterline\n",
      "               coastline_position_transect_3_waterline\n",
      "               coastline_position_transect_4_waterline\n",
      "               coastline_position_transect_5_waterline\n",
      "               coastline_position_transect_6_waterline\n",
      "               coastline_position_transect_7_waterline\n",
      "               coastline_position_transect_8_waterline\n",
      "               coastline_position_transect_9_waterline\n",
      "               coastline_position_transect_10_waterline\n",
      "               coastline_position_transect_11_waterline\n",
      "               coastline_position_transect_12_waterline\n",
      "               coastline_position_transect_13_waterline\n",
      "               coastline_position_transect_14_waterline\n",
      "               coastline_position_transect_15_waterline\n",
      "               coastline_position_transect_16_waterline\n",
      "               coastline_position_transect_17_waterline\n",
      "               coastline_position_transect_18_waterline\n",
      "               coastline_position_transect_19_waterline\n",
      "               coastline_position_transect_20_waterline\n",
      "               coastline_position_transect_21_waterline\n",
      "               coastline_position_transect_22_waterline\n",
      "               coastline_position_transect_23_waterline\n",
      "               coastline_position_transect_24_waterline\n",
      "               coastline_position_transect_25_waterline\n",
      "               coastline_position_transect_26_waterline\n",
      "               coastline_position_transect_27_waterline\n",
      "               coastline_position_transect_28_waterline\n",
      "               coastline_position_transect_29_waterline\n",
      "               coastline_position_transect_30_waterline\n",
      "               coastline_position_transect_31_waterline\n",
      "               coastline_position_transect_32_waterline\n",
      "               coastline_position_transect_33_waterline\n",
      "               coastline_position_transect_34_waterline\n",
      "               coastline_position_transect_35_waterline\n",
      "               coastline_position_transect_36_waterline\n",
      "               coastline_position_transect_37_waterline\n",
      "               coastline_position_transect_38_waterline\n",
      "               coastline_position_transect_39_waterline\n",
      "               coastline_position_transect_40_waterline\n",
      "               coastline_position_transect_42_waterline\n",
      "               coastline_position_transect_43_waterline\n",
      "               coastline_position_transect_44_waterline\n",
      "               coastline_position_transect_45_waterline\n",
      "               coastline_position_transect_46_waterline\n",
      "               coastline_position_transect_47_waterline\n",
      "               coastline_position_transect_48_waterline\n",
      "               coastline_position_transect_49_waterline\n",
      "               coastline_position_transect_50_waterline\n",
      "               coastline_position_transect_51_waterline\n",
      "               coastline_position_transect_52_waterline\n",
      "               coastline_position_transect_53_waterline\n",
      "               coastline_position_transect_54_waterline\n",
      "               coastline_position_transect_55_waterline\n",
      "               coastline_position_transect_56_waterline\n",
      "               coastline_position_transect_57_waterline\n",
      "               coastline_position_transect_58_waterline\n",
      "               coastline_position_transect_59_waterline\n",
      "               coastline_position_transect_60_waterline\n",
      "               coastline_position_transect_61_waterline\n",
      "               coastline_position_transect_62_waterline\n",
      "               coastline_position_transect_63_waterline\n",
      "               coastline_position_transect_64_waterline\n",
      "               coastline_position_transect_65_waterline\n",
      "               coastline_position_transect_66_waterline\n",
      "               coastline_position_transect_67_waterline\n",
      "               coastline_position_transect_68_waterline\n",
      "               coastline_position_transect_69_waterline\n",
      "               coastline_position_transect_70_waterline\n",
      "               coastline_position_transect_71_waterline\n",
      "               coastline_position_transect_72_waterline\n",
      "               coastline_position_transect_73_waterline\n",
      "               coastline_position_transect_74_waterline\n",
      "               coastline_position_transect_75_waterline\n",
      "               coastline_position_transect_76_waterline\n",
      "               coastline_position_transect_77_waterline\n",
      "               coastline_position_transect_78_waterline\n",
      "               coastline_position_transect_79_waterline\n",
      "               coastline_position_transect_81_waterline\n",
      "               coastline_position_transect_82_waterline\n",
      "               coastline_position_transect_83_waterline\n",
      "               coastline_position_transect_85_waterline\n",
      "               coastline_position_transect_86_waterline\n",
      "               coastline_position_transect_87_waterline\n",
      "               coastline_position_transect_88_waterline\n",
      "               coastline_position_transect_89_waterline\n",
      "               coastline_position_transect_90_waterline\n",
      "               coastline_position_transect_91_waterline\n",
      "               coastline_position_transect_92_waterline\n",
      "               coastline_position_transect_94_waterline\n",
      "               coastline_position_transect_95_waterline\n",
      "               coastline_position_transect_96_waterline\n",
      "               coastline_position_transect_97_waterline\n",
      "               coastline_position_transect_98_waterline\n",
      "               coastline_position_transect_99_waterline\n",
      "               coastline_position_transect_100_waterline\n",
      "               coastline_position_transect_101_waterline\n",
      "               coastline_position_transect_102_waterline\n",
      "               coastline_position_transect_103_waterline\n",
      "               coastline_position_transect_104_waterline\n",
      "               coastline_position_transect_105_waterline\n",
      "               coastline_position_transect_106_waterline\n",
      "               coastline_position_transect_107_waterline\n",
      "               coastline_position_transect_108_waterline\n",
      "               coastline_position_transect_109_waterline\n",
      "               coastline_position_transect_110_waterline\n",
      "               coastline_position_transect_111_waterline\n",
      "               coastline_position_transect_112_waterline\n",
      "               coastline_position_transect_113_waterline\n",
      "               coastline_position_transect_114_waterline\n",
      "               coastline_position_transect_115_waterline\n",
      "               coastline_position_transect_116_waterline\n",
      "               coastline_position_transect_117_waterline\n",
      "               coastline_position_transect_118_waterline\n",
      "               coastline_position_transect_119_waterline\n",
      "               coastline_position_transect_120_waterline\n",
      "               coastline_position_transect_121_waterline\n",
      "               coastline_position_transect_122_waterline\n",
      "               coastline_position_transect_123_waterline\n",
      "               coastline_position_transect_124_waterline\n",
      "               coastline_position_transect_125_waterline\n",
      "               coastline_position_transect_126_waterline\n",
      "               coastline_position_transect_127_waterline\n",
      "               coastline_position_transect_128_waterline\n",
      "               coastline_position_transect_129_waterline\n",
      "               coastline_position_transect_130_waterline\n",
      "timeseries_aggregation\n",
      "               dict_results_agg_minima\n",
      "               dict_results_agg_peaks\n",
      "\n",
      "-------------------------------------------------------------------\n",
      "Segmentation of Maavaarulu, Maldives\n",
      "-------------------------------------------------------------------\n",
      "\n",
      "\n",
      "-------------------------------------------------------------------\n",
      "Time series pre-processing\n",
      "Island: Maavaarulu, Maldives\n",
      "-------------------------------------------------------------------\n",
      "\n",
      "Retrieving available time series\n",
      "Replacing outliers with NaN using z-score (abnormally high values)\n",
      "Grouping by frequency\n",
      "Filling NaN with rolling mean (only for time series with very few NaN)\n",
      "Retrieving coastline and other time series\n",
      "Creating dictionary for different time frames\n",
      "Finding optimal time period for each time frame for each transect\n",
      "Finding optimal time period for each time frame for each other time series\n",
      "\n",
      "-------------------------------------------------------------------\n",
      "Time series analysis\n",
      "Island: Maavaarulu, Maldives\n",
      "-------------------------------------------------------------------\n",
      "\n"
     ]
    },
    {
     "name": "stderr",
     "output_type": "stream",
     "text": [
      "Transect:   0%|          | 0/1283 [00:00<?, ?it/s]c:\\Users\\mp222\\OneDrive - Imperial College London\\IslandTimeGitHub\\IslandTime\\IslandTime\\TimeSeriesAnalysis.py:737: InterpolationWarning: The test statistic is outside of the range of p-values available in the\n",
      "look-up table. The actual p-value is greater than the p-value returned.\n",
      "\n",
      "  results = test(time_series.values)\n",
      "c:\\Users\\mp222\\OneDrive - Imperial College London\\IslandTimeGitHub\\IslandTime\\IslandTime\\TimeSeriesAnalysis.py:737: InterpolationWarning: The test statistic is outside of the range of p-values available in the\n",
      "look-up table. The actual p-value is greater than the p-value returned.\n",
      "\n",
      "  results = test(time_series.values)\n",
      "Transect:   0%|          | 2/1283 [00:00<01:34, 13.57it/s]c:\\Users\\mp222\\OneDrive - Imperial College London\\IslandTimeGitHub\\IslandTime\\IslandTime\\TimeSeriesAnalysis.py:737: InterpolationWarning: The test statistic is outside of the range of p-values available in the\n",
      "look-up table. The actual p-value is greater than the p-value returned.\n",
      "\n",
      "  results = test(time_series.values)\n",
      "c:\\Users\\mp222\\OneDrive - Imperial College London\\IslandTimeGitHub\\IslandTime\\IslandTime\\TimeSeriesAnalysis.py:737: InterpolationWarning: The test statistic is outside of the range of p-values available in the\n",
      "look-up table. The actual p-value is greater than the p-value returned.\n",
      "\n",
      "  results = test(time_series.values)\n",
      "Transect:   0%|          | 4/1283 [00:00<01:25, 14.90it/s]c:\\Users\\mp222\\OneDrive - Imperial College London\\IslandTimeGitHub\\IslandTime\\IslandTime\\TimeSeriesAnalysis.py:737: InterpolationWarning: The test statistic is outside of the range of p-values available in the\n",
      "look-up table. The actual p-value is greater than the p-value returned.\n",
      "\n",
      "  results = test(time_series.values)\n",
      "c:\\Users\\mp222\\OneDrive - Imperial College London\\IslandTimeGitHub\\IslandTime\\IslandTime\\TimeSeriesAnalysis.py:737: InterpolationWarning: The test statistic is outside of the range of p-values available in the\n",
      "look-up table. The actual p-value is greater than the p-value returned.\n",
      "\n",
      "  results = test(time_series.values)\n",
      "Transect:   0%|          | 6/1283 [00:00<01:20, 15.96it/s]c:\\Users\\mp222\\OneDrive - Imperial College London\\IslandTimeGitHub\\IslandTime\\IslandTime\\TimeSeriesAnalysis.py:737: InterpolationWarning: The test statistic is outside of the range of p-values available in the\n",
      "look-up table. The actual p-value is greater than the p-value returned.\n",
      "\n",
      "  results = test(time_series.values)\n",
      "c:\\Users\\mp222\\OneDrive - Imperial College London\\IslandTimeGitHub\\IslandTime\\IslandTime\\TimeSeriesAnalysis.py:737: InterpolationWarning: The test statistic is outside of the range of p-values available in the\n",
      "look-up table. The actual p-value is greater than the p-value returned.\n",
      "\n",
      "  results = test(time_series.values)\n",
      "Transect:   1%|          | 8/1283 [00:00<01:18, 16.28it/s]c:\\Users\\mp222\\OneDrive - Imperial College London\\IslandTimeGitHub\\IslandTime\\IslandTime\\TimeSeriesAnalysis.py:737: InterpolationWarning: The test statistic is outside of the range of p-values available in the\n",
      "look-up table. The actual p-value is greater than the p-value returned.\n",
      "\n",
      "  results = test(time_series.values)\n",
      "c:\\Users\\mp222\\OneDrive - Imperial College London\\IslandTimeGitHub\\IslandTime\\IslandTime\\TimeSeriesAnalysis.py:737: InterpolationWarning: The test statistic is outside of the range of p-values available in the\n",
      "look-up table. The actual p-value is greater than the p-value returned.\n",
      "\n",
      "  results = test(time_series.values)\n",
      "Transect:   1%|          | 10/1283 [00:00<01:18, 16.17it/s]c:\\Users\\mp222\\OneDrive - Imperial College London\\IslandTimeGitHub\\IslandTime\\IslandTime\\TimeSeriesAnalysis.py:737: InterpolationWarning: The test statistic is outside of the range of p-values available in the\n",
      "look-up table. The actual p-value is greater than the p-value returned.\n",
      "\n",
      "  results = test(time_series.values)\n",
      "c:\\Users\\mp222\\OneDrive - Imperial College London\\IslandTimeGitHub\\IslandTime\\IslandTime\\TimeSeriesAnalysis.py:737: InterpolationWarning: The test statistic is outside of the range of p-values available in the\n",
      "look-up table. The actual p-value is greater than the p-value returned.\n",
      "\n",
      "  results = test(time_series.values)\n",
      "Transect:   1%|          | 12/1283 [00:00<01:17, 16.34it/s]c:\\Users\\mp222\\OneDrive - Imperial College London\\IslandTimeGitHub\\IslandTime\\IslandTime\\TimeSeriesAnalysis.py:737: InterpolationWarning: The test statistic is outside of the range of p-values available in the\n",
      "look-up table. The actual p-value is greater than the p-value returned.\n",
      "\n",
      "  results = test(time_series.values)\n",
      "c:\\Users\\mp222\\OneDrive - Imperial College London\\IslandTimeGitHub\\IslandTime\\IslandTime\\TimeSeriesAnalysis.py:737: InterpolationWarning: The test statistic is outside of the range of p-values available in the\n",
      "look-up table. The actual p-value is greater than the p-value returned.\n",
      "\n",
      "  results = test(time_series.values)\n",
      "Transect:   1%|          | 14/1283 [00:00<01:21, 15.57it/s]c:\\Users\\mp222\\OneDrive - Imperial College London\\IslandTimeGitHub\\IslandTime\\IslandTime\\TimeSeriesAnalysis.py:737: InterpolationWarning: The test statistic is outside of the range of p-values available in the\n",
      "look-up table. The actual p-value is greater than the p-value returned.\n",
      "\n",
      "  results = test(time_series.values)\n",
      "c:\\Users\\mp222\\OneDrive - Imperial College London\\IslandTimeGitHub\\IslandTime\\IslandTime\\TimeSeriesAnalysis.py:737: InterpolationWarning: The test statistic is outside of the range of p-values available in the\n",
      "look-up table. The actual p-value is greater than the p-value returned.\n",
      "\n",
      "  results = test(time_series.values)\n",
      "Transect:   1%|          | 16/1283 [00:01<01:19, 15.90it/s]c:\\Users\\mp222\\OneDrive - Imperial College London\\IslandTimeGitHub\\IslandTime\\IslandTime\\TimeSeriesAnalysis.py:737: InterpolationWarning: The test statistic is outside of the range of p-values available in the\n",
      "look-up table. The actual p-value is greater than the p-value returned.\n",
      "\n",
      "  results = test(time_series.values)\n",
      "c:\\Users\\mp222\\OneDrive - Imperial College London\\IslandTimeGitHub\\IslandTime\\IslandTime\\TimeSeriesAnalysis.py:737: InterpolationWarning: The test statistic is outside of the range of p-values available in the\n",
      "look-up table. The actual p-value is greater than the p-value returned.\n",
      "\n",
      "  results = test(time_series.values)\n",
      "Transect:   1%|▏         | 18/1283 [00:01<01:19, 15.85it/s]c:\\Users\\mp222\\OneDrive - Imperial College London\\IslandTimeGitHub\\IslandTime\\IslandTime\\TimeSeriesAnalysis.py:737: InterpolationWarning: The test statistic is outside of the range of p-values available in the\n",
      "look-up table. The actual p-value is greater than the p-value returned.\n",
      "\n",
      "  results = test(time_series.values)\n",
      "c:\\Users\\mp222\\OneDrive - Imperial College London\\IslandTimeGitHub\\IslandTime\\IslandTime\\TimeSeriesAnalysis.py:737: InterpolationWarning: The test statistic is outside of the range of p-values available in the\n",
      "look-up table. The actual p-value is greater than the p-value returned.\n",
      "\n",
      "  results = test(time_series.values)\n",
      "Transect:   2%|▏         | 20/1283 [00:01<01:19, 15.82it/s]c:\\Users\\mp222\\OneDrive - Imperial College London\\IslandTimeGitHub\\IslandTime\\IslandTime\\TimeSeriesAnalysis.py:737: InterpolationWarning: The test statistic is outside of the range of p-values available in the\n",
      "look-up table. The actual p-value is greater than the p-value returned.\n",
      "\n",
      "  results = test(time_series.values)\n",
      "c:\\Users\\mp222\\OneDrive - Imperial College London\\IslandTimeGitHub\\IslandTime\\IslandTime\\TimeSeriesAnalysis.py:737: InterpolationWarning: The test statistic is outside of the range of p-values available in the\n",
      "look-up table. The actual p-value is greater than the p-value returned.\n",
      "\n",
      "  results = test(time_series.values)\n",
      "Transect:   2%|▏         | 22/1283 [00:01<01:21, 15.53it/s]c:\\Users\\mp222\\OneDrive - Imperial College London\\IslandTimeGitHub\\IslandTime\\IslandTime\\TimeSeriesAnalysis.py:737: InterpolationWarning: The test statistic is outside of the range of p-values available in the\n",
      "look-up table. The actual p-value is greater than the p-value returned.\n",
      "\n",
      "  results = test(time_series.values)\n",
      "c:\\Users\\mp222\\OneDrive - Imperial College London\\IslandTimeGitHub\\IslandTime\\IslandTime\\TimeSeriesAnalysis.py:737: InterpolationWarning: The test statistic is outside of the range of p-values available in the\n",
      "look-up table. The actual p-value is greater than the p-value returned.\n",
      "\n",
      "  results = test(time_series.values)\n",
      "Transect:   2%|▏         | 24/1283 [00:01<01:24, 14.89it/s]c:\\Users\\mp222\\OneDrive - Imperial College London\\IslandTimeGitHub\\IslandTime\\IslandTime\\TimeSeriesAnalysis.py:737: InterpolationWarning: The test statistic is outside of the range of p-values available in the\n",
      "look-up table. The actual p-value is greater than the p-value returned.\n",
      "\n",
      "  results = test(time_series.values)\n",
      "c:\\Users\\mp222\\OneDrive - Imperial College London\\IslandTimeGitHub\\IslandTime\\IslandTime\\TimeSeriesAnalysis.py:737: InterpolationWarning: The test statistic is outside of the range of p-values available in the\n",
      "look-up table. The actual p-value is greater than the p-value returned.\n",
      "\n",
      "  results = test(time_series.values)\n",
      "Transect:   2%|▏         | 26/1283 [00:01<01:22, 15.24it/s]c:\\Users\\mp222\\OneDrive - Imperial College London\\IslandTimeGitHub\\IslandTime\\IslandTime\\TimeSeriesAnalysis.py:737: InterpolationWarning: The test statistic is outside of the range of p-values available in the\n",
      "look-up table. The actual p-value is greater than the p-value returned.\n",
      "\n",
      "  results = test(time_series.values)\n",
      "c:\\Users\\mp222\\OneDrive - Imperial College London\\IslandTimeGitHub\\IslandTime\\IslandTime\\TimeSeriesAnalysis.py:737: InterpolationWarning: The test statistic is outside of the range of p-values available in the\n",
      "look-up table. The actual p-value is greater than the p-value returned.\n",
      "\n",
      "  results = test(time_series.values)\n",
      "Transect:   2%|▏         | 28/1283 [00:01<01:25, 14.66it/s]c:\\Users\\mp222\\OneDrive - Imperial College London\\IslandTimeGitHub\\IslandTime\\IslandTime\\TimeSeriesAnalysis.py:737: InterpolationWarning: The test statistic is outside of the range of p-values available in the\n",
      "look-up table. The actual p-value is greater than the p-value returned.\n",
      "\n",
      "  results = test(time_series.values)\n",
      "c:\\Users\\mp222\\OneDrive - Imperial College London\\IslandTimeGitHub\\IslandTime\\IslandTime\\TimeSeriesAnalysis.py:737: InterpolationWarning: The test statistic is outside of the range of p-values available in the\n",
      "look-up table. The actual p-value is greater than the p-value returned.\n",
      "\n",
      "  results = test(time_series.values)\n",
      "Transect:   2%|▏         | 30/1283 [00:01<01:26, 14.54it/s]c:\\Users\\mp222\\OneDrive - Imperial College London\\IslandTimeGitHub\\IslandTime\\IslandTime\\TimeSeriesAnalysis.py:737: InterpolationWarning: The test statistic is outside of the range of p-values available in the\n",
      "look-up table. The actual p-value is greater than the p-value returned.\n",
      "\n",
      "  results = test(time_series.values)\n",
      "c:\\Users\\mp222\\OneDrive - Imperial College London\\IslandTimeGitHub\\IslandTime\\IslandTime\\TimeSeriesAnalysis.py:737: InterpolationWarning: The test statistic is outside of the range of p-values available in the\n",
      "look-up table. The actual p-value is greater than the p-value returned.\n",
      "\n",
      "  results = test(time_series.values)\n",
      "Transect:   3%|▎         | 34/1283 [00:02<01:26, 14.50it/s]c:\\Users\\mp222\\OneDrive - Imperial College London\\IslandTimeGitHub\\IslandTime\\IslandTime\\TimeSeriesAnalysis.py:737: InterpolationWarning: The test statistic is outside of the range of p-values available in the\n",
      "look-up table. The actual p-value is greater than the p-value returned.\n",
      "\n",
      "  results = test(time_series.values)\n",
      "c:\\Users\\mp222\\OneDrive - Imperial College London\\IslandTimeGitHub\\IslandTime\\IslandTime\\TimeSeriesAnalysis.py:737: InterpolationWarning: The test statistic is outside of the range of p-values available in the\n",
      "look-up table. The actual p-value is greater than the p-value returned.\n",
      "\n",
      "  results = test(time_series.values)\n",
      "Transect:   3%|▎         | 36/1283 [00:02<01:23, 14.91it/s]c:\\Users\\mp222\\OneDrive - Imperial College London\\IslandTimeGitHub\\IslandTime\\IslandTime\\TimeSeriesAnalysis.py:737: InterpolationWarning: The test statistic is outside of the range of p-values available in the\n",
      "look-up table. The actual p-value is greater than the p-value returned.\n",
      "\n",
      "  results = test(time_series.values)\n",
      "c:\\Users\\mp222\\OneDrive - Imperial College London\\IslandTimeGitHub\\IslandTime\\IslandTime\\TimeSeriesAnalysis.py:737: InterpolationWarning: The test statistic is outside of the range of p-values available in the\n",
      "look-up table. The actual p-value is greater than the p-value returned.\n",
      "\n",
      "  results = test(time_series.values)\n",
      "Transect:   3%|▎         | 38/1283 [00:02<01:22, 15.09it/s]c:\\Users\\mp222\\OneDrive - Imperial College London\\IslandTimeGitHub\\IslandTime\\IslandTime\\TimeSeriesAnalysis.py:737: InterpolationWarning: The test statistic is outside of the range of p-values available in the\n",
      "look-up table. The actual p-value is greater than the p-value returned.\n",
      "\n",
      "  results = test(time_series.values)\n",
      "c:\\Users\\mp222\\OneDrive - Imperial College London\\IslandTimeGitHub\\IslandTime\\IslandTime\\TimeSeriesAnalysis.py:737: InterpolationWarning: The test statistic is outside of the range of p-values available in the\n",
      "look-up table. The actual p-value is greater than the p-value returned.\n",
      "\n",
      "  results = test(time_series.values)\n",
      "Transect:   3%|▎         | 40/1283 [00:02<01:20, 15.42it/s]c:\\Users\\mp222\\OneDrive - Imperial College London\\IslandTimeGitHub\\IslandTime\\IslandTime\\TimeSeriesAnalysis.py:737: InterpolationWarning: The test statistic is outside of the range of p-values available in the\n",
      "look-up table. The actual p-value is greater than the p-value returned.\n",
      "\n",
      "  results = test(time_series.values)\n",
      "c:\\Users\\mp222\\OneDrive - Imperial College London\\IslandTimeGitHub\\IslandTime\\IslandTime\\TimeSeriesAnalysis.py:737: InterpolationWarning: The test statistic is outside of the range of p-values available in the\n",
      "look-up table. The actual p-value is greater than the p-value returned.\n",
      "\n",
      "  results = test(time_series.values)\n",
      "Transect:   3%|▎         | 42/1283 [00:02<01:19, 15.70it/s]c:\\Users\\mp222\\OneDrive - Imperial College London\\IslandTimeGitHub\\IslandTime\\IslandTime\\TimeSeriesAnalysis.py:737: InterpolationWarning: The test statistic is outside of the range of p-values available in the\n",
      "look-up table. The actual p-value is greater than the p-value returned.\n",
      "\n",
      "  results = test(time_series.values)\n",
      "c:\\Users\\mp222\\OneDrive - Imperial College London\\IslandTimeGitHub\\IslandTime\\IslandTime\\TimeSeriesAnalysis.py:737: InterpolationWarning: The test statistic is outside of the range of p-values available in the\n",
      "look-up table. The actual p-value is greater than the p-value returned.\n",
      "\n",
      "  results = test(time_series.values)\n",
      "Transect:   3%|▎         | 44/1283 [00:02<01:18, 15.82it/s]c:\\Users\\mp222\\OneDrive - Imperial College London\\IslandTimeGitHub\\IslandTime\\IslandTime\\TimeSeriesAnalysis.py:737: InterpolationWarning: The test statistic is outside of the range of p-values available in the\n",
      "look-up table. The actual p-value is greater than the p-value returned.\n",
      "\n",
      "  results = test(time_series.values)\n",
      "c:\\Users\\mp222\\OneDrive - Imperial College London\\IslandTimeGitHub\\IslandTime\\IslandTime\\TimeSeriesAnalysis.py:737: InterpolationWarning: The test statistic is outside of the range of p-values available in the\n",
      "look-up table. The actual p-value is greater than the p-value returned.\n",
      "\n",
      "  results = test(time_series.values)\n",
      "Transect:   4%|▎         | 46/1283 [00:02<01:17, 15.93it/s]c:\\Users\\mp222\\OneDrive - Imperial College London\\IslandTimeGitHub\\IslandTime\\IslandTime\\TimeSeriesAnalysis.py:737: InterpolationWarning: The test statistic is outside of the range of p-values available in the\n",
      "look-up table. The actual p-value is greater than the p-value returned.\n",
      "\n",
      "  results = test(time_series.values)\n",
      "c:\\Users\\mp222\\OneDrive - Imperial College London\\IslandTimeGitHub\\IslandTime\\IslandTime\\TimeSeriesAnalysis.py:737: InterpolationWarning: The test statistic is outside of the range of p-values available in the\n",
      "look-up table. The actual p-value is greater than the p-value returned.\n",
      "\n",
      "  results = test(time_series.values)\n",
      "Transect:   4%|▎         | 48/1283 [00:03<01:23, 14.75it/s]c:\\Users\\mp222\\OneDrive - Imperial College London\\IslandTimeGitHub\\IslandTime\\IslandTime\\TimeSeriesAnalysis.py:737: InterpolationWarning: The test statistic is outside of the range of p-values available in the\n",
      "look-up table. The actual p-value is greater than the p-value returned.\n",
      "\n",
      "  results = test(time_series.values)\n",
      "c:\\Users\\mp222\\OneDrive - Imperial College London\\IslandTimeGitHub\\IslandTime\\IslandTime\\TimeSeriesAnalysis.py:737: InterpolationWarning: The test statistic is outside of the range of p-values available in the\n",
      "look-up table. The actual p-value is greater than the p-value returned.\n",
      "\n",
      "  results = test(time_series.values)\n",
      "Transect:   4%|▍         | 50/1283 [00:03<01:29, 13.85it/s]c:\\Users\\mp222\\OneDrive - Imperial College London\\IslandTimeGitHub\\IslandTime\\IslandTime\\TimeSeriesAnalysis.py:737: InterpolationWarning: The test statistic is outside of the range of p-values available in the\n",
      "look-up table. The actual p-value is greater than the p-value returned.\n",
      "\n",
      "  results = test(time_series.values)\n",
      "c:\\Users\\mp222\\OneDrive - Imperial College London\\IslandTimeGitHub\\IslandTime\\IslandTime\\TimeSeriesAnalysis.py:737: InterpolationWarning: The test statistic is outside of the range of p-values available in the\n",
      "look-up table. The actual p-value is greater than the p-value returned.\n",
      "\n",
      "  results = test(time_series.values)\n",
      "Transect:   4%|▍         | 52/1283 [00:03<01:31, 13.47it/s]c:\\Users\\mp222\\OneDrive - Imperial College London\\IslandTimeGitHub\\IslandTime\\IslandTime\\TimeSeriesAnalysis.py:737: InterpolationWarning: The test statistic is outside of the range of p-values available in the\n",
      "look-up table. The actual p-value is greater than the p-value returned.\n",
      "\n",
      "  results = test(time_series.values)\n",
      "c:\\Users\\mp222\\OneDrive - Imperial College London\\IslandTimeGitHub\\IslandTime\\IslandTime\\TimeSeriesAnalysis.py:737: InterpolationWarning: The test statistic is outside of the range of p-values available in the\n",
      "look-up table. The actual p-value is greater than the p-value returned.\n",
      "\n",
      "  results = test(time_series.values)\n",
      "Transect:   4%|▍         | 54/1283 [00:03<01:26, 14.23it/s]c:\\Users\\mp222\\OneDrive - Imperial College London\\IslandTimeGitHub\\IslandTime\\IslandTime\\TimeSeriesAnalysis.py:737: InterpolationWarning: The test statistic is outside of the range of p-values available in the\n",
      "look-up table. The actual p-value is greater than the p-value returned.\n",
      "\n",
      "  results = test(time_series.values)\n",
      "c:\\Users\\mp222\\OneDrive - Imperial College London\\IslandTimeGitHub\\IslandTime\\IslandTime\\TimeSeriesAnalysis.py:737: InterpolationWarning: The test statistic is outside of the range of p-values available in the\n",
      "look-up table. The actual p-value is greater than the p-value returned.\n",
      "\n",
      "  results = test(time_series.values)\n",
      "Transect:   4%|▍         | 56/1283 [00:03<01:27, 14.07it/s]c:\\Users\\mp222\\OneDrive - Imperial College London\\IslandTimeGitHub\\IslandTime\\IslandTime\\TimeSeriesAnalysis.py:737: InterpolationWarning: The test statistic is outside of the range of p-values available in the\n",
      "look-up table. The actual p-value is greater than the p-value returned.\n",
      "\n",
      "  results = test(time_series.values)\n",
      "c:\\Users\\mp222\\OneDrive - Imperial College London\\IslandTimeGitHub\\IslandTime\\IslandTime\\TimeSeriesAnalysis.py:737: InterpolationWarning: The test statistic is outside of the range of p-values available in the\n",
      "look-up table. The actual p-value is greater than the p-value returned.\n",
      "\n",
      "  results = test(time_series.values)\n",
      "Transect:   5%|▍         | 58/1283 [00:03<01:30, 13.48it/s]c:\\Users\\mp222\\OneDrive - Imperial College London\\IslandTimeGitHub\\IslandTime\\IslandTime\\TimeSeriesAnalysis.py:737: InterpolationWarning: The test statistic is outside of the range of p-values available in the\n",
      "look-up table. The actual p-value is greater than the p-value returned.\n",
      "\n",
      "  results = test(time_series.values)\n",
      "c:\\Users\\mp222\\OneDrive - Imperial College London\\IslandTimeGitHub\\IslandTime\\IslandTime\\TimeSeriesAnalysis.py:737: InterpolationWarning: The test statistic is outside of the range of p-values available in the\n",
      "look-up table. The actual p-value is greater than the p-value returned.\n",
      "\n",
      "  results = test(time_series.values)\n",
      "Transect:   5%|▍         | 60/1283 [00:04<01:26, 14.19it/s]c:\\Users\\mp222\\OneDrive - Imperial College London\\IslandTimeGitHub\\IslandTime\\IslandTime\\TimeSeriesAnalysis.py:737: InterpolationWarning: The test statistic is outside of the range of p-values available in the\n",
      "look-up table. The actual p-value is greater than the p-value returned.\n",
      "\n",
      "  results = test(time_series.values)\n",
      "c:\\Users\\mp222\\OneDrive - Imperial College London\\IslandTimeGitHub\\IslandTime\\IslandTime\\TimeSeriesAnalysis.py:737: InterpolationWarning: The test statistic is outside of the range of p-values available in the\n",
      "look-up table. The actual p-value is greater than the p-value returned.\n",
      "\n",
      "  results = test(time_series.values)\n",
      "Transect:   5%|▍         | 62/1283 [00:04<01:22, 14.75it/s]c:\\Users\\mp222\\OneDrive - Imperial College London\\IslandTimeGitHub\\IslandTime\\IslandTime\\TimeSeriesAnalysis.py:737: InterpolationWarning: The test statistic is outside of the range of p-values available in the\n",
      "look-up table. The actual p-value is greater than the p-value returned.\n",
      "\n",
      "  results = test(time_series.values)\n",
      "c:\\Users\\mp222\\OneDrive - Imperial College London\\IslandTimeGitHub\\IslandTime\\IslandTime\\TimeSeriesAnalysis.py:737: InterpolationWarning: The test statistic is outside of the range of p-values available in the\n",
      "look-up table. The actual p-value is greater than the p-value returned.\n",
      "\n",
      "  results = test(time_series.values)\n",
      "Transect:   5%|▍         | 64/1283 [00:04<01:19, 15.34it/s]c:\\Users\\mp222\\OneDrive - Imperial College London\\IslandTimeGitHub\\IslandTime\\IslandTime\\TimeSeriesAnalysis.py:737: InterpolationWarning: The test statistic is outside of the range of p-values available in the\n",
      "look-up table. The actual p-value is greater than the p-value returned.\n",
      "\n",
      "  results = test(time_series.values)\n",
      "c:\\Users\\mp222\\OneDrive - Imperial College London\\IslandTimeGitHub\\IslandTime\\IslandTime\\TimeSeriesAnalysis.py:737: InterpolationWarning: The test statistic is outside of the range of p-values available in the\n",
      "look-up table. The actual p-value is greater than the p-value returned.\n",
      "\n",
      "  results = test(time_series.values)\n",
      "Transect:   5%|▌         | 66/1283 [00:04<01:22, 14.68it/s]c:\\Users\\mp222\\OneDrive - Imperial College London\\IslandTimeGitHub\\IslandTime\\IslandTime\\TimeSeriesAnalysis.py:737: InterpolationWarning: The test statistic is outside of the range of p-values available in the\n",
      "look-up table. The actual p-value is greater than the p-value returned.\n",
      "\n",
      "  results = test(time_series.values)\n",
      "c:\\Users\\mp222\\OneDrive - Imperial College London\\IslandTimeGitHub\\IslandTime\\IslandTime\\TimeSeriesAnalysis.py:737: InterpolationWarning: The test statistic is outside of the range of p-values available in the\n",
      "look-up table. The actual p-value is greater than the p-value returned.\n",
      "\n",
      "  results = test(time_series.values)\n",
      "Transect:   5%|▌         | 68/1283 [00:04<01:26, 13.97it/s]c:\\Users\\mp222\\OneDrive - Imperial College London\\IslandTimeGitHub\\IslandTime\\IslandTime\\TimeSeriesAnalysis.py:737: InterpolationWarning: The test statistic is outside of the range of p-values available in the\n",
      "look-up table. The actual p-value is greater than the p-value returned.\n",
      "\n",
      "  results = test(time_series.values)\n",
      "c:\\Users\\mp222\\OneDrive - Imperial College London\\IslandTimeGitHub\\IslandTime\\IslandTime\\TimeSeriesAnalysis.py:737: InterpolationWarning: The test statistic is outside of the range of p-values available in the\n",
      "look-up table. The actual p-value is greater than the p-value returned.\n",
      "\n",
      "  results = test(time_series.values)\n",
      "Transect:   5%|▌         | 70/1283 [00:04<01:24, 14.34it/s]c:\\Users\\mp222\\OneDrive - Imperial College London\\IslandTimeGitHub\\IslandTime\\IslandTime\\TimeSeriesAnalysis.py:737: InterpolationWarning: The test statistic is outside of the range of p-values available in the\n",
      "look-up table. The actual p-value is greater than the p-value returned.\n",
      "\n",
      "  results = test(time_series.values)\n",
      "c:\\Users\\mp222\\OneDrive - Imperial College London\\IslandTimeGitHub\\IslandTime\\IslandTime\\TimeSeriesAnalysis.py:737: InterpolationWarning: The test statistic is outside of the range of p-values available in the\n",
      "look-up table. The actual p-value is greater than the p-value returned.\n",
      "\n",
      "  results = test(time_series.values)\n",
      "Transect:   6%|▌         | 72/1283 [00:04<01:22, 14.70it/s]c:\\Users\\mp222\\OneDrive - Imperial College London\\IslandTimeGitHub\\IslandTime\\IslandTime\\TimeSeriesAnalysis.py:737: InterpolationWarning: The test statistic is outside of the range of p-values available in the\n",
      "look-up table. The actual p-value is greater than the p-value returned.\n",
      "\n",
      "  results = test(time_series.values)\n",
      "c:\\Users\\mp222\\OneDrive - Imperial College London\\IslandTimeGitHub\\IslandTime\\IslandTime\\TimeSeriesAnalysis.py:737: InterpolationWarning: The test statistic is outside of the range of p-values available in the\n",
      "look-up table. The actual p-value is greater than the p-value returned.\n",
      "\n",
      "  results = test(time_series.values)\n",
      "Transect:   6%|▌         | 74/1283 [00:04<01:20, 15.03it/s]c:\\Users\\mp222\\OneDrive - Imperial College London\\IslandTimeGitHub\\IslandTime\\IslandTime\\TimeSeriesAnalysis.py:737: InterpolationWarning: The test statistic is outside of the range of p-values available in the\n",
      "look-up table. The actual p-value is greater than the p-value returned.\n",
      "\n",
      "  results = test(time_series.values)\n",
      "c:\\Users\\mp222\\OneDrive - Imperial College London\\IslandTimeGitHub\\IslandTime\\IslandTime\\TimeSeriesAnalysis.py:737: InterpolationWarning: The test statistic is outside of the range of p-values available in the\n",
      "look-up table. The actual p-value is greater than the p-value returned.\n",
      "\n",
      "  results = test(time_series.values)\n",
      "Transect:   6%|▌         | 76/1283 [00:05<01:19, 15.22it/s]c:\\Users\\mp222\\OneDrive - Imperial College London\\IslandTimeGitHub\\IslandTime\\IslandTime\\TimeSeriesAnalysis.py:737: InterpolationWarning: The test statistic is outside of the range of p-values available in the\n",
      "look-up table. The actual p-value is greater than the p-value returned.\n",
      "\n",
      "  results = test(time_series.values)\n",
      "c:\\Users\\mp222\\OneDrive - Imperial College London\\IslandTimeGitHub\\IslandTime\\IslandTime\\TimeSeriesAnalysis.py:737: InterpolationWarning: The test statistic is outside of the range of p-values available in the\n",
      "look-up table. The actual p-value is greater than the p-value returned.\n",
      "\n",
      "  results = test(time_series.values)\n",
      "Transect:   6%|▌         | 78/1283 [00:05<01:17, 15.48it/s]c:\\Users\\mp222\\OneDrive - Imperial College London\\IslandTimeGitHub\\IslandTime\\IslandTime\\TimeSeriesAnalysis.py:737: InterpolationWarning: The test statistic is outside of the range of p-values available in the\n",
      "look-up table. The actual p-value is greater than the p-value returned.\n",
      "\n",
      "  results = test(time_series.values)\n",
      "c:\\Users\\mp222\\OneDrive - Imperial College London\\IslandTimeGitHub\\IslandTime\\IslandTime\\TimeSeriesAnalysis.py:737: InterpolationWarning: The test statistic is outside of the range of p-values available in the\n",
      "look-up table. The actual p-value is greater than the p-value returned.\n",
      "\n",
      "  results = test(time_series.values)\n",
      "Transect:   6%|▌         | 80/1283 [00:05<01:19, 15.11it/s]c:\\Users\\mp222\\OneDrive - Imperial College London\\IslandTimeGitHub\\IslandTime\\IslandTime\\TimeSeriesAnalysis.py:737: InterpolationWarning: The test statistic is outside of the range of p-values available in the\n",
      "look-up table. The actual p-value is greater than the p-value returned.\n",
      "\n",
      "  results = test(time_series.values)\n",
      "c:\\Users\\mp222\\OneDrive - Imperial College London\\IslandTimeGitHub\\IslandTime\\IslandTime\\TimeSeriesAnalysis.py:737: InterpolationWarning: The test statistic is outside of the range of p-values available in the\n",
      "look-up table. The actual p-value is greater than the p-value returned.\n",
      "\n",
      "  results = test(time_series.values)\n",
      "Transect:   6%|▋         | 82/1283 [00:05<01:18, 15.33it/s]c:\\Users\\mp222\\OneDrive - Imperial College London\\IslandTimeGitHub\\IslandTime\\IslandTime\\TimeSeriesAnalysis.py:737: InterpolationWarning: The test statistic is outside of the range of p-values available in the\n",
      "look-up table. The actual p-value is greater than the p-value returned.\n",
      "\n",
      "  results = test(time_series.values)\n",
      "c:\\Users\\mp222\\OneDrive - Imperial College London\\IslandTimeGitHub\\IslandTime\\IslandTime\\TimeSeriesAnalysis.py:737: InterpolationWarning: The test statistic is outside of the range of p-values available in the\n",
      "look-up table. The actual p-value is greater than the p-value returned.\n",
      "\n",
      "  results = test(time_series.values)\n",
      "Transect:   7%|▋         | 84/1283 [00:05<01:18, 15.21it/s]c:\\Users\\mp222\\OneDrive - Imperial College London\\IslandTimeGitHub\\IslandTime\\IslandTime\\TimeSeriesAnalysis.py:737: InterpolationWarning: The test statistic is outside of the range of p-values available in the\n",
      "look-up table. The actual p-value is greater than the p-value returned.\n",
      "\n",
      "  results = test(time_series.values)\n",
      "c:\\Users\\mp222\\OneDrive - Imperial College London\\IslandTimeGitHub\\IslandTime\\IslandTime\\TimeSeriesAnalysis.py:737: InterpolationWarning: The test statistic is outside of the range of p-values available in the\n",
      "look-up table. The actual p-value is greater than the p-value returned.\n",
      "\n",
      "  results = test(time_series.values)\n",
      "Transect:   7%|▋         | 86/1283 [00:05<01:18, 15.15it/s]c:\\Users\\mp222\\OneDrive - Imperial College London\\IslandTimeGitHub\\IslandTime\\IslandTime\\TimeSeriesAnalysis.py:737: InterpolationWarning: The test statistic is outside of the range of p-values available in the\n",
      "look-up table. The actual p-value is greater than the p-value returned.\n",
      "\n",
      "  results = test(time_series.values)\n",
      "c:\\Users\\mp222\\OneDrive - Imperial College London\\IslandTimeGitHub\\IslandTime\\IslandTime\\TimeSeriesAnalysis.py:737: InterpolationWarning: The test statistic is outside of the range of p-values available in the\n",
      "look-up table. The actual p-value is greater than the p-value returned.\n",
      "\n",
      "  results = test(time_series.values)\n",
      "Transect:   7%|▋         | 88/1283 [00:05<01:21, 14.62it/s]c:\\Users\\mp222\\OneDrive - Imperial College London\\IslandTimeGitHub\\IslandTime\\IslandTime\\TimeSeriesAnalysis.py:737: InterpolationWarning: The test statistic is outside of the range of p-values available in the\n",
      "look-up table. The actual p-value is greater than the p-value returned.\n",
      "\n",
      "  results = test(time_series.values)\n",
      "Transect:   7%|▋         | 94/1283 [00:06<01:18, 15.08it/s]c:\\Users\\mp222\\OneDrive - Imperial College London\\IslandTimeGitHub\\IslandTime\\IslandTime\\TimeSeriesAnalysis.py:737: InterpolationWarning: The test statistic is outside of the range of p-values available in the\n",
      "look-up table. The actual p-value is greater than the p-value returned.\n",
      "\n",
      "  results = test(time_series.values)\n",
      "c:\\Users\\mp222\\OneDrive - Imperial College London\\IslandTimeGitHub\\IslandTime\\IslandTime\\TimeSeriesAnalysis.py:737: InterpolationWarning: The test statistic is outside of the range of p-values available in the\n",
      "look-up table. The actual p-value is greater than the p-value returned.\n",
      "\n",
      "  results = test(time_series.values)\n",
      "Transect:   7%|▋         | 96/1283 [00:06<01:19, 14.90it/s]c:\\Users\\mp222\\OneDrive - Imperial College London\\IslandTimeGitHub\\IslandTime\\IslandTime\\TimeSeriesAnalysis.py:737: InterpolationWarning: The test statistic is outside of the range of p-values available in the\n",
      "look-up table. The actual p-value is greater than the p-value returned.\n",
      "\n",
      "  results = test(time_series.values)\n",
      "c:\\Users\\mp222\\OneDrive - Imperial College London\\IslandTimeGitHub\\IslandTime\\IslandTime\\TimeSeriesAnalysis.py:737: InterpolationWarning: The test statistic is outside of the range of p-values available in the\n",
      "look-up table. The actual p-value is greater than the p-value returned.\n",
      "\n",
      "  results = test(time_series.values)\n",
      "Transect:   8%|▊         | 98/1283 [00:06<01:18, 15.01it/s]c:\\Users\\mp222\\OneDrive - Imperial College London\\IslandTimeGitHub\\IslandTime\\IslandTime\\TimeSeriesAnalysis.py:737: InterpolationWarning: The test statistic is outside of the range of p-values available in the\n",
      "look-up table. The actual p-value is greater than the p-value returned.\n",
      "\n",
      "  results = test(time_series.values)\n",
      "c:\\Users\\mp222\\OneDrive - Imperial College London\\IslandTimeGitHub\\IslandTime\\IslandTime\\TimeSeriesAnalysis.py:737: InterpolationWarning: The test statistic is outside of the range of p-values available in the\n",
      "look-up table. The actual p-value is greater than the p-value returned.\n",
      "\n",
      "  results = test(time_series.values)\n",
      "Transect:   8%|▊         | 100/1283 [00:06<01:18, 15.12it/s]c:\\Users\\mp222\\OneDrive - Imperial College London\\IslandTimeGitHub\\IslandTime\\IslandTime\\TimeSeriesAnalysis.py:737: InterpolationWarning: The test statistic is outside of the range of p-values available in the\n",
      "look-up table. The actual p-value is greater than the p-value returned.\n",
      "\n",
      "  results = test(time_series.values)\n",
      "c:\\Users\\mp222\\OneDrive - Imperial College London\\IslandTimeGitHub\\IslandTime\\IslandTime\\TimeSeriesAnalysis.py:737: InterpolationWarning: The test statistic is outside of the range of p-values available in the\n",
      "look-up table. The actual p-value is greater than the p-value returned.\n",
      "\n",
      "  results = test(time_series.values)\n",
      "Transect:   8%|▊         | 102/1283 [00:06<01:18, 15.06it/s]c:\\Users\\mp222\\OneDrive - Imperial College London\\IslandTimeGitHub\\IslandTime\\IslandTime\\TimeSeriesAnalysis.py:737: InterpolationWarning: The test statistic is outside of the range of p-values available in the\n",
      "look-up table. The actual p-value is greater than the p-value returned.\n",
      "\n",
      "  results = test(time_series.values)\n",
      "c:\\Users\\mp222\\OneDrive - Imperial College London\\IslandTimeGitHub\\IslandTime\\IslandTime\\TimeSeriesAnalysis.py:737: InterpolationWarning: The test statistic is outside of the range of p-values available in the\n",
      "look-up table. The actual p-value is greater than the p-value returned.\n",
      "\n",
      "  results = test(time_series.values)\n",
      "Transect:   8%|▊         | 104/1283 [00:06<01:19, 14.75it/s]c:\\Users\\mp222\\OneDrive - Imperial College London\\IslandTimeGitHub\\IslandTime\\IslandTime\\TimeSeriesAnalysis.py:737: InterpolationWarning: The test statistic is outside of the range of p-values available in the\n",
      "look-up table. The actual p-value is greater than the p-value returned.\n",
      "\n",
      "  results = test(time_series.values)\n",
      "c:\\Users\\mp222\\OneDrive - Imperial College London\\IslandTimeGitHub\\IslandTime\\IslandTime\\TimeSeriesAnalysis.py:737: InterpolationWarning: The test statistic is outside of the range of p-values available in the\n",
      "look-up table. The actual p-value is greater than the p-value returned.\n",
      "\n",
      "  results = test(time_series.values)\n",
      "Transect:   8%|▊         | 106/1283 [00:07<01:20, 14.68it/s]c:\\Users\\mp222\\OneDrive - Imperial College London\\IslandTimeGitHub\\IslandTime\\IslandTime\\TimeSeriesAnalysis.py:737: InterpolationWarning: The test statistic is outside of the range of p-values available in the\n",
      "look-up table. The actual p-value is greater than the p-value returned.\n",
      "\n",
      "  results = test(time_series.values)\n",
      "c:\\Users\\mp222\\OneDrive - Imperial College London\\IslandTimeGitHub\\IslandTime\\IslandTime\\TimeSeriesAnalysis.py:737: InterpolationWarning: The test statistic is outside of the range of p-values available in the\n",
      "look-up table. The actual p-value is greater than the p-value returned.\n",
      "\n",
      "  results = test(time_series.values)\n",
      "Transect:   9%|▊         | 112/1283 [00:07<01:22, 14.15it/s]c:\\Users\\mp222\\OneDrive - Imperial College London\\IslandTimeGitHub\\IslandTime\\IslandTime\\TimeSeriesAnalysis.py:737: InterpolationWarning: The test statistic is outside of the range of p-values available in the\n",
      "look-up table. The actual p-value is greater than the p-value returned.\n",
      "\n",
      "  results = test(time_series.values)\n",
      "Transect:   9%|▉         | 114/1283 [00:07<01:19, 14.63it/s]c:\\Users\\mp222\\OneDrive - Imperial College London\\IslandTimeGitHub\\IslandTime\\IslandTime\\TimeSeriesAnalysis.py:737: InterpolationWarning: The test statistic is outside of the range of p-values available in the\n",
      "look-up table. The actual p-value is greater than the p-value returned.\n",
      "\n",
      "  results = test(time_series.values)\n",
      "c:\\Users\\mp222\\OneDrive - Imperial College London\\IslandTimeGitHub\\IslandTime\\IslandTime\\TimeSeriesAnalysis.py:737: InterpolationWarning: The test statistic is outside of the range of p-values available in the\n",
      "look-up table. The actual p-value is greater than the p-value returned.\n",
      "\n",
      "  results = test(time_series.values)\n",
      "Transect:   9%|▉         | 116/1283 [00:07<01:24, 13.87it/s]c:\\Users\\mp222\\OneDrive - Imperial College London\\IslandTimeGitHub\\IslandTime\\IslandTime\\TimeSeriesAnalysis.py:737: InterpolationWarning: The test statistic is outside of the range of p-values available in the\n",
      "look-up table. The actual p-value is greater than the p-value returned.\n",
      "\n",
      "  results = test(time_series.values)\n",
      "c:\\Users\\mp222\\OneDrive - Imperial College London\\IslandTimeGitHub\\IslandTime\\IslandTime\\TimeSeriesAnalysis.py:737: InterpolationWarning: The test statistic is outside of the range of p-values available in the\n",
      "look-up table. The actual p-value is greater than the p-value returned.\n",
      "\n",
      "  results = test(time_series.values)\n",
      "Transect:   9%|▉         | 118/1283 [00:07<01:20, 14.53it/s]c:\\Users\\mp222\\OneDrive - Imperial College London\\IslandTimeGitHub\\IslandTime\\IslandTime\\TimeSeriesAnalysis.py:737: InterpolationWarning: The test statistic is outside of the range of p-values available in the\n",
      "look-up table. The actual p-value is greater than the p-value returned.\n",
      "\n",
      "  results = test(time_series.values)\n",
      "c:\\Users\\mp222\\OneDrive - Imperial College London\\IslandTimeGitHub\\IslandTime\\IslandTime\\TimeSeriesAnalysis.py:737: InterpolationWarning: The test statistic is outside of the range of p-values available in the\n",
      "look-up table. The actual p-value is greater than the p-value returned.\n",
      "\n",
      "  results = test(time_series.values)\n",
      "Transect:   9%|▉         | 120/1283 [00:08<01:19, 14.58it/s]c:\\Users\\mp222\\OneDrive - Imperial College London\\IslandTimeGitHub\\IslandTime\\IslandTime\\TimeSeriesAnalysis.py:737: InterpolationWarning: The test statistic is outside of the range of p-values available in the\n",
      "look-up table. The actual p-value is greater than the p-value returned.\n",
      "\n",
      "  results = test(time_series.values)\n",
      "c:\\Users\\mp222\\OneDrive - Imperial College London\\IslandTimeGitHub\\IslandTime\\IslandTime\\TimeSeriesAnalysis.py:737: InterpolationWarning: The test statistic is outside of the range of p-values available in the\n",
      "look-up table. The actual p-value is greater than the p-value returned.\n",
      "\n",
      "  results = test(time_series.values)\n",
      "Transect:  10%|▉         | 122/1283 [00:08<01:18, 14.84it/s]c:\\Users\\mp222\\OneDrive - Imperial College London\\IslandTimeGitHub\\IslandTime\\IslandTime\\TimeSeriesAnalysis.py:737: InterpolationWarning: The test statistic is outside of the range of p-values available in the\n",
      "look-up table. The actual p-value is greater than the p-value returned.\n",
      "\n",
      "  results = test(time_series.values)\n",
      "c:\\Users\\mp222\\OneDrive - Imperial College London\\IslandTimeGitHub\\IslandTime\\IslandTime\\TimeSeriesAnalysis.py:737: InterpolationWarning: The test statistic is outside of the range of p-values available in the\n",
      "look-up table. The actual p-value is greater than the p-value returned.\n",
      "\n",
      "  results = test(time_series.values)\n",
      "Transect:  10%|▉         | 124/1283 [00:08<01:18, 14.68it/s]c:\\Users\\mp222\\OneDrive - Imperial College London\\IslandTimeGitHub\\IslandTime\\IslandTime\\TimeSeriesAnalysis.py:737: InterpolationWarning: The test statistic is outside of the range of p-values available in the\n",
      "look-up table. The actual p-value is greater than the p-value returned.\n",
      "\n",
      "  results = test(time_series.values)\n",
      "c:\\Users\\mp222\\OneDrive - Imperial College London\\IslandTimeGitHub\\IslandTime\\IslandTime\\TimeSeriesAnalysis.py:737: InterpolationWarning: The test statistic is outside of the range of p-values available in the\n",
      "look-up table. The actual p-value is greater than the p-value returned.\n",
      "\n",
      "  results = test(time_series.values)\n",
      "Transect:  10%|▉         | 126/1283 [00:08<01:16, 15.05it/s]c:\\Users\\mp222\\OneDrive - Imperial College London\\IslandTimeGitHub\\IslandTime\\IslandTime\\TimeSeriesAnalysis.py:737: InterpolationWarning: The test statistic is outside of the range of p-values available in the\n",
      "look-up table. The actual p-value is greater than the p-value returned.\n",
      "\n",
      "  results = test(time_series.values)\n",
      "c:\\Users\\mp222\\OneDrive - Imperial College London\\IslandTimeGitHub\\IslandTime\\IslandTime\\TimeSeriesAnalysis.py:737: InterpolationWarning: The test statistic is outside of the range of p-values available in the\n",
      "look-up table. The actual p-value is greater than the p-value returned.\n",
      "\n",
      "  results = test(time_series.values)\n",
      "Transect:  10%|▉         | 128/1283 [00:08<01:16, 15.20it/s]c:\\Users\\mp222\\OneDrive - Imperial College London\\IslandTimeGitHub\\IslandTime\\IslandTime\\TimeSeriesAnalysis.py:737: InterpolationWarning: The test statistic is outside of the range of p-values available in the\n",
      "look-up table. The actual p-value is greater than the p-value returned.\n",
      "\n",
      "  results = test(time_series.values)\n",
      "c:\\Users\\mp222\\OneDrive - Imperial College London\\IslandTimeGitHub\\IslandTime\\IslandTime\\TimeSeriesAnalysis.py:737: InterpolationWarning: The test statistic is outside of the range of p-values available in the\n",
      "look-up table. The actual p-value is greater than the p-value returned.\n",
      "\n",
      "  results = test(time_series.values)\n",
      "Transect:  10%|█         | 130/1283 [00:08<01:22, 14.03it/s]c:\\Users\\mp222\\OneDrive - Imperial College London\\IslandTimeGitHub\\IslandTime\\IslandTime\\TimeSeriesAnalysis.py:737: InterpolationWarning: The test statistic is outside of the range of p-values available in the\n",
      "look-up table. The actual p-value is greater than the p-value returned.\n",
      "\n",
      "  results = test(time_series.values)\n",
      "c:\\Users\\mp222\\OneDrive - Imperial College London\\IslandTimeGitHub\\IslandTime\\IslandTime\\TimeSeriesAnalysis.py:737: InterpolationWarning: The test statistic is outside of the range of p-values available in the\n",
      "look-up table. The actual p-value is greater than the p-value returned.\n",
      "\n",
      "  results = test(time_series.values)\n",
      "Transect:  10%|█         | 132/1283 [00:08<01:22, 13.99it/s]c:\\Users\\mp222\\OneDrive - Imperial College London\\IslandTimeGitHub\\IslandTime\\IslandTime\\TimeSeriesAnalysis.py:737: InterpolationWarning: The test statistic is outside of the range of p-values available in the\n",
      "look-up table. The actual p-value is greater than the p-value returned.\n",
      "\n",
      "  results = test(time_series.values)\n",
      "c:\\Users\\mp222\\OneDrive - Imperial College London\\IslandTimeGitHub\\IslandTime\\IslandTime\\TimeSeriesAnalysis.py:737: InterpolationWarning: The test statistic is outside of the range of p-values available in the\n",
      "look-up table. The actual p-value is greater than the p-value returned.\n",
      "\n",
      "  results = test(time_series.values)\n",
      "Transect:  10%|█         | 134/1283 [00:09<01:19, 14.54it/s]c:\\Users\\mp222\\OneDrive - Imperial College London\\IslandTimeGitHub\\IslandTime\\IslandTime\\TimeSeriesAnalysis.py:737: InterpolationWarning: The test statistic is outside of the range of p-values available in the\n",
      "look-up table. The actual p-value is greater than the p-value returned.\n",
      "\n",
      "  results = test(time_series.values)\n",
      "c:\\Users\\mp222\\OneDrive - Imperial College London\\IslandTimeGitHub\\IslandTime\\IslandTime\\TimeSeriesAnalysis.py:737: InterpolationWarning: The test statistic is outside of the range of p-values available in the\n",
      "look-up table. The actual p-value is greater than the p-value returned.\n",
      "\n",
      "  results = test(time_series.values)\n",
      "Transect:  11%|█         | 136/1283 [00:09<01:17, 14.81it/s]c:\\Users\\mp222\\OneDrive - Imperial College London\\IslandTimeGitHub\\IslandTime\\IslandTime\\TimeSeriesAnalysis.py:737: InterpolationWarning: The test statistic is outside of the range of p-values available in the\n",
      "look-up table. The actual p-value is greater than the p-value returned.\n",
      "\n",
      "  results = test(time_series.values)\n",
      "c:\\Users\\mp222\\OneDrive - Imperial College London\\IslandTimeGitHub\\IslandTime\\IslandTime\\TimeSeriesAnalysis.py:737: InterpolationWarning: The test statistic is outside of the range of p-values available in the\n",
      "look-up table. The actual p-value is greater than the p-value returned.\n",
      "\n",
      "  results = test(time_series.values)\n",
      "Transect:  11%|█         | 138/1283 [00:09<01:16, 15.01it/s]c:\\Users\\mp222\\OneDrive - Imperial College London\\IslandTimeGitHub\\IslandTime\\IslandTime\\TimeSeriesAnalysis.py:737: InterpolationWarning: The test statistic is outside of the range of p-values available in the\n",
      "look-up table. The actual p-value is greater than the p-value returned.\n",
      "\n",
      "  results = test(time_series.values)\n",
      "c:\\Users\\mp222\\OneDrive - Imperial College London\\IslandTimeGitHub\\IslandTime\\IslandTime\\TimeSeriesAnalysis.py:737: InterpolationWarning: The test statistic is outside of the range of p-values available in the\n",
      "look-up table. The actual p-value is greater than the p-value returned.\n",
      "\n",
      "  results = test(time_series.values)\n",
      "Transect:  11%|█         | 140/1283 [00:09<01:15, 15.09it/s]c:\\Users\\mp222\\OneDrive - Imperial College London\\IslandTimeGitHub\\IslandTime\\IslandTime\\TimeSeriesAnalysis.py:737: InterpolationWarning: The test statistic is outside of the range of p-values available in the\n",
      "look-up table. The actual p-value is greater than the p-value returned.\n",
      "\n",
      "  results = test(time_series.values)\n",
      "c:\\Users\\mp222\\OneDrive - Imperial College London\\IslandTimeGitHub\\IslandTime\\IslandTime\\TimeSeriesAnalysis.py:737: InterpolationWarning: The test statistic is outside of the range of p-values available in the\n",
      "look-up table. The actual p-value is greater than the p-value returned.\n",
      "\n",
      "  results = test(time_series.values)\n",
      "Transect:  11%|█         | 142/1283 [00:09<01:15, 15.04it/s]c:\\Users\\mp222\\OneDrive - Imperial College London\\IslandTimeGitHub\\IslandTime\\IslandTime\\TimeSeriesAnalysis.py:737: InterpolationWarning: The test statistic is outside of the range of p-values available in the\n",
      "look-up table. The actual p-value is greater than the p-value returned.\n",
      "\n",
      "  results = test(time_series.values)\n",
      "c:\\Users\\mp222\\OneDrive - Imperial College London\\IslandTimeGitHub\\IslandTime\\IslandTime\\TimeSeriesAnalysis.py:737: InterpolationWarning: The test statistic is outside of the range of p-values available in the\n",
      "look-up table. The actual p-value is greater than the p-value returned.\n",
      "\n",
      "  results = test(time_series.values)\n",
      "Transect:  11%|█         | 144/1283 [00:09<01:15, 15.18it/s]c:\\Users\\mp222\\OneDrive - Imperial College London\\IslandTimeGitHub\\IslandTime\\IslandTime\\TimeSeriesAnalysis.py:737: InterpolationWarning: The test statistic is outside of the range of p-values available in the\n",
      "look-up table. The actual p-value is greater than the p-value returned.\n",
      "\n",
      "  results = test(time_series.values)\n",
      "c:\\Users\\mp222\\OneDrive - Imperial College London\\IslandTimeGitHub\\IslandTime\\IslandTime\\TimeSeriesAnalysis.py:737: InterpolationWarning: The test statistic is outside of the range of p-values available in the\n",
      "look-up table. The actual p-value is greater than the p-value returned.\n",
      "\n",
      "  results = test(time_series.values)\n",
      "Transect:  11%|█▏        | 146/1283 [00:09<01:19, 14.25it/s]c:\\Users\\mp222\\OneDrive - Imperial College London\\IslandTimeGitHub\\IslandTime\\IslandTime\\TimeSeriesAnalysis.py:737: InterpolationWarning: The test statistic is outside of the range of p-values available in the\n",
      "look-up table. The actual p-value is greater than the p-value returned.\n",
      "\n",
      "  results = test(time_series.values)\n",
      "c:\\Users\\mp222\\OneDrive - Imperial College London\\IslandTimeGitHub\\IslandTime\\IslandTime\\TimeSeriesAnalysis.py:737: InterpolationWarning: The test statistic is outside of the range of p-values available in the\n",
      "look-up table. The actual p-value is greater than the p-value returned.\n",
      "\n",
      "  results = test(time_series.values)\n",
      "Transect:  12%|█▏        | 148/1283 [00:09<01:16, 14.86it/s]c:\\Users\\mp222\\OneDrive - Imperial College London\\IslandTimeGitHub\\IslandTime\\IslandTime\\TimeSeriesAnalysis.py:737: InterpolationWarning: The test statistic is outside of the range of p-values available in the\n",
      "look-up table. The actual p-value is greater than the p-value returned.\n",
      "\n",
      "  results = test(time_series.values)\n",
      "c:\\Users\\mp222\\OneDrive - Imperial College London\\IslandTimeGitHub\\IslandTime\\IslandTime\\TimeSeriesAnalysis.py:737: InterpolationWarning: The test statistic is outside of the range of p-values available in the\n",
      "look-up table. The actual p-value is greater than the p-value returned.\n",
      "\n",
      "  results = test(time_series.values)\n",
      "Transect:  12%|█▏        | 150/1283 [00:10<01:13, 15.33it/s]c:\\Users\\mp222\\OneDrive - Imperial College London\\IslandTimeGitHub\\IslandTime\\IslandTime\\TimeSeriesAnalysis.py:737: InterpolationWarning: The test statistic is outside of the range of p-values available in the\n",
      "look-up table. The actual p-value is greater than the p-value returned.\n",
      "\n",
      "  results = test(time_series.values)\n",
      "c:\\Users\\mp222\\OneDrive - Imperial College London\\IslandTimeGitHub\\IslandTime\\IslandTime\\TimeSeriesAnalysis.py:737: InterpolationWarning: The test statistic is outside of the range of p-values available in the\n",
      "look-up table. The actual p-value is greater than the p-value returned.\n",
      "\n",
      "  results = test(time_series.values)\n",
      "Transect:  12%|█▏        | 152/1283 [00:10<01:13, 15.36it/s]c:\\Users\\mp222\\OneDrive - Imperial College London\\IslandTimeGitHub\\IslandTime\\IslandTime\\TimeSeriesAnalysis.py:737: InterpolationWarning: The test statistic is outside of the range of p-values available in the\n",
      "look-up table. The actual p-value is greater than the p-value returned.\n",
      "\n",
      "  results = test(time_series.values)\n",
      "Transect:  12%|█▏        | 154/1283 [00:10<01:12, 15.64it/s]c:\\Users\\mp222\\OneDrive - Imperial College London\\IslandTimeGitHub\\IslandTime\\IslandTime\\TimeSeriesAnalysis.py:737: InterpolationWarning: The test statistic is outside of the range of p-values available in the\n",
      "look-up table. The actual p-value is greater than the p-value returned.\n",
      "\n",
      "  results = test(time_series.values)\n",
      "Transect:  12%|█▏        | 156/1283 [00:10<01:11, 15.74it/s]c:\\Users\\mp222\\OneDrive - Imperial College London\\IslandTimeGitHub\\IslandTime\\IslandTime\\TimeSeriesAnalysis.py:737: InterpolationWarning: The test statistic is outside of the range of p-values available in the\n",
      "look-up table. The actual p-value is greater than the p-value returned.\n",
      "\n",
      "  results = test(time_series.values)\n",
      "c:\\Users\\mp222\\OneDrive - Imperial College London\\IslandTimeGitHub\\IslandTime\\IslandTime\\TimeSeriesAnalysis.py:737: InterpolationWarning: The test statistic is outside of the range of p-values available in the\n",
      "look-up table. The actual p-value is greater than the p-value returned.\n",
      "\n",
      "  results = test(time_series.values)\n",
      "Transect:  12%|█▏        | 158/1283 [00:10<01:10, 16.05it/s]c:\\Users\\mp222\\OneDrive - Imperial College London\\IslandTimeGitHub\\IslandTime\\IslandTime\\TimeSeriesAnalysis.py:737: InterpolationWarning: The test statistic is outside of the range of p-values available in the\n",
      "look-up table. The actual p-value is greater than the p-value returned.\n",
      "\n",
      "  results = test(time_series.values)\n",
      "c:\\Users\\mp222\\OneDrive - Imperial College London\\IslandTimeGitHub\\IslandTime\\IslandTime\\TimeSeriesAnalysis.py:737: InterpolationWarning: The test statistic is outside of the range of p-values available in the\n",
      "look-up table. The actual p-value is greater than the p-value returned.\n",
      "\n",
      "  results = test(time_series.values)\n",
      "Transect:  12%|█▏        | 160/1283 [00:10<01:12, 15.58it/s]c:\\Users\\mp222\\OneDrive - Imperial College London\\IslandTimeGitHub\\IslandTime\\IslandTime\\TimeSeriesAnalysis.py:737: InterpolationWarning: The test statistic is outside of the range of p-values available in the\n",
      "look-up table. The actual p-value is greater than the p-value returned.\n",
      "\n",
      "  results = test(time_series.values)\n",
      "c:\\Users\\mp222\\OneDrive - Imperial College London\\IslandTimeGitHub\\IslandTime\\IslandTime\\TimeSeriesAnalysis.py:737: InterpolationWarning: The test statistic is outside of the range of p-values available in the\n",
      "look-up table. The actual p-value is greater than the p-value returned.\n",
      "\n",
      "  results = test(time_series.values)\n",
      "Transect:  13%|█▎        | 162/1283 [00:10<01:14, 14.97it/s]c:\\Users\\mp222\\OneDrive - Imperial College London\\IslandTimeGitHub\\IslandTime\\IslandTime\\TimeSeriesAnalysis.py:737: InterpolationWarning: The test statistic is outside of the range of p-values available in the\n",
      "look-up table. The actual p-value is greater than the p-value returned.\n",
      "\n",
      "  results = test(time_series.values)\n",
      "c:\\Users\\mp222\\OneDrive - Imperial College London\\IslandTimeGitHub\\IslandTime\\IslandTime\\TimeSeriesAnalysis.py:737: InterpolationWarning: The test statistic is outside of the range of p-values available in the\n",
      "look-up table. The actual p-value is greater than the p-value returned.\n",
      "\n",
      "  results = test(time_series.values)\n",
      "Transect:  13%|█▎        | 164/1283 [00:11<01:16, 14.59it/s]c:\\Users\\mp222\\OneDrive - Imperial College London\\IslandTimeGitHub\\IslandTime\\IslandTime\\TimeSeriesAnalysis.py:737: InterpolationWarning: The test statistic is outside of the range of p-values available in the\n",
      "look-up table. The actual p-value is greater than the p-value returned.\n",
      "\n",
      "  results = test(time_series.values)\n",
      "c:\\Users\\mp222\\OneDrive - Imperial College London\\IslandTimeGitHub\\IslandTime\\IslandTime\\TimeSeriesAnalysis.py:737: InterpolationWarning: The test statistic is outside of the range of p-values available in the\n",
      "look-up table. The actual p-value is greater than the p-value returned.\n",
      "\n",
      "  results = test(time_series.values)\n",
      "Transect:  13%|█▎        | 166/1283 [00:11<01:17, 14.37it/s]c:\\Users\\mp222\\OneDrive - Imperial College London\\IslandTimeGitHub\\IslandTime\\IslandTime\\TimeSeriesAnalysis.py:737: InterpolationWarning: The test statistic is outside of the range of p-values available in the\n",
      "look-up table. The actual p-value is greater than the p-value returned.\n",
      "\n",
      "  results = test(time_series.values)\n",
      "c:\\Users\\mp222\\OneDrive - Imperial College London\\IslandTimeGitHub\\IslandTime\\IslandTime\\TimeSeriesAnalysis.py:737: InterpolationWarning: The test statistic is outside of the range of p-values available in the\n",
      "look-up table. The actual p-value is greater than the p-value returned.\n",
      "\n",
      "  results = test(time_series.values)\n",
      "Transect:  13%|█▎        | 168/1283 [00:11<01:16, 14.63it/s]c:\\Users\\mp222\\OneDrive - Imperial College London\\IslandTimeGitHub\\IslandTime\\IslandTime\\TimeSeriesAnalysis.py:737: InterpolationWarning: The test statistic is outside of the range of p-values available in the\n",
      "look-up table. The actual p-value is greater than the p-value returned.\n",
      "\n",
      "  results = test(time_series.values)\n",
      "c:\\Users\\mp222\\OneDrive - Imperial College London\\IslandTimeGitHub\\IslandTime\\IslandTime\\TimeSeriesAnalysis.py:737: InterpolationWarning: The test statistic is outside of the range of p-values available in the\n",
      "look-up table. The actual p-value is greater than the p-value returned.\n",
      "\n",
      "  results = test(time_series.values)\n",
      "Transect:  13%|█▎        | 170/1283 [00:11<01:14, 14.95it/s]c:\\Users\\mp222\\OneDrive - Imperial College London\\IslandTimeGitHub\\IslandTime\\IslandTime\\TimeSeriesAnalysis.py:737: InterpolationWarning: The test statistic is outside of the range of p-values available in the\n",
      "look-up table. The actual p-value is greater than the p-value returned.\n",
      "\n",
      "  results = test(time_series.values)\n",
      "c:\\Users\\mp222\\OneDrive - Imperial College London\\IslandTimeGitHub\\IslandTime\\IslandTime\\TimeSeriesAnalysis.py:737: InterpolationWarning: The test statistic is outside of the range of p-values available in the\n",
      "look-up table. The actual p-value is greater than the p-value returned.\n",
      "\n",
      "  results = test(time_series.values)\n",
      "Transect:  13%|█▎        | 172/1283 [00:11<01:15, 14.77it/s]c:\\Users\\mp222\\OneDrive - Imperial College London\\IslandTimeGitHub\\IslandTime\\IslandTime\\TimeSeriesAnalysis.py:737: InterpolationWarning: The test statistic is outside of the range of p-values available in the\n",
      "look-up table. The actual p-value is greater than the p-value returned.\n",
      "\n",
      "  results = test(time_series.values)\n",
      "c:\\Users\\mp222\\OneDrive - Imperial College London\\IslandTimeGitHub\\IslandTime\\IslandTime\\TimeSeriesAnalysis.py:737: InterpolationWarning: The test statistic is outside of the range of p-values available in the\n",
      "look-up table. The actual p-value is greater than the p-value returned.\n",
      "\n",
      "  results = test(time_series.values)\n",
      "Transect:  14%|█▎        | 174/1283 [00:11<01:12, 15.26it/s]c:\\Users\\mp222\\OneDrive - Imperial College London\\IslandTimeGitHub\\IslandTime\\IslandTime\\TimeSeriesAnalysis.py:737: InterpolationWarning: The test statistic is outside of the range of p-values available in the\n",
      "look-up table. The actual p-value is greater than the p-value returned.\n",
      "\n",
      "  results = test(time_series.values)\n",
      "c:\\Users\\mp222\\OneDrive - Imperial College London\\IslandTimeGitHub\\IslandTime\\IslandTime\\TimeSeriesAnalysis.py:737: InterpolationWarning: The test statistic is outside of the range of p-values available in the\n",
      "look-up table. The actual p-value is greater than the p-value returned.\n",
      "\n",
      "  results = test(time_series.values)\n",
      "Transect:  14%|█▎        | 176/1283 [00:11<01:15, 14.65it/s]c:\\Users\\mp222\\OneDrive - Imperial College London\\IslandTimeGitHub\\IslandTime\\IslandTime\\TimeSeriesAnalysis.py:737: InterpolationWarning: The test statistic is outside of the range of p-values available in the\n",
      "look-up table. The actual p-value is greater than the p-value returned.\n",
      "\n",
      "  results = test(time_series.values)\n",
      "c:\\Users\\mp222\\OneDrive - Imperial College London\\IslandTimeGitHub\\IslandTime\\IslandTime\\TimeSeriesAnalysis.py:737: InterpolationWarning: The test statistic is outside of the range of p-values available in the\n",
      "look-up table. The actual p-value is greater than the p-value returned.\n",
      "\n",
      "  results = test(time_series.values)\n",
      "Transect:  14%|█▍        | 178/1283 [00:11<01:13, 14.96it/s]c:\\Users\\mp222\\OneDrive - Imperial College London\\IslandTimeGitHub\\IslandTime\\IslandTime\\TimeSeriesAnalysis.py:737: InterpolationWarning: The test statistic is outside of the range of p-values available in the\n",
      "look-up table. The actual p-value is greater than the p-value returned.\n",
      "\n",
      "  results = test(time_series.values)\n",
      "c:\\Users\\mp222\\OneDrive - Imperial College London\\IslandTimeGitHub\\IslandTime\\IslandTime\\TimeSeriesAnalysis.py:737: InterpolationWarning: The test statistic is outside of the range of p-values available in the\n",
      "look-up table. The actual p-value is greater than the p-value returned.\n",
      "\n",
      "  results = test(time_series.values)\n",
      "Transect:  14%|█▍        | 180/1283 [00:12<01:17, 14.31it/s]c:\\Users\\mp222\\OneDrive - Imperial College London\\IslandTimeGitHub\\IslandTime\\IslandTime\\TimeSeriesAnalysis.py:737: InterpolationWarning: The test statistic is outside of the range of p-values available in the\n",
      "look-up table. The actual p-value is greater than the p-value returned.\n",
      "\n",
      "  results = test(time_series.values)\n",
      "c:\\Users\\mp222\\OneDrive - Imperial College London\\IslandTimeGitHub\\IslandTime\\IslandTime\\TimeSeriesAnalysis.py:737: InterpolationWarning: The test statistic is outside of the range of p-values available in the\n",
      "look-up table. The actual p-value is greater than the p-value returned.\n",
      "\n",
      "  results = test(time_series.values)\n",
      "Transect:  14%|█▍        | 182/1283 [00:12<01:19, 13.91it/s]c:\\Users\\mp222\\OneDrive - Imperial College London\\IslandTimeGitHub\\IslandTime\\IslandTime\\TimeSeriesAnalysis.py:737: InterpolationWarning: The test statistic is outside of the range of p-values available in the\n",
      "look-up table. The actual p-value is greater than the p-value returned.\n",
      "\n",
      "  results = test(time_series.values)\n",
      "c:\\Users\\mp222\\OneDrive - Imperial College London\\IslandTimeGitHub\\IslandTime\\IslandTime\\TimeSeriesAnalysis.py:737: InterpolationWarning: The test statistic is outside of the range of p-values available in the\n",
      "look-up table. The actual p-value is greater than the p-value returned.\n",
      "\n",
      "  results = test(time_series.values)\n",
      "Transect:  14%|█▍        | 184/1283 [00:12<01:16, 14.31it/s]c:\\Users\\mp222\\OneDrive - Imperial College London\\IslandTimeGitHub\\IslandTime\\IslandTime\\TimeSeriesAnalysis.py:737: InterpolationWarning: The test statistic is outside of the range of p-values available in the\n",
      "look-up table. The actual p-value is greater than the p-value returned.\n",
      "\n",
      "  results = test(time_series.values)\n",
      "c:\\Users\\mp222\\OneDrive - Imperial College London\\IslandTimeGitHub\\IslandTime\\IslandTime\\TimeSeriesAnalysis.py:737: InterpolationWarning: The test statistic is outside of the range of p-values available in the\n",
      "look-up table. The actual p-value is greater than the p-value returned.\n",
      "\n",
      "  results = test(time_series.values)\n",
      "Transect:  14%|█▍        | 186/1283 [00:12<01:14, 14.65it/s]c:\\Users\\mp222\\OneDrive - Imperial College London\\IslandTimeGitHub\\IslandTime\\IslandTime\\TimeSeriesAnalysis.py:737: InterpolationWarning: The test statistic is outside of the range of p-values available in the\n",
      "look-up table. The actual p-value is greater than the p-value returned.\n",
      "\n",
      "  results = test(time_series.values)\n",
      "c:\\Users\\mp222\\OneDrive - Imperial College London\\IslandTimeGitHub\\IslandTime\\IslandTime\\TimeSeriesAnalysis.py:737: InterpolationWarning: The test statistic is outside of the range of p-values available in the\n",
      "look-up table. The actual p-value is greater than the p-value returned.\n",
      "\n",
      "  results = test(time_series.values)\n",
      "Transect:  15%|█▍        | 188/1283 [00:12<01:12, 15.17it/s]c:\\Users\\mp222\\OneDrive - Imperial College London\\IslandTimeGitHub\\IslandTime\\IslandTime\\TimeSeriesAnalysis.py:737: InterpolationWarning: The test statistic is outside of the range of p-values available in the\n",
      "look-up table. The actual p-value is greater than the p-value returned.\n",
      "\n",
      "  results = test(time_series.values)\n",
      "c:\\Users\\mp222\\OneDrive - Imperial College London\\IslandTimeGitHub\\IslandTime\\IslandTime\\TimeSeriesAnalysis.py:737: InterpolationWarning: The test statistic is outside of the range of p-values available in the\n",
      "look-up table. The actual p-value is greater than the p-value returned.\n",
      "\n",
      "  results = test(time_series.values)\n",
      "Transect:  15%|█▍        | 190/1283 [00:12<01:11, 15.37it/s]c:\\Users\\mp222\\OneDrive - Imperial College London\\IslandTimeGitHub\\IslandTime\\IslandTime\\TimeSeriesAnalysis.py:737: InterpolationWarning: The test statistic is outside of the range of p-values available in the\n",
      "look-up table. The actual p-value is greater than the p-value returned.\n",
      "\n",
      "  results = test(time_series.values)\n",
      "c:\\Users\\mp222\\OneDrive - Imperial College London\\IslandTimeGitHub\\IslandTime\\IslandTime\\TimeSeriesAnalysis.py:737: InterpolationWarning: The test statistic is outside of the range of p-values available in the\n",
      "look-up table. The actual p-value is greater than the p-value returned.\n",
      "\n",
      "  results = test(time_series.values)\n",
      "Transect:  15%|█▍        | 192/1283 [00:12<01:11, 15.23it/s]c:\\Users\\mp222\\OneDrive - Imperial College London\\IslandTimeGitHub\\IslandTime\\IslandTime\\TimeSeriesAnalysis.py:737: InterpolationWarning: The test statistic is outside of the range of p-values available in the\n",
      "look-up table. The actual p-value is greater than the p-value returned.\n",
      "\n",
      "  results = test(time_series.values)\n",
      "c:\\Users\\mp222\\OneDrive - Imperial College London\\IslandTimeGitHub\\IslandTime\\IslandTime\\TimeSeriesAnalysis.py:737: InterpolationWarning: The test statistic is outside of the range of p-values available in the\n",
      "look-up table. The actual p-value is greater than the p-value returned.\n",
      "\n",
      "  results = test(time_series.values)\n",
      "Transect:  15%|█▌        | 194/1283 [00:13<01:10, 15.45it/s]c:\\Users\\mp222\\OneDrive - Imperial College London\\IslandTimeGitHub\\IslandTime\\IslandTime\\TimeSeriesAnalysis.py:737: InterpolationWarning: The test statistic is outside of the range of p-values available in the\n",
      "look-up table. The actual p-value is greater than the p-value returned.\n",
      "\n",
      "  results = test(time_series.values)\n",
      "c:\\Users\\mp222\\OneDrive - Imperial College London\\IslandTimeGitHub\\IslandTime\\IslandTime\\TimeSeriesAnalysis.py:737: InterpolationWarning: The test statistic is outside of the range of p-values available in the\n",
      "look-up table. The actual p-value is greater than the p-value returned.\n",
      "\n",
      "  results = test(time_series.values)\n",
      "Transect:  15%|█▌        | 196/1283 [00:13<01:09, 15.61it/s]c:\\Users\\mp222\\OneDrive - Imperial College London\\IslandTimeGitHub\\IslandTime\\IslandTime\\TimeSeriesAnalysis.py:737: InterpolationWarning: The test statistic is outside of the range of p-values available in the\n",
      "look-up table. The actual p-value is greater than the p-value returned.\n",
      "\n",
      "  results = test(time_series.values)\n",
      "c:\\Users\\mp222\\OneDrive - Imperial College London\\IslandTimeGitHub\\IslandTime\\IslandTime\\TimeSeriesAnalysis.py:737: InterpolationWarning: The test statistic is outside of the range of p-values available in the\n",
      "look-up table. The actual p-value is greater than the p-value returned.\n",
      "\n",
      "  results = test(time_series.values)\n",
      "Transect:  15%|█▌        | 198/1283 [00:13<01:09, 15.52it/s]c:\\Users\\mp222\\OneDrive - Imperial College London\\IslandTimeGitHub\\IslandTime\\IslandTime\\TimeSeriesAnalysis.py:737: InterpolationWarning: The test statistic is outside of the range of p-values available in the\n",
      "look-up table. The actual p-value is greater than the p-value returned.\n",
      "\n",
      "  results = test(time_series.values)\n",
      "c:\\Users\\mp222\\OneDrive - Imperial College London\\IslandTimeGitHub\\IslandTime\\IslandTime\\TimeSeriesAnalysis.py:737: InterpolationWarning: The test statistic is outside of the range of p-values available in the\n",
      "look-up table. The actual p-value is greater than the p-value returned.\n",
      "\n",
      "  results = test(time_series.values)\n",
      "Transect:  16%|█▌        | 200/1283 [00:13<01:09, 15.56it/s]c:\\Users\\mp222\\OneDrive - Imperial College London\\IslandTimeGitHub\\IslandTime\\IslandTime\\TimeSeriesAnalysis.py:737: InterpolationWarning: The test statistic is outside of the range of p-values available in the\n",
      "look-up table. The actual p-value is greater than the p-value returned.\n",
      "\n",
      "  results = test(time_series.values)\n",
      "c:\\Users\\mp222\\OneDrive - Imperial College London\\IslandTimeGitHub\\IslandTime\\IslandTime\\TimeSeriesAnalysis.py:737: InterpolationWarning: The test statistic is outside of the range of p-values available in the\n",
      "look-up table. The actual p-value is greater than the p-value returned.\n",
      "\n",
      "  results = test(time_series.values)\n",
      "Transect:  16%|█▌        | 202/1283 [00:13<01:09, 15.65it/s]c:\\Users\\mp222\\OneDrive - Imperial College London\\IslandTimeGitHub\\IslandTime\\IslandTime\\TimeSeriesAnalysis.py:737: InterpolationWarning: The test statistic is outside of the range of p-values available in the\n",
      "look-up table. The actual p-value is greater than the p-value returned.\n",
      "\n",
      "  results = test(time_series.values)\n",
      "c:\\Users\\mp222\\OneDrive - Imperial College London\\IslandTimeGitHub\\IslandTime\\IslandTime\\TimeSeriesAnalysis.py:737: InterpolationWarning: The test statistic is outside of the range of p-values available in the\n",
      "look-up table. The actual p-value is greater than the p-value returned.\n",
      "\n",
      "  results = test(time_series.values)\n",
      "Transect:  16%|█▌        | 204/1283 [00:13<01:09, 15.60it/s]c:\\Users\\mp222\\OneDrive - Imperial College London\\IslandTimeGitHub\\IslandTime\\IslandTime\\TimeSeriesAnalysis.py:737: InterpolationWarning: The test statistic is outside of the range of p-values available in the\n",
      "look-up table. The actual p-value is greater than the p-value returned.\n",
      "\n",
      "  results = test(time_series.values)\n",
      "c:\\Users\\mp222\\OneDrive - Imperial College London\\IslandTimeGitHub\\IslandTime\\IslandTime\\TimeSeriesAnalysis.py:737: InterpolationWarning: The test statistic is outside of the range of p-values available in the\n",
      "look-up table. The actual p-value is greater than the p-value returned.\n",
      "\n",
      "  results = test(time_series.values)\n",
      "Transect:  16%|█▌        | 206/1283 [00:13<01:09, 15.46it/s]c:\\Users\\mp222\\OneDrive - Imperial College London\\IslandTimeGitHub\\IslandTime\\IslandTime\\TimeSeriesAnalysis.py:737: InterpolationWarning: The test statistic is outside of the range of p-values available in the\n",
      "look-up table. The actual p-value is greater than the p-value returned.\n",
      "\n",
      "  results = test(time_series.values)\n",
      "c:\\Users\\mp222\\OneDrive - Imperial College London\\IslandTimeGitHub\\IslandTime\\IslandTime\\TimeSeriesAnalysis.py:737: InterpolationWarning: The test statistic is outside of the range of p-values available in the\n",
      "look-up table. The actual p-value is greater than the p-value returned.\n",
      "\n",
      "  results = test(time_series.values)\n",
      "Transect:  16%|█▌        | 208/1283 [00:13<01:09, 15.47it/s]c:\\Users\\mp222\\OneDrive - Imperial College London\\IslandTimeGitHub\\IslandTime\\IslandTime\\TimeSeriesAnalysis.py:737: InterpolationWarning: The test statistic is outside of the range of p-values available in the\n",
      "look-up table. The actual p-value is greater than the p-value returned.\n",
      "\n",
      "  results = test(time_series.values)\n",
      "c:\\Users\\mp222\\OneDrive - Imperial College London\\IslandTimeGitHub\\IslandTime\\IslandTime\\TimeSeriesAnalysis.py:737: InterpolationWarning: The test statistic is outside of the range of p-values available in the\n",
      "look-up table. The actual p-value is greater than the p-value returned.\n",
      "\n",
      "  results = test(time_series.values)\n",
      "Transect:  16%|█▋        | 210/1283 [00:14<01:09, 15.48it/s]c:\\Users\\mp222\\OneDrive - Imperial College London\\IslandTimeGitHub\\IslandTime\\IslandTime\\TimeSeriesAnalysis.py:737: InterpolationWarning: The test statistic is outside of the range of p-values available in the\n",
      "look-up table. The actual p-value is greater than the p-value returned.\n",
      "\n",
      "  results = test(time_series.values)\n",
      "c:\\Users\\mp222\\OneDrive - Imperial College London\\IslandTimeGitHub\\IslandTime\\IslandTime\\TimeSeriesAnalysis.py:737: InterpolationWarning: The test statistic is outside of the range of p-values available in the\n",
      "look-up table. The actual p-value is greater than the p-value returned.\n",
      "\n",
      "  results = test(time_series.values)\n",
      "Transect:  17%|█▋        | 212/1283 [00:14<01:08, 15.60it/s]c:\\Users\\mp222\\OneDrive - Imperial College London\\IslandTimeGitHub\\IslandTime\\IslandTime\\TimeSeriesAnalysis.py:737: InterpolationWarning: The test statistic is outside of the range of p-values available in the\n",
      "look-up table. The actual p-value is greater than the p-value returned.\n",
      "\n",
      "  results = test(time_series.values)\n",
      "c:\\Users\\mp222\\OneDrive - Imperial College London\\IslandTimeGitHub\\IslandTime\\IslandTime\\TimeSeriesAnalysis.py:737: InterpolationWarning: The test statistic is outside of the range of p-values available in the\n",
      "look-up table. The actual p-value is greater than the p-value returned.\n",
      "\n",
      "  results = test(time_series.values)\n",
      "Transect:  17%|█▋        | 214/1283 [00:14<01:09, 15.46it/s]c:\\Users\\mp222\\OneDrive - Imperial College London\\IslandTimeGitHub\\IslandTime\\IslandTime\\TimeSeriesAnalysis.py:737: InterpolationWarning: The test statistic is outside of the range of p-values available in the\n",
      "look-up table. The actual p-value is greater than the p-value returned.\n",
      "\n",
      "  results = test(time_series.values)\n",
      "c:\\Users\\mp222\\OneDrive - Imperial College London\\IslandTimeGitHub\\IslandTime\\IslandTime\\TimeSeriesAnalysis.py:737: InterpolationWarning: The test statistic is outside of the range of p-values available in the\n",
      "look-up table. The actual p-value is greater than the p-value returned.\n",
      "\n",
      "  results = test(time_series.values)\n",
      "Transect:  17%|█▋        | 216/1283 [00:14<01:08, 15.47it/s]c:\\Users\\mp222\\OneDrive - Imperial College London\\IslandTimeGitHub\\IslandTime\\IslandTime\\TimeSeriesAnalysis.py:737: InterpolationWarning: The test statistic is outside of the range of p-values available in the\n",
      "look-up table. The actual p-value is greater than the p-value returned.\n",
      "\n",
      "  results = test(time_series.values)\n",
      "c:\\Users\\mp222\\OneDrive - Imperial College London\\IslandTimeGitHub\\IslandTime\\IslandTime\\TimeSeriesAnalysis.py:737: InterpolationWarning: The test statistic is outside of the range of p-values available in the\n",
      "look-up table. The actual p-value is greater than the p-value returned.\n",
      "\n",
      "  results = test(time_series.values)\n",
      "Transect:  17%|█▋        | 218/1283 [00:14<01:08, 15.52it/s]c:\\Users\\mp222\\OneDrive - Imperial College London\\IslandTimeGitHub\\IslandTime\\IslandTime\\TimeSeriesAnalysis.py:737: InterpolationWarning: The test statistic is outside of the range of p-values available in the\n",
      "look-up table. The actual p-value is greater than the p-value returned.\n",
      "\n",
      "  results = test(time_series.values)\n",
      "c:\\Users\\mp222\\OneDrive - Imperial College London\\IslandTimeGitHub\\IslandTime\\IslandTime\\TimeSeriesAnalysis.py:737: InterpolationWarning: The test statistic is outside of the range of p-values available in the\n",
      "look-up table. The actual p-value is greater than the p-value returned.\n",
      "\n",
      "  results = test(time_series.values)\n",
      "Transect:  17%|█▋        | 220/1283 [00:14<01:07, 15.66it/s]c:\\Users\\mp222\\OneDrive - Imperial College London\\IslandTimeGitHub\\IslandTime\\IslandTime\\TimeSeriesAnalysis.py:737: InterpolationWarning: The test statistic is outside of the range of p-values available in the\n",
      "look-up table. The actual p-value is greater than the p-value returned.\n",
      "\n",
      "  results = test(time_series.values)\n",
      "c:\\Users\\mp222\\OneDrive - Imperial College London\\IslandTimeGitHub\\IslandTime\\IslandTime\\TimeSeriesAnalysis.py:737: InterpolationWarning: The test statistic is outside of the range of p-values available in the\n",
      "look-up table. The actual p-value is greater than the p-value returned.\n",
      "\n",
      "  results = test(time_series.values)\n",
      "Transect:  17%|█▋        | 222/1283 [00:14<01:08, 15.50it/s]c:\\Users\\mp222\\OneDrive - Imperial College London\\IslandTimeGitHub\\IslandTime\\IslandTime\\TimeSeriesAnalysis.py:737: InterpolationWarning: The test statistic is outside of the range of p-values available in the\n",
      "look-up table. The actual p-value is greater than the p-value returned.\n",
      "\n",
      "  results = test(time_series.values)\n",
      "c:\\Users\\mp222\\OneDrive - Imperial College London\\IslandTimeGitHub\\IslandTime\\IslandTime\\TimeSeriesAnalysis.py:737: InterpolationWarning: The test statistic is outside of the range of p-values available in the\n",
      "look-up table. The actual p-value is greater than the p-value returned.\n",
      "\n",
      "  results = test(time_series.values)\n",
      "Transect:  17%|█▋        | 224/1283 [00:14<01:07, 15.61it/s]c:\\Users\\mp222\\OneDrive - Imperial College London\\IslandTimeGitHub\\IslandTime\\IslandTime\\TimeSeriesAnalysis.py:737: InterpolationWarning: The test statistic is outside of the range of p-values available in the\n",
      "look-up table. The actual p-value is greater than the p-value returned.\n",
      "\n",
      "  results = test(time_series.values)\n",
      "c:\\Users\\mp222\\OneDrive - Imperial College London\\IslandTimeGitHub\\IslandTime\\IslandTime\\TimeSeriesAnalysis.py:737: InterpolationWarning: The test statistic is outside of the range of p-values available in the\n",
      "look-up table. The actual p-value is greater than the p-value returned.\n",
      "\n",
      "  results = test(time_series.values)\n",
      "Transect:  18%|█▊        | 226/1283 [00:15<01:10, 14.98it/s]c:\\Users\\mp222\\OneDrive - Imperial College London\\IslandTimeGitHub\\IslandTime\\IslandTime\\TimeSeriesAnalysis.py:737: InterpolationWarning: The test statistic is outside of the range of p-values available in the\n",
      "look-up table. The actual p-value is greater than the p-value returned.\n",
      "\n",
      "  results = test(time_series.values)\n",
      "c:\\Users\\mp222\\OneDrive - Imperial College London\\IslandTimeGitHub\\IslandTime\\IslandTime\\TimeSeriesAnalysis.py:737: InterpolationWarning: The test statistic is outside of the range of p-values available in the\n",
      "look-up table. The actual p-value is greater than the p-value returned.\n",
      "\n",
      "  results = test(time_series.values)\n",
      "Transect:  18%|█▊        | 228/1283 [00:15<01:09, 15.13it/s]c:\\Users\\mp222\\OneDrive - Imperial College London\\IslandTimeGitHub\\IslandTime\\IslandTime\\TimeSeriesAnalysis.py:737: InterpolationWarning: The test statistic is outside of the range of p-values available in the\n",
      "look-up table. The actual p-value is greater than the p-value returned.\n",
      "\n",
      "  results = test(time_series.values)\n",
      "c:\\Users\\mp222\\OneDrive - Imperial College London\\IslandTimeGitHub\\IslandTime\\IslandTime\\TimeSeriesAnalysis.py:737: InterpolationWarning: The test statistic is outside of the range of p-values available in the\n",
      "look-up table. The actual p-value is greater than the p-value returned.\n",
      "\n",
      "  results = test(time_series.values)\n",
      "Transect:  18%|█▊        | 230/1283 [00:15<01:10, 14.94it/s]c:\\Users\\mp222\\OneDrive - Imperial College London\\IslandTimeGitHub\\IslandTime\\IslandTime\\TimeSeriesAnalysis.py:737: InterpolationWarning: The test statistic is outside of the range of p-values available in the\n",
      "look-up table. The actual p-value is greater than the p-value returned.\n",
      "\n",
      "  results = test(time_series.values)\n",
      "c:\\Users\\mp222\\OneDrive - Imperial College London\\IslandTimeGitHub\\IslandTime\\IslandTime\\TimeSeriesAnalysis.py:737: InterpolationWarning: The test statistic is outside of the range of p-values available in the\n",
      "look-up table. The actual p-value is greater than the p-value returned.\n",
      "\n",
      "  results = test(time_series.values)\n",
      "Transect:  18%|█▊        | 232/1283 [00:15<01:16, 13.73it/s]c:\\Users\\mp222\\OneDrive - Imperial College London\\IslandTimeGitHub\\IslandTime\\IslandTime\\TimeSeriesAnalysis.py:737: InterpolationWarning: The test statistic is outside of the range of p-values available in the\n",
      "look-up table. The actual p-value is greater than the p-value returned.\n",
      "\n",
      "  results = test(time_series.values)\n",
      "c:\\Users\\mp222\\OneDrive - Imperial College London\\IslandTimeGitHub\\IslandTime\\IslandTime\\TimeSeriesAnalysis.py:737: InterpolationWarning: The test statistic is outside of the range of p-values available in the\n",
      "look-up table. The actual p-value is greater than the p-value returned.\n",
      "\n",
      "  results = test(time_series.values)\n",
      "Transect:  18%|█▊        | 234/1283 [00:15<01:13, 14.19it/s]c:\\Users\\mp222\\OneDrive - Imperial College London\\IslandTimeGitHub\\IslandTime\\IslandTime\\TimeSeriesAnalysis.py:737: InterpolationWarning: The test statistic is outside of the range of p-values available in the\n",
      "look-up table. The actual p-value is greater than the p-value returned.\n",
      "\n",
      "  results = test(time_series.values)\n",
      "c:\\Users\\mp222\\OneDrive - Imperial College London\\IslandTimeGitHub\\IslandTime\\IslandTime\\TimeSeriesAnalysis.py:737: InterpolationWarning: The test statistic is outside of the range of p-values available in the\n",
      "look-up table. The actual p-value is greater than the p-value returned.\n",
      "\n",
      "  results = test(time_series.values)\n",
      "Transect:  18%|█▊        | 236/1283 [00:15<01:11, 14.56it/s]c:\\Users\\mp222\\OneDrive - Imperial College London\\IslandTimeGitHub\\IslandTime\\IslandTime\\TimeSeriesAnalysis.py:737: InterpolationWarning: The test statistic is outside of the range of p-values available in the\n",
      "look-up table. The actual p-value is greater than the p-value returned.\n",
      "\n",
      "  results = test(time_series.values)\n",
      "c:\\Users\\mp222\\OneDrive - Imperial College London\\IslandTimeGitHub\\IslandTime\\IslandTime\\TimeSeriesAnalysis.py:737: InterpolationWarning: The test statistic is outside of the range of p-values available in the\n",
      "look-up table. The actual p-value is greater than the p-value returned.\n",
      "\n",
      "  results = test(time_series.values)\n",
      "Transect:  19%|█▊        | 238/1283 [00:15<01:14, 14.08it/s]c:\\Users\\mp222\\OneDrive - Imperial College London\\IslandTimeGitHub\\IslandTime\\IslandTime\\TimeSeriesAnalysis.py:737: InterpolationWarning: The test statistic is outside of the range of p-values available in the\n",
      "look-up table. The actual p-value is greater than the p-value returned.\n",
      "\n",
      "  results = test(time_series.values)\n",
      "c:\\Users\\mp222\\OneDrive - Imperial College London\\IslandTimeGitHub\\IslandTime\\IslandTime\\TimeSeriesAnalysis.py:737: InterpolationWarning: The test statistic is outside of the range of p-values available in the\n",
      "look-up table. The actual p-value is greater than the p-value returned.\n",
      "\n",
      "  results = test(time_series.values)\n",
      "Transect:  19%|█▊        | 240/1283 [00:16<01:12, 14.36it/s]c:\\Users\\mp222\\OneDrive - Imperial College London\\IslandTimeGitHub\\IslandTime\\IslandTime\\TimeSeriesAnalysis.py:737: InterpolationWarning: The test statistic is outside of the range of p-values available in the\n",
      "look-up table. The actual p-value is greater than the p-value returned.\n",
      "\n",
      "  results = test(time_series.values)\n",
      "c:\\Users\\mp222\\OneDrive - Imperial College London\\IslandTimeGitHub\\IslandTime\\IslandTime\\TimeSeriesAnalysis.py:737: InterpolationWarning: The test statistic is outside of the range of p-values available in the\n",
      "look-up table. The actual p-value is greater than the p-value returned.\n",
      "\n",
      "  results = test(time_series.values)\n",
      "Transect:  19%|█▉        | 242/1283 [00:16<01:11, 14.59it/s]c:\\Users\\mp222\\OneDrive - Imperial College London\\IslandTimeGitHub\\IslandTime\\IslandTime\\TimeSeriesAnalysis.py:737: InterpolationWarning: The test statistic is outside of the range of p-values available in the\n",
      "look-up table. The actual p-value is greater than the p-value returned.\n",
      "\n",
      "  results = test(time_series.values)\n",
      "c:\\Users\\mp222\\OneDrive - Imperial College London\\IslandTimeGitHub\\IslandTime\\IslandTime\\TimeSeriesAnalysis.py:737: InterpolationWarning: The test statistic is outside of the range of p-values available in the\n",
      "look-up table. The actual p-value is greater than the p-value returned.\n",
      "\n",
      "  results = test(time_series.values)\n",
      "Transect:  19%|█▉        | 244/1283 [00:16<01:10, 14.82it/s]c:\\Users\\mp222\\OneDrive - Imperial College London\\IslandTimeGitHub\\IslandTime\\IslandTime\\TimeSeriesAnalysis.py:737: InterpolationWarning: The test statistic is outside of the range of p-values available in the\n",
      "look-up table. The actual p-value is greater than the p-value returned.\n",
      "\n",
      "  results = test(time_series.values)\n",
      "c:\\Users\\mp222\\OneDrive - Imperial College London\\IslandTimeGitHub\\IslandTime\\IslandTime\\TimeSeriesAnalysis.py:737: InterpolationWarning: The test statistic is outside of the range of p-values available in the\n",
      "look-up table. The actual p-value is greater than the p-value returned.\n",
      "\n",
      "  results = test(time_series.values)\n",
      "Transect:  19%|█▉        | 246/1283 [00:16<01:09, 14.91it/s]c:\\Users\\mp222\\OneDrive - Imperial College London\\IslandTimeGitHub\\IslandTime\\IslandTime\\TimeSeriesAnalysis.py:737: InterpolationWarning: The test statistic is outside of the range of p-values available in the\n",
      "look-up table. The actual p-value is greater than the p-value returned.\n",
      "\n",
      "  results = test(time_series.values)\n",
      "c:\\Users\\mp222\\OneDrive - Imperial College London\\IslandTimeGitHub\\IslandTime\\IslandTime\\TimeSeriesAnalysis.py:737: InterpolationWarning: The test statistic is outside of the range of p-values available in the\n",
      "look-up table. The actual p-value is greater than the p-value returned.\n",
      "\n",
      "  results = test(time_series.values)\n",
      "Transect:  19%|█▉        | 248/1283 [00:16<01:08, 15.18it/s]c:\\Users\\mp222\\OneDrive - Imperial College London\\IslandTimeGitHub\\IslandTime\\IslandTime\\TimeSeriesAnalysis.py:737: InterpolationWarning: The test statistic is outside of the range of p-values available in the\n",
      "look-up table. The actual p-value is greater than the p-value returned.\n",
      "\n",
      "  results = test(time_series.values)\n",
      "c:\\Users\\mp222\\OneDrive - Imperial College London\\IslandTimeGitHub\\IslandTime\\IslandTime\\TimeSeriesAnalysis.py:737: InterpolationWarning: The test statistic is outside of the range of p-values available in the\n",
      "look-up table. The actual p-value is greater than the p-value returned.\n",
      "\n",
      "  results = test(time_series.values)\n",
      "Transect:  19%|█▉        | 250/1283 [00:16<01:07, 15.31it/s]c:\\Users\\mp222\\OneDrive - Imperial College London\\IslandTimeGitHub\\IslandTime\\IslandTime\\TimeSeriesAnalysis.py:737: InterpolationWarning: The test statistic is outside of the range of p-values available in the\n",
      "look-up table. The actual p-value is greater than the p-value returned.\n",
      "\n",
      "  results = test(time_series.values)\n",
      "c:\\Users\\mp222\\OneDrive - Imperial College London\\IslandTimeGitHub\\IslandTime\\IslandTime\\TimeSeriesAnalysis.py:737: InterpolationWarning: The test statistic is outside of the range of p-values available in the\n",
      "look-up table. The actual p-value is greater than the p-value returned.\n",
      "\n",
      "  results = test(time_series.values)\n",
      "Transect:  20%|█▉        | 252/1283 [00:16<01:09, 14.79it/s]c:\\Users\\mp222\\OneDrive - Imperial College London\\IslandTimeGitHub\\IslandTime\\IslandTime\\TimeSeriesAnalysis.py:737: InterpolationWarning: The test statistic is outside of the range of p-values available in the\n",
      "look-up table. The actual p-value is greater than the p-value returned.\n",
      "\n",
      "  results = test(time_series.values)\n",
      "Transect:  20%|██        | 260/1283 [00:17<01:05, 15.65it/s]c:\\Users\\mp222\\OneDrive - Imperial College London\\IslandTimeGitHub\\IslandTime\\IslandTime\\TimeSeriesAnalysis.py:737: InterpolationWarning: The test statistic is outside of the range of p-values available in the\n",
      "look-up table. The actual p-value is greater than the p-value returned.\n",
      "\n",
      "  results = test(time_series.values)\n",
      "Transect:  20%|██        | 262/1283 [00:17<01:04, 15.79it/s]c:\\Users\\mp222\\OneDrive - Imperial College London\\IslandTimeGitHub\\IslandTime\\IslandTime\\TimeSeriesAnalysis.py:737: InterpolationWarning: The test statistic is outside of the range of p-values available in the\n",
      "look-up table. The actual p-value is greater than the p-value returned.\n",
      "\n",
      "  results = test(time_series.values)\n",
      "Transect:  21%|██        | 264/1283 [00:17<01:06, 15.34it/s]c:\\Users\\mp222\\OneDrive - Imperial College London\\IslandTimeGitHub\\IslandTime\\IslandTime\\TimeSeriesAnalysis.py:737: InterpolationWarning: The test statistic is outside of the range of p-values available in the\n",
      "look-up table. The actual p-value is smaller than the p-value returned.\n",
      "\n",
      "  results = test(time_series.values)\n",
      "c:\\Users\\mp222\\OneDrive - Imperial College London\\IslandTimeGitHub\\IslandTime\\IslandTime\\TimeSeriesAnalysis.py:737: InterpolationWarning: The test statistic is outside of the range of p-values available in the\n",
      "look-up table. The actual p-value is greater than the p-value returned.\n",
      "\n",
      "  results = test(time_series.values)\n",
      "Transect:  21%|██        | 266/1283 [00:17<01:03, 16.09it/s]c:\\Users\\mp222\\OneDrive - Imperial College London\\IslandTimeGitHub\\IslandTime\\IslandTime\\TimeSeriesAnalysis.py:737: InterpolationWarning: The test statistic is outside of the range of p-values available in the\n",
      "look-up table. The actual p-value is greater than the p-value returned.\n",
      "\n",
      "  results = test(time_series.values)\n",
      "c:\\Users\\mp222\\OneDrive - Imperial College London\\IslandTimeGitHub\\IslandTime\\IslandTime\\TimeSeriesAnalysis.py:737: InterpolationWarning: The test statistic is outside of the range of p-values available in the\n",
      "look-up table. The actual p-value is greater than the p-value returned.\n",
      "\n",
      "  results = test(time_series.values)\n",
      "c:\\Users\\mp222\\OneDrive - Imperial College London\\IslandTimeGitHub\\IslandTime\\IslandTime\\TimeSeriesAnalysis.py:737: InterpolationWarning: The test statistic is outside of the range of p-values available in the\n",
      "look-up table. The actual p-value is greater than the p-value returned.\n",
      "\n",
      "  results = test(time_series.values)\n",
      "Transect:  21%|██        | 272/1283 [00:18<00:50, 20.12it/s]c:\\Users\\mp222\\OneDrive - Imperial College London\\IslandTimeGitHub\\IslandTime\\IslandTime\\TimeSeriesAnalysis.py:737: InterpolationWarning: The test statistic is outside of the range of p-values available in the\n",
      "look-up table. The actual p-value is smaller than the p-value returned.\n",
      "\n",
      "  results = test(time_series.values)\n",
      "c:\\Users\\mp222\\OneDrive - Imperial College London\\IslandTimeGitHub\\IslandTime\\IslandTime\\TimeSeriesAnalysis.py:737: InterpolationWarning: The test statistic is outside of the range of p-values available in the\n",
      "look-up table. The actual p-value is smaller than the p-value returned.\n",
      "\n",
      "  results = test(time_series.values)\n",
      "c:\\Users\\mp222\\OneDrive - Imperial College London\\IslandTimeGitHub\\IslandTime\\IslandTime\\TimeSeriesAnalysis.py:737: InterpolationWarning: The test statistic is outside of the range of p-values available in the\n",
      "look-up table. The actual p-value is smaller than the p-value returned.\n",
      "\n",
      "  results = test(time_series.values)\n",
      "Transect:  21%|██▏       | 275/1283 [00:18<00:56, 17.71it/s]c:\\Users\\mp222\\OneDrive - Imperial College London\\IslandTimeGitHub\\IslandTime\\IslandTime\\TimeSeriesAnalysis.py:737: InterpolationWarning: The test statistic is outside of the range of p-values available in the\n",
      "look-up table. The actual p-value is smaller than the p-value returned.\n",
      "\n",
      "  results = test(time_series.values)\n",
      "c:\\Users\\mp222\\OneDrive - Imperial College London\\IslandTimeGitHub\\IslandTime\\IslandTime\\TimeSeriesAnalysis.py:737: InterpolationWarning: The test statistic is outside of the range of p-values available in the\n",
      "look-up table. The actual p-value is smaller than the p-value returned.\n",
      "\n",
      "  results = test(time_series.values)\n",
      "Transect:  22%|██▏       | 277/1283 [00:18<01:04, 15.71it/s]c:\\Users\\mp222\\OneDrive - Imperial College London\\IslandTimeGitHub\\IslandTime\\IslandTime\\TimeSeriesAnalysis.py:737: InterpolationWarning: The test statistic is outside of the range of p-values available in the\n",
      "look-up table. The actual p-value is smaller than the p-value returned.\n",
      "\n",
      "  results = test(time_series.values)\n",
      "c:\\Users\\mp222\\OneDrive - Imperial College London\\IslandTimeGitHub\\IslandTime\\IslandTime\\TimeSeriesAnalysis.py:737: InterpolationWarning: The test statistic is outside of the range of p-values available in the\n",
      "look-up table. The actual p-value is smaller than the p-value returned.\n",
      "\n",
      "  results = test(time_series.values)\n",
      "Transect:  22%|██▏       | 279/1283 [00:18<01:03, 15.80it/s]c:\\Users\\mp222\\OneDrive - Imperial College London\\IslandTimeGitHub\\IslandTime\\IslandTime\\TimeSeriesAnalysis.py:737: InterpolationWarning: The test statistic is outside of the range of p-values available in the\n",
      "look-up table. The actual p-value is smaller than the p-value returned.\n",
      "\n",
      "  results = test(time_series.values)\n",
      "c:\\Users\\mp222\\OneDrive - Imperial College London\\IslandTimeGitHub\\IslandTime\\IslandTime\\TimeSeriesAnalysis.py:737: InterpolationWarning: The test statistic is outside of the range of p-values available in the\n",
      "look-up table. The actual p-value is smaller than the p-value returned.\n",
      "\n",
      "  results = test(time_series.values)\n",
      "Transect:  22%|██▏       | 281/1283 [00:18<01:04, 15.56it/s]c:\\Users\\mp222\\OneDrive - Imperial College London\\IslandTimeGitHub\\IslandTime\\IslandTime\\TimeSeriesAnalysis.py:737: InterpolationWarning: The test statistic is outside of the range of p-values available in the\n",
      "look-up table. The actual p-value is smaller than the p-value returned.\n",
      "\n",
      "  results = test(time_series.values)\n",
      "c:\\Users\\mp222\\OneDrive - Imperial College London\\IslandTimeGitHub\\IslandTime\\IslandTime\\TimeSeriesAnalysis.py:737: InterpolationWarning: The test statistic is outside of the range of p-values available in the\n",
      "look-up table. The actual p-value is smaller than the p-value returned.\n",
      "\n",
      "  results = test(time_series.values)\n",
      "Transect:  22%|██▏       | 283/1283 [00:18<01:03, 15.74it/s]c:\\Users\\mp222\\OneDrive - Imperial College London\\IslandTimeGitHub\\IslandTime\\IslandTime\\TimeSeriesAnalysis.py:737: InterpolationWarning: The test statistic is outside of the range of p-values available in the\n",
      "look-up table. The actual p-value is smaller than the p-value returned.\n",
      "\n",
      "  results = test(time_series.values)\n",
      "c:\\Users\\mp222\\OneDrive - Imperial College London\\IslandTimeGitHub\\IslandTime\\IslandTime\\TimeSeriesAnalysis.py:737: InterpolationWarning: The test statistic is outside of the range of p-values available in the\n",
      "look-up table. The actual p-value is smaller than the p-value returned.\n",
      "\n",
      "  results = test(time_series.values)\n",
      "Transect:  22%|██▏       | 285/1283 [00:18<01:03, 15.61it/s]c:\\Users\\mp222\\OneDrive - Imperial College London\\IslandTimeGitHub\\IslandTime\\IslandTime\\TimeSeriesAnalysis.py:737: InterpolationWarning: The test statistic is outside of the range of p-values available in the\n",
      "look-up table. The actual p-value is smaller than the p-value returned.\n",
      "\n",
      "  results = test(time_series.values)\n",
      "c:\\Users\\mp222\\OneDrive - Imperial College London\\IslandTimeGitHub\\IslandTime\\IslandTime\\TimeSeriesAnalysis.py:737: InterpolationWarning: The test statistic is outside of the range of p-values available in the\n",
      "look-up table. The actual p-value is smaller than the p-value returned.\n",
      "\n",
      "  results = test(time_series.values)\n",
      "Transect:  22%|██▏       | 287/1283 [00:19<01:01, 16.20it/s]c:\\Users\\mp222\\OneDrive - Imperial College London\\IslandTimeGitHub\\IslandTime\\IslandTime\\TimeSeriesAnalysis.py:737: InterpolationWarning: The test statistic is outside of the range of p-values available in the\n",
      "look-up table. The actual p-value is smaller than the p-value returned.\n",
      "\n",
      "  results = test(time_series.values)\n",
      "c:\\Users\\mp222\\OneDrive - Imperial College London\\IslandTimeGitHub\\IslandTime\\IslandTime\\TimeSeriesAnalysis.py:737: InterpolationWarning: The test statistic is outside of the range of p-values available in the\n",
      "look-up table. The actual p-value is smaller than the p-value returned.\n",
      "\n",
      "  results = test(time_series.values)\n",
      "Transect:  23%|██▎       | 289/1283 [00:19<01:01, 16.10it/s]c:\\Users\\mp222\\OneDrive - Imperial College London\\IslandTimeGitHub\\IslandTime\\IslandTime\\TimeSeriesAnalysis.py:737: InterpolationWarning: The test statistic is outside of the range of p-values available in the\n",
      "look-up table. The actual p-value is smaller than the p-value returned.\n",
      "\n",
      "  results = test(time_series.values)\n",
      "c:\\Users\\mp222\\OneDrive - Imperial College London\\IslandTimeGitHub\\IslandTime\\IslandTime\\TimeSeriesAnalysis.py:737: InterpolationWarning: The test statistic is outside of the range of p-values available in the\n",
      "look-up table. The actual p-value is smaller than the p-value returned.\n",
      "\n",
      "  results = test(time_series.values)\n",
      "Transect:  23%|██▎       | 291/1283 [00:19<01:01, 16.03it/s]c:\\Users\\mp222\\OneDrive - Imperial College London\\IslandTimeGitHub\\IslandTime\\IslandTime\\TimeSeriesAnalysis.py:737: InterpolationWarning: The test statistic is outside of the range of p-values available in the\n",
      "look-up table. The actual p-value is smaller than the p-value returned.\n",
      "\n",
      "  results = test(time_series.values)\n",
      "c:\\Users\\mp222\\OneDrive - Imperial College London\\IslandTimeGitHub\\IslandTime\\IslandTime\\TimeSeriesAnalysis.py:737: InterpolationWarning: The test statistic is outside of the range of p-values available in the\n",
      "look-up table. The actual p-value is smaller than the p-value returned.\n",
      "\n",
      "  results = test(time_series.values)\n",
      "Transect:  23%|██▎       | 293/1283 [00:19<01:07, 14.63it/s]c:\\Users\\mp222\\OneDrive - Imperial College London\\IslandTimeGitHub\\IslandTime\\IslandTime\\TimeSeriesAnalysis.py:737: InterpolationWarning: The test statistic is outside of the range of p-values available in the\n",
      "look-up table. The actual p-value is smaller than the p-value returned.\n",
      "\n",
      "  results = test(time_series.values)\n",
      "c:\\Users\\mp222\\OneDrive - Imperial College London\\IslandTimeGitHub\\IslandTime\\IslandTime\\TimeSeriesAnalysis.py:737: InterpolationWarning: The test statistic is outside of the range of p-values available in the\n",
      "look-up table. The actual p-value is greater than the p-value returned.\n",
      "\n",
      "  results = test(time_series.values)\n",
      "Transect:  23%|██▎       | 295/1283 [00:19<01:02, 15.81it/s]c:\\Users\\mp222\\OneDrive - Imperial College London\\IslandTimeGitHub\\IslandTime\\IslandTime\\TimeSeriesAnalysis.py:737: InterpolationWarning: The test statistic is outside of the range of p-values available in the\n",
      "look-up table. The actual p-value is greater than the p-value returned.\n",
      "\n",
      "  results = test(time_series.values)\n",
      "Transect:  23%|██▎       | 297/1283 [00:19<01:01, 16.13it/s]c:\\Users\\mp222\\OneDrive - Imperial College London\\IslandTimeGitHub\\IslandTime\\IslandTime\\TimeSeriesAnalysis.py:737: InterpolationWarning: The test statistic is outside of the range of p-values available in the\n",
      "look-up table. The actual p-value is smaller than the p-value returned.\n",
      "\n",
      "  results = test(time_series.values)\n",
      "Transect:  23%|██▎       | 299/1283 [00:19<01:01, 16.09it/s]c:\\Users\\mp222\\OneDrive - Imperial College London\\IslandTimeGitHub\\IslandTime\\IslandTime\\TimeSeriesAnalysis.py:737: InterpolationWarning: The test statistic is outside of the range of p-values available in the\n",
      "look-up table. The actual p-value is smaller than the p-value returned.\n",
      "\n",
      "  results = test(time_series.values)\n",
      "c:\\Users\\mp222\\OneDrive - Imperial College London\\IslandTimeGitHub\\IslandTime\\IslandTime\\TimeSeriesAnalysis.py:737: InterpolationWarning: The test statistic is outside of the range of p-values available in the\n",
      "look-up table. The actual p-value is smaller than the p-value returned.\n",
      "\n",
      "  results = test(time_series.values)\n",
      "Transect:  23%|██▎       | 301/1283 [00:19<01:01, 16.03it/s]c:\\Users\\mp222\\OneDrive - Imperial College London\\IslandTimeGitHub\\IslandTime\\IslandTime\\TimeSeriesAnalysis.py:737: InterpolationWarning: The test statistic is outside of the range of p-values available in the\n",
      "look-up table. The actual p-value is smaller than the p-value returned.\n",
      "\n",
      "  results = test(time_series.values)\n",
      "c:\\Users\\mp222\\OneDrive - Imperial College London\\IslandTimeGitHub\\IslandTime\\IslandTime\\TimeSeriesAnalysis.py:737: InterpolationWarning: The test statistic is outside of the range of p-values available in the\n",
      "look-up table. The actual p-value is smaller than the p-value returned.\n",
      "\n",
      "  results = test(time_series.values)\n",
      "Transect:  24%|██▎       | 303/1283 [00:20<01:00, 16.21it/s]c:\\Users\\mp222\\OneDrive - Imperial College London\\IslandTimeGitHub\\IslandTime\\IslandTime\\TimeSeriesAnalysis.py:737: InterpolationWarning: The test statistic is outside of the range of p-values available in the\n",
      "look-up table. The actual p-value is smaller than the p-value returned.\n",
      "\n",
      "  results = test(time_series.values)\n",
      "c:\\Users\\mp222\\OneDrive - Imperial College London\\IslandTimeGitHub\\IslandTime\\IslandTime\\TimeSeriesAnalysis.py:737: InterpolationWarning: The test statistic is outside of the range of p-values available in the\n",
      "look-up table. The actual p-value is smaller than the p-value returned.\n",
      "\n",
      "  results = test(time_series.values)\n",
      "Transect:  24%|██▍       | 305/1283 [00:20<00:59, 16.34it/s]c:\\Users\\mp222\\OneDrive - Imperial College London\\IslandTimeGitHub\\IslandTime\\IslandTime\\TimeSeriesAnalysis.py:737: InterpolationWarning: The test statistic is outside of the range of p-values available in the\n",
      "look-up table. The actual p-value is smaller than the p-value returned.\n",
      "\n",
      "  results = test(time_series.values)\n",
      "c:\\Users\\mp222\\OneDrive - Imperial College London\\IslandTimeGitHub\\IslandTime\\IslandTime\\TimeSeriesAnalysis.py:737: InterpolationWarning: The test statistic is outside of the range of p-values available in the\n",
      "look-up table. The actual p-value is smaller than the p-value returned.\n",
      "\n",
      "  results = test(time_series.values)\n",
      "Transect:  24%|██▍       | 307/1283 [00:20<01:00, 16.12it/s]c:\\Users\\mp222\\OneDrive - Imperial College London\\IslandTimeGitHub\\IslandTime\\IslandTime\\TimeSeriesAnalysis.py:737: InterpolationWarning: The test statistic is outside of the range of p-values available in the\n",
      "look-up table. The actual p-value is smaller than the p-value returned.\n",
      "\n",
      "  results = test(time_series.values)\n",
      "c:\\Users\\mp222\\OneDrive - Imperial College London\\IslandTimeGitHub\\IslandTime\\IslandTime\\TimeSeriesAnalysis.py:737: InterpolationWarning: The test statistic is outside of the range of p-values available in the\n",
      "look-up table. The actual p-value is smaller than the p-value returned.\n",
      "\n",
      "  results = test(time_series.values)\n",
      "Transect:  24%|██▍       | 309/1283 [00:20<01:02, 15.56it/s]c:\\Users\\mp222\\OneDrive - Imperial College London\\IslandTimeGitHub\\IslandTime\\IslandTime\\TimeSeriesAnalysis.py:737: InterpolationWarning: The test statistic is outside of the range of p-values available in the\n",
      "look-up table. The actual p-value is smaller than the p-value returned.\n",
      "\n",
      "  results = test(time_series.values)\n",
      "c:\\Users\\mp222\\OneDrive - Imperial College London\\IslandTimeGitHub\\IslandTime\\IslandTime\\TimeSeriesAnalysis.py:737: InterpolationWarning: The test statistic is outside of the range of p-values available in the\n",
      "look-up table. The actual p-value is smaller than the p-value returned.\n",
      "\n",
      "  results = test(time_series.values)\n",
      "Transect:  24%|██▍       | 313/1283 [00:20<01:04, 14.97it/s]c:\\Users\\mp222\\OneDrive - Imperial College London\\IslandTimeGitHub\\IslandTime\\IslandTime\\TimeSeriesAnalysis.py:737: InterpolationWarning: The test statistic is outside of the range of p-values available in the\n",
      "look-up table. The actual p-value is greater than the p-value returned.\n",
      "\n",
      "  results = test(time_series.values)\n",
      "c:\\Users\\mp222\\OneDrive - Imperial College London\\IslandTimeGitHub\\IslandTime\\IslandTime\\TimeSeriesAnalysis.py:737: InterpolationWarning: The test statistic is outside of the range of p-values available in the\n",
      "look-up table. The actual p-value is greater than the p-value returned.\n",
      "\n",
      "  results = test(time_series.values)\n",
      "Transect:  25%|██▍       | 315/1283 [00:20<01:03, 15.34it/s]c:\\Users\\mp222\\OneDrive - Imperial College London\\IslandTimeGitHub\\IslandTime\\IslandTime\\TimeSeriesAnalysis.py:737: InterpolationWarning: The test statistic is outside of the range of p-values available in the\n",
      "look-up table. The actual p-value is greater than the p-value returned.\n",
      "\n",
      "  results = test(time_series.values)\n",
      "c:\\Users\\mp222\\OneDrive - Imperial College London\\IslandTimeGitHub\\IslandTime\\IslandTime\\TimeSeriesAnalysis.py:737: InterpolationWarning: The test statistic is outside of the range of p-values available in the\n",
      "look-up table. The actual p-value is greater than the p-value returned.\n",
      "\n",
      "  results = test(time_series.values)\n",
      "Transect:  25%|██▍       | 317/1283 [00:20<01:02, 15.35it/s]c:\\Users\\mp222\\OneDrive - Imperial College London\\IslandTimeGitHub\\IslandTime\\IslandTime\\TimeSeriesAnalysis.py:737: InterpolationWarning: The test statistic is outside of the range of p-values available in the\n",
      "look-up table. The actual p-value is greater than the p-value returned.\n",
      "\n",
      "  results = test(time_series.values)\n",
      "Transect:  25%|██▍       | 319/1283 [00:21<01:01, 15.61it/s]c:\\Users\\mp222\\OneDrive - Imperial College London\\IslandTimeGitHub\\IslandTime\\IslandTime\\TimeSeriesAnalysis.py:737: InterpolationWarning: The test statistic is outside of the range of p-values available in the\n",
      "look-up table. The actual p-value is smaller than the p-value returned.\n",
      "\n",
      "  results = test(time_series.values)\n",
      "Transect:  25%|██▌       | 321/1283 [00:21<01:01, 15.58it/s]c:\\Users\\mp222\\OneDrive - Imperial College London\\IslandTimeGitHub\\IslandTime\\IslandTime\\TimeSeriesAnalysis.py:737: InterpolationWarning: The test statistic is outside of the range of p-values available in the\n",
      "look-up table. The actual p-value is smaller than the p-value returned.\n",
      "\n",
      "  results = test(time_series.values)\n",
      "c:\\Users\\mp222\\OneDrive - Imperial College London\\IslandTimeGitHub\\IslandTime\\IslandTime\\TimeSeriesAnalysis.py:737: InterpolationWarning: The test statistic is outside of the range of p-values available in the\n",
      "look-up table. The actual p-value is smaller than the p-value returned.\n",
      "\n",
      "  results = test(time_series.values)\n",
      "Transect:  25%|██▌       | 323/1283 [00:21<01:01, 15.57it/s]c:\\Users\\mp222\\OneDrive - Imperial College London\\IslandTimeGitHub\\IslandTime\\IslandTime\\TimeSeriesAnalysis.py:737: InterpolationWarning: The test statistic is outside of the range of p-values available in the\n",
      "look-up table. The actual p-value is smaller than the p-value returned.\n",
      "\n",
      "  results = test(time_series.values)\n",
      "c:\\Users\\mp222\\OneDrive - Imperial College London\\IslandTimeGitHub\\IslandTime\\IslandTime\\TimeSeriesAnalysis.py:737: InterpolationWarning: The test statistic is outside of the range of p-values available in the\n",
      "look-up table. The actual p-value is smaller than the p-value returned.\n",
      "\n",
      "  results = test(time_series.values)\n",
      "Transect:  25%|██▌       | 325/1283 [00:21<01:00, 15.73it/s]c:\\Users\\mp222\\OneDrive - Imperial College London\\IslandTimeGitHub\\IslandTime\\IslandTime\\TimeSeriesAnalysis.py:737: InterpolationWarning: The test statistic is outside of the range of p-values available in the\n",
      "look-up table. The actual p-value is smaller than the p-value returned.\n",
      "\n",
      "  results = test(time_series.values)\n",
      "c:\\Users\\mp222\\OneDrive - Imperial College London\\IslandTimeGitHub\\IslandTime\\IslandTime\\TimeSeriesAnalysis.py:737: InterpolationWarning: The test statistic is outside of the range of p-values available in the\n",
      "look-up table. The actual p-value is smaller than the p-value returned.\n",
      "\n",
      "  results = test(time_series.values)\n",
      "Transect:  25%|██▌       | 327/1283 [00:21<01:03, 15.12it/s]c:\\Users\\mp222\\OneDrive - Imperial College London\\IslandTimeGitHub\\IslandTime\\IslandTime\\TimeSeriesAnalysis.py:737: InterpolationWarning: The test statistic is outside of the range of p-values available in the\n",
      "look-up table. The actual p-value is smaller than the p-value returned.\n",
      "\n",
      "  results = test(time_series.values)\n",
      "c:\\Users\\mp222\\OneDrive - Imperial College London\\IslandTimeGitHub\\IslandTime\\IslandTime\\TimeSeriesAnalysis.py:737: InterpolationWarning: The test statistic is outside of the range of p-values available in the\n",
      "look-up table. The actual p-value is smaller than the p-value returned.\n",
      "\n",
      "  results = test(time_series.values)\n",
      "Transect:  26%|██▌       | 329/1283 [00:21<01:06, 14.35it/s]c:\\Users\\mp222\\OneDrive - Imperial College London\\IslandTimeGitHub\\IslandTime\\IslandTime\\TimeSeriesAnalysis.py:737: InterpolationWarning: The test statistic is outside of the range of p-values available in the\n",
      "look-up table. The actual p-value is smaller than the p-value returned.\n",
      "\n",
      "  results = test(time_series.values)\n",
      "c:\\Users\\mp222\\OneDrive - Imperial College London\\IslandTimeGitHub\\IslandTime\\IslandTime\\TimeSeriesAnalysis.py:737: InterpolationWarning: The test statistic is outside of the range of p-values available in the\n",
      "look-up table. The actual p-value is smaller than the p-value returned.\n",
      "\n",
      "  results = test(time_series.values)\n",
      "Transect:  26%|██▌       | 331/1283 [00:21<01:06, 14.33it/s]c:\\Users\\mp222\\OneDrive - Imperial College London\\IslandTimeGitHub\\IslandTime\\IslandTime\\TimeSeriesAnalysis.py:737: InterpolationWarning: The test statistic is outside of the range of p-values available in the\n",
      "look-up table. The actual p-value is smaller than the p-value returned.\n",
      "\n",
      "  results = test(time_series.values)\n",
      "c:\\Users\\mp222\\OneDrive - Imperial College London\\IslandTimeGitHub\\IslandTime\\IslandTime\\TimeSeriesAnalysis.py:737: InterpolationWarning: The test statistic is outside of the range of p-values available in the\n",
      "look-up table. The actual p-value is smaller than the p-value returned.\n",
      "\n",
      "  results = test(time_series.values)\n",
      "Transect:  26%|██▌       | 333/1283 [00:22<01:08, 13.96it/s]c:\\Users\\mp222\\OneDrive - Imperial College London\\IslandTimeGitHub\\IslandTime\\IslandTime\\TimeSeriesAnalysis.py:737: InterpolationWarning: The test statistic is outside of the range of p-values available in the\n",
      "look-up table. The actual p-value is smaller than the p-value returned.\n",
      "\n",
      "  results = test(time_series.values)\n",
      "c:\\Users\\mp222\\OneDrive - Imperial College London\\IslandTimeGitHub\\IslandTime\\IslandTime\\TimeSeriesAnalysis.py:737: InterpolationWarning: The test statistic is outside of the range of p-values available in the\n",
      "look-up table. The actual p-value is smaller than the p-value returned.\n",
      "\n",
      "  results = test(time_series.values)\n",
      "Transect:  26%|██▌       | 335/1283 [00:22<01:05, 14.51it/s]c:\\Users\\mp222\\OneDrive - Imperial College London\\IslandTimeGitHub\\IslandTime\\IslandTime\\TimeSeriesAnalysis.py:737: InterpolationWarning: The test statistic is outside of the range of p-values available in the\n",
      "look-up table. The actual p-value is smaller than the p-value returned.\n",
      "\n",
      "  results = test(time_series.values)\n",
      "c:\\Users\\mp222\\OneDrive - Imperial College London\\IslandTimeGitHub\\IslandTime\\IslandTime\\TimeSeriesAnalysis.py:737: InterpolationWarning: The test statistic is outside of the range of p-values available in the\n",
      "look-up table. The actual p-value is smaller than the p-value returned.\n",
      "\n",
      "  results = test(time_series.values)\n",
      "Transect:  26%|██▋       | 337/1283 [00:22<01:02, 15.17it/s]c:\\Users\\mp222\\OneDrive - Imperial College London\\IslandTimeGitHub\\IslandTime\\IslandTime\\TimeSeriesAnalysis.py:737: InterpolationWarning: The test statistic is outside of the range of p-values available in the\n",
      "look-up table. The actual p-value is smaller than the p-value returned.\n",
      "\n",
      "  results = test(time_series.values)\n",
      "c:\\Users\\mp222\\OneDrive - Imperial College London\\IslandTimeGitHub\\IslandTime\\IslandTime\\TimeSeriesAnalysis.py:737: InterpolationWarning: The test statistic is outside of the range of p-values available in the\n",
      "look-up table. The actual p-value is smaller than the p-value returned.\n",
      "\n",
      "  results = test(time_series.values)\n",
      "Transect:  26%|██▋       | 339/1283 [00:22<01:03, 14.92it/s]c:\\Users\\mp222\\OneDrive - Imperial College London\\IslandTimeGitHub\\IslandTime\\IslandTime\\TimeSeriesAnalysis.py:737: InterpolationWarning: The test statistic is outside of the range of p-values available in the\n",
      "look-up table. The actual p-value is smaller than the p-value returned.\n",
      "\n",
      "  results = test(time_series.values)\n",
      "c:\\Users\\mp222\\OneDrive - Imperial College London\\IslandTimeGitHub\\IslandTime\\IslandTime\\TimeSeriesAnalysis.py:737: InterpolationWarning: The test statistic is outside of the range of p-values available in the\n",
      "look-up table. The actual p-value is smaller than the p-value returned.\n",
      "\n",
      "  results = test(time_series.values)\n",
      "Transect:  27%|██▋       | 341/1283 [00:22<01:01, 15.26it/s]c:\\Users\\mp222\\OneDrive - Imperial College London\\IslandTimeGitHub\\IslandTime\\IslandTime\\TimeSeriesAnalysis.py:737: InterpolationWarning: The test statistic is outside of the range of p-values available in the\n",
      "look-up table. The actual p-value is smaller than the p-value returned.\n",
      "\n",
      "  results = test(time_series.values)\n",
      "Transect:  27%|██▋       | 347/1283 [00:22<01:02, 14.92it/s]c:\\Users\\mp222\\OneDrive - Imperial College London\\IslandTimeGitHub\\IslandTime\\IslandTime\\TimeSeriesAnalysis.py:737: InterpolationWarning: The test statistic is outside of the range of p-values available in the\n",
      "look-up table. The actual p-value is greater than the p-value returned.\n",
      "\n",
      "  results = test(time_series.values)\n",
      "c:\\Users\\mp222\\OneDrive - Imperial College London\\IslandTimeGitHub\\IslandTime\\IslandTime\\TimeSeriesAnalysis.py:737: InterpolationWarning: The test statistic is outside of the range of p-values available in the\n",
      "look-up table. The actual p-value is greater than the p-value returned.\n",
      "\n",
      "  results = test(time_series.values)\n",
      "Transect:  27%|██▋       | 349/1283 [00:23<01:01, 15.26it/s]c:\\Users\\mp222\\OneDrive - Imperial College London\\IslandTimeGitHub\\IslandTime\\IslandTime\\TimeSeriesAnalysis.py:737: InterpolationWarning: The test statistic is outside of the range of p-values available in the\n",
      "look-up table. The actual p-value is greater than the p-value returned.\n",
      "\n",
      "  results = test(time_series.values)\n",
      "Transect:  28%|██▊       | 353/1283 [00:23<01:00, 15.45it/s]c:\\Users\\mp222\\OneDrive - Imperial College London\\IslandTimeGitHub\\IslandTime\\IslandTime\\TimeSeriesAnalysis.py:737: InterpolationWarning: The test statistic is outside of the range of p-values available in the\n",
      "look-up table. The actual p-value is greater than the p-value returned.\n",
      "\n",
      "  results = test(time_series.values)\n",
      "c:\\Users\\mp222\\OneDrive - Imperial College London\\IslandTimeGitHub\\IslandTime\\IslandTime\\TimeSeriesAnalysis.py:737: InterpolationWarning: The test statistic is outside of the range of p-values available in the\n",
      "look-up table. The actual p-value is greater than the p-value returned.\n",
      "\n",
      "  results = test(time_series.values)\n",
      "Transect:  28%|██▊       | 355/1283 [00:23<01:02, 14.75it/s]c:\\Users\\mp222\\OneDrive - Imperial College London\\IslandTimeGitHub\\IslandTime\\IslandTime\\TimeSeriesAnalysis.py:737: InterpolationWarning: The test statistic is outside of the range of p-values available in the\n",
      "look-up table. The actual p-value is greater than the p-value returned.\n",
      "\n",
      "  results = test(time_series.values)\n",
      "c:\\Users\\mp222\\OneDrive - Imperial College London\\IslandTimeGitHub\\IslandTime\\IslandTime\\TimeSeriesAnalysis.py:737: InterpolationWarning: The test statistic is outside of the range of p-values available in the\n",
      "look-up table. The actual p-value is greater than the p-value returned.\n",
      "\n",
      "  results = test(time_series.values)\n",
      "Transect:  28%|██▊       | 357/1283 [00:23<01:01, 15.15it/s]c:\\Users\\mp222\\OneDrive - Imperial College London\\IslandTimeGitHub\\IslandTime\\IslandTime\\TimeSeriesAnalysis.py:737: InterpolationWarning: The test statistic is outside of the range of p-values available in the\n",
      "look-up table. The actual p-value is greater than the p-value returned.\n",
      "\n",
      "  results = test(time_series.values)\n",
      "c:\\Users\\mp222\\OneDrive - Imperial College London\\IslandTimeGitHub\\IslandTime\\IslandTime\\TimeSeriesAnalysis.py:737: InterpolationWarning: The test statistic is outside of the range of p-values available in the\n",
      "look-up table. The actual p-value is greater than the p-value returned.\n",
      "\n",
      "  results = test(time_series.values)\n",
      "Transect:  28%|██▊       | 359/1283 [00:23<00:59, 15.43it/s]c:\\Users\\mp222\\OneDrive - Imperial College London\\IslandTimeGitHub\\IslandTime\\IslandTime\\TimeSeriesAnalysis.py:737: InterpolationWarning: The test statistic is outside of the range of p-values available in the\n",
      "look-up table. The actual p-value is greater than the p-value returned.\n",
      "\n",
      "  results = test(time_series.values)\n",
      "c:\\Users\\mp222\\OneDrive - Imperial College London\\IslandTimeGitHub\\IslandTime\\IslandTime\\TimeSeriesAnalysis.py:737: InterpolationWarning: The test statistic is outside of the range of p-values available in the\n",
      "look-up table. The actual p-value is greater than the p-value returned.\n",
      "\n",
      "  results = test(time_series.values)\n",
      "Transect:  28%|██▊       | 361/1283 [00:23<01:03, 14.44it/s]c:\\Users\\mp222\\OneDrive - Imperial College London\\IslandTimeGitHub\\IslandTime\\IslandTime\\TimeSeriesAnalysis.py:737: InterpolationWarning: The test statistic is outside of the range of p-values available in the\n",
      "look-up table. The actual p-value is greater than the p-value returned.\n",
      "\n",
      "  results = test(time_series.values)\n",
      "c:\\Users\\mp222\\OneDrive - Imperial College London\\IslandTimeGitHub\\IslandTime\\IslandTime\\TimeSeriesAnalysis.py:737: InterpolationWarning: The test statistic is outside of the range of p-values available in the\n",
      "look-up table. The actual p-value is greater than the p-value returned.\n",
      "\n",
      "  results = test(time_series.values)\n",
      "Transect:  28%|██▊       | 363/1283 [00:24<01:03, 14.43it/s]c:\\Users\\mp222\\OneDrive - Imperial College London\\IslandTimeGitHub\\IslandTime\\IslandTime\\TimeSeriesAnalysis.py:737: InterpolationWarning: The test statistic is outside of the range of p-values available in the\n",
      "look-up table. The actual p-value is greater than the p-value returned.\n",
      "\n",
      "  results = test(time_series.values)\n",
      "c:\\Users\\mp222\\OneDrive - Imperial College London\\IslandTimeGitHub\\IslandTime\\IslandTime\\TimeSeriesAnalysis.py:737: InterpolationWarning: The test statistic is outside of the range of p-values available in the\n",
      "look-up table. The actual p-value is greater than the p-value returned.\n",
      "\n",
      "  results = test(time_series.values)\n",
      "Transect:  28%|██▊       | 365/1283 [00:24<01:03, 14.42it/s]c:\\Users\\mp222\\OneDrive - Imperial College London\\IslandTimeGitHub\\IslandTime\\IslandTime\\TimeSeriesAnalysis.py:737: InterpolationWarning: The test statistic is outside of the range of p-values available in the\n",
      "look-up table. The actual p-value is greater than the p-value returned.\n",
      "\n",
      "  results = test(time_series.values)\n",
      "c:\\Users\\mp222\\OneDrive - Imperial College London\\IslandTimeGitHub\\IslandTime\\IslandTime\\TimeSeriesAnalysis.py:737: InterpolationWarning: The test statistic is outside of the range of p-values available in the\n",
      "look-up table. The actual p-value is greater than the p-value returned.\n",
      "\n",
      "  results = test(time_series.values)\n",
      "Transect:  29%|██▊       | 367/1283 [00:24<01:03, 14.32it/s]c:\\Users\\mp222\\OneDrive - Imperial College London\\IslandTimeGitHub\\IslandTime\\IslandTime\\TimeSeriesAnalysis.py:737: InterpolationWarning: The test statistic is outside of the range of p-values available in the\n",
      "look-up table. The actual p-value is greater than the p-value returned.\n",
      "\n",
      "  results = test(time_series.values)\n",
      "c:\\Users\\mp222\\OneDrive - Imperial College London\\IslandTimeGitHub\\IslandTime\\IslandTime\\TimeSeriesAnalysis.py:737: InterpolationWarning: The test statistic is outside of the range of p-values available in the\n",
      "look-up table. The actual p-value is greater than the p-value returned.\n",
      "\n",
      "  results = test(time_series.values)\n",
      "Transect:  29%|██▉       | 369/1283 [00:24<01:02, 14.70it/s]c:\\Users\\mp222\\OneDrive - Imperial College London\\IslandTimeGitHub\\IslandTime\\IslandTime\\TimeSeriesAnalysis.py:737: InterpolationWarning: The test statistic is outside of the range of p-values available in the\n",
      "look-up table. The actual p-value is greater than the p-value returned.\n",
      "\n",
      "  results = test(time_series.values)\n",
      "c:\\Users\\mp222\\OneDrive - Imperial College London\\IslandTimeGitHub\\IslandTime\\IslandTime\\TimeSeriesAnalysis.py:737: InterpolationWarning: The test statistic is outside of the range of p-values available in the\n",
      "look-up table. The actual p-value is greater than the p-value returned.\n",
      "\n",
      "  results = test(time_series.values)\n",
      "Transect:  29%|██▉       | 371/1283 [00:24<01:00, 14.97it/s]c:\\Users\\mp222\\OneDrive - Imperial College London\\IslandTimeGitHub\\IslandTime\\IslandTime\\TimeSeriesAnalysis.py:737: InterpolationWarning: The test statistic is outside of the range of p-values available in the\n",
      "look-up table. The actual p-value is greater than the p-value returned.\n",
      "\n",
      "  results = test(time_series.values)\n",
      "c:\\Users\\mp222\\OneDrive - Imperial College London\\IslandTimeGitHub\\IslandTime\\IslandTime\\TimeSeriesAnalysis.py:737: InterpolationWarning: The test statistic is outside of the range of p-values available in the\n",
      "look-up table. The actual p-value is greater than the p-value returned.\n",
      "\n",
      "  results = test(time_series.values)\n",
      "Transect:  29%|██▉       | 373/1283 [00:24<00:59, 15.23it/s]c:\\Users\\mp222\\OneDrive - Imperial College London\\IslandTimeGitHub\\IslandTime\\IslandTime\\TimeSeriesAnalysis.py:737: InterpolationWarning: The test statistic is outside of the range of p-values available in the\n",
      "look-up table. The actual p-value is greater than the p-value returned.\n",
      "\n",
      "  results = test(time_series.values)\n",
      "c:\\Users\\mp222\\OneDrive - Imperial College London\\IslandTimeGitHub\\IslandTime\\IslandTime\\TimeSeriesAnalysis.py:737: InterpolationWarning: The test statistic is outside of the range of p-values available in the\n",
      "look-up table. The actual p-value is greater than the p-value returned.\n",
      "\n",
      "  results = test(time_series.values)\n",
      "Transect:  29%|██▉       | 375/1283 [00:24<00:59, 15.33it/s]c:\\Users\\mp222\\OneDrive - Imperial College London\\IslandTimeGitHub\\IslandTime\\IslandTime\\TimeSeriesAnalysis.py:737: InterpolationWarning: The test statistic is outside of the range of p-values available in the\n",
      "look-up table. The actual p-value is greater than the p-value returned.\n",
      "\n",
      "  results = test(time_series.values)\n",
      "c:\\Users\\mp222\\OneDrive - Imperial College London\\IslandTimeGitHub\\IslandTime\\IslandTime\\TimeSeriesAnalysis.py:737: InterpolationWarning: The test statistic is outside of the range of p-values available in the\n",
      "look-up table. The actual p-value is greater than the p-value returned.\n",
      "\n",
      "  results = test(time_series.values)\n",
      "Transect:  29%|██▉       | 377/1283 [00:24<00:58, 15.60it/s]c:\\Users\\mp222\\OneDrive - Imperial College London\\IslandTimeGitHub\\IslandTime\\IslandTime\\TimeSeriesAnalysis.py:737: InterpolationWarning: The test statistic is outside of the range of p-values available in the\n",
      "look-up table. The actual p-value is greater than the p-value returned.\n",
      "\n",
      "  results = test(time_series.values)\n",
      "c:\\Users\\mp222\\OneDrive - Imperial College London\\IslandTimeGitHub\\IslandTime\\IslandTime\\TimeSeriesAnalysis.py:737: InterpolationWarning: The test statistic is outside of the range of p-values available in the\n",
      "look-up table. The actual p-value is greater than the p-value returned.\n",
      "\n",
      "  results = test(time_series.values)\n",
      "Transect:  30%|██▉       | 379/1283 [00:25<00:57, 15.79it/s]c:\\Users\\mp222\\OneDrive - Imperial College London\\IslandTimeGitHub\\IslandTime\\IslandTime\\TimeSeriesAnalysis.py:737: InterpolationWarning: The test statistic is outside of the range of p-values available in the\n",
      "look-up table. The actual p-value is greater than the p-value returned.\n",
      "\n",
      "  results = test(time_series.values)\n",
      "Transect:  30%|██▉       | 383/1283 [00:25<00:55, 16.08it/s]c:\\Users\\mp222\\OneDrive - Imperial College London\\IslandTimeGitHub\\IslandTime\\IslandTime\\TimeSeriesAnalysis.py:737: InterpolationWarning: The test statistic is outside of the range of p-values available in the\n",
      "look-up table. The actual p-value is greater than the p-value returned.\n",
      "\n",
      "  results = test(time_series.values)\n",
      "c:\\Users\\mp222\\OneDrive - Imperial College London\\IslandTimeGitHub\\IslandTime\\IslandTime\\TimeSeriesAnalysis.py:737: InterpolationWarning: The test statistic is outside of the range of p-values available in the\n",
      "look-up table. The actual p-value is greater than the p-value returned.\n",
      "\n",
      "  results = test(time_series.values)\n",
      "Transect:  30%|███       | 385/1283 [00:25<00:55, 16.11it/s]c:\\Users\\mp222\\OneDrive - Imperial College London\\IslandTimeGitHub\\IslandTime\\IslandTime\\TimeSeriesAnalysis.py:737: InterpolationWarning: The test statistic is outside of the range of p-values available in the\n",
      "look-up table. The actual p-value is greater than the p-value returned.\n",
      "\n",
      "  results = test(time_series.values)\n",
      "c:\\Users\\mp222\\OneDrive - Imperial College London\\IslandTimeGitHub\\IslandTime\\IslandTime\\TimeSeriesAnalysis.py:737: InterpolationWarning: The test statistic is outside of the range of p-values available in the\n",
      "look-up table. The actual p-value is greater than the p-value returned.\n",
      "\n",
      "  results = test(time_series.values)\n",
      "Transect:  30%|███       | 387/1283 [00:25<00:55, 16.02it/s]c:\\Users\\mp222\\OneDrive - Imperial College London\\IslandTimeGitHub\\IslandTime\\IslandTime\\TimeSeriesAnalysis.py:737: InterpolationWarning: The test statistic is outside of the range of p-values available in the\n",
      "look-up table. The actual p-value is greater than the p-value returned.\n",
      "\n",
      "  results = test(time_series.values)\n",
      "c:\\Users\\mp222\\OneDrive - Imperial College London\\IslandTimeGitHub\\IslandTime\\IslandTime\\TimeSeriesAnalysis.py:737: InterpolationWarning: The test statistic is outside of the range of p-values available in the\n",
      "look-up table. The actual p-value is greater than the p-value returned.\n",
      "\n",
      "  results = test(time_series.values)\n",
      "Transect:  30%|███       | 389/1283 [00:25<00:55, 15.97it/s]c:\\Users\\mp222\\OneDrive - Imperial College London\\IslandTimeGitHub\\IslandTime\\IslandTime\\TimeSeriesAnalysis.py:737: InterpolationWarning: The test statistic is outside of the range of p-values available in the\n",
      "look-up table. The actual p-value is greater than the p-value returned.\n",
      "\n",
      "  results = test(time_series.values)\n",
      "c:\\Users\\mp222\\OneDrive - Imperial College London\\IslandTimeGitHub\\IslandTime\\IslandTime\\TimeSeriesAnalysis.py:737: InterpolationWarning: The test statistic is outside of the range of p-values available in the\n",
      "look-up table. The actual p-value is greater than the p-value returned.\n",
      "\n",
      "  results = test(time_series.values)\n",
      "Transect:  30%|███       | 391/1283 [00:25<00:56, 15.68it/s]c:\\Users\\mp222\\OneDrive - Imperial College London\\IslandTimeGitHub\\IslandTime\\IslandTime\\TimeSeriesAnalysis.py:737: InterpolationWarning: The test statistic is outside of the range of p-values available in the\n",
      "look-up table. The actual p-value is greater than the p-value returned.\n",
      "\n",
      "  results = test(time_series.values)\n",
      "Transect:  31%|███       | 395/1283 [00:26<00:55, 15.90it/s]c:\\Users\\mp222\\OneDrive - Imperial College London\\IslandTimeGitHub\\IslandTime\\IslandTime\\TimeSeriesAnalysis.py:737: InterpolationWarning: The test statistic is outside of the range of p-values available in the\n",
      "look-up table. The actual p-value is greater than the p-value returned.\n",
      "\n",
      "  results = test(time_series.values)\n",
      "c:\\Users\\mp222\\OneDrive - Imperial College London\\IslandTimeGitHub\\IslandTime\\IslandTime\\TimeSeriesAnalysis.py:737: InterpolationWarning: The test statistic is outside of the range of p-values available in the\n",
      "look-up table. The actual p-value is greater than the p-value returned.\n",
      "\n",
      "  results = test(time_series.values)\n",
      "Transect:  31%|███       | 397/1283 [00:26<00:55, 16.00it/s]c:\\Users\\mp222\\OneDrive - Imperial College London\\IslandTimeGitHub\\IslandTime\\IslandTime\\TimeSeriesAnalysis.py:737: InterpolationWarning: The test statistic is outside of the range of p-values available in the\n",
      "look-up table. The actual p-value is greater than the p-value returned.\n",
      "\n",
      "  results = test(time_series.values)\n",
      "c:\\Users\\mp222\\OneDrive - Imperial College London\\IslandTimeGitHub\\IslandTime\\IslandTime\\TimeSeriesAnalysis.py:737: InterpolationWarning: The test statistic is outside of the range of p-values available in the\n",
      "look-up table. The actual p-value is greater than the p-value returned.\n",
      "\n",
      "  results = test(time_series.values)\n",
      "Transect:  31%|███       | 399/1283 [00:26<00:55, 15.81it/s]c:\\Users\\mp222\\OneDrive - Imperial College London\\IslandTimeGitHub\\IslandTime\\IslandTime\\TimeSeriesAnalysis.py:737: InterpolationWarning: The test statistic is outside of the range of p-values available in the\n",
      "look-up table. The actual p-value is greater than the p-value returned.\n",
      "\n",
      "  results = test(time_series.values)\n",
      "c:\\Users\\mp222\\OneDrive - Imperial College London\\IslandTimeGitHub\\IslandTime\\IslandTime\\TimeSeriesAnalysis.py:737: InterpolationWarning: The test statistic is outside of the range of p-values available in the\n",
      "look-up table. The actual p-value is greater than the p-value returned.\n",
      "\n",
      "  results = test(time_series.values)\n",
      "Transect:  31%|███▏      | 401/1283 [00:26<00:59, 14.81it/s]c:\\Users\\mp222\\OneDrive - Imperial College London\\IslandTimeGitHub\\IslandTime\\IslandTime\\TimeSeriesAnalysis.py:737: InterpolationWarning: The test statistic is outside of the range of p-values available in the\n",
      "look-up table. The actual p-value is greater than the p-value returned.\n",
      "\n",
      "  results = test(time_series.values)\n",
      "c:\\Users\\mp222\\OneDrive - Imperial College London\\IslandTimeGitHub\\IslandTime\\IslandTime\\TimeSeriesAnalysis.py:737: InterpolationWarning: The test statistic is outside of the range of p-values available in the\n",
      "look-up table. The actual p-value is greater than the p-value returned.\n",
      "\n",
      "  results = test(time_series.values)\n",
      "Transect:  31%|███▏      | 403/1283 [00:26<00:59, 14.81it/s]c:\\Users\\mp222\\OneDrive - Imperial College London\\IslandTimeGitHub\\IslandTime\\IslandTime\\TimeSeriesAnalysis.py:737: InterpolationWarning: The test statistic is outside of the range of p-values available in the\n",
      "look-up table. The actual p-value is greater than the p-value returned.\n",
      "\n",
      "  results = test(time_series.values)\n",
      "c:\\Users\\mp222\\OneDrive - Imperial College London\\IslandTimeGitHub\\IslandTime\\IslandTime\\TimeSeriesAnalysis.py:737: InterpolationWarning: The test statistic is outside of the range of p-values available in the\n",
      "look-up table. The actual p-value is greater than the p-value returned.\n",
      "\n",
      "  results = test(time_series.values)\n",
      "Transect:  32%|███▏      | 405/1283 [00:26<01:00, 14.55it/s]c:\\Users\\mp222\\OneDrive - Imperial College London\\IslandTimeGitHub\\IslandTime\\IslandTime\\TimeSeriesAnalysis.py:737: InterpolationWarning: The test statistic is outside of the range of p-values available in the\n",
      "look-up table. The actual p-value is greater than the p-value returned.\n",
      "\n",
      "  results = test(time_series.values)\n",
      "c:\\Users\\mp222\\OneDrive - Imperial College London\\IslandTimeGitHub\\IslandTime\\IslandTime\\TimeSeriesAnalysis.py:737: InterpolationWarning: The test statistic is outside of the range of p-values available in the\n",
      "look-up table. The actual p-value is greater than the p-value returned.\n",
      "\n",
      "  results = test(time_series.values)\n",
      "Transect:  32%|███▏      | 407/1283 [00:26<01:02, 14.12it/s]c:\\Users\\mp222\\OneDrive - Imperial College London\\IslandTimeGitHub\\IslandTime\\IslandTime\\TimeSeriesAnalysis.py:737: InterpolationWarning: The test statistic is outside of the range of p-values available in the\n",
      "look-up table. The actual p-value is greater than the p-value returned.\n",
      "\n",
      "  results = test(time_series.values)\n",
      "c:\\Users\\mp222\\OneDrive - Imperial College London\\IslandTimeGitHub\\IslandTime\\IslandTime\\TimeSeriesAnalysis.py:737: InterpolationWarning: The test statistic is outside of the range of p-values available in the\n",
      "look-up table. The actual p-value is greater than the p-value returned.\n",
      "\n",
      "  results = test(time_series.values)\n",
      "Transect:  32%|███▏      | 409/1283 [00:27<01:01, 14.23it/s]c:\\Users\\mp222\\OneDrive - Imperial College London\\IslandTimeGitHub\\IslandTime\\IslandTime\\TimeSeriesAnalysis.py:737: InterpolationWarning: The test statistic is outside of the range of p-values available in the\n",
      "look-up table. The actual p-value is greater than the p-value returned.\n",
      "\n",
      "  results = test(time_series.values)\n",
      "c:\\Users\\mp222\\OneDrive - Imperial College London\\IslandTimeGitHub\\IslandTime\\IslandTime\\TimeSeriesAnalysis.py:737: InterpolationWarning: The test statistic is outside of the range of p-values available in the\n",
      "look-up table. The actual p-value is greater than the p-value returned.\n",
      "\n",
      "  results = test(time_series.values)\n",
      "Transect:  32%|███▏      | 411/1283 [00:27<00:59, 14.67it/s]c:\\Users\\mp222\\OneDrive - Imperial College London\\IslandTimeGitHub\\IslandTime\\IslandTime\\TimeSeriesAnalysis.py:737: InterpolationWarning: The test statistic is outside of the range of p-values available in the\n",
      "look-up table. The actual p-value is greater than the p-value returned.\n",
      "\n",
      "  results = test(time_series.values)\n",
      "c:\\Users\\mp222\\OneDrive - Imperial College London\\IslandTimeGitHub\\IslandTime\\IslandTime\\TimeSeriesAnalysis.py:737: InterpolationWarning: The test statistic is outside of the range of p-values available in the\n",
      "look-up table. The actual p-value is greater than the p-value returned.\n",
      "\n",
      "  results = test(time_series.values)\n",
      "Transect:  32%|███▏      | 413/1283 [00:27<00:58, 14.86it/s]c:\\Users\\mp222\\OneDrive - Imperial College London\\IslandTimeGitHub\\IslandTime\\IslandTime\\TimeSeriesAnalysis.py:737: InterpolationWarning: The test statistic is outside of the range of p-values available in the\n",
      "look-up table. The actual p-value is greater than the p-value returned.\n",
      "\n",
      "  results = test(time_series.values)\n",
      "c:\\Users\\mp222\\OneDrive - Imperial College London\\IslandTimeGitHub\\IslandTime\\IslandTime\\TimeSeriesAnalysis.py:737: InterpolationWarning: The test statistic is outside of the range of p-values available in the\n",
      "look-up table. The actual p-value is greater than the p-value returned.\n",
      "\n",
      "  results = test(time_series.values)\n",
      "Transect:  32%|███▏      | 415/1283 [00:27<00:57, 15.12it/s]c:\\Users\\mp222\\OneDrive - Imperial College London\\IslandTimeGitHub\\IslandTime\\IslandTime\\TimeSeriesAnalysis.py:737: InterpolationWarning: The test statistic is outside of the range of p-values available in the\n",
      "look-up table. The actual p-value is greater than the p-value returned.\n",
      "\n",
      "  results = test(time_series.values)\n",
      "c:\\Users\\mp222\\OneDrive - Imperial College London\\IslandTimeGitHub\\IslandTime\\IslandTime\\TimeSeriesAnalysis.py:737: InterpolationWarning: The test statistic is outside of the range of p-values available in the\n",
      "look-up table. The actual p-value is greater than the p-value returned.\n",
      "\n",
      "  results = test(time_series.values)\n",
      "Transect:  33%|███▎      | 417/1283 [00:27<00:56, 15.37it/s]c:\\Users\\mp222\\OneDrive - Imperial College London\\IslandTimeGitHub\\IslandTime\\IslandTime\\TimeSeriesAnalysis.py:737: InterpolationWarning: The test statistic is outside of the range of p-values available in the\n",
      "look-up table. The actual p-value is greater than the p-value returned.\n",
      "\n",
      "  results = test(time_series.values)\n",
      "c:\\Users\\mp222\\OneDrive - Imperial College London\\IslandTimeGitHub\\IslandTime\\IslandTime\\TimeSeriesAnalysis.py:737: InterpolationWarning: The test statistic is outside of the range of p-values available in the\n",
      "look-up table. The actual p-value is greater than the p-value returned.\n",
      "\n",
      "  results = test(time_series.values)\n",
      "Transect:  33%|███▎      | 419/1283 [00:27<00:56, 15.23it/s]c:\\Users\\mp222\\OneDrive - Imperial College London\\IslandTimeGitHub\\IslandTime\\IslandTime\\TimeSeriesAnalysis.py:737: InterpolationWarning: The test statistic is outside of the range of p-values available in the\n",
      "look-up table. The actual p-value is greater than the p-value returned.\n",
      "\n",
      "  results = test(time_series.values)\n",
      "c:\\Users\\mp222\\OneDrive - Imperial College London\\IslandTimeGitHub\\IslandTime\\IslandTime\\TimeSeriesAnalysis.py:737: InterpolationWarning: The test statistic is outside of the range of p-values available in the\n",
      "look-up table. The actual p-value is greater than the p-value returned.\n",
      "\n",
      "  results = test(time_series.values)\n",
      "Transect:  33%|███▎      | 421/1283 [00:27<00:55, 15.42it/s]c:\\Users\\mp222\\OneDrive - Imperial College London\\IslandTimeGitHub\\IslandTime\\IslandTime\\TimeSeriesAnalysis.py:737: InterpolationWarning: The test statistic is outside of the range of p-values available in the\n",
      "look-up table. The actual p-value is greater than the p-value returned.\n",
      "\n",
      "  results = test(time_series.values)\n",
      "c:\\Users\\mp222\\OneDrive - Imperial College London\\IslandTimeGitHub\\IslandTime\\IslandTime\\TimeSeriesAnalysis.py:737: InterpolationWarning: The test statistic is outside of the range of p-values available in the\n",
      "look-up table. The actual p-value is greater than the p-value returned.\n",
      "\n",
      "  results = test(time_series.values)\n",
      "Transect:  33%|███▎      | 423/1283 [00:27<00:55, 15.57it/s]c:\\Users\\mp222\\OneDrive - Imperial College London\\IslandTimeGitHub\\IslandTime\\IslandTime\\TimeSeriesAnalysis.py:737: InterpolationWarning: The test statistic is outside of the range of p-values available in the\n",
      "look-up table. The actual p-value is greater than the p-value returned.\n",
      "\n",
      "  results = test(time_series.values)\n",
      "Transect:  33%|███▎      | 425/1283 [00:28<00:55, 15.58it/s]c:\\Users\\mp222\\OneDrive - Imperial College London\\IslandTimeGitHub\\IslandTime\\IslandTime\\TimeSeriesAnalysis.py:737: InterpolationWarning: The test statistic is outside of the range of p-values available in the\n",
      "look-up table. The actual p-value is greater than the p-value returned.\n",
      "\n",
      "  results = test(time_series.values)\n",
      "Transect:  33%|███▎      | 427/1283 [00:28<00:55, 15.34it/s]c:\\Users\\mp222\\OneDrive - Imperial College London\\IslandTimeGitHub\\IslandTime\\IslandTime\\TimeSeriesAnalysis.py:737: InterpolationWarning: The test statistic is outside of the range of p-values available in the\n",
      "look-up table. The actual p-value is greater than the p-value returned.\n",
      "\n",
      "  results = test(time_series.values)\n",
      "c:\\Users\\mp222\\OneDrive - Imperial College London\\IslandTimeGitHub\\IslandTime\\IslandTime\\TimeSeriesAnalysis.py:737: InterpolationWarning: The test statistic is outside of the range of p-values available in the\n",
      "look-up table. The actual p-value is greater than the p-value returned.\n",
      "\n",
      "  results = test(time_series.values)\n",
      "Transect:  33%|███▎      | 429/1283 [00:28<00:56, 15.11it/s]c:\\Users\\mp222\\OneDrive - Imperial College London\\IslandTimeGitHub\\IslandTime\\IslandTime\\TimeSeriesAnalysis.py:737: InterpolationWarning: The test statistic is outside of the range of p-values available in the\n",
      "look-up table. The actual p-value is greater than the p-value returned.\n",
      "\n",
      "  results = test(time_series.values)\n",
      "c:\\Users\\mp222\\OneDrive - Imperial College London\\IslandTimeGitHub\\IslandTime\\IslandTime\\TimeSeriesAnalysis.py:737: InterpolationWarning: The test statistic is outside of the range of p-values available in the\n",
      "look-up table. The actual p-value is greater than the p-value returned.\n",
      "\n",
      "  results = test(time_series.values)\n",
      "Transect:  34%|███▎      | 431/1283 [00:28<00:56, 15.19it/s]c:\\Users\\mp222\\OneDrive - Imperial College London\\IslandTimeGitHub\\IslandTime\\IslandTime\\TimeSeriesAnalysis.py:737: InterpolationWarning: The test statistic is outside of the range of p-values available in the\n",
      "look-up table. The actual p-value is greater than the p-value returned.\n",
      "\n",
      "  results = test(time_series.values)\n",
      "c:\\Users\\mp222\\OneDrive - Imperial College London\\IslandTimeGitHub\\IslandTime\\IslandTime\\TimeSeriesAnalysis.py:737: InterpolationWarning: The test statistic is outside of the range of p-values available in the\n",
      "look-up table. The actual p-value is greater than the p-value returned.\n",
      "\n",
      "  results = test(time_series.values)\n",
      "Transect:  34%|███▎      | 433/1283 [00:28<00:55, 15.42it/s]c:\\Users\\mp222\\OneDrive - Imperial College London\\IslandTimeGitHub\\IslandTime\\IslandTime\\TimeSeriesAnalysis.py:737: InterpolationWarning: The test statistic is outside of the range of p-values available in the\n",
      "look-up table. The actual p-value is greater than the p-value returned.\n",
      "\n",
      "  results = test(time_series.values)\n",
      "c:\\Users\\mp222\\OneDrive - Imperial College London\\IslandTimeGitHub\\IslandTime\\IslandTime\\TimeSeriesAnalysis.py:737: InterpolationWarning: The test statistic is outside of the range of p-values available in the\n",
      "look-up table. The actual p-value is greater than the p-value returned.\n",
      "\n",
      "  results = test(time_series.values)\n",
      "Transect:  34%|███▍      | 435/1283 [00:28<00:55, 15.39it/s]c:\\Users\\mp222\\OneDrive - Imperial College London\\IslandTimeGitHub\\IslandTime\\IslandTime\\TimeSeriesAnalysis.py:737: InterpolationWarning: The test statistic is outside of the range of p-values available in the\n",
      "look-up table. The actual p-value is greater than the p-value returned.\n",
      "\n",
      "  results = test(time_series.values)\n",
      "c:\\Users\\mp222\\OneDrive - Imperial College London\\IslandTimeGitHub\\IslandTime\\IslandTime\\TimeSeriesAnalysis.py:737: InterpolationWarning: The test statistic is outside of the range of p-values available in the\n",
      "look-up table. The actual p-value is greater than the p-value returned.\n",
      "\n",
      "  results = test(time_series.values)\n",
      "Transect:  34%|███▍      | 437/1283 [00:28<00:55, 15.32it/s]c:\\Users\\mp222\\OneDrive - Imperial College London\\IslandTimeGitHub\\IslandTime\\IslandTime\\TimeSeriesAnalysis.py:737: InterpolationWarning: The test statistic is outside of the range of p-values available in the\n",
      "look-up table. The actual p-value is greater than the p-value returned.\n",
      "\n",
      "  results = test(time_series.values)\n",
      "c:\\Users\\mp222\\OneDrive - Imperial College London\\IslandTimeGitHub\\IslandTime\\IslandTime\\TimeSeriesAnalysis.py:737: InterpolationWarning: The test statistic is outside of the range of p-values available in the\n",
      "look-up table. The actual p-value is greater than the p-value returned.\n",
      "\n",
      "  results = test(time_series.values)\n",
      "Transect:  34%|███▍      | 439/1283 [00:28<00:54, 15.55it/s]c:\\Users\\mp222\\OneDrive - Imperial College London\\IslandTimeGitHub\\IslandTime\\IslandTime\\TimeSeriesAnalysis.py:737: InterpolationWarning: The test statistic is outside of the range of p-values available in the\n",
      "look-up table. The actual p-value is greater than the p-value returned.\n",
      "\n",
      "  results = test(time_series.values)\n",
      "c:\\Users\\mp222\\OneDrive - Imperial College London\\IslandTimeGitHub\\IslandTime\\IslandTime\\TimeSeriesAnalysis.py:737: InterpolationWarning: The test statistic is outside of the range of p-values available in the\n",
      "look-up table. The actual p-value is greater than the p-value returned.\n",
      "\n",
      "  results = test(time_series.values)\n",
      "Transect:  34%|███▍      | 441/1283 [00:29<00:53, 15.79it/s]c:\\Users\\mp222\\OneDrive - Imperial College London\\IslandTimeGitHub\\IslandTime\\IslandTime\\TimeSeriesAnalysis.py:737: InterpolationWarning: The test statistic is outside of the range of p-values available in the\n",
      "look-up table. The actual p-value is greater than the p-value returned.\n",
      "\n",
      "  results = test(time_series.values)\n",
      "c:\\Users\\mp222\\OneDrive - Imperial College London\\IslandTimeGitHub\\IslandTime\\IslandTime\\TimeSeriesAnalysis.py:737: InterpolationWarning: The test statistic is outside of the range of p-values available in the\n",
      "look-up table. The actual p-value is greater than the p-value returned.\n",
      "\n",
      "  results = test(time_series.values)\n",
      "Transect:  35%|███▍      | 443/1283 [00:29<00:55, 15.10it/s]c:\\Users\\mp222\\OneDrive - Imperial College London\\IslandTimeGitHub\\IslandTime\\IslandTime\\TimeSeriesAnalysis.py:737: InterpolationWarning: The test statistic is outside of the range of p-values available in the\n",
      "look-up table. The actual p-value is greater than the p-value returned.\n",
      "\n",
      "  results = test(time_series.values)\n",
      "c:\\Users\\mp222\\OneDrive - Imperial College London\\IslandTimeGitHub\\IslandTime\\IslandTime\\TimeSeriesAnalysis.py:737: InterpolationWarning: The test statistic is outside of the range of p-values available in the\n",
      "look-up table. The actual p-value is greater than the p-value returned.\n",
      "\n",
      "  results = test(time_series.values)\n",
      "Transect:  35%|███▍      | 445/1283 [00:29<00:55, 15.17it/s]c:\\Users\\mp222\\OneDrive - Imperial College London\\IslandTimeGitHub\\IslandTime\\IslandTime\\TimeSeriesAnalysis.py:737: InterpolationWarning: The test statistic is outside of the range of p-values available in the\n",
      "look-up table. The actual p-value is greater than the p-value returned.\n",
      "\n",
      "  results = test(time_series.values)\n",
      "c:\\Users\\mp222\\OneDrive - Imperial College London\\IslandTimeGitHub\\IslandTime\\IslandTime\\TimeSeriesAnalysis.py:737: InterpolationWarning: The test statistic is outside of the range of p-values available in the\n",
      "look-up table. The actual p-value is greater than the p-value returned.\n",
      "\n",
      "  results = test(time_series.values)\n",
      "Transect:  35%|███▍      | 447/1283 [00:29<00:53, 15.55it/s]c:\\Users\\mp222\\OneDrive - Imperial College London\\IslandTimeGitHub\\IslandTime\\IslandTime\\TimeSeriesAnalysis.py:737: InterpolationWarning: The test statistic is outside of the range of p-values available in the\n",
      "look-up table. The actual p-value is greater than the p-value returned.\n",
      "\n",
      "  results = test(time_series.values)\n",
      "Transect:  36%|███▌      | 457/1283 [00:30<00:58, 14.22it/s]c:\\Users\\mp222\\OneDrive - Imperial College London\\IslandTimeGitHub\\IslandTime\\IslandTime\\TimeSeriesAnalysis.py:737: InterpolationWarning: The test statistic is outside of the range of p-values available in the\n",
      "look-up table. The actual p-value is greater than the p-value returned.\n",
      "\n",
      "  results = test(time_series.values)\n",
      "c:\\Users\\mp222\\OneDrive - Imperial College London\\IslandTimeGitHub\\IslandTime\\IslandTime\\TimeSeriesAnalysis.py:737: InterpolationWarning: The test statistic is outside of the range of p-values available in the\n",
      "look-up table. The actual p-value is greater than the p-value returned.\n",
      "\n",
      "  results = test(time_series.values)\n",
      "Transect:  36%|███▌      | 459/1283 [00:30<00:56, 14.71it/s]c:\\Users\\mp222\\OneDrive - Imperial College London\\IslandTimeGitHub\\IslandTime\\IslandTime\\TimeSeriesAnalysis.py:737: InterpolationWarning: The test statistic is outside of the range of p-values available in the\n",
      "look-up table. The actual p-value is greater than the p-value returned.\n",
      "\n",
      "  results = test(time_series.values)\n",
      "c:\\Users\\mp222\\OneDrive - Imperial College London\\IslandTimeGitHub\\IslandTime\\IslandTime\\TimeSeriesAnalysis.py:737: InterpolationWarning: The test statistic is outside of the range of p-values available in the\n",
      "look-up table. The actual p-value is greater than the p-value returned.\n",
      "\n",
      "  results = test(time_series.values)\n",
      "Transect:  37%|███▋      | 473/1283 [00:31<00:56, 14.45it/s]c:\\Users\\mp222\\OneDrive - Imperial College London\\IslandTimeGitHub\\IslandTime\\IslandTime\\TimeSeriesAnalysis.py:737: InterpolationWarning: The test statistic is outside of the range of p-values available in the\n",
      "look-up table. The actual p-value is smaller than the p-value returned.\n",
      "\n",
      "  results = test(time_series.values)\n",
      "Transect:  37%|███▋      | 479/1283 [00:31<00:54, 14.70it/s]c:\\Users\\mp222\\OneDrive - Imperial College London\\IslandTimeGitHub\\IslandTime\\IslandTime\\TimeSeriesAnalysis.py:737: InterpolationWarning: The test statistic is outside of the range of p-values available in the\n",
      "look-up table. The actual p-value is greater than the p-value returned.\n",
      "\n",
      "  results = test(time_series.values)\n",
      "c:\\Users\\mp222\\OneDrive - Imperial College London\\IslandTimeGitHub\\IslandTime\\IslandTime\\TimeSeriesAnalysis.py:737: InterpolationWarning: The test statistic is outside of the range of p-values available in the\n",
      "look-up table. The actual p-value is greater than the p-value returned.\n",
      "\n",
      "  results = test(time_series.values)\n",
      "Transect:  37%|███▋      | 481/1283 [00:31<00:56, 14.26it/s]c:\\Users\\mp222\\OneDrive - Imperial College London\\IslandTimeGitHub\\IslandTime\\IslandTime\\TimeSeriesAnalysis.py:737: InterpolationWarning: The test statistic is outside of the range of p-values available in the\n",
      "look-up table. The actual p-value is greater than the p-value returned.\n",
      "\n",
      "  results = test(time_series.values)\n",
      "c:\\Users\\mp222\\OneDrive - Imperial College London\\IslandTimeGitHub\\IslandTime\\IslandTime\\TimeSeriesAnalysis.py:737: InterpolationWarning: The test statistic is outside of the range of p-values available in the\n",
      "look-up table. The actual p-value is greater than the p-value returned.\n",
      "\n",
      "  results = test(time_series.values)\n",
      "Transect:  38%|███▊      | 483/1283 [00:31<00:56, 14.27it/s]c:\\Users\\mp222\\OneDrive - Imperial College London\\IslandTimeGitHub\\IslandTime\\IslandTime\\TimeSeriesAnalysis.py:737: InterpolationWarning: The test statistic is outside of the range of p-values available in the\n",
      "look-up table. The actual p-value is greater than the p-value returned.\n",
      "\n",
      "  results = test(time_series.values)\n",
      "Transect:  38%|███▊      | 485/1283 [00:32<00:58, 13.59it/s]c:\\Users\\mp222\\OneDrive - Imperial College London\\IslandTimeGitHub\\IslandTime\\IslandTime\\TimeSeriesAnalysis.py:737: InterpolationWarning: The test statistic is outside of the range of p-values available in the\n",
      "look-up table. The actual p-value is greater than the p-value returned.\n",
      "\n",
      "  results = test(time_series.values)\n",
      "c:\\Users\\mp222\\OneDrive - Imperial College London\\IslandTimeGitHub\\IslandTime\\IslandTime\\TimeSeriesAnalysis.py:737: InterpolationWarning: The test statistic is outside of the range of p-values available in the\n",
      "look-up table. The actual p-value is greater than the p-value returned.\n",
      "\n",
      "  results = test(time_series.values)\n",
      "Transect:  38%|███▊      | 487/1283 [00:32<00:56, 14.18it/s]c:\\Users\\mp222\\OneDrive - Imperial College London\\IslandTimeGitHub\\IslandTime\\IslandTime\\TimeSeriesAnalysis.py:737: InterpolationWarning: The test statistic is outside of the range of p-values available in the\n",
      "look-up table. The actual p-value is greater than the p-value returned.\n",
      "\n",
      "  results = test(time_series.values)\n",
      "Transect:  38%|███▊      | 489/1283 [00:32<00:55, 14.34it/s]c:\\Users\\mp222\\OneDrive - Imperial College London\\IslandTimeGitHub\\IslandTime\\IslandTime\\TimeSeriesAnalysis.py:737: InterpolationWarning: The test statistic is outside of the range of p-values available in the\n",
      "look-up table. The actual p-value is greater than the p-value returned.\n",
      "\n",
      "  results = test(time_series.values)\n",
      "c:\\Users\\mp222\\OneDrive - Imperial College London\\IslandTimeGitHub\\IslandTime\\IslandTime\\TimeSeriesAnalysis.py:737: InterpolationWarning: The test statistic is outside of the range of p-values available in the\n",
      "look-up table. The actual p-value is greater than the p-value returned.\n",
      "\n",
      "  results = test(time_series.values)\n",
      "Transect:  39%|███▊      | 495/1283 [00:32<00:53, 14.77it/s]c:\\Users\\mp222\\OneDrive - Imperial College London\\IslandTimeGitHub\\IslandTime\\IslandTime\\TimeSeriesAnalysis.py:737: InterpolationWarning: The test statistic is outside of the range of p-values available in the\n",
      "look-up table. The actual p-value is greater than the p-value returned.\n",
      "\n",
      "  results = test(time_series.values)\n",
      "Transect:  39%|███▊      | 497/1283 [00:32<00:56, 13.97it/s]c:\\Users\\mp222\\OneDrive - Imperial College London\\IslandTimeGitHub\\IslandTime\\IslandTime\\TimeSeriesAnalysis.py:737: InterpolationWarning: The test statistic is outside of the range of p-values available in the\n",
      "look-up table. The actual p-value is greater than the p-value returned.\n",
      "\n",
      "  results = test(time_series.values)\n",
      "Transect:  39%|███▉      | 501/1283 [00:33<00:52, 14.79it/s]c:\\Users\\mp222\\OneDrive - Imperial College London\\IslandTimeGitHub\\IslandTime\\IslandTime\\TimeSeriesAnalysis.py:737: InterpolationWarning: The test statistic is outside of the range of p-values available in the\n",
      "look-up table. The actual p-value is smaller than the p-value returned.\n",
      "\n",
      "  results = test(time_series.values)\n",
      "c:\\Users\\mp222\\OneDrive - Imperial College London\\IslandTimeGitHub\\IslandTime\\IslandTime\\TimeSeriesAnalysis.py:737: InterpolationWarning: The test statistic is outside of the range of p-values available in the\n",
      "look-up table. The actual p-value is smaller than the p-value returned.\n",
      "\n",
      "  results = test(time_series.values)\n",
      "Transect:  39%|███▉      | 503/1283 [00:33<00:51, 15.06it/s]c:\\Users\\mp222\\OneDrive - Imperial College London\\IslandTimeGitHub\\IslandTime\\IslandTime\\TimeSeriesAnalysis.py:737: InterpolationWarning: The test statistic is outside of the range of p-values available in the\n",
      "look-up table. The actual p-value is smaller than the p-value returned.\n",
      "\n",
      "  results = test(time_series.values)\n",
      "c:\\Users\\mp222\\OneDrive - Imperial College London\\IslandTimeGitHub\\IslandTime\\IslandTime\\TimeSeriesAnalysis.py:737: InterpolationWarning: The test statistic is outside of the range of p-values available in the\n",
      "look-up table. The actual p-value is smaller than the p-value returned.\n",
      "\n",
      "  results = test(time_series.values)\n",
      "Transect:  39%|███▉      | 505/1283 [00:33<00:55, 13.90it/s]c:\\Users\\mp222\\OneDrive - Imperial College London\\IslandTimeGitHub\\IslandTime\\IslandTime\\TimeSeriesAnalysis.py:737: InterpolationWarning: The test statistic is outside of the range of p-values available in the\n",
      "look-up table. The actual p-value is smaller than the p-value returned.\n",
      "\n",
      "  results = test(time_series.values)\n",
      "Transect:  40%|███▉      | 513/1283 [00:34<00:52, 14.55it/s]c:\\Users\\mp222\\OneDrive - Imperial College London\\IslandTimeGitHub\\IslandTime\\IslandTime\\TimeSeriesAnalysis.py:737: InterpolationWarning: The test statistic is outside of the range of p-values available in the\n",
      "look-up table. The actual p-value is greater than the p-value returned.\n",
      "\n",
      "  results = test(time_series.values)\n",
      "c:\\Users\\mp222\\OneDrive - Imperial College London\\IslandTimeGitHub\\IslandTime\\IslandTime\\TimeSeriesAnalysis.py:737: InterpolationWarning: The test statistic is outside of the range of p-values available in the\n",
      "look-up table. The actual p-value is greater than the p-value returned.\n",
      "\n",
      "  results = test(time_series.values)\n",
      "Transect:  40%|████      | 515/1283 [00:34<00:52, 14.66it/s]c:\\Users\\mp222\\OneDrive - Imperial College London\\IslandTimeGitHub\\IslandTime\\IslandTime\\TimeSeriesAnalysis.py:737: InterpolationWarning: The test statistic is outside of the range of p-values available in the\n",
      "look-up table. The actual p-value is greater than the p-value returned.\n",
      "\n",
      "  results = test(time_series.values)\n",
      "c:\\Users\\mp222\\OneDrive - Imperial College London\\IslandTimeGitHub\\IslandTime\\IslandTime\\TimeSeriesAnalysis.py:737: InterpolationWarning: The test statistic is outside of the range of p-values available in the\n",
      "look-up table. The actual p-value is greater than the p-value returned.\n",
      "\n",
      "  results = test(time_series.values)\n",
      "Transect:  40%|████      | 517/1283 [00:34<00:51, 14.80it/s]c:\\Users\\mp222\\OneDrive - Imperial College London\\IslandTimeGitHub\\IslandTime\\IslandTime\\TimeSeriesAnalysis.py:737: InterpolationWarning: The test statistic is outside of the range of p-values available in the\n",
      "look-up table. The actual p-value is greater than the p-value returned.\n",
      "\n",
      "  results = test(time_series.values)\n",
      "c:\\Users\\mp222\\OneDrive - Imperial College London\\IslandTimeGitHub\\IslandTime\\IslandTime\\TimeSeriesAnalysis.py:737: InterpolationWarning: The test statistic is outside of the range of p-values available in the\n",
      "look-up table. The actual p-value is greater than the p-value returned.\n",
      "\n",
      "  results = test(time_series.values)\n",
      "Transect:  41%|████      | 525/1283 [00:34<00:49, 15.42it/s]c:\\Users\\mp222\\OneDrive - Imperial College London\\IslandTimeGitHub\\IslandTime\\IslandTime\\TimeSeriesAnalysis.py:737: InterpolationWarning: The test statistic is outside of the range of p-values available in the\n",
      "look-up table. The actual p-value is greater than the p-value returned.\n",
      "\n",
      "  results = test(time_series.values)\n",
      "Transect:  41%|████      | 527/1283 [00:34<00:48, 15.62it/s]c:\\Users\\mp222\\OneDrive - Imperial College London\\IslandTimeGitHub\\IslandTime\\IslandTime\\TimeSeriesAnalysis.py:737: InterpolationWarning: The test statistic is outside of the range of p-values available in the\n",
      "look-up table. The actual p-value is greater than the p-value returned.\n",
      "\n",
      "  results = test(time_series.values)\n",
      "c:\\Users\\mp222\\OneDrive - Imperial College London\\IslandTimeGitHub\\IslandTime\\IslandTime\\TimeSeriesAnalysis.py:737: InterpolationWarning: The test statistic is outside of the range of p-values available in the\n",
      "look-up table. The actual p-value is greater than the p-value returned.\n",
      "\n",
      "  results = test(time_series.values)\n",
      "Transect:  41%|████      | 529/1283 [00:35<00:52, 14.28it/s]c:\\Users\\mp222\\OneDrive - Imperial College London\\IslandTimeGitHub\\IslandTime\\IslandTime\\TimeSeriesAnalysis.py:737: InterpolationWarning: The test statistic is outside of the range of p-values available in the\n",
      "look-up table. The actual p-value is greater than the p-value returned.\n",
      "\n",
      "  results = test(time_series.values)\n",
      "c:\\Users\\mp222\\OneDrive - Imperial College London\\IslandTimeGitHub\\IslandTime\\IslandTime\\TimeSeriesAnalysis.py:737: InterpolationWarning: The test statistic is outside of the range of p-values available in the\n",
      "look-up table. The actual p-value is greater than the p-value returned.\n",
      "\n",
      "  results = test(time_series.values)\n",
      "Transect:  41%|████▏     | 531/1283 [00:35<00:55, 13.53it/s]c:\\Users\\mp222\\OneDrive - Imperial College London\\IslandTimeGitHub\\IslandTime\\IslandTime\\TimeSeriesAnalysis.py:737: InterpolationWarning: The test statistic is outside of the range of p-values available in the\n",
      "look-up table. The actual p-value is greater than the p-value returned.\n",
      "\n",
      "  results = test(time_series.values)\n",
      "c:\\Users\\mp222\\OneDrive - Imperial College London\\IslandTimeGitHub\\IslandTime\\IslandTime\\TimeSeriesAnalysis.py:737: InterpolationWarning: The test statistic is outside of the range of p-values available in the\n",
      "look-up table. The actual p-value is greater than the p-value returned.\n",
      "\n",
      "  results = test(time_series.values)\n",
      "Transect:  42%|████▏     | 533/1283 [00:35<00:53, 14.13it/s]c:\\Users\\mp222\\OneDrive - Imperial College London\\IslandTimeGitHub\\IslandTime\\IslandTime\\TimeSeriesAnalysis.py:737: InterpolationWarning: The test statistic is outside of the range of p-values available in the\n",
      "look-up table. The actual p-value is greater than the p-value returned.\n",
      "\n",
      "  results = test(time_series.values)\n",
      "Transect:  42%|████▏     | 535/1283 [00:35<00:50, 14.70it/s]c:\\Users\\mp222\\OneDrive - Imperial College London\\IslandTimeGitHub\\IslandTime\\IslandTime\\TimeSeriesAnalysis.py:737: InterpolationWarning: The test statistic is outside of the range of p-values available in the\n",
      "look-up table. The actual p-value is smaller than the p-value returned.\n",
      "\n",
      "  results = test(time_series.values)\n",
      "c:\\Users\\mp222\\OneDrive - Imperial College London\\IslandTimeGitHub\\IslandTime\\IslandTime\\TimeSeriesAnalysis.py:737: InterpolationWarning: The test statistic is outside of the range of p-values available in the\n",
      "look-up table. The actual p-value is smaller than the p-value returned.\n",
      "\n",
      "  results = test(time_series.values)\n",
      "Transect:  42%|████▏     | 537/1283 [00:35<00:49, 15.14it/s]c:\\Users\\mp222\\OneDrive - Imperial College London\\IslandTimeGitHub\\IslandTime\\IslandTime\\TimeSeriesAnalysis.py:737: InterpolationWarning: The test statistic is outside of the range of p-values available in the\n",
      "look-up table. The actual p-value is smaller than the p-value returned.\n",
      "\n",
      "  results = test(time_series.values)\n",
      "c:\\Users\\mp222\\OneDrive - Imperial College London\\IslandTimeGitHub\\IslandTime\\IslandTime\\TimeSeriesAnalysis.py:737: InterpolationWarning: The test statistic is outside of the range of p-values available in the\n",
      "look-up table. The actual p-value is smaller than the p-value returned.\n",
      "\n",
      "  results = test(time_series.values)\n",
      "Transect:  42%|████▏     | 539/1283 [00:35<00:49, 14.99it/s]c:\\Users\\mp222\\OneDrive - Imperial College London\\IslandTimeGitHub\\IslandTime\\IslandTime\\TimeSeriesAnalysis.py:737: InterpolationWarning: The test statistic is outside of the range of p-values available in the\n",
      "look-up table. The actual p-value is smaller than the p-value returned.\n",
      "\n",
      "  results = test(time_series.values)\n",
      "c:\\Users\\mp222\\OneDrive - Imperial College London\\IslandTimeGitHub\\IslandTime\\IslandTime\\TimeSeriesAnalysis.py:737: InterpolationWarning: The test statistic is outside of the range of p-values available in the\n",
      "look-up table. The actual p-value is smaller than the p-value returned.\n",
      "\n",
      "  results = test(time_series.values)\n",
      "Transect:  42%|████▏     | 541/1283 [00:35<00:50, 14.69it/s]c:\\Users\\mp222\\OneDrive - Imperial College London\\IslandTimeGitHub\\IslandTime\\IslandTime\\TimeSeriesAnalysis.py:737: InterpolationWarning: The test statistic is outside of the range of p-values available in the\n",
      "look-up table. The actual p-value is smaller than the p-value returned.\n",
      "\n",
      "  results = test(time_series.values)\n",
      "c:\\Users\\mp222\\OneDrive - Imperial College London\\IslandTimeGitHub\\IslandTime\\IslandTime\\TimeSeriesAnalysis.py:737: InterpolationWarning: The test statistic is outside of the range of p-values available in the\n",
      "look-up table. The actual p-value is smaller than the p-value returned.\n",
      "\n",
      "  results = test(time_series.values)\n",
      "Transect:  42%|████▏     | 543/1283 [00:36<00:50, 14.80it/s]c:\\Users\\mp222\\OneDrive - Imperial College London\\IslandTimeGitHub\\IslandTime\\IslandTime\\TimeSeriesAnalysis.py:737: InterpolationWarning: The test statistic is outside of the range of p-values available in the\n",
      "look-up table. The actual p-value is smaller than the p-value returned.\n",
      "\n",
      "  results = test(time_series.values)\n",
      "c:\\Users\\mp222\\OneDrive - Imperial College London\\IslandTimeGitHub\\IslandTime\\IslandTime\\TimeSeriesAnalysis.py:737: InterpolationWarning: The test statistic is outside of the range of p-values available in the\n",
      "look-up table. The actual p-value is smaller than the p-value returned.\n",
      "\n",
      "  results = test(time_series.values)\n",
      "Transect:  42%|████▏     | 545/1283 [00:36<00:48, 15.26it/s]c:\\Users\\mp222\\OneDrive - Imperial College London\\IslandTimeGitHub\\IslandTime\\IslandTime\\TimeSeriesAnalysis.py:737: InterpolationWarning: The test statistic is outside of the range of p-values available in the\n",
      "look-up table. The actual p-value is smaller than the p-value returned.\n",
      "\n",
      "  results = test(time_series.values)\n",
      "c:\\Users\\mp222\\OneDrive - Imperial College London\\IslandTimeGitHub\\IslandTime\\IslandTime\\TimeSeriesAnalysis.py:737: InterpolationWarning: The test statistic is outside of the range of p-values available in the\n",
      "look-up table. The actual p-value is smaller than the p-value returned.\n",
      "\n",
      "  results = test(time_series.values)\n",
      "Transect:  43%|████▎     | 547/1283 [00:36<00:47, 15.55it/s]c:\\Users\\mp222\\OneDrive - Imperial College London\\IslandTimeGitHub\\IslandTime\\IslandTime\\TimeSeriesAnalysis.py:737: InterpolationWarning: The test statistic is outside of the range of p-values available in the\n",
      "look-up table. The actual p-value is smaller than the p-value returned.\n",
      "\n",
      "  results = test(time_series.values)\n",
      "Transect:  43%|████▎     | 549/1283 [00:36<00:46, 15.82it/s]c:\\Users\\mp222\\OneDrive - Imperial College London\\IslandTimeGitHub\\IslandTime\\IslandTime\\TimeSeriesAnalysis.py:737: InterpolationWarning: The test statistic is outside of the range of p-values available in the\n",
      "look-up table. The actual p-value is greater than the p-value returned.\n",
      "\n",
      "  results = test(time_series.values)\n",
      "c:\\Users\\mp222\\OneDrive - Imperial College London\\IslandTimeGitHub\\IslandTime\\IslandTime\\TimeSeriesAnalysis.py:737: InterpolationWarning: The test statistic is outside of the range of p-values available in the\n",
      "look-up table. The actual p-value is greater than the p-value returned.\n",
      "\n",
      "  results = test(time_series.values)\n",
      "Transect:  43%|████▎     | 551/1283 [00:36<00:47, 15.33it/s]c:\\Users\\mp222\\OneDrive - Imperial College London\\IslandTimeGitHub\\IslandTime\\IslandTime\\TimeSeriesAnalysis.py:737: InterpolationWarning: The test statistic is outside of the range of p-values available in the\n",
      "look-up table. The actual p-value is greater than the p-value returned.\n",
      "\n",
      "  results = test(time_series.values)\n",
      "Transect:  43%|████▎     | 555/1283 [00:36<00:52, 13.88it/s]c:\\Users\\mp222\\OneDrive - Imperial College London\\IslandTimeGitHub\\IslandTime\\IslandTime\\TimeSeriesAnalysis.py:737: InterpolationWarning: The test statistic is outside of the range of p-values available in the\n",
      "look-up table. The actual p-value is smaller than the p-value returned.\n",
      "\n",
      "  results = test(time_series.values)\n",
      "Transect:  43%|████▎     | 557/1283 [00:37<00:49, 14.71it/s]c:\\Users\\mp222\\OneDrive - Imperial College London\\IslandTimeGitHub\\IslandTime\\IslandTime\\TimeSeriesAnalysis.py:737: InterpolationWarning: The test statistic is outside of the range of p-values available in the\n",
      "look-up table. The actual p-value is smaller than the p-value returned.\n",
      "\n",
      "  results = test(time_series.values)\n",
      "c:\\Users\\mp222\\OneDrive - Imperial College London\\IslandTimeGitHub\\IslandTime\\IslandTime\\TimeSeriesAnalysis.py:737: InterpolationWarning: The test statistic is outside of the range of p-values available in the\n",
      "look-up table. The actual p-value is smaller than the p-value returned.\n",
      "\n",
      "  results = test(time_series.values)\n",
      "Transect:  44%|████▎     | 559/1283 [00:37<00:47, 15.28it/s]c:\\Users\\mp222\\OneDrive - Imperial College London\\IslandTimeGitHub\\IslandTime\\IslandTime\\TimeSeriesAnalysis.py:737: InterpolationWarning: The test statistic is outside of the range of p-values available in the\n",
      "look-up table. The actual p-value is smaller than the p-value returned.\n",
      "\n",
      "  results = test(time_series.values)\n",
      "c:\\Users\\mp222\\OneDrive - Imperial College London\\IslandTimeGitHub\\IslandTime\\IslandTime\\TimeSeriesAnalysis.py:737: InterpolationWarning: The test statistic is outside of the range of p-values available in the\n",
      "look-up table. The actual p-value is smaller than the p-value returned.\n",
      "\n",
      "  results = test(time_series.values)\n",
      "Transect:  44%|████▎     | 561/1283 [00:37<00:47, 15.28it/s]c:\\Users\\mp222\\OneDrive - Imperial College London\\IslandTimeGitHub\\IslandTime\\IslandTime\\TimeSeriesAnalysis.py:737: InterpolationWarning: The test statistic is outside of the range of p-values available in the\n",
      "look-up table. The actual p-value is smaller than the p-value returned.\n",
      "\n",
      "  results = test(time_series.values)\n",
      "c:\\Users\\mp222\\OneDrive - Imperial College London\\IslandTimeGitHub\\IslandTime\\IslandTime\\TimeSeriesAnalysis.py:737: InterpolationWarning: The test statistic is outside of the range of p-values available in the\n",
      "look-up table. The actual p-value is smaller than the p-value returned.\n",
      "\n",
      "  results = test(time_series.values)\n",
      "Transect:  44%|████▍     | 563/1283 [00:37<00:47, 15.27it/s]c:\\Users\\mp222\\OneDrive - Imperial College London\\IslandTimeGitHub\\IslandTime\\IslandTime\\TimeSeriesAnalysis.py:737: InterpolationWarning: The test statistic is outside of the range of p-values available in the\n",
      "look-up table. The actual p-value is smaller than the p-value returned.\n",
      "\n",
      "  results = test(time_series.values)\n",
      "c:\\Users\\mp222\\OneDrive - Imperial College London\\IslandTimeGitHub\\IslandTime\\IslandTime\\TimeSeriesAnalysis.py:737: InterpolationWarning: The test statistic is outside of the range of p-values available in the\n",
      "look-up table. The actual p-value is smaller than the p-value returned.\n",
      "\n",
      "  results = test(time_series.values)\n",
      "Transect:  44%|████▍     | 565/1283 [00:37<00:46, 15.59it/s]c:\\Users\\mp222\\OneDrive - Imperial College London\\IslandTimeGitHub\\IslandTime\\IslandTime\\TimeSeriesAnalysis.py:737: InterpolationWarning: The test statistic is outside of the range of p-values available in the\n",
      "look-up table. The actual p-value is smaller than the p-value returned.\n",
      "\n",
      "  results = test(time_series.values)\n",
      "c:\\Users\\mp222\\OneDrive - Imperial College London\\IslandTimeGitHub\\IslandTime\\IslandTime\\TimeSeriesAnalysis.py:737: InterpolationWarning: The test statistic is outside of the range of p-values available in the\n",
      "look-up table. The actual p-value is smaller than the p-value returned.\n",
      "\n",
      "  results = test(time_series.values)\n",
      "Transect:  44%|████▍     | 567/1283 [00:37<00:46, 15.56it/s]c:\\Users\\mp222\\OneDrive - Imperial College London\\IslandTimeGitHub\\IslandTime\\IslandTime\\TimeSeriesAnalysis.py:737: InterpolationWarning: The test statistic is outside of the range of p-values available in the\n",
      "look-up table. The actual p-value is smaller than the p-value returned.\n",
      "\n",
      "  results = test(time_series.values)\n",
      "c:\\Users\\mp222\\OneDrive - Imperial College London\\IslandTimeGitHub\\IslandTime\\IslandTime\\TimeSeriesAnalysis.py:737: InterpolationWarning: The test statistic is outside of the range of p-values available in the\n",
      "look-up table. The actual p-value is smaller than the p-value returned.\n",
      "\n",
      "  results = test(time_series.values)\n",
      "Transect:  44%|████▍     | 569/1283 [00:37<00:46, 15.40it/s]c:\\Users\\mp222\\OneDrive - Imperial College London\\IslandTimeGitHub\\IslandTime\\IslandTime\\TimeSeriesAnalysis.py:737: InterpolationWarning: The test statistic is outside of the range of p-values available in the\n",
      "look-up table. The actual p-value is smaller than the p-value returned.\n",
      "\n",
      "  results = test(time_series.values)\n",
      "c:\\Users\\mp222\\OneDrive - Imperial College London\\IslandTimeGitHub\\IslandTime\\IslandTime\\TimeSeriesAnalysis.py:737: InterpolationWarning: The test statistic is outside of the range of p-values available in the\n",
      "look-up table. The actual p-value is smaller than the p-value returned.\n",
      "\n",
      "  results = test(time_series.values)\n",
      "Transect:  45%|████▍     | 575/1283 [00:38<00:48, 14.52it/s]c:\\Users\\mp222\\OneDrive - Imperial College London\\IslandTimeGitHub\\IslandTime\\IslandTime\\TimeSeriesAnalysis.py:737: InterpolationWarning: The test statistic is outside of the range of p-values available in the\n",
      "look-up table. The actual p-value is greater than the p-value returned.\n",
      "\n",
      "  results = test(time_series.values)\n",
      "c:\\Users\\mp222\\OneDrive - Imperial College London\\IslandTimeGitHub\\IslandTime\\IslandTime\\TimeSeriesAnalysis.py:737: InterpolationWarning: The test statistic is outside of the range of p-values available in the\n",
      "look-up table. The actual p-value is greater than the p-value returned.\n",
      "\n",
      "  results = test(time_series.values)\n",
      "Transect:  45%|████▍     | 577/1283 [00:38<00:48, 14.48it/s]c:\\Users\\mp222\\OneDrive - Imperial College London\\IslandTimeGitHub\\IslandTime\\IslandTime\\TimeSeriesAnalysis.py:737: InterpolationWarning: The test statistic is outside of the range of p-values available in the\n",
      "look-up table. The actual p-value is greater than the p-value returned.\n",
      "\n",
      "  results = test(time_series.values)\n",
      "c:\\Users\\mp222\\OneDrive - Imperial College London\\IslandTimeGitHub\\IslandTime\\IslandTime\\TimeSeriesAnalysis.py:737: InterpolationWarning: The test statistic is outside of the range of p-values available in the\n",
      "look-up table. The actual p-value is greater than the p-value returned.\n",
      "\n",
      "  results = test(time_series.values)\n",
      "Transect:  45%|████▌     | 579/1283 [00:38<00:46, 15.07it/s]c:\\Users\\mp222\\OneDrive - Imperial College London\\IslandTimeGitHub\\IslandTime\\IslandTime\\TimeSeriesAnalysis.py:737: InterpolationWarning: The test statistic is outside of the range of p-values available in the\n",
      "look-up table. The actual p-value is greater than the p-value returned.\n",
      "\n",
      "  results = test(time_series.values)\n",
      "c:\\Users\\mp222\\OneDrive - Imperial College London\\IslandTimeGitHub\\IslandTime\\IslandTime\\TimeSeriesAnalysis.py:737: InterpolationWarning: The test statistic is outside of the range of p-values available in the\n",
      "look-up table. The actual p-value is greater than the p-value returned.\n",
      "\n",
      "  results = test(time_series.values)\n",
      "Transect:  45%|████▌     | 581/1283 [00:38<00:46, 14.96it/s]c:\\Users\\mp222\\OneDrive - Imperial College London\\IslandTimeGitHub\\IslandTime\\IslandTime\\TimeSeriesAnalysis.py:737: InterpolationWarning: The test statistic is outside of the range of p-values available in the\n",
      "look-up table. The actual p-value is greater than the p-value returned.\n",
      "\n",
      "  results = test(time_series.values)\n",
      "c:\\Users\\mp222\\OneDrive - Imperial College London\\IslandTimeGitHub\\IslandTime\\IslandTime\\TimeSeriesAnalysis.py:737: InterpolationWarning: The test statistic is outside of the range of p-values available in the\n",
      "look-up table. The actual p-value is greater than the p-value returned.\n",
      "\n",
      "  results = test(time_series.values)\n",
      "Transect:  46%|████▌     | 585/1283 [00:38<00:48, 14.50it/s]c:\\Users\\mp222\\OneDrive - Imperial College London\\IslandTimeGitHub\\IslandTime\\IslandTime\\TimeSeriesAnalysis.py:737: InterpolationWarning: The test statistic is outside of the range of p-values available in the\n",
      "look-up table. The actual p-value is greater than the p-value returned.\n",
      "\n",
      "  results = test(time_series.values)\n",
      "c:\\Users\\mp222\\OneDrive - Imperial College London\\IslandTimeGitHub\\IslandTime\\IslandTime\\TimeSeriesAnalysis.py:737: InterpolationWarning: The test statistic is outside of the range of p-values available in the\n",
      "look-up table. The actual p-value is greater than the p-value returned.\n",
      "\n",
      "  results = test(time_series.values)\n",
      "Transect:  46%|████▌     | 587/1283 [00:39<00:46, 15.06it/s]c:\\Users\\mp222\\OneDrive - Imperial College London\\IslandTimeGitHub\\IslandTime\\IslandTime\\TimeSeriesAnalysis.py:737: InterpolationWarning: The test statistic is outside of the range of p-values available in the\n",
      "look-up table. The actual p-value is greater than the p-value returned.\n",
      "\n",
      "  results = test(time_series.values)\n",
      "c:\\Users\\mp222\\OneDrive - Imperial College London\\IslandTimeGitHub\\IslandTime\\IslandTime\\TimeSeriesAnalysis.py:737: InterpolationWarning: The test statistic is outside of the range of p-values available in the\n",
      "look-up table. The actual p-value is greater than the p-value returned.\n",
      "\n",
      "  results = test(time_series.values)\n",
      "Transect:  46%|████▌     | 589/1283 [00:39<00:44, 15.61it/s]c:\\Users\\mp222\\OneDrive - Imperial College London\\IslandTimeGitHub\\IslandTime\\IslandTime\\TimeSeriesAnalysis.py:737: InterpolationWarning: The test statistic is outside of the range of p-values available in the\n",
      "look-up table. The actual p-value is greater than the p-value returned.\n",
      "\n",
      "  results = test(time_series.values)\n",
      "c:\\Users\\mp222\\OneDrive - Imperial College London\\IslandTimeGitHub\\IslandTime\\IslandTime\\TimeSeriesAnalysis.py:737: InterpolationWarning: The test statistic is outside of the range of p-values available in the\n",
      "look-up table. The actual p-value is greater than the p-value returned.\n",
      "\n",
      "  results = test(time_series.values)\n",
      "Transect:  46%|████▌     | 591/1283 [00:39<00:43, 15.87it/s]c:\\Users\\mp222\\OneDrive - Imperial College London\\IslandTimeGitHub\\IslandTime\\IslandTime\\TimeSeriesAnalysis.py:737: InterpolationWarning: The test statistic is outside of the range of p-values available in the\n",
      "look-up table. The actual p-value is greater than the p-value returned.\n",
      "\n",
      "  results = test(time_series.values)\n",
      "c:\\Users\\mp222\\OneDrive - Imperial College London\\IslandTimeGitHub\\IslandTime\\IslandTime\\TimeSeriesAnalysis.py:737: InterpolationWarning: The test statistic is outside of the range of p-values available in the\n",
      "look-up table. The actual p-value is greater than the p-value returned.\n",
      "\n",
      "  results = test(time_series.values)\n",
      "Transect:  46%|████▌     | 593/1283 [00:39<00:43, 15.95it/s]c:\\Users\\mp222\\OneDrive - Imperial College London\\IslandTimeGitHub\\IslandTime\\IslandTime\\TimeSeriesAnalysis.py:737: InterpolationWarning: The test statistic is outside of the range of p-values available in the\n",
      "look-up table. The actual p-value is greater than the p-value returned.\n",
      "\n",
      "  results = test(time_series.values)\n",
      "c:\\Users\\mp222\\OneDrive - Imperial College London\\IslandTimeGitHub\\IslandTime\\IslandTime\\TimeSeriesAnalysis.py:737: InterpolationWarning: The test statistic is outside of the range of p-values available in the\n",
      "look-up table. The actual p-value is greater than the p-value returned.\n",
      "\n",
      "  results = test(time_series.values)\n",
      "Transect:  46%|████▋     | 595/1283 [00:39<00:42, 16.01it/s]c:\\Users\\mp222\\OneDrive - Imperial College London\\IslandTimeGitHub\\IslandTime\\IslandTime\\TimeSeriesAnalysis.py:737: InterpolationWarning: The test statistic is outside of the range of p-values available in the\n",
      "look-up table. The actual p-value is greater than the p-value returned.\n",
      "\n",
      "  results = test(time_series.values)\n",
      "c:\\Users\\mp222\\OneDrive - Imperial College London\\IslandTimeGitHub\\IslandTime\\IslandTime\\TimeSeriesAnalysis.py:737: InterpolationWarning: The test statistic is outside of the range of p-values available in the\n",
      "look-up table. The actual p-value is greater than the p-value returned.\n",
      "\n",
      "  results = test(time_series.values)\n",
      "Transect:  47%|████▋     | 597/1283 [00:39<00:42, 16.04it/s]c:\\Users\\mp222\\OneDrive - Imperial College London\\IslandTimeGitHub\\IslandTime\\IslandTime\\TimeSeriesAnalysis.py:737: InterpolationWarning: The test statistic is outside of the range of p-values available in the\n",
      "look-up table. The actual p-value is greater than the p-value returned.\n",
      "\n",
      "  results = test(time_series.values)\n",
      "c:\\Users\\mp222\\OneDrive - Imperial College London\\IslandTimeGitHub\\IslandTime\\IslandTime\\TimeSeriesAnalysis.py:737: InterpolationWarning: The test statistic is outside of the range of p-values available in the\n",
      "look-up table. The actual p-value is greater than the p-value returned.\n",
      "\n",
      "  results = test(time_series.values)\n",
      "Transect:  47%|████▋     | 599/1283 [00:39<00:42, 16.03it/s]c:\\Users\\mp222\\OneDrive - Imperial College London\\IslandTimeGitHub\\IslandTime\\IslandTime\\TimeSeriesAnalysis.py:737: InterpolationWarning: The test statistic is outside of the range of p-values available in the\n",
      "look-up table. The actual p-value is greater than the p-value returned.\n",
      "\n",
      "  results = test(time_series.values)\n",
      "c:\\Users\\mp222\\OneDrive - Imperial College London\\IslandTimeGitHub\\IslandTime\\IslandTime\\TimeSeriesAnalysis.py:737: InterpolationWarning: The test statistic is outside of the range of p-values available in the\n",
      "look-up table. The actual p-value is greater than the p-value returned.\n",
      "\n",
      "  results = test(time_series.values)\n",
      "Transect:  47%|████▋     | 601/1283 [00:39<00:42, 16.18it/s]c:\\Users\\mp222\\OneDrive - Imperial College London\\IslandTimeGitHub\\IslandTime\\IslandTime\\TimeSeriesAnalysis.py:737: InterpolationWarning: The test statistic is outside of the range of p-values available in the\n",
      "look-up table. The actual p-value is greater than the p-value returned.\n",
      "\n",
      "  results = test(time_series.values)\n",
      "c:\\Users\\mp222\\OneDrive - Imperial College London\\IslandTimeGitHub\\IslandTime\\IslandTime\\TimeSeriesAnalysis.py:737: InterpolationWarning: The test statistic is outside of the range of p-values available in the\n",
      "look-up table. The actual p-value is greater than the p-value returned.\n",
      "\n",
      "  results = test(time_series.values)\n",
      "Transect:  47%|████▋     | 603/1283 [00:40<00:44, 15.20it/s]c:\\Users\\mp222\\OneDrive - Imperial College London\\IslandTimeGitHub\\IslandTime\\IslandTime\\TimeSeriesAnalysis.py:737: InterpolationWarning: The test statistic is outside of the range of p-values available in the\n",
      "look-up table. The actual p-value is greater than the p-value returned.\n",
      "\n",
      "  results = test(time_series.values)\n",
      "c:\\Users\\mp222\\OneDrive - Imperial College London\\IslandTimeGitHub\\IslandTime\\IslandTime\\TimeSeriesAnalysis.py:737: InterpolationWarning: The test statistic is outside of the range of p-values available in the\n",
      "look-up table. The actual p-value is greater than the p-value returned.\n",
      "\n",
      "  results = test(time_series.values)\n",
      "Transect:  47%|████▋     | 605/1283 [00:40<00:43, 15.57it/s]c:\\Users\\mp222\\OneDrive - Imperial College London\\IslandTimeGitHub\\IslandTime\\IslandTime\\TimeSeriesAnalysis.py:737: InterpolationWarning: The test statistic is outside of the range of p-values available in the\n",
      "look-up table. The actual p-value is greater than the p-value returned.\n",
      "\n",
      "  results = test(time_series.values)\n",
      "c:\\Users\\mp222\\OneDrive - Imperial College London\\IslandTimeGitHub\\IslandTime\\IslandTime\\TimeSeriesAnalysis.py:737: InterpolationWarning: The test statistic is outside of the range of p-values available in the\n",
      "look-up table. The actual p-value is greater than the p-value returned.\n",
      "\n",
      "  results = test(time_series.values)\n",
      "Transect:  47%|████▋     | 607/1283 [00:40<00:44, 15.16it/s]c:\\Users\\mp222\\OneDrive - Imperial College London\\IslandTimeGitHub\\IslandTime\\IslandTime\\TimeSeriesAnalysis.py:737: InterpolationWarning: The test statistic is outside of the range of p-values available in the\n",
      "look-up table. The actual p-value is greater than the p-value returned.\n",
      "\n",
      "  results = test(time_series.values)\n",
      "c:\\Users\\mp222\\OneDrive - Imperial College London\\IslandTimeGitHub\\IslandTime\\IslandTime\\TimeSeriesAnalysis.py:737: InterpolationWarning: The test statistic is outside of the range of p-values available in the\n",
      "look-up table. The actual p-value is greater than the p-value returned.\n",
      "\n",
      "  results = test(time_series.values)\n",
      "Transect:  47%|████▋     | 609/1283 [00:40<00:43, 15.40it/s]c:\\Users\\mp222\\OneDrive - Imperial College London\\IslandTimeGitHub\\IslandTime\\IslandTime\\TimeSeriesAnalysis.py:737: InterpolationWarning: The test statistic is outside of the range of p-values available in the\n",
      "look-up table. The actual p-value is greater than the p-value returned.\n",
      "\n",
      "  results = test(time_series.values)\n",
      "c:\\Users\\mp222\\OneDrive - Imperial College London\\IslandTimeGitHub\\IslandTime\\IslandTime\\TimeSeriesAnalysis.py:737: InterpolationWarning: The test statistic is outside of the range of p-values available in the\n",
      "look-up table. The actual p-value is greater than the p-value returned.\n",
      "\n",
      "  results = test(time_series.values)\n",
      "Transect:  48%|████▊     | 611/1283 [00:40<00:43, 15.51it/s]c:\\Users\\mp222\\OneDrive - Imperial College London\\IslandTimeGitHub\\IslandTime\\IslandTime\\TimeSeriesAnalysis.py:737: InterpolationWarning: The test statistic is outside of the range of p-values available in the\n",
      "look-up table. The actual p-value is greater than the p-value returned.\n",
      "\n",
      "  results = test(time_series.values)\n",
      "c:\\Users\\mp222\\OneDrive - Imperial College London\\IslandTimeGitHub\\IslandTime\\IslandTime\\TimeSeriesAnalysis.py:737: InterpolationWarning: The test statistic is outside of the range of p-values available in the\n",
      "look-up table. The actual p-value is greater than the p-value returned.\n",
      "\n",
      "  results = test(time_series.values)\n",
      "Transect:  48%|████▊     | 613/1283 [00:40<00:43, 15.31it/s]c:\\Users\\mp222\\OneDrive - Imperial College London\\IslandTimeGitHub\\IslandTime\\IslandTime\\TimeSeriesAnalysis.py:737: InterpolationWarning: The test statistic is outside of the range of p-values available in the\n",
      "look-up table. The actual p-value is greater than the p-value returned.\n",
      "\n",
      "  results = test(time_series.values)\n",
      "c:\\Users\\mp222\\OneDrive - Imperial College London\\IslandTimeGitHub\\IslandTime\\IslandTime\\TimeSeriesAnalysis.py:737: InterpolationWarning: The test statistic is outside of the range of p-values available in the\n",
      "look-up table. The actual p-value is greater than the p-value returned.\n",
      "\n",
      "  results = test(time_series.values)\n",
      "Transect:  48%|████▊     | 615/1283 [00:40<00:47, 14.10it/s]c:\\Users\\mp222\\OneDrive - Imperial College London\\IslandTimeGitHub\\IslandTime\\IslandTime\\TimeSeriesAnalysis.py:737: InterpolationWarning: The test statistic is outside of the range of p-values available in the\n",
      "look-up table. The actual p-value is greater than the p-value returned.\n",
      "\n",
      "  results = test(time_series.values)\n",
      "c:\\Users\\mp222\\OneDrive - Imperial College London\\IslandTimeGitHub\\IslandTime\\IslandTime\\TimeSeriesAnalysis.py:737: InterpolationWarning: The test statistic is outside of the range of p-values available in the\n",
      "look-up table. The actual p-value is greater than the p-value returned.\n",
      "\n",
      "  results = test(time_series.values)\n",
      "Transect:  48%|████▊     | 617/1283 [00:40<00:44, 14.82it/s]c:\\Users\\mp222\\OneDrive - Imperial College London\\IslandTimeGitHub\\IslandTime\\IslandTime\\TimeSeriesAnalysis.py:737: InterpolationWarning: The test statistic is outside of the range of p-values available in the\n",
      "look-up table. The actual p-value is greater than the p-value returned.\n",
      "\n",
      "  results = test(time_series.values)\n",
      "Transect:  49%|████▉     | 629/1283 [00:41<00:39, 16.37it/s]c:\\Users\\mp222\\OneDrive - Imperial College London\\IslandTimeGitHub\\IslandTime\\IslandTime\\TimeSeriesAnalysis.py:737: InterpolationWarning: The test statistic is outside of the range of p-values available in the\n",
      "look-up table. The actual p-value is greater than the p-value returned.\n",
      "\n",
      "  results = test(time_series.values)\n",
      "c:\\Users\\mp222\\OneDrive - Imperial College London\\IslandTimeGitHub\\IslandTime\\IslandTime\\TimeSeriesAnalysis.py:737: InterpolationWarning: The test statistic is outside of the range of p-values available in the\n",
      "look-up table. The actual p-value is greater than the p-value returned.\n",
      "\n",
      "  results = test(time_series.values)\n",
      "Transect:  49%|████▉     | 635/1283 [00:42<00:39, 16.28it/s]c:\\Users\\mp222\\OneDrive - Imperial College London\\IslandTimeGitHub\\IslandTime\\IslandTime\\TimeSeriesAnalysis.py:737: InterpolationWarning: The test statistic is outside of the range of p-values available in the\n",
      "look-up table. The actual p-value is greater than the p-value returned.\n",
      "\n",
      "  results = test(time_series.values)\n",
      "c:\\Users\\mp222\\OneDrive - Imperial College London\\IslandTimeGitHub\\IslandTime\\IslandTime\\TimeSeriesAnalysis.py:737: InterpolationWarning: The test statistic is outside of the range of p-values available in the\n",
      "look-up table. The actual p-value is greater than the p-value returned.\n",
      "\n",
      "  results = test(time_series.values)\n",
      "Transect:  50%|████▉     | 637/1283 [00:42<00:41, 15.62it/s]c:\\Users\\mp222\\OneDrive - Imperial College London\\IslandTimeGitHub\\IslandTime\\IslandTime\\TimeSeriesAnalysis.py:737: InterpolationWarning: The test statistic is outside of the range of p-values available in the\n",
      "look-up table. The actual p-value is greater than the p-value returned.\n",
      "\n",
      "  results = test(time_series.values)\n",
      "c:\\Users\\mp222\\OneDrive - Imperial College London\\IslandTimeGitHub\\IslandTime\\IslandTime\\TimeSeriesAnalysis.py:737: InterpolationWarning: The test statistic is outside of the range of p-values available in the\n",
      "look-up table. The actual p-value is greater than the p-value returned.\n",
      "\n",
      "  results = test(time_series.values)\n",
      "Transect:  50%|████▉     | 639/1283 [00:42<00:43, 14.95it/s]c:\\Users\\mp222\\OneDrive - Imperial College London\\IslandTimeGitHub\\IslandTime\\IslandTime\\TimeSeriesAnalysis.py:737: InterpolationWarning: The test statistic is outside of the range of p-values available in the\n",
      "look-up table. The actual p-value is greater than the p-value returned.\n",
      "\n",
      "  results = test(time_series.values)\n",
      "c:\\Users\\mp222\\OneDrive - Imperial College London\\IslandTimeGitHub\\IslandTime\\IslandTime\\TimeSeriesAnalysis.py:737: InterpolationWarning: The test statistic is outside of the range of p-values available in the\n",
      "look-up table. The actual p-value is greater than the p-value returned.\n",
      "\n",
      "  results = test(time_series.values)\n",
      "Transect:  50%|████▉     | 641/1283 [00:42<00:41, 15.50it/s]c:\\Users\\mp222\\OneDrive - Imperial College London\\IslandTimeGitHub\\IslandTime\\IslandTime\\TimeSeriesAnalysis.py:737: InterpolationWarning: The test statistic is outside of the range of p-values available in the\n",
      "look-up table. The actual p-value is greater than the p-value returned.\n",
      "\n",
      "  results = test(time_series.values)\n",
      "c:\\Users\\mp222\\OneDrive - Imperial College London\\IslandTimeGitHub\\IslandTime\\IslandTime\\TimeSeriesAnalysis.py:737: InterpolationWarning: The test statistic is outside of the range of p-values available in the\n",
      "look-up table. The actual p-value is greater than the p-value returned.\n",
      "\n",
      "  results = test(time_series.values)\n",
      "Transect:  50%|█████     | 643/1283 [00:42<00:40, 15.94it/s]c:\\Users\\mp222\\OneDrive - Imperial College London\\IslandTimeGitHub\\IslandTime\\IslandTime\\TimeSeriesAnalysis.py:737: InterpolationWarning: The test statistic is outside of the range of p-values available in the\n",
      "look-up table. The actual p-value is greater than the p-value returned.\n",
      "\n",
      "  results = test(time_series.values)\n",
      "c:\\Users\\mp222\\OneDrive - Imperial College London\\IslandTimeGitHub\\IslandTime\\IslandTime\\TimeSeriesAnalysis.py:737: InterpolationWarning: The test statistic is outside of the range of p-values available in the\n",
      "look-up table. The actual p-value is greater than the p-value returned.\n",
      "\n",
      "  results = test(time_series.values)\n",
      "Transect:  50%|█████     | 645/1283 [00:42<00:39, 16.19it/s]c:\\Users\\mp222\\OneDrive - Imperial College London\\IslandTimeGitHub\\IslandTime\\IslandTime\\TimeSeriesAnalysis.py:737: InterpolationWarning: The test statistic is outside of the range of p-values available in the\n",
      "look-up table. The actual p-value is greater than the p-value returned.\n",
      "\n",
      "  results = test(time_series.values)\n",
      "c:\\Users\\mp222\\OneDrive - Imperial College London\\IslandTimeGitHub\\IslandTime\\IslandTime\\TimeSeriesAnalysis.py:737: InterpolationWarning: The test statistic is outside of the range of p-values available in the\n",
      "look-up table. The actual p-value is greater than the p-value returned.\n",
      "\n",
      "  results = test(time_series.values)\n",
      "Transect:  50%|█████     | 647/1283 [00:42<00:39, 16.25it/s]c:\\Users\\mp222\\OneDrive - Imperial College London\\IslandTimeGitHub\\IslandTime\\IslandTime\\TimeSeriesAnalysis.py:737: InterpolationWarning: The test statistic is outside of the range of p-values available in the\n",
      "look-up table. The actual p-value is greater than the p-value returned.\n",
      "\n",
      "  results = test(time_series.values)\n",
      "c:\\Users\\mp222\\OneDrive - Imperial College London\\IslandTimeGitHub\\IslandTime\\IslandTime\\TimeSeriesAnalysis.py:737: InterpolationWarning: The test statistic is outside of the range of p-values available in the\n",
      "look-up table. The actual p-value is greater than the p-value returned.\n",
      "\n",
      "  results = test(time_series.values)\n",
      "Transect:  51%|█████     | 649/1283 [00:42<00:38, 16.29it/s]c:\\Users\\mp222\\OneDrive - Imperial College London\\IslandTimeGitHub\\IslandTime\\IslandTime\\TimeSeriesAnalysis.py:737: InterpolationWarning: The test statistic is outside of the range of p-values available in the\n",
      "look-up table. The actual p-value is greater than the p-value returned.\n",
      "\n",
      "  results = test(time_series.values)\n",
      "c:\\Users\\mp222\\OneDrive - Imperial College London\\IslandTimeGitHub\\IslandTime\\IslandTime\\TimeSeriesAnalysis.py:737: InterpolationWarning: The test statistic is outside of the range of p-values available in the\n",
      "look-up table. The actual p-value is greater than the p-value returned.\n",
      "\n",
      "  results = test(time_series.values)\n",
      "Transect:  51%|█████     | 651/1283 [00:43<00:38, 16.28it/s]c:\\Users\\mp222\\OneDrive - Imperial College London\\IslandTimeGitHub\\IslandTime\\IslandTime\\TimeSeriesAnalysis.py:737: InterpolationWarning: The test statistic is outside of the range of p-values available in the\n",
      "look-up table. The actual p-value is greater than the p-value returned.\n",
      "\n",
      "  results = test(time_series.values)\n",
      "c:\\Users\\mp222\\OneDrive - Imperial College London\\IslandTimeGitHub\\IslandTime\\IslandTime\\TimeSeriesAnalysis.py:737: InterpolationWarning: The test statistic is outside of the range of p-values available in the\n",
      "look-up table. The actual p-value is greater than the p-value returned.\n",
      "\n",
      "  results = test(time_series.values)\n",
      "Transect:  51%|█████     | 653/1283 [00:43<00:38, 16.52it/s]c:\\Users\\mp222\\OneDrive - Imperial College London\\IslandTimeGitHub\\IslandTime\\IslandTime\\TimeSeriesAnalysis.py:737: InterpolationWarning: The test statistic is outside of the range of p-values available in the\n",
      "look-up table. The actual p-value is greater than the p-value returned.\n",
      "\n",
      "  results = test(time_series.values)\n",
      "c:\\Users\\mp222\\OneDrive - Imperial College London\\IslandTimeGitHub\\IslandTime\\IslandTime\\TimeSeriesAnalysis.py:737: InterpolationWarning: The test statistic is outside of the range of p-values available in the\n",
      "look-up table. The actual p-value is greater than the p-value returned.\n",
      "\n",
      "  results = test(time_series.values)\n",
      "Transect:  51%|█████     | 657/1283 [00:43<00:37, 16.61it/s]c:\\Users\\mp222\\OneDrive - Imperial College London\\IslandTimeGitHub\\IslandTime\\IslandTime\\TimeSeriesAnalysis.py:737: InterpolationWarning: The test statistic is outside of the range of p-values available in the\n",
      "look-up table. The actual p-value is greater than the p-value returned.\n",
      "\n",
      "  results = test(time_series.values)\n",
      "c:\\Users\\mp222\\OneDrive - Imperial College London\\IslandTimeGitHub\\IslandTime\\IslandTime\\TimeSeriesAnalysis.py:737: InterpolationWarning: The test statistic is outside of the range of p-values available in the\n",
      "look-up table. The actual p-value is greater than the p-value returned.\n",
      "\n",
      "  results = test(time_series.values)\n",
      "Transect:  51%|█████▏    | 659/1283 [00:43<00:37, 16.51it/s]c:\\Users\\mp222\\OneDrive - Imperial College London\\IslandTimeGitHub\\IslandTime\\IslandTime\\TimeSeriesAnalysis.py:737: InterpolationWarning: The test statistic is outside of the range of p-values available in the\n",
      "look-up table. The actual p-value is greater than the p-value returned.\n",
      "\n",
      "  results = test(time_series.values)\n",
      "c:\\Users\\mp222\\OneDrive - Imperial College London\\IslandTimeGitHub\\IslandTime\\IslandTime\\TimeSeriesAnalysis.py:737: InterpolationWarning: The test statistic is outside of the range of p-values available in the\n",
      "look-up table. The actual p-value is greater than the p-value returned.\n",
      "\n",
      "  results = test(time_series.values)\n",
      "Transect:  52%|█████▏    | 661/1283 [00:43<00:37, 16.47it/s]c:\\Users\\mp222\\OneDrive - Imperial College London\\IslandTimeGitHub\\IslandTime\\IslandTime\\TimeSeriesAnalysis.py:737: InterpolationWarning: The test statistic is outside of the range of p-values available in the\n",
      "look-up table. The actual p-value is greater than the p-value returned.\n",
      "\n",
      "  results = test(time_series.values)\n",
      "c:\\Users\\mp222\\OneDrive - Imperial College London\\IslandTimeGitHub\\IslandTime\\IslandTime\\TimeSeriesAnalysis.py:737: InterpolationWarning: The test statistic is outside of the range of p-values available in the\n",
      "look-up table. The actual p-value is greater than the p-value returned.\n",
      "\n",
      "  results = test(time_series.values)\n",
      "Transect:  52%|█████▏    | 663/1283 [00:43<00:37, 16.41it/s]c:\\Users\\mp222\\OneDrive - Imperial College London\\IslandTimeGitHub\\IslandTime\\IslandTime\\TimeSeriesAnalysis.py:737: InterpolationWarning: The test statistic is outside of the range of p-values available in the\n",
      "look-up table. The actual p-value is greater than the p-value returned.\n",
      "\n",
      "  results = test(time_series.values)\n",
      "c:\\Users\\mp222\\OneDrive - Imperial College London\\IslandTimeGitHub\\IslandTime\\IslandTime\\TimeSeriesAnalysis.py:737: InterpolationWarning: The test statistic is outside of the range of p-values available in the\n",
      "look-up table. The actual p-value is greater than the p-value returned.\n",
      "\n",
      "  results = test(time_series.values)\n",
      "Transect:  52%|█████▏    | 665/1283 [00:43<00:37, 16.44it/s]c:\\Users\\mp222\\OneDrive - Imperial College London\\IslandTimeGitHub\\IslandTime\\IslandTime\\TimeSeriesAnalysis.py:737: InterpolationWarning: The test statistic is outside of the range of p-values available in the\n",
      "look-up table. The actual p-value is greater than the p-value returned.\n",
      "\n",
      "  results = test(time_series.values)\n",
      "c:\\Users\\mp222\\OneDrive - Imperial College London\\IslandTimeGitHub\\IslandTime\\IslandTime\\TimeSeriesAnalysis.py:737: InterpolationWarning: The test statistic is outside of the range of p-values available in the\n",
      "look-up table. The actual p-value is greater than the p-value returned.\n",
      "\n",
      "  results = test(time_series.values)\n",
      "Transect:  52%|█████▏    | 667/1283 [00:44<00:40, 15.30it/s]c:\\Users\\mp222\\OneDrive - Imperial College London\\IslandTimeGitHub\\IslandTime\\IslandTime\\TimeSeriesAnalysis.py:737: InterpolationWarning: The test statistic is outside of the range of p-values available in the\n",
      "look-up table. The actual p-value is greater than the p-value returned.\n",
      "\n",
      "  results = test(time_series.values)\n",
      "c:\\Users\\mp222\\OneDrive - Imperial College London\\IslandTimeGitHub\\IslandTime\\IslandTime\\TimeSeriesAnalysis.py:737: InterpolationWarning: The test statistic is outside of the range of p-values available in the\n",
      "look-up table. The actual p-value is greater than the p-value returned.\n",
      "\n",
      "  results = test(time_series.values)\n",
      "Transect:  52%|█████▏    | 669/1283 [00:44<00:40, 15.08it/s]c:\\Users\\mp222\\OneDrive - Imperial College London\\IslandTimeGitHub\\IslandTime\\IslandTime\\TimeSeriesAnalysis.py:737: InterpolationWarning: The test statistic is outside of the range of p-values available in the\n",
      "look-up table. The actual p-value is greater than the p-value returned.\n",
      "\n",
      "  results = test(time_series.values)\n",
      "c:\\Users\\mp222\\OneDrive - Imperial College London\\IslandTimeGitHub\\IslandTime\\IslandTime\\TimeSeriesAnalysis.py:737: InterpolationWarning: The test statistic is outside of the range of p-values available in the\n",
      "look-up table. The actual p-value is greater than the p-value returned.\n",
      "\n",
      "  results = test(time_series.values)\n",
      "Transect:  52%|█████▏    | 671/1283 [00:44<00:42, 14.26it/s]c:\\Users\\mp222\\OneDrive - Imperial College London\\IslandTimeGitHub\\IslandTime\\IslandTime\\TimeSeriesAnalysis.py:737: InterpolationWarning: The test statistic is outside of the range of p-values available in the\n",
      "look-up table. The actual p-value is greater than the p-value returned.\n",
      "\n",
      "  results = test(time_series.values)\n",
      "c:\\Users\\mp222\\OneDrive - Imperial College London\\IslandTimeGitHub\\IslandTime\\IslandTime\\TimeSeriesAnalysis.py:737: InterpolationWarning: The test statistic is outside of the range of p-values available in the\n",
      "look-up table. The actual p-value is greater than the p-value returned.\n",
      "\n",
      "  results = test(time_series.values)\n",
      "Transect:  52%|█████▏    | 673/1283 [00:44<00:41, 14.64it/s]c:\\Users\\mp222\\OneDrive - Imperial College London\\IslandTimeGitHub\\IslandTime\\IslandTime\\TimeSeriesAnalysis.py:737: InterpolationWarning: The test statistic is outside of the range of p-values available in the\n",
      "look-up table. The actual p-value is greater than the p-value returned.\n",
      "\n",
      "  results = test(time_series.values)\n",
      "c:\\Users\\mp222\\OneDrive - Imperial College London\\IslandTimeGitHub\\IslandTime\\IslandTime\\TimeSeriesAnalysis.py:737: InterpolationWarning: The test statistic is outside of the range of p-values available in the\n",
      "look-up table. The actual p-value is greater than the p-value returned.\n",
      "\n",
      "  results = test(time_series.values)\n",
      "Transect:  53%|█████▎    | 675/1283 [00:44<00:40, 15.12it/s]c:\\Users\\mp222\\OneDrive - Imperial College London\\IslandTimeGitHub\\IslandTime\\IslandTime\\TimeSeriesAnalysis.py:737: InterpolationWarning: The test statistic is outside of the range of p-values available in the\n",
      "look-up table. The actual p-value is greater than the p-value returned.\n",
      "\n",
      "  results = test(time_series.values)\n",
      "Transect:  53%|█████▎    | 677/1283 [00:44<00:39, 15.23it/s]c:\\Users\\mp222\\OneDrive - Imperial College London\\IslandTimeGitHub\\IslandTime\\IslandTime\\TimeSeriesAnalysis.py:737: InterpolationWarning: The test statistic is outside of the range of p-values available in the\n",
      "look-up table. The actual p-value is greater than the p-value returned.\n",
      "\n",
      "  results = test(time_series.values)\n",
      "Transect:  53%|█████▎    | 679/1283 [00:44<00:41, 14.48it/s]c:\\Users\\mp222\\OneDrive - Imperial College London\\IslandTimeGitHub\\IslandTime\\IslandTime\\TimeSeriesAnalysis.py:737: InterpolationWarning: The test statistic is outside of the range of p-values available in the\n",
      "look-up table. The actual p-value is greater than the p-value returned.\n",
      "\n",
      "  results = test(time_series.values)\n",
      "c:\\Users\\mp222\\OneDrive - Imperial College London\\IslandTimeGitHub\\IslandTime\\IslandTime\\TimeSeriesAnalysis.py:737: InterpolationWarning: The test statistic is outside of the range of p-values available in the\n",
      "look-up table. The actual p-value is greater than the p-value returned.\n",
      "\n",
      "  results = test(time_series.values)\n",
      "Transect:  53%|█████▎    | 681/1283 [00:45<00:38, 15.53it/s]c:\\Users\\mp222\\OneDrive - Imperial College London\\IslandTimeGitHub\\IslandTime\\IslandTime\\TimeSeriesAnalysis.py:737: InterpolationWarning: The test statistic is outside of the range of p-values available in the\n",
      "look-up table. The actual p-value is greater than the p-value returned.\n",
      "\n",
      "  results = test(time_series.values)\n",
      "c:\\Users\\mp222\\OneDrive - Imperial College London\\IslandTimeGitHub\\IslandTime\\IslandTime\\TimeSeriesAnalysis.py:737: InterpolationWarning: The test statistic is outside of the range of p-values available in the\n",
      "look-up table. The actual p-value is greater than the p-value returned.\n",
      "\n",
      "  results = test(time_series.values)\n",
      "Transect:  53%|█████▎    | 683/1283 [00:45<00:37, 16.08it/s]c:\\Users\\mp222\\OneDrive - Imperial College London\\IslandTimeGitHub\\IslandTime\\IslandTime\\TimeSeriesAnalysis.py:737: InterpolationWarning: The test statistic is outside of the range of p-values available in the\n",
      "look-up table. The actual p-value is greater than the p-value returned.\n",
      "\n",
      "  results = test(time_series.values)\n",
      "c:\\Users\\mp222\\OneDrive - Imperial College London\\IslandTimeGitHub\\IslandTime\\IslandTime\\TimeSeriesAnalysis.py:737: InterpolationWarning: The test statistic is outside of the range of p-values available in the\n",
      "look-up table. The actual p-value is greater than the p-value returned.\n",
      "\n",
      "  results = test(time_series.values)\n",
      "Transect:  53%|█████▎    | 685/1283 [00:45<00:37, 15.98it/s]c:\\Users\\mp222\\OneDrive - Imperial College London\\IslandTimeGitHub\\IslandTime\\IslandTime\\TimeSeriesAnalysis.py:737: InterpolationWarning: The test statistic is outside of the range of p-values available in the\n",
      "look-up table. The actual p-value is greater than the p-value returned.\n",
      "\n",
      "  results = test(time_series.values)\n",
      "c:\\Users\\mp222\\OneDrive - Imperial College London\\IslandTimeGitHub\\IslandTime\\IslandTime\\TimeSeriesAnalysis.py:737: InterpolationWarning: The test statistic is outside of the range of p-values available in the\n",
      "look-up table. The actual p-value is greater than the p-value returned.\n",
      "\n",
      "  results = test(time_series.values)\n",
      "Transect:  54%|█████▎    | 687/1283 [00:45<00:36, 16.41it/s]c:\\Users\\mp222\\OneDrive - Imperial College London\\IslandTimeGitHub\\IslandTime\\IslandTime\\TimeSeriesAnalysis.py:737: InterpolationWarning: The test statistic is outside of the range of p-values available in the\n",
      "look-up table. The actual p-value is greater than the p-value returned.\n",
      "\n",
      "  results = test(time_series.values)\n",
      "c:\\Users\\mp222\\OneDrive - Imperial College London\\IslandTimeGitHub\\IslandTime\\IslandTime\\TimeSeriesAnalysis.py:737: InterpolationWarning: The test statistic is outside of the range of p-values available in the\n",
      "look-up table. The actual p-value is greater than the p-value returned.\n",
      "\n",
      "  results = test(time_series.values)\n",
      "Transect:  54%|█████▎    | 689/1283 [00:45<00:35, 16.65it/s]c:\\Users\\mp222\\OneDrive - Imperial College London\\IslandTimeGitHub\\IslandTime\\IslandTime\\TimeSeriesAnalysis.py:737: InterpolationWarning: The test statistic is outside of the range of p-values available in the\n",
      "look-up table. The actual p-value is greater than the p-value returned.\n",
      "\n",
      "  results = test(time_series.values)\n",
      "c:\\Users\\mp222\\OneDrive - Imperial College London\\IslandTimeGitHub\\IslandTime\\IslandTime\\TimeSeriesAnalysis.py:737: InterpolationWarning: The test statistic is outside of the range of p-values available in the\n",
      "look-up table. The actual p-value is greater than the p-value returned.\n",
      "\n",
      "  results = test(time_series.values)\n",
      "Transect:  54%|█████▍    | 691/1283 [00:45<00:35, 16.91it/s]c:\\Users\\mp222\\OneDrive - Imperial College London\\IslandTimeGitHub\\IslandTime\\IslandTime\\TimeSeriesAnalysis.py:737: InterpolationWarning: The test statistic is outside of the range of p-values available in the\n",
      "look-up table. The actual p-value is greater than the p-value returned.\n",
      "\n",
      "  results = test(time_series.values)\n",
      "Transect:  54%|█████▍    | 693/1283 [00:45<00:35, 16.67it/s]c:\\Users\\mp222\\OneDrive - Imperial College London\\IslandTimeGitHub\\IslandTime\\IslandTime\\TimeSeriesAnalysis.py:737: InterpolationWarning: The test statistic is outside of the range of p-values available in the\n",
      "look-up table. The actual p-value is greater than the p-value returned.\n",
      "\n",
      "  results = test(time_series.values)\n",
      "Transect:  54%|█████▍    | 699/1283 [00:46<00:36, 16.16it/s]c:\\Users\\mp222\\OneDrive - Imperial College London\\IslandTimeGitHub\\IslandTime\\IslandTime\\TimeSeriesAnalysis.py:737: InterpolationWarning: The test statistic is outside of the range of p-values available in the\n",
      "look-up table. The actual p-value is greater than the p-value returned.\n",
      "\n",
      "  results = test(time_series.values)\n",
      "Transect:  55%|█████▍    | 703/1283 [00:46<00:36, 16.06it/s]c:\\Users\\mp222\\OneDrive - Imperial College London\\IslandTimeGitHub\\IslandTime\\IslandTime\\TimeSeriesAnalysis.py:737: InterpolationWarning: The test statistic is outside of the range of p-values available in the\n",
      "look-up table. The actual p-value is greater than the p-value returned.\n",
      "\n",
      "  results = test(time_series.values)\n",
      "c:\\Users\\mp222\\OneDrive - Imperial College London\\IslandTimeGitHub\\IslandTime\\IslandTime\\TimeSeriesAnalysis.py:737: InterpolationWarning: The test statistic is outside of the range of p-values available in the\n",
      "look-up table. The actual p-value is greater than the p-value returned.\n",
      "\n",
      "  results = test(time_series.values)\n",
      "Transect:  55%|█████▍    | 705/1283 [00:46<00:36, 15.84it/s]c:\\Users\\mp222\\OneDrive - Imperial College London\\IslandTimeGitHub\\IslandTime\\IslandTime\\TimeSeriesAnalysis.py:737: InterpolationWarning: The test statistic is outside of the range of p-values available in the\n",
      "look-up table. The actual p-value is greater than the p-value returned.\n",
      "\n",
      "  results = test(time_series.values)\n",
      "c:\\Users\\mp222\\OneDrive - Imperial College London\\IslandTimeGitHub\\IslandTime\\IslandTime\\TimeSeriesAnalysis.py:737: InterpolationWarning: The test statistic is outside of the range of p-values available in the\n",
      "look-up table. The actual p-value is greater than the p-value returned.\n",
      "\n",
      "  results = test(time_series.values)\n",
      "Transect:  55%|█████▌    | 707/1283 [00:46<00:36, 15.77it/s]c:\\Users\\mp222\\OneDrive - Imperial College London\\IslandTimeGitHub\\IslandTime\\IslandTime\\TimeSeriesAnalysis.py:737: InterpolationWarning: The test statistic is outside of the range of p-values available in the\n",
      "look-up table. The actual p-value is greater than the p-value returned.\n",
      "\n",
      "  results = test(time_series.values)\n",
      "c:\\Users\\mp222\\OneDrive - Imperial College London\\IslandTimeGitHub\\IslandTime\\IslandTime\\TimeSeriesAnalysis.py:737: InterpolationWarning: The test statistic is outside of the range of p-values available in the\n",
      "look-up table. The actual p-value is greater than the p-value returned.\n",
      "\n",
      "  results = test(time_series.values)\n",
      "Transect:  55%|█████▌    | 709/1283 [00:46<00:36, 15.65it/s]c:\\Users\\mp222\\OneDrive - Imperial College London\\IslandTimeGitHub\\IslandTime\\IslandTime\\TimeSeriesAnalysis.py:737: InterpolationWarning: The test statistic is outside of the range of p-values available in the\n",
      "look-up table. The actual p-value is greater than the p-value returned.\n",
      "\n",
      "  results = test(time_series.values)\n",
      "c:\\Users\\mp222\\OneDrive - Imperial College London\\IslandTimeGitHub\\IslandTime\\IslandTime\\TimeSeriesAnalysis.py:737: InterpolationWarning: The test statistic is outside of the range of p-values available in the\n",
      "look-up table. The actual p-value is greater than the p-value returned.\n",
      "\n",
      "  results = test(time_series.values)\n",
      "Transect:  55%|█████▌    | 711/1283 [00:46<00:37, 15.32it/s]c:\\Users\\mp222\\OneDrive - Imperial College London\\IslandTimeGitHub\\IslandTime\\IslandTime\\TimeSeriesAnalysis.py:737: InterpolationWarning: The test statistic is outside of the range of p-values available in the\n",
      "look-up table. The actual p-value is greater than the p-value returned.\n",
      "\n",
      "  results = test(time_series.values)\n",
      "c:\\Users\\mp222\\OneDrive - Imperial College London\\IslandTimeGitHub\\IslandTime\\IslandTime\\TimeSeriesAnalysis.py:737: InterpolationWarning: The test statistic is outside of the range of p-values available in the\n",
      "look-up table. The actual p-value is greater than the p-value returned.\n",
      "\n",
      "  results = test(time_series.values)\n",
      "Transect:  56%|█████▌    | 713/1283 [00:46<00:36, 15.77it/s]c:\\Users\\mp222\\OneDrive - Imperial College London\\IslandTimeGitHub\\IslandTime\\IslandTime\\TimeSeriesAnalysis.py:737: InterpolationWarning: The test statistic is outside of the range of p-values available in the\n",
      "look-up table. The actual p-value is greater than the p-value returned.\n",
      "\n",
      "  results = test(time_series.values)\n",
      "c:\\Users\\mp222\\OneDrive - Imperial College London\\IslandTimeGitHub\\IslandTime\\IslandTime\\TimeSeriesAnalysis.py:737: InterpolationWarning: The test statistic is outside of the range of p-values available in the\n",
      "look-up table. The actual p-value is greater than the p-value returned.\n",
      "\n",
      "  results = test(time_series.values)\n",
      "Transect:  56%|█████▌    | 715/1283 [00:47<00:35, 16.13it/s]c:\\Users\\mp222\\OneDrive - Imperial College London\\IslandTimeGitHub\\IslandTime\\IslandTime\\TimeSeriesAnalysis.py:737: InterpolationWarning: The test statistic is outside of the range of p-values available in the\n",
      "look-up table. The actual p-value is greater than the p-value returned.\n",
      "\n",
      "  results = test(time_series.values)\n",
      "c:\\Users\\mp222\\OneDrive - Imperial College London\\IslandTimeGitHub\\IslandTime\\IslandTime\\TimeSeriesAnalysis.py:737: InterpolationWarning: The test statistic is outside of the range of p-values available in the\n",
      "look-up table. The actual p-value is greater than the p-value returned.\n",
      "\n",
      "  results = test(time_series.values)\n",
      "Transect:  56%|█████▌    | 717/1283 [00:47<00:35, 16.13it/s]c:\\Users\\mp222\\OneDrive - Imperial College London\\IslandTimeGitHub\\IslandTime\\IslandTime\\TimeSeriesAnalysis.py:737: InterpolationWarning: The test statistic is outside of the range of p-values available in the\n",
      "look-up table. The actual p-value is greater than the p-value returned.\n",
      "\n",
      "  results = test(time_series.values)\n",
      "c:\\Users\\mp222\\OneDrive - Imperial College London\\IslandTimeGitHub\\IslandTime\\IslandTime\\TimeSeriesAnalysis.py:737: InterpolationWarning: The test statistic is outside of the range of p-values available in the\n",
      "look-up table. The actual p-value is greater than the p-value returned.\n",
      "\n",
      "  results = test(time_series.values)\n",
      "Transect:  56%|█████▌    | 719/1283 [00:47<00:34, 16.24it/s]c:\\Users\\mp222\\OneDrive - Imperial College London\\IslandTimeGitHub\\IslandTime\\IslandTime\\TimeSeriesAnalysis.py:737: InterpolationWarning: The test statistic is outside of the range of p-values available in the\n",
      "look-up table. The actual p-value is greater than the p-value returned.\n",
      "\n",
      "  results = test(time_series.values)\n",
      "c:\\Users\\mp222\\OneDrive - Imperial College London\\IslandTimeGitHub\\IslandTime\\IslandTime\\TimeSeriesAnalysis.py:737: InterpolationWarning: The test statistic is outside of the range of p-values available in the\n",
      "look-up table. The actual p-value is greater than the p-value returned.\n",
      "\n",
      "  results = test(time_series.values)\n",
      "Transect:  56%|█████▌    | 721/1283 [00:47<00:34, 16.49it/s]c:\\Users\\mp222\\OneDrive - Imperial College London\\IslandTimeGitHub\\IslandTime\\IslandTime\\TimeSeriesAnalysis.py:737: InterpolationWarning: The test statistic is outside of the range of p-values available in the\n",
      "look-up table. The actual p-value is greater than the p-value returned.\n",
      "\n",
      "  results = test(time_series.values)\n",
      "c:\\Users\\mp222\\OneDrive - Imperial College London\\IslandTimeGitHub\\IslandTime\\IslandTime\\TimeSeriesAnalysis.py:737: InterpolationWarning: The test statistic is outside of the range of p-values available in the\n",
      "look-up table. The actual p-value is greater than the p-value returned.\n",
      "\n",
      "  results = test(time_series.values)\n",
      "Transect:  56%|█████▋    | 723/1283 [00:47<00:33, 16.85it/s]c:\\Users\\mp222\\OneDrive - Imperial College London\\IslandTimeGitHub\\IslandTime\\IslandTime\\TimeSeriesAnalysis.py:737: InterpolationWarning: The test statistic is outside of the range of p-values available in the\n",
      "look-up table. The actual p-value is greater than the p-value returned.\n",
      "\n",
      "  results = test(time_series.values)\n",
      "c:\\Users\\mp222\\OneDrive - Imperial College London\\IslandTimeGitHub\\IslandTime\\IslandTime\\TimeSeriesAnalysis.py:737: InterpolationWarning: The test statistic is outside of the range of p-values available in the\n",
      "look-up table. The actual p-value is greater than the p-value returned.\n",
      "\n",
      "  results = test(time_series.values)\n",
      "Transect:  57%|█████▋    | 725/1283 [00:47<00:36, 15.40it/s]c:\\Users\\mp222\\OneDrive - Imperial College London\\IslandTimeGitHub\\IslandTime\\IslandTime\\TimeSeriesAnalysis.py:737: InterpolationWarning: The test statistic is outside of the range of p-values available in the\n",
      "look-up table. The actual p-value is greater than the p-value returned.\n",
      "\n",
      "  results = test(time_series.values)\n",
      "c:\\Users\\mp222\\OneDrive - Imperial College London\\IslandTimeGitHub\\IslandTime\\IslandTime\\TimeSeriesAnalysis.py:737: InterpolationWarning: The test statistic is outside of the range of p-values available in the\n",
      "look-up table. The actual p-value is greater than the p-value returned.\n",
      "\n",
      "  results = test(time_series.values)\n",
      "Transect:  57%|█████▋    | 727/1283 [00:47<00:36, 15.32it/s]c:\\Users\\mp222\\OneDrive - Imperial College London\\IslandTimeGitHub\\IslandTime\\IslandTime\\TimeSeriesAnalysis.py:737: InterpolationWarning: The test statistic is outside of the range of p-values available in the\n",
      "look-up table. The actual p-value is greater than the p-value returned.\n",
      "\n",
      "  results = test(time_series.values)\n",
      "c:\\Users\\mp222\\OneDrive - Imperial College London\\IslandTimeGitHub\\IslandTime\\IslandTime\\TimeSeriesAnalysis.py:737: InterpolationWarning: The test statistic is outside of the range of p-values available in the\n",
      "look-up table. The actual p-value is greater than the p-value returned.\n",
      "\n",
      "  results = test(time_series.values)\n",
      "Transect:  57%|█████▋    | 729/1283 [00:48<00:39, 14.05it/s]c:\\Users\\mp222\\OneDrive - Imperial College London\\IslandTimeGitHub\\IslandTime\\IslandTime\\TimeSeriesAnalysis.py:737: InterpolationWarning: The test statistic is outside of the range of p-values available in the\n",
      "look-up table. The actual p-value is greater than the p-value returned.\n",
      "\n",
      "  results = test(time_series.values)\n",
      "c:\\Users\\mp222\\OneDrive - Imperial College London\\IslandTimeGitHub\\IslandTime\\IslandTime\\TimeSeriesAnalysis.py:737: InterpolationWarning: The test statistic is outside of the range of p-values available in the\n",
      "look-up table. The actual p-value is greater than the p-value returned.\n",
      "\n",
      "  results = test(time_series.values)\n",
      "Transect:  57%|█████▋    | 731/1283 [00:48<00:37, 14.58it/s]c:\\Users\\mp222\\OneDrive - Imperial College London\\IslandTimeGitHub\\IslandTime\\IslandTime\\TimeSeriesAnalysis.py:737: InterpolationWarning: The test statistic is outside of the range of p-values available in the\n",
      "look-up table. The actual p-value is greater than the p-value returned.\n",
      "\n",
      "  results = test(time_series.values)\n",
      "c:\\Users\\mp222\\OneDrive - Imperial College London\\IslandTimeGitHub\\IslandTime\\IslandTime\\TimeSeriesAnalysis.py:737: InterpolationWarning: The test statistic is outside of the range of p-values available in the\n",
      "look-up table. The actual p-value is greater than the p-value returned.\n",
      "\n",
      "  results = test(time_series.values)\n",
      "Transect:  57%|█████▋    | 733/1283 [00:48<00:35, 15.32it/s]c:\\Users\\mp222\\OneDrive - Imperial College London\\IslandTimeGitHub\\IslandTime\\IslandTime\\TimeSeriesAnalysis.py:737: InterpolationWarning: The test statistic is outside of the range of p-values available in the\n",
      "look-up table. The actual p-value is smaller than the p-value returned.\n",
      "\n",
      "  results = test(time_series.values)\n",
      "c:\\Users\\mp222\\OneDrive - Imperial College London\\IslandTimeGitHub\\IslandTime\\IslandTime\\TimeSeriesAnalysis.py:737: InterpolationWarning: The test statistic is outside of the range of p-values available in the\n",
      "look-up table. The actual p-value is smaller than the p-value returned.\n",
      "\n",
      "  results = test(time_series.values)\n",
      "Transect:  57%|█████▋    | 735/1283 [00:48<00:38, 14.26it/s]c:\\Users\\mp222\\OneDrive - Imperial College London\\IslandTimeGitHub\\IslandTime\\IslandTime\\TimeSeriesAnalysis.py:737: InterpolationWarning: The test statistic is outside of the range of p-values available in the\n",
      "look-up table. The actual p-value is smaller than the p-value returned.\n",
      "\n",
      "  results = test(time_series.values)\n",
      "c:\\Users\\mp222\\OneDrive - Imperial College London\\IslandTimeGitHub\\IslandTime\\IslandTime\\TimeSeriesAnalysis.py:737: InterpolationWarning: The test statistic is outside of the range of p-values available in the\n",
      "look-up table. The actual p-value is smaller than the p-value returned.\n",
      "\n",
      "  results = test(time_series.values)\n",
      "Transect:  57%|█████▋    | 737/1283 [00:48<00:37, 14.73it/s]c:\\Users\\mp222\\OneDrive - Imperial College London\\IslandTimeGitHub\\IslandTime\\IslandTime\\TimeSeriesAnalysis.py:737: InterpolationWarning: The test statistic is outside of the range of p-values available in the\n",
      "look-up table. The actual p-value is smaller than the p-value returned.\n",
      "\n",
      "  results = test(time_series.values)\n",
      "c:\\Users\\mp222\\OneDrive - Imperial College London\\IslandTimeGitHub\\IslandTime\\IslandTime\\TimeSeriesAnalysis.py:737: InterpolationWarning: The test statistic is outside of the range of p-values available in the\n",
      "look-up table. The actual p-value is smaller than the p-value returned.\n",
      "\n",
      "  results = test(time_series.values)\n",
      "Transect:  58%|█████▊    | 739/1283 [00:48<00:38, 13.98it/s]c:\\Users\\mp222\\OneDrive - Imperial College London\\IslandTimeGitHub\\IslandTime\\IslandTime\\TimeSeriesAnalysis.py:737: InterpolationWarning: The test statistic is outside of the range of p-values available in the\n",
      "look-up table. The actual p-value is greater than the p-value returned.\n",
      "\n",
      "  results = test(time_series.values)\n",
      "Transect:  58%|█████▊    | 744/1283 [00:48<00:33, 16.29it/s]c:\\Users\\mp222\\OneDrive - Imperial College London\\IslandTimeGitHub\\IslandTime\\IslandTime\\TimeSeriesAnalysis.py:737: InterpolationWarning: The test statistic is outside of the range of p-values available in the\n",
      "look-up table. The actual p-value is greater than the p-value returned.\n",
      "\n",
      "  results = test(time_series.values)\n",
      "Transect:  58%|█████▊    | 746/1283 [00:49<00:32, 16.69it/s]c:\\Users\\mp222\\OneDrive - Imperial College London\\IslandTimeGitHub\\IslandTime\\IslandTime\\TimeSeriesAnalysis.py:737: InterpolationWarning: The test statistic is outside of the range of p-values available in the\n",
      "look-up table. The actual p-value is greater than the p-value returned.\n",
      "\n",
      "  results = test(time_series.values)\n",
      "Transect:  58%|█████▊    | 748/1283 [00:49<00:33, 16.04it/s]c:\\Users\\mp222\\OneDrive - Imperial College London\\IslandTimeGitHub\\IslandTime\\IslandTime\\TimeSeriesAnalysis.py:737: InterpolationWarning: The test statistic is outside of the range of p-values available in the\n",
      "look-up table. The actual p-value is greater than the p-value returned.\n",
      "\n",
      "  results = test(time_series.values)\n",
      "c:\\Users\\mp222\\OneDrive - Imperial College London\\IslandTimeGitHub\\IslandTime\\IslandTime\\TimeSeriesAnalysis.py:737: InterpolationWarning: The test statistic is outside of the range of p-values available in the\n",
      "look-up table. The actual p-value is greater than the p-value returned.\n",
      "\n",
      "  results = test(time_series.values)\n",
      "Transect:  58%|█████▊    | 750/1283 [00:49<00:32, 16.37it/s]c:\\Users\\mp222\\OneDrive - Imperial College London\\IslandTimeGitHub\\IslandTime\\IslandTime\\TimeSeriesAnalysis.py:737: InterpolationWarning: The test statistic is outside of the range of p-values available in the\n",
      "look-up table. The actual p-value is greater than the p-value returned.\n",
      "\n",
      "  results = test(time_series.values)\n",
      "c:\\Users\\mp222\\OneDrive - Imperial College London\\IslandTimeGitHub\\IslandTime\\IslandTime\\TimeSeriesAnalysis.py:737: InterpolationWarning: The test statistic is outside of the range of p-values available in the\n",
      "look-up table. The actual p-value is greater than the p-value returned.\n",
      "\n",
      "  results = test(time_series.values)\n",
      "Transect:  59%|█████▊    | 752/1283 [00:49<00:32, 16.18it/s]c:\\Users\\mp222\\OneDrive - Imperial College London\\IslandTimeGitHub\\IslandTime\\IslandTime\\TimeSeriesAnalysis.py:737: InterpolationWarning: The test statistic is outside of the range of p-values available in the\n",
      "look-up table. The actual p-value is greater than the p-value returned.\n",
      "\n",
      "  results = test(time_series.values)\n",
      "c:\\Users\\mp222\\OneDrive - Imperial College London\\IslandTimeGitHub\\IslandTime\\IslandTime\\TimeSeriesAnalysis.py:737: InterpolationWarning: The test statistic is outside of the range of p-values available in the\n",
      "look-up table. The actual p-value is greater than the p-value returned.\n",
      "\n",
      "  results = test(time_series.values)\n",
      "Transect:  59%|█████▉    | 754/1283 [00:49<00:36, 14.56it/s]c:\\Users\\mp222\\OneDrive - Imperial College London\\IslandTimeGitHub\\IslandTime\\IslandTime\\TimeSeriesAnalysis.py:737: InterpolationWarning: The test statistic is outside of the range of p-values available in the\n",
      "look-up table. The actual p-value is greater than the p-value returned.\n",
      "\n",
      "  results = test(time_series.values)\n",
      "c:\\Users\\mp222\\OneDrive - Imperial College London\\IslandTimeGitHub\\IslandTime\\IslandTime\\TimeSeriesAnalysis.py:737: InterpolationWarning: The test statistic is outside of the range of p-values available in the\n",
      "look-up table. The actual p-value is greater than the p-value returned.\n",
      "\n",
      "  results = test(time_series.values)\n",
      "Transect:  59%|█████▉    | 756/1283 [00:49<00:37, 14.11it/s]c:\\Users\\mp222\\OneDrive - Imperial College London\\IslandTimeGitHub\\IslandTime\\IslandTime\\TimeSeriesAnalysis.py:737: InterpolationWarning: The test statistic is outside of the range of p-values available in the\n",
      "look-up table. The actual p-value is greater than the p-value returned.\n",
      "\n",
      "  results = test(time_series.values)\n",
      "c:\\Users\\mp222\\OneDrive - Imperial College London\\IslandTimeGitHub\\IslandTime\\IslandTime\\TimeSeriesAnalysis.py:737: InterpolationWarning: The test statistic is outside of the range of p-values available in the\n",
      "look-up table. The actual p-value is greater than the p-value returned.\n",
      "\n",
      "  results = test(time_series.values)\n",
      "Transect:  59%|█████▉    | 758/1283 [00:49<00:38, 13.79it/s]c:\\Users\\mp222\\OneDrive - Imperial College London\\IslandTimeGitHub\\IslandTime\\IslandTime\\TimeSeriesAnalysis.py:737: InterpolationWarning: The test statistic is outside of the range of p-values available in the\n",
      "look-up table. The actual p-value is greater than the p-value returned.\n",
      "\n",
      "  results = test(time_series.values)\n",
      "c:\\Users\\mp222\\OneDrive - Imperial College London\\IslandTimeGitHub\\IslandTime\\IslandTime\\TimeSeriesAnalysis.py:737: InterpolationWarning: The test statistic is outside of the range of p-values available in the\n",
      "look-up table. The actual p-value is greater than the p-value returned.\n",
      "\n",
      "  results = test(time_series.values)\n",
      "Transect:  59%|█████▉    | 760/1283 [00:50<00:36, 14.27it/s]c:\\Users\\mp222\\OneDrive - Imperial College London\\IslandTimeGitHub\\IslandTime\\IslandTime\\TimeSeriesAnalysis.py:737: InterpolationWarning: The test statistic is outside of the range of p-values available in the\n",
      "look-up table. The actual p-value is greater than the p-value returned.\n",
      "\n",
      "  results = test(time_series.values)\n",
      "c:\\Users\\mp222\\OneDrive - Imperial College London\\IslandTimeGitHub\\IslandTime\\IslandTime\\TimeSeriesAnalysis.py:737: InterpolationWarning: The test statistic is outside of the range of p-values available in the\n",
      "look-up table. The actual p-value is greater than the p-value returned.\n",
      "\n",
      "  results = test(time_series.values)\n",
      "Transect:  59%|█████▉    | 762/1283 [00:50<00:35, 14.65it/s]c:\\Users\\mp222\\OneDrive - Imperial College London\\IslandTimeGitHub\\IslandTime\\IslandTime\\TimeSeriesAnalysis.py:737: InterpolationWarning: The test statistic is outside of the range of p-values available in the\n",
      "look-up table. The actual p-value is greater than the p-value returned.\n",
      "\n",
      "  results = test(time_series.values)\n",
      "c:\\Users\\mp222\\OneDrive - Imperial College London\\IslandTimeGitHub\\IslandTime\\IslandTime\\TimeSeriesAnalysis.py:737: InterpolationWarning: The test statistic is outside of the range of p-values available in the\n",
      "look-up table. The actual p-value is greater than the p-value returned.\n",
      "\n",
      "  results = test(time_series.values)\n",
      "Transect:  60%|█████▉    | 764/1283 [00:50<00:34, 14.99it/s]c:\\Users\\mp222\\OneDrive - Imperial College London\\IslandTimeGitHub\\IslandTime\\IslandTime\\TimeSeriesAnalysis.py:737: InterpolationWarning: The test statistic is outside of the range of p-values available in the\n",
      "look-up table. The actual p-value is greater than the p-value returned.\n",
      "\n",
      "  results = test(time_series.values)\n",
      "c:\\Users\\mp222\\OneDrive - Imperial College London\\IslandTimeGitHub\\IslandTime\\IslandTime\\TimeSeriesAnalysis.py:737: InterpolationWarning: The test statistic is outside of the range of p-values available in the\n",
      "look-up table. The actual p-value is greater than the p-value returned.\n",
      "\n",
      "  results = test(time_series.values)\n",
      "Transect:  60%|█████▉    | 766/1283 [00:50<00:34, 14.84it/s]c:\\Users\\mp222\\OneDrive - Imperial College London\\IslandTimeGitHub\\IslandTime\\IslandTime\\TimeSeriesAnalysis.py:737: InterpolationWarning: The test statistic is outside of the range of p-values available in the\n",
      "look-up table. The actual p-value is greater than the p-value returned.\n",
      "\n",
      "  results = test(time_series.values)\n",
      "c:\\Users\\mp222\\OneDrive - Imperial College London\\IslandTimeGitHub\\IslandTime\\IslandTime\\TimeSeriesAnalysis.py:737: InterpolationWarning: The test statistic is outside of the range of p-values available in the\n",
      "look-up table. The actual p-value is greater than the p-value returned.\n",
      "\n",
      "  results = test(time_series.values)\n",
      "Transect:  60%|█████▉    | 768/1283 [00:50<00:35, 14.57it/s]c:\\Users\\mp222\\OneDrive - Imperial College London\\IslandTimeGitHub\\IslandTime\\IslandTime\\TimeSeriesAnalysis.py:737: InterpolationWarning: The test statistic is outside of the range of p-values available in the\n",
      "look-up table. The actual p-value is greater than the p-value returned.\n",
      "\n",
      "  results = test(time_series.values)\n",
      "c:\\Users\\mp222\\OneDrive - Imperial College London\\IslandTimeGitHub\\IslandTime\\IslandTime\\TimeSeriesAnalysis.py:737: InterpolationWarning: The test statistic is outside of the range of p-values available in the\n",
      "look-up table. The actual p-value is greater than the p-value returned.\n",
      "\n",
      "  results = test(time_series.values)\n",
      "Transect:  60%|██████    | 770/1283 [00:50<00:36, 14.20it/s]c:\\Users\\mp222\\OneDrive - Imperial College London\\IslandTimeGitHub\\IslandTime\\IslandTime\\TimeSeriesAnalysis.py:737: InterpolationWarning: The test statistic is outside of the range of p-values available in the\n",
      "look-up table. The actual p-value is greater than the p-value returned.\n",
      "\n",
      "  results = test(time_series.values)\n",
      "c:\\Users\\mp222\\OneDrive - Imperial College London\\IslandTimeGitHub\\IslandTime\\IslandTime\\TimeSeriesAnalysis.py:737: InterpolationWarning: The test statistic is outside of the range of p-values available in the\n",
      "look-up table. The actual p-value is greater than the p-value returned.\n",
      "\n",
      "  results = test(time_series.values)\n",
      "Transect:  60%|██████    | 772/1283 [00:50<00:34, 14.66it/s]c:\\Users\\mp222\\OneDrive - Imperial College London\\IslandTimeGitHub\\IslandTime\\IslandTime\\TimeSeriesAnalysis.py:737: InterpolationWarning: The test statistic is outside of the range of p-values available in the\n",
      "look-up table. The actual p-value is greater than the p-value returned.\n",
      "\n",
      "  results = test(time_series.values)\n",
      "Transect:  60%|██████    | 774/1283 [00:51<00:33, 15.04it/s]c:\\Users\\mp222\\OneDrive - Imperial College London\\IslandTimeGitHub\\IslandTime\\IslandTime\\TimeSeriesAnalysis.py:737: InterpolationWarning: The test statistic is outside of the range of p-values available in the\n",
      "look-up table. The actual p-value is greater than the p-value returned.\n",
      "\n",
      "  results = test(time_series.values)\n",
      "c:\\Users\\mp222\\OneDrive - Imperial College London\\IslandTimeGitHub\\IslandTime\\IslandTime\\TimeSeriesAnalysis.py:737: InterpolationWarning: The test statistic is outside of the range of p-values available in the\n",
      "look-up table. The actual p-value is greater than the p-value returned.\n",
      "\n",
      "  results = test(time_series.values)\n",
      "Transect:  60%|██████    | 776/1283 [00:51<00:33, 15.21it/s]c:\\Users\\mp222\\OneDrive - Imperial College London\\IslandTimeGitHub\\IslandTime\\IslandTime\\TimeSeriesAnalysis.py:737: InterpolationWarning: The test statistic is outside of the range of p-values available in the\n",
      "look-up table. The actual p-value is greater than the p-value returned.\n",
      "\n",
      "  results = test(time_series.values)\n",
      "c:\\Users\\mp222\\OneDrive - Imperial College London\\IslandTimeGitHub\\IslandTime\\IslandTime\\TimeSeriesAnalysis.py:737: InterpolationWarning: The test statistic is outside of the range of p-values available in the\n",
      "look-up table. The actual p-value is greater than the p-value returned.\n",
      "\n",
      "  results = test(time_series.values)\n",
      "Transect:  61%|██████    | 778/1283 [00:51<00:32, 15.33it/s]c:\\Users\\mp222\\OneDrive - Imperial College London\\IslandTimeGitHub\\IslandTime\\IslandTime\\TimeSeriesAnalysis.py:737: InterpolationWarning: The test statistic is outside of the range of p-values available in the\n",
      "look-up table. The actual p-value is greater than the p-value returned.\n",
      "\n",
      "  results = test(time_series.values)\n",
      "c:\\Users\\mp222\\OneDrive - Imperial College London\\IslandTimeGitHub\\IslandTime\\IslandTime\\TimeSeriesAnalysis.py:737: InterpolationWarning: The test statistic is outside of the range of p-values available in the\n",
      "look-up table. The actual p-value is greater than the p-value returned.\n",
      "\n",
      "  results = test(time_series.values)\n",
      "Transect:  61%|██████    | 780/1283 [00:51<00:34, 14.61it/s]c:\\Users\\mp222\\OneDrive - Imperial College London\\IslandTimeGitHub\\IslandTime\\IslandTime\\TimeSeriesAnalysis.py:737: InterpolationWarning: The test statistic is outside of the range of p-values available in the\n",
      "look-up table. The actual p-value is greater than the p-value returned.\n",
      "\n",
      "  results = test(time_series.values)\n",
      "c:\\Users\\mp222\\OneDrive - Imperial College London\\IslandTimeGitHub\\IslandTime\\IslandTime\\TimeSeriesAnalysis.py:737: InterpolationWarning: The test statistic is outside of the range of p-values available in the\n",
      "look-up table. The actual p-value is greater than the p-value returned.\n",
      "\n",
      "  results = test(time_series.values)\n",
      "Transect:  61%|██████    | 782/1283 [00:51<00:34, 14.51it/s]c:\\Users\\mp222\\OneDrive - Imperial College London\\IslandTimeGitHub\\IslandTime\\IslandTime\\TimeSeriesAnalysis.py:737: InterpolationWarning: The test statistic is outside of the range of p-values available in the\n",
      "look-up table. The actual p-value is greater than the p-value returned.\n",
      "\n",
      "  results = test(time_series.values)\n",
      "c:\\Users\\mp222\\OneDrive - Imperial College London\\IslandTimeGitHub\\IslandTime\\IslandTime\\TimeSeriesAnalysis.py:737: InterpolationWarning: The test statistic is outside of the range of p-values available in the\n",
      "look-up table. The actual p-value is greater than the p-value returned.\n",
      "\n",
      "  results = test(time_series.values)\n",
      "Transect:  61%|██████    | 784/1283 [00:51<00:33, 14.70it/s]c:\\Users\\mp222\\OneDrive - Imperial College London\\IslandTimeGitHub\\IslandTime\\IslandTime\\TimeSeriesAnalysis.py:737: InterpolationWarning: The test statistic is outside of the range of p-values available in the\n",
      "look-up table. The actual p-value is greater than the p-value returned.\n",
      "\n",
      "  results = test(time_series.values)\n",
      "c:\\Users\\mp222\\OneDrive - Imperial College London\\IslandTimeGitHub\\IslandTime\\IslandTime\\TimeSeriesAnalysis.py:737: InterpolationWarning: The test statistic is outside of the range of p-values available in the\n",
      "look-up table. The actual p-value is greater than the p-value returned.\n",
      "\n",
      "  results = test(time_series.values)\n",
      "Transect:  61%|██████▏   | 786/1283 [00:51<00:34, 14.54it/s]c:\\Users\\mp222\\OneDrive - Imperial College London\\IslandTimeGitHub\\IslandTime\\IslandTime\\TimeSeriesAnalysis.py:737: InterpolationWarning: The test statistic is outside of the range of p-values available in the\n",
      "look-up table. The actual p-value is greater than the p-value returned.\n",
      "\n",
      "  results = test(time_series.values)\n",
      "c:\\Users\\mp222\\OneDrive - Imperial College London\\IslandTimeGitHub\\IslandTime\\IslandTime\\TimeSeriesAnalysis.py:737: InterpolationWarning: The test statistic is outside of the range of p-values available in the\n",
      "look-up table. The actual p-value is greater than the p-value returned.\n",
      "\n",
      "  results = test(time_series.values)\n",
      "Transect:  61%|██████▏   | 788/1283 [00:51<00:34, 14.56it/s]c:\\Users\\mp222\\OneDrive - Imperial College London\\IslandTimeGitHub\\IslandTime\\IslandTime\\TimeSeriesAnalysis.py:737: InterpolationWarning: The test statistic is outside of the range of p-values available in the\n",
      "look-up table. The actual p-value is greater than the p-value returned.\n",
      "\n",
      "  results = test(time_series.values)\n",
      "c:\\Users\\mp222\\OneDrive - Imperial College London\\IslandTimeGitHub\\IslandTime\\IslandTime\\TimeSeriesAnalysis.py:737: InterpolationWarning: The test statistic is outside of the range of p-values available in the\n",
      "look-up table. The actual p-value is greater than the p-value returned.\n",
      "\n",
      "  results = test(time_series.values)\n",
      "Transect:  62%|██████▏   | 790/1283 [00:52<00:33, 14.76it/s]c:\\Users\\mp222\\OneDrive - Imperial College London\\IslandTimeGitHub\\IslandTime\\IslandTime\\TimeSeriesAnalysis.py:737: InterpolationWarning: The test statistic is outside of the range of p-values available in the\n",
      "look-up table. The actual p-value is greater than the p-value returned.\n",
      "\n",
      "  results = test(time_series.values)\n",
      "c:\\Users\\mp222\\OneDrive - Imperial College London\\IslandTimeGitHub\\IslandTime\\IslandTime\\TimeSeriesAnalysis.py:737: InterpolationWarning: The test statistic is outside of the range of p-values available in the\n",
      "look-up table. The actual p-value is greater than the p-value returned.\n",
      "\n",
      "  results = test(time_series.values)\n",
      "Transect:  62%|██████▏   | 792/1283 [00:52<00:34, 14.29it/s]c:\\Users\\mp222\\OneDrive - Imperial College London\\IslandTimeGitHub\\IslandTime\\IslandTime\\TimeSeriesAnalysis.py:737: InterpolationWarning: The test statistic is outside of the range of p-values available in the\n",
      "look-up table. The actual p-value is greater than the p-value returned.\n",
      "\n",
      "  results = test(time_series.values)\n",
      "c:\\Users\\mp222\\OneDrive - Imperial College London\\IslandTimeGitHub\\IslandTime\\IslandTime\\TimeSeriesAnalysis.py:737: InterpolationWarning: The test statistic is outside of the range of p-values available in the\n",
      "look-up table. The actual p-value is greater than the p-value returned.\n",
      "\n",
      "  results = test(time_series.values)\n",
      "Transect:  62%|██████▏   | 794/1283 [00:52<00:34, 14.36it/s]c:\\Users\\mp222\\OneDrive - Imperial College London\\IslandTimeGitHub\\IslandTime\\IslandTime\\TimeSeriesAnalysis.py:737: InterpolationWarning: The test statistic is outside of the range of p-values available in the\n",
      "look-up table. The actual p-value is greater than the p-value returned.\n",
      "\n",
      "  results = test(time_series.values)\n",
      "c:\\Users\\mp222\\OneDrive - Imperial College London\\IslandTimeGitHub\\IslandTime\\IslandTime\\TimeSeriesAnalysis.py:737: InterpolationWarning: The test statistic is outside of the range of p-values available in the\n",
      "look-up table. The actual p-value is greater than the p-value returned.\n",
      "\n",
      "  results = test(time_series.values)\n",
      "Transect:  62%|██████▏   | 796/1283 [00:52<00:34, 14.25it/s]c:\\Users\\mp222\\OneDrive - Imperial College London\\IslandTimeGitHub\\IslandTime\\IslandTime\\TimeSeriesAnalysis.py:737: InterpolationWarning: The test statistic is outside of the range of p-values available in the\n",
      "look-up table. The actual p-value is greater than the p-value returned.\n",
      "\n",
      "  results = test(time_series.values)\n",
      "c:\\Users\\mp222\\OneDrive - Imperial College London\\IslandTimeGitHub\\IslandTime\\IslandTime\\TimeSeriesAnalysis.py:737: InterpolationWarning: The test statistic is outside of the range of p-values available in the\n",
      "look-up table. The actual p-value is greater than the p-value returned.\n",
      "\n",
      "  results = test(time_series.values)\n",
      "Transect:  62%|██████▏   | 798/1283 [00:52<00:33, 14.60it/s]c:\\Users\\mp222\\OneDrive - Imperial College London\\IslandTimeGitHub\\IslandTime\\IslandTime\\TimeSeriesAnalysis.py:737: InterpolationWarning: The test statistic is outside of the range of p-values available in the\n",
      "look-up table. The actual p-value is greater than the p-value returned.\n",
      "\n",
      "  results = test(time_series.values)\n",
      "c:\\Users\\mp222\\OneDrive - Imperial College London\\IslandTimeGitHub\\IslandTime\\IslandTime\\TimeSeriesAnalysis.py:737: InterpolationWarning: The test statistic is outside of the range of p-values available in the\n",
      "look-up table. The actual p-value is greater than the p-value returned.\n",
      "\n",
      "  results = test(time_series.values)\n",
      "Transect:  62%|██████▏   | 800/1283 [00:52<00:32, 14.86it/s]c:\\Users\\mp222\\OneDrive - Imperial College London\\IslandTimeGitHub\\IslandTime\\IslandTime\\TimeSeriesAnalysis.py:737: InterpolationWarning: The test statistic is outside of the range of p-values available in the\n",
      "look-up table. The actual p-value is greater than the p-value returned.\n",
      "\n",
      "  results = test(time_series.values)\n",
      "c:\\Users\\mp222\\OneDrive - Imperial College London\\IslandTimeGitHub\\IslandTime\\IslandTime\\TimeSeriesAnalysis.py:737: InterpolationWarning: The test statistic is outside of the range of p-values available in the\n",
      "look-up table. The actual p-value is greater than the p-value returned.\n",
      "\n",
      "  results = test(time_series.values)\n",
      "Transect:  63%|██████▎   | 802/1283 [00:52<00:31, 15.11it/s]c:\\Users\\mp222\\OneDrive - Imperial College London\\IslandTimeGitHub\\IslandTime\\IslandTime\\TimeSeriesAnalysis.py:737: InterpolationWarning: The test statistic is outside of the range of p-values available in the\n",
      "look-up table. The actual p-value is greater than the p-value returned.\n",
      "\n",
      "  results = test(time_series.values)\n",
      "c:\\Users\\mp222\\OneDrive - Imperial College London\\IslandTimeGitHub\\IslandTime\\IslandTime\\TimeSeriesAnalysis.py:737: InterpolationWarning: The test statistic is outside of the range of p-values available in the\n",
      "look-up table. The actual p-value is greater than the p-value returned.\n",
      "\n",
      "  results = test(time_series.values)\n",
      "Transect:  63%|██████▎   | 804/1283 [00:53<00:33, 14.48it/s]c:\\Users\\mp222\\OneDrive - Imperial College London\\IslandTimeGitHub\\IslandTime\\IslandTime\\TimeSeriesAnalysis.py:737: InterpolationWarning: The test statistic is outside of the range of p-values available in the\n",
      "look-up table. The actual p-value is greater than the p-value returned.\n",
      "\n",
      "  results = test(time_series.values)\n",
      "c:\\Users\\mp222\\OneDrive - Imperial College London\\IslandTimeGitHub\\IslandTime\\IslandTime\\TimeSeriesAnalysis.py:737: InterpolationWarning: The test statistic is outside of the range of p-values available in the\n",
      "look-up table. The actual p-value is greater than the p-value returned.\n",
      "\n",
      "  results = test(time_series.values)\n",
      "Transect:  63%|██████▎   | 806/1283 [00:53<00:31, 14.91it/s]c:\\Users\\mp222\\OneDrive - Imperial College London\\IslandTimeGitHub\\IslandTime\\IslandTime\\TimeSeriesAnalysis.py:737: InterpolationWarning: The test statistic is outside of the range of p-values available in the\n",
      "look-up table. The actual p-value is greater than the p-value returned.\n",
      "\n",
      "  results = test(time_series.values)\n",
      "c:\\Users\\mp222\\OneDrive - Imperial College London\\IslandTimeGitHub\\IslandTime\\IslandTime\\TimeSeriesAnalysis.py:737: InterpolationWarning: The test statistic is outside of the range of p-values available in the\n",
      "look-up table. The actual p-value is greater than the p-value returned.\n",
      "\n",
      "  results = test(time_series.values)\n",
      "Transect:  63%|██████▎   | 808/1283 [00:53<00:31, 15.21it/s]c:\\Users\\mp222\\OneDrive - Imperial College London\\IslandTimeGitHub\\IslandTime\\IslandTime\\TimeSeriesAnalysis.py:737: InterpolationWarning: The test statistic is outside of the range of p-values available in the\n",
      "look-up table. The actual p-value is greater than the p-value returned.\n",
      "\n",
      "  results = test(time_series.values)\n",
      "c:\\Users\\mp222\\OneDrive - Imperial College London\\IslandTimeGitHub\\IslandTime\\IslandTime\\TimeSeriesAnalysis.py:737: InterpolationWarning: The test statistic is outside of the range of p-values available in the\n",
      "look-up table. The actual p-value is greater than the p-value returned.\n",
      "\n",
      "  results = test(time_series.values)\n",
      "Transect:  63%|██████▎   | 810/1283 [00:53<00:30, 15.54it/s]c:\\Users\\mp222\\OneDrive - Imperial College London\\IslandTimeGitHub\\IslandTime\\IslandTime\\TimeSeriesAnalysis.py:737: InterpolationWarning: The test statistic is outside of the range of p-values available in the\n",
      "look-up table. The actual p-value is greater than the p-value returned.\n",
      "\n",
      "  results = test(time_series.values)\n",
      "c:\\Users\\mp222\\OneDrive - Imperial College London\\IslandTimeGitHub\\IslandTime\\IslandTime\\TimeSeriesAnalysis.py:737: InterpolationWarning: The test statistic is outside of the range of p-values available in the\n",
      "look-up table. The actual p-value is greater than the p-value returned.\n",
      "\n",
      "  results = test(time_series.values)\n",
      "Transect:  63%|██████▎   | 814/1283 [00:53<00:24, 18.89it/s]c:\\Users\\mp222\\OneDrive - Imperial College London\\IslandTimeGitHub\\IslandTime\\IslandTime\\TimeSeriesAnalysis.py:737: InterpolationWarning: The test statistic is outside of the range of p-values available in the\n",
      "look-up table. The actual p-value is greater than the p-value returned.\n",
      "\n",
      "  results = test(time_series.values)\n",
      "c:\\Users\\mp222\\OneDrive - Imperial College London\\IslandTimeGitHub\\IslandTime\\IslandTime\\TimeSeriesAnalysis.py:737: InterpolationWarning: The test statistic is outside of the range of p-values available in the\n",
      "look-up table. The actual p-value is greater than the p-value returned.\n",
      "\n",
      "  results = test(time_series.values)\n",
      "Transect:  64%|██████▎   | 816/1283 [00:53<00:25, 18.04it/s]c:\\Users\\mp222\\OneDrive - Imperial College London\\IslandTimeGitHub\\IslandTime\\IslandTime\\TimeSeriesAnalysis.py:737: InterpolationWarning: The test statistic is outside of the range of p-values available in the\n",
      "look-up table. The actual p-value is greater than the p-value returned.\n",
      "\n",
      "  results = test(time_series.values)\n",
      "c:\\Users\\mp222\\OneDrive - Imperial College London\\IslandTimeGitHub\\IslandTime\\IslandTime\\TimeSeriesAnalysis.py:737: InterpolationWarning: The test statistic is outside of the range of p-values available in the\n",
      "look-up table. The actual p-value is greater than the p-value returned.\n",
      "\n",
      "  results = test(time_series.values)\n",
      "Transect:  64%|██████▍   | 818/1283 [00:53<00:26, 17.45it/s]c:\\Users\\mp222\\OneDrive - Imperial College London\\IslandTimeGitHub\\IslandTime\\IslandTime\\TimeSeriesAnalysis.py:737: InterpolationWarning: The test statistic is outside of the range of p-values available in the\n",
      "look-up table. The actual p-value is greater than the p-value returned.\n",
      "\n",
      "  results = test(time_series.values)\n",
      "c:\\Users\\mp222\\OneDrive - Imperial College London\\IslandTimeGitHub\\IslandTime\\IslandTime\\TimeSeriesAnalysis.py:737: InterpolationWarning: The test statistic is outside of the range of p-values available in the\n",
      "look-up table. The actual p-value is greater than the p-value returned.\n",
      "\n",
      "  results = test(time_series.values)\n",
      "Transect:  64%|██████▍   | 820/1283 [00:53<00:27, 17.07it/s]c:\\Users\\mp222\\OneDrive - Imperial College London\\IslandTimeGitHub\\IslandTime\\IslandTime\\TimeSeriesAnalysis.py:737: InterpolationWarning: The test statistic is outside of the range of p-values available in the\n",
      "look-up table. The actual p-value is greater than the p-value returned.\n",
      "\n",
      "  results = test(time_series.values)\n",
      "c:\\Users\\mp222\\OneDrive - Imperial College London\\IslandTimeGitHub\\IslandTime\\IslandTime\\TimeSeriesAnalysis.py:737: InterpolationWarning: The test statistic is outside of the range of p-values available in the\n",
      "look-up table. The actual p-value is greater than the p-value returned.\n",
      "\n",
      "  results = test(time_series.values)\n",
      "Transect:  64%|██████▍   | 822/1283 [00:54<00:27, 16.52it/s]c:\\Users\\mp222\\OneDrive - Imperial College London\\IslandTimeGitHub\\IslandTime\\IslandTime\\TimeSeriesAnalysis.py:737: InterpolationWarning: The test statistic is outside of the range of p-values available in the\n",
      "look-up table. The actual p-value is greater than the p-value returned.\n",
      "\n",
      "  results = test(time_series.values)\n",
      "c:\\Users\\mp222\\OneDrive - Imperial College London\\IslandTimeGitHub\\IslandTime\\IslandTime\\TimeSeriesAnalysis.py:737: InterpolationWarning: The test statistic is outside of the range of p-values available in the\n",
      "look-up table. The actual p-value is greater than the p-value returned.\n",
      "\n",
      "  results = test(time_series.values)\n",
      "Transect:  65%|██████▍   | 831/1283 [00:54<00:13, 33.21it/s]c:\\Users\\mp222\\OneDrive - Imperial College London\\IslandTimeGitHub\\IslandTime\\IslandTime\\TimeSeriesAnalysis.py:737: InterpolationWarning: The test statistic is outside of the range of p-values available in the\n",
      "look-up table. The actual p-value is greater than the p-value returned.\n",
      "\n",
      "  results = test(time_series.values)\n",
      "c:\\Users\\mp222\\OneDrive - Imperial College London\\IslandTimeGitHub\\IslandTime\\IslandTime\\TimeSeriesAnalysis.py:737: InterpolationWarning: The test statistic is outside of the range of p-values available in the\n",
      "look-up table. The actual p-value is greater than the p-value returned.\n",
      "\n",
      "  results = test(time_series.values)\n",
      "c:\\Users\\mp222\\OneDrive - Imperial College London\\IslandTimeGitHub\\IslandTime\\IslandTime\\TimeSeriesAnalysis.py:737: InterpolationWarning: The test statistic is outside of the range of p-values available in the\n",
      "look-up table. The actual p-value is greater than the p-value returned.\n",
      "\n",
      "  results = test(time_series.values)\n",
      "c:\\Users\\mp222\\OneDrive - Imperial College London\\IslandTimeGitHub\\IslandTime\\IslandTime\\TimeSeriesAnalysis.py:737: InterpolationWarning: The test statistic is outside of the range of p-values available in the\n",
      "look-up table. The actual p-value is greater than the p-value returned.\n",
      "\n",
      "  results = test(time_series.values)\n",
      "Transect:  65%|██████▌   | 835/1283 [00:54<00:17, 25.43it/s]c:\\Users\\mp222\\OneDrive - Imperial College London\\IslandTimeGitHub\\IslandTime\\IslandTime\\TimeSeriesAnalysis.py:737: InterpolationWarning: The test statistic is outside of the range of p-values available in the\n",
      "look-up table. The actual p-value is greater than the p-value returned.\n",
      "\n",
      "  results = test(time_series.values)\n",
      "c:\\Users\\mp222\\OneDrive - Imperial College London\\IslandTimeGitHub\\IslandTime\\IslandTime\\TimeSeriesAnalysis.py:737: InterpolationWarning: The test statistic is outside of the range of p-values available in the\n",
      "look-up table. The actual p-value is greater than the p-value returned.\n",
      "\n",
      "  results = test(time_series.values)\n",
      "c:\\Users\\mp222\\OneDrive - Imperial College London\\IslandTimeGitHub\\IslandTime\\IslandTime\\TimeSeriesAnalysis.py:737: InterpolationWarning: The test statistic is outside of the range of p-values available in the\n",
      "look-up table. The actual p-value is greater than the p-value returned.\n",
      "\n",
      "  results = test(time_series.values)\n",
      "Transect:  65%|██████▌   | 838/1283 [00:54<00:19, 22.33it/s]c:\\Users\\mp222\\OneDrive - Imperial College London\\IslandTimeGitHub\\IslandTime\\IslandTime\\TimeSeriesAnalysis.py:737: InterpolationWarning: The test statistic is outside of the range of p-values available in the\n",
      "look-up table. The actual p-value is greater than the p-value returned.\n",
      "\n",
      "  results = test(time_series.values)\n",
      "c:\\Users\\mp222\\OneDrive - Imperial College London\\IslandTimeGitHub\\IslandTime\\IslandTime\\TimeSeriesAnalysis.py:737: InterpolationWarning: The test statistic is outside of the range of p-values available in the\n",
      "look-up table. The actual p-value is greater than the p-value returned.\n",
      "\n",
      "  results = test(time_series.values)\n",
      "c:\\Users\\mp222\\OneDrive - Imperial College London\\IslandTimeGitHub\\IslandTime\\IslandTime\\TimeSeriesAnalysis.py:737: InterpolationWarning: The test statistic is outside of the range of p-values available in the\n",
      "look-up table. The actual p-value is greater than the p-value returned.\n",
      "\n",
      "  results = test(time_series.values)\n",
      "Transect:  66%|██████▌   | 841/1283 [00:54<00:22, 19.80it/s]c:\\Users\\mp222\\OneDrive - Imperial College London\\IslandTimeGitHub\\IslandTime\\IslandTime\\TimeSeriesAnalysis.py:737: InterpolationWarning: The test statistic is outside of the range of p-values available in the\n",
      "look-up table. The actual p-value is greater than the p-value returned.\n",
      "\n",
      "  results = test(time_series.values)\n",
      "c:\\Users\\mp222\\OneDrive - Imperial College London\\IslandTimeGitHub\\IslandTime\\IslandTime\\TimeSeriesAnalysis.py:737: InterpolationWarning: The test statistic is outside of the range of p-values available in the\n",
      "look-up table. The actual p-value is greater than the p-value returned.\n",
      "\n",
      "  results = test(time_series.values)\n",
      "c:\\Users\\mp222\\OneDrive - Imperial College London\\IslandTimeGitHub\\IslandTime\\IslandTime\\TimeSeriesAnalysis.py:737: InterpolationWarning: The test statistic is outside of the range of p-values available in the\n",
      "look-up table. The actual p-value is greater than the p-value returned.\n",
      "\n",
      "  results = test(time_series.values)\n",
      "Transect:  66%|██████▌   | 844/1283 [00:55<00:24, 18.29it/s]c:\\Users\\mp222\\OneDrive - Imperial College London\\IslandTimeGitHub\\IslandTime\\IslandTime\\TimeSeriesAnalysis.py:737: InterpolationWarning: The test statistic is outside of the range of p-values available in the\n",
      "look-up table. The actual p-value is greater than the p-value returned.\n",
      "\n",
      "  results = test(time_series.values)\n",
      "c:\\Users\\mp222\\OneDrive - Imperial College London\\IslandTimeGitHub\\IslandTime\\IslandTime\\TimeSeriesAnalysis.py:737: InterpolationWarning: The test statistic is outside of the range of p-values available in the\n",
      "look-up table. The actual p-value is greater than the p-value returned.\n",
      "\n",
      "  results = test(time_series.values)\n",
      "Transect:  66%|██████▌   | 846/1283 [00:55<00:24, 17.94it/s]c:\\Users\\mp222\\OneDrive - Imperial College London\\IslandTimeGitHub\\IslandTime\\IslandTime\\TimeSeriesAnalysis.py:737: InterpolationWarning: The test statistic is outside of the range of p-values available in the\n",
      "look-up table. The actual p-value is greater than the p-value returned.\n",
      "\n",
      "  results = test(time_series.values)\n",
      "c:\\Users\\mp222\\OneDrive - Imperial College London\\IslandTimeGitHub\\IslandTime\\IslandTime\\TimeSeriesAnalysis.py:737: InterpolationWarning: The test statistic is outside of the range of p-values available in the\n",
      "look-up table. The actual p-value is greater than the p-value returned.\n",
      "\n",
      "  results = test(time_series.values)\n",
      "Transect:  66%|██████▌   | 848/1283 [00:55<00:24, 17.60it/s]c:\\Users\\mp222\\OneDrive - Imperial College London\\IslandTimeGitHub\\IslandTime\\IslandTime\\TimeSeriesAnalysis.py:737: InterpolationWarning: The test statistic is outside of the range of p-values available in the\n",
      "look-up table. The actual p-value is greater than the p-value returned.\n",
      "\n",
      "  results = test(time_series.values)\n",
      "c:\\Users\\mp222\\OneDrive - Imperial College London\\IslandTimeGitHub\\IslandTime\\IslandTime\\TimeSeriesAnalysis.py:737: InterpolationWarning: The test statistic is outside of the range of p-values available in the\n",
      "look-up table. The actual p-value is greater than the p-value returned.\n",
      "\n",
      "  results = test(time_series.values)\n",
      "Transect:  66%|██████▋   | 850/1283 [00:55<00:25, 17.22it/s]c:\\Users\\mp222\\OneDrive - Imperial College London\\IslandTimeGitHub\\IslandTime\\IslandTime\\TimeSeriesAnalysis.py:737: InterpolationWarning: The test statistic is outside of the range of p-values available in the\n",
      "look-up table. The actual p-value is greater than the p-value returned.\n",
      "\n",
      "  results = test(time_series.values)\n",
      "c:\\Users\\mp222\\OneDrive - Imperial College London\\IslandTimeGitHub\\IslandTime\\IslandTime\\TimeSeriesAnalysis.py:737: InterpolationWarning: The test statistic is outside of the range of p-values available in the\n",
      "look-up table. The actual p-value is greater than the p-value returned.\n",
      "\n",
      "  results = test(time_series.values)\n",
      "Transect:  66%|██████▋   | 852/1283 [00:55<00:25, 16.92it/s]c:\\Users\\mp222\\OneDrive - Imperial College London\\IslandTimeGitHub\\IslandTime\\IslandTime\\TimeSeriesAnalysis.py:737: InterpolationWarning: The test statistic is outside of the range of p-values available in the\n",
      "look-up table. The actual p-value is greater than the p-value returned.\n",
      "\n",
      "  results = test(time_series.values)\n",
      "c:\\Users\\mp222\\OneDrive - Imperial College London\\IslandTimeGitHub\\IslandTime\\IslandTime\\TimeSeriesAnalysis.py:737: InterpolationWarning: The test statistic is outside of the range of p-values available in the\n",
      "look-up table. The actual p-value is greater than the p-value returned.\n",
      "\n",
      "  results = test(time_series.values)\n",
      "Transect:  67%|██████▋   | 854/1283 [00:55<00:26, 16.16it/s]c:\\Users\\mp222\\OneDrive - Imperial College London\\IslandTimeGitHub\\IslandTime\\IslandTime\\TimeSeriesAnalysis.py:737: InterpolationWarning: The test statistic is outside of the range of p-values available in the\n",
      "look-up table. The actual p-value is greater than the p-value returned.\n",
      "\n",
      "  results = test(time_series.values)\n",
      "c:\\Users\\mp222\\OneDrive - Imperial College London\\IslandTimeGitHub\\IslandTime\\IslandTime\\TimeSeriesAnalysis.py:737: InterpolationWarning: The test statistic is outside of the range of p-values available in the\n",
      "look-up table. The actual p-value is greater than the p-value returned.\n",
      "\n",
      "  results = test(time_series.values)\n",
      "Transect:  67%|██████▋   | 856/1283 [00:55<00:27, 15.59it/s]c:\\Users\\mp222\\OneDrive - Imperial College London\\IslandTimeGitHub\\IslandTime\\IslandTime\\TimeSeriesAnalysis.py:737: InterpolationWarning: The test statistic is outside of the range of p-values available in the\n",
      "look-up table. The actual p-value is greater than the p-value returned.\n",
      "\n",
      "  results = test(time_series.values)\n",
      "c:\\Users\\mp222\\OneDrive - Imperial College London\\IslandTimeGitHub\\IslandTime\\IslandTime\\TimeSeriesAnalysis.py:737: InterpolationWarning: The test statistic is outside of the range of p-values available in the\n",
      "look-up table. The actual p-value is greater than the p-value returned.\n",
      "\n",
      "  results = test(time_series.values)\n",
      "Transect:  67%|██████▋   | 858/1283 [00:55<00:27, 15.64it/s]c:\\Users\\mp222\\OneDrive - Imperial College London\\IslandTimeGitHub\\IslandTime\\IslandTime\\TimeSeriesAnalysis.py:737: InterpolationWarning: The test statistic is outside of the range of p-values available in the\n",
      "look-up table. The actual p-value is greater than the p-value returned.\n",
      "\n",
      "  results = test(time_series.values)\n",
      "c:\\Users\\mp222\\OneDrive - Imperial College London\\IslandTimeGitHub\\IslandTime\\IslandTime\\TimeSeriesAnalysis.py:737: InterpolationWarning: The test statistic is outside of the range of p-values available in the\n",
      "look-up table. The actual p-value is greater than the p-value returned.\n",
      "\n",
      "  results = test(time_series.values)\n",
      "Transect:  67%|██████▋   | 860/1283 [00:56<00:26, 15.70it/s]c:\\Users\\mp222\\OneDrive - Imperial College London\\IslandTimeGitHub\\IslandTime\\IslandTime\\TimeSeriesAnalysis.py:737: InterpolationWarning: The test statistic is outside of the range of p-values available in the\n",
      "look-up table. The actual p-value is greater than the p-value returned.\n",
      "\n",
      "  results = test(time_series.values)\n",
      "c:\\Users\\mp222\\OneDrive - Imperial College London\\IslandTimeGitHub\\IslandTime\\IslandTime\\TimeSeriesAnalysis.py:737: InterpolationWarning: The test statistic is outside of the range of p-values available in the\n",
      "look-up table. The actual p-value is greater than the p-value returned.\n",
      "\n",
      "  results = test(time_series.values)\n",
      "Transect:  67%|██████▋   | 862/1283 [00:56<00:27, 15.40it/s]c:\\Users\\mp222\\OneDrive - Imperial College London\\IslandTimeGitHub\\IslandTime\\IslandTime\\TimeSeriesAnalysis.py:737: InterpolationWarning: The test statistic is outside of the range of p-values available in the\n",
      "look-up table. The actual p-value is greater than the p-value returned.\n",
      "\n",
      "  results = test(time_series.values)\n",
      "c:\\Users\\mp222\\OneDrive - Imperial College London\\IslandTimeGitHub\\IslandTime\\IslandTime\\TimeSeriesAnalysis.py:737: InterpolationWarning: The test statistic is outside of the range of p-values available in the\n",
      "look-up table. The actual p-value is greater than the p-value returned.\n",
      "\n",
      "  results = test(time_series.values)\n",
      "Transect:  67%|██████▋   | 864/1283 [00:56<00:27, 15.46it/s]c:\\Users\\mp222\\OneDrive - Imperial College London\\IslandTimeGitHub\\IslandTime\\IslandTime\\TimeSeriesAnalysis.py:737: InterpolationWarning: The test statistic is outside of the range of p-values available in the\n",
      "look-up table. The actual p-value is greater than the p-value returned.\n",
      "\n",
      "  results = test(time_series.values)\n",
      "c:\\Users\\mp222\\OneDrive - Imperial College London\\IslandTimeGitHub\\IslandTime\\IslandTime\\TimeSeriesAnalysis.py:737: InterpolationWarning: The test statistic is outside of the range of p-values available in the\n",
      "look-up table. The actual p-value is greater than the p-value returned.\n",
      "\n",
      "  results = test(time_series.values)\n",
      "Transect:  67%|██████▋   | 866/1283 [00:56<00:26, 15.80it/s]c:\\Users\\mp222\\OneDrive - Imperial College London\\IslandTimeGitHub\\IslandTime\\IslandTime\\TimeSeriesAnalysis.py:737: InterpolationWarning: The test statistic is outside of the range of p-values available in the\n",
      "look-up table. The actual p-value is greater than the p-value returned.\n",
      "\n",
      "  results = test(time_series.values)\n",
      "c:\\Users\\mp222\\OneDrive - Imperial College London\\IslandTimeGitHub\\IslandTime\\IslandTime\\TimeSeriesAnalysis.py:737: InterpolationWarning: The test statistic is outside of the range of p-values available in the\n",
      "look-up table. The actual p-value is greater than the p-value returned.\n",
      "\n",
      "  results = test(time_series.values)\n",
      "Transect:  68%|██████▊   | 871/1283 [00:56<00:17, 24.17it/s]c:\\Users\\mp222\\OneDrive - Imperial College London\\IslandTimeGitHub\\IslandTime\\IslandTime\\TimeSeriesAnalysis.py:737: InterpolationWarning: The test statistic is outside of the range of p-values available in the\n",
      "look-up table. The actual p-value is greater than the p-value returned.\n",
      "\n",
      "  results = test(time_series.values)\n",
      "c:\\Users\\mp222\\OneDrive - Imperial College London\\IslandTimeGitHub\\IslandTime\\IslandTime\\TimeSeriesAnalysis.py:737: InterpolationWarning: The test statistic is outside of the range of p-values available in the\n",
      "look-up table. The actual p-value is greater than the p-value returned.\n",
      "\n",
      "  results = test(time_series.values)\n",
      "c:\\Users\\mp222\\OneDrive - Imperial College London\\IslandTimeGitHub\\IslandTime\\IslandTime\\TimeSeriesAnalysis.py:737: InterpolationWarning: The test statistic is outside of the range of p-values available in the\n",
      "look-up table. The actual p-value is greater than the p-value returned.\n",
      "\n",
      "  results = test(time_series.values)\n",
      "Transect:  68%|██████▊   | 874/1283 [00:56<00:18, 22.01it/s]c:\\Users\\mp222\\OneDrive - Imperial College London\\IslandTimeGitHub\\IslandTime\\IslandTime\\TimeSeriesAnalysis.py:737: InterpolationWarning: The test statistic is outside of the range of p-values available in the\n",
      "look-up table. The actual p-value is greater than the p-value returned.\n",
      "\n",
      "  results = test(time_series.values)\n",
      "c:\\Users\\mp222\\OneDrive - Imperial College London\\IslandTimeGitHub\\IslandTime\\IslandTime\\TimeSeriesAnalysis.py:737: InterpolationWarning: The test statistic is outside of the range of p-values available in the\n",
      "look-up table. The actual p-value is greater than the p-value returned.\n",
      "\n",
      "  results = test(time_series.values)\n",
      "c:\\Users\\mp222\\OneDrive - Imperial College London\\IslandTimeGitHub\\IslandTime\\IslandTime\\TimeSeriesAnalysis.py:737: InterpolationWarning: The test statistic is outside of the range of p-values available in the\n",
      "look-up table. The actual p-value is greater than the p-value returned.\n",
      "\n",
      "  results = test(time_series.values)\n",
      "Transect:  68%|██████▊   | 877/1283 [00:56<00:20, 19.60it/s]c:\\Users\\mp222\\OneDrive - Imperial College London\\IslandTimeGitHub\\IslandTime\\IslandTime\\TimeSeriesAnalysis.py:737: InterpolationWarning: The test statistic is outside of the range of p-values available in the\n",
      "look-up table. The actual p-value is greater than the p-value returned.\n",
      "\n",
      "  results = test(time_series.values)\n",
      "c:\\Users\\mp222\\OneDrive - Imperial College London\\IslandTimeGitHub\\IslandTime\\IslandTime\\TimeSeriesAnalysis.py:737: InterpolationWarning: The test statistic is outside of the range of p-values available in the\n",
      "look-up table. The actual p-value is greater than the p-value returned.\n",
      "\n",
      "  results = test(time_series.values)\n",
      "c:\\Users\\mp222\\OneDrive - Imperial College London\\IslandTimeGitHub\\IslandTime\\IslandTime\\TimeSeriesAnalysis.py:737: InterpolationWarning: The test statistic is outside of the range of p-values available in the\n",
      "look-up table. The actual p-value is greater than the p-value returned.\n",
      "\n",
      "  results = test(time_series.values)\n",
      "Transect:  69%|██████▊   | 880/1283 [00:57<00:21, 18.64it/s]c:\\Users\\mp222\\OneDrive - Imperial College London\\IslandTimeGitHub\\IslandTime\\IslandTime\\TimeSeriesAnalysis.py:737: InterpolationWarning: The test statistic is outside of the range of p-values available in the\n",
      "look-up table. The actual p-value is greater than the p-value returned.\n",
      "\n",
      "  results = test(time_series.values)\n",
      "c:\\Users\\mp222\\OneDrive - Imperial College London\\IslandTimeGitHub\\IslandTime\\IslandTime\\TimeSeriesAnalysis.py:737: InterpolationWarning: The test statistic is outside of the range of p-values available in the\n",
      "look-up table. The actual p-value is greater than the p-value returned.\n",
      "\n",
      "  results = test(time_series.values)\n",
      "Transect:  69%|██████▊   | 882/1283 [00:57<00:23, 17.32it/s]c:\\Users\\mp222\\OneDrive - Imperial College London\\IslandTimeGitHub\\IslandTime\\IslandTime\\TimeSeriesAnalysis.py:737: InterpolationWarning: The test statistic is outside of the range of p-values available in the\n",
      "look-up table. The actual p-value is greater than the p-value returned.\n",
      "\n",
      "  results = test(time_series.values)\n",
      "c:\\Users\\mp222\\OneDrive - Imperial College London\\IslandTimeGitHub\\IslandTime\\IslandTime\\TimeSeriesAnalysis.py:737: InterpolationWarning: The test statistic is outside of the range of p-values available in the\n",
      "look-up table. The actual p-value is greater than the p-value returned.\n",
      "\n",
      "  results = test(time_series.values)\n",
      "Transect:  69%|██████▉   | 884/1283 [00:57<00:23, 17.31it/s]c:\\Users\\mp222\\OneDrive - Imperial College London\\IslandTimeGitHub\\IslandTime\\IslandTime\\TimeSeriesAnalysis.py:737: InterpolationWarning: The test statistic is outside of the range of p-values available in the\n",
      "look-up table. The actual p-value is greater than the p-value returned.\n",
      "\n",
      "  results = test(time_series.values)\n",
      "c:\\Users\\mp222\\OneDrive - Imperial College London\\IslandTimeGitHub\\IslandTime\\IslandTime\\TimeSeriesAnalysis.py:737: InterpolationWarning: The test statistic is outside of the range of p-values available in the\n",
      "look-up table. The actual p-value is greater than the p-value returned.\n",
      "\n",
      "  results = test(time_series.values)\n",
      "Transect:  69%|██████▉   | 886/1283 [00:57<00:23, 17.18it/s]c:\\Users\\mp222\\OneDrive - Imperial College London\\IslandTimeGitHub\\IslandTime\\IslandTime\\TimeSeriesAnalysis.py:737: InterpolationWarning: The test statistic is outside of the range of p-values available in the\n",
      "look-up table. The actual p-value is greater than the p-value returned.\n",
      "\n",
      "  results = test(time_series.values)\n",
      "c:\\Users\\mp222\\OneDrive - Imperial College London\\IslandTimeGitHub\\IslandTime\\IslandTime\\TimeSeriesAnalysis.py:737: InterpolationWarning: The test statistic is outside of the range of p-values available in the\n",
      "look-up table. The actual p-value is greater than the p-value returned.\n",
      "\n",
      "  results = test(time_series.values)\n",
      "Transect:  69%|██████▉   | 888/1283 [00:57<00:23, 17.07it/s]c:\\Users\\mp222\\OneDrive - Imperial College London\\IslandTimeGitHub\\IslandTime\\IslandTime\\TimeSeriesAnalysis.py:737: InterpolationWarning: The test statistic is outside of the range of p-values available in the\n",
      "look-up table. The actual p-value is greater than the p-value returned.\n",
      "\n",
      "  results = test(time_series.values)\n",
      "c:\\Users\\mp222\\OneDrive - Imperial College London\\IslandTimeGitHub\\IslandTime\\IslandTime\\TimeSeriesAnalysis.py:737: InterpolationWarning: The test statistic is outside of the range of p-values available in the\n",
      "look-up table. The actual p-value is greater than the p-value returned.\n",
      "\n",
      "  results = test(time_series.values)\n",
      "Transect:  69%|██████▉   | 890/1283 [00:57<00:23, 16.45it/s]c:\\Users\\mp222\\OneDrive - Imperial College London\\IslandTimeGitHub\\IslandTime\\IslandTime\\TimeSeriesAnalysis.py:737: InterpolationWarning: The test statistic is outside of the range of p-values available in the\n",
      "look-up table. The actual p-value is greater than the p-value returned.\n",
      "\n",
      "  results = test(time_series.values)\n",
      "c:\\Users\\mp222\\OneDrive - Imperial College London\\IslandTimeGitHub\\IslandTime\\IslandTime\\TimeSeriesAnalysis.py:737: InterpolationWarning: The test statistic is outside of the range of p-values available in the\n",
      "look-up table. The actual p-value is greater than the p-value returned.\n",
      "\n",
      "  results = test(time_series.values)\n",
      "Transect:  70%|██████▉   | 892/1283 [00:57<00:25, 15.53it/s]c:\\Users\\mp222\\OneDrive - Imperial College London\\IslandTimeGitHub\\IslandTime\\IslandTime\\TimeSeriesAnalysis.py:737: InterpolationWarning: The test statistic is outside of the range of p-values available in the\n",
      "look-up table. The actual p-value is greater than the p-value returned.\n",
      "\n",
      "  results = test(time_series.values)\n",
      "c:\\Users\\mp222\\OneDrive - Imperial College London\\IslandTimeGitHub\\IslandTime\\IslandTime\\TimeSeriesAnalysis.py:737: InterpolationWarning: The test statistic is outside of the range of p-values available in the\n",
      "look-up table. The actual p-value is greater than the p-value returned.\n",
      "\n",
      "  results = test(time_series.values)\n",
      "Transect:  70%|██████▉   | 894/1283 [00:58<00:24, 15.73it/s]c:\\Users\\mp222\\OneDrive - Imperial College London\\IslandTimeGitHub\\IslandTime\\IslandTime\\TimeSeriesAnalysis.py:737: InterpolationWarning: The test statistic is outside of the range of p-values available in the\n",
      "look-up table. The actual p-value is greater than the p-value returned.\n",
      "\n",
      "  results = test(time_series.values)\n",
      "c:\\Users\\mp222\\OneDrive - Imperial College London\\IslandTimeGitHub\\IslandTime\\IslandTime\\TimeSeriesAnalysis.py:737: InterpolationWarning: The test statistic is outside of the range of p-values available in the\n",
      "look-up table. The actual p-value is greater than the p-value returned.\n",
      "\n",
      "  results = test(time_series.values)\n",
      "Transect:  70%|██████▉   | 896/1283 [00:58<00:24, 15.92it/s]c:\\Users\\mp222\\OneDrive - Imperial College London\\IslandTimeGitHub\\IslandTime\\IslandTime\\TimeSeriesAnalysis.py:737: InterpolationWarning: The test statistic is outside of the range of p-values available in the\n",
      "look-up table. The actual p-value is greater than the p-value returned.\n",
      "\n",
      "  results = test(time_series.values)\n",
      "c:\\Users\\mp222\\OneDrive - Imperial College London\\IslandTimeGitHub\\IslandTime\\IslandTime\\TimeSeriesAnalysis.py:737: InterpolationWarning: The test statistic is outside of the range of p-values available in the\n",
      "look-up table. The actual p-value is greater than the p-value returned.\n",
      "\n",
      "  results = test(time_series.values)\n",
      "Transect:  70%|██████▉   | 898/1283 [00:58<00:24, 15.96it/s]c:\\Users\\mp222\\OneDrive - Imperial College London\\IslandTimeGitHub\\IslandTime\\IslandTime\\TimeSeriesAnalysis.py:737: InterpolationWarning: The test statistic is outside of the range of p-values available in the\n",
      "look-up table. The actual p-value is greater than the p-value returned.\n",
      "\n",
      "  results = test(time_series.values)\n",
      "c:\\Users\\mp222\\OneDrive - Imperial College London\\IslandTimeGitHub\\IslandTime\\IslandTime\\TimeSeriesAnalysis.py:737: InterpolationWarning: The test statistic is outside of the range of p-values available in the\n",
      "look-up table. The actual p-value is greater than the p-value returned.\n",
      "\n",
      "  results = test(time_series.values)\n",
      "Transect:  70%|███████   | 900/1283 [00:58<00:23, 16.04it/s]c:\\Users\\mp222\\OneDrive - Imperial College London\\IslandTimeGitHub\\IslandTime\\IslandTime\\TimeSeriesAnalysis.py:737: InterpolationWarning: The test statistic is outside of the range of p-values available in the\n",
      "look-up table. The actual p-value is greater than the p-value returned.\n",
      "\n",
      "  results = test(time_series.values)\n",
      "c:\\Users\\mp222\\OneDrive - Imperial College London\\IslandTimeGitHub\\IslandTime\\IslandTime\\TimeSeriesAnalysis.py:737: InterpolationWarning: The test statistic is outside of the range of p-values available in the\n",
      "look-up table. The actual p-value is greater than the p-value returned.\n",
      "\n",
      "  results = test(time_series.values)\n",
      "Transect:  71%|███████   | 912/1283 [00:58<00:09, 39.99it/s]c:\\Users\\mp222\\OneDrive - Imperial College London\\IslandTimeGitHub\\IslandTime\\IslandTime\\TimeSeriesAnalysis.py:737: InterpolationWarning: The test statistic is outside of the range of p-values available in the\n",
      "look-up table. The actual p-value is greater than the p-value returned.\n",
      "\n",
      "  results = test(time_series.values)\n",
      "c:\\Users\\mp222\\OneDrive - Imperial College London\\IslandTimeGitHub\\IslandTime\\IslandTime\\TimeSeriesAnalysis.py:737: InterpolationWarning: The test statistic is outside of the range of p-values available in the\n",
      "look-up table. The actual p-value is greater than the p-value returned.\n",
      "\n",
      "  results = test(time_series.values)\n",
      "c:\\Users\\mp222\\OneDrive - Imperial College London\\IslandTimeGitHub\\IslandTime\\IslandTime\\TimeSeriesAnalysis.py:737: InterpolationWarning: The test statistic is outside of the range of p-values available in the\n",
      "look-up table. The actual p-value is greater than the p-value returned.\n",
      "\n",
      "  results = test(time_series.values)\n",
      "c:\\Users\\mp222\\OneDrive - Imperial College London\\IslandTimeGitHub\\IslandTime\\IslandTime\\TimeSeriesAnalysis.py:737: InterpolationWarning: The test statistic is outside of the range of p-values available in the\n",
      "look-up table. The actual p-value is greater than the p-value returned.\n",
      "\n",
      "  results = test(time_series.values)\n",
      "c:\\Users\\mp222\\OneDrive - Imperial College London\\IslandTimeGitHub\\IslandTime\\IslandTime\\TimeSeriesAnalysis.py:737: InterpolationWarning: The test statistic is outside of the range of p-values available in the\n",
      "look-up table. The actual p-value is greater than the p-value returned.\n",
      "\n",
      "  results = test(time_series.values)\n",
      "Transect:  71%|███████▏  | 917/1283 [00:58<00:14, 25.09it/s]c:\\Users\\mp222\\OneDrive - Imperial College London\\IslandTimeGitHub\\IslandTime\\IslandTime\\TimeSeriesAnalysis.py:737: InterpolationWarning: The test statistic is outside of the range of p-values available in the\n",
      "look-up table. The actual p-value is greater than the p-value returned.\n",
      "\n",
      "  results = test(time_series.values)\n",
      "c:\\Users\\mp222\\OneDrive - Imperial College London\\IslandTimeGitHub\\IslandTime\\IslandTime\\TimeSeriesAnalysis.py:737: InterpolationWarning: The test statistic is outside of the range of p-values available in the\n",
      "look-up table. The actual p-value is greater than the p-value returned.\n",
      "\n",
      "  results = test(time_series.values)\n",
      "c:\\Users\\mp222\\OneDrive - Imperial College London\\IslandTimeGitHub\\IslandTime\\IslandTime\\TimeSeriesAnalysis.py:737: InterpolationWarning: The test statistic is outside of the range of p-values available in the\n",
      "look-up table. The actual p-value is greater than the p-value returned.\n",
      "\n",
      "  results = test(time_series.values)\n",
      "c:\\Users\\mp222\\OneDrive - Imperial College London\\IslandTimeGitHub\\IslandTime\\IslandTime\\TimeSeriesAnalysis.py:737: InterpolationWarning: The test statistic is outside of the range of p-values available in the\n",
      "look-up table. The actual p-value is greater than the p-value returned.\n",
      "\n",
      "  results = test(time_series.values)\n",
      "Transect:  72%|███████▏  | 921/1283 [00:59<00:16, 22.54it/s]c:\\Users\\mp222\\OneDrive - Imperial College London\\IslandTimeGitHub\\IslandTime\\IslandTime\\TimeSeriesAnalysis.py:737: InterpolationWarning: The test statistic is outside of the range of p-values available in the\n",
      "look-up table. The actual p-value is greater than the p-value returned.\n",
      "\n",
      "  results = test(time_series.values)\n",
      "c:\\Users\\mp222\\OneDrive - Imperial College London\\IslandTimeGitHub\\IslandTime\\IslandTime\\TimeSeriesAnalysis.py:737: InterpolationWarning: The test statistic is outside of the range of p-values available in the\n",
      "look-up table. The actual p-value is greater than the p-value returned.\n",
      "\n",
      "  results = test(time_series.values)\n",
      "c:\\Users\\mp222\\OneDrive - Imperial College London\\IslandTimeGitHub\\IslandTime\\IslandTime\\TimeSeriesAnalysis.py:737: InterpolationWarning: The test statistic is outside of the range of p-values available in the\n",
      "look-up table. The actual p-value is greater than the p-value returned.\n",
      "\n",
      "  results = test(time_series.values)\n",
      "Transect:  72%|███████▏  | 924/1283 [00:59<00:17, 20.65it/s]c:\\Users\\mp222\\OneDrive - Imperial College London\\IslandTimeGitHub\\IslandTime\\IslandTime\\TimeSeriesAnalysis.py:737: InterpolationWarning: The test statistic is outside of the range of p-values available in the\n",
      "look-up table. The actual p-value is greater than the p-value returned.\n",
      "\n",
      "  results = test(time_series.values)\n",
      "c:\\Users\\mp222\\OneDrive - Imperial College London\\IslandTimeGitHub\\IslandTime\\IslandTime\\TimeSeriesAnalysis.py:737: InterpolationWarning: The test statistic is outside of the range of p-values available in the\n",
      "look-up table. The actual p-value is greater than the p-value returned.\n",
      "\n",
      "  results = test(time_series.values)\n",
      "Transect:  72%|███████▏  | 927/1283 [00:59<00:18, 19.40it/s]c:\\Users\\mp222\\OneDrive - Imperial College London\\IslandTimeGitHub\\IslandTime\\IslandTime\\TimeSeriesAnalysis.py:737: InterpolationWarning: The test statistic is outside of the range of p-values available in the\n",
      "look-up table. The actual p-value is greater than the p-value returned.\n",
      "\n",
      "  results = test(time_series.values)\n",
      "c:\\Users\\mp222\\OneDrive - Imperial College London\\IslandTimeGitHub\\IslandTime\\IslandTime\\TimeSeriesAnalysis.py:737: InterpolationWarning: The test statistic is outside of the range of p-values available in the\n",
      "look-up table. The actual p-value is greater than the p-value returned.\n",
      "\n",
      "  results = test(time_series.values)\n",
      "c:\\Users\\mp222\\OneDrive - Imperial College London\\IslandTimeGitHub\\IslandTime\\IslandTime\\TimeSeriesAnalysis.py:737: InterpolationWarning: The test statistic is outside of the range of p-values available in the\n",
      "look-up table. The actual p-value is greater than the p-value returned.\n",
      "\n",
      "  results = test(time_series.values)\n",
      "Transect:  72%|███████▏  | 930/1283 [00:59<00:19, 18.46it/s]c:\\Users\\mp222\\OneDrive - Imperial College London\\IslandTimeGitHub\\IslandTime\\IslandTime\\TimeSeriesAnalysis.py:737: InterpolationWarning: The test statistic is outside of the range of p-values available in the\n",
      "look-up table. The actual p-value is greater than the p-value returned.\n",
      "\n",
      "  results = test(time_series.values)\n",
      "c:\\Users\\mp222\\OneDrive - Imperial College London\\IslandTimeGitHub\\IslandTime\\IslandTime\\TimeSeriesAnalysis.py:737: InterpolationWarning: The test statistic is outside of the range of p-values available in the\n",
      "look-up table. The actual p-value is greater than the p-value returned.\n",
      "\n",
      "  results = test(time_series.values)\n",
      "c:\\Users\\mp222\\OneDrive - Imperial College London\\IslandTimeGitHub\\IslandTime\\IslandTime\\TimeSeriesAnalysis.py:737: InterpolationWarning: The test statistic is outside of the range of p-values available in the\n",
      "look-up table. The actual p-value is greater than the p-value returned.\n",
      "\n",
      "  results = test(time_series.values)\n",
      "Transect:  73%|███████▎  | 933/1283 [00:59<00:19, 17.57it/s]c:\\Users\\mp222\\OneDrive - Imperial College London\\IslandTimeGitHub\\IslandTime\\IslandTime\\TimeSeriesAnalysis.py:737: InterpolationWarning: The test statistic is outside of the range of p-values available in the\n",
      "look-up table. The actual p-value is greater than the p-value returned.\n",
      "\n",
      "  results = test(time_series.values)\n",
      "Transect:  73%|███████▎  | 935/1283 [01:00<00:20, 17.17it/s]c:\\Users\\mp222\\OneDrive - Imperial College London\\IslandTimeGitHub\\IslandTime\\IslandTime\\TimeSeriesAnalysis.py:737: InterpolationWarning: The test statistic is outside of the range of p-values available in the\n",
      "look-up table. The actual p-value is greater than the p-value returned.\n",
      "\n",
      "  results = test(time_series.values)\n",
      "Transect:  73%|███████▎  | 937/1283 [01:00<00:20, 16.96it/s]c:\\Users\\mp222\\OneDrive - Imperial College London\\IslandTimeGitHub\\IslandTime\\IslandTime\\TimeSeriesAnalysis.py:737: InterpolationWarning: The test statistic is outside of the range of p-values available in the\n",
      "look-up table. The actual p-value is greater than the p-value returned.\n",
      "\n",
      "  results = test(time_series.values)\n",
      "Transect:  74%|███████▍  | 947/1283 [01:00<00:21, 15.81it/s]c:\\Users\\mp222\\OneDrive - Imperial College London\\IslandTimeGitHub\\IslandTime\\IslandTime\\TimeSeriesAnalysis.py:737: InterpolationWarning: The test statistic is outside of the range of p-values available in the\n",
      "look-up table. The actual p-value is smaller than the p-value returned.\n",
      "\n",
      "  results = test(time_series.values)\n",
      "c:\\Users\\mp222\\OneDrive - Imperial College London\\IslandTimeGitHub\\IslandTime\\IslandTime\\TimeSeriesAnalysis.py:737: InterpolationWarning: The test statistic is outside of the range of p-values available in the\n",
      "look-up table. The actual p-value is smaller than the p-value returned.\n",
      "\n",
      "  results = test(time_series.values)\n",
      "Transect:  74%|███████▍  | 949/1283 [01:00<00:21, 15.23it/s]c:\\Users\\mp222\\OneDrive - Imperial College London\\IslandTimeGitHub\\IslandTime\\IslandTime\\TimeSeriesAnalysis.py:737: InterpolationWarning: The test statistic is outside of the range of p-values available in the\n",
      "look-up table. The actual p-value is smaller than the p-value returned.\n",
      "\n",
      "  results = test(time_series.values)\n",
      "c:\\Users\\mp222\\OneDrive - Imperial College London\\IslandTimeGitHub\\IslandTime\\IslandTime\\TimeSeriesAnalysis.py:737: InterpolationWarning: The test statistic is outside of the range of p-values available in the\n",
      "look-up table. The actual p-value is smaller than the p-value returned.\n",
      "\n",
      "  results = test(time_series.values)\n",
      "Transect:  74%|███████▍  | 951/1283 [01:01<00:21, 15.48it/s]c:\\Users\\mp222\\OneDrive - Imperial College London\\IslandTimeGitHub\\IslandTime\\IslandTime\\TimeSeriesAnalysis.py:737: InterpolationWarning: The test statistic is outside of the range of p-values available in the\n",
      "look-up table. The actual p-value is smaller than the p-value returned.\n",
      "\n",
      "  results = test(time_series.values)\n",
      "c:\\Users\\mp222\\OneDrive - Imperial College London\\IslandTimeGitHub\\IslandTime\\IslandTime\\TimeSeriesAnalysis.py:737: InterpolationWarning: The test statistic is outside of the range of p-values available in the\n",
      "look-up table. The actual p-value is smaller than the p-value returned.\n",
      "\n",
      "  results = test(time_series.values)\n",
      "Transect:  74%|███████▍  | 953/1283 [01:01<00:20, 15.72it/s]c:\\Users\\mp222\\OneDrive - Imperial College London\\IslandTimeGitHub\\IslandTime\\IslandTime\\TimeSeriesAnalysis.py:737: InterpolationWarning: The test statistic is outside of the range of p-values available in the\n",
      "look-up table. The actual p-value is smaller than the p-value returned.\n",
      "\n",
      "  results = test(time_series.values)\n",
      "c:\\Users\\mp222\\OneDrive - Imperial College London\\IslandTimeGitHub\\IslandTime\\IslandTime\\TimeSeriesAnalysis.py:737: InterpolationWarning: The test statistic is outside of the range of p-values available in the\n",
      "look-up table. The actual p-value is greater than the p-value returned.\n",
      "\n",
      "  results = test(time_series.values)\n",
      "Transect:  74%|███████▍  | 955/1283 [01:01<00:20, 15.84it/s]c:\\Users\\mp222\\OneDrive - Imperial College London\\IslandTimeGitHub\\IslandTime\\IslandTime\\TimeSeriesAnalysis.py:737: InterpolationWarning: The test statistic is outside of the range of p-values available in the\n",
      "look-up table. The actual p-value is greater than the p-value returned.\n",
      "\n",
      "  results = test(time_series.values)\n",
      "Transect:  75%|███████▍  | 957/1283 [01:01<00:20, 15.56it/s]c:\\Users\\mp222\\OneDrive - Imperial College London\\IslandTimeGitHub\\IslandTime\\IslandTime\\TimeSeriesAnalysis.py:737: InterpolationWarning: The test statistic is outside of the range of p-values available in the\n",
      "look-up table. The actual p-value is smaller than the p-value returned.\n",
      "\n",
      "  results = test(time_series.values)\n",
      "Transect:  75%|███████▍  | 959/1283 [01:01<00:20, 15.83it/s]c:\\Users\\mp222\\OneDrive - Imperial College London\\IslandTimeGitHub\\IslandTime\\IslandTime\\TimeSeriesAnalysis.py:737: InterpolationWarning: The test statistic is outside of the range of p-values available in the\n",
      "look-up table. The actual p-value is smaller than the p-value returned.\n",
      "\n",
      "  results = test(time_series.values)\n",
      "c:\\Users\\mp222\\OneDrive - Imperial College London\\IslandTimeGitHub\\IslandTime\\IslandTime\\TimeSeriesAnalysis.py:737: InterpolationWarning: The test statistic is outside of the range of p-values available in the\n",
      "look-up table. The actual p-value is greater than the p-value returned.\n",
      "\n",
      "  results = test(time_series.values)\n",
      "Transect:  75%|███████▍  | 961/1283 [01:01<00:20, 15.82it/s]c:\\Users\\mp222\\OneDrive - Imperial College London\\IslandTimeGitHub\\IslandTime\\IslandTime\\TimeSeriesAnalysis.py:737: InterpolationWarning: The test statistic is outside of the range of p-values available in the\n",
      "look-up table. The actual p-value is greater than the p-value returned.\n",
      "\n",
      "  results = test(time_series.values)\n",
      "c:\\Users\\mp222\\OneDrive - Imperial College London\\IslandTimeGitHub\\IslandTime\\IslandTime\\TimeSeriesAnalysis.py:737: InterpolationWarning: The test statistic is outside of the range of p-values available in the\n",
      "look-up table. The actual p-value is greater than the p-value returned.\n",
      "\n",
      "  results = test(time_series.values)\n",
      "Transect:  75%|███████▌  | 963/1283 [01:01<00:19, 16.10it/s]c:\\Users\\mp222\\OneDrive - Imperial College London\\IslandTimeGitHub\\IslandTime\\IslandTime\\TimeSeriesAnalysis.py:737: InterpolationWarning: The test statistic is outside of the range of p-values available in the\n",
      "look-up table. The actual p-value is greater than the p-value returned.\n",
      "\n",
      "  results = test(time_series.values)\n",
      "c:\\Users\\mp222\\OneDrive - Imperial College London\\IslandTimeGitHub\\IslandTime\\IslandTime\\TimeSeriesAnalysis.py:737: InterpolationWarning: The test statistic is outside of the range of p-values available in the\n",
      "look-up table. The actual p-value is greater than the p-value returned.\n",
      "\n",
      "  results = test(time_series.values)\n",
      "Transect:  75%|███████▌  | 965/1283 [01:01<00:19, 16.22it/s]c:\\Users\\mp222\\OneDrive - Imperial College London\\IslandTimeGitHub\\IslandTime\\IslandTime\\TimeSeriesAnalysis.py:737: InterpolationWarning: The test statistic is outside of the range of p-values available in the\n",
      "look-up table. The actual p-value is greater than the p-value returned.\n",
      "\n",
      "  results = test(time_series.values)\n",
      "Transect:  75%|███████▌  | 967/1283 [01:02<00:19, 16.27it/s]c:\\Users\\mp222\\OneDrive - Imperial College London\\IslandTimeGitHub\\IslandTime\\IslandTime\\TimeSeriesAnalysis.py:737: InterpolationWarning: The test statistic is outside of the range of p-values available in the\n",
      "look-up table. The actual p-value is greater than the p-value returned.\n",
      "\n",
      "  results = test(time_series.values)\n",
      "c:\\Users\\mp222\\OneDrive - Imperial College London\\IslandTimeGitHub\\IslandTime\\IslandTime\\TimeSeriesAnalysis.py:737: InterpolationWarning: The test statistic is outside of the range of p-values available in the\n",
      "look-up table. The actual p-value is greater than the p-value returned.\n",
      "\n",
      "  results = test(time_series.values)\n",
      "Transect:  76%|███████▌  | 969/1283 [01:02<00:19, 16.27it/s]c:\\Users\\mp222\\OneDrive - Imperial College London\\IslandTimeGitHub\\IslandTime\\IslandTime\\TimeSeriesAnalysis.py:737: InterpolationWarning: The test statistic is outside of the range of p-values available in the\n",
      "look-up table. The actual p-value is greater than the p-value returned.\n",
      "\n",
      "  results = test(time_series.values)\n",
      "c:\\Users\\mp222\\OneDrive - Imperial College London\\IslandTimeGitHub\\IslandTime\\IslandTime\\TimeSeriesAnalysis.py:737: InterpolationWarning: The test statistic is outside of the range of p-values available in the\n",
      "look-up table. The actual p-value is greater than the p-value returned.\n",
      "\n",
      "  results = test(time_series.values)\n",
      "Transect:  76%|███████▌  | 971/1283 [01:02<00:19, 16.35it/s]c:\\Users\\mp222\\OneDrive - Imperial College London\\IslandTimeGitHub\\IslandTime\\IslandTime\\TimeSeriesAnalysis.py:737: InterpolationWarning: The test statistic is outside of the range of p-values available in the\n",
      "look-up table. The actual p-value is greater than the p-value returned.\n",
      "\n",
      "  results = test(time_series.values)\n",
      "c:\\Users\\mp222\\OneDrive - Imperial College London\\IslandTimeGitHub\\IslandTime\\IslandTime\\TimeSeriesAnalysis.py:737: InterpolationWarning: The test statistic is outside of the range of p-values available in the\n",
      "look-up table. The actual p-value is greater than the p-value returned.\n",
      "\n",
      "  results = test(time_series.values)\n",
      "Transect:  76%|███████▌  | 973/1283 [01:02<00:18, 16.36it/s]c:\\Users\\mp222\\OneDrive - Imperial College London\\IslandTimeGitHub\\IslandTime\\IslandTime\\TimeSeriesAnalysis.py:737: InterpolationWarning: The test statistic is outside of the range of p-values available in the\n",
      "look-up table. The actual p-value is greater than the p-value returned.\n",
      "\n",
      "  results = test(time_series.values)\n",
      "c:\\Users\\mp222\\OneDrive - Imperial College London\\IslandTimeGitHub\\IslandTime\\IslandTime\\TimeSeriesAnalysis.py:737: InterpolationWarning: The test statistic is outside of the range of p-values available in the\n",
      "look-up table. The actual p-value is greater than the p-value returned.\n",
      "\n",
      "  results = test(time_series.values)\n",
      "Transect:  76%|███████▌  | 975/1283 [01:02<00:19, 16.21it/s]c:\\Users\\mp222\\OneDrive - Imperial College London\\IslandTimeGitHub\\IslandTime\\IslandTime\\TimeSeriesAnalysis.py:737: InterpolationWarning: The test statistic is outside of the range of p-values available in the\n",
      "look-up table. The actual p-value is greater than the p-value returned.\n",
      "\n",
      "  results = test(time_series.values)\n",
      "c:\\Users\\mp222\\OneDrive - Imperial College London\\IslandTimeGitHub\\IslandTime\\IslandTime\\TimeSeriesAnalysis.py:737: InterpolationWarning: The test statistic is outside of the range of p-values available in the\n",
      "look-up table. The actual p-value is greater than the p-value returned.\n",
      "\n",
      "  results = test(time_series.values)\n",
      "Transect:  76%|███████▌  | 977/1283 [01:02<00:19, 16.07it/s]c:\\Users\\mp222\\OneDrive - Imperial College London\\IslandTimeGitHub\\IslandTime\\IslandTime\\TimeSeriesAnalysis.py:737: InterpolationWarning: The test statistic is outside of the range of p-values available in the\n",
      "look-up table. The actual p-value is greater than the p-value returned.\n",
      "\n",
      "  results = test(time_series.values)\n",
      "c:\\Users\\mp222\\OneDrive - Imperial College London\\IslandTimeGitHub\\IslandTime\\IslandTime\\TimeSeriesAnalysis.py:737: InterpolationWarning: The test statistic is outside of the range of p-values available in the\n",
      "look-up table. The actual p-value is greater than the p-value returned.\n",
      "\n",
      "  results = test(time_series.values)\n",
      "Transect:  76%|███████▋  | 979/1283 [01:02<00:18, 16.12it/s]c:\\Users\\mp222\\OneDrive - Imperial College London\\IslandTimeGitHub\\IslandTime\\IslandTime\\TimeSeriesAnalysis.py:737: InterpolationWarning: The test statistic is outside of the range of p-values available in the\n",
      "look-up table. The actual p-value is greater than the p-value returned.\n",
      "\n",
      "  results = test(time_series.values)\n",
      "c:\\Users\\mp222\\OneDrive - Imperial College London\\IslandTimeGitHub\\IslandTime\\IslandTime\\TimeSeriesAnalysis.py:737: InterpolationWarning: The test statistic is outside of the range of p-values available in the\n",
      "look-up table. The actual p-value is greater than the p-value returned.\n",
      "\n",
      "  results = test(time_series.values)\n",
      "Transect:  76%|███████▋  | 981/1283 [01:02<00:18, 16.08it/s]c:\\Users\\mp222\\OneDrive - Imperial College London\\IslandTimeGitHub\\IslandTime\\IslandTime\\TimeSeriesAnalysis.py:737: InterpolationWarning: The test statistic is outside of the range of p-values available in the\n",
      "look-up table. The actual p-value is greater than the p-value returned.\n",
      "\n",
      "  results = test(time_series.values)\n",
      "c:\\Users\\mp222\\OneDrive - Imperial College London\\IslandTimeGitHub\\IslandTime\\IslandTime\\TimeSeriesAnalysis.py:737: InterpolationWarning: The test statistic is outside of the range of p-values available in the\n",
      "look-up table. The actual p-value is greater than the p-value returned.\n",
      "\n",
      "  results = test(time_series.values)\n",
      "Transect:  77%|███████▋  | 983/1283 [01:03<00:18, 16.10it/s]c:\\Users\\mp222\\OneDrive - Imperial College London\\IslandTimeGitHub\\IslandTime\\IslandTime\\TimeSeriesAnalysis.py:737: InterpolationWarning: The test statistic is outside of the range of p-values available in the\n",
      "look-up table. The actual p-value is greater than the p-value returned.\n",
      "\n",
      "  results = test(time_series.values)\n",
      "c:\\Users\\mp222\\OneDrive - Imperial College London\\IslandTimeGitHub\\IslandTime\\IslandTime\\TimeSeriesAnalysis.py:737: InterpolationWarning: The test statistic is outside of the range of p-values available in the\n",
      "look-up table. The actual p-value is greater than the p-value returned.\n",
      "\n",
      "  results = test(time_series.values)\n",
      "Transect:  77%|███████▋  | 985/1283 [01:03<00:18, 16.15it/s]c:\\Users\\mp222\\OneDrive - Imperial College London\\IslandTimeGitHub\\IslandTime\\IslandTime\\TimeSeriesAnalysis.py:737: InterpolationWarning: The test statistic is outside of the range of p-values available in the\n",
      "look-up table. The actual p-value is greater than the p-value returned.\n",
      "\n",
      "  results = test(time_series.values)\n",
      "c:\\Users\\mp222\\OneDrive - Imperial College London\\IslandTimeGitHub\\IslandTime\\IslandTime\\TimeSeriesAnalysis.py:737: InterpolationWarning: The test statistic is outside of the range of p-values available in the\n",
      "look-up table. The actual p-value is greater than the p-value returned.\n",
      "\n",
      "  results = test(time_series.values)\n",
      "Transect:  78%|███████▊  | 995/1283 [01:03<00:17, 16.08it/s]c:\\Users\\mp222\\OneDrive - Imperial College London\\IslandTimeGitHub\\IslandTime\\IslandTime\\TimeSeriesAnalysis.py:737: InterpolationWarning: The test statistic is outside of the range of p-values available in the\n",
      "look-up table. The actual p-value is greater than the p-value returned.\n",
      "\n",
      "  results = test(time_series.values)\n",
      "Transect:  78%|███████▊  | 997/1283 [01:03<00:17, 16.10it/s]c:\\Users\\mp222\\OneDrive - Imperial College London\\IslandTimeGitHub\\IslandTime\\IslandTime\\TimeSeriesAnalysis.py:737: InterpolationWarning: The test statistic is outside of the range of p-values available in the\n",
      "look-up table. The actual p-value is greater than the p-value returned.\n",
      "\n",
      "  results = test(time_series.values)\n",
      "c:\\Users\\mp222\\OneDrive - Imperial College London\\IslandTimeGitHub\\IslandTime\\IslandTime\\TimeSeriesAnalysis.py:737: InterpolationWarning: The test statistic is outside of the range of p-values available in the\n",
      "look-up table. The actual p-value is greater than the p-value returned.\n",
      "\n",
      "  results = test(time_series.values)\n",
      "Transect:  78%|███████▊  | 999/1283 [01:03<00:17, 16.26it/s]c:\\Users\\mp222\\OneDrive - Imperial College London\\IslandTimeGitHub\\IslandTime\\IslandTime\\TimeSeriesAnalysis.py:737: InterpolationWarning: The test statistic is outside of the range of p-values available in the\n",
      "look-up table. The actual p-value is greater than the p-value returned.\n",
      "\n",
      "  results = test(time_series.values)\n",
      "c:\\Users\\mp222\\OneDrive - Imperial College London\\IslandTimeGitHub\\IslandTime\\IslandTime\\TimeSeriesAnalysis.py:737: InterpolationWarning: The test statistic is outside of the range of p-values available in the\n",
      "look-up table. The actual p-value is greater than the p-value returned.\n",
      "\n",
      "  results = test(time_series.values)\n",
      "Transect:  78%|███████▊  | 1001/1283 [01:04<00:17, 16.48it/s]c:\\Users\\mp222\\OneDrive - Imperial College London\\IslandTimeGitHub\\IslandTime\\IslandTime\\TimeSeriesAnalysis.py:737: InterpolationWarning: The test statistic is outside of the range of p-values available in the\n",
      "look-up table. The actual p-value is greater than the p-value returned.\n",
      "\n",
      "  results = test(time_series.values)\n",
      "c:\\Users\\mp222\\OneDrive - Imperial College London\\IslandTimeGitHub\\IslandTime\\IslandTime\\TimeSeriesAnalysis.py:737: InterpolationWarning: The test statistic is outside of the range of p-values available in the\n",
      "look-up table. The actual p-value is greater than the p-value returned.\n",
      "\n",
      "  results = test(time_series.values)\n",
      "Transect:  78%|███████▊  | 1003/1283 [01:04<00:17, 16.19it/s]c:\\Users\\mp222\\OneDrive - Imperial College London\\IslandTimeGitHub\\IslandTime\\IslandTime\\TimeSeriesAnalysis.py:737: InterpolationWarning: The test statistic is outside of the range of p-values available in the\n",
      "look-up table. The actual p-value is greater than the p-value returned.\n",
      "\n",
      "  results = test(time_series.values)\n",
      "c:\\Users\\mp222\\OneDrive - Imperial College London\\IslandTimeGitHub\\IslandTime\\IslandTime\\TimeSeriesAnalysis.py:737: InterpolationWarning: The test statistic is outside of the range of p-values available in the\n",
      "look-up table. The actual p-value is greater than the p-value returned.\n",
      "\n",
      "  results = test(time_series.values)\n",
      "Transect:  78%|███████▊  | 1005/1283 [01:04<00:17, 16.33it/s]c:\\Users\\mp222\\OneDrive - Imperial College London\\IslandTimeGitHub\\IslandTime\\IslandTime\\TimeSeriesAnalysis.py:737: InterpolationWarning: The test statistic is outside of the range of p-values available in the\n",
      "look-up table. The actual p-value is greater than the p-value returned.\n",
      "\n",
      "  results = test(time_series.values)\n",
      "c:\\Users\\mp222\\OneDrive - Imperial College London\\IslandTimeGitHub\\IslandTime\\IslandTime\\TimeSeriesAnalysis.py:737: InterpolationWarning: The test statistic is outside of the range of p-values available in the\n",
      "look-up table. The actual p-value is greater than the p-value returned.\n",
      "\n",
      "  results = test(time_series.values)\n",
      "Transect:  78%|███████▊  | 1007/1283 [01:04<00:16, 16.27it/s]c:\\Users\\mp222\\OneDrive - Imperial College London\\IslandTimeGitHub\\IslandTime\\IslandTime\\TimeSeriesAnalysis.py:737: InterpolationWarning: The test statistic is outside of the range of p-values available in the\n",
      "look-up table. The actual p-value is greater than the p-value returned.\n",
      "\n",
      "  results = test(time_series.values)\n",
      "c:\\Users\\mp222\\OneDrive - Imperial College London\\IslandTimeGitHub\\IslandTime\\IslandTime\\TimeSeriesAnalysis.py:737: InterpolationWarning: The test statistic is outside of the range of p-values available in the\n",
      "look-up table. The actual p-value is greater than the p-value returned.\n",
      "\n",
      "  results = test(time_series.values)\n",
      "Transect:  79%|███████▊  | 1009/1283 [01:04<00:16, 16.15it/s]c:\\Users\\mp222\\OneDrive - Imperial College London\\IslandTimeGitHub\\IslandTime\\IslandTime\\TimeSeriesAnalysis.py:737: InterpolationWarning: The test statistic is outside of the range of p-values available in the\n",
      "look-up table. The actual p-value is greater than the p-value returned.\n",
      "\n",
      "  results = test(time_series.values)\n",
      "c:\\Users\\mp222\\OneDrive - Imperial College London\\IslandTimeGitHub\\IslandTime\\IslandTime\\TimeSeriesAnalysis.py:737: InterpolationWarning: The test statistic is outside of the range of p-values available in the\n",
      "look-up table. The actual p-value is greater than the p-value returned.\n",
      "\n",
      "  results = test(time_series.values)\n",
      "Transect:  79%|███████▉  | 1011/1283 [01:04<00:16, 16.03it/s]c:\\Users\\mp222\\OneDrive - Imperial College London\\IslandTimeGitHub\\IslandTime\\IslandTime\\TimeSeriesAnalysis.py:737: InterpolationWarning: The test statistic is outside of the range of p-values available in the\n",
      "look-up table. The actual p-value is greater than the p-value returned.\n",
      "\n",
      "  results = test(time_series.values)\n",
      "c:\\Users\\mp222\\OneDrive - Imperial College London\\IslandTimeGitHub\\IslandTime\\IslandTime\\TimeSeriesAnalysis.py:737: InterpolationWarning: The test statistic is outside of the range of p-values available in the\n",
      "look-up table. The actual p-value is greater than the p-value returned.\n",
      "\n",
      "  results = test(time_series.values)\n",
      "Transect:  79%|███████▉  | 1013/1283 [01:04<00:16, 15.98it/s]c:\\Users\\mp222\\OneDrive - Imperial College London\\IslandTimeGitHub\\IslandTime\\IslandTime\\TimeSeriesAnalysis.py:737: InterpolationWarning: The test statistic is outside of the range of p-values available in the\n",
      "look-up table. The actual p-value is greater than the p-value returned.\n",
      "\n",
      "  results = test(time_series.values)\n",
      "c:\\Users\\mp222\\OneDrive - Imperial College London\\IslandTimeGitHub\\IslandTime\\IslandTime\\TimeSeriesAnalysis.py:737: InterpolationWarning: The test statistic is outside of the range of p-values available in the\n",
      "look-up table. The actual p-value is greater than the p-value returned.\n",
      "\n",
      "  results = test(time_series.values)\n",
      "Transect:  79%|███████▉  | 1015/1283 [01:04<00:16, 15.98it/s]c:\\Users\\mp222\\OneDrive - Imperial College London\\IslandTimeGitHub\\IslandTime\\IslandTime\\TimeSeriesAnalysis.py:737: InterpolationWarning: The test statistic is outside of the range of p-values available in the\n",
      "look-up table. The actual p-value is greater than the p-value returned.\n",
      "\n",
      "  results = test(time_series.values)\n",
      "c:\\Users\\mp222\\OneDrive - Imperial College London\\IslandTimeGitHub\\IslandTime\\IslandTime\\TimeSeriesAnalysis.py:737: InterpolationWarning: The test statistic is outside of the range of p-values available in the\n",
      "look-up table. The actual p-value is greater than the p-value returned.\n",
      "\n",
      "  results = test(time_series.values)\n",
      "Transect:  79%|███████▉  | 1017/1283 [01:05<00:16, 15.76it/s]c:\\Users\\mp222\\OneDrive - Imperial College London\\IslandTimeGitHub\\IslandTime\\IslandTime\\TimeSeriesAnalysis.py:737: InterpolationWarning: The test statistic is outside of the range of p-values available in the\n",
      "look-up table. The actual p-value is greater than the p-value returned.\n",
      "\n",
      "  results = test(time_series.values)\n",
      "c:\\Users\\mp222\\OneDrive - Imperial College London\\IslandTimeGitHub\\IslandTime\\IslandTime\\TimeSeriesAnalysis.py:737: InterpolationWarning: The test statistic is outside of the range of p-values available in the\n",
      "look-up table. The actual p-value is greater than the p-value returned.\n",
      "\n",
      "  results = test(time_series.values)\n",
      "Transect:  79%|███████▉  | 1019/1283 [01:05<00:16, 15.98it/s]c:\\Users\\mp222\\OneDrive - Imperial College London\\IslandTimeGitHub\\IslandTime\\IslandTime\\TimeSeriesAnalysis.py:737: InterpolationWarning: The test statistic is outside of the range of p-values available in the\n",
      "look-up table. The actual p-value is greater than the p-value returned.\n",
      "\n",
      "  results = test(time_series.values)\n",
      "c:\\Users\\mp222\\OneDrive - Imperial College London\\IslandTimeGitHub\\IslandTime\\IslandTime\\TimeSeriesAnalysis.py:737: InterpolationWarning: The test statistic is outside of the range of p-values available in the\n",
      "look-up table. The actual p-value is greater than the p-value returned.\n",
      "\n",
      "  results = test(time_series.values)\n",
      "Transect:  80%|███████▉  | 1021/1283 [01:05<00:16, 15.98it/s]c:\\Users\\mp222\\OneDrive - Imperial College London\\IslandTimeGitHub\\IslandTime\\IslandTime\\TimeSeriesAnalysis.py:737: InterpolationWarning: The test statistic is outside of the range of p-values available in the\n",
      "look-up table. The actual p-value is greater than the p-value returned.\n",
      "\n",
      "  results = test(time_series.values)\n",
      "c:\\Users\\mp222\\OneDrive - Imperial College London\\IslandTimeGitHub\\IslandTime\\IslandTime\\TimeSeriesAnalysis.py:737: InterpolationWarning: The test statistic is outside of the range of p-values available in the\n",
      "look-up table. The actual p-value is greater than the p-value returned.\n",
      "\n",
      "  results = test(time_series.values)\n",
      "Transect:  80%|███████▉  | 1023/1283 [01:06<00:40,  6.47it/s]c:\\Users\\mp222\\OneDrive - Imperial College London\\IslandTimeGitHub\\IslandTime\\IslandTime\\TimeSeriesAnalysis.py:737: InterpolationWarning: The test statistic is outside of the range of p-values available in the\n",
      "look-up table. The actual p-value is greater than the p-value returned.\n",
      "\n",
      "  results = test(time_series.values)\n",
      "c:\\Users\\mp222\\OneDrive - Imperial College London\\IslandTimeGitHub\\IslandTime\\IslandTime\\TimeSeriesAnalysis.py:737: InterpolationWarning: The test statistic is outside of the range of p-values available in the\n",
      "look-up table. The actual p-value is greater than the p-value returned.\n",
      "\n",
      "  results = test(time_series.values)\n",
      "Transect:  80%|███████▉  | 1025/1283 [01:06<00:33,  7.65it/s]c:\\Users\\mp222\\OneDrive - Imperial College London\\IslandTimeGitHub\\IslandTime\\IslandTime\\TimeSeriesAnalysis.py:737: InterpolationWarning: The test statistic is outside of the range of p-values available in the\n",
      "look-up table. The actual p-value is greater than the p-value returned.\n",
      "\n",
      "  results = test(time_series.values)\n",
      "c:\\Users\\mp222\\OneDrive - Imperial College London\\IslandTimeGitHub\\IslandTime\\IslandTime\\TimeSeriesAnalysis.py:737: InterpolationWarning: The test statistic is outside of the range of p-values available in the\n",
      "look-up table. The actual p-value is greater than the p-value returned.\n",
      "\n",
      "  results = test(time_series.values)\n",
      "Transect:  80%|████████  | 1027/1283 [01:06<00:29,  8.58it/s]c:\\Users\\mp222\\OneDrive - Imperial College London\\IslandTimeGitHub\\IslandTime\\IslandTime\\TimeSeriesAnalysis.py:737: InterpolationWarning: The test statistic is outside of the range of p-values available in the\n",
      "look-up table. The actual p-value is greater than the p-value returned.\n",
      "\n",
      "  results = test(time_series.values)\n",
      "Transect:  80%|████████  | 1031/1283 [01:06<00:23, 10.82it/s]c:\\Users\\mp222\\OneDrive - Imperial College London\\IslandTimeGitHub\\IslandTime\\IslandTime\\TimeSeriesAnalysis.py:737: InterpolationWarning: The test statistic is outside of the range of p-values available in the\n",
      "look-up table. The actual p-value is greater than the p-value returned.\n",
      "\n",
      "  results = test(time_series.values)\n",
      "c:\\Users\\mp222\\OneDrive - Imperial College London\\IslandTimeGitHub\\IslandTime\\IslandTime\\TimeSeriesAnalysis.py:737: InterpolationWarning: The test statistic is outside of the range of p-values available in the\n",
      "look-up table. The actual p-value is greater than the p-value returned.\n",
      "\n",
      "  results = test(time_series.values)\n",
      "Transect:  81%|████████  | 1033/1283 [01:06<00:20, 12.01it/s]c:\\Users\\mp222\\OneDrive - Imperial College London\\IslandTimeGitHub\\IslandTime\\IslandTime\\TimeSeriesAnalysis.py:737: InterpolationWarning: The test statistic is outside of the range of p-values available in the\n",
      "look-up table. The actual p-value is greater than the p-value returned.\n",
      "\n",
      "  results = test(time_series.values)\n",
      "c:\\Users\\mp222\\OneDrive - Imperial College London\\IslandTimeGitHub\\IslandTime\\IslandTime\\TimeSeriesAnalysis.py:737: InterpolationWarning: The test statistic is outside of the range of p-values available in the\n",
      "look-up table. The actual p-value is greater than the p-value returned.\n",
      "\n",
      "  results = test(time_series.values)\n",
      "Transect:  81%|████████  | 1035/1283 [01:06<00:18, 13.13it/s]c:\\Users\\mp222\\OneDrive - Imperial College London\\IslandTimeGitHub\\IslandTime\\IslandTime\\TimeSeriesAnalysis.py:737: InterpolationWarning: The test statistic is outside of the range of p-values available in the\n",
      "look-up table. The actual p-value is greater than the p-value returned.\n",
      "\n",
      "  results = test(time_series.values)\n",
      "c:\\Users\\mp222\\OneDrive - Imperial College London\\IslandTimeGitHub\\IslandTime\\IslandTime\\TimeSeriesAnalysis.py:737: InterpolationWarning: The test statistic is outside of the range of p-values available in the\n",
      "look-up table. The actual p-value is greater than the p-value returned.\n",
      "\n",
      "  results = test(time_series.values)\n",
      "Transect:  81%|████████  | 1037/1283 [01:07<00:17, 14.14it/s]c:\\Users\\mp222\\OneDrive - Imperial College London\\IslandTimeGitHub\\IslandTime\\IslandTime\\TimeSeriesAnalysis.py:737: InterpolationWarning: The test statistic is outside of the range of p-values available in the\n",
      "look-up table. The actual p-value is greater than the p-value returned.\n",
      "\n",
      "  results = test(time_series.values)\n",
      "c:\\Users\\mp222\\OneDrive - Imperial College London\\IslandTimeGitHub\\IslandTime\\IslandTime\\TimeSeriesAnalysis.py:737: InterpolationWarning: The test statistic is outside of the range of p-values available in the\n",
      "look-up table. The actual p-value is greater than the p-value returned.\n",
      "\n",
      "  results = test(time_series.values)\n",
      "Transect:  81%|████████  | 1039/1283 [01:07<00:16, 14.37it/s]c:\\Users\\mp222\\OneDrive - Imperial College London\\IslandTimeGitHub\\IslandTime\\IslandTime\\TimeSeriesAnalysis.py:737: InterpolationWarning: The test statistic is outside of the range of p-values available in the\n",
      "look-up table. The actual p-value is greater than the p-value returned.\n",
      "\n",
      "  results = test(time_series.values)\n",
      "c:\\Users\\mp222\\OneDrive - Imperial College London\\IslandTimeGitHub\\IslandTime\\IslandTime\\TimeSeriesAnalysis.py:737: InterpolationWarning: The test statistic is outside of the range of p-values available in the\n",
      "look-up table. The actual p-value is greater than the p-value returned.\n",
      "\n",
      "  results = test(time_series.values)\n",
      "Transect:  81%|████████  | 1041/1283 [01:07<00:16, 14.53it/s]c:\\Users\\mp222\\OneDrive - Imperial College London\\IslandTimeGitHub\\IslandTime\\IslandTime\\TimeSeriesAnalysis.py:737: InterpolationWarning: The test statistic is outside of the range of p-values available in the\n",
      "look-up table. The actual p-value is greater than the p-value returned.\n",
      "\n",
      "  results = test(time_series.values)\n",
      "Transect:  81%|████████▏ | 1045/1283 [01:07<00:16, 14.80it/s]c:\\Users\\mp222\\OneDrive - Imperial College London\\IslandTimeGitHub\\IslandTime\\IslandTime\\TimeSeriesAnalysis.py:737: InterpolationWarning: The test statistic is outside of the range of p-values available in the\n",
      "look-up table. The actual p-value is greater than the p-value returned.\n",
      "\n",
      "  results = test(time_series.values)\n",
      "Transect:  82%|████████▏ | 1047/1283 [01:07<00:16, 14.64it/s]c:\\Users\\mp222\\OneDrive - Imperial College London\\IslandTimeGitHub\\IslandTime\\IslandTime\\TimeSeriesAnalysis.py:737: InterpolationWarning: The test statistic is outside of the range of p-values available in the\n",
      "look-up table. The actual p-value is greater than the p-value returned.\n",
      "\n",
      "  results = test(time_series.values)\n",
      "c:\\Users\\mp222\\OneDrive - Imperial College London\\IslandTimeGitHub\\IslandTime\\IslandTime\\TimeSeriesAnalysis.py:737: InterpolationWarning: The test statistic is outside of the range of p-values available in the\n",
      "look-up table. The actual p-value is greater than the p-value returned.\n",
      "\n",
      "  results = test(time_series.values)\n",
      "Transect:  82%|████████▏ | 1049/1283 [01:07<00:15, 14.94it/s]c:\\Users\\mp222\\OneDrive - Imperial College London\\IslandTimeGitHub\\IslandTime\\IslandTime\\TimeSeriesAnalysis.py:737: InterpolationWarning: The test statistic is outside of the range of p-values available in the\n",
      "look-up table. The actual p-value is greater than the p-value returned.\n",
      "\n",
      "  results = test(time_series.values)\n",
      "c:\\Users\\mp222\\OneDrive - Imperial College London\\IslandTimeGitHub\\IslandTime\\IslandTime\\TimeSeriesAnalysis.py:737: InterpolationWarning: The test statistic is outside of the range of p-values available in the\n",
      "look-up table. The actual p-value is greater than the p-value returned.\n",
      "\n",
      "  results = test(time_series.values)\n",
      "Transect:  82%|████████▏ | 1051/1283 [01:07<00:15, 15.27it/s]c:\\Users\\mp222\\OneDrive - Imperial College London\\IslandTimeGitHub\\IslandTime\\IslandTime\\TimeSeriesAnalysis.py:737: InterpolationWarning: The test statistic is outside of the range of p-values available in the\n",
      "look-up table. The actual p-value is greater than the p-value returned.\n",
      "\n",
      "  results = test(time_series.values)\n",
      "c:\\Users\\mp222\\OneDrive - Imperial College London\\IslandTimeGitHub\\IslandTime\\IslandTime\\TimeSeriesAnalysis.py:737: InterpolationWarning: The test statistic is outside of the range of p-values available in the\n",
      "look-up table. The actual p-value is greater than the p-value returned.\n",
      "\n",
      "  results = test(time_series.values)\n",
      "Transect:  82%|████████▏ | 1053/1283 [01:08<00:16, 14.08it/s]c:\\Users\\mp222\\OneDrive - Imperial College London\\IslandTimeGitHub\\IslandTime\\IslandTime\\TimeSeriesAnalysis.py:737: InterpolationWarning: The test statistic is outside of the range of p-values available in the\n",
      "look-up table. The actual p-value is greater than the p-value returned.\n",
      "\n",
      "  results = test(time_series.values)\n",
      "c:\\Users\\mp222\\OneDrive - Imperial College London\\IslandTimeGitHub\\IslandTime\\IslandTime\\TimeSeriesAnalysis.py:737: InterpolationWarning: The test statistic is outside of the range of p-values available in the\n",
      "look-up table. The actual p-value is greater than the p-value returned.\n",
      "\n",
      "  results = test(time_series.values)\n",
      "Transect:  83%|████████▎ | 1069/1283 [01:09<00:13, 16.18it/s]c:\\Users\\mp222\\OneDrive - Imperial College London\\IslandTimeGitHub\\IslandTime\\IslandTime\\TimeSeriesAnalysis.py:737: InterpolationWarning: The test statistic is outside of the range of p-values available in the\n",
      "look-up table. The actual p-value is greater than the p-value returned.\n",
      "\n",
      "  results = test(time_series.values)\n",
      "c:\\Users\\mp222\\OneDrive - Imperial College London\\IslandTimeGitHub\\IslandTime\\IslandTime\\TimeSeriesAnalysis.py:737: InterpolationWarning: The test statistic is outside of the range of p-values available in the\n",
      "look-up table. The actual p-value is greater than the p-value returned.\n",
      "\n",
      "  results = test(time_series.values)\n",
      "Transect:  83%|████████▎ | 1071/1283 [01:09<00:13, 16.07it/s]c:\\Users\\mp222\\OneDrive - Imperial College London\\IslandTimeGitHub\\IslandTime\\IslandTime\\TimeSeriesAnalysis.py:737: InterpolationWarning: The test statistic is outside of the range of p-values available in the\n",
      "look-up table. The actual p-value is greater than the p-value returned.\n",
      "\n",
      "  results = test(time_series.values)\n",
      "c:\\Users\\mp222\\OneDrive - Imperial College London\\IslandTimeGitHub\\IslandTime\\IslandTime\\TimeSeriesAnalysis.py:737: InterpolationWarning: The test statistic is outside of the range of p-values available in the\n",
      "look-up table. The actual p-value is greater than the p-value returned.\n",
      "\n",
      "  results = test(time_series.values)\n",
      "Transect:  84%|████████▎ | 1073/1283 [01:09<00:12, 16.26it/s]c:\\Users\\mp222\\OneDrive - Imperial College London\\IslandTimeGitHub\\IslandTime\\IslandTime\\TimeSeriesAnalysis.py:737: InterpolationWarning: The test statistic is outside of the range of p-values available in the\n",
      "look-up table. The actual p-value is greater than the p-value returned.\n",
      "\n",
      "  results = test(time_series.values)\n",
      "c:\\Users\\mp222\\OneDrive - Imperial College London\\IslandTimeGitHub\\IslandTime\\IslandTime\\TimeSeriesAnalysis.py:737: InterpolationWarning: The test statistic is outside of the range of p-values available in the\n",
      "look-up table. The actual p-value is greater than the p-value returned.\n",
      "\n",
      "  results = test(time_series.values)\n",
      "Transect:  84%|████████▍ | 1075/1283 [01:09<00:13, 15.05it/s]c:\\Users\\mp222\\OneDrive - Imperial College London\\IslandTimeGitHub\\IslandTime\\IslandTime\\TimeSeriesAnalysis.py:737: InterpolationWarning: The test statistic is outside of the range of p-values available in the\n",
      "look-up table. The actual p-value is greater than the p-value returned.\n",
      "\n",
      "  results = test(time_series.values)\n",
      "c:\\Users\\mp222\\OneDrive - Imperial College London\\IslandTimeGitHub\\IslandTime\\IslandTime\\TimeSeriesAnalysis.py:737: InterpolationWarning: The test statistic is outside of the range of p-values available in the\n",
      "look-up table. The actual p-value is greater than the p-value returned.\n",
      "\n",
      "  results = test(time_series.values)\n",
      "Transect:  84%|████████▍ | 1077/1283 [01:09<00:14, 14.55it/s]c:\\Users\\mp222\\OneDrive - Imperial College London\\IslandTimeGitHub\\IslandTime\\IslandTime\\TimeSeriesAnalysis.py:737: InterpolationWarning: The test statistic is outside of the range of p-values available in the\n",
      "look-up table. The actual p-value is greater than the p-value returned.\n",
      "\n",
      "  results = test(time_series.values)\n",
      "c:\\Users\\mp222\\OneDrive - Imperial College London\\IslandTimeGitHub\\IslandTime\\IslandTime\\TimeSeriesAnalysis.py:737: InterpolationWarning: The test statistic is outside of the range of p-values available in the\n",
      "look-up table. The actual p-value is greater than the p-value returned.\n",
      "\n",
      "  results = test(time_series.values)\n",
      "Transect:  84%|████████▍ | 1079/1283 [01:09<00:13, 14.76it/s]c:\\Users\\mp222\\OneDrive - Imperial College London\\IslandTimeGitHub\\IslandTime\\IslandTime\\TimeSeriesAnalysis.py:737: InterpolationWarning: The test statistic is outside of the range of p-values available in the\n",
      "look-up table. The actual p-value is greater than the p-value returned.\n",
      "\n",
      "  results = test(time_series.values)\n",
      "c:\\Users\\mp222\\OneDrive - Imperial College London\\IslandTimeGitHub\\IslandTime\\IslandTime\\TimeSeriesAnalysis.py:737: InterpolationWarning: The test statistic is outside of the range of p-values available in the\n",
      "look-up table. The actual p-value is greater than the p-value returned.\n",
      "\n",
      "  results = test(time_series.values)\n",
      "Transect:  84%|████████▍ | 1081/1283 [01:09<00:13, 14.84it/s]c:\\Users\\mp222\\OneDrive - Imperial College London\\IslandTimeGitHub\\IslandTime\\IslandTime\\TimeSeriesAnalysis.py:737: InterpolationWarning: The test statistic is outside of the range of p-values available in the\n",
      "look-up table. The actual p-value is greater than the p-value returned.\n",
      "\n",
      "  results = test(time_series.values)\n",
      "Transect:  85%|████████▍ | 1087/1283 [01:10<00:12, 15.23it/s]c:\\Users\\mp222\\OneDrive - Imperial College London\\IslandTimeGitHub\\IslandTime\\IslandTime\\TimeSeriesAnalysis.py:737: InterpolationWarning: The test statistic is outside of the range of p-values available in the\n",
      "look-up table. The actual p-value is greater than the p-value returned.\n",
      "\n",
      "  results = test(time_series.values)\n",
      "c:\\Users\\mp222\\OneDrive - Imperial College London\\IslandTimeGitHub\\IslandTime\\IslandTime\\TimeSeriesAnalysis.py:737: InterpolationWarning: The test statistic is outside of the range of p-values available in the\n",
      "look-up table. The actual p-value is greater than the p-value returned.\n",
      "\n",
      "  results = test(time_series.values)\n",
      "Transect:  85%|████████▍ | 1089/1283 [01:10<00:13, 14.80it/s]c:\\Users\\mp222\\OneDrive - Imperial College London\\IslandTimeGitHub\\IslandTime\\IslandTime\\TimeSeriesAnalysis.py:737: InterpolationWarning: The test statistic is outside of the range of p-values available in the\n",
      "look-up table. The actual p-value is greater than the p-value returned.\n",
      "\n",
      "  results = test(time_series.values)\n",
      "c:\\Users\\mp222\\OneDrive - Imperial College London\\IslandTimeGitHub\\IslandTime\\IslandTime\\TimeSeriesAnalysis.py:737: InterpolationWarning: The test statistic is outside of the range of p-values available in the\n",
      "look-up table. The actual p-value is greater than the p-value returned.\n",
      "\n",
      "  results = test(time_series.values)\n",
      "Transect:  85%|████████▌ | 1091/1283 [01:10<00:12, 15.35it/s]c:\\Users\\mp222\\OneDrive - Imperial College London\\IslandTimeGitHub\\IslandTime\\IslandTime\\TimeSeriesAnalysis.py:737: InterpolationWarning: The test statistic is outside of the range of p-values available in the\n",
      "look-up table. The actual p-value is greater than the p-value returned.\n",
      "\n",
      "  results = test(time_series.values)\n",
      "c:\\Users\\mp222\\OneDrive - Imperial College London\\IslandTimeGitHub\\IslandTime\\IslandTime\\TimeSeriesAnalysis.py:737: InterpolationWarning: The test statistic is outside of the range of p-values available in the\n",
      "look-up table. The actual p-value is greater than the p-value returned.\n",
      "\n",
      "  results = test(time_series.values)\n",
      "Transect:  85%|████████▌ | 1093/1283 [01:10<00:12, 15.46it/s]c:\\Users\\mp222\\OneDrive - Imperial College London\\IslandTimeGitHub\\IslandTime\\IslandTime\\TimeSeriesAnalysis.py:737: InterpolationWarning: The test statistic is outside of the range of p-values available in the\n",
      "look-up table. The actual p-value is greater than the p-value returned.\n",
      "\n",
      "  results = test(time_series.values)\n",
      "c:\\Users\\mp222\\OneDrive - Imperial College London\\IslandTimeGitHub\\IslandTime\\IslandTime\\TimeSeriesAnalysis.py:737: InterpolationWarning: The test statistic is outside of the range of p-values available in the\n",
      "look-up table. The actual p-value is greater than the p-value returned.\n",
      "\n",
      "  results = test(time_series.values)\n",
      "Transect:  85%|████████▌ | 1095/1283 [01:10<00:12, 15.58it/s]c:\\Users\\mp222\\OneDrive - Imperial College London\\IslandTimeGitHub\\IslandTime\\IslandTime\\TimeSeriesAnalysis.py:737: InterpolationWarning: The test statistic is outside of the range of p-values available in the\n",
      "look-up table. The actual p-value is greater than the p-value returned.\n",
      "\n",
      "  results = test(time_series.values)\n",
      "Transect:  86%|████████▌ | 1101/1283 [01:11<00:11, 16.33it/s]c:\\Users\\mp222\\OneDrive - Imperial College London\\IslandTimeGitHub\\IslandTime\\IslandTime\\TimeSeriesAnalysis.py:737: InterpolationWarning: The test statistic is outside of the range of p-values available in the\n",
      "look-up table. The actual p-value is greater than the p-value returned.\n",
      "\n",
      "  results = test(time_series.values)\n",
      "c:\\Users\\mp222\\OneDrive - Imperial College London\\IslandTimeGitHub\\IslandTime\\IslandTime\\TimeSeriesAnalysis.py:737: InterpolationWarning: The test statistic is outside of the range of p-values available in the\n",
      "look-up table. The actual p-value is greater than the p-value returned.\n",
      "\n",
      "  results = test(time_series.values)\n",
      "Transect:  86%|████████▌ | 1105/1283 [01:11<00:10, 16.57it/s]c:\\Users\\mp222\\OneDrive - Imperial College London\\IslandTimeGitHub\\IslandTime\\IslandTime\\TimeSeriesAnalysis.py:737: InterpolationWarning: The test statistic is outside of the range of p-values available in the\n",
      "look-up table. The actual p-value is greater than the p-value returned.\n",
      "\n",
      "  results = test(time_series.values)\n",
      "c:\\Users\\mp222\\OneDrive - Imperial College London\\IslandTimeGitHub\\IslandTime\\IslandTime\\TimeSeriesAnalysis.py:737: InterpolationWarning: The test statistic is outside of the range of p-values available in the\n",
      "look-up table. The actual p-value is greater than the p-value returned.\n",
      "\n",
      "  results = test(time_series.values)\n",
      "Transect:  86%|████████▋ | 1107/1283 [01:11<00:10, 16.31it/s]c:\\Users\\mp222\\OneDrive - Imperial College London\\IslandTimeGitHub\\IslandTime\\IslandTime\\TimeSeriesAnalysis.py:737: InterpolationWarning: The test statistic is outside of the range of p-values available in the\n",
      "look-up table. The actual p-value is greater than the p-value returned.\n",
      "\n",
      "  results = test(time_series.values)\n",
      "c:\\Users\\mp222\\OneDrive - Imperial College London\\IslandTimeGitHub\\IslandTime\\IslandTime\\TimeSeriesAnalysis.py:737: InterpolationWarning: The test statistic is outside of the range of p-values available in the\n",
      "look-up table. The actual p-value is greater than the p-value returned.\n",
      "\n",
      "  results = test(time_series.values)\n",
      "Transect:  86%|████████▋ | 1109/1283 [01:11<00:10, 16.22it/s]c:\\Users\\mp222\\OneDrive - Imperial College London\\IslandTimeGitHub\\IslandTime\\IslandTime\\TimeSeriesAnalysis.py:737: InterpolationWarning: The test statistic is outside of the range of p-values available in the\n",
      "look-up table. The actual p-value is greater than the p-value returned.\n",
      "\n",
      "  results = test(time_series.values)\n",
      "Transect:  87%|████████▋ | 1111/1283 [01:11<00:10, 15.84it/s]c:\\Users\\mp222\\OneDrive - Imperial College London\\IslandTimeGitHub\\IslandTime\\IslandTime\\TimeSeriesAnalysis.py:737: InterpolationWarning: The test statistic is outside of the range of p-values available in the\n",
      "look-up table. The actual p-value is greater than the p-value returned.\n",
      "\n",
      "  results = test(time_series.values)\n",
      "c:\\Users\\mp222\\OneDrive - Imperial College London\\IslandTimeGitHub\\IslandTime\\IslandTime\\TimeSeriesAnalysis.py:737: InterpolationWarning: The test statistic is outside of the range of p-values available in the\n",
      "look-up table. The actual p-value is greater than the p-value returned.\n",
      "\n",
      "  results = test(time_series.values)\n",
      "Transect:  87%|████████▋ | 1113/1283 [01:11<00:10, 15.83it/s]c:\\Users\\mp222\\OneDrive - Imperial College London\\IslandTimeGitHub\\IslandTime\\IslandTime\\TimeSeriesAnalysis.py:737: InterpolationWarning: The test statistic is outside of the range of p-values available in the\n",
      "look-up table. The actual p-value is greater than the p-value returned.\n",
      "\n",
      "  results = test(time_series.values)\n",
      "c:\\Users\\mp222\\OneDrive - Imperial College London\\IslandTimeGitHub\\IslandTime\\IslandTime\\TimeSeriesAnalysis.py:737: InterpolationWarning: The test statistic is outside of the range of p-values available in the\n",
      "look-up table. The actual p-value is greater than the p-value returned.\n",
      "\n",
      "  results = test(time_series.values)\n",
      "Transect:  87%|████████▋ | 1115/1283 [01:12<00:10, 15.96it/s]c:\\Users\\mp222\\OneDrive - Imperial College London\\IslandTimeGitHub\\IslandTime\\IslandTime\\TimeSeriesAnalysis.py:737: InterpolationWarning: The test statistic is outside of the range of p-values available in the\n",
      "look-up table. The actual p-value is greater than the p-value returned.\n",
      "\n",
      "  results = test(time_series.values)\n",
      "c:\\Users\\mp222\\OneDrive - Imperial College London\\IslandTimeGitHub\\IslandTime\\IslandTime\\TimeSeriesAnalysis.py:737: InterpolationWarning: The test statistic is outside of the range of p-values available in the\n",
      "look-up table. The actual p-value is greater than the p-value returned.\n",
      "\n",
      "  results = test(time_series.values)\n",
      "Transect:  87%|████████▋ | 1117/1283 [01:12<00:10, 15.86it/s]c:\\Users\\mp222\\OneDrive - Imperial College London\\IslandTimeGitHub\\IslandTime\\IslandTime\\TimeSeriesAnalysis.py:737: InterpolationWarning: The test statistic is outside of the range of p-values available in the\n",
      "look-up table. The actual p-value is greater than the p-value returned.\n",
      "\n",
      "  results = test(time_series.values)\n",
      "c:\\Users\\mp222\\OneDrive - Imperial College London\\IslandTimeGitHub\\IslandTime\\IslandTime\\TimeSeriesAnalysis.py:737: InterpolationWarning: The test statistic is outside of the range of p-values available in the\n",
      "look-up table. The actual p-value is greater than the p-value returned.\n",
      "\n",
      "  results = test(time_series.values)\n",
      "Transect:  87%|████████▋ | 1119/1283 [01:12<00:10, 15.69it/s]c:\\Users\\mp222\\OneDrive - Imperial College London\\IslandTimeGitHub\\IslandTime\\IslandTime\\TimeSeriesAnalysis.py:737: InterpolationWarning: The test statistic is outside of the range of p-values available in the\n",
      "look-up table. The actual p-value is greater than the p-value returned.\n",
      "\n",
      "  results = test(time_series.values)\n",
      "Transect:  88%|████████▊ | 1125/1283 [01:12<00:09, 16.15it/s]c:\\Users\\mp222\\OneDrive - Imperial College London\\IslandTimeGitHub\\IslandTime\\IslandTime\\TimeSeriesAnalysis.py:737: InterpolationWarning: The test statistic is outside of the range of p-values available in the\n",
      "look-up table. The actual p-value is greater than the p-value returned.\n",
      "\n",
      "  results = test(time_series.values)\n",
      "c:\\Users\\mp222\\OneDrive - Imperial College London\\IslandTimeGitHub\\IslandTime\\IslandTime\\TimeSeriesAnalysis.py:737: InterpolationWarning: The test statistic is outside of the range of p-values available in the\n",
      "look-up table. The actual p-value is greater than the p-value returned.\n",
      "\n",
      "  results = test(time_series.values)\n",
      "Transect:  88%|████████▊ | 1127/1283 [01:12<00:09, 16.15it/s]c:\\Users\\mp222\\OneDrive - Imperial College London\\IslandTimeGitHub\\IslandTime\\IslandTime\\TimeSeriesAnalysis.py:737: InterpolationWarning: The test statistic is outside of the range of p-values available in the\n",
      "look-up table. The actual p-value is greater than the p-value returned.\n",
      "\n",
      "  results = test(time_series.values)\n",
      "c:\\Users\\mp222\\OneDrive - Imperial College London\\IslandTimeGitHub\\IslandTime\\IslandTime\\TimeSeriesAnalysis.py:737: InterpolationWarning: The test statistic is outside of the range of p-values available in the\n",
      "look-up table. The actual p-value is greater than the p-value returned.\n",
      "\n",
      "  results = test(time_series.values)\n",
      "Transect:  88%|████████▊ | 1129/1283 [01:12<00:09, 15.83it/s]c:\\Users\\mp222\\OneDrive - Imperial College London\\IslandTimeGitHub\\IslandTime\\IslandTime\\TimeSeriesAnalysis.py:737: InterpolationWarning: The test statistic is outside of the range of p-values available in the\n",
      "look-up table. The actual p-value is greater than the p-value returned.\n",
      "\n",
      "  results = test(time_series.values)\n",
      "c:\\Users\\mp222\\OneDrive - Imperial College London\\IslandTimeGitHub\\IslandTime\\IslandTime\\TimeSeriesAnalysis.py:737: InterpolationWarning: The test statistic is outside of the range of p-values available in the\n",
      "look-up table. The actual p-value is greater than the p-value returned.\n",
      "\n",
      "  results = test(time_series.values)\n",
      "Transect:  88%|████████▊ | 1131/1283 [01:13<00:09, 15.37it/s]c:\\Users\\mp222\\OneDrive - Imperial College London\\IslandTimeGitHub\\IslandTime\\IslandTime\\TimeSeriesAnalysis.py:737: InterpolationWarning: The test statistic is outside of the range of p-values available in the\n",
      "look-up table. The actual p-value is greater than the p-value returned.\n",
      "\n",
      "  results = test(time_series.values)\n",
      "c:\\Users\\mp222\\OneDrive - Imperial College London\\IslandTimeGitHub\\IslandTime\\IslandTime\\TimeSeriesAnalysis.py:737: InterpolationWarning: The test statistic is outside of the range of p-values available in the\n",
      "look-up table. The actual p-value is greater than the p-value returned.\n",
      "\n",
      "  results = test(time_series.values)\n",
      "Transect:  88%|████████▊ | 1133/1283 [01:13<00:09, 15.27it/s]c:\\Users\\mp222\\OneDrive - Imperial College London\\IslandTimeGitHub\\IslandTime\\IslandTime\\TimeSeriesAnalysis.py:737: InterpolationWarning: The test statistic is outside of the range of p-values available in the\n",
      "look-up table. The actual p-value is greater than the p-value returned.\n",
      "\n",
      "  results = test(time_series.values)\n",
      "c:\\Users\\mp222\\OneDrive - Imperial College London\\IslandTimeGitHub\\IslandTime\\IslandTime\\TimeSeriesAnalysis.py:737: InterpolationWarning: The test statistic is outside of the range of p-values available in the\n",
      "look-up table. The actual p-value is greater than the p-value returned.\n",
      "\n",
      "  results = test(time_series.values)\n",
      "Transect:  88%|████████▊ | 1135/1283 [01:13<00:09, 15.70it/s]c:\\Users\\mp222\\OneDrive - Imperial College London\\IslandTimeGitHub\\IslandTime\\IslandTime\\TimeSeriesAnalysis.py:737: InterpolationWarning: The test statistic is outside of the range of p-values available in the\n",
      "look-up table. The actual p-value is greater than the p-value returned.\n",
      "\n",
      "  results = test(time_series.values)\n",
      "c:\\Users\\mp222\\OneDrive - Imperial College London\\IslandTimeGitHub\\IslandTime\\IslandTime\\TimeSeriesAnalysis.py:737: InterpolationWarning: The test statistic is outside of the range of p-values available in the\n",
      "look-up table. The actual p-value is greater than the p-value returned.\n",
      "\n",
      "  results = test(time_series.values)\n",
      "Transect:  89%|████████▊ | 1137/1283 [01:13<00:09, 15.66it/s]c:\\Users\\mp222\\OneDrive - Imperial College London\\IslandTimeGitHub\\IslandTime\\IslandTime\\TimeSeriesAnalysis.py:737: InterpolationWarning: The test statistic is outside of the range of p-values available in the\n",
      "look-up table. The actual p-value is greater than the p-value returned.\n",
      "\n",
      "  results = test(time_series.values)\n",
      "c:\\Users\\mp222\\OneDrive - Imperial College London\\IslandTimeGitHub\\IslandTime\\IslandTime\\TimeSeriesAnalysis.py:737: InterpolationWarning: The test statistic is outside of the range of p-values available in the\n",
      "look-up table. The actual p-value is greater than the p-value returned.\n",
      "\n",
      "  results = test(time_series.values)\n",
      "Transect:  89%|████████▉ | 1139/1283 [01:13<00:09, 14.84it/s]c:\\Users\\mp222\\OneDrive - Imperial College London\\IslandTimeGitHub\\IslandTime\\IslandTime\\TimeSeriesAnalysis.py:737: InterpolationWarning: The test statistic is outside of the range of p-values available in the\n",
      "look-up table. The actual p-value is greater than the p-value returned.\n",
      "\n",
      "  results = test(time_series.values)\n",
      "c:\\Users\\mp222\\OneDrive - Imperial College London\\IslandTimeGitHub\\IslandTime\\IslandTime\\TimeSeriesAnalysis.py:737: InterpolationWarning: The test statistic is outside of the range of p-values available in the\n",
      "look-up table. The actual p-value is greater than the p-value returned.\n",
      "\n",
      "  results = test(time_series.values)\n",
      "Transect:  89%|████████▉ | 1141/1283 [01:13<00:09, 14.77it/s]c:\\Users\\mp222\\OneDrive - Imperial College London\\IslandTimeGitHub\\IslandTime\\IslandTime\\TimeSeriesAnalysis.py:737: InterpolationWarning: The test statistic is outside of the range of p-values available in the\n",
      "look-up table. The actual p-value is greater than the p-value returned.\n",
      "\n",
      "  results = test(time_series.values)\n",
      "c:\\Users\\mp222\\OneDrive - Imperial College London\\IslandTimeGitHub\\IslandTime\\IslandTime\\TimeSeriesAnalysis.py:737: InterpolationWarning: The test statistic is outside of the range of p-values available in the\n",
      "look-up table. The actual p-value is greater than the p-value returned.\n",
      "\n",
      "  results = test(time_series.values)\n",
      "Transect:  89%|████████▉ | 1143/1283 [01:13<00:09, 14.95it/s]c:\\Users\\mp222\\OneDrive - Imperial College London\\IslandTimeGitHub\\IslandTime\\IslandTime\\TimeSeriesAnalysis.py:737: InterpolationWarning: The test statistic is outside of the range of p-values available in the\n",
      "look-up table. The actual p-value is greater than the p-value returned.\n",
      "\n",
      "  results = test(time_series.values)\n",
      "Transect:  89%|████████▉ | 1145/1283 [01:14<00:08, 15.57it/s]c:\\Users\\mp222\\OneDrive - Imperial College London\\IslandTimeGitHub\\IslandTime\\IslandTime\\TimeSeriesAnalysis.py:737: InterpolationWarning: The test statistic is outside of the range of p-values available in the\n",
      "look-up table. The actual p-value is smaller than the p-value returned.\n",
      "\n",
      "  results = test(time_series.values)\n",
      "c:\\Users\\mp222\\OneDrive - Imperial College London\\IslandTimeGitHub\\IslandTime\\IslandTime\\TimeSeriesAnalysis.py:737: InterpolationWarning: The test statistic is outside of the range of p-values available in the\n",
      "look-up table. The actual p-value is smaller than the p-value returned.\n",
      "\n",
      "  results = test(time_series.values)\n",
      "Transect:  89%|████████▉ | 1147/1283 [01:14<00:08, 15.77it/s]c:\\Users\\mp222\\OneDrive - Imperial College London\\IslandTimeGitHub\\IslandTime\\IslandTime\\TimeSeriesAnalysis.py:737: InterpolationWarning: The test statistic is outside of the range of p-values available in the\n",
      "look-up table. The actual p-value is smaller than the p-value returned.\n",
      "\n",
      "  results = test(time_series.values)\n",
      "c:\\Users\\mp222\\OneDrive - Imperial College London\\IslandTimeGitHub\\IslandTime\\IslandTime\\TimeSeriesAnalysis.py:737: InterpolationWarning: The test statistic is outside of the range of p-values available in the\n",
      "look-up table. The actual p-value is smaller than the p-value returned.\n",
      "\n",
      "  results = test(time_series.values)\n",
      "Transect:  90%|████████▉ | 1151/1283 [01:14<00:08, 15.06it/s]c:\\Users\\mp222\\OneDrive - Imperial College London\\IslandTimeGitHub\\IslandTime\\IslandTime\\TimeSeriesAnalysis.py:737: InterpolationWarning: The test statistic is outside of the range of p-values available in the\n",
      "look-up table. The actual p-value is greater than the p-value returned.\n",
      "\n",
      "  results = test(time_series.values)\n",
      "Transect:  90%|████████▉ | 1153/1283 [01:14<00:08, 14.50it/s]c:\\Users\\mp222\\OneDrive - Imperial College London\\IslandTimeGitHub\\IslandTime\\IslandTime\\TimeSeriesAnalysis.py:737: InterpolationWarning: The test statistic is outside of the range of p-values available in the\n",
      "look-up table. The actual p-value is greater than the p-value returned.\n",
      "\n",
      "  results = test(time_series.values)\n",
      "c:\\Users\\mp222\\OneDrive - Imperial College London\\IslandTimeGitHub\\IslandTime\\IslandTime\\TimeSeriesAnalysis.py:737: InterpolationWarning: The test statistic is outside of the range of p-values available in the\n",
      "look-up table. The actual p-value is greater than the p-value returned.\n",
      "\n",
      "  results = test(time_series.values)\n",
      "Transect:  90%|█████████ | 1155/1283 [01:14<00:08, 14.48it/s]c:\\Users\\mp222\\OneDrive - Imperial College London\\IslandTimeGitHub\\IslandTime\\IslandTime\\TimeSeriesAnalysis.py:737: InterpolationWarning: The test statistic is outside of the range of p-values available in the\n",
      "look-up table. The actual p-value is greater than the p-value returned.\n",
      "\n",
      "  results = test(time_series.values)\n",
      "c:\\Users\\mp222\\OneDrive - Imperial College London\\IslandTimeGitHub\\IslandTime\\IslandTime\\TimeSeriesAnalysis.py:737: InterpolationWarning: The test statistic is outside of the range of p-values available in the\n",
      "look-up table. The actual p-value is greater than the p-value returned.\n",
      "\n",
      "  results = test(time_series.values)\n",
      "Transect:  90%|█████████ | 1157/1283 [01:14<00:08, 14.17it/s]c:\\Users\\mp222\\OneDrive - Imperial College London\\IslandTimeGitHub\\IslandTime\\IslandTime\\TimeSeriesAnalysis.py:737: InterpolationWarning: The test statistic is outside of the range of p-values available in the\n",
      "look-up table. The actual p-value is greater than the p-value returned.\n",
      "\n",
      "  results = test(time_series.values)\n",
      "c:\\Users\\mp222\\OneDrive - Imperial College London\\IslandTimeGitHub\\IslandTime\\IslandTime\\TimeSeriesAnalysis.py:737: InterpolationWarning: The test statistic is outside of the range of p-values available in the\n",
      "look-up table. The actual p-value is greater than the p-value returned.\n",
      "\n",
      "  results = test(time_series.values)\n",
      "Transect:  90%|█████████ | 1159/1283 [01:14<00:08, 14.64it/s]c:\\Users\\mp222\\OneDrive - Imperial College London\\IslandTimeGitHub\\IslandTime\\IslandTime\\TimeSeriesAnalysis.py:737: InterpolationWarning: The test statistic is outside of the range of p-values available in the\n",
      "look-up table. The actual p-value is greater than the p-value returned.\n",
      "\n",
      "  results = test(time_series.values)\n",
      "c:\\Users\\mp222\\OneDrive - Imperial College London\\IslandTimeGitHub\\IslandTime\\IslandTime\\TimeSeriesAnalysis.py:737: InterpolationWarning: The test statistic is outside of the range of p-values available in the\n",
      "look-up table. The actual p-value is greater than the p-value returned.\n",
      "\n",
      "  results = test(time_series.values)\n",
      "Transect:  90%|█████████ | 1161/1283 [01:15<00:08, 15.20it/s]c:\\Users\\mp222\\OneDrive - Imperial College London\\IslandTimeGitHub\\IslandTime\\IslandTime\\TimeSeriesAnalysis.py:737: InterpolationWarning: The test statistic is outside of the range of p-values available in the\n",
      "look-up table. The actual p-value is greater than the p-value returned.\n",
      "\n",
      "  results = test(time_series.values)\n",
      "c:\\Users\\mp222\\OneDrive - Imperial College London\\IslandTimeGitHub\\IslandTime\\IslandTime\\TimeSeriesAnalysis.py:737: InterpolationWarning: The test statistic is outside of the range of p-values available in the\n",
      "look-up table. The actual p-value is greater than the p-value returned.\n",
      "\n",
      "  results = test(time_series.values)\n",
      "Transect:  91%|█████████ | 1163/1283 [01:15<00:08, 14.24it/s]c:\\Users\\mp222\\OneDrive - Imperial College London\\IslandTimeGitHub\\IslandTime\\IslandTime\\TimeSeriesAnalysis.py:737: InterpolationWarning: The test statistic is outside of the range of p-values available in the\n",
      "look-up table. The actual p-value is greater than the p-value returned.\n",
      "\n",
      "  results = test(time_series.values)\n",
      "c:\\Users\\mp222\\OneDrive - Imperial College London\\IslandTimeGitHub\\IslandTime\\IslandTime\\TimeSeriesAnalysis.py:737: InterpolationWarning: The test statistic is outside of the range of p-values available in the\n",
      "look-up table. The actual p-value is greater than the p-value returned.\n",
      "\n",
      "  results = test(time_series.values)\n",
      "Transect:  91%|█████████ | 1165/1283 [01:15<00:08, 14.56it/s]c:\\Users\\mp222\\OneDrive - Imperial College London\\IslandTimeGitHub\\IslandTime\\IslandTime\\TimeSeriesAnalysis.py:737: InterpolationWarning: The test statistic is outside of the range of p-values available in the\n",
      "look-up table. The actual p-value is greater than the p-value returned.\n",
      "\n",
      "  results = test(time_series.values)\n",
      "c:\\Users\\mp222\\OneDrive - Imperial College London\\IslandTimeGitHub\\IslandTime\\IslandTime\\TimeSeriesAnalysis.py:737: InterpolationWarning: The test statistic is outside of the range of p-values available in the\n",
      "look-up table. The actual p-value is greater than the p-value returned.\n",
      "\n",
      "  results = test(time_series.values)\n",
      "Transect:  91%|█████████ | 1167/1283 [01:15<00:08, 14.26it/s]c:\\Users\\mp222\\OneDrive - Imperial College London\\IslandTimeGitHub\\IslandTime\\IslandTime\\TimeSeriesAnalysis.py:737: InterpolationWarning: The test statistic is outside of the range of p-values available in the\n",
      "look-up table. The actual p-value is greater than the p-value returned.\n",
      "\n",
      "  results = test(time_series.values)\n",
      "c:\\Users\\mp222\\OneDrive - Imperial College London\\IslandTimeGitHub\\IslandTime\\IslandTime\\TimeSeriesAnalysis.py:737: InterpolationWarning: The test statistic is outside of the range of p-values available in the\n",
      "look-up table. The actual p-value is greater than the p-value returned.\n",
      "\n",
      "  results = test(time_series.values)\n",
      "Transect:  91%|█████████ | 1169/1283 [01:15<00:07, 14.61it/s]c:\\Users\\mp222\\OneDrive - Imperial College London\\IslandTimeGitHub\\IslandTime\\IslandTime\\TimeSeriesAnalysis.py:737: InterpolationWarning: The test statistic is outside of the range of p-values available in the\n",
      "look-up table. The actual p-value is greater than the p-value returned.\n",
      "\n",
      "  results = test(time_series.values)\n",
      "c:\\Users\\mp222\\OneDrive - Imperial College London\\IslandTimeGitHub\\IslandTime\\IslandTime\\TimeSeriesAnalysis.py:737: InterpolationWarning: The test statistic is outside of the range of p-values available in the\n",
      "look-up table. The actual p-value is greater than the p-value returned.\n",
      "\n",
      "  results = test(time_series.values)\n",
      "Transect:  91%|█████████▏| 1171/1283 [01:15<00:07, 14.77it/s]c:\\Users\\mp222\\OneDrive - Imperial College London\\IslandTimeGitHub\\IslandTime\\IslandTime\\TimeSeriesAnalysis.py:737: InterpolationWarning: The test statistic is outside of the range of p-values available in the\n",
      "look-up table. The actual p-value is greater than the p-value returned.\n",
      "\n",
      "  results = test(time_series.values)\n",
      "c:\\Users\\mp222\\OneDrive - Imperial College London\\IslandTimeGitHub\\IslandTime\\IslandTime\\TimeSeriesAnalysis.py:737: InterpolationWarning: The test statistic is outside of the range of p-values available in the\n",
      "look-up table. The actual p-value is greater than the p-value returned.\n",
      "\n",
      "  results = test(time_series.values)\n",
      "Transect:  91%|█████████▏| 1173/1283 [01:15<00:07, 14.33it/s]c:\\Users\\mp222\\OneDrive - Imperial College London\\IslandTimeGitHub\\IslandTime\\IslandTime\\TimeSeriesAnalysis.py:737: InterpolationWarning: The test statistic is outside of the range of p-values available in the\n",
      "look-up table. The actual p-value is greater than the p-value returned.\n",
      "\n",
      "  results = test(time_series.values)\n",
      "c:\\Users\\mp222\\OneDrive - Imperial College London\\IslandTimeGitHub\\IslandTime\\IslandTime\\TimeSeriesAnalysis.py:737: InterpolationWarning: The test statistic is outside of the range of p-values available in the\n",
      "look-up table. The actual p-value is greater than the p-value returned.\n",
      "\n",
      "  results = test(time_series.values)\n",
      "Transect:  92%|█████████▏| 1175/1283 [01:16<00:07, 15.00it/s]c:\\Users\\mp222\\OneDrive - Imperial College London\\IslandTimeGitHub\\IslandTime\\IslandTime\\TimeSeriesAnalysis.py:737: InterpolationWarning: The test statistic is outside of the range of p-values available in the\n",
      "look-up table. The actual p-value is greater than the p-value returned.\n",
      "\n",
      "  results = test(time_series.values)\n",
      "c:\\Users\\mp222\\OneDrive - Imperial College London\\IslandTimeGitHub\\IslandTime\\IslandTime\\TimeSeriesAnalysis.py:737: InterpolationWarning: The test statistic is outside of the range of p-values available in the\n",
      "look-up table. The actual p-value is greater than the p-value returned.\n",
      "\n",
      "  results = test(time_series.values)\n",
      "Transect:  92%|█████████▏| 1177/1283 [01:16<00:06, 15.32it/s]c:\\Users\\mp222\\OneDrive - Imperial College London\\IslandTimeGitHub\\IslandTime\\IslandTime\\TimeSeriesAnalysis.py:737: InterpolationWarning: The test statistic is outside of the range of p-values available in the\n",
      "look-up table. The actual p-value is greater than the p-value returned.\n",
      "\n",
      "  results = test(time_series.values)\n",
      "c:\\Users\\mp222\\OneDrive - Imperial College London\\IslandTimeGitHub\\IslandTime\\IslandTime\\TimeSeriesAnalysis.py:737: InterpolationWarning: The test statistic is outside of the range of p-values available in the\n",
      "look-up table. The actual p-value is greater than the p-value returned.\n",
      "\n",
      "  results = test(time_series.values)\n",
      "Transect:  92%|█████████▏| 1179/1283 [01:16<00:06, 15.74it/s]c:\\Users\\mp222\\OneDrive - Imperial College London\\IslandTimeGitHub\\IslandTime\\IslandTime\\TimeSeriesAnalysis.py:737: InterpolationWarning: The test statistic is outside of the range of p-values available in the\n",
      "look-up table. The actual p-value is greater than the p-value returned.\n",
      "\n",
      "  results = test(time_series.values)\n",
      "c:\\Users\\mp222\\OneDrive - Imperial College London\\IslandTimeGitHub\\IslandTime\\IslandTime\\TimeSeriesAnalysis.py:737: InterpolationWarning: The test statistic is outside of the range of p-values available in the\n",
      "look-up table. The actual p-value is greater than the p-value returned.\n",
      "\n",
      "  results = test(time_series.values)\n",
      "Transect:  92%|█████████▏| 1181/1283 [01:16<00:06, 16.36it/s]c:\\Users\\mp222\\OneDrive - Imperial College London\\IslandTimeGitHub\\IslandTime\\IslandTime\\TimeSeriesAnalysis.py:737: InterpolationWarning: The test statistic is outside of the range of p-values available in the\n",
      "look-up table. The actual p-value is greater than the p-value returned.\n",
      "\n",
      "  results = test(time_series.values)\n",
      "Transect:  92%|█████████▏| 1183/1283 [01:16<00:06, 14.94it/s]c:\\Users\\mp222\\OneDrive - Imperial College London\\IslandTimeGitHub\\IslandTime\\IslandTime\\TimeSeriesAnalysis.py:737: InterpolationWarning: The test statistic is outside of the range of p-values available in the\n",
      "look-up table. The actual p-value is greater than the p-value returned.\n",
      "\n",
      "  results = test(time_series.values)\n",
      "c:\\Users\\mp222\\OneDrive - Imperial College London\\IslandTimeGitHub\\IslandTime\\IslandTime\\TimeSeriesAnalysis.py:737: InterpolationWarning: The test statistic is outside of the range of p-values available in the\n",
      "look-up table. The actual p-value is greater than the p-value returned.\n",
      "\n",
      "  results = test(time_series.values)\n",
      "Transect:  92%|█████████▏| 1185/1283 [01:16<00:06, 15.13it/s]c:\\Users\\mp222\\OneDrive - Imperial College London\\IslandTimeGitHub\\IslandTime\\IslandTime\\TimeSeriesAnalysis.py:737: InterpolationWarning: The test statistic is outside of the range of p-values available in the\n",
      "look-up table. The actual p-value is greater than the p-value returned.\n",
      "\n",
      "  results = test(time_series.values)\n",
      "c:\\Users\\mp222\\OneDrive - Imperial College London\\IslandTimeGitHub\\IslandTime\\IslandTime\\TimeSeriesAnalysis.py:737: InterpolationWarning: The test statistic is outside of the range of p-values available in the\n",
      "look-up table. The actual p-value is greater than the p-value returned.\n",
      "\n",
      "  results = test(time_series.values)\n",
      "Transect:  93%|█████████▎| 1187/1283 [01:16<00:06, 14.70it/s]c:\\Users\\mp222\\OneDrive - Imperial College London\\IslandTimeGitHub\\IslandTime\\IslandTime\\TimeSeriesAnalysis.py:737: InterpolationWarning: The test statistic is outside of the range of p-values available in the\n",
      "look-up table. The actual p-value is greater than the p-value returned.\n",
      "\n",
      "  results = test(time_series.values)\n",
      "c:\\Users\\mp222\\OneDrive - Imperial College London\\IslandTimeGitHub\\IslandTime\\IslandTime\\TimeSeriesAnalysis.py:737: InterpolationWarning: The test statistic is outside of the range of p-values available in the\n",
      "look-up table. The actual p-value is greater than the p-value returned.\n",
      "\n",
      "  results = test(time_series.values)\n",
      "Transect:  93%|█████████▎| 1189/1283 [01:16<00:06, 14.78it/s]c:\\Users\\mp222\\OneDrive - Imperial College London\\IslandTimeGitHub\\IslandTime\\IslandTime\\TimeSeriesAnalysis.py:737: InterpolationWarning: The test statistic is outside of the range of p-values available in the\n",
      "look-up table. The actual p-value is greater than the p-value returned.\n",
      "\n",
      "  results = test(time_series.values)\n",
      "c:\\Users\\mp222\\OneDrive - Imperial College London\\IslandTimeGitHub\\IslandTime\\IslandTime\\TimeSeriesAnalysis.py:737: InterpolationWarning: The test statistic is outside of the range of p-values available in the\n",
      "look-up table. The actual p-value is greater than the p-value returned.\n",
      "\n",
      "  results = test(time_series.values)\n",
      "Transect:  93%|█████████▎| 1191/1283 [01:17<00:06, 13.81it/s]c:\\Users\\mp222\\OneDrive - Imperial College London\\IslandTimeGitHub\\IslandTime\\IslandTime\\TimeSeriesAnalysis.py:737: InterpolationWarning: The test statistic is outside of the range of p-values available in the\n",
      "look-up table. The actual p-value is greater than the p-value returned.\n",
      "\n",
      "  results = test(time_series.values)\n",
      "c:\\Users\\mp222\\OneDrive - Imperial College London\\IslandTimeGitHub\\IslandTime\\IslandTime\\TimeSeriesAnalysis.py:737: InterpolationWarning: The test statistic is outside of the range of p-values available in the\n",
      "look-up table. The actual p-value is greater than the p-value returned.\n",
      "\n",
      "  results = test(time_series.values)\n",
      "Transect:  93%|█████████▎| 1193/1283 [01:17<00:06, 14.40it/s]c:\\Users\\mp222\\OneDrive - Imperial College London\\IslandTimeGitHub\\IslandTime\\IslandTime\\TimeSeriesAnalysis.py:737: InterpolationWarning: The test statistic is outside of the range of p-values available in the\n",
      "look-up table. The actual p-value is greater than the p-value returned.\n",
      "\n",
      "  results = test(time_series.values)\n",
      "c:\\Users\\mp222\\OneDrive - Imperial College London\\IslandTimeGitHub\\IslandTime\\IslandTime\\TimeSeriesAnalysis.py:737: InterpolationWarning: The test statistic is outside of the range of p-values available in the\n",
      "look-up table. The actual p-value is greater than the p-value returned.\n",
      "\n",
      "  results = test(time_series.values)\n",
      "Transect:  93%|█████████▎| 1195/1283 [01:17<00:05, 14.94it/s]c:\\Users\\mp222\\OneDrive - Imperial College London\\IslandTimeGitHub\\IslandTime\\IslandTime\\TimeSeriesAnalysis.py:737: InterpolationWarning: The test statistic is outside of the range of p-values available in the\n",
      "look-up table. The actual p-value is greater than the p-value returned.\n",
      "\n",
      "  results = test(time_series.values)\n",
      "c:\\Users\\mp222\\OneDrive - Imperial College London\\IslandTimeGitHub\\IslandTime\\IslandTime\\TimeSeriesAnalysis.py:737: InterpolationWarning: The test statistic is outside of the range of p-values available in the\n",
      "look-up table. The actual p-value is greater than the p-value returned.\n",
      "\n",
      "  results = test(time_series.values)\n",
      "Transect:  93%|█████████▎| 1197/1283 [01:17<00:05, 15.42it/s]c:\\Users\\mp222\\OneDrive - Imperial College London\\IslandTimeGitHub\\IslandTime\\IslandTime\\TimeSeriesAnalysis.py:737: InterpolationWarning: The test statistic is outside of the range of p-values available in the\n",
      "look-up table. The actual p-value is greater than the p-value returned.\n",
      "\n",
      "  results = test(time_series.values)\n",
      "c:\\Users\\mp222\\OneDrive - Imperial College London\\IslandTimeGitHub\\IslandTime\\IslandTime\\TimeSeriesAnalysis.py:737: InterpolationWarning: The test statistic is outside of the range of p-values available in the\n",
      "look-up table. The actual p-value is greater than the p-value returned.\n",
      "\n",
      "  results = test(time_series.values)\n",
      "Transect:  93%|█████████▎| 1199/1283 [01:17<00:05, 15.59it/s]c:\\Users\\mp222\\OneDrive - Imperial College London\\IslandTimeGitHub\\IslandTime\\IslandTime\\TimeSeriesAnalysis.py:737: InterpolationWarning: The test statistic is outside of the range of p-values available in the\n",
      "look-up table. The actual p-value is greater than the p-value returned.\n",
      "\n",
      "  results = test(time_series.values)\n",
      "c:\\Users\\mp222\\OneDrive - Imperial College London\\IslandTimeGitHub\\IslandTime\\IslandTime\\TimeSeriesAnalysis.py:737: InterpolationWarning: The test statistic is outside of the range of p-values available in the\n",
      "look-up table. The actual p-value is greater than the p-value returned.\n",
      "\n",
      "  results = test(time_series.values)\n",
      "Transect:  94%|█████████▎| 1201/1283 [01:17<00:05, 14.20it/s]c:\\Users\\mp222\\OneDrive - Imperial College London\\IslandTimeGitHub\\IslandTime\\IslandTime\\TimeSeriesAnalysis.py:737: InterpolationWarning: The test statistic is outside of the range of p-values available in the\n",
      "look-up table. The actual p-value is greater than the p-value returned.\n",
      "\n",
      "  results = test(time_series.values)\n",
      "c:\\Users\\mp222\\OneDrive - Imperial College London\\IslandTimeGitHub\\IslandTime\\IslandTime\\TimeSeriesAnalysis.py:737: InterpolationWarning: The test statistic is outside of the range of p-values available in the\n",
      "look-up table. The actual p-value is greater than the p-value returned.\n",
      "\n",
      "  results = test(time_series.values)\n",
      "Transect:  94%|█████████▍| 1203/1283 [01:17<00:05, 14.57it/s]c:\\Users\\mp222\\OneDrive - Imperial College London\\IslandTimeGitHub\\IslandTime\\IslandTime\\TimeSeriesAnalysis.py:737: InterpolationWarning: The test statistic is outside of the range of p-values available in the\n",
      "look-up table. The actual p-value is greater than the p-value returned.\n",
      "\n",
      "  results = test(time_series.values)\n",
      "c:\\Users\\mp222\\OneDrive - Imperial College London\\IslandTimeGitHub\\IslandTime\\IslandTime\\TimeSeriesAnalysis.py:737: InterpolationWarning: The test statistic is outside of the range of p-values available in the\n",
      "look-up table. The actual p-value is greater than the p-value returned.\n",
      "\n",
      "  results = test(time_series.values)\n",
      "Transect:  94%|█████████▍| 1205/1283 [01:18<00:05, 15.07it/s]c:\\Users\\mp222\\OneDrive - Imperial College London\\IslandTimeGitHub\\IslandTime\\IslandTime\\TimeSeriesAnalysis.py:737: InterpolationWarning: The test statistic is outside of the range of p-values available in the\n",
      "look-up table. The actual p-value is greater than the p-value returned.\n",
      "\n",
      "  results = test(time_series.values)\n",
      "c:\\Users\\mp222\\OneDrive - Imperial College London\\IslandTimeGitHub\\IslandTime\\IslandTime\\TimeSeriesAnalysis.py:737: InterpolationWarning: The test statistic is outside of the range of p-values available in the\n",
      "look-up table. The actual p-value is greater than the p-value returned.\n",
      "\n",
      "  results = test(time_series.values)\n",
      "Transect:  94%|█████████▍| 1207/1283 [01:18<00:04, 15.52it/s]c:\\Users\\mp222\\OneDrive - Imperial College London\\IslandTimeGitHub\\IslandTime\\IslandTime\\TimeSeriesAnalysis.py:737: InterpolationWarning: The test statistic is outside of the range of p-values available in the\n",
      "look-up table. The actual p-value is greater than the p-value returned.\n",
      "\n",
      "  results = test(time_series.values)\n",
      "c:\\Users\\mp222\\OneDrive - Imperial College London\\IslandTimeGitHub\\IslandTime\\IslandTime\\TimeSeriesAnalysis.py:737: InterpolationWarning: The test statistic is outside of the range of p-values available in the\n",
      "look-up table. The actual p-value is greater than the p-value returned.\n",
      "\n",
      "  results = test(time_series.values)\n",
      "Transect:  94%|█████████▍| 1209/1283 [01:18<00:04, 14.96it/s]c:\\Users\\mp222\\OneDrive - Imperial College London\\IslandTimeGitHub\\IslandTime\\IslandTime\\TimeSeriesAnalysis.py:737: InterpolationWarning: The test statistic is outside of the range of p-values available in the\n",
      "look-up table. The actual p-value is greater than the p-value returned.\n",
      "\n",
      "  results = test(time_series.values)\n",
      "c:\\Users\\mp222\\OneDrive - Imperial College London\\IslandTimeGitHub\\IslandTime\\IslandTime\\TimeSeriesAnalysis.py:737: InterpolationWarning: The test statistic is outside of the range of p-values available in the\n",
      "look-up table. The actual p-value is greater than the p-value returned.\n",
      "\n",
      "  results = test(time_series.values)\n",
      "Transect:  94%|█████████▍| 1211/1283 [01:18<00:05, 14.20it/s]c:\\Users\\mp222\\OneDrive - Imperial College London\\IslandTimeGitHub\\IslandTime\\IslandTime\\TimeSeriesAnalysis.py:737: InterpolationWarning: The test statistic is outside of the range of p-values available in the\n",
      "look-up table. The actual p-value is greater than the p-value returned.\n",
      "\n",
      "  results = test(time_series.values)\n",
      "c:\\Users\\mp222\\OneDrive - Imperial College London\\IslandTimeGitHub\\IslandTime\\IslandTime\\TimeSeriesAnalysis.py:737: InterpolationWarning: The test statistic is outside of the range of p-values available in the\n",
      "look-up table. The actual p-value is greater than the p-value returned.\n",
      "\n",
      "  results = test(time_series.values)\n",
      "Transect:  95%|█████████▍| 1213/1283 [01:18<00:04, 14.76it/s]c:\\Users\\mp222\\OneDrive - Imperial College London\\IslandTimeGitHub\\IslandTime\\IslandTime\\TimeSeriesAnalysis.py:737: InterpolationWarning: The test statistic is outside of the range of p-values available in the\n",
      "look-up table. The actual p-value is greater than the p-value returned.\n",
      "\n",
      "  results = test(time_series.values)\n",
      "c:\\Users\\mp222\\OneDrive - Imperial College London\\IslandTimeGitHub\\IslandTime\\IslandTime\\TimeSeriesAnalysis.py:737: InterpolationWarning: The test statistic is outside of the range of p-values available in the\n",
      "look-up table. The actual p-value is greater than the p-value returned.\n",
      "\n",
      "  results = test(time_series.values)\n",
      "Transect:  95%|█████████▍| 1215/1283 [01:18<00:04, 14.79it/s]c:\\Users\\mp222\\OneDrive - Imperial College London\\IslandTimeGitHub\\IslandTime\\IslandTime\\TimeSeriesAnalysis.py:737: InterpolationWarning: The test statistic is outside of the range of p-values available in the\n",
      "look-up table. The actual p-value is greater than the p-value returned.\n",
      "\n",
      "  results = test(time_series.values)\n",
      "c:\\Users\\mp222\\OneDrive - Imperial College London\\IslandTimeGitHub\\IslandTime\\IslandTime\\TimeSeriesAnalysis.py:737: InterpolationWarning: The test statistic is outside of the range of p-values available in the\n",
      "look-up table. The actual p-value is greater than the p-value returned.\n",
      "\n",
      "  results = test(time_series.values)\n",
      "Transect:  95%|█████████▍| 1217/1283 [01:18<00:04, 14.54it/s]c:\\Users\\mp222\\OneDrive - Imperial College London\\IslandTimeGitHub\\IslandTime\\IslandTime\\TimeSeriesAnalysis.py:737: InterpolationWarning: The test statistic is outside of the range of p-values available in the\n",
      "look-up table. The actual p-value is greater than the p-value returned.\n",
      "\n",
      "  results = test(time_series.values)\n",
      "c:\\Users\\mp222\\OneDrive - Imperial College London\\IslandTimeGitHub\\IslandTime\\IslandTime\\TimeSeriesAnalysis.py:737: InterpolationWarning: The test statistic is outside of the range of p-values available in the\n",
      "look-up table. The actual p-value is greater than the p-value returned.\n",
      "\n",
      "  results = test(time_series.values)\n",
      "Transect:  95%|█████████▌| 1219/1283 [01:19<00:04, 14.43it/s]c:\\Users\\mp222\\OneDrive - Imperial College London\\IslandTimeGitHub\\IslandTime\\IslandTime\\TimeSeriesAnalysis.py:737: InterpolationWarning: The test statistic is outside of the range of p-values available in the\n",
      "look-up table. The actual p-value is greater than the p-value returned.\n",
      "\n",
      "  results = test(time_series.values)\n",
      "c:\\Users\\mp222\\OneDrive - Imperial College London\\IslandTimeGitHub\\IslandTime\\IslandTime\\TimeSeriesAnalysis.py:737: InterpolationWarning: The test statistic is outside of the range of p-values available in the\n",
      "look-up table. The actual p-value is greater than the p-value returned.\n",
      "\n",
      "  results = test(time_series.values)\n",
      "Transect:  95%|█████████▌| 1221/1283 [01:19<00:04, 15.00it/s]c:\\Users\\mp222\\OneDrive - Imperial College London\\IslandTimeGitHub\\IslandTime\\IslandTime\\TimeSeriesAnalysis.py:737: InterpolationWarning: The test statistic is outside of the range of p-values available in the\n",
      "look-up table. The actual p-value is greater than the p-value returned.\n",
      "\n",
      "  results = test(time_series.values)\n",
      "c:\\Users\\mp222\\OneDrive - Imperial College London\\IslandTimeGitHub\\IslandTime\\IslandTime\\TimeSeriesAnalysis.py:737: InterpolationWarning: The test statistic is outside of the range of p-values available in the\n",
      "look-up table. The actual p-value is greater than the p-value returned.\n",
      "\n",
      "  results = test(time_series.values)\n",
      "Transect:  95%|█████████▌| 1223/1283 [01:19<00:03, 15.43it/s]c:\\Users\\mp222\\OneDrive - Imperial College London\\IslandTimeGitHub\\IslandTime\\IslandTime\\TimeSeriesAnalysis.py:737: InterpolationWarning: The test statistic is outside of the range of p-values available in the\n",
      "look-up table. The actual p-value is greater than the p-value returned.\n",
      "\n",
      "  results = test(time_series.values)\n",
      "c:\\Users\\mp222\\OneDrive - Imperial College London\\IslandTimeGitHub\\IslandTime\\IslandTime\\TimeSeriesAnalysis.py:737: InterpolationWarning: The test statistic is outside of the range of p-values available in the\n",
      "look-up table. The actual p-value is greater than the p-value returned.\n",
      "\n",
      "  results = test(time_series.values)\n",
      "Transect:  95%|█████████▌| 1225/1283 [01:19<00:03, 15.52it/s]c:\\Users\\mp222\\OneDrive - Imperial College London\\IslandTimeGitHub\\IslandTime\\IslandTime\\TimeSeriesAnalysis.py:737: InterpolationWarning: The test statistic is outside of the range of p-values available in the\n",
      "look-up table. The actual p-value is greater than the p-value returned.\n",
      "\n",
      "  results = test(time_series.values)\n",
      "c:\\Users\\mp222\\OneDrive - Imperial College London\\IslandTimeGitHub\\IslandTime\\IslandTime\\TimeSeriesAnalysis.py:737: InterpolationWarning: The test statistic is outside of the range of p-values available in the\n",
      "look-up table. The actual p-value is greater than the p-value returned.\n",
      "\n",
      "  results = test(time_series.values)\n",
      "Transect:  96%|█████████▌| 1227/1283 [01:19<00:03, 14.94it/s]c:\\Users\\mp222\\OneDrive - Imperial College London\\IslandTimeGitHub\\IslandTime\\IslandTime\\TimeSeriesAnalysis.py:737: InterpolationWarning: The test statistic is outside of the range of p-values available in the\n",
      "look-up table. The actual p-value is greater than the p-value returned.\n",
      "\n",
      "  results = test(time_series.values)\n",
      "c:\\Users\\mp222\\OneDrive - Imperial College London\\IslandTimeGitHub\\IslandTime\\IslandTime\\TimeSeriesAnalysis.py:737: InterpolationWarning: The test statistic is outside of the range of p-values available in the\n",
      "look-up table. The actual p-value is greater than the p-value returned.\n",
      "\n",
      "  results = test(time_series.values)\n",
      "Transect:  96%|█████████▌| 1229/1283 [01:19<00:03, 13.91it/s]c:\\Users\\mp222\\OneDrive - Imperial College London\\IslandTimeGitHub\\IslandTime\\IslandTime\\TimeSeriesAnalysis.py:737: InterpolationWarning: The test statistic is outside of the range of p-values available in the\n",
      "look-up table. The actual p-value is greater than the p-value returned.\n",
      "\n",
      "  results = test(time_series.values)\n",
      "c:\\Users\\mp222\\OneDrive - Imperial College London\\IslandTimeGitHub\\IslandTime\\IslandTime\\TimeSeriesAnalysis.py:737: InterpolationWarning: The test statistic is outside of the range of p-values available in the\n",
      "look-up table. The actual p-value is greater than the p-value returned.\n",
      "\n",
      "  results = test(time_series.values)\n",
      "Transect:  96%|█████████▌| 1231/1283 [01:19<00:03, 14.14it/s]c:\\Users\\mp222\\OneDrive - Imperial College London\\IslandTimeGitHub\\IslandTime\\IslandTime\\TimeSeriesAnalysis.py:737: InterpolationWarning: The test statistic is outside of the range of p-values available in the\n",
      "look-up table. The actual p-value is greater than the p-value returned.\n",
      "\n",
      "  results = test(time_series.values)\n",
      "c:\\Users\\mp222\\OneDrive - Imperial College London\\IslandTimeGitHub\\IslandTime\\IslandTime\\TimeSeriesAnalysis.py:737: InterpolationWarning: The test statistic is outside of the range of p-values available in the\n",
      "look-up table. The actual p-value is greater than the p-value returned.\n",
      "\n",
      "  results = test(time_series.values)\n",
      "Transect:  96%|█████████▌| 1233/1283 [01:19<00:03, 14.49it/s]c:\\Users\\mp222\\OneDrive - Imperial College London\\IslandTimeGitHub\\IslandTime\\IslandTime\\TimeSeriesAnalysis.py:737: InterpolationWarning: The test statistic is outside of the range of p-values available in the\n",
      "look-up table. The actual p-value is greater than the p-value returned.\n",
      "\n",
      "  results = test(time_series.values)\n",
      "c:\\Users\\mp222\\OneDrive - Imperial College London\\IslandTimeGitHub\\IslandTime\\IslandTime\\TimeSeriesAnalysis.py:737: InterpolationWarning: The test statistic is outside of the range of p-values available in the\n",
      "look-up table. The actual p-value is greater than the p-value returned.\n",
      "\n",
      "  results = test(time_series.values)\n",
      "Transect:  96%|█████████▋| 1235/1283 [01:20<00:03, 14.84it/s]c:\\Users\\mp222\\OneDrive - Imperial College London\\IslandTimeGitHub\\IslandTime\\IslandTime\\TimeSeriesAnalysis.py:737: InterpolationWarning: The test statistic is outside of the range of p-values available in the\n",
      "look-up table. The actual p-value is greater than the p-value returned.\n",
      "\n",
      "  results = test(time_series.values)\n",
      "c:\\Users\\mp222\\OneDrive - Imperial College London\\IslandTimeGitHub\\IslandTime\\IslandTime\\TimeSeriesAnalysis.py:737: InterpolationWarning: The test statistic is outside of the range of p-values available in the\n",
      "look-up table. The actual p-value is greater than the p-value returned.\n",
      "\n",
      "  results = test(time_series.values)\n",
      "Transect:  96%|█████████▋| 1237/1283 [01:20<00:03, 15.22it/s]c:\\Users\\mp222\\OneDrive - Imperial College London\\IslandTimeGitHub\\IslandTime\\IslandTime\\TimeSeriesAnalysis.py:737: InterpolationWarning: The test statistic is outside of the range of p-values available in the\n",
      "look-up table. The actual p-value is greater than the p-value returned.\n",
      "\n",
      "  results = test(time_series.values)\n",
      "c:\\Users\\mp222\\OneDrive - Imperial College London\\IslandTimeGitHub\\IslandTime\\IslandTime\\TimeSeriesAnalysis.py:737: InterpolationWarning: The test statistic is outside of the range of p-values available in the\n",
      "look-up table. The actual p-value is greater than the p-value returned.\n",
      "\n",
      "  results = test(time_series.values)\n",
      "Transect:  97%|█████████▋| 1239/1283 [01:20<00:03, 14.60it/s]c:\\Users\\mp222\\OneDrive - Imperial College London\\IslandTimeGitHub\\IslandTime\\IslandTime\\TimeSeriesAnalysis.py:737: InterpolationWarning: The test statistic is outside of the range of p-values available in the\n",
      "look-up table. The actual p-value is greater than the p-value returned.\n",
      "\n",
      "  results = test(time_series.values)\n",
      "c:\\Users\\mp222\\OneDrive - Imperial College London\\IslandTimeGitHub\\IslandTime\\IslandTime\\TimeSeriesAnalysis.py:737: InterpolationWarning: The test statistic is outside of the range of p-values available in the\n",
      "look-up table. The actual p-value is greater than the p-value returned.\n",
      "\n",
      "  results = test(time_series.values)\n",
      "Transect:  97%|█████████▋| 1241/1283 [01:20<00:02, 14.76it/s]c:\\Users\\mp222\\OneDrive - Imperial College London\\IslandTimeGitHub\\IslandTime\\IslandTime\\TimeSeriesAnalysis.py:737: InterpolationWarning: The test statistic is outside of the range of p-values available in the\n",
      "look-up table. The actual p-value is greater than the p-value returned.\n",
      "\n",
      "  results = test(time_series.values)\n",
      "c:\\Users\\mp222\\OneDrive - Imperial College London\\IslandTimeGitHub\\IslandTime\\IslandTime\\TimeSeriesAnalysis.py:737: InterpolationWarning: The test statistic is outside of the range of p-values available in the\n",
      "look-up table. The actual p-value is greater than the p-value returned.\n",
      "\n",
      "  results = test(time_series.values)\n",
      "Transect:  97%|█████████▋| 1243/1283 [01:20<00:02, 15.01it/s]c:\\Users\\mp222\\OneDrive - Imperial College London\\IslandTimeGitHub\\IslandTime\\IslandTime\\TimeSeriesAnalysis.py:737: InterpolationWarning: The test statistic is outside of the range of p-values available in the\n",
      "look-up table. The actual p-value is greater than the p-value returned.\n",
      "\n",
      "  results = test(time_series.values)\n",
      "c:\\Users\\mp222\\OneDrive - Imperial College London\\IslandTimeGitHub\\IslandTime\\IslandTime\\TimeSeriesAnalysis.py:737: InterpolationWarning: The test statistic is outside of the range of p-values available in the\n",
      "look-up table. The actual p-value is greater than the p-value returned.\n",
      "\n",
      "  results = test(time_series.values)\n",
      "Transect:  97%|█████████▋| 1245/1283 [01:20<00:02, 15.36it/s]c:\\Users\\mp222\\OneDrive - Imperial College London\\IslandTimeGitHub\\IslandTime\\IslandTime\\TimeSeriesAnalysis.py:737: InterpolationWarning: The test statistic is outside of the range of p-values available in the\n",
      "look-up table. The actual p-value is greater than the p-value returned.\n",
      "\n",
      "  results = test(time_series.values)\n",
      "c:\\Users\\mp222\\OneDrive - Imperial College London\\IslandTimeGitHub\\IslandTime\\IslandTime\\TimeSeriesAnalysis.py:737: InterpolationWarning: The test statistic is outside of the range of p-values available in the\n",
      "look-up table. The actual p-value is greater than the p-value returned.\n",
      "\n",
      "  results = test(time_series.values)\n",
      "Transect:  97%|█████████▋| 1247/1283 [01:20<00:02, 15.41it/s]c:\\Users\\mp222\\OneDrive - Imperial College London\\IslandTimeGitHub\\IslandTime\\IslandTime\\TimeSeriesAnalysis.py:737: InterpolationWarning: The test statistic is outside of the range of p-values available in the\n",
      "look-up table. The actual p-value is greater than the p-value returned.\n",
      "\n",
      "  results = test(time_series.values)\n",
      "c:\\Users\\mp222\\OneDrive - Imperial College London\\IslandTimeGitHub\\IslandTime\\IslandTime\\TimeSeriesAnalysis.py:737: InterpolationWarning: The test statistic is outside of the range of p-values available in the\n",
      "look-up table. The actual p-value is greater than the p-value returned.\n",
      "\n",
      "  results = test(time_series.values)\n",
      "Transect:  97%|█████████▋| 1249/1283 [01:21<00:02, 15.76it/s]c:\\Users\\mp222\\OneDrive - Imperial College London\\IslandTimeGitHub\\IslandTime\\IslandTime\\TimeSeriesAnalysis.py:737: InterpolationWarning: The test statistic is outside of the range of p-values available in the\n",
      "look-up table. The actual p-value is greater than the p-value returned.\n",
      "\n",
      "  results = test(time_series.values)\n",
      "c:\\Users\\mp222\\OneDrive - Imperial College London\\IslandTimeGitHub\\IslandTime\\IslandTime\\TimeSeriesAnalysis.py:737: InterpolationWarning: The test statistic is outside of the range of p-values available in the\n",
      "look-up table. The actual p-value is greater than the p-value returned.\n",
      "\n",
      "  results = test(time_series.values)\n",
      "Transect:  98%|█████████▊| 1251/1283 [01:21<00:02, 15.79it/s]c:\\Users\\mp222\\OneDrive - Imperial College London\\IslandTimeGitHub\\IslandTime\\IslandTime\\TimeSeriesAnalysis.py:737: InterpolationWarning: The test statistic is outside of the range of p-values available in the\n",
      "look-up table. The actual p-value is greater than the p-value returned.\n",
      "\n",
      "  results = test(time_series.values)\n",
      "c:\\Users\\mp222\\OneDrive - Imperial College London\\IslandTimeGitHub\\IslandTime\\IslandTime\\TimeSeriesAnalysis.py:737: InterpolationWarning: The test statistic is outside of the range of p-values available in the\n",
      "look-up table. The actual p-value is greater than the p-value returned.\n",
      "\n",
      "  results = test(time_series.values)\n",
      "Transect:  98%|█████████▊| 1253/1283 [01:21<00:01, 15.89it/s]c:\\Users\\mp222\\OneDrive - Imperial College London\\IslandTimeGitHub\\IslandTime\\IslandTime\\TimeSeriesAnalysis.py:737: InterpolationWarning: The test statistic is outside of the range of p-values available in the\n",
      "look-up table. The actual p-value is greater than the p-value returned.\n",
      "\n",
      "  results = test(time_series.values)\n",
      "c:\\Users\\mp222\\OneDrive - Imperial College London\\IslandTimeGitHub\\IslandTime\\IslandTime\\TimeSeriesAnalysis.py:737: InterpolationWarning: The test statistic is outside of the range of p-values available in the\n",
      "look-up table. The actual p-value is greater than the p-value returned.\n",
      "\n",
      "  results = test(time_series.values)\n",
      "Transect:  98%|█████████▊| 1255/1283 [01:21<00:01, 14.91it/s]c:\\Users\\mp222\\OneDrive - Imperial College London\\IslandTimeGitHub\\IslandTime\\IslandTime\\TimeSeriesAnalysis.py:737: InterpolationWarning: The test statistic is outside of the range of p-values available in the\n",
      "look-up table. The actual p-value is greater than the p-value returned.\n",
      "\n",
      "  results = test(time_series.values)\n",
      "c:\\Users\\mp222\\OneDrive - Imperial College London\\IslandTimeGitHub\\IslandTime\\IslandTime\\TimeSeriesAnalysis.py:737: InterpolationWarning: The test statistic is outside of the range of p-values available in the\n",
      "look-up table. The actual p-value is greater than the p-value returned.\n",
      "\n",
      "  results = test(time_series.values)\n",
      "Transect:  98%|█████████▊| 1257/1283 [01:21<00:01, 14.15it/s]c:\\Users\\mp222\\OneDrive - Imperial College London\\IslandTimeGitHub\\IslandTime\\IslandTime\\TimeSeriesAnalysis.py:737: InterpolationWarning: The test statistic is outside of the range of p-values available in the\n",
      "look-up table. The actual p-value is greater than the p-value returned.\n",
      "\n",
      "  results = test(time_series.values)\n",
      "c:\\Users\\mp222\\OneDrive - Imperial College London\\IslandTimeGitHub\\IslandTime\\IslandTime\\TimeSeriesAnalysis.py:737: InterpolationWarning: The test statistic is outside of the range of p-values available in the\n",
      "look-up table. The actual p-value is greater than the p-value returned.\n",
      "\n",
      "  results = test(time_series.values)\n",
      "Transect:  98%|█████████▊| 1259/1283 [01:21<00:01, 13.70it/s]c:\\Users\\mp222\\OneDrive - Imperial College London\\IslandTimeGitHub\\IslandTime\\IslandTime\\TimeSeriesAnalysis.py:737: InterpolationWarning: The test statistic is outside of the range of p-values available in the\n",
      "look-up table. The actual p-value is greater than the p-value returned.\n",
      "\n",
      "  results = test(time_series.values)\n",
      "c:\\Users\\mp222\\OneDrive - Imperial College London\\IslandTimeGitHub\\IslandTime\\IslandTime\\TimeSeriesAnalysis.py:737: InterpolationWarning: The test statistic is outside of the range of p-values available in the\n",
      "look-up table. The actual p-value is greater than the p-value returned.\n",
      "\n",
      "  results = test(time_series.values)\n",
      "Transect:  98%|█████████▊| 1261/1283 [01:21<00:01, 14.37it/s]c:\\Users\\mp222\\OneDrive - Imperial College London\\IslandTimeGitHub\\IslandTime\\IslandTime\\TimeSeriesAnalysis.py:737: InterpolationWarning: The test statistic is outside of the range of p-values available in the\n",
      "look-up table. The actual p-value is greater than the p-value returned.\n",
      "\n",
      "  results = test(time_series.values)\n",
      "c:\\Users\\mp222\\OneDrive - Imperial College London\\IslandTimeGitHub\\IslandTime\\IslandTime\\TimeSeriesAnalysis.py:737: InterpolationWarning: The test statistic is outside of the range of p-values available in the\n",
      "look-up table. The actual p-value is greater than the p-value returned.\n",
      "\n",
      "  results = test(time_series.values)\n",
      "Transect:  98%|█████████▊| 1263/1283 [01:21<00:01, 14.60it/s]c:\\Users\\mp222\\OneDrive - Imperial College London\\IslandTimeGitHub\\IslandTime\\IslandTime\\TimeSeriesAnalysis.py:737: InterpolationWarning: The test statistic is outside of the range of p-values available in the\n",
      "look-up table. The actual p-value is greater than the p-value returned.\n",
      "\n",
      "  results = test(time_series.values)\n",
      "c:\\Users\\mp222\\OneDrive - Imperial College London\\IslandTimeGitHub\\IslandTime\\IslandTime\\TimeSeriesAnalysis.py:737: InterpolationWarning: The test statistic is outside of the range of p-values available in the\n",
      "look-up table. The actual p-value is greater than the p-value returned.\n",
      "\n",
      "  results = test(time_series.values)\n",
      "Transect:  99%|█████████▊| 1265/1283 [01:22<00:01, 14.47it/s]c:\\Users\\mp222\\OneDrive - Imperial College London\\IslandTimeGitHub\\IslandTime\\IslandTime\\TimeSeriesAnalysis.py:737: InterpolationWarning: The test statistic is outside of the range of p-values available in the\n",
      "look-up table. The actual p-value is greater than the p-value returned.\n",
      "\n",
      "  results = test(time_series.values)\n",
      "c:\\Users\\mp222\\OneDrive - Imperial College London\\IslandTimeGitHub\\IslandTime\\IslandTime\\TimeSeriesAnalysis.py:737: InterpolationWarning: The test statistic is outside of the range of p-values available in the\n",
      "look-up table. The actual p-value is greater than the p-value returned.\n",
      "\n",
      "  results = test(time_series.values)\n",
      "Transect:  99%|█████████▉| 1267/1283 [01:22<00:01, 14.83it/s]c:\\Users\\mp222\\OneDrive - Imperial College London\\IslandTimeGitHub\\IslandTime\\IslandTime\\TimeSeriesAnalysis.py:737: InterpolationWarning: The test statistic is outside of the range of p-values available in the\n",
      "look-up table. The actual p-value is greater than the p-value returned.\n",
      "\n",
      "  results = test(time_series.values)\n",
      "c:\\Users\\mp222\\OneDrive - Imperial College London\\IslandTimeGitHub\\IslandTime\\IslandTime\\TimeSeriesAnalysis.py:737: InterpolationWarning: The test statistic is outside of the range of p-values available in the\n",
      "look-up table. The actual p-value is greater than the p-value returned.\n",
      "\n",
      "  results = test(time_series.values)\n",
      "Transect:  99%|█████████▉| 1269/1283 [01:22<00:00, 14.96it/s]c:\\Users\\mp222\\OneDrive - Imperial College London\\IslandTimeGitHub\\IslandTime\\IslandTime\\TimeSeriesAnalysis.py:737: InterpolationWarning: The test statistic is outside of the range of p-values available in the\n",
      "look-up table. The actual p-value is greater than the p-value returned.\n",
      "\n",
      "  results = test(time_series.values)\n",
      "c:\\Users\\mp222\\OneDrive - Imperial College London\\IslandTimeGitHub\\IslandTime\\IslandTime\\TimeSeriesAnalysis.py:737: InterpolationWarning: The test statistic is outside of the range of p-values available in the\n",
      "look-up table. The actual p-value is greater than the p-value returned.\n",
      "\n",
      "  results = test(time_series.values)\n",
      "Transect:  99%|█████████▉| 1271/1283 [01:22<00:00, 15.22it/s]c:\\Users\\mp222\\OneDrive - Imperial College London\\IslandTimeGitHub\\IslandTime\\IslandTime\\TimeSeriesAnalysis.py:737: InterpolationWarning: The test statistic is outside of the range of p-values available in the\n",
      "look-up table. The actual p-value is greater than the p-value returned.\n",
      "\n",
      "  results = test(time_series.values)\n",
      "c:\\Users\\mp222\\OneDrive - Imperial College London\\IslandTimeGitHub\\IslandTime\\IslandTime\\TimeSeriesAnalysis.py:737: InterpolationWarning: The test statistic is outside of the range of p-values available in the\n",
      "look-up table. The actual p-value is greater than the p-value returned.\n",
      "\n",
      "  results = test(time_series.values)\n",
      "Transect:  99%|█████████▉| 1273/1283 [01:22<00:00, 15.37it/s]c:\\Users\\mp222\\OneDrive - Imperial College London\\IslandTimeGitHub\\IslandTime\\IslandTime\\TimeSeriesAnalysis.py:737: InterpolationWarning: The test statistic is outside of the range of p-values available in the\n",
      "look-up table. The actual p-value is greater than the p-value returned.\n",
      "\n",
      "  results = test(time_series.values)\n",
      "c:\\Users\\mp222\\OneDrive - Imperial College London\\IslandTimeGitHub\\IslandTime\\IslandTime\\TimeSeriesAnalysis.py:737: InterpolationWarning: The test statistic is outside of the range of p-values available in the\n",
      "look-up table. The actual p-value is greater than the p-value returned.\n",
      "\n",
      "  results = test(time_series.values)\n",
      "Transect:  99%|█████████▉| 1275/1283 [01:22<00:00, 15.06it/s]c:\\Users\\mp222\\OneDrive - Imperial College London\\IslandTimeGitHub\\IslandTime\\IslandTime\\TimeSeriesAnalysis.py:737: InterpolationWarning: The test statistic is outside of the range of p-values available in the\n",
      "look-up table. The actual p-value is greater than the p-value returned.\n",
      "\n",
      "  results = test(time_series.values)\n",
      "c:\\Users\\mp222\\OneDrive - Imperial College London\\IslandTimeGitHub\\IslandTime\\IslandTime\\TimeSeriesAnalysis.py:737: InterpolationWarning: The test statistic is outside of the range of p-values available in the\n",
      "look-up table. The actual p-value is greater than the p-value returned.\n",
      "\n",
      "  results = test(time_series.values)\n",
      "Transect: 100%|█████████▉| 1277/1283 [01:22<00:00, 15.35it/s]c:\\Users\\mp222\\OneDrive - Imperial College London\\IslandTimeGitHub\\IslandTime\\IslandTime\\TimeSeriesAnalysis.py:737: InterpolationWarning: The test statistic is outside of the range of p-values available in the\n",
      "look-up table. The actual p-value is greater than the p-value returned.\n",
      "\n",
      "  results = test(time_series.values)\n",
      "c:\\Users\\mp222\\OneDrive - Imperial College London\\IslandTimeGitHub\\IslandTime\\IslandTime\\TimeSeriesAnalysis.py:737: InterpolationWarning: The test statistic is outside of the range of p-values available in the\n",
      "look-up table. The actual p-value is greater than the p-value returned.\n",
      "\n",
      "  results = test(time_series.values)\n",
      "Transect: 100%|█████████▉| 1279/1283 [01:23<00:00, 14.27it/s]c:\\Users\\mp222\\OneDrive - Imperial College London\\IslandTimeGitHub\\IslandTime\\IslandTime\\TimeSeriesAnalysis.py:737: InterpolationWarning: The test statistic is outside of the range of p-values available in the\n",
      "look-up table. The actual p-value is greater than the p-value returned.\n",
      "\n",
      "  results = test(time_series.values)\n",
      "c:\\Users\\mp222\\OneDrive - Imperial College London\\IslandTimeGitHub\\IslandTime\\IslandTime\\TimeSeriesAnalysis.py:737: InterpolationWarning: The test statistic is outside of the range of p-values available in the\n",
      "look-up table. The actual p-value is greater than the p-value returned.\n",
      "\n",
      "  results = test(time_series.values)\n",
      "Transect: 100%|█████████▉| 1281/1283 [01:23<00:00, 14.75it/s]c:\\Users\\mp222\\OneDrive - Imperial College London\\IslandTimeGitHub\\IslandTime\\IslandTime\\TimeSeriesAnalysis.py:737: InterpolationWarning: The test statistic is outside of the range of p-values available in the\n",
      "look-up table. The actual p-value is greater than the p-value returned.\n",
      "\n",
      "  results = test(time_series.values)\n",
      "c:\\Users\\mp222\\OneDrive - Imperial College London\\IslandTimeGitHub\\IslandTime\\IslandTime\\TimeSeriesAnalysis.py:737: InterpolationWarning: The test statistic is outside of the range of p-values available in the\n",
      "look-up table. The actual p-value is greater than the p-value returned.\n",
      "\n",
      "  results = test(time_series.values)\n",
      "Transect: 100%|██████████| 1283/1283 [01:23<00:00, 15.40it/s]\n"
     ]
    }
   ],
   "source": [
    "from IslandTime import Workflow, TimeSeriesCoastSat, retrieve_island_info, plot_shoreline_transects, TimeSeriesClimateIndices, PreTimeSeries, update_data_map\n",
    "import os\n",
    "import numpy as np\n",
    "\n",
    "%load_ext autoreload\n",
    "%autoreload 2\n",
    "\n",
    "island = 'Maavaarulu'# 'Fereythavilingillaa (3)' #'Dherekudhehaa' #'Olhurataa'\n",
    "country = 'Maldives'\n",
    "\n",
    "path_coastsat = os.path.join(os.getcwd(), 'data', 'coastsat_data', '{}_{}'.format(island, country))\n",
    "\n",
    "listdir_coastsat = os.listdir(path_coastsat)\n",
    "\n",
    "# for f in listdir_coastsat:\n",
    "#     if np.char.endswith(f, '_reference_shoreline.pkl') or np.char.endswith(f, '_reference_shoreline.geojson'):\n",
    "#         os.rename(os.path.join(path_coastsat, f), os.path.join(path_coastsat, 'S2', f))\n",
    "\n",
    "island_info = TimeSeriesCoastSat(island, country, reference_shoreline_transects_only=True, overwrite=True, distance_between_transects=5, retrieve_reference_shoreline_manually=True).main()\n",
    "island_info = Workflow(island, country, run_all=False, execute_segmentation=True, execute_preprocess=True, execute_analysis=True, update_maps=False, small_island=False).main()\n",
    "\n",
    "\n",
    "# update_data_map()\n",
    "\n",
    "#TimeSeriesClimateIndices(island, country).main()    \n",
    "\n",
    "#island_info = Workflow(island, country, run_all=False, execute_segmentation=True, execute_preprocess=True, execute_analysis=True, update_maps=True, small_island=True).main()\n",
    "#island_info = PreTimeSeries(island, country, atoll='Haa Alifu').main()\n",
    "# island_info = retrieve_island_info(island, country)\n",
    "# plot_shoreline_transects(island_info)\n",
    "\n",
    "#island_info = TimeSeriesCoastSat(island, country, re_download=True, sat_list=['S2'], date_range=['2015-12-18', '2021-06-17'], overwrite=True).main()\n",
    "\n",
    "#island_info = TimeSeriesCoastSat(island, country, overwrite=True, reference_shoreline_transects_only=True, distance_between_transects=10, retrieve_reference_shoreline_manually=True).main()\n",
    "#plot_shoreline_transects(island_info)\n",
    "# island_info = TimeSeriesCoastSat(island, country, reference_shoreline_transects_only=True, overwrite=True, distance_between_transects=5, retrieve_reference_shoreline_manually=True).main()\n",
    "\n",
    "#island_info = Workflow(island, country, run_all=False, execute_segmentation=True, execute_preprocess=True, execute_analysis=True, update_maps=False, small_island=False).main()\n",
    "# island_info = Workflow(island, country, run_all=False, execute_segmentation=True, execute_preprocess=True, execute_analysis=True, update_maps=False, small_island=False).main()\n"
   ]
  },
  {
   "cell_type": "code",
   "execution_count": 36,
   "metadata": {},
   "outputs": [
    {
     "name": "stdout",
     "output_type": "stream",
     "text": [
      "\n",
      "-------------------------------------------------------------------\n",
      "Retrieving general and spatial information about the island\n",
      "Island: Kautihulhudhoo-Karuna, Maldives\n",
      "-------------------------------------------------------------------\n",
      "\n",
      "~ All information will be extracted/calculated. ~\n",
      "Island not available in OpenStreetMap. Will use other methods.\n",
      "Coordinates from Wikipedia (lat/lon): nan nan\n",
      "Coordinates from GeoKeo (lat/lon): nan nan\n",
      "S2 82\n",
      "L5 0\n",
      "L7 2\n",
      "L8 54\n",
      "L9 10\n",
      "No other information available.\n",
      "~ Retrieving information from Duvat & Magnan (2019). ~\n",
      "Island not found in the database.\n",
      "\n",
      "-------------------------------------------------------------------\n",
      "Retrieving general and spatial information about the island\n",
      "Island: Kautihulhudhoo-Karuna, Maldives\n",
      "-------------------------------------------------------------------\n",
      "\n",
      "~ The following information will be extracted/calculated: other and duvat_magnan_2019 ~\n",
      "No other information available.\n",
      "~ Retrieving information from Duvat & Magnan (2019). ~\n",
      "Island not found in the database.\n",
      "\n",
      "-------------------------------------------------------------------\n",
      "Retrieving Sea surface temperature (NOAA Coral Reef Watch)\n",
      "Island: Kautihulhudhoo-Karuna, Maldives\n",
      "-------------------------------------------------------------------\n",
      "\n",
      "~ The station to retrieve is `maldives`. ~\n",
      "\n",
      "-------------------------------------------------------------------\n",
      "Retrieving Nighttime light (DMSP-OLS)\n",
      "Island: Kautihulhudhoo-Karuna, Maldives\n",
      "-------------------------------------------------------------------\n",
      "\n",
      "~ Retrieving NTL time series. ~\n",
      "Time series is empty!\n",
      "\n",
      "-------------------------------------------------------------------\n",
      "Retrieving Disasters (EM-DAT)\n",
      "Island: Kautihulhudhoo-Karuna, Maldives\n",
      "-------------------------------------------------------------------\n",
      "\n",
      "~ Retrieving disaster data from EM-DAT database. ~\n",
      "~ Retrieving time series as number of events per year. ~\n",
      "~ Retrieving time series as confounder effects. ~\n",
      "\n",
      "-------------------------------------------------------------------\n",
      "Retrieving World Bank\n",
      "Island: Kautihulhudhoo-Karuna, Maldives\n",
      "-------------------------------------------------------------------\n",
      "\n",
      "~ Time series retrieved from another island (same country). ~\n",
      "\n",
      "-------------------------------------------------------------------\n",
      "Retrieving World Health Organization (WHO)\n",
      "Island: Kautihulhudhoo-Karuna, Maldives\n",
      "-------------------------------------------------------------------\n",
      "\n",
      "~ Time series retrieved from another island (same country). ~\n",
      "\n",
      "-------------------------------------------------------------------\n",
      "Retrieving Sea level anomaly\n",
      "Island: Kautihulhudhoo-Karuna, Maldives\n",
      "-------------------------------------------------------------------\n",
      "\n",
      "~ Retrieving time series. ~\n",
      "\n",
      "-------------------------------------------------------------------\n",
      "Retrieving Penman-Monteith-Leuning Evapotranspiration V2 (PML_V2)\n",
      "Island: Kautihulhudhoo-Karuna, Maldives\n",
      "-------------------------------------------------------------------\n",
      "\n",
      "~ Retrieving Gross primary product. ~\n",
      "~ Retrieving Vegetation transpiration. ~\n",
      "~ Retrieving Soil evaporation. ~\n",
      "~ Retrieving Interception from vegetation canopy. ~\n",
      "~ Retrieving Water body, snow and ice evaporation. ~\n",
      "\n",
      "-------------------------------------------------------------------\n",
      "Retrieving Permanent Service for Mean Sea Level (PSMSL)\n",
      "Island: Kautihulhudhoo-Karuna, Maldives\n",
      "-------------------------------------------------------------------\n",
      "\n",
      "~ Retrieving data from the 1st closest station: GAN II at a distance of 120.3 km from the island. ~\n",
      "~ Retrieving data from the 2nd closest station: MALE-B, HULULE at a distance of 422.9 km from the island. ~\n",
      "~ Retrieving data from the 3rd closest station: HANIMADHOO B at a distance of 704.8 km from the island. ~\n",
      "\n",
      "-------------------------------------------------------------------\n",
      "Retrieving Pacific Sea Level and Geodetic Monitoring Project (PSLGM)\n",
      "Island: Kautihulhudhoo-Karuna, Maldives\n",
      "-------------------------------------------------------------------\n",
      "\n",
      "No PSLGM information for this island.\n",
      "\n",
      "-------------------------------------------------------------------\n",
      "Retrieving CoastSat (coastline position along transects)\n",
      "Island: Kautihulhudhoo-Karuna, Maldives\n",
      "-------------------------------------------------------------------\n",
      "\n",
      "Saving images as jpg:\n",
      "L8: 108 images\n",
      "0%"
     ]
    },
    {
     "name": "stderr",
     "output_type": "stream",
     "text": [
      "c:\\Users\\mp222\\OneDrive - Imperial College London\\IslandTimeGitHub\\IslandTime\\coastsatmaster\\coastsat\\SDS_preprocess.py:607: PendingDeprecationWarning: The set_tight_layout function will be deprecated in a future version. Use set_layout_engine instead.\n",
      "  fig.set_tight_layout(True)\n"
     ]
    },
    {
     "name": "stdout",
     "output_type": "stream",
     "text": [
      "1%"
     ]
    },
    {
     "name": "stderr",
     "output_type": "stream",
     "text": [
      "c:\\Users\\mp222\\OneDrive - Imperial College London\\IslandTimeGitHub\\IslandTime\\coastsatmaster\\coastsat\\SDS_preprocess.py:607: PendingDeprecationWarning: The set_tight_layout function will be deprecated in a future version. Use set_layout_engine instead.\n",
      "  fig.set_tight_layout(True)\n"
     ]
    },
    {
     "name": "stdout",
     "output_type": "stream",
     "text": [
      "2%"
     ]
    },
    {
     "name": "stderr",
     "output_type": "stream",
     "text": [
      "c:\\Users\\mp222\\OneDrive - Imperial College London\\IslandTimeGitHub\\IslandTime\\coastsatmaster\\coastsat\\SDS_preprocess.py:607: PendingDeprecationWarning: The set_tight_layout function will be deprecated in a future version. Use set_layout_engine instead.\n",
      "  fig.set_tight_layout(True)\n"
     ]
    },
    {
     "name": "stdout",
     "output_type": "stream",
     "text": [
      "3%"
     ]
    },
    {
     "name": "stderr",
     "output_type": "stream",
     "text": [
      "c:\\Users\\mp222\\OneDrive - Imperial College London\\IslandTimeGitHub\\IslandTime\\coastsatmaster\\coastsat\\SDS_preprocess.py:607: PendingDeprecationWarning: The set_tight_layout function will be deprecated in a future version. Use set_layout_engine instead.\n",
      "  fig.set_tight_layout(True)\n"
     ]
    },
    {
     "name": "stdout",
     "output_type": "stream",
     "text": [
      "4%"
     ]
    },
    {
     "name": "stderr",
     "output_type": "stream",
     "text": [
      "c:\\Users\\mp222\\OneDrive - Imperial College London\\IslandTimeGitHub\\IslandTime\\coastsatmaster\\coastsat\\SDS_preprocess.py:607: PendingDeprecationWarning: The set_tight_layout function will be deprecated in a future version. Use set_layout_engine instead.\n",
      "  fig.set_tight_layout(True)\n"
     ]
    },
    {
     "name": "stdout",
     "output_type": "stream",
     "text": [
      "6%"
     ]
    },
    {
     "name": "stderr",
     "output_type": "stream",
     "text": [
      "c:\\Users\\mp222\\OneDrive - Imperial College London\\IslandTimeGitHub\\IslandTime\\coastsatmaster\\coastsat\\SDS_preprocess.py:607: PendingDeprecationWarning: The set_tight_layout function will be deprecated in a future version. Use set_layout_engine instead.\n",
      "  fig.set_tight_layout(True)\n"
     ]
    },
    {
     "name": "stdout",
     "output_type": "stream",
     "text": [
      "9%"
     ]
    },
    {
     "name": "stderr",
     "output_type": "stream",
     "text": [
      "c:\\Users\\mp222\\OneDrive - Imperial College London\\IslandTimeGitHub\\IslandTime\\coastsatmaster\\coastsat\\SDS_preprocess.py:607: PendingDeprecationWarning: The set_tight_layout function will be deprecated in a future version. Use set_layout_engine instead.\n",
      "  fig.set_tight_layout(True)\n"
     ]
    },
    {
     "name": "stdout",
     "output_type": "stream",
     "text": [
      "11%"
     ]
    },
    {
     "name": "stderr",
     "output_type": "stream",
     "text": [
      "c:\\Users\\mp222\\OneDrive - Imperial College London\\IslandTimeGitHub\\IslandTime\\coastsatmaster\\coastsat\\SDS_preprocess.py:607: PendingDeprecationWarning: The set_tight_layout function will be deprecated in a future version. Use set_layout_engine instead.\n",
      "  fig.set_tight_layout(True)\n"
     ]
    },
    {
     "name": "stdout",
     "output_type": "stream",
     "text": [
      "12%"
     ]
    },
    {
     "name": "stderr",
     "output_type": "stream",
     "text": [
      "c:\\Users\\mp222\\OneDrive - Imperial College London\\IslandTimeGitHub\\IslandTime\\coastsatmaster\\coastsat\\SDS_preprocess.py:607: PendingDeprecationWarning: The set_tight_layout function will be deprecated in a future version. Use set_layout_engine instead.\n",
      "  fig.set_tight_layout(True)\n"
     ]
    },
    {
     "name": "stdout",
     "output_type": "stream",
     "text": [
      "12%"
     ]
    },
    {
     "name": "stderr",
     "output_type": "stream",
     "text": [
      "c:\\Users\\mp222\\OneDrive - Imperial College London\\IslandTimeGitHub\\IslandTime\\coastsatmaster\\coastsat\\SDS_preprocess.py:607: PendingDeprecationWarning: The set_tight_layout function will be deprecated in a future version. Use set_layout_engine instead.\n",
      "  fig.set_tight_layout(True)\n"
     ]
    },
    {
     "name": "stdout",
     "output_type": "stream",
     "text": [
      "13%"
     ]
    },
    {
     "name": "stderr",
     "output_type": "stream",
     "text": [
      "c:\\Users\\mp222\\OneDrive - Imperial College London\\IslandTimeGitHub\\IslandTime\\coastsatmaster\\coastsat\\SDS_preprocess.py:607: PendingDeprecationWarning: The set_tight_layout function will be deprecated in a future version. Use set_layout_engine instead.\n",
      "  fig.set_tight_layout(True)\n"
     ]
    },
    {
     "name": "stdout",
     "output_type": "stream",
     "text": [
      "14%"
     ]
    },
    {
     "name": "stderr",
     "output_type": "stream",
     "text": [
      "c:\\Users\\mp222\\OneDrive - Imperial College London\\IslandTimeGitHub\\IslandTime\\coastsatmaster\\coastsat\\SDS_preprocess.py:607: PendingDeprecationWarning: The set_tight_layout function will be deprecated in a future version. Use set_layout_engine instead.\n",
      "  fig.set_tight_layout(True)\n"
     ]
    },
    {
     "name": "stdout",
     "output_type": "stream",
     "text": [
      "15%"
     ]
    },
    {
     "name": "stderr",
     "output_type": "stream",
     "text": [
      "c:\\Users\\mp222\\OneDrive - Imperial College London\\IslandTimeGitHub\\IslandTime\\coastsatmaster\\coastsat\\SDS_preprocess.py:607: PendingDeprecationWarning: The set_tight_layout function will be deprecated in a future version. Use set_layout_engine instead.\n",
      "  fig.set_tight_layout(True)\n"
     ]
    },
    {
     "name": "stdout",
     "output_type": "stream",
     "text": [
      "16%"
     ]
    },
    {
     "name": "stderr",
     "output_type": "stream",
     "text": [
      "c:\\Users\\mp222\\OneDrive - Imperial College London\\IslandTimeGitHub\\IslandTime\\coastsatmaster\\coastsat\\SDS_preprocess.py:607: PendingDeprecationWarning: The set_tight_layout function will be deprecated in a future version. Use set_layout_engine instead.\n",
      "  fig.set_tight_layout(True)\n"
     ]
    },
    {
     "name": "stdout",
     "output_type": "stream",
     "text": [
      "18%"
     ]
    },
    {
     "name": "stderr",
     "output_type": "stream",
     "text": [
      "c:\\Users\\mp222\\OneDrive - Imperial College London\\IslandTimeGitHub\\IslandTime\\coastsatmaster\\coastsat\\SDS_preprocess.py:607: PendingDeprecationWarning: The set_tight_layout function will be deprecated in a future version. Use set_layout_engine instead.\n",
      "  fig.set_tight_layout(True)\n"
     ]
    },
    {
     "name": "stdout",
     "output_type": "stream",
     "text": [
      "19%"
     ]
    },
    {
     "name": "stderr",
     "output_type": "stream",
     "text": [
      "c:\\Users\\mp222\\OneDrive - Imperial College London\\IslandTimeGitHub\\IslandTime\\coastsatmaster\\coastsat\\SDS_preprocess.py:607: PendingDeprecationWarning: The set_tight_layout function will be deprecated in a future version. Use set_layout_engine instead.\n",
      "  fig.set_tight_layout(True)\n"
     ]
    },
    {
     "name": "stdout",
     "output_type": "stream",
     "text": [
      "20%"
     ]
    },
    {
     "name": "stderr",
     "output_type": "stream",
     "text": [
      "c:\\Users\\mp222\\OneDrive - Imperial College London\\IslandTimeGitHub\\IslandTime\\coastsatmaster\\coastsat\\SDS_preprocess.py:607: PendingDeprecationWarning: The set_tight_layout function will be deprecated in a future version. Use set_layout_engine instead.\n",
      "  fig.set_tight_layout(True)\n"
     ]
    },
    {
     "name": "stdout",
     "output_type": "stream",
     "text": [
      "21%"
     ]
    },
    {
     "name": "stderr",
     "output_type": "stream",
     "text": [
      "c:\\Users\\mp222\\OneDrive - Imperial College London\\IslandTimeGitHub\\IslandTime\\coastsatmaster\\coastsat\\SDS_preprocess.py:607: PendingDeprecationWarning: The set_tight_layout function will be deprecated in a future version. Use set_layout_engine instead.\n",
      "  fig.set_tight_layout(True)\n"
     ]
    },
    {
     "name": "stdout",
     "output_type": "stream",
     "text": [
      "22%"
     ]
    },
    {
     "name": "stderr",
     "output_type": "stream",
     "text": [
      "c:\\Users\\mp222\\OneDrive - Imperial College London\\IslandTimeGitHub\\IslandTime\\coastsatmaster\\coastsat\\SDS_preprocess.py:607: PendingDeprecationWarning: The set_tight_layout function will be deprecated in a future version. Use set_layout_engine instead.\n",
      "  fig.set_tight_layout(True)\n"
     ]
    },
    {
     "name": "stdout",
     "output_type": "stream",
     "text": [
      "23%"
     ]
    },
    {
     "name": "stderr",
     "output_type": "stream",
     "text": [
      "c:\\Users\\mp222\\OneDrive - Imperial College London\\IslandTimeGitHub\\IslandTime\\coastsatmaster\\coastsat\\SDS_preprocess.py:607: PendingDeprecationWarning: The set_tight_layout function will be deprecated in a future version. Use set_layout_engine instead.\n",
      "  fig.set_tight_layout(True)\n"
     ]
    },
    {
     "name": "stdout",
     "output_type": "stream",
     "text": [
      "24%"
     ]
    },
    {
     "name": "stderr",
     "output_type": "stream",
     "text": [
      "c:\\Users\\mp222\\OneDrive - Imperial College London\\IslandTimeGitHub\\IslandTime\\coastsatmaster\\coastsat\\SDS_preprocess.py:605: RuntimeWarning: More than 20 figures have been opened. Figures created through the pyplot interface (`matplotlib.pyplot.figure`) are retained until explicitly closed and may consume too much memory. (To control this warning, see the rcParam `figure.max_open_warning`). Consider using `matplotlib.pyplot.close()`.\n",
      "  fig = plt.figure()\n",
      "c:\\Users\\mp222\\OneDrive - Imperial College London\\IslandTimeGitHub\\IslandTime\\coastsatmaster\\coastsat\\SDS_preprocess.py:607: PendingDeprecationWarning: The set_tight_layout function will be deprecated in a future version. Use set_layout_engine instead.\n",
      "  fig.set_tight_layout(True)\n"
     ]
    },
    {
     "name": "stdout",
     "output_type": "stream",
     "text": [
      "25%"
     ]
    },
    {
     "name": "stderr",
     "output_type": "stream",
     "text": [
      "c:\\Users\\mp222\\OneDrive - Imperial College London\\IslandTimeGitHub\\IslandTime\\coastsatmaster\\coastsat\\SDS_preprocess.py:607: PendingDeprecationWarning: The set_tight_layout function will be deprecated in a future version. Use set_layout_engine instead.\n",
      "  fig.set_tight_layout(True)\n"
     ]
    },
    {
     "name": "stdout",
     "output_type": "stream",
     "text": [
      "25%"
     ]
    },
    {
     "name": "stderr",
     "output_type": "stream",
     "text": [
      "c:\\Users\\mp222\\OneDrive - Imperial College London\\IslandTimeGitHub\\IslandTime\\coastsatmaster\\coastsat\\SDS_preprocess.py:607: PendingDeprecationWarning: The set_tight_layout function will be deprecated in a future version. Use set_layout_engine instead.\n",
      "  fig.set_tight_layout(True)\n"
     ]
    },
    {
     "name": "stdout",
     "output_type": "stream",
     "text": [
      "26%"
     ]
    },
    {
     "name": "stderr",
     "output_type": "stream",
     "text": [
      "c:\\Users\\mp222\\OneDrive - Imperial College London\\IslandTimeGitHub\\IslandTime\\coastsatmaster\\coastsat\\SDS_preprocess.py:607: PendingDeprecationWarning: The set_tight_layout function will be deprecated in a future version. Use set_layout_engine instead.\n",
      "  fig.set_tight_layout(True)\n"
     ]
    },
    {
     "name": "stdout",
     "output_type": "stream",
     "text": [
      "27%"
     ]
    },
    {
     "name": "stderr",
     "output_type": "stream",
     "text": [
      "c:\\Users\\mp222\\OneDrive - Imperial College London\\IslandTimeGitHub\\IslandTime\\coastsatmaster\\coastsat\\SDS_preprocess.py:607: PendingDeprecationWarning: The set_tight_layout function will be deprecated in a future version. Use set_layout_engine instead.\n",
      "  fig.set_tight_layout(True)\n"
     ]
    },
    {
     "name": "stdout",
     "output_type": "stream",
     "text": [
      "28%"
     ]
    },
    {
     "name": "stderr",
     "output_type": "stream",
     "text": [
      "c:\\Users\\mp222\\OneDrive - Imperial College London\\IslandTimeGitHub\\IslandTime\\coastsatmaster\\coastsat\\SDS_preprocess.py:607: PendingDeprecationWarning: The set_tight_layout function will be deprecated in a future version. Use set_layout_engine instead.\n",
      "  fig.set_tight_layout(True)\n"
     ]
    },
    {
     "name": "stdout",
     "output_type": "stream",
     "text": [
      "29%"
     ]
    },
    {
     "name": "stderr",
     "output_type": "stream",
     "text": [
      "c:\\Users\\mp222\\OneDrive - Imperial College London\\IslandTimeGitHub\\IslandTime\\coastsatmaster\\coastsat\\SDS_preprocess.py:607: PendingDeprecationWarning: The set_tight_layout function will be deprecated in a future version. Use set_layout_engine instead.\n",
      "  fig.set_tight_layout(True)\n"
     ]
    },
    {
     "name": "stdout",
     "output_type": "stream",
     "text": [
      "30%"
     ]
    },
    {
     "name": "stderr",
     "output_type": "stream",
     "text": [
      "c:\\Users\\mp222\\OneDrive - Imperial College London\\IslandTimeGitHub\\IslandTime\\coastsatmaster\\coastsat\\SDS_preprocess.py:607: PendingDeprecationWarning: The set_tight_layout function will be deprecated in a future version. Use set_layout_engine instead.\n",
      "  fig.set_tight_layout(True)\n"
     ]
    },
    {
     "name": "stdout",
     "output_type": "stream",
     "text": [
      "31%"
     ]
    },
    {
     "name": "stderr",
     "output_type": "stream",
     "text": [
      "c:\\Users\\mp222\\OneDrive - Imperial College London\\IslandTimeGitHub\\IslandTime\\coastsatmaster\\coastsat\\SDS_preprocess.py:607: PendingDeprecationWarning: The set_tight_layout function will be deprecated in a future version. Use set_layout_engine instead.\n",
      "  fig.set_tight_layout(True)\n"
     ]
    },
    {
     "name": "stdout",
     "output_type": "stream",
     "text": [
      "32%"
     ]
    },
    {
     "name": "stderr",
     "output_type": "stream",
     "text": [
      "c:\\Users\\mp222\\OneDrive - Imperial College London\\IslandTimeGitHub\\IslandTime\\coastsatmaster\\coastsat\\SDS_preprocess.py:607: PendingDeprecationWarning: The set_tight_layout function will be deprecated in a future version. Use set_layout_engine instead.\n",
      "  fig.set_tight_layout(True)\n"
     ]
    },
    {
     "name": "stdout",
     "output_type": "stream",
     "text": [
      "34%"
     ]
    },
    {
     "name": "stderr",
     "output_type": "stream",
     "text": [
      "c:\\Users\\mp222\\OneDrive - Imperial College London\\IslandTimeGitHub\\IslandTime\\coastsatmaster\\coastsat\\SDS_preprocess.py:607: PendingDeprecationWarning: The set_tight_layout function will be deprecated in a future version. Use set_layout_engine instead.\n",
      "  fig.set_tight_layout(True)\n"
     ]
    },
    {
     "name": "stdout",
     "output_type": "stream",
     "text": [
      "35%"
     ]
    },
    {
     "name": "stderr",
     "output_type": "stream",
     "text": [
      "c:\\Users\\mp222\\OneDrive - Imperial College London\\IslandTimeGitHub\\IslandTime\\coastsatmaster\\coastsat\\SDS_preprocess.py:607: PendingDeprecationWarning: The set_tight_layout function will be deprecated in a future version. Use set_layout_engine instead.\n",
      "  fig.set_tight_layout(True)\n"
     ]
    },
    {
     "name": "stdout",
     "output_type": "stream",
     "text": [
      "37%"
     ]
    },
    {
     "name": "stderr",
     "output_type": "stream",
     "text": [
      "c:\\Users\\mp222\\OneDrive - Imperial College London\\IslandTimeGitHub\\IslandTime\\coastsatmaster\\coastsat\\SDS_preprocess.py:607: PendingDeprecationWarning: The set_tight_layout function will be deprecated in a future version. Use set_layout_engine instead.\n",
      "  fig.set_tight_layout(True)\n"
     ]
    },
    {
     "name": "stdout",
     "output_type": "stream",
     "text": [
      "38%"
     ]
    },
    {
     "name": "stderr",
     "output_type": "stream",
     "text": [
      "c:\\Users\\mp222\\OneDrive - Imperial College London\\IslandTimeGitHub\\IslandTime\\coastsatmaster\\coastsat\\SDS_preprocess.py:607: PendingDeprecationWarning: The set_tight_layout function will be deprecated in a future version. Use set_layout_engine instead.\n",
      "  fig.set_tight_layout(True)\n"
     ]
    },
    {
     "name": "stdout",
     "output_type": "stream",
     "text": [
      "39%"
     ]
    },
    {
     "name": "stderr",
     "output_type": "stream",
     "text": [
      "c:\\Users\\mp222\\OneDrive - Imperial College London\\IslandTimeGitHub\\IslandTime\\coastsatmaster\\coastsat\\SDS_preprocess.py:607: PendingDeprecationWarning: The set_tight_layout function will be deprecated in a future version. Use set_layout_engine instead.\n",
      "  fig.set_tight_layout(True)\n"
     ]
    },
    {
     "name": "stdout",
     "output_type": "stream",
     "text": [
      "40%"
     ]
    },
    {
     "name": "stderr",
     "output_type": "stream",
     "text": [
      "c:\\Users\\mp222\\OneDrive - Imperial College London\\IslandTimeGitHub\\IslandTime\\coastsatmaster\\coastsat\\SDS_preprocess.py:607: PendingDeprecationWarning: The set_tight_layout function will be deprecated in a future version. Use set_layout_engine instead.\n",
      "  fig.set_tight_layout(True)\n"
     ]
    },
    {
     "name": "stdout",
     "output_type": "stream",
     "text": [
      "41%"
     ]
    },
    {
     "name": "stderr",
     "output_type": "stream",
     "text": [
      "c:\\Users\\mp222\\OneDrive - Imperial College London\\IslandTimeGitHub\\IslandTime\\coastsatmaster\\coastsat\\SDS_preprocess.py:607: PendingDeprecationWarning: The set_tight_layout function will be deprecated in a future version. Use set_layout_engine instead.\n",
      "  fig.set_tight_layout(True)\n"
     ]
    },
    {
     "name": "stdout",
     "output_type": "stream",
     "text": [
      "42%"
     ]
    },
    {
     "name": "stderr",
     "output_type": "stream",
     "text": [
      "c:\\Users\\mp222\\OneDrive - Imperial College London\\IslandTimeGitHub\\IslandTime\\coastsatmaster\\coastsat\\SDS_preprocess.py:607: PendingDeprecationWarning: The set_tight_layout function will be deprecated in a future version. Use set_layout_engine instead.\n",
      "  fig.set_tight_layout(True)\n"
     ]
    },
    {
     "name": "stdout",
     "output_type": "stream",
     "text": [
      "43%"
     ]
    },
    {
     "name": "stderr",
     "output_type": "stream",
     "text": [
      "c:\\Users\\mp222\\OneDrive - Imperial College London\\IslandTimeGitHub\\IslandTime\\coastsatmaster\\coastsat\\SDS_preprocess.py:607: PendingDeprecationWarning: The set_tight_layout function will be deprecated in a future version. Use set_layout_engine instead.\n",
      "  fig.set_tight_layout(True)\n"
     ]
    },
    {
     "name": "stdout",
     "output_type": "stream",
     "text": [
      "44%"
     ]
    },
    {
     "name": "stderr",
     "output_type": "stream",
     "text": [
      "c:\\Users\\mp222\\OneDrive - Imperial College London\\IslandTimeGitHub\\IslandTime\\coastsatmaster\\coastsat\\SDS_preprocess.py:607: PendingDeprecationWarning: The set_tight_layout function will be deprecated in a future version. Use set_layout_engine instead.\n",
      "  fig.set_tight_layout(True)\n"
     ]
    },
    {
     "name": "stdout",
     "output_type": "stream",
     "text": [
      "45%"
     ]
    },
    {
     "name": "stderr",
     "output_type": "stream",
     "text": [
      "c:\\Users\\mp222\\OneDrive - Imperial College London\\IslandTimeGitHub\\IslandTime\\coastsatmaster\\coastsat\\SDS_preprocess.py:607: PendingDeprecationWarning: The set_tight_layout function will be deprecated in a future version. Use set_layout_engine instead.\n",
      "  fig.set_tight_layout(True)\n"
     ]
    },
    {
     "name": "stdout",
     "output_type": "stream",
     "text": [
      "46%"
     ]
    },
    {
     "name": "stderr",
     "output_type": "stream",
     "text": [
      "c:\\Users\\mp222\\OneDrive - Imperial College London\\IslandTimeGitHub\\IslandTime\\coastsatmaster\\coastsat\\SDS_preprocess.py:607: PendingDeprecationWarning: The set_tight_layout function will be deprecated in a future version. Use set_layout_engine instead.\n",
      "  fig.set_tight_layout(True)\n"
     ]
    },
    {
     "name": "stdout",
     "output_type": "stream",
     "text": [
      "47%"
     ]
    },
    {
     "name": "stderr",
     "output_type": "stream",
     "text": [
      "c:\\Users\\mp222\\OneDrive - Imperial College London\\IslandTimeGitHub\\IslandTime\\coastsatmaster\\coastsat\\SDS_preprocess.py:607: PendingDeprecationWarning: The set_tight_layout function will be deprecated in a future version. Use set_layout_engine instead.\n",
      "  fig.set_tight_layout(True)\n"
     ]
    },
    {
     "name": "stdout",
     "output_type": "stream",
     "text": [
      "48%"
     ]
    },
    {
     "name": "stderr",
     "output_type": "stream",
     "text": [
      "c:\\Users\\mp222\\OneDrive - Imperial College London\\IslandTimeGitHub\\IslandTime\\coastsatmaster\\coastsat\\SDS_preprocess.py:607: PendingDeprecationWarning: The set_tight_layout function will be deprecated in a future version. Use set_layout_engine instead.\n",
      "  fig.set_tight_layout(True)\n"
     ]
    },
    {
     "name": "stdout",
     "output_type": "stream",
     "text": [
      "50%"
     ]
    },
    {
     "name": "stderr",
     "output_type": "stream",
     "text": [
      "c:\\Users\\mp222\\OneDrive - Imperial College London\\IslandTimeGitHub\\IslandTime\\coastsatmaster\\coastsat\\SDS_preprocess.py:607: PendingDeprecationWarning: The set_tight_layout function will be deprecated in a future version. Use set_layout_engine instead.\n",
      "  fig.set_tight_layout(True)\n"
     ]
    },
    {
     "name": "stdout",
     "output_type": "stream",
     "text": [
      "51%"
     ]
    },
    {
     "name": "stderr",
     "output_type": "stream",
     "text": [
      "c:\\Users\\mp222\\OneDrive - Imperial College London\\IslandTimeGitHub\\IslandTime\\coastsatmaster\\coastsat\\SDS_preprocess.py:607: PendingDeprecationWarning: The set_tight_layout function will be deprecated in a future version. Use set_layout_engine instead.\n",
      "  fig.set_tight_layout(True)\n"
     ]
    },
    {
     "name": "stdout",
     "output_type": "stream",
     "text": [
      "52%"
     ]
    },
    {
     "name": "stderr",
     "output_type": "stream",
     "text": [
      "c:\\Users\\mp222\\OneDrive - Imperial College London\\IslandTimeGitHub\\IslandTime\\coastsatmaster\\coastsat\\SDS_preprocess.py:607: PendingDeprecationWarning: The set_tight_layout function will be deprecated in a future version. Use set_layout_engine instead.\n",
      "  fig.set_tight_layout(True)\n"
     ]
    },
    {
     "name": "stdout",
     "output_type": "stream",
     "text": [
      "53%"
     ]
    },
    {
     "name": "stderr",
     "output_type": "stream",
     "text": [
      "c:\\Users\\mp222\\OneDrive - Imperial College London\\IslandTimeGitHub\\IslandTime\\coastsatmaster\\coastsat\\SDS_preprocess.py:607: PendingDeprecationWarning: The set_tight_layout function will be deprecated in a future version. Use set_layout_engine instead.\n",
      "  fig.set_tight_layout(True)\n"
     ]
    },
    {
     "name": "stdout",
     "output_type": "stream",
     "text": [
      "54%"
     ]
    },
    {
     "name": "stderr",
     "output_type": "stream",
     "text": [
      "c:\\Users\\mp222\\OneDrive - Imperial College London\\IslandTimeGitHub\\IslandTime\\coastsatmaster\\coastsat\\SDS_preprocess.py:607: PendingDeprecationWarning: The set_tight_layout function will be deprecated in a future version. Use set_layout_engine instead.\n",
      "  fig.set_tight_layout(True)\n"
     ]
    },
    {
     "name": "stdout",
     "output_type": "stream",
     "text": [
      "55%"
     ]
    },
    {
     "name": "stderr",
     "output_type": "stream",
     "text": [
      "c:\\Users\\mp222\\OneDrive - Imperial College London\\IslandTimeGitHub\\IslandTime\\coastsatmaster\\coastsat\\SDS_preprocess.py:607: PendingDeprecationWarning: The set_tight_layout function will be deprecated in a future version. Use set_layout_engine instead.\n",
      "  fig.set_tight_layout(True)\n"
     ]
    },
    {
     "name": "stdout",
     "output_type": "stream",
     "text": [
      "56%"
     ]
    },
    {
     "name": "stderr",
     "output_type": "stream",
     "text": [
      "c:\\Users\\mp222\\OneDrive - Imperial College London\\IslandTimeGitHub\\IslandTime\\coastsatmaster\\coastsat\\SDS_preprocess.py:607: PendingDeprecationWarning: The set_tight_layout function will be deprecated in a future version. Use set_layout_engine instead.\n",
      "  fig.set_tight_layout(True)\n"
     ]
    },
    {
     "name": "stdout",
     "output_type": "stream",
     "text": [
      "57%"
     ]
    },
    {
     "name": "stderr",
     "output_type": "stream",
     "text": [
      "c:\\Users\\mp222\\OneDrive - Imperial College London\\IslandTimeGitHub\\IslandTime\\coastsatmaster\\coastsat\\SDS_preprocess.py:607: PendingDeprecationWarning: The set_tight_layout function will be deprecated in a future version. Use set_layout_engine instead.\n",
      "  fig.set_tight_layout(True)\n"
     ]
    },
    {
     "name": "stdout",
     "output_type": "stream",
     "text": [
      "58%"
     ]
    },
    {
     "name": "stderr",
     "output_type": "stream",
     "text": [
      "c:\\Users\\mp222\\OneDrive - Imperial College London\\IslandTimeGitHub\\IslandTime\\coastsatmaster\\coastsat\\SDS_preprocess.py:607: PendingDeprecationWarning: The set_tight_layout function will be deprecated in a future version. Use set_layout_engine instead.\n",
      "  fig.set_tight_layout(True)\n"
     ]
    },
    {
     "name": "stdout",
     "output_type": "stream",
     "text": [
      "59%"
     ]
    },
    {
     "name": "stderr",
     "output_type": "stream",
     "text": [
      "c:\\Users\\mp222\\OneDrive - Imperial College London\\IslandTimeGitHub\\IslandTime\\coastsatmaster\\coastsat\\SDS_preprocess.py:607: PendingDeprecationWarning: The set_tight_layout function will be deprecated in a future version. Use set_layout_engine instead.\n",
      "  fig.set_tight_layout(True)\n"
     ]
    },
    {
     "name": "stdout",
     "output_type": "stream",
     "text": [
      "60%"
     ]
    },
    {
     "name": "stderr",
     "output_type": "stream",
     "text": [
      "c:\\Users\\mp222\\OneDrive - Imperial College London\\IslandTimeGitHub\\IslandTime\\coastsatmaster\\coastsat\\SDS_preprocess.py:607: PendingDeprecationWarning: The set_tight_layout function will be deprecated in a future version. Use set_layout_engine instead.\n",
      "  fig.set_tight_layout(True)\n"
     ]
    },
    {
     "name": "stdout",
     "output_type": "stream",
     "text": [
      "61%"
     ]
    },
    {
     "name": "stderr",
     "output_type": "stream",
     "text": [
      "c:\\Users\\mp222\\OneDrive - Imperial College London\\IslandTimeGitHub\\IslandTime\\coastsatmaster\\coastsat\\SDS_preprocess.py:607: PendingDeprecationWarning: The set_tight_layout function will be deprecated in a future version. Use set_layout_engine instead.\n",
      "  fig.set_tight_layout(True)\n"
     ]
    },
    {
     "name": "stdout",
     "output_type": "stream",
     "text": [
      "62%"
     ]
    },
    {
     "name": "stderr",
     "output_type": "stream",
     "text": [
      "c:\\Users\\mp222\\OneDrive - Imperial College London\\IslandTimeGitHub\\IslandTime\\coastsatmaster\\coastsat\\SDS_preprocess.py:607: PendingDeprecationWarning: The set_tight_layout function will be deprecated in a future version. Use set_layout_engine instead.\n",
      "  fig.set_tight_layout(True)\n"
     ]
    },
    {
     "name": "stdout",
     "output_type": "stream",
     "text": [
      "62%"
     ]
    },
    {
     "name": "stderr",
     "output_type": "stream",
     "text": [
      "c:\\Users\\mp222\\OneDrive - Imperial College London\\IslandTimeGitHub\\IslandTime\\coastsatmaster\\coastsat\\SDS_preprocess.py:607: PendingDeprecationWarning: The set_tight_layout function will be deprecated in a future version. Use set_layout_engine instead.\n",
      "  fig.set_tight_layout(True)\n"
     ]
    },
    {
     "name": "stdout",
     "output_type": "stream",
     "text": [
      "64%"
     ]
    },
    {
     "name": "stderr",
     "output_type": "stream",
     "text": [
      "c:\\Users\\mp222\\OneDrive - Imperial College London\\IslandTimeGitHub\\IslandTime\\coastsatmaster\\coastsat\\SDS_preprocess.py:607: PendingDeprecationWarning: The set_tight_layout function will be deprecated in a future version. Use set_layout_engine instead.\n",
      "  fig.set_tight_layout(True)\n"
     ]
    },
    {
     "name": "stdout",
     "output_type": "stream",
     "text": [
      "66%"
     ]
    },
    {
     "name": "stderr",
     "output_type": "stream",
     "text": [
      "c:\\Users\\mp222\\OneDrive - Imperial College London\\IslandTimeGitHub\\IslandTime\\coastsatmaster\\coastsat\\SDS_preprocess.py:607: PendingDeprecationWarning: The set_tight_layout function will be deprecated in a future version. Use set_layout_engine instead.\n",
      "  fig.set_tight_layout(True)\n"
     ]
    },
    {
     "name": "stdout",
     "output_type": "stream",
     "text": [
      "67%"
     ]
    },
    {
     "name": "stderr",
     "output_type": "stream",
     "text": [
      "c:\\Users\\mp222\\OneDrive - Imperial College London\\IslandTimeGitHub\\IslandTime\\coastsatmaster\\coastsat\\SDS_preprocess.py:607: PendingDeprecationWarning: The set_tight_layout function will be deprecated in a future version. Use set_layout_engine instead.\n",
      "  fig.set_tight_layout(True)\n"
     ]
    },
    {
     "name": "stdout",
     "output_type": "stream",
     "text": [
      "68%"
     ]
    },
    {
     "name": "stderr",
     "output_type": "stream",
     "text": [
      "c:\\Users\\mp222\\OneDrive - Imperial College London\\IslandTimeGitHub\\IslandTime\\coastsatmaster\\coastsat\\SDS_preprocess.py:607: PendingDeprecationWarning: The set_tight_layout function will be deprecated in a future version. Use set_layout_engine instead.\n",
      "  fig.set_tight_layout(True)\n"
     ]
    },
    {
     "name": "stdout",
     "output_type": "stream",
     "text": [
      "69%"
     ]
    },
    {
     "name": "stderr",
     "output_type": "stream",
     "text": [
      "c:\\Users\\mp222\\OneDrive - Imperial College London\\IslandTimeGitHub\\IslandTime\\coastsatmaster\\coastsat\\SDS_preprocess.py:607: PendingDeprecationWarning: The set_tight_layout function will be deprecated in a future version. Use set_layout_engine instead.\n",
      "  fig.set_tight_layout(True)\n"
     ]
    },
    {
     "name": "stdout",
     "output_type": "stream",
     "text": [
      "70%"
     ]
    },
    {
     "name": "stderr",
     "output_type": "stream",
     "text": [
      "c:\\Users\\mp222\\OneDrive - Imperial College London\\IslandTimeGitHub\\IslandTime\\coastsatmaster\\coastsat\\SDS_preprocess.py:607: PendingDeprecationWarning: The set_tight_layout function will be deprecated in a future version. Use set_layout_engine instead.\n",
      "  fig.set_tight_layout(True)\n"
     ]
    },
    {
     "name": "stdout",
     "output_type": "stream",
     "text": [
      "72%"
     ]
    },
    {
     "name": "stderr",
     "output_type": "stream",
     "text": [
      "c:\\Users\\mp222\\OneDrive - Imperial College London\\IslandTimeGitHub\\IslandTime\\coastsatmaster\\coastsat\\SDS_preprocess.py:607: PendingDeprecationWarning: The set_tight_layout function will be deprecated in a future version. Use set_layout_engine instead.\n",
      "  fig.set_tight_layout(True)\n"
     ]
    },
    {
     "name": "stdout",
     "output_type": "stream",
     "text": [
      "75%"
     ]
    },
    {
     "name": "stderr",
     "output_type": "stream",
     "text": [
      "c:\\Users\\mp222\\OneDrive - Imperial College London\\IslandTimeGitHub\\IslandTime\\coastsatmaster\\coastsat\\SDS_preprocess.py:607: PendingDeprecationWarning: The set_tight_layout function will be deprecated in a future version. Use set_layout_engine instead.\n",
      "  fig.set_tight_layout(True)\n"
     ]
    },
    {
     "name": "stdout",
     "output_type": "stream",
     "text": [
      "75%"
     ]
    },
    {
     "name": "stderr",
     "output_type": "stream",
     "text": [
      "c:\\Users\\mp222\\OneDrive - Imperial College London\\IslandTimeGitHub\\IslandTime\\coastsatmaster\\coastsat\\SDS_preprocess.py:607: PendingDeprecationWarning: The set_tight_layout function will be deprecated in a future version. Use set_layout_engine instead.\n",
      "  fig.set_tight_layout(True)\n"
     ]
    },
    {
     "name": "stdout",
     "output_type": "stream",
     "text": [
      "76%"
     ]
    },
    {
     "name": "stderr",
     "output_type": "stream",
     "text": [
      "c:\\Users\\mp222\\OneDrive - Imperial College London\\IslandTimeGitHub\\IslandTime\\coastsatmaster\\coastsat\\SDS_preprocess.py:607: PendingDeprecationWarning: The set_tight_layout function will be deprecated in a future version. Use set_layout_engine instead.\n",
      "  fig.set_tight_layout(True)\n"
     ]
    },
    {
     "name": "stdout",
     "output_type": "stream",
     "text": [
      "78%"
     ]
    },
    {
     "name": "stderr",
     "output_type": "stream",
     "text": [
      "c:\\Users\\mp222\\OneDrive - Imperial College London\\IslandTimeGitHub\\IslandTime\\coastsatmaster\\coastsat\\SDS_preprocess.py:607: PendingDeprecationWarning: The set_tight_layout function will be deprecated in a future version. Use set_layout_engine instead.\n",
      "  fig.set_tight_layout(True)\n"
     ]
    },
    {
     "name": "stdout",
     "output_type": "stream",
     "text": [
      "79%"
     ]
    },
    {
     "name": "stderr",
     "output_type": "stream",
     "text": [
      "c:\\Users\\mp222\\OneDrive - Imperial College London\\IslandTimeGitHub\\IslandTime\\coastsatmaster\\coastsat\\SDS_preprocess.py:607: PendingDeprecationWarning: The set_tight_layout function will be deprecated in a future version. Use set_layout_engine instead.\n",
      "  fig.set_tight_layout(True)\n"
     ]
    },
    {
     "name": "stdout",
     "output_type": "stream",
     "text": [
      "80%"
     ]
    },
    {
     "name": "stderr",
     "output_type": "stream",
     "text": [
      "c:\\Users\\mp222\\OneDrive - Imperial College London\\IslandTimeGitHub\\IslandTime\\coastsatmaster\\coastsat\\SDS_preprocess.py:607: PendingDeprecationWarning: The set_tight_layout function will be deprecated in a future version. Use set_layout_engine instead.\n",
      "  fig.set_tight_layout(True)\n"
     ]
    },
    {
     "name": "stdout",
     "output_type": "stream",
     "text": [
      "81%"
     ]
    },
    {
     "name": "stderr",
     "output_type": "stream",
     "text": [
      "c:\\Users\\mp222\\OneDrive - Imperial College London\\IslandTimeGitHub\\IslandTime\\coastsatmaster\\coastsat\\SDS_preprocess.py:607: PendingDeprecationWarning: The set_tight_layout function will be deprecated in a future version. Use set_layout_engine instead.\n",
      "  fig.set_tight_layout(True)\n"
     ]
    },
    {
     "name": "stdout",
     "output_type": "stream",
     "text": [
      "84%"
     ]
    },
    {
     "name": "stderr",
     "output_type": "stream",
     "text": [
      "c:\\Users\\mp222\\OneDrive - Imperial College London\\IslandTimeGitHub\\IslandTime\\coastsatmaster\\coastsat\\SDS_preprocess.py:607: PendingDeprecationWarning: The set_tight_layout function will be deprecated in a future version. Use set_layout_engine instead.\n",
      "  fig.set_tight_layout(True)\n"
     ]
    },
    {
     "name": "stdout",
     "output_type": "stream",
     "text": [
      "85%"
     ]
    },
    {
     "name": "stderr",
     "output_type": "stream",
     "text": [
      "c:\\Users\\mp222\\OneDrive - Imperial College London\\IslandTimeGitHub\\IslandTime\\coastsatmaster\\coastsat\\SDS_preprocess.py:607: PendingDeprecationWarning: The set_tight_layout function will be deprecated in a future version. Use set_layout_engine instead.\n",
      "  fig.set_tight_layout(True)\n"
     ]
    },
    {
     "name": "stdout",
     "output_type": "stream",
     "text": [
      "86%"
     ]
    },
    {
     "name": "stderr",
     "output_type": "stream",
     "text": [
      "c:\\Users\\mp222\\OneDrive - Imperial College London\\IslandTimeGitHub\\IslandTime\\coastsatmaster\\coastsat\\SDS_preprocess.py:607: PendingDeprecationWarning: The set_tight_layout function will be deprecated in a future version. Use set_layout_engine instead.\n",
      "  fig.set_tight_layout(True)\n"
     ]
    },
    {
     "name": "stdout",
     "output_type": "stream",
     "text": [
      "87%"
     ]
    },
    {
     "name": "stderr",
     "output_type": "stream",
     "text": [
      "c:\\Users\\mp222\\OneDrive - Imperial College London\\IslandTimeGitHub\\IslandTime\\coastsatmaster\\coastsat\\SDS_preprocess.py:607: PendingDeprecationWarning: The set_tight_layout function will be deprecated in a future version. Use set_layout_engine instead.\n",
      "  fig.set_tight_layout(True)\n"
     ]
    },
    {
     "name": "stdout",
     "output_type": "stream",
     "text": [
      "87%"
     ]
    },
    {
     "name": "stderr",
     "output_type": "stream",
     "text": [
      "c:\\Users\\mp222\\OneDrive - Imperial College London\\IslandTimeGitHub\\IslandTime\\coastsatmaster\\coastsat\\SDS_preprocess.py:607: PendingDeprecationWarning: The set_tight_layout function will be deprecated in a future version. Use set_layout_engine instead.\n",
      "  fig.set_tight_layout(True)\n"
     ]
    },
    {
     "name": "stdout",
     "output_type": "stream",
     "text": [
      "88%"
     ]
    },
    {
     "name": "stderr",
     "output_type": "stream",
     "text": [
      "c:\\Users\\mp222\\OneDrive - Imperial College London\\IslandTimeGitHub\\IslandTime\\coastsatmaster\\coastsat\\SDS_preprocess.py:607: PendingDeprecationWarning: The set_tight_layout function will be deprecated in a future version. Use set_layout_engine instead.\n",
      "  fig.set_tight_layout(True)\n"
     ]
    },
    {
     "name": "stdout",
     "output_type": "stream",
     "text": [
      "90%"
     ]
    },
    {
     "name": "stderr",
     "output_type": "stream",
     "text": [
      "c:\\Users\\mp222\\OneDrive - Imperial College London\\IslandTimeGitHub\\IslandTime\\coastsatmaster\\coastsat\\SDS_preprocess.py:607: PendingDeprecationWarning: The set_tight_layout function will be deprecated in a future version. Use set_layout_engine instead.\n",
      "  fig.set_tight_layout(True)\n"
     ]
    },
    {
     "name": "stdout",
     "output_type": "stream",
     "text": [
      "92%"
     ]
    },
    {
     "name": "stderr",
     "output_type": "stream",
     "text": [
      "c:\\Users\\mp222\\OneDrive - Imperial College London\\IslandTimeGitHub\\IslandTime\\coastsatmaster\\coastsat\\SDS_preprocess.py:607: PendingDeprecationWarning: The set_tight_layout function will be deprecated in a future version. Use set_layout_engine instead.\n",
      "  fig.set_tight_layout(True)\n"
     ]
    },
    {
     "name": "stdout",
     "output_type": "stream",
     "text": [
      "93%"
     ]
    },
    {
     "name": "stderr",
     "output_type": "stream",
     "text": [
      "c:\\Users\\mp222\\OneDrive - Imperial College London\\IslandTimeGitHub\\IslandTime\\coastsatmaster\\coastsat\\SDS_preprocess.py:607: PendingDeprecationWarning: The set_tight_layout function will be deprecated in a future version. Use set_layout_engine instead.\n",
      "  fig.set_tight_layout(True)\n"
     ]
    },
    {
     "name": "stdout",
     "output_type": "stream",
     "text": [
      "94%"
     ]
    },
    {
     "name": "stderr",
     "output_type": "stream",
     "text": [
      "c:\\Users\\mp222\\OneDrive - Imperial College London\\IslandTimeGitHub\\IslandTime\\coastsatmaster\\coastsat\\SDS_preprocess.py:607: PendingDeprecationWarning: The set_tight_layout function will be deprecated in a future version. Use set_layout_engine instead.\n",
      "  fig.set_tight_layout(True)\n"
     ]
    },
    {
     "name": "stdout",
     "output_type": "stream",
     "text": [
      "95%"
     ]
    },
    {
     "name": "stderr",
     "output_type": "stream",
     "text": [
      "c:\\Users\\mp222\\OneDrive - Imperial College London\\IslandTimeGitHub\\IslandTime\\coastsatmaster\\coastsat\\SDS_preprocess.py:607: PendingDeprecationWarning: The set_tight_layout function will be deprecated in a future version. Use set_layout_engine instead.\n",
      "  fig.set_tight_layout(True)\n"
     ]
    },
    {
     "name": "stdout",
     "output_type": "stream",
     "text": [
      "96%"
     ]
    },
    {
     "name": "stderr",
     "output_type": "stream",
     "text": [
      "c:\\Users\\mp222\\OneDrive - Imperial College London\\IslandTimeGitHub\\IslandTime\\coastsatmaster\\coastsat\\SDS_preprocess.py:607: PendingDeprecationWarning: The set_tight_layout function will be deprecated in a future version. Use set_layout_engine instead.\n",
      "  fig.set_tight_layout(True)\n"
     ]
    },
    {
     "name": "stdout",
     "output_type": "stream",
     "text": [
      "97%"
     ]
    },
    {
     "name": "stderr",
     "output_type": "stream",
     "text": [
      "c:\\Users\\mp222\\OneDrive - Imperial College London\\IslandTimeGitHub\\IslandTime\\coastsatmaster\\coastsat\\SDS_preprocess.py:607: PendingDeprecationWarning: The set_tight_layout function will be deprecated in a future version. Use set_layout_engine instead.\n",
      "  fig.set_tight_layout(True)\n"
     ]
    },
    {
     "name": "stdout",
     "output_type": "stream",
     "text": [
      "98%"
     ]
    },
    {
     "name": "stderr",
     "output_type": "stream",
     "text": [
      "c:\\Users\\mp222\\OneDrive - Imperial College London\\IslandTimeGitHub\\IslandTime\\coastsatmaster\\coastsat\\SDS_preprocess.py:607: PendingDeprecationWarning: The set_tight_layout function will be deprecated in a future version. Use set_layout_engine instead.\n",
      "  fig.set_tight_layout(True)\n"
     ]
    },
    {
     "name": "stdout",
     "output_type": "stream",
     "text": [
      "99%"
     ]
    },
    {
     "name": "stderr",
     "output_type": "stream",
     "text": [
      "c:\\Users\\mp222\\OneDrive - Imperial College London\\IslandTimeGitHub\\IslandTime\\coastsatmaster\\coastsat\\SDS_preprocess.py:607: PendingDeprecationWarning: The set_tight_layout function will be deprecated in a future version. Use set_layout_engine instead.\n",
      "  fig.set_tight_layout(True)\n"
     ]
    },
    {
     "name": "stdout",
     "output_type": "stream",
     "text": [
      "100%\n",
      "L9: 8 images\n",
      "12%"
     ]
    },
    {
     "name": "stderr",
     "output_type": "stream",
     "text": [
      "c:\\Users\\mp222\\OneDrive - Imperial College London\\IslandTimeGitHub\\IslandTime\\coastsatmaster\\coastsat\\SDS_preprocess.py:607: PendingDeprecationWarning: The set_tight_layout function will be deprecated in a future version. Use set_layout_engine instead.\n",
      "  fig.set_tight_layout(True)\n"
     ]
    },
    {
     "name": "stdout",
     "output_type": "stream",
     "text": [
      "25%"
     ]
    },
    {
     "name": "stderr",
     "output_type": "stream",
     "text": [
      "c:\\Users\\mp222\\OneDrive - Imperial College London\\IslandTimeGitHub\\IslandTime\\coastsatmaster\\coastsat\\SDS_preprocess.py:607: PendingDeprecationWarning: The set_tight_layout function will be deprecated in a future version. Use set_layout_engine instead.\n",
      "  fig.set_tight_layout(True)\n"
     ]
    },
    {
     "name": "stdout",
     "output_type": "stream",
     "text": [
      "37%"
     ]
    },
    {
     "name": "stderr",
     "output_type": "stream",
     "text": [
      "c:\\Users\\mp222\\OneDrive - Imperial College London\\IslandTimeGitHub\\IslandTime\\coastsatmaster\\coastsat\\SDS_preprocess.py:607: PendingDeprecationWarning: The set_tight_layout function will be deprecated in a future version. Use set_layout_engine instead.\n",
      "  fig.set_tight_layout(True)\n"
     ]
    },
    {
     "name": "stdout",
     "output_type": "stream",
     "text": [
      "50%"
     ]
    },
    {
     "name": "stderr",
     "output_type": "stream",
     "text": [
      "c:\\Users\\mp222\\OneDrive - Imperial College London\\IslandTimeGitHub\\IslandTime\\coastsatmaster\\coastsat\\SDS_preprocess.py:607: PendingDeprecationWarning: The set_tight_layout function will be deprecated in a future version. Use set_layout_engine instead.\n",
      "  fig.set_tight_layout(True)\n"
     ]
    },
    {
     "name": "stdout",
     "output_type": "stream",
     "text": [
      "62%"
     ]
    },
    {
     "name": "stderr",
     "output_type": "stream",
     "text": [
      "c:\\Users\\mp222\\OneDrive - Imperial College London\\IslandTimeGitHub\\IslandTime\\coastsatmaster\\coastsat\\SDS_preprocess.py:607: PendingDeprecationWarning: The set_tight_layout function will be deprecated in a future version. Use set_layout_engine instead.\n",
      "  fig.set_tight_layout(True)\n"
     ]
    },
    {
     "name": "stdout",
     "output_type": "stream",
     "text": [
      "75%"
     ]
    },
    {
     "name": "stderr",
     "output_type": "stream",
     "text": [
      "c:\\Users\\mp222\\OneDrive - Imperial College London\\IslandTimeGitHub\\IslandTime\\coastsatmaster\\coastsat\\SDS_preprocess.py:607: PendingDeprecationWarning: The set_tight_layout function will be deprecated in a future version. Use set_layout_engine instead.\n",
      "  fig.set_tight_layout(True)\n"
     ]
    },
    {
     "name": "stdout",
     "output_type": "stream",
     "text": [
      "87%"
     ]
    },
    {
     "name": "stderr",
     "output_type": "stream",
     "text": [
      "c:\\Users\\mp222\\OneDrive - Imperial College London\\IslandTimeGitHub\\IslandTime\\coastsatmaster\\coastsat\\SDS_preprocess.py:607: PendingDeprecationWarning: The set_tight_layout function will be deprecated in a future version. Use set_layout_engine instead.\n",
      "  fig.set_tight_layout(True)\n"
     ]
    },
    {
     "name": "stdout",
     "output_type": "stream",
     "text": [
      "100%\n",
      "S2: 411 images\n",
      "0%"
     ]
    },
    {
     "name": "stderr",
     "output_type": "stream",
     "text": [
      "c:\\Users\\mp222\\OneDrive - Imperial College London\\IslandTimeGitHub\\IslandTime\\coastsatmaster\\coastsat\\SDS_preprocess.py:607: PendingDeprecationWarning: The set_tight_layout function will be deprecated in a future version. Use set_layout_engine instead.\n",
      "  fig.set_tight_layout(True)\n"
     ]
    },
    {
     "name": "stdout",
     "output_type": "stream",
     "text": [
      "1%"
     ]
    },
    {
     "name": "stderr",
     "output_type": "stream",
     "text": [
      "c:\\Users\\mp222\\OneDrive - Imperial College London\\IslandTimeGitHub\\IslandTime\\coastsatmaster\\coastsat\\SDS_preprocess.py:607: PendingDeprecationWarning: The set_tight_layout function will be deprecated in a future version. Use set_layout_engine instead.\n",
      "  fig.set_tight_layout(True)\n"
     ]
    },
    {
     "name": "stdout",
     "output_type": "stream",
     "text": [
      "1%"
     ]
    },
    {
     "name": "stderr",
     "output_type": "stream",
     "text": [
      "c:\\Users\\mp222\\OneDrive - Imperial College London\\IslandTimeGitHub\\IslandTime\\coastsatmaster\\coastsat\\SDS_preprocess.py:607: PendingDeprecationWarning: The set_tight_layout function will be deprecated in a future version. Use set_layout_engine instead.\n",
      "  fig.set_tight_layout(True)\n"
     ]
    },
    {
     "name": "stdout",
     "output_type": "stream",
     "text": [
      "1%"
     ]
    },
    {
     "name": "stderr",
     "output_type": "stream",
     "text": [
      "c:\\Users\\mp222\\OneDrive - Imperial College London\\IslandTimeGitHub\\IslandTime\\coastsatmaster\\coastsat\\SDS_preprocess.py:607: PendingDeprecationWarning: The set_tight_layout function will be deprecated in a future version. Use set_layout_engine instead.\n",
      "  fig.set_tight_layout(True)\n"
     ]
    },
    {
     "name": "stdout",
     "output_type": "stream",
     "text": [
      "1%"
     ]
    },
    {
     "name": "stderr",
     "output_type": "stream",
     "text": [
      "c:\\Users\\mp222\\OneDrive - Imperial College London\\IslandTimeGitHub\\IslandTime\\coastsatmaster\\coastsat\\SDS_preprocess.py:607: PendingDeprecationWarning: The set_tight_layout function will be deprecated in a future version. Use set_layout_engine instead.\n",
      "  fig.set_tight_layout(True)\n"
     ]
    },
    {
     "name": "stdout",
     "output_type": "stream",
     "text": [
      "2%"
     ]
    },
    {
     "name": "stderr",
     "output_type": "stream",
     "text": [
      "c:\\Users\\mp222\\OneDrive - Imperial College London\\IslandTimeGitHub\\IslandTime\\coastsatmaster\\coastsat\\SDS_preprocess.py:607: PendingDeprecationWarning: The set_tight_layout function will be deprecated in a future version. Use set_layout_engine instead.\n",
      "  fig.set_tight_layout(True)\n"
     ]
    },
    {
     "name": "stdout",
     "output_type": "stream",
     "text": [
      "2%"
     ]
    },
    {
     "name": "stderr",
     "output_type": "stream",
     "text": [
      "c:\\Users\\mp222\\OneDrive - Imperial College London\\IslandTimeGitHub\\IslandTime\\coastsatmaster\\coastsat\\SDS_preprocess.py:607: PendingDeprecationWarning: The set_tight_layout function will be deprecated in a future version. Use set_layout_engine instead.\n",
      "  fig.set_tight_layout(True)\n"
     ]
    },
    {
     "name": "stdout",
     "output_type": "stream",
     "text": [
      "2%"
     ]
    },
    {
     "name": "stderr",
     "output_type": "stream",
     "text": [
      "c:\\Users\\mp222\\OneDrive - Imperial College London\\IslandTimeGitHub\\IslandTime\\coastsatmaster\\coastsat\\SDS_preprocess.py:607: PendingDeprecationWarning: The set_tight_layout function will be deprecated in a future version. Use set_layout_engine instead.\n",
      "  fig.set_tight_layout(True)\n"
     ]
    },
    {
     "name": "stdout",
     "output_type": "stream",
     "text": [
      "2%"
     ]
    },
    {
     "name": "stderr",
     "output_type": "stream",
     "text": [
      "c:\\Users\\mp222\\OneDrive - Imperial College London\\IslandTimeGitHub\\IslandTime\\coastsatmaster\\coastsat\\SDS_preprocess.py:607: PendingDeprecationWarning: The set_tight_layout function will be deprecated in a future version. Use set_layout_engine instead.\n",
      "  fig.set_tight_layout(True)\n"
     ]
    },
    {
     "name": "stdout",
     "output_type": "stream",
     "text": [
      "3%"
     ]
    },
    {
     "name": "stderr",
     "output_type": "stream",
     "text": [
      "c:\\Users\\mp222\\OneDrive - Imperial College London\\IslandTimeGitHub\\IslandTime\\coastsatmaster\\coastsat\\SDS_preprocess.py:607: PendingDeprecationWarning: The set_tight_layout function will be deprecated in a future version. Use set_layout_engine instead.\n",
      "  fig.set_tight_layout(True)\n"
     ]
    },
    {
     "name": "stdout",
     "output_type": "stream",
     "text": [
      "3%"
     ]
    },
    {
     "name": "stderr",
     "output_type": "stream",
     "text": [
      "c:\\Users\\mp222\\OneDrive - Imperial College London\\IslandTimeGitHub\\IslandTime\\coastsatmaster\\coastsat\\SDS_preprocess.py:607: PendingDeprecationWarning: The set_tight_layout function will be deprecated in a future version. Use set_layout_engine instead.\n",
      "  fig.set_tight_layout(True)\n"
     ]
    },
    {
     "name": "stdout",
     "output_type": "stream",
     "text": [
      "4%"
     ]
    },
    {
     "name": "stderr",
     "output_type": "stream",
     "text": [
      "c:\\Users\\mp222\\OneDrive - Imperial College London\\IslandTimeGitHub\\IslandTime\\coastsatmaster\\coastsat\\SDS_preprocess.py:607: PendingDeprecationWarning: The set_tight_layout function will be deprecated in a future version. Use set_layout_engine instead.\n",
      "  fig.set_tight_layout(True)\n"
     ]
    },
    {
     "name": "stdout",
     "output_type": "stream",
     "text": [
      "4%"
     ]
    },
    {
     "name": "stderr",
     "output_type": "stream",
     "text": [
      "c:\\Users\\mp222\\OneDrive - Imperial College London\\IslandTimeGitHub\\IslandTime\\coastsatmaster\\coastsat\\SDS_preprocess.py:607: PendingDeprecationWarning: The set_tight_layout function will be deprecated in a future version. Use set_layout_engine instead.\n",
      "  fig.set_tight_layout(True)\n"
     ]
    },
    {
     "name": "stdout",
     "output_type": "stream",
     "text": [
      "4%"
     ]
    },
    {
     "name": "stderr",
     "output_type": "stream",
     "text": [
      "c:\\Users\\mp222\\OneDrive - Imperial College London\\IslandTimeGitHub\\IslandTime\\coastsatmaster\\coastsat\\SDS_preprocess.py:607: PendingDeprecationWarning: The set_tight_layout function will be deprecated in a future version. Use set_layout_engine instead.\n",
      "  fig.set_tight_layout(True)\n"
     ]
    },
    {
     "name": "stdout",
     "output_type": "stream",
     "text": [
      "4%"
     ]
    },
    {
     "name": "stderr",
     "output_type": "stream",
     "text": [
      "c:\\Users\\mp222\\OneDrive - Imperial College London\\IslandTimeGitHub\\IslandTime\\coastsatmaster\\coastsat\\SDS_preprocess.py:607: PendingDeprecationWarning: The set_tight_layout function will be deprecated in a future version. Use set_layout_engine instead.\n",
      "  fig.set_tight_layout(True)\n"
     ]
    },
    {
     "name": "stdout",
     "output_type": "stream",
     "text": [
      "5%"
     ]
    },
    {
     "name": "stderr",
     "output_type": "stream",
     "text": [
      "c:\\Users\\mp222\\OneDrive - Imperial College London\\IslandTimeGitHub\\IslandTime\\coastsatmaster\\coastsat\\SDS_preprocess.py:607: PendingDeprecationWarning: The set_tight_layout function will be deprecated in a future version. Use set_layout_engine instead.\n",
      "  fig.set_tight_layout(True)\n"
     ]
    },
    {
     "name": "stdout",
     "output_type": "stream",
     "text": [
      "5%"
     ]
    },
    {
     "name": "stderr",
     "output_type": "stream",
     "text": [
      "c:\\Users\\mp222\\OneDrive - Imperial College London\\IslandTimeGitHub\\IslandTime\\coastsatmaster\\coastsat\\SDS_preprocess.py:607: PendingDeprecationWarning: The set_tight_layout function will be deprecated in a future version. Use set_layout_engine instead.\n",
      "  fig.set_tight_layout(True)\n"
     ]
    },
    {
     "name": "stdout",
     "output_type": "stream",
     "text": [
      "6%"
     ]
    },
    {
     "name": "stderr",
     "output_type": "stream",
     "text": [
      "c:\\Users\\mp222\\OneDrive - Imperial College London\\IslandTimeGitHub\\IslandTime\\coastsatmaster\\coastsat\\SDS_preprocess.py:607: PendingDeprecationWarning: The set_tight_layout function will be deprecated in a future version. Use set_layout_engine instead.\n",
      "  fig.set_tight_layout(True)\n"
     ]
    },
    {
     "name": "stdout",
     "output_type": "stream",
     "text": [
      "6%"
     ]
    },
    {
     "name": "stderr",
     "output_type": "stream",
     "text": [
      "c:\\Users\\mp222\\OneDrive - Imperial College London\\IslandTimeGitHub\\IslandTime\\coastsatmaster\\coastsat\\SDS_preprocess.py:607: PendingDeprecationWarning: The set_tight_layout function will be deprecated in a future version. Use set_layout_engine instead.\n",
      "  fig.set_tight_layout(True)\n"
     ]
    },
    {
     "name": "stdout",
     "output_type": "stream",
     "text": [
      "6%"
     ]
    },
    {
     "name": "stderr",
     "output_type": "stream",
     "text": [
      "c:\\Users\\mp222\\OneDrive - Imperial College London\\IslandTimeGitHub\\IslandTime\\coastsatmaster\\coastsat\\SDS_preprocess.py:607: PendingDeprecationWarning: The set_tight_layout function will be deprecated in a future version. Use set_layout_engine instead.\n",
      "  fig.set_tight_layout(True)\n"
     ]
    },
    {
     "name": "stdout",
     "output_type": "stream",
     "text": [
      "6%"
     ]
    },
    {
     "name": "stderr",
     "output_type": "stream",
     "text": [
      "c:\\Users\\mp222\\OneDrive - Imperial College London\\IslandTimeGitHub\\IslandTime\\coastsatmaster\\coastsat\\SDS_preprocess.py:607: PendingDeprecationWarning: The set_tight_layout function will be deprecated in a future version. Use set_layout_engine instead.\n",
      "  fig.set_tight_layout(True)\n"
     ]
    },
    {
     "name": "stdout",
     "output_type": "stream",
     "text": [
      "7%"
     ]
    },
    {
     "name": "stderr",
     "output_type": "stream",
     "text": [
      "c:\\Users\\mp222\\OneDrive - Imperial College London\\IslandTimeGitHub\\IslandTime\\coastsatmaster\\coastsat\\SDS_preprocess.py:607: PendingDeprecationWarning: The set_tight_layout function will be deprecated in a future version. Use set_layout_engine instead.\n",
      "  fig.set_tight_layout(True)\n"
     ]
    },
    {
     "name": "stdout",
     "output_type": "stream",
     "text": [
      "7%"
     ]
    },
    {
     "name": "stderr",
     "output_type": "stream",
     "text": [
      "c:\\Users\\mp222\\OneDrive - Imperial College London\\IslandTimeGitHub\\IslandTime\\coastsatmaster\\coastsat\\SDS_preprocess.py:607: PendingDeprecationWarning: The set_tight_layout function will be deprecated in a future version. Use set_layout_engine instead.\n",
      "  fig.set_tight_layout(True)\n"
     ]
    },
    {
     "name": "stdout",
     "output_type": "stream",
     "text": [
      "8%"
     ]
    },
    {
     "name": "stderr",
     "output_type": "stream",
     "text": [
      "c:\\Users\\mp222\\OneDrive - Imperial College London\\IslandTimeGitHub\\IslandTime\\coastsatmaster\\coastsat\\SDS_preprocess.py:607: PendingDeprecationWarning: The set_tight_layout function will be deprecated in a future version. Use set_layout_engine instead.\n",
      "  fig.set_tight_layout(True)\n"
     ]
    },
    {
     "name": "stdout",
     "output_type": "stream",
     "text": [
      "8%"
     ]
    },
    {
     "name": "stderr",
     "output_type": "stream",
     "text": [
      "c:\\Users\\mp222\\OneDrive - Imperial College London\\IslandTimeGitHub\\IslandTime\\coastsatmaster\\coastsat\\SDS_preprocess.py:607: PendingDeprecationWarning: The set_tight_layout function will be deprecated in a future version. Use set_layout_engine instead.\n",
      "  fig.set_tight_layout(True)\n"
     ]
    },
    {
     "name": "stdout",
     "output_type": "stream",
     "text": [
      "9%"
     ]
    },
    {
     "name": "stderr",
     "output_type": "stream",
     "text": [
      "c:\\Users\\mp222\\OneDrive - Imperial College London\\IslandTimeGitHub\\IslandTime\\coastsatmaster\\coastsat\\SDS_preprocess.py:607: PendingDeprecationWarning: The set_tight_layout function will be deprecated in a future version. Use set_layout_engine instead.\n",
      "  fig.set_tight_layout(True)\n"
     ]
    },
    {
     "name": "stdout",
     "output_type": "stream",
     "text": [
      "9%"
     ]
    },
    {
     "name": "stderr",
     "output_type": "stream",
     "text": [
      "c:\\Users\\mp222\\OneDrive - Imperial College London\\IslandTimeGitHub\\IslandTime\\coastsatmaster\\coastsat\\SDS_preprocess.py:607: PendingDeprecationWarning: The set_tight_layout function will be deprecated in a future version. Use set_layout_engine instead.\n",
      "  fig.set_tight_layout(True)\n"
     ]
    },
    {
     "name": "stdout",
     "output_type": "stream",
     "text": [
      "9%"
     ]
    },
    {
     "name": "stderr",
     "output_type": "stream",
     "text": [
      "c:\\Users\\mp222\\OneDrive - Imperial College London\\IslandTimeGitHub\\IslandTime\\coastsatmaster\\coastsat\\SDS_preprocess.py:607: PendingDeprecationWarning: The set_tight_layout function will be deprecated in a future version. Use set_layout_engine instead.\n",
      "  fig.set_tight_layout(True)\n"
     ]
    },
    {
     "name": "stdout",
     "output_type": "stream",
     "text": [
      "9%"
     ]
    },
    {
     "name": "stderr",
     "output_type": "stream",
     "text": [
      "c:\\Users\\mp222\\OneDrive - Imperial College London\\IslandTimeGitHub\\IslandTime\\coastsatmaster\\coastsat\\SDS_preprocess.py:607: PendingDeprecationWarning: The set_tight_layout function will be deprecated in a future version. Use set_layout_engine instead.\n",
      "  fig.set_tight_layout(True)\n"
     ]
    },
    {
     "name": "stdout",
     "output_type": "stream",
     "text": [
      "11%"
     ]
    },
    {
     "name": "stderr",
     "output_type": "stream",
     "text": [
      "c:\\Users\\mp222\\OneDrive - Imperial College London\\IslandTimeGitHub\\IslandTime\\coastsatmaster\\coastsat\\SDS_preprocess.py:607: PendingDeprecationWarning: The set_tight_layout function will be deprecated in a future version. Use set_layout_engine instead.\n",
      "  fig.set_tight_layout(True)\n"
     ]
    },
    {
     "name": "stdout",
     "output_type": "stream",
     "text": [
      "12%"
     ]
    },
    {
     "name": "stderr",
     "output_type": "stream",
     "text": [
      "c:\\Users\\mp222\\OneDrive - Imperial College London\\IslandTimeGitHub\\IslandTime\\coastsatmaster\\coastsat\\SDS_preprocess.py:607: PendingDeprecationWarning: The set_tight_layout function will be deprecated in a future version. Use set_layout_engine instead.\n",
      "  fig.set_tight_layout(True)\n"
     ]
    },
    {
     "name": "stdout",
     "output_type": "stream",
     "text": [
      "12%"
     ]
    },
    {
     "name": "stderr",
     "output_type": "stream",
     "text": [
      "c:\\Users\\mp222\\OneDrive - Imperial College London\\IslandTimeGitHub\\IslandTime\\coastsatmaster\\coastsat\\SDS_preprocess.py:607: PendingDeprecationWarning: The set_tight_layout function will be deprecated in a future version. Use set_layout_engine instead.\n",
      "  fig.set_tight_layout(True)\n"
     ]
    },
    {
     "name": "stdout",
     "output_type": "stream",
     "text": [
      "12%"
     ]
    },
    {
     "name": "stderr",
     "output_type": "stream",
     "text": [
      "c:\\Users\\mp222\\OneDrive - Imperial College London\\IslandTimeGitHub\\IslandTime\\coastsatmaster\\coastsat\\SDS_preprocess.py:607: PendingDeprecationWarning: The set_tight_layout function will be deprecated in a future version. Use set_layout_engine instead.\n",
      "  fig.set_tight_layout(True)\n"
     ]
    },
    {
     "name": "stdout",
     "output_type": "stream",
     "text": [
      "12%"
     ]
    },
    {
     "name": "stderr",
     "output_type": "stream",
     "text": [
      "c:\\Users\\mp222\\OneDrive - Imperial College London\\IslandTimeGitHub\\IslandTime\\coastsatmaster\\coastsat\\SDS_preprocess.py:607: PendingDeprecationWarning: The set_tight_layout function will be deprecated in a future version. Use set_layout_engine instead.\n",
      "  fig.set_tight_layout(True)\n"
     ]
    },
    {
     "name": "stdout",
     "output_type": "stream",
     "text": [
      "13%"
     ]
    },
    {
     "name": "stderr",
     "output_type": "stream",
     "text": [
      "c:\\Users\\mp222\\OneDrive - Imperial College London\\IslandTimeGitHub\\IslandTime\\coastsatmaster\\coastsat\\SDS_preprocess.py:607: PendingDeprecationWarning: The set_tight_layout function will be deprecated in a future version. Use set_layout_engine instead.\n",
      "  fig.set_tight_layout(True)\n"
     ]
    },
    {
     "name": "stdout",
     "output_type": "stream",
     "text": [
      "14%"
     ]
    },
    {
     "name": "stderr",
     "output_type": "stream",
     "text": [
      "c:\\Users\\mp222\\OneDrive - Imperial College London\\IslandTimeGitHub\\IslandTime\\coastsatmaster\\coastsat\\SDS_preprocess.py:607: PendingDeprecationWarning: The set_tight_layout function will be deprecated in a future version. Use set_layout_engine instead.\n",
      "  fig.set_tight_layout(True)\n"
     ]
    },
    {
     "name": "stdout",
     "output_type": "stream",
     "text": [
      "14%"
     ]
    },
    {
     "name": "stderr",
     "output_type": "stream",
     "text": [
      "c:\\Users\\mp222\\OneDrive - Imperial College London\\IslandTimeGitHub\\IslandTime\\coastsatmaster\\coastsat\\SDS_preprocess.py:607: PendingDeprecationWarning: The set_tight_layout function will be deprecated in a future version. Use set_layout_engine instead.\n",
      "  fig.set_tight_layout(True)\n"
     ]
    },
    {
     "name": "stdout",
     "output_type": "stream",
     "text": [
      "14%"
     ]
    },
    {
     "name": "stderr",
     "output_type": "stream",
     "text": [
      "c:\\Users\\mp222\\OneDrive - Imperial College London\\IslandTimeGitHub\\IslandTime\\coastsatmaster\\coastsat\\SDS_preprocess.py:607: PendingDeprecationWarning: The set_tight_layout function will be deprecated in a future version. Use set_layout_engine instead.\n",
      "  fig.set_tight_layout(True)\n"
     ]
    },
    {
     "name": "stdout",
     "output_type": "stream",
     "text": [
      "15%"
     ]
    },
    {
     "name": "stderr",
     "output_type": "stream",
     "text": [
      "c:\\Users\\mp222\\OneDrive - Imperial College London\\IslandTimeGitHub\\IslandTime\\coastsatmaster\\coastsat\\SDS_preprocess.py:607: PendingDeprecationWarning: The set_tight_layout function will be deprecated in a future version. Use set_layout_engine instead.\n",
      "  fig.set_tight_layout(True)\n"
     ]
    },
    {
     "name": "stdout",
     "output_type": "stream",
     "text": [
      "15%"
     ]
    },
    {
     "name": "stderr",
     "output_type": "stream",
     "text": [
      "c:\\Users\\mp222\\OneDrive - Imperial College London\\IslandTimeGitHub\\IslandTime\\coastsatmaster\\coastsat\\SDS_preprocess.py:607: PendingDeprecationWarning: The set_tight_layout function will be deprecated in a future version. Use set_layout_engine instead.\n",
      "  fig.set_tight_layout(True)\n"
     ]
    },
    {
     "name": "stdout",
     "output_type": "stream",
     "text": [
      "16%"
     ]
    },
    {
     "name": "stderr",
     "output_type": "stream",
     "text": [
      "c:\\Users\\mp222\\OneDrive - Imperial College London\\IslandTimeGitHub\\IslandTime\\coastsatmaster\\coastsat\\SDS_preprocess.py:607: PendingDeprecationWarning: The set_tight_layout function will be deprecated in a future version. Use set_layout_engine instead.\n",
      "  fig.set_tight_layout(True)\n"
     ]
    },
    {
     "name": "stdout",
     "output_type": "stream",
     "text": [
      "16%"
     ]
    },
    {
     "name": "stderr",
     "output_type": "stream",
     "text": [
      "c:\\Users\\mp222\\OneDrive - Imperial College London\\IslandTimeGitHub\\IslandTime\\coastsatmaster\\coastsat\\SDS_preprocess.py:607: PendingDeprecationWarning: The set_tight_layout function will be deprecated in a future version. Use set_layout_engine instead.\n",
      "  fig.set_tight_layout(True)\n"
     ]
    },
    {
     "name": "stdout",
     "output_type": "stream",
     "text": [
      "16%"
     ]
    },
    {
     "name": "stderr",
     "output_type": "stream",
     "text": [
      "c:\\Users\\mp222\\OneDrive - Imperial College London\\IslandTimeGitHub\\IslandTime\\coastsatmaster\\coastsat\\SDS_preprocess.py:607: PendingDeprecationWarning: The set_tight_layout function will be deprecated in a future version. Use set_layout_engine instead.\n",
      "  fig.set_tight_layout(True)\n"
     ]
    },
    {
     "name": "stdout",
     "output_type": "stream",
     "text": [
      "16%"
     ]
    },
    {
     "name": "stderr",
     "output_type": "stream",
     "text": [
      "c:\\Users\\mp222\\OneDrive - Imperial College London\\IslandTimeGitHub\\IslandTime\\coastsatmaster\\coastsat\\SDS_preprocess.py:607: PendingDeprecationWarning: The set_tight_layout function will be deprecated in a future version. Use set_layout_engine instead.\n",
      "  fig.set_tight_layout(True)\n"
     ]
    },
    {
     "name": "stdout",
     "output_type": "stream",
     "text": [
      "17%"
     ]
    },
    {
     "name": "stderr",
     "output_type": "stream",
     "text": [
      "c:\\Users\\mp222\\OneDrive - Imperial College London\\IslandTimeGitHub\\IslandTime\\coastsatmaster\\coastsat\\SDS_preprocess.py:607: PendingDeprecationWarning: The set_tight_layout function will be deprecated in a future version. Use set_layout_engine instead.\n",
      "  fig.set_tight_layout(True)\n"
     ]
    },
    {
     "name": "stdout",
     "output_type": "stream",
     "text": [
      "17%"
     ]
    },
    {
     "name": "stderr",
     "output_type": "stream",
     "text": [
      "c:\\Users\\mp222\\OneDrive - Imperial College London\\IslandTimeGitHub\\IslandTime\\coastsatmaster\\coastsat\\SDS_preprocess.py:607: PendingDeprecationWarning: The set_tight_layout function will be deprecated in a future version. Use set_layout_engine instead.\n",
      "  fig.set_tight_layout(True)\n"
     ]
    },
    {
     "name": "stdout",
     "output_type": "stream",
     "text": [
      "18%"
     ]
    },
    {
     "name": "stderr",
     "output_type": "stream",
     "text": [
      "c:\\Users\\mp222\\OneDrive - Imperial College London\\IslandTimeGitHub\\IslandTime\\coastsatmaster\\coastsat\\SDS_preprocess.py:607: PendingDeprecationWarning: The set_tight_layout function will be deprecated in a future version. Use set_layout_engine instead.\n",
      "  fig.set_tight_layout(True)\n"
     ]
    },
    {
     "name": "stdout",
     "output_type": "stream",
     "text": [
      "18%"
     ]
    },
    {
     "name": "stderr",
     "output_type": "stream",
     "text": [
      "c:\\Users\\mp222\\OneDrive - Imperial College London\\IslandTimeGitHub\\IslandTime\\coastsatmaster\\coastsat\\SDS_preprocess.py:607: PendingDeprecationWarning: The set_tight_layout function will be deprecated in a future version. Use set_layout_engine instead.\n",
      "  fig.set_tight_layout(True)\n"
     ]
    },
    {
     "name": "stdout",
     "output_type": "stream",
     "text": [
      "18%"
     ]
    },
    {
     "name": "stderr",
     "output_type": "stream",
     "text": [
      "c:\\Users\\mp222\\OneDrive - Imperial College London\\IslandTimeGitHub\\IslandTime\\coastsatmaster\\coastsat\\SDS_preprocess.py:607: PendingDeprecationWarning: The set_tight_layout function will be deprecated in a future version. Use set_layout_engine instead.\n",
      "  fig.set_tight_layout(True)\n"
     ]
    },
    {
     "name": "stdout",
     "output_type": "stream",
     "text": [
      "18%"
     ]
    },
    {
     "name": "stderr",
     "output_type": "stream",
     "text": [
      "c:\\Users\\mp222\\OneDrive - Imperial College London\\IslandTimeGitHub\\IslandTime\\coastsatmaster\\coastsat\\SDS_preprocess.py:607: PendingDeprecationWarning: The set_tight_layout function will be deprecated in a future version. Use set_layout_engine instead.\n",
      "  fig.set_tight_layout(True)\n"
     ]
    },
    {
     "name": "stdout",
     "output_type": "stream",
     "text": [
      "18%"
     ]
    },
    {
     "name": "stderr",
     "output_type": "stream",
     "text": [
      "c:\\Users\\mp222\\OneDrive - Imperial College London\\IslandTimeGitHub\\IslandTime\\coastsatmaster\\coastsat\\SDS_preprocess.py:607: PendingDeprecationWarning: The set_tight_layout function will be deprecated in a future version. Use set_layout_engine instead.\n",
      "  fig.set_tight_layout(True)\n"
     ]
    },
    {
     "name": "stdout",
     "output_type": "stream",
     "text": [
      "19%"
     ]
    },
    {
     "name": "stderr",
     "output_type": "stream",
     "text": [
      "c:\\Users\\mp222\\OneDrive - Imperial College London\\IslandTimeGitHub\\IslandTime\\coastsatmaster\\coastsat\\SDS_preprocess.py:607: PendingDeprecationWarning: The set_tight_layout function will be deprecated in a future version. Use set_layout_engine instead.\n",
      "  fig.set_tight_layout(True)\n"
     ]
    },
    {
     "name": "stdout",
     "output_type": "stream",
     "text": [
      "19%"
     ]
    },
    {
     "name": "stderr",
     "output_type": "stream",
     "text": [
      "c:\\Users\\mp222\\OneDrive - Imperial College London\\IslandTimeGitHub\\IslandTime\\coastsatmaster\\coastsat\\SDS_preprocess.py:607: PendingDeprecationWarning: The set_tight_layout function will be deprecated in a future version. Use set_layout_engine instead.\n",
      "  fig.set_tight_layout(True)\n"
     ]
    },
    {
     "name": "stdout",
     "output_type": "stream",
     "text": [
      "19%"
     ]
    },
    {
     "name": "stderr",
     "output_type": "stream",
     "text": [
      "c:\\Users\\mp222\\OneDrive - Imperial College London\\IslandTimeGitHub\\IslandTime\\coastsatmaster\\coastsat\\SDS_preprocess.py:607: PendingDeprecationWarning: The set_tight_layout function will be deprecated in a future version. Use set_layout_engine instead.\n",
      "  fig.set_tight_layout(True)\n"
     ]
    },
    {
     "name": "stdout",
     "output_type": "stream",
     "text": [
      "20%"
     ]
    },
    {
     "name": "stderr",
     "output_type": "stream",
     "text": [
      "c:\\Users\\mp222\\OneDrive - Imperial College London\\IslandTimeGitHub\\IslandTime\\coastsatmaster\\coastsat\\SDS_preprocess.py:607: PendingDeprecationWarning: The set_tight_layout function will be deprecated in a future version. Use set_layout_engine instead.\n",
      "  fig.set_tight_layout(True)\n"
     ]
    },
    {
     "name": "stdout",
     "output_type": "stream",
     "text": [
      "20%"
     ]
    },
    {
     "name": "stderr",
     "output_type": "stream",
     "text": [
      "c:\\Users\\mp222\\OneDrive - Imperial College London\\IslandTimeGitHub\\IslandTime\\coastsatmaster\\coastsat\\SDS_preprocess.py:607: PendingDeprecationWarning: The set_tight_layout function will be deprecated in a future version. Use set_layout_engine instead.\n",
      "  fig.set_tight_layout(True)\n"
     ]
    },
    {
     "name": "stdout",
     "output_type": "stream",
     "text": [
      "20%"
     ]
    },
    {
     "name": "stderr",
     "output_type": "stream",
     "text": [
      "c:\\Users\\mp222\\OneDrive - Imperial College London\\IslandTimeGitHub\\IslandTime\\coastsatmaster\\coastsat\\SDS_preprocess.py:607: PendingDeprecationWarning: The set_tight_layout function will be deprecated in a future version. Use set_layout_engine instead.\n",
      "  fig.set_tight_layout(True)\n"
     ]
    },
    {
     "name": "stdout",
     "output_type": "stream",
     "text": [
      "21%"
     ]
    },
    {
     "name": "stderr",
     "output_type": "stream",
     "text": [
      "c:\\Users\\mp222\\OneDrive - Imperial College London\\IslandTimeGitHub\\IslandTime\\coastsatmaster\\coastsat\\SDS_preprocess.py:607: PendingDeprecationWarning: The set_tight_layout function will be deprecated in a future version. Use set_layout_engine instead.\n",
      "  fig.set_tight_layout(True)\n"
     ]
    },
    {
     "name": "stdout",
     "output_type": "stream",
     "text": [
      "21%"
     ]
    },
    {
     "name": "stderr",
     "output_type": "stream",
     "text": [
      "c:\\Users\\mp222\\OneDrive - Imperial College London\\IslandTimeGitHub\\IslandTime\\coastsatmaster\\coastsat\\SDS_preprocess.py:607: PendingDeprecationWarning: The set_tight_layout function will be deprecated in a future version. Use set_layout_engine instead.\n",
      "  fig.set_tight_layout(True)\n"
     ]
    },
    {
     "name": "stdout",
     "output_type": "stream",
     "text": [
      "21%"
     ]
    },
    {
     "name": "stderr",
     "output_type": "stream",
     "text": [
      "c:\\Users\\mp222\\OneDrive - Imperial College London\\IslandTimeGitHub\\IslandTime\\coastsatmaster\\coastsat\\SDS_preprocess.py:607: PendingDeprecationWarning: The set_tight_layout function will be deprecated in a future version. Use set_layout_engine instead.\n",
      "  fig.set_tight_layout(True)\n"
     ]
    },
    {
     "name": "stdout",
     "output_type": "stream",
     "text": [
      "22%"
     ]
    },
    {
     "name": "stderr",
     "output_type": "stream",
     "text": [
      "c:\\Users\\mp222\\OneDrive - Imperial College London\\IslandTimeGitHub\\IslandTime\\coastsatmaster\\coastsat\\SDS_preprocess.py:607: PendingDeprecationWarning: The set_tight_layout function will be deprecated in a future version. Use set_layout_engine instead.\n",
      "  fig.set_tight_layout(True)\n"
     ]
    },
    {
     "name": "stdout",
     "output_type": "stream",
     "text": [
      "22%"
     ]
    },
    {
     "name": "stderr",
     "output_type": "stream",
     "text": [
      "c:\\Users\\mp222\\OneDrive - Imperial College London\\IslandTimeGitHub\\IslandTime\\coastsatmaster\\coastsat\\SDS_preprocess.py:607: PendingDeprecationWarning: The set_tight_layout function will be deprecated in a future version. Use set_layout_engine instead.\n",
      "  fig.set_tight_layout(True)\n"
     ]
    },
    {
     "name": "stdout",
     "output_type": "stream",
     "text": [
      "23%"
     ]
    },
    {
     "name": "stderr",
     "output_type": "stream",
     "text": [
      "c:\\Users\\mp222\\OneDrive - Imperial College London\\IslandTimeGitHub\\IslandTime\\coastsatmaster\\coastsat\\SDS_preprocess.py:607: PendingDeprecationWarning: The set_tight_layout function will be deprecated in a future version. Use set_layout_engine instead.\n",
      "  fig.set_tight_layout(True)\n"
     ]
    },
    {
     "name": "stdout",
     "output_type": "stream",
     "text": [
      "24%"
     ]
    },
    {
     "name": "stderr",
     "output_type": "stream",
     "text": [
      "c:\\Users\\mp222\\OneDrive - Imperial College London\\IslandTimeGitHub\\IslandTime\\coastsatmaster\\coastsat\\SDS_preprocess.py:607: PendingDeprecationWarning: The set_tight_layout function will be deprecated in a future version. Use set_layout_engine instead.\n",
      "  fig.set_tight_layout(True)\n"
     ]
    },
    {
     "name": "stdout",
     "output_type": "stream",
     "text": [
      "24%"
     ]
    },
    {
     "name": "stderr",
     "output_type": "stream",
     "text": [
      "c:\\Users\\mp222\\OneDrive - Imperial College London\\IslandTimeGitHub\\IslandTime\\coastsatmaster\\coastsat\\SDS_preprocess.py:607: PendingDeprecationWarning: The set_tight_layout function will be deprecated in a future version. Use set_layout_engine instead.\n",
      "  fig.set_tight_layout(True)\n"
     ]
    },
    {
     "name": "stdout",
     "output_type": "stream",
     "text": [
      "25%"
     ]
    },
    {
     "name": "stderr",
     "output_type": "stream",
     "text": [
      "c:\\Users\\mp222\\OneDrive - Imperial College London\\IslandTimeGitHub\\IslandTime\\coastsatmaster\\coastsat\\SDS_preprocess.py:607: PendingDeprecationWarning: The set_tight_layout function will be deprecated in a future version. Use set_layout_engine instead.\n",
      "  fig.set_tight_layout(True)\n"
     ]
    },
    {
     "name": "stdout",
     "output_type": "stream",
     "text": [
      "25%"
     ]
    },
    {
     "name": "stderr",
     "output_type": "stream",
     "text": [
      "c:\\Users\\mp222\\OneDrive - Imperial College London\\IslandTimeGitHub\\IslandTime\\coastsatmaster\\coastsat\\SDS_preprocess.py:607: PendingDeprecationWarning: The set_tight_layout function will be deprecated in a future version. Use set_layout_engine instead.\n",
      "  fig.set_tight_layout(True)\n"
     ]
    },
    {
     "name": "stdout",
     "output_type": "stream",
     "text": [
      "25%"
     ]
    },
    {
     "name": "stderr",
     "output_type": "stream",
     "text": [
      "c:\\Users\\mp222\\OneDrive - Imperial College London\\IslandTimeGitHub\\IslandTime\\coastsatmaster\\coastsat\\SDS_preprocess.py:607: PendingDeprecationWarning: The set_tight_layout function will be deprecated in a future version. Use set_layout_engine instead.\n",
      "  fig.set_tight_layout(True)\n"
     ]
    },
    {
     "name": "stdout",
     "output_type": "stream",
     "text": [
      "25%"
     ]
    },
    {
     "name": "stderr",
     "output_type": "stream",
     "text": [
      "c:\\Users\\mp222\\OneDrive - Imperial College London\\IslandTimeGitHub\\IslandTime\\coastsatmaster\\coastsat\\SDS_preprocess.py:607: PendingDeprecationWarning: The set_tight_layout function will be deprecated in a future version. Use set_layout_engine instead.\n",
      "  fig.set_tight_layout(True)\n"
     ]
    },
    {
     "name": "stdout",
     "output_type": "stream",
     "text": [
      "26%"
     ]
    },
    {
     "name": "stderr",
     "output_type": "stream",
     "text": [
      "c:\\Users\\mp222\\OneDrive - Imperial College London\\IslandTimeGitHub\\IslandTime\\coastsatmaster\\coastsat\\SDS_preprocess.py:607: PendingDeprecationWarning: The set_tight_layout function will be deprecated in a future version. Use set_layout_engine instead.\n",
      "  fig.set_tight_layout(True)\n"
     ]
    },
    {
     "name": "stdout",
     "output_type": "stream",
     "text": [
      "26%"
     ]
    },
    {
     "name": "stderr",
     "output_type": "stream",
     "text": [
      "c:\\Users\\mp222\\OneDrive - Imperial College London\\IslandTimeGitHub\\IslandTime\\coastsatmaster\\coastsat\\SDS_preprocess.py:607: PendingDeprecationWarning: The set_tight_layout function will be deprecated in a future version. Use set_layout_engine instead.\n",
      "  fig.set_tight_layout(True)\n"
     ]
    },
    {
     "name": "stdout",
     "output_type": "stream",
     "text": [
      "26%"
     ]
    },
    {
     "name": "stderr",
     "output_type": "stream",
     "text": [
      "c:\\Users\\mp222\\OneDrive - Imperial College London\\IslandTimeGitHub\\IslandTime\\coastsatmaster\\coastsat\\SDS_preprocess.py:607: PendingDeprecationWarning: The set_tight_layout function will be deprecated in a future version. Use set_layout_engine instead.\n",
      "  fig.set_tight_layout(True)\n"
     ]
    },
    {
     "name": "stdout",
     "output_type": "stream",
     "text": [
      "27%"
     ]
    },
    {
     "name": "stderr",
     "output_type": "stream",
     "text": [
      "c:\\Users\\mp222\\OneDrive - Imperial College London\\IslandTimeGitHub\\IslandTime\\coastsatmaster\\coastsat\\SDS_preprocess.py:607: PendingDeprecationWarning: The set_tight_layout function will be deprecated in a future version. Use set_layout_engine instead.\n",
      "  fig.set_tight_layout(True)\n"
     ]
    },
    {
     "name": "stdout",
     "output_type": "stream",
     "text": [
      "27%"
     ]
    },
    {
     "name": "stderr",
     "output_type": "stream",
     "text": [
      "c:\\Users\\mp222\\OneDrive - Imperial College London\\IslandTimeGitHub\\IslandTime\\coastsatmaster\\coastsat\\SDS_preprocess.py:607: PendingDeprecationWarning: The set_tight_layout function will be deprecated in a future version. Use set_layout_engine instead.\n",
      "  fig.set_tight_layout(True)\n"
     ]
    },
    {
     "name": "stdout",
     "output_type": "stream",
     "text": [
      "27%"
     ]
    },
    {
     "name": "stderr",
     "output_type": "stream",
     "text": [
      "c:\\Users\\mp222\\OneDrive - Imperial College London\\IslandTimeGitHub\\IslandTime\\coastsatmaster\\coastsat\\SDS_preprocess.py:607: PendingDeprecationWarning: The set_tight_layout function will be deprecated in a future version. Use set_layout_engine instead.\n",
      "  fig.set_tight_layout(True)\n"
     ]
    },
    {
     "name": "stdout",
     "output_type": "stream",
     "text": [
      "28%"
     ]
    },
    {
     "name": "stderr",
     "output_type": "stream",
     "text": [
      "c:\\Users\\mp222\\OneDrive - Imperial College London\\IslandTimeGitHub\\IslandTime\\coastsatmaster\\coastsat\\SDS_preprocess.py:607: PendingDeprecationWarning: The set_tight_layout function will be deprecated in a future version. Use set_layout_engine instead.\n",
      "  fig.set_tight_layout(True)\n"
     ]
    },
    {
     "name": "stdout",
     "output_type": "stream",
     "text": [
      "28%"
     ]
    },
    {
     "name": "stderr",
     "output_type": "stream",
     "text": [
      "c:\\Users\\mp222\\OneDrive - Imperial College London\\IslandTimeGitHub\\IslandTime\\coastsatmaster\\coastsat\\SDS_preprocess.py:607: PendingDeprecationWarning: The set_tight_layout function will be deprecated in a future version. Use set_layout_engine instead.\n",
      "  fig.set_tight_layout(True)\n"
     ]
    },
    {
     "name": "stdout",
     "output_type": "stream",
     "text": [
      "29%"
     ]
    },
    {
     "name": "stderr",
     "output_type": "stream",
     "text": [
      "c:\\Users\\mp222\\OneDrive - Imperial College London\\IslandTimeGitHub\\IslandTime\\coastsatmaster\\coastsat\\SDS_preprocess.py:607: PendingDeprecationWarning: The set_tight_layout function will be deprecated in a future version. Use set_layout_engine instead.\n",
      "  fig.set_tight_layout(True)\n"
     ]
    },
    {
     "name": "stdout",
     "output_type": "stream",
     "text": [
      "29%"
     ]
    },
    {
     "name": "stderr",
     "output_type": "stream",
     "text": [
      "c:\\Users\\mp222\\OneDrive - Imperial College London\\IslandTimeGitHub\\IslandTime\\coastsatmaster\\coastsat\\SDS_preprocess.py:607: PendingDeprecationWarning: The set_tight_layout function will be deprecated in a future version. Use set_layout_engine instead.\n",
      "  fig.set_tight_layout(True)\n"
     ]
    },
    {
     "name": "stdout",
     "output_type": "stream",
     "text": [
      "30%"
     ]
    },
    {
     "name": "stderr",
     "output_type": "stream",
     "text": [
      "c:\\Users\\mp222\\OneDrive - Imperial College London\\IslandTimeGitHub\\IslandTime\\coastsatmaster\\coastsat\\SDS_preprocess.py:607: PendingDeprecationWarning: The set_tight_layout function will be deprecated in a future version. Use set_layout_engine instead.\n",
      "  fig.set_tight_layout(True)\n"
     ]
    },
    {
     "name": "stdout",
     "output_type": "stream",
     "text": [
      "30%"
     ]
    },
    {
     "name": "stderr",
     "output_type": "stream",
     "text": [
      "c:\\Users\\mp222\\OneDrive - Imperial College London\\IslandTimeGitHub\\IslandTime\\coastsatmaster\\coastsat\\SDS_preprocess.py:607: PendingDeprecationWarning: The set_tight_layout function will be deprecated in a future version. Use set_layout_engine instead.\n",
      "  fig.set_tight_layout(True)\n"
     ]
    },
    {
     "name": "stdout",
     "output_type": "stream",
     "text": [
      "30%"
     ]
    },
    {
     "name": "stderr",
     "output_type": "stream",
     "text": [
      "c:\\Users\\mp222\\OneDrive - Imperial College London\\IslandTimeGitHub\\IslandTime\\coastsatmaster\\coastsat\\SDS_preprocess.py:607: PendingDeprecationWarning: The set_tight_layout function will be deprecated in a future version. Use set_layout_engine instead.\n",
      "  fig.set_tight_layout(True)\n"
     ]
    },
    {
     "name": "stdout",
     "output_type": "stream",
     "text": [
      "31%"
     ]
    },
    {
     "name": "stderr",
     "output_type": "stream",
     "text": [
      "c:\\Users\\mp222\\OneDrive - Imperial College London\\IslandTimeGitHub\\IslandTime\\coastsatmaster\\coastsat\\SDS_preprocess.py:607: PendingDeprecationWarning: The set_tight_layout function will be deprecated in a future version. Use set_layout_engine instead.\n",
      "  fig.set_tight_layout(True)\n"
     ]
    },
    {
     "name": "stdout",
     "output_type": "stream",
     "text": [
      "31%"
     ]
    },
    {
     "name": "stderr",
     "output_type": "stream",
     "text": [
      "c:\\Users\\mp222\\OneDrive - Imperial College London\\IslandTimeGitHub\\IslandTime\\coastsatmaster\\coastsat\\SDS_preprocess.py:607: PendingDeprecationWarning: The set_tight_layout function will be deprecated in a future version. Use set_layout_engine instead.\n",
      "  fig.set_tight_layout(True)\n"
     ]
    },
    {
     "name": "stdout",
     "output_type": "stream",
     "text": [
      "32%"
     ]
    },
    {
     "name": "stderr",
     "output_type": "stream",
     "text": [
      "c:\\Users\\mp222\\OneDrive - Imperial College London\\IslandTimeGitHub\\IslandTime\\coastsatmaster\\coastsat\\SDS_preprocess.py:607: PendingDeprecationWarning: The set_tight_layout function will be deprecated in a future version. Use set_layout_engine instead.\n",
      "  fig.set_tight_layout(True)\n"
     ]
    },
    {
     "name": "stdout",
     "output_type": "stream",
     "text": [
      "32%"
     ]
    },
    {
     "name": "stderr",
     "output_type": "stream",
     "text": [
      "c:\\Users\\mp222\\OneDrive - Imperial College London\\IslandTimeGitHub\\IslandTime\\coastsatmaster\\coastsat\\SDS_preprocess.py:607: PendingDeprecationWarning: The set_tight_layout function will be deprecated in a future version. Use set_layout_engine instead.\n",
      "  fig.set_tight_layout(True)\n"
     ]
    },
    {
     "name": "stdout",
     "output_type": "stream",
     "text": [
      "32%"
     ]
    },
    {
     "name": "stderr",
     "output_type": "stream",
     "text": [
      "c:\\Users\\mp222\\OneDrive - Imperial College London\\IslandTimeGitHub\\IslandTime\\coastsatmaster\\coastsat\\SDS_preprocess.py:607: PendingDeprecationWarning: The set_tight_layout function will be deprecated in a future version. Use set_layout_engine instead.\n",
      "  fig.set_tight_layout(True)\n"
     ]
    },
    {
     "name": "stdout",
     "output_type": "stream",
     "text": [
      "33%"
     ]
    },
    {
     "name": "stderr",
     "output_type": "stream",
     "text": [
      "c:\\Users\\mp222\\OneDrive - Imperial College London\\IslandTimeGitHub\\IslandTime\\coastsatmaster\\coastsat\\SDS_preprocess.py:607: PendingDeprecationWarning: The set_tight_layout function will be deprecated in a future version. Use set_layout_engine instead.\n",
      "  fig.set_tight_layout(True)\n"
     ]
    },
    {
     "name": "stdout",
     "output_type": "stream",
     "text": [
      "34%"
     ]
    },
    {
     "name": "stderr",
     "output_type": "stream",
     "text": [
      "c:\\Users\\mp222\\OneDrive - Imperial College London\\IslandTimeGitHub\\IslandTime\\coastsatmaster\\coastsat\\SDS_preprocess.py:607: PendingDeprecationWarning: The set_tight_layout function will be deprecated in a future version. Use set_layout_engine instead.\n",
      "  fig.set_tight_layout(True)\n"
     ]
    },
    {
     "name": "stdout",
     "output_type": "stream",
     "text": [
      "34%"
     ]
    },
    {
     "name": "stderr",
     "output_type": "stream",
     "text": [
      "c:\\Users\\mp222\\OneDrive - Imperial College London\\IslandTimeGitHub\\IslandTime\\coastsatmaster\\coastsat\\SDS_preprocess.py:607: PendingDeprecationWarning: The set_tight_layout function will be deprecated in a future version. Use set_layout_engine instead.\n",
      "  fig.set_tight_layout(True)\n"
     ]
    },
    {
     "name": "stdout",
     "output_type": "stream",
     "text": [
      "35%"
     ]
    },
    {
     "name": "stderr",
     "output_type": "stream",
     "text": [
      "c:\\Users\\mp222\\OneDrive - Imperial College London\\IslandTimeGitHub\\IslandTime\\coastsatmaster\\coastsat\\SDS_preprocess.py:607: PendingDeprecationWarning: The set_tight_layout function will be deprecated in a future version. Use set_layout_engine instead.\n",
      "  fig.set_tight_layout(True)\n"
     ]
    },
    {
     "name": "stdout",
     "output_type": "stream",
     "text": [
      "35%"
     ]
    },
    {
     "name": "stderr",
     "output_type": "stream",
     "text": [
      "c:\\Users\\mp222\\OneDrive - Imperial College London\\IslandTimeGitHub\\IslandTime\\coastsatmaster\\coastsat\\SDS_preprocess.py:607: PendingDeprecationWarning: The set_tight_layout function will be deprecated in a future version. Use set_layout_engine instead.\n",
      "  fig.set_tight_layout(True)\n"
     ]
    },
    {
     "name": "stdout",
     "output_type": "stream",
     "text": [
      "35%"
     ]
    },
    {
     "name": "stderr",
     "output_type": "stream",
     "text": [
      "c:\\Users\\mp222\\OneDrive - Imperial College London\\IslandTimeGitHub\\IslandTime\\coastsatmaster\\coastsat\\SDS_preprocess.py:607: PendingDeprecationWarning: The set_tight_layout function will be deprecated in a future version. Use set_layout_engine instead.\n",
      "  fig.set_tight_layout(True)\n"
     ]
    },
    {
     "name": "stdout",
     "output_type": "stream",
     "text": [
      "36%"
     ]
    },
    {
     "name": "stderr",
     "output_type": "stream",
     "text": [
      "c:\\Users\\mp222\\OneDrive - Imperial College London\\IslandTimeGitHub\\IslandTime\\coastsatmaster\\coastsat\\SDS_preprocess.py:607: PendingDeprecationWarning: The set_tight_layout function will be deprecated in a future version. Use set_layout_engine instead.\n",
      "  fig.set_tight_layout(True)\n"
     ]
    },
    {
     "name": "stdout",
     "output_type": "stream",
     "text": [
      "36%"
     ]
    },
    {
     "name": "stderr",
     "output_type": "stream",
     "text": [
      "c:\\Users\\mp222\\OneDrive - Imperial College London\\IslandTimeGitHub\\IslandTime\\coastsatmaster\\coastsat\\SDS_preprocess.py:607: PendingDeprecationWarning: The set_tight_layout function will be deprecated in a future version. Use set_layout_engine instead.\n",
      "  fig.set_tight_layout(True)\n"
     ]
    },
    {
     "name": "stdout",
     "output_type": "stream",
     "text": [
      "36%"
     ]
    },
    {
     "name": "stderr",
     "output_type": "stream",
     "text": [
      "c:\\Users\\mp222\\OneDrive - Imperial College London\\IslandTimeGitHub\\IslandTime\\coastsatmaster\\coastsat\\SDS_preprocess.py:607: PendingDeprecationWarning: The set_tight_layout function will be deprecated in a future version. Use set_layout_engine instead.\n",
      "  fig.set_tight_layout(True)\n"
     ]
    },
    {
     "name": "stdout",
     "output_type": "stream",
     "text": [
      "37%"
     ]
    },
    {
     "name": "stderr",
     "output_type": "stream",
     "text": [
      "c:\\Users\\mp222\\OneDrive - Imperial College London\\IslandTimeGitHub\\IslandTime\\coastsatmaster\\coastsat\\SDS_preprocess.py:607: PendingDeprecationWarning: The set_tight_layout function will be deprecated in a future version. Use set_layout_engine instead.\n",
      "  fig.set_tight_layout(True)\n"
     ]
    },
    {
     "name": "stdout",
     "output_type": "stream",
     "text": [
      "37%"
     ]
    },
    {
     "name": "stderr",
     "output_type": "stream",
     "text": [
      "c:\\Users\\mp222\\OneDrive - Imperial College London\\IslandTimeGitHub\\IslandTime\\coastsatmaster\\coastsat\\SDS_preprocess.py:607: PendingDeprecationWarning: The set_tight_layout function will be deprecated in a future version. Use set_layout_engine instead.\n",
      "  fig.set_tight_layout(True)\n"
     ]
    },
    {
     "name": "stdout",
     "output_type": "stream",
     "text": [
      "37%"
     ]
    },
    {
     "name": "stderr",
     "output_type": "stream",
     "text": [
      "c:\\Users\\mp222\\OneDrive - Imperial College London\\IslandTimeGitHub\\IslandTime\\coastsatmaster\\coastsat\\SDS_preprocess.py:607: PendingDeprecationWarning: The set_tight_layout function will be deprecated in a future version. Use set_layout_engine instead.\n",
      "  fig.set_tight_layout(True)\n"
     ]
    },
    {
     "name": "stdout",
     "output_type": "stream",
     "text": [
      "38%"
     ]
    },
    {
     "name": "stderr",
     "output_type": "stream",
     "text": [
      "c:\\Users\\mp222\\OneDrive - Imperial College London\\IslandTimeGitHub\\IslandTime\\coastsatmaster\\coastsat\\SDS_preprocess.py:607: PendingDeprecationWarning: The set_tight_layout function will be deprecated in a future version. Use set_layout_engine instead.\n",
      "  fig.set_tight_layout(True)\n"
     ]
    },
    {
     "name": "stdout",
     "output_type": "stream",
     "text": [
      "38%"
     ]
    },
    {
     "name": "stderr",
     "output_type": "stream",
     "text": [
      "c:\\Users\\mp222\\OneDrive - Imperial College London\\IslandTimeGitHub\\IslandTime\\coastsatmaster\\coastsat\\SDS_preprocess.py:607: PendingDeprecationWarning: The set_tight_layout function will be deprecated in a future version. Use set_layout_engine instead.\n",
      "  fig.set_tight_layout(True)\n"
     ]
    },
    {
     "name": "stdout",
     "output_type": "stream",
     "text": [
      "39%"
     ]
    },
    {
     "name": "stderr",
     "output_type": "stream",
     "text": [
      "c:\\Users\\mp222\\OneDrive - Imperial College London\\IslandTimeGitHub\\IslandTime\\coastsatmaster\\coastsat\\SDS_preprocess.py:607: PendingDeprecationWarning: The set_tight_layout function will be deprecated in a future version. Use set_layout_engine instead.\n",
      "  fig.set_tight_layout(True)\n"
     ]
    },
    {
     "name": "stdout",
     "output_type": "stream",
     "text": [
      "40%"
     ]
    },
    {
     "name": "stderr",
     "output_type": "stream",
     "text": [
      "c:\\Users\\mp222\\OneDrive - Imperial College London\\IslandTimeGitHub\\IslandTime\\coastsatmaster\\coastsat\\SDS_preprocess.py:607: PendingDeprecationWarning: The set_tight_layout function will be deprecated in a future version. Use set_layout_engine instead.\n",
      "  fig.set_tight_layout(True)\n"
     ]
    },
    {
     "name": "stdout",
     "output_type": "stream",
     "text": [
      "40%"
     ]
    },
    {
     "name": "stderr",
     "output_type": "stream",
     "text": [
      "c:\\Users\\mp222\\OneDrive - Imperial College London\\IslandTimeGitHub\\IslandTime\\coastsatmaster\\coastsat\\SDS_preprocess.py:607: PendingDeprecationWarning: The set_tight_layout function will be deprecated in a future version. Use set_layout_engine instead.\n",
      "  fig.set_tight_layout(True)\n"
     ]
    },
    {
     "name": "stdout",
     "output_type": "stream",
     "text": [
      "40%"
     ]
    },
    {
     "name": "stderr",
     "output_type": "stream",
     "text": [
      "c:\\Users\\mp222\\OneDrive - Imperial College London\\IslandTimeGitHub\\IslandTime\\coastsatmaster\\coastsat\\SDS_preprocess.py:607: PendingDeprecationWarning: The set_tight_layout function will be deprecated in a future version. Use set_layout_engine instead.\n",
      "  fig.set_tight_layout(True)\n"
     ]
    },
    {
     "name": "stdout",
     "output_type": "stream",
     "text": [
      "41%"
     ]
    },
    {
     "name": "stderr",
     "output_type": "stream",
     "text": [
      "c:\\Users\\mp222\\OneDrive - Imperial College London\\IslandTimeGitHub\\IslandTime\\coastsatmaster\\coastsat\\SDS_preprocess.py:607: PendingDeprecationWarning: The set_tight_layout function will be deprecated in a future version. Use set_layout_engine instead.\n",
      "  fig.set_tight_layout(True)\n"
     ]
    },
    {
     "name": "stdout",
     "output_type": "stream",
     "text": [
      "41%"
     ]
    },
    {
     "name": "stderr",
     "output_type": "stream",
     "text": [
      "c:\\Users\\mp222\\OneDrive - Imperial College London\\IslandTimeGitHub\\IslandTime\\coastsatmaster\\coastsat\\SDS_preprocess.py:607: PendingDeprecationWarning: The set_tight_layout function will be deprecated in a future version. Use set_layout_engine instead.\n",
      "  fig.set_tight_layout(True)\n"
     ]
    },
    {
     "name": "stdout",
     "output_type": "stream",
     "text": [
      "41%"
     ]
    },
    {
     "name": "stderr",
     "output_type": "stream",
     "text": [
      "c:\\Users\\mp222\\OneDrive - Imperial College London\\IslandTimeGitHub\\IslandTime\\coastsatmaster\\coastsat\\SDS_preprocess.py:607: PendingDeprecationWarning: The set_tight_layout function will be deprecated in a future version. Use set_layout_engine instead.\n",
      "  fig.set_tight_layout(True)\n"
     ]
    },
    {
     "name": "stdout",
     "output_type": "stream",
     "text": [
      "42%"
     ]
    },
    {
     "name": "stderr",
     "output_type": "stream",
     "text": [
      "c:\\Users\\mp222\\OneDrive - Imperial College London\\IslandTimeGitHub\\IslandTime\\coastsatmaster\\coastsat\\SDS_preprocess.py:607: PendingDeprecationWarning: The set_tight_layout function will be deprecated in a future version. Use set_layout_engine instead.\n",
      "  fig.set_tight_layout(True)\n"
     ]
    },
    {
     "name": "stdout",
     "output_type": "stream",
     "text": [
      "42%"
     ]
    },
    {
     "name": "stderr",
     "output_type": "stream",
     "text": [
      "c:\\Users\\mp222\\OneDrive - Imperial College London\\IslandTimeGitHub\\IslandTime\\coastsatmaster\\coastsat\\SDS_preprocess.py:607: PendingDeprecationWarning: The set_tight_layout function will be deprecated in a future version. Use set_layout_engine instead.\n",
      "  fig.set_tight_layout(True)\n"
     ]
    },
    {
     "name": "stdout",
     "output_type": "stream",
     "text": [
      "42%"
     ]
    },
    {
     "name": "stderr",
     "output_type": "stream",
     "text": [
      "c:\\Users\\mp222\\OneDrive - Imperial College London\\IslandTimeGitHub\\IslandTime\\coastsatmaster\\coastsat\\SDS_preprocess.py:607: PendingDeprecationWarning: The set_tight_layout function will be deprecated in a future version. Use set_layout_engine instead.\n",
      "  fig.set_tight_layout(True)\n"
     ]
    },
    {
     "name": "stdout",
     "output_type": "stream",
     "text": [
      "42%"
     ]
    },
    {
     "name": "stderr",
     "output_type": "stream",
     "text": [
      "c:\\Users\\mp222\\OneDrive - Imperial College London\\IslandTimeGitHub\\IslandTime\\coastsatmaster\\coastsat\\SDS_preprocess.py:607: PendingDeprecationWarning: The set_tight_layout function will be deprecated in a future version. Use set_layout_engine instead.\n",
      "  fig.set_tight_layout(True)\n"
     ]
    },
    {
     "name": "stdout",
     "output_type": "stream",
     "text": [
      "43%"
     ]
    },
    {
     "name": "stderr",
     "output_type": "stream",
     "text": [
      "c:\\Users\\mp222\\OneDrive - Imperial College London\\IslandTimeGitHub\\IslandTime\\coastsatmaster\\coastsat\\SDS_preprocess.py:607: PendingDeprecationWarning: The set_tight_layout function will be deprecated in a future version. Use set_layout_engine instead.\n",
      "  fig.set_tight_layout(True)\n"
     ]
    },
    {
     "name": "stdout",
     "output_type": "stream",
     "text": [
      "43%"
     ]
    },
    {
     "name": "stderr",
     "output_type": "stream",
     "text": [
      "c:\\Users\\mp222\\OneDrive - Imperial College London\\IslandTimeGitHub\\IslandTime\\coastsatmaster\\coastsat\\SDS_preprocess.py:607: PendingDeprecationWarning: The set_tight_layout function will be deprecated in a future version. Use set_layout_engine instead.\n",
      "  fig.set_tight_layout(True)\n"
     ]
    },
    {
     "name": "stdout",
     "output_type": "stream",
     "text": [
      "44%"
     ]
    },
    {
     "name": "stderr",
     "output_type": "stream",
     "text": [
      "c:\\Users\\mp222\\OneDrive - Imperial College London\\IslandTimeGitHub\\IslandTime\\coastsatmaster\\coastsat\\SDS_preprocess.py:607: PendingDeprecationWarning: The set_tight_layout function will be deprecated in a future version. Use set_layout_engine instead.\n",
      "  fig.set_tight_layout(True)\n"
     ]
    },
    {
     "name": "stdout",
     "output_type": "stream",
     "text": [
      "44%"
     ]
    },
    {
     "name": "stderr",
     "output_type": "stream",
     "text": [
      "c:\\Users\\mp222\\OneDrive - Imperial College London\\IslandTimeGitHub\\IslandTime\\coastsatmaster\\coastsat\\SDS_preprocess.py:607: PendingDeprecationWarning: The set_tight_layout function will be deprecated in a future version. Use set_layout_engine instead.\n",
      "  fig.set_tight_layout(True)\n"
     ]
    },
    {
     "name": "stdout",
     "output_type": "stream",
     "text": [
      "45%"
     ]
    },
    {
     "name": "stderr",
     "output_type": "stream",
     "text": [
      "c:\\Users\\mp222\\OneDrive - Imperial College London\\IslandTimeGitHub\\IslandTime\\coastsatmaster\\coastsat\\SDS_preprocess.py:607: PendingDeprecationWarning: The set_tight_layout function will be deprecated in a future version. Use set_layout_engine instead.\n",
      "  fig.set_tight_layout(True)\n"
     ]
    },
    {
     "name": "stdout",
     "output_type": "stream",
     "text": [
      "45%"
     ]
    },
    {
     "name": "stderr",
     "output_type": "stream",
     "text": [
      "c:\\Users\\mp222\\OneDrive - Imperial College London\\IslandTimeGitHub\\IslandTime\\coastsatmaster\\coastsat\\SDS_preprocess.py:607: PendingDeprecationWarning: The set_tight_layout function will be deprecated in a future version. Use set_layout_engine instead.\n",
      "  fig.set_tight_layout(True)\n"
     ]
    },
    {
     "name": "stdout",
     "output_type": "stream",
     "text": [
      "45%"
     ]
    },
    {
     "name": "stderr",
     "output_type": "stream",
     "text": [
      "c:\\Users\\mp222\\OneDrive - Imperial College London\\IslandTimeGitHub\\IslandTime\\coastsatmaster\\coastsat\\SDS_preprocess.py:607: PendingDeprecationWarning: The set_tight_layout function will be deprecated in a future version. Use set_layout_engine instead.\n",
      "  fig.set_tight_layout(True)\n"
     ]
    },
    {
     "name": "stdout",
     "output_type": "stream",
     "text": [
      "45%"
     ]
    },
    {
     "name": "stderr",
     "output_type": "stream",
     "text": [
      "c:\\Users\\mp222\\OneDrive - Imperial College London\\IslandTimeGitHub\\IslandTime\\coastsatmaster\\coastsat\\SDS_preprocess.py:607: PendingDeprecationWarning: The set_tight_layout function will be deprecated in a future version. Use set_layout_engine instead.\n",
      "  fig.set_tight_layout(True)\n"
     ]
    },
    {
     "name": "stdout",
     "output_type": "stream",
     "text": [
      "46%"
     ]
    },
    {
     "name": "stderr",
     "output_type": "stream",
     "text": [
      "c:\\Users\\mp222\\OneDrive - Imperial College London\\IslandTimeGitHub\\IslandTime\\coastsatmaster\\coastsat\\SDS_preprocess.py:607: PendingDeprecationWarning: The set_tight_layout function will be deprecated in a future version. Use set_layout_engine instead.\n",
      "  fig.set_tight_layout(True)\n"
     ]
    },
    {
     "name": "stdout",
     "output_type": "stream",
     "text": [
      "47%"
     ]
    },
    {
     "name": "stderr",
     "output_type": "stream",
     "text": [
      "c:\\Users\\mp222\\OneDrive - Imperial College London\\IslandTimeGitHub\\IslandTime\\coastsatmaster\\coastsat\\SDS_preprocess.py:607: PendingDeprecationWarning: The set_tight_layout function will be deprecated in a future version. Use set_layout_engine instead.\n",
      "  fig.set_tight_layout(True)\n"
     ]
    },
    {
     "name": "stdout",
     "output_type": "stream",
     "text": [
      "47%"
     ]
    },
    {
     "name": "stderr",
     "output_type": "stream",
     "text": [
      "c:\\Users\\mp222\\OneDrive - Imperial College London\\IslandTimeGitHub\\IslandTime\\coastsatmaster\\coastsat\\SDS_preprocess.py:607: PendingDeprecationWarning: The set_tight_layout function will be deprecated in a future version. Use set_layout_engine instead.\n",
      "  fig.set_tight_layout(True)\n"
     ]
    },
    {
     "name": "stdout",
     "output_type": "stream",
     "text": [
      "48%"
     ]
    },
    {
     "name": "stderr",
     "output_type": "stream",
     "text": [
      "c:\\Users\\mp222\\OneDrive - Imperial College London\\IslandTimeGitHub\\IslandTime\\coastsatmaster\\coastsat\\SDS_preprocess.py:607: PendingDeprecationWarning: The set_tight_layout function will be deprecated in a future version. Use set_layout_engine instead.\n",
      "  fig.set_tight_layout(True)\n"
     ]
    },
    {
     "name": "stdout",
     "output_type": "stream",
     "text": [
      "48%"
     ]
    },
    {
     "name": "stderr",
     "output_type": "stream",
     "text": [
      "c:\\Users\\mp222\\OneDrive - Imperial College London\\IslandTimeGitHub\\IslandTime\\coastsatmaster\\coastsat\\SDS_preprocess.py:607: PendingDeprecationWarning: The set_tight_layout function will be deprecated in a future version. Use set_layout_engine instead.\n",
      "  fig.set_tight_layout(True)\n"
     ]
    },
    {
     "name": "stdout",
     "output_type": "stream",
     "text": [
      "48%"
     ]
    },
    {
     "name": "stderr",
     "output_type": "stream",
     "text": [
      "c:\\Users\\mp222\\OneDrive - Imperial College London\\IslandTimeGitHub\\IslandTime\\coastsatmaster\\coastsat\\SDS_preprocess.py:607: PendingDeprecationWarning: The set_tight_layout function will be deprecated in a future version. Use set_layout_engine instead.\n",
      "  fig.set_tight_layout(True)\n"
     ]
    },
    {
     "name": "stdout",
     "output_type": "stream",
     "text": [
      "49%"
     ]
    },
    {
     "name": "stderr",
     "output_type": "stream",
     "text": [
      "c:\\Users\\mp222\\OneDrive - Imperial College London\\IslandTimeGitHub\\IslandTime\\coastsatmaster\\coastsat\\SDS_preprocess.py:607: PendingDeprecationWarning: The set_tight_layout function will be deprecated in a future version. Use set_layout_engine instead.\n",
      "  fig.set_tight_layout(True)\n"
     ]
    },
    {
     "name": "stdout",
     "output_type": "stream",
     "text": [
      "50%"
     ]
    },
    {
     "name": "stderr",
     "output_type": "stream",
     "text": [
      "c:\\Users\\mp222\\OneDrive - Imperial College London\\IslandTimeGitHub\\IslandTime\\coastsatmaster\\coastsat\\SDS_preprocess.py:607: PendingDeprecationWarning: The set_tight_layout function will be deprecated in a future version. Use set_layout_engine instead.\n",
      "  fig.set_tight_layout(True)\n"
     ]
    },
    {
     "name": "stdout",
     "output_type": "stream",
     "text": [
      "50%"
     ]
    },
    {
     "name": "stderr",
     "output_type": "stream",
     "text": [
      "c:\\Users\\mp222\\OneDrive - Imperial College London\\IslandTimeGitHub\\IslandTime\\coastsatmaster\\coastsat\\SDS_preprocess.py:607: PendingDeprecationWarning: The set_tight_layout function will be deprecated in a future version. Use set_layout_engine instead.\n",
      "  fig.set_tight_layout(True)\n"
     ]
    },
    {
     "name": "stdout",
     "output_type": "stream",
     "text": [
      "50%"
     ]
    },
    {
     "name": "stderr",
     "output_type": "stream",
     "text": [
      "c:\\Users\\mp222\\OneDrive - Imperial College London\\IslandTimeGitHub\\IslandTime\\coastsatmaster\\coastsat\\SDS_preprocess.py:607: PendingDeprecationWarning: The set_tight_layout function will be deprecated in a future version. Use set_layout_engine instead.\n",
      "  fig.set_tight_layout(True)\n"
     ]
    },
    {
     "name": "stdout",
     "output_type": "stream",
     "text": [
      "51%"
     ]
    },
    {
     "name": "stderr",
     "output_type": "stream",
     "text": [
      "c:\\Users\\mp222\\OneDrive - Imperial College London\\IslandTimeGitHub\\IslandTime\\coastsatmaster\\coastsat\\SDS_preprocess.py:607: PendingDeprecationWarning: The set_tight_layout function will be deprecated in a future version. Use set_layout_engine instead.\n",
      "  fig.set_tight_layout(True)\n"
     ]
    },
    {
     "name": "stdout",
     "output_type": "stream",
     "text": [
      "51%"
     ]
    },
    {
     "name": "stderr",
     "output_type": "stream",
     "text": [
      "c:\\Users\\mp222\\OneDrive - Imperial College London\\IslandTimeGitHub\\IslandTime\\coastsatmaster\\coastsat\\SDS_preprocess.py:607: PendingDeprecationWarning: The set_tight_layout function will be deprecated in a future version. Use set_layout_engine instead.\n",
      "  fig.set_tight_layout(True)\n"
     ]
    },
    {
     "name": "stdout",
     "output_type": "stream",
     "text": [
      "51%"
     ]
    },
    {
     "name": "stderr",
     "output_type": "stream",
     "text": [
      "c:\\Users\\mp222\\OneDrive - Imperial College London\\IslandTimeGitHub\\IslandTime\\coastsatmaster\\coastsat\\SDS_preprocess.py:607: PendingDeprecationWarning: The set_tight_layout function will be deprecated in a future version. Use set_layout_engine instead.\n",
      "  fig.set_tight_layout(True)\n"
     ]
    },
    {
     "name": "stdout",
     "output_type": "stream",
     "text": [
      "51%"
     ]
    },
    {
     "name": "stderr",
     "output_type": "stream",
     "text": [
      "c:\\Users\\mp222\\OneDrive - Imperial College London\\IslandTimeGitHub\\IslandTime\\coastsatmaster\\coastsat\\SDS_preprocess.py:607: PendingDeprecationWarning: The set_tight_layout function will be deprecated in a future version. Use set_layout_engine instead.\n",
      "  fig.set_tight_layout(True)\n"
     ]
    },
    {
     "name": "stdout",
     "output_type": "stream",
     "text": [
      "52%"
     ]
    },
    {
     "name": "stderr",
     "output_type": "stream",
     "text": [
      "c:\\Users\\mp222\\OneDrive - Imperial College London\\IslandTimeGitHub\\IslandTime\\coastsatmaster\\coastsat\\SDS_preprocess.py:607: PendingDeprecationWarning: The set_tight_layout function will be deprecated in a future version. Use set_layout_engine instead.\n",
      "  fig.set_tight_layout(True)\n"
     ]
    },
    {
     "name": "stdout",
     "output_type": "stream",
     "text": [
      "53%"
     ]
    },
    {
     "name": "stderr",
     "output_type": "stream",
     "text": [
      "c:\\Users\\mp222\\OneDrive - Imperial College London\\IslandTimeGitHub\\IslandTime\\coastsatmaster\\coastsat\\SDS_preprocess.py:607: PendingDeprecationWarning: The set_tight_layout function will be deprecated in a future version. Use set_layout_engine instead.\n",
      "  fig.set_tight_layout(True)\n"
     ]
    },
    {
     "name": "stdout",
     "output_type": "stream",
     "text": [
      "54%"
     ]
    },
    {
     "name": "stderr",
     "output_type": "stream",
     "text": [
      "c:\\Users\\mp222\\OneDrive - Imperial College London\\IslandTimeGitHub\\IslandTime\\coastsatmaster\\coastsat\\SDS_preprocess.py:607: PendingDeprecationWarning: The set_tight_layout function will be deprecated in a future version. Use set_layout_engine instead.\n",
      "  fig.set_tight_layout(True)\n"
     ]
    },
    {
     "name": "stdout",
     "output_type": "stream",
     "text": [
      "54%"
     ]
    },
    {
     "name": "stderr",
     "output_type": "stream",
     "text": [
      "c:\\Users\\mp222\\OneDrive - Imperial College London\\IslandTimeGitHub\\IslandTime\\coastsatmaster\\coastsat\\SDS_preprocess.py:607: PendingDeprecationWarning: The set_tight_layout function will be deprecated in a future version. Use set_layout_engine instead.\n",
      "  fig.set_tight_layout(True)\n"
     ]
    },
    {
     "name": "stdout",
     "output_type": "stream",
     "text": [
      "54%"
     ]
    },
    {
     "name": "stderr",
     "output_type": "stream",
     "text": [
      "c:\\Users\\mp222\\OneDrive - Imperial College London\\IslandTimeGitHub\\IslandTime\\coastsatmaster\\coastsat\\SDS_preprocess.py:607: PendingDeprecationWarning: The set_tight_layout function will be deprecated in a future version. Use set_layout_engine instead.\n",
      "  fig.set_tight_layout(True)\n"
     ]
    },
    {
     "name": "stdout",
     "output_type": "stream",
     "text": [
      "55%"
     ]
    },
    {
     "name": "stderr",
     "output_type": "stream",
     "text": [
      "c:\\Users\\mp222\\OneDrive - Imperial College London\\IslandTimeGitHub\\IslandTime\\coastsatmaster\\coastsat\\SDS_preprocess.py:607: PendingDeprecationWarning: The set_tight_layout function will be deprecated in a future version. Use set_layout_engine instead.\n",
      "  fig.set_tight_layout(True)\n"
     ]
    },
    {
     "name": "stdout",
     "output_type": "stream",
     "text": [
      "56%"
     ]
    },
    {
     "name": "stderr",
     "output_type": "stream",
     "text": [
      "c:\\Users\\mp222\\OneDrive - Imperial College London\\IslandTimeGitHub\\IslandTime\\coastsatmaster\\coastsat\\SDS_preprocess.py:607: PendingDeprecationWarning: The set_tight_layout function will be deprecated in a future version. Use set_layout_engine instead.\n",
      "  fig.set_tight_layout(True)\n"
     ]
    },
    {
     "name": "stdout",
     "output_type": "stream",
     "text": [
      "56%"
     ]
    },
    {
     "name": "stderr",
     "output_type": "stream",
     "text": [
      "c:\\Users\\mp222\\OneDrive - Imperial College London\\IslandTimeGitHub\\IslandTime\\coastsatmaster\\coastsat\\SDS_preprocess.py:607: PendingDeprecationWarning: The set_tight_layout function will be deprecated in a future version. Use set_layout_engine instead.\n",
      "  fig.set_tight_layout(True)\n"
     ]
    },
    {
     "name": "stdout",
     "output_type": "stream",
     "text": [
      "56%"
     ]
    },
    {
     "name": "stderr",
     "output_type": "stream",
     "text": [
      "c:\\Users\\mp222\\OneDrive - Imperial College London\\IslandTimeGitHub\\IslandTime\\coastsatmaster\\coastsat\\SDS_preprocess.py:607: PendingDeprecationWarning: The set_tight_layout function will be deprecated in a future version. Use set_layout_engine instead.\n",
      "  fig.set_tight_layout(True)\n"
     ]
    },
    {
     "name": "stdout",
     "output_type": "stream",
     "text": [
      "57%"
     ]
    },
    {
     "name": "stderr",
     "output_type": "stream",
     "text": [
      "c:\\Users\\mp222\\OneDrive - Imperial College London\\IslandTimeGitHub\\IslandTime\\coastsatmaster\\coastsat\\SDS_preprocess.py:607: PendingDeprecationWarning: The set_tight_layout function will be deprecated in a future version. Use set_layout_engine instead.\n",
      "  fig.set_tight_layout(True)\n"
     ]
    },
    {
     "name": "stdout",
     "output_type": "stream",
     "text": [
      "57%"
     ]
    },
    {
     "name": "stderr",
     "output_type": "stream",
     "text": [
      "c:\\Users\\mp222\\OneDrive - Imperial College London\\IslandTimeGitHub\\IslandTime\\coastsatmaster\\coastsat\\SDS_preprocess.py:607: PendingDeprecationWarning: The set_tight_layout function will be deprecated in a future version. Use set_layout_engine instead.\n",
      "  fig.set_tight_layout(True)\n"
     ]
    },
    {
     "name": "stdout",
     "output_type": "stream",
     "text": [
      "57%"
     ]
    },
    {
     "name": "stderr",
     "output_type": "stream",
     "text": [
      "c:\\Users\\mp222\\OneDrive - Imperial College London\\IslandTimeGitHub\\IslandTime\\coastsatmaster\\coastsat\\SDS_preprocess.py:607: PendingDeprecationWarning: The set_tight_layout function will be deprecated in a future version. Use set_layout_engine instead.\n",
      "  fig.set_tight_layout(True)\n"
     ]
    },
    {
     "name": "stdout",
     "output_type": "stream",
     "text": [
      "57%"
     ]
    },
    {
     "name": "stderr",
     "output_type": "stream",
     "text": [
      "c:\\Users\\mp222\\OneDrive - Imperial College London\\IslandTimeGitHub\\IslandTime\\coastsatmaster\\coastsat\\SDS_preprocess.py:607: PendingDeprecationWarning: The set_tight_layout function will be deprecated in a future version. Use set_layout_engine instead.\n",
      "  fig.set_tight_layout(True)\n"
     ]
    },
    {
     "name": "stdout",
     "output_type": "stream",
     "text": [
      "58%"
     ]
    },
    {
     "name": "stderr",
     "output_type": "stream",
     "text": [
      "c:\\Users\\mp222\\OneDrive - Imperial College London\\IslandTimeGitHub\\IslandTime\\coastsatmaster\\coastsat\\SDS_preprocess.py:607: PendingDeprecationWarning: The set_tight_layout function will be deprecated in a future version. Use set_layout_engine instead.\n",
      "  fig.set_tight_layout(True)\n"
     ]
    },
    {
     "name": "stdout",
     "output_type": "stream",
     "text": [
      "58%"
     ]
    },
    {
     "name": "stderr",
     "output_type": "stream",
     "text": [
      "c:\\Users\\mp222\\OneDrive - Imperial College London\\IslandTimeGitHub\\IslandTime\\coastsatmaster\\coastsat\\SDS_preprocess.py:607: PendingDeprecationWarning: The set_tight_layout function will be deprecated in a future version. Use set_layout_engine instead.\n",
      "  fig.set_tight_layout(True)\n"
     ]
    },
    {
     "name": "stdout",
     "output_type": "stream",
     "text": [
      "58%"
     ]
    },
    {
     "name": "stderr",
     "output_type": "stream",
     "text": [
      "c:\\Users\\mp222\\OneDrive - Imperial College London\\IslandTimeGitHub\\IslandTime\\coastsatmaster\\coastsat\\SDS_preprocess.py:607: PendingDeprecationWarning: The set_tight_layout function will be deprecated in a future version. Use set_layout_engine instead.\n",
      "  fig.set_tight_layout(True)\n"
     ]
    },
    {
     "name": "stdout",
     "output_type": "stream",
     "text": [
      "59%"
     ]
    },
    {
     "name": "stderr",
     "output_type": "stream",
     "text": [
      "c:\\Users\\mp222\\OneDrive - Imperial College London\\IslandTimeGitHub\\IslandTime\\coastsatmaster\\coastsat\\SDS_preprocess.py:607: PendingDeprecationWarning: The set_tight_layout function will be deprecated in a future version. Use set_layout_engine instead.\n",
      "  fig.set_tight_layout(True)\n"
     ]
    },
    {
     "name": "stdout",
     "output_type": "stream",
     "text": [
      "59%"
     ]
    },
    {
     "name": "stderr",
     "output_type": "stream",
     "text": [
      "c:\\Users\\mp222\\OneDrive - Imperial College London\\IslandTimeGitHub\\IslandTime\\coastsatmaster\\coastsat\\SDS_preprocess.py:607: PendingDeprecationWarning: The set_tight_layout function will be deprecated in a future version. Use set_layout_engine instead.\n",
      "  fig.set_tight_layout(True)\n"
     ]
    },
    {
     "name": "stdout",
     "output_type": "stream",
     "text": [
      "59%"
     ]
    },
    {
     "name": "stderr",
     "output_type": "stream",
     "text": [
      "c:\\Users\\mp222\\OneDrive - Imperial College London\\IslandTimeGitHub\\IslandTime\\coastsatmaster\\coastsat\\SDS_preprocess.py:607: PendingDeprecationWarning: The set_tight_layout function will be deprecated in a future version. Use set_layout_engine instead.\n",
      "  fig.set_tight_layout(True)\n"
     ]
    },
    {
     "name": "stdout",
     "output_type": "stream",
     "text": [
      "60%"
     ]
    },
    {
     "name": "stderr",
     "output_type": "stream",
     "text": [
      "c:\\Users\\mp222\\OneDrive - Imperial College London\\IslandTimeGitHub\\IslandTime\\coastsatmaster\\coastsat\\SDS_preprocess.py:607: PendingDeprecationWarning: The set_tight_layout function will be deprecated in a future version. Use set_layout_engine instead.\n",
      "  fig.set_tight_layout(True)\n"
     ]
    },
    {
     "name": "stdout",
     "output_type": "stream",
     "text": [
      "60%"
     ]
    },
    {
     "name": "stderr",
     "output_type": "stream",
     "text": [
      "c:\\Users\\mp222\\OneDrive - Imperial College London\\IslandTimeGitHub\\IslandTime\\coastsatmaster\\coastsat\\SDS_preprocess.py:607: PendingDeprecationWarning: The set_tight_layout function will be deprecated in a future version. Use set_layout_engine instead.\n",
      "  fig.set_tight_layout(True)\n"
     ]
    },
    {
     "name": "stdout",
     "output_type": "stream",
     "text": [
      "61%"
     ]
    },
    {
     "name": "stderr",
     "output_type": "stream",
     "text": [
      "c:\\Users\\mp222\\OneDrive - Imperial College London\\IslandTimeGitHub\\IslandTime\\coastsatmaster\\coastsat\\SDS_preprocess.py:607: PendingDeprecationWarning: The set_tight_layout function will be deprecated in a future version. Use set_layout_engine instead.\n",
      "  fig.set_tight_layout(True)\n"
     ]
    },
    {
     "name": "stdout",
     "output_type": "stream",
     "text": [
      "61%"
     ]
    },
    {
     "name": "stderr",
     "output_type": "stream",
     "text": [
      "c:\\Users\\mp222\\OneDrive - Imperial College London\\IslandTimeGitHub\\IslandTime\\coastsatmaster\\coastsat\\SDS_preprocess.py:607: PendingDeprecationWarning: The set_tight_layout function will be deprecated in a future version. Use set_layout_engine instead.\n",
      "  fig.set_tight_layout(True)\n"
     ]
    },
    {
     "name": "stdout",
     "output_type": "stream",
     "text": [
      "62%"
     ]
    },
    {
     "name": "stderr",
     "output_type": "stream",
     "text": [
      "c:\\Users\\mp222\\OneDrive - Imperial College London\\IslandTimeGitHub\\IslandTime\\coastsatmaster\\coastsat\\SDS_preprocess.py:607: PendingDeprecationWarning: The set_tight_layout function will be deprecated in a future version. Use set_layout_engine instead.\n",
      "  fig.set_tight_layout(True)\n"
     ]
    },
    {
     "name": "stdout",
     "output_type": "stream",
     "text": [
      "62%"
     ]
    },
    {
     "name": "stderr",
     "output_type": "stream",
     "text": [
      "c:\\Users\\mp222\\OneDrive - Imperial College London\\IslandTimeGitHub\\IslandTime\\coastsatmaster\\coastsat\\SDS_preprocess.py:607: PendingDeprecationWarning: The set_tight_layout function will be deprecated in a future version. Use set_layout_engine instead.\n",
      "  fig.set_tight_layout(True)\n"
     ]
    },
    {
     "name": "stdout",
     "output_type": "stream",
     "text": [
      "63%"
     ]
    },
    {
     "name": "stderr",
     "output_type": "stream",
     "text": [
      "c:\\Users\\mp222\\OneDrive - Imperial College London\\IslandTimeGitHub\\IslandTime\\coastsatmaster\\coastsat\\SDS_preprocess.py:607: PendingDeprecationWarning: The set_tight_layout function will be deprecated in a future version. Use set_layout_engine instead.\n",
      "  fig.set_tight_layout(True)\n"
     ]
    },
    {
     "name": "stdout",
     "output_type": "stream",
     "text": [
      "63%"
     ]
    },
    {
     "name": "stderr",
     "output_type": "stream",
     "text": [
      "c:\\Users\\mp222\\OneDrive - Imperial College London\\IslandTimeGitHub\\IslandTime\\coastsatmaster\\coastsat\\SDS_preprocess.py:607: PendingDeprecationWarning: The set_tight_layout function will be deprecated in a future version. Use set_layout_engine instead.\n",
      "  fig.set_tight_layout(True)\n"
     ]
    },
    {
     "name": "stdout",
     "output_type": "stream",
     "text": [
      "63%"
     ]
    },
    {
     "name": "stderr",
     "output_type": "stream",
     "text": [
      "c:\\Users\\mp222\\OneDrive - Imperial College London\\IslandTimeGitHub\\IslandTime\\coastsatmaster\\coastsat\\SDS_preprocess.py:607: PendingDeprecationWarning: The set_tight_layout function will be deprecated in a future version. Use set_layout_engine instead.\n",
      "  fig.set_tight_layout(True)\n"
     ]
    },
    {
     "name": "stdout",
     "output_type": "stream",
     "text": [
      "63%"
     ]
    },
    {
     "name": "stderr",
     "output_type": "stream",
     "text": [
      "c:\\Users\\mp222\\OneDrive - Imperial College London\\IslandTimeGitHub\\IslandTime\\coastsatmaster\\coastsat\\SDS_preprocess.py:607: PendingDeprecationWarning: The set_tight_layout function will be deprecated in a future version. Use set_layout_engine instead.\n",
      "  fig.set_tight_layout(True)\n"
     ]
    },
    {
     "name": "stdout",
     "output_type": "stream",
     "text": [
      "64%"
     ]
    },
    {
     "name": "stderr",
     "output_type": "stream",
     "text": [
      "c:\\Users\\mp222\\OneDrive - Imperial College London\\IslandTimeGitHub\\IslandTime\\coastsatmaster\\coastsat\\SDS_preprocess.py:607: PendingDeprecationWarning: The set_tight_layout function will be deprecated in a future version. Use set_layout_engine instead.\n",
      "  fig.set_tight_layout(True)\n"
     ]
    },
    {
     "name": "stdout",
     "output_type": "stream",
     "text": [
      "64%"
     ]
    },
    {
     "name": "stderr",
     "output_type": "stream",
     "text": [
      "c:\\Users\\mp222\\OneDrive - Imperial College London\\IslandTimeGitHub\\IslandTime\\coastsatmaster\\coastsat\\SDS_preprocess.py:607: PendingDeprecationWarning: The set_tight_layout function will be deprecated in a future version. Use set_layout_engine instead.\n",
      "  fig.set_tight_layout(True)\n"
     ]
    },
    {
     "name": "stdout",
     "output_type": "stream",
     "text": [
      "65%"
     ]
    },
    {
     "name": "stderr",
     "output_type": "stream",
     "text": [
      "c:\\Users\\mp222\\OneDrive - Imperial College London\\IslandTimeGitHub\\IslandTime\\coastsatmaster\\coastsat\\SDS_preprocess.py:607: PendingDeprecationWarning: The set_tight_layout function will be deprecated in a future version. Use set_layout_engine instead.\n",
      "  fig.set_tight_layout(True)\n"
     ]
    },
    {
     "name": "stdout",
     "output_type": "stream",
     "text": [
      "65%"
     ]
    },
    {
     "name": "stderr",
     "output_type": "stream",
     "text": [
      "c:\\Users\\mp222\\OneDrive - Imperial College London\\IslandTimeGitHub\\IslandTime\\coastsatmaster\\coastsat\\SDS_preprocess.py:607: PendingDeprecationWarning: The set_tight_layout function will be deprecated in a future version. Use set_layout_engine instead.\n",
      "  fig.set_tight_layout(True)\n"
     ]
    },
    {
     "name": "stdout",
     "output_type": "stream",
     "text": [
      "65%"
     ]
    },
    {
     "name": "stderr",
     "output_type": "stream",
     "text": [
      "c:\\Users\\mp222\\OneDrive - Imperial College London\\IslandTimeGitHub\\IslandTime\\coastsatmaster\\coastsat\\SDS_preprocess.py:607: PendingDeprecationWarning: The set_tight_layout function will be deprecated in a future version. Use set_layout_engine instead.\n",
      "  fig.set_tight_layout(True)\n"
     ]
    },
    {
     "name": "stdout",
     "output_type": "stream",
     "text": [
      "66%"
     ]
    },
    {
     "name": "stderr",
     "output_type": "stream",
     "text": [
      "c:\\Users\\mp222\\OneDrive - Imperial College London\\IslandTimeGitHub\\IslandTime\\coastsatmaster\\coastsat\\SDS_preprocess.py:607: PendingDeprecationWarning: The set_tight_layout function will be deprecated in a future version. Use set_layout_engine instead.\n",
      "  fig.set_tight_layout(True)\n"
     ]
    },
    {
     "name": "stdout",
     "output_type": "stream",
     "text": [
      "66%"
     ]
    },
    {
     "name": "stderr",
     "output_type": "stream",
     "text": [
      "c:\\Users\\mp222\\OneDrive - Imperial College London\\IslandTimeGitHub\\IslandTime\\coastsatmaster\\coastsat\\SDS_preprocess.py:607: PendingDeprecationWarning: The set_tight_layout function will be deprecated in a future version. Use set_layout_engine instead.\n",
      "  fig.set_tight_layout(True)\n"
     ]
    },
    {
     "name": "stdout",
     "output_type": "stream",
     "text": [
      "67%"
     ]
    },
    {
     "name": "stderr",
     "output_type": "stream",
     "text": [
      "c:\\Users\\mp222\\OneDrive - Imperial College London\\IslandTimeGitHub\\IslandTime\\coastsatmaster\\coastsat\\SDS_preprocess.py:607: PendingDeprecationWarning: The set_tight_layout function will be deprecated in a future version. Use set_layout_engine instead.\n",
      "  fig.set_tight_layout(True)\n"
     ]
    },
    {
     "name": "stdout",
     "output_type": "stream",
     "text": [
      "68%"
     ]
    },
    {
     "name": "stderr",
     "output_type": "stream",
     "text": [
      "c:\\Users\\mp222\\OneDrive - Imperial College London\\IslandTimeGitHub\\IslandTime\\coastsatmaster\\coastsat\\SDS_preprocess.py:607: PendingDeprecationWarning: The set_tight_layout function will be deprecated in a future version. Use set_layout_engine instead.\n",
      "  fig.set_tight_layout(True)\n"
     ]
    },
    {
     "name": "stdout",
     "output_type": "stream",
     "text": [
      "68%"
     ]
    },
    {
     "name": "stderr",
     "output_type": "stream",
     "text": [
      "c:\\Users\\mp222\\OneDrive - Imperial College London\\IslandTimeGitHub\\IslandTime\\coastsatmaster\\coastsat\\SDS_preprocess.py:607: PendingDeprecationWarning: The set_tight_layout function will be deprecated in a future version. Use set_layout_engine instead.\n",
      "  fig.set_tight_layout(True)\n"
     ]
    },
    {
     "name": "stdout",
     "output_type": "stream",
     "text": [
      "68%"
     ]
    },
    {
     "name": "stderr",
     "output_type": "stream",
     "text": [
      "c:\\Users\\mp222\\OneDrive - Imperial College London\\IslandTimeGitHub\\IslandTime\\coastsatmaster\\coastsat\\SDS_preprocess.py:607: PendingDeprecationWarning: The set_tight_layout function will be deprecated in a future version. Use set_layout_engine instead.\n",
      "  fig.set_tight_layout(True)\n"
     ]
    },
    {
     "name": "stdout",
     "output_type": "stream",
     "text": [
      "68%"
     ]
    },
    {
     "name": "stderr",
     "output_type": "stream",
     "text": [
      "c:\\Users\\mp222\\OneDrive - Imperial College London\\IslandTimeGitHub\\IslandTime\\coastsatmaster\\coastsat\\SDS_preprocess.py:607: PendingDeprecationWarning: The set_tight_layout function will be deprecated in a future version. Use set_layout_engine instead.\n",
      "  fig.set_tight_layout(True)\n"
     ]
    },
    {
     "name": "stdout",
     "output_type": "stream",
     "text": [
      "69%"
     ]
    },
    {
     "name": "stderr",
     "output_type": "stream",
     "text": [
      "c:\\Users\\mp222\\OneDrive - Imperial College London\\IslandTimeGitHub\\IslandTime\\coastsatmaster\\coastsat\\SDS_preprocess.py:607: PendingDeprecationWarning: The set_tight_layout function will be deprecated in a future version. Use set_layout_engine instead.\n",
      "  fig.set_tight_layout(True)\n"
     ]
    },
    {
     "name": "stdout",
     "output_type": "stream",
     "text": [
      "69%"
     ]
    },
    {
     "name": "stderr",
     "output_type": "stream",
     "text": [
      "c:\\Users\\mp222\\OneDrive - Imperial College London\\IslandTimeGitHub\\IslandTime\\coastsatmaster\\coastsat\\SDS_preprocess.py:607: PendingDeprecationWarning: The set_tight_layout function will be deprecated in a future version. Use set_layout_engine instead.\n",
      "  fig.set_tight_layout(True)\n"
     ]
    },
    {
     "name": "stdout",
     "output_type": "stream",
     "text": [
      "69%"
     ]
    },
    {
     "name": "stderr",
     "output_type": "stream",
     "text": [
      "c:\\Users\\mp222\\OneDrive - Imperial College London\\IslandTimeGitHub\\IslandTime\\coastsatmaster\\coastsat\\SDS_preprocess.py:607: PendingDeprecationWarning: The set_tight_layout function will be deprecated in a future version. Use set_layout_engine instead.\n",
      "  fig.set_tight_layout(True)\n"
     ]
    },
    {
     "name": "stdout",
     "output_type": "stream",
     "text": [
      "70%"
     ]
    },
    {
     "name": "stderr",
     "output_type": "stream",
     "text": [
      "c:\\Users\\mp222\\OneDrive - Imperial College London\\IslandTimeGitHub\\IslandTime\\coastsatmaster\\coastsat\\SDS_preprocess.py:607: PendingDeprecationWarning: The set_tight_layout function will be deprecated in a future version. Use set_layout_engine instead.\n",
      "  fig.set_tight_layout(True)\n"
     ]
    },
    {
     "name": "stdout",
     "output_type": "stream",
     "text": [
      "70%"
     ]
    },
    {
     "name": "stderr",
     "output_type": "stream",
     "text": [
      "c:\\Users\\mp222\\OneDrive - Imperial College London\\IslandTimeGitHub\\IslandTime\\coastsatmaster\\coastsat\\SDS_preprocess.py:607: PendingDeprecationWarning: The set_tight_layout function will be deprecated in a future version. Use set_layout_engine instead.\n",
      "  fig.set_tight_layout(True)\n"
     ]
    },
    {
     "name": "stdout",
     "output_type": "stream",
     "text": [
      "70%"
     ]
    },
    {
     "name": "stderr",
     "output_type": "stream",
     "text": [
      "c:\\Users\\mp222\\OneDrive - Imperial College London\\IslandTimeGitHub\\IslandTime\\coastsatmaster\\coastsat\\SDS_preprocess.py:607: PendingDeprecationWarning: The set_tight_layout function will be deprecated in a future version. Use set_layout_engine instead.\n",
      "  fig.set_tight_layout(True)\n"
     ]
    },
    {
     "name": "stdout",
     "output_type": "stream",
     "text": [
      "70%"
     ]
    },
    {
     "name": "stderr",
     "output_type": "stream",
     "text": [
      "c:\\Users\\mp222\\OneDrive - Imperial College London\\IslandTimeGitHub\\IslandTime\\coastsatmaster\\coastsat\\SDS_preprocess.py:607: PendingDeprecationWarning: The set_tight_layout function will be deprecated in a future version. Use set_layout_engine instead.\n",
      "  fig.set_tight_layout(True)\n"
     ]
    },
    {
     "name": "stdout",
     "output_type": "stream",
     "text": [
      "71%"
     ]
    },
    {
     "name": "stderr",
     "output_type": "stream",
     "text": [
      "c:\\Users\\mp222\\OneDrive - Imperial College London\\IslandTimeGitHub\\IslandTime\\coastsatmaster\\coastsat\\SDS_preprocess.py:607: PendingDeprecationWarning: The set_tight_layout function will be deprecated in a future version. Use set_layout_engine instead.\n",
      "  fig.set_tight_layout(True)\n"
     ]
    },
    {
     "name": "stdout",
     "output_type": "stream",
     "text": [
      "71%"
     ]
    },
    {
     "name": "stderr",
     "output_type": "stream",
     "text": [
      "c:\\Users\\mp222\\OneDrive - Imperial College London\\IslandTimeGitHub\\IslandTime\\coastsatmaster\\coastsat\\SDS_preprocess.py:607: PendingDeprecationWarning: The set_tight_layout function will be deprecated in a future version. Use set_layout_engine instead.\n",
      "  fig.set_tight_layout(True)\n"
     ]
    },
    {
     "name": "stdout",
     "output_type": "stream",
     "text": [
      "71%"
     ]
    },
    {
     "name": "stderr",
     "output_type": "stream",
     "text": [
      "c:\\Users\\mp222\\OneDrive - Imperial College London\\IslandTimeGitHub\\IslandTime\\coastsatmaster\\coastsat\\SDS_preprocess.py:607: PendingDeprecationWarning: The set_tight_layout function will be deprecated in a future version. Use set_layout_engine instead.\n",
      "  fig.set_tight_layout(True)\n"
     ]
    },
    {
     "name": "stdout",
     "output_type": "stream",
     "text": [
      "72%"
     ]
    },
    {
     "name": "stderr",
     "output_type": "stream",
     "text": [
      "c:\\Users\\mp222\\OneDrive - Imperial College London\\IslandTimeGitHub\\IslandTime\\coastsatmaster\\coastsat\\SDS_preprocess.py:607: PendingDeprecationWarning: The set_tight_layout function will be deprecated in a future version. Use set_layout_engine instead.\n",
      "  fig.set_tight_layout(True)\n"
     ]
    },
    {
     "name": "stdout",
     "output_type": "stream",
     "text": [
      "72%"
     ]
    },
    {
     "name": "stderr",
     "output_type": "stream",
     "text": [
      "c:\\Users\\mp222\\OneDrive - Imperial College London\\IslandTimeGitHub\\IslandTime\\coastsatmaster\\coastsat\\SDS_preprocess.py:607: PendingDeprecationWarning: The set_tight_layout function will be deprecated in a future version. Use set_layout_engine instead.\n",
      "  fig.set_tight_layout(True)\n"
     ]
    },
    {
     "name": "stdout",
     "output_type": "stream",
     "text": [
      "72%"
     ]
    },
    {
     "name": "stderr",
     "output_type": "stream",
     "text": [
      "c:\\Users\\mp222\\OneDrive - Imperial College London\\IslandTimeGitHub\\IslandTime\\coastsatmaster\\coastsat\\SDS_preprocess.py:607: PendingDeprecationWarning: The set_tight_layout function will be deprecated in a future version. Use set_layout_engine instead.\n",
      "  fig.set_tight_layout(True)\n"
     ]
    },
    {
     "name": "stdout",
     "output_type": "stream",
     "text": [
      "72%"
     ]
    },
    {
     "name": "stderr",
     "output_type": "stream",
     "text": [
      "c:\\Users\\mp222\\OneDrive - Imperial College London\\IslandTimeGitHub\\IslandTime\\coastsatmaster\\coastsat\\SDS_preprocess.py:607: PendingDeprecationWarning: The set_tight_layout function will be deprecated in a future version. Use set_layout_engine instead.\n",
      "  fig.set_tight_layout(True)\n"
     ]
    },
    {
     "name": "stdout",
     "output_type": "stream",
     "text": [
      "72%"
     ]
    },
    {
     "name": "stderr",
     "output_type": "stream",
     "text": [
      "c:\\Users\\mp222\\OneDrive - Imperial College London\\IslandTimeGitHub\\IslandTime\\coastsatmaster\\coastsat\\SDS_preprocess.py:607: PendingDeprecationWarning: The set_tight_layout function will be deprecated in a future version. Use set_layout_engine instead.\n",
      "  fig.set_tight_layout(True)\n"
     ]
    },
    {
     "name": "stdout",
     "output_type": "stream",
     "text": [
      "73%"
     ]
    },
    {
     "name": "stderr",
     "output_type": "stream",
     "text": [
      "c:\\Users\\mp222\\OneDrive - Imperial College London\\IslandTimeGitHub\\IslandTime\\coastsatmaster\\coastsat\\SDS_preprocess.py:607: PendingDeprecationWarning: The set_tight_layout function will be deprecated in a future version. Use set_layout_engine instead.\n",
      "  fig.set_tight_layout(True)\n"
     ]
    },
    {
     "name": "stdout",
     "output_type": "stream",
     "text": [
      "73%"
     ]
    },
    {
     "name": "stderr",
     "output_type": "stream",
     "text": [
      "c:\\Users\\mp222\\OneDrive - Imperial College London\\IslandTimeGitHub\\IslandTime\\coastsatmaster\\coastsat\\SDS_preprocess.py:607: PendingDeprecationWarning: The set_tight_layout function will be deprecated in a future version. Use set_layout_engine instead.\n",
      "  fig.set_tight_layout(True)\n"
     ]
    },
    {
     "name": "stdout",
     "output_type": "stream",
     "text": [
      "73%"
     ]
    },
    {
     "name": "stderr",
     "output_type": "stream",
     "text": [
      "c:\\Users\\mp222\\OneDrive - Imperial College London\\IslandTimeGitHub\\IslandTime\\coastsatmaster\\coastsat\\SDS_preprocess.py:607: PendingDeprecationWarning: The set_tight_layout function will be deprecated in a future version. Use set_layout_engine instead.\n",
      "  fig.set_tight_layout(True)\n"
     ]
    },
    {
     "name": "stdout",
     "output_type": "stream",
     "text": [
      "73%"
     ]
    },
    {
     "name": "stderr",
     "output_type": "stream",
     "text": [
      "c:\\Users\\mp222\\OneDrive - Imperial College London\\IslandTimeGitHub\\IslandTime\\coastsatmaster\\coastsat\\SDS_preprocess.py:607: PendingDeprecationWarning: The set_tight_layout function will be deprecated in a future version. Use set_layout_engine instead.\n",
      "  fig.set_tight_layout(True)\n"
     ]
    },
    {
     "name": "stdout",
     "output_type": "stream",
     "text": [
      "74%"
     ]
    },
    {
     "name": "stderr",
     "output_type": "stream",
     "text": [
      "c:\\Users\\mp222\\OneDrive - Imperial College London\\IslandTimeGitHub\\IslandTime\\coastsatmaster\\coastsat\\SDS_preprocess.py:607: PendingDeprecationWarning: The set_tight_layout function will be deprecated in a future version. Use set_layout_engine instead.\n",
      "  fig.set_tight_layout(True)\n"
     ]
    },
    {
     "name": "stdout",
     "output_type": "stream",
     "text": [
      "74%"
     ]
    },
    {
     "name": "stderr",
     "output_type": "stream",
     "text": [
      "c:\\Users\\mp222\\OneDrive - Imperial College London\\IslandTimeGitHub\\IslandTime\\coastsatmaster\\coastsat\\SDS_preprocess.py:607: PendingDeprecationWarning: The set_tight_layout function will be deprecated in a future version. Use set_layout_engine instead.\n",
      "  fig.set_tight_layout(True)\n"
     ]
    },
    {
     "name": "stdout",
     "output_type": "stream",
     "text": [
      "74%"
     ]
    },
    {
     "name": "stderr",
     "output_type": "stream",
     "text": [
      "c:\\Users\\mp222\\OneDrive - Imperial College London\\IslandTimeGitHub\\IslandTime\\coastsatmaster\\coastsat\\SDS_preprocess.py:607: PendingDeprecationWarning: The set_tight_layout function will be deprecated in a future version. Use set_layout_engine instead.\n",
      "  fig.set_tight_layout(True)\n"
     ]
    },
    {
     "name": "stdout",
     "output_type": "stream",
     "text": [
      "75%"
     ]
    },
    {
     "name": "stderr",
     "output_type": "stream",
     "text": [
      "c:\\Users\\mp222\\OneDrive - Imperial College London\\IslandTimeGitHub\\IslandTime\\coastsatmaster\\coastsat\\SDS_preprocess.py:607: PendingDeprecationWarning: The set_tight_layout function will be deprecated in a future version. Use set_layout_engine instead.\n",
      "  fig.set_tight_layout(True)\n"
     ]
    },
    {
     "name": "stdout",
     "output_type": "stream",
     "text": [
      "75%"
     ]
    },
    {
     "name": "stderr",
     "output_type": "stream",
     "text": [
      "c:\\Users\\mp222\\OneDrive - Imperial College London\\IslandTimeGitHub\\IslandTime\\coastsatmaster\\coastsat\\SDS_preprocess.py:607: PendingDeprecationWarning: The set_tight_layout function will be deprecated in a future version. Use set_layout_engine instead.\n",
      "  fig.set_tight_layout(True)\n"
     ]
    },
    {
     "name": "stdout",
     "output_type": "stream",
     "text": [
      "75%"
     ]
    },
    {
     "name": "stderr",
     "output_type": "stream",
     "text": [
      "c:\\Users\\mp222\\OneDrive - Imperial College London\\IslandTimeGitHub\\IslandTime\\coastsatmaster\\coastsat\\SDS_preprocess.py:607: PendingDeprecationWarning: The set_tight_layout function will be deprecated in a future version. Use set_layout_engine instead.\n",
      "  fig.set_tight_layout(True)\n"
     ]
    },
    {
     "name": "stdout",
     "output_type": "stream",
     "text": [
      "75%"
     ]
    },
    {
     "name": "stderr",
     "output_type": "stream",
     "text": [
      "c:\\Users\\mp222\\OneDrive - Imperial College London\\IslandTimeGitHub\\IslandTime\\coastsatmaster\\coastsat\\SDS_preprocess.py:607: PendingDeprecationWarning: The set_tight_layout function will be deprecated in a future version. Use set_layout_engine instead.\n",
      "  fig.set_tight_layout(True)\n"
     ]
    },
    {
     "name": "stdout",
     "output_type": "stream",
     "text": [
      "76%"
     ]
    },
    {
     "name": "stderr",
     "output_type": "stream",
     "text": [
      "c:\\Users\\mp222\\OneDrive - Imperial College London\\IslandTimeGitHub\\IslandTime\\coastsatmaster\\coastsat\\SDS_preprocess.py:607: PendingDeprecationWarning: The set_tight_layout function will be deprecated in a future version. Use set_layout_engine instead.\n",
      "  fig.set_tight_layout(True)\n"
     ]
    },
    {
     "name": "stdout",
     "output_type": "stream",
     "text": [
      "76%"
     ]
    },
    {
     "name": "stderr",
     "output_type": "stream",
     "text": [
      "c:\\Users\\mp222\\OneDrive - Imperial College London\\IslandTimeGitHub\\IslandTime\\coastsatmaster\\coastsat\\SDS_preprocess.py:607: PendingDeprecationWarning: The set_tight_layout function will be deprecated in a future version. Use set_layout_engine instead.\n",
      "  fig.set_tight_layout(True)\n"
     ]
    },
    {
     "name": "stdout",
     "output_type": "stream",
     "text": [
      "77%"
     ]
    },
    {
     "name": "stderr",
     "output_type": "stream",
     "text": [
      "c:\\Users\\mp222\\OneDrive - Imperial College London\\IslandTimeGitHub\\IslandTime\\coastsatmaster\\coastsat\\SDS_preprocess.py:607: PendingDeprecationWarning: The set_tight_layout function will be deprecated in a future version. Use set_layout_engine instead.\n",
      "  fig.set_tight_layout(True)\n"
     ]
    },
    {
     "name": "stdout",
     "output_type": "stream",
     "text": [
      "77%"
     ]
    },
    {
     "name": "stderr",
     "output_type": "stream",
     "text": [
      "c:\\Users\\mp222\\OneDrive - Imperial College London\\IslandTimeGitHub\\IslandTime\\coastsatmaster\\coastsat\\SDS_preprocess.py:607: PendingDeprecationWarning: The set_tight_layout function will be deprecated in a future version. Use set_layout_engine instead.\n",
      "  fig.set_tight_layout(True)\n"
     ]
    },
    {
     "name": "stdout",
     "output_type": "stream",
     "text": [
      "78%"
     ]
    },
    {
     "name": "stderr",
     "output_type": "stream",
     "text": [
      "c:\\Users\\mp222\\OneDrive - Imperial College London\\IslandTimeGitHub\\IslandTime\\coastsatmaster\\coastsat\\SDS_preprocess.py:607: PendingDeprecationWarning: The set_tight_layout function will be deprecated in a future version. Use set_layout_engine instead.\n",
      "  fig.set_tight_layout(True)\n"
     ]
    },
    {
     "name": "stdout",
     "output_type": "stream",
     "text": [
      "79%"
     ]
    },
    {
     "name": "stderr",
     "output_type": "stream",
     "text": [
      "c:\\Users\\mp222\\OneDrive - Imperial College London\\IslandTimeGitHub\\IslandTime\\coastsatmaster\\coastsat\\SDS_preprocess.py:607: PendingDeprecationWarning: The set_tight_layout function will be deprecated in a future version. Use set_layout_engine instead.\n",
      "  fig.set_tight_layout(True)\n"
     ]
    },
    {
     "name": "stdout",
     "output_type": "stream",
     "text": [
      "79%"
     ]
    },
    {
     "name": "stderr",
     "output_type": "stream",
     "text": [
      "c:\\Users\\mp222\\OneDrive - Imperial College London\\IslandTimeGitHub\\IslandTime\\coastsatmaster\\coastsat\\SDS_preprocess.py:607: PendingDeprecationWarning: The set_tight_layout function will be deprecated in a future version. Use set_layout_engine instead.\n",
      "  fig.set_tight_layout(True)\n"
     ]
    },
    {
     "name": "stdout",
     "output_type": "stream",
     "text": [
      "80%"
     ]
    },
    {
     "name": "stderr",
     "output_type": "stream",
     "text": [
      "c:\\Users\\mp222\\OneDrive - Imperial College London\\IslandTimeGitHub\\IslandTime\\coastsatmaster\\coastsat\\SDS_preprocess.py:607: PendingDeprecationWarning: The set_tight_layout function will be deprecated in a future version. Use set_layout_engine instead.\n",
      "  fig.set_tight_layout(True)\n"
     ]
    },
    {
     "name": "stdout",
     "output_type": "stream",
     "text": [
      "80%"
     ]
    },
    {
     "name": "stderr",
     "output_type": "stream",
     "text": [
      "c:\\Users\\mp222\\OneDrive - Imperial College London\\IslandTimeGitHub\\IslandTime\\coastsatmaster\\coastsat\\SDS_preprocess.py:607: PendingDeprecationWarning: The set_tight_layout function will be deprecated in a future version. Use set_layout_engine instead.\n",
      "  fig.set_tight_layout(True)\n"
     ]
    },
    {
     "name": "stdout",
     "output_type": "stream",
     "text": [
      "80%"
     ]
    },
    {
     "name": "stderr",
     "output_type": "stream",
     "text": [
      "c:\\Users\\mp222\\OneDrive - Imperial College London\\IslandTimeGitHub\\IslandTime\\coastsatmaster\\coastsat\\SDS_preprocess.py:607: PendingDeprecationWarning: The set_tight_layout function will be deprecated in a future version. Use set_layout_engine instead.\n",
      "  fig.set_tight_layout(True)\n"
     ]
    },
    {
     "name": "stdout",
     "output_type": "stream",
     "text": [
      "81%"
     ]
    },
    {
     "name": "stderr",
     "output_type": "stream",
     "text": [
      "c:\\Users\\mp222\\OneDrive - Imperial College London\\IslandTimeGitHub\\IslandTime\\coastsatmaster\\coastsat\\SDS_preprocess.py:607: PendingDeprecationWarning: The set_tight_layout function will be deprecated in a future version. Use set_layout_engine instead.\n",
      "  fig.set_tight_layout(True)\n"
     ]
    },
    {
     "name": "stdout",
     "output_type": "stream",
     "text": [
      "81%"
     ]
    },
    {
     "name": "stderr",
     "output_type": "stream",
     "text": [
      "c:\\Users\\mp222\\OneDrive - Imperial College London\\IslandTimeGitHub\\IslandTime\\coastsatmaster\\coastsat\\SDS_preprocess.py:607: PendingDeprecationWarning: The set_tight_layout function will be deprecated in a future version. Use set_layout_engine instead.\n",
      "  fig.set_tight_layout(True)\n"
     ]
    },
    {
     "name": "stdout",
     "output_type": "stream",
     "text": [
      "82%"
     ]
    },
    {
     "name": "stderr",
     "output_type": "stream",
     "text": [
      "c:\\Users\\mp222\\OneDrive - Imperial College London\\IslandTimeGitHub\\IslandTime\\coastsatmaster\\coastsat\\SDS_preprocess.py:607: PendingDeprecationWarning: The set_tight_layout function will be deprecated in a future version. Use set_layout_engine instead.\n",
      "  fig.set_tight_layout(True)\n"
     ]
    },
    {
     "name": "stdout",
     "output_type": "stream",
     "text": [
      "82%"
     ]
    },
    {
     "name": "stderr",
     "output_type": "stream",
     "text": [
      "c:\\Users\\mp222\\OneDrive - Imperial College London\\IslandTimeGitHub\\IslandTime\\coastsatmaster\\coastsat\\SDS_preprocess.py:607: PendingDeprecationWarning: The set_tight_layout function will be deprecated in a future version. Use set_layout_engine instead.\n",
      "  fig.set_tight_layout(True)\n"
     ]
    },
    {
     "name": "stdout",
     "output_type": "stream",
     "text": [
      "83%"
     ]
    },
    {
     "name": "stderr",
     "output_type": "stream",
     "text": [
      "c:\\Users\\mp222\\OneDrive - Imperial College London\\IslandTimeGitHub\\IslandTime\\coastsatmaster\\coastsat\\SDS_preprocess.py:607: PendingDeprecationWarning: The set_tight_layout function will be deprecated in a future version. Use set_layout_engine instead.\n",
      "  fig.set_tight_layout(True)\n"
     ]
    },
    {
     "name": "stdout",
     "output_type": "stream",
     "text": [
      "83%"
     ]
    },
    {
     "name": "stderr",
     "output_type": "stream",
     "text": [
      "c:\\Users\\mp222\\OneDrive - Imperial College London\\IslandTimeGitHub\\IslandTime\\coastsatmaster\\coastsat\\SDS_preprocess.py:607: PendingDeprecationWarning: The set_tight_layout function will be deprecated in a future version. Use set_layout_engine instead.\n",
      "  fig.set_tight_layout(True)\n"
     ]
    },
    {
     "name": "stdout",
     "output_type": "stream",
     "text": [
      "84%"
     ]
    },
    {
     "name": "stderr",
     "output_type": "stream",
     "text": [
      "c:\\Users\\mp222\\OneDrive - Imperial College London\\IslandTimeGitHub\\IslandTime\\coastsatmaster\\coastsat\\SDS_preprocess.py:607: PendingDeprecationWarning: The set_tight_layout function will be deprecated in a future version. Use set_layout_engine instead.\n",
      "  fig.set_tight_layout(True)\n"
     ]
    },
    {
     "name": "stdout",
     "output_type": "stream",
     "text": [
      "84%"
     ]
    },
    {
     "name": "stderr",
     "output_type": "stream",
     "text": [
      "c:\\Users\\mp222\\OneDrive - Imperial College London\\IslandTimeGitHub\\IslandTime\\coastsatmaster\\coastsat\\SDS_preprocess.py:607: PendingDeprecationWarning: The set_tight_layout function will be deprecated in a future version. Use set_layout_engine instead.\n",
      "  fig.set_tight_layout(True)\n"
     ]
    },
    {
     "name": "stdout",
     "output_type": "stream",
     "text": [
      "84%"
     ]
    },
    {
     "name": "stderr",
     "output_type": "stream",
     "text": [
      "c:\\Users\\mp222\\OneDrive - Imperial College London\\IslandTimeGitHub\\IslandTime\\coastsatmaster\\coastsat\\SDS_preprocess.py:607: PendingDeprecationWarning: The set_tight_layout function will be deprecated in a future version. Use set_layout_engine instead.\n",
      "  fig.set_tight_layout(True)\n"
     ]
    },
    {
     "name": "stdout",
     "output_type": "stream",
     "text": [
      "85%"
     ]
    },
    {
     "name": "stderr",
     "output_type": "stream",
     "text": [
      "c:\\Users\\mp222\\OneDrive - Imperial College London\\IslandTimeGitHub\\IslandTime\\coastsatmaster\\coastsat\\SDS_preprocess.py:607: PendingDeprecationWarning: The set_tight_layout function will be deprecated in a future version. Use set_layout_engine instead.\n",
      "  fig.set_tight_layout(True)\n"
     ]
    },
    {
     "name": "stdout",
     "output_type": "stream",
     "text": [
      "85%"
     ]
    },
    {
     "name": "stderr",
     "output_type": "stream",
     "text": [
      "c:\\Users\\mp222\\OneDrive - Imperial College London\\IslandTimeGitHub\\IslandTime\\coastsatmaster\\coastsat\\SDS_preprocess.py:607: PendingDeprecationWarning: The set_tight_layout function will be deprecated in a future version. Use set_layout_engine instead.\n",
      "  fig.set_tight_layout(True)\n"
     ]
    },
    {
     "name": "stdout",
     "output_type": "stream",
     "text": [
      "85%"
     ]
    },
    {
     "name": "stderr",
     "output_type": "stream",
     "text": [
      "c:\\Users\\mp222\\OneDrive - Imperial College London\\IslandTimeGitHub\\IslandTime\\coastsatmaster\\coastsat\\SDS_preprocess.py:607: PendingDeprecationWarning: The set_tight_layout function will be deprecated in a future version. Use set_layout_engine instead.\n",
      "  fig.set_tight_layout(True)\n"
     ]
    },
    {
     "name": "stdout",
     "output_type": "stream",
     "text": [
      "86%"
     ]
    },
    {
     "name": "stderr",
     "output_type": "stream",
     "text": [
      "c:\\Users\\mp222\\OneDrive - Imperial College London\\IslandTimeGitHub\\IslandTime\\coastsatmaster\\coastsat\\SDS_preprocess.py:607: PendingDeprecationWarning: The set_tight_layout function will be deprecated in a future version. Use set_layout_engine instead.\n",
      "  fig.set_tight_layout(True)\n"
     ]
    },
    {
     "name": "stdout",
     "output_type": "stream",
     "text": [
      "86%"
     ]
    },
    {
     "name": "stderr",
     "output_type": "stream",
     "text": [
      "c:\\Users\\mp222\\OneDrive - Imperial College London\\IslandTimeGitHub\\IslandTime\\coastsatmaster\\coastsat\\SDS_preprocess.py:607: PendingDeprecationWarning: The set_tight_layout function will be deprecated in a future version. Use set_layout_engine instead.\n",
      "  fig.set_tight_layout(True)\n"
     ]
    },
    {
     "name": "stdout",
     "output_type": "stream",
     "text": [
      "86%"
     ]
    },
    {
     "name": "stderr",
     "output_type": "stream",
     "text": [
      "c:\\Users\\mp222\\OneDrive - Imperial College London\\IslandTimeGitHub\\IslandTime\\coastsatmaster\\coastsat\\SDS_preprocess.py:607: PendingDeprecationWarning: The set_tight_layout function will be deprecated in a future version. Use set_layout_engine instead.\n",
      "  fig.set_tight_layout(True)\n"
     ]
    },
    {
     "name": "stdout",
     "output_type": "stream",
     "text": [
      "87%"
     ]
    },
    {
     "name": "stderr",
     "output_type": "stream",
     "text": [
      "c:\\Users\\mp222\\OneDrive - Imperial College London\\IslandTimeGitHub\\IslandTime\\coastsatmaster\\coastsat\\SDS_preprocess.py:607: PendingDeprecationWarning: The set_tight_layout function will be deprecated in a future version. Use set_layout_engine instead.\n",
      "  fig.set_tight_layout(True)\n"
     ]
    },
    {
     "name": "stdout",
     "output_type": "stream",
     "text": [
      "87%"
     ]
    },
    {
     "name": "stderr",
     "output_type": "stream",
     "text": [
      "c:\\Users\\mp222\\OneDrive - Imperial College London\\IslandTimeGitHub\\IslandTime\\coastsatmaster\\coastsat\\SDS_preprocess.py:607: PendingDeprecationWarning: The set_tight_layout function will be deprecated in a future version. Use set_layout_engine instead.\n",
      "  fig.set_tight_layout(True)\n"
     ]
    },
    {
     "name": "stdout",
     "output_type": "stream",
     "text": [
      "87%"
     ]
    },
    {
     "name": "stderr",
     "output_type": "stream",
     "text": [
      "c:\\Users\\mp222\\OneDrive - Imperial College London\\IslandTimeGitHub\\IslandTime\\coastsatmaster\\coastsat\\SDS_preprocess.py:607: PendingDeprecationWarning: The set_tight_layout function will be deprecated in a future version. Use set_layout_engine instead.\n",
      "  fig.set_tight_layout(True)\n"
     ]
    },
    {
     "name": "stdout",
     "output_type": "stream",
     "text": [
      "88%"
     ]
    },
    {
     "name": "stderr",
     "output_type": "stream",
     "text": [
      "c:\\Users\\mp222\\OneDrive - Imperial College London\\IslandTimeGitHub\\IslandTime\\coastsatmaster\\coastsat\\SDS_preprocess.py:607: PendingDeprecationWarning: The set_tight_layout function will be deprecated in a future version. Use set_layout_engine instead.\n",
      "  fig.set_tight_layout(True)\n"
     ]
    },
    {
     "name": "stdout",
     "output_type": "stream",
     "text": [
      "88%"
     ]
    },
    {
     "name": "stderr",
     "output_type": "stream",
     "text": [
      "c:\\Users\\mp222\\OneDrive - Imperial College London\\IslandTimeGitHub\\IslandTime\\coastsatmaster\\coastsat\\SDS_preprocess.py:607: PendingDeprecationWarning: The set_tight_layout function will be deprecated in a future version. Use set_layout_engine instead.\n",
      "  fig.set_tight_layout(True)\n"
     ]
    },
    {
     "name": "stdout",
     "output_type": "stream",
     "text": [
      "88%"
     ]
    },
    {
     "name": "stderr",
     "output_type": "stream",
     "text": [
      "c:\\Users\\mp222\\OneDrive - Imperial College London\\IslandTimeGitHub\\IslandTime\\coastsatmaster\\coastsat\\SDS_preprocess.py:607: PendingDeprecationWarning: The set_tight_layout function will be deprecated in a future version. Use set_layout_engine instead.\n",
      "  fig.set_tight_layout(True)\n"
     ]
    },
    {
     "name": "stdout",
     "output_type": "stream",
     "text": [
      "88%"
     ]
    },
    {
     "name": "stderr",
     "output_type": "stream",
     "text": [
      "c:\\Users\\mp222\\OneDrive - Imperial College London\\IslandTimeGitHub\\IslandTime\\coastsatmaster\\coastsat\\SDS_preprocess.py:607: PendingDeprecationWarning: The set_tight_layout function will be deprecated in a future version. Use set_layout_engine instead.\n",
      "  fig.set_tight_layout(True)\n"
     ]
    },
    {
     "name": "stdout",
     "output_type": "stream",
     "text": [
      "89%"
     ]
    },
    {
     "name": "stderr",
     "output_type": "stream",
     "text": [
      "c:\\Users\\mp222\\OneDrive - Imperial College London\\IslandTimeGitHub\\IslandTime\\coastsatmaster\\coastsat\\SDS_preprocess.py:607: PendingDeprecationWarning: The set_tight_layout function will be deprecated in a future version. Use set_layout_engine instead.\n",
      "  fig.set_tight_layout(True)\n"
     ]
    },
    {
     "name": "stdout",
     "output_type": "stream",
     "text": [
      "89%"
     ]
    },
    {
     "name": "stderr",
     "output_type": "stream",
     "text": [
      "c:\\Users\\mp222\\OneDrive - Imperial College London\\IslandTimeGitHub\\IslandTime\\coastsatmaster\\coastsat\\SDS_preprocess.py:607: PendingDeprecationWarning: The set_tight_layout function will be deprecated in a future version. Use set_layout_engine instead.\n",
      "  fig.set_tight_layout(True)\n"
     ]
    },
    {
     "name": "stdout",
     "output_type": "stream",
     "text": [
      "89%"
     ]
    },
    {
     "name": "stderr",
     "output_type": "stream",
     "text": [
      "c:\\Users\\mp222\\OneDrive - Imperial College London\\IslandTimeGitHub\\IslandTime\\coastsatmaster\\coastsat\\SDS_preprocess.py:607: PendingDeprecationWarning: The set_tight_layout function will be deprecated in a future version. Use set_layout_engine instead.\n",
      "  fig.set_tight_layout(True)\n"
     ]
    },
    {
     "name": "stdout",
     "output_type": "stream",
     "text": [
      "89%"
     ]
    },
    {
     "name": "stderr",
     "output_type": "stream",
     "text": [
      "c:\\Users\\mp222\\OneDrive - Imperial College London\\IslandTimeGitHub\\IslandTime\\coastsatmaster\\coastsat\\SDS_preprocess.py:607: PendingDeprecationWarning: The set_tight_layout function will be deprecated in a future version. Use set_layout_engine instead.\n",
      "  fig.set_tight_layout(True)\n"
     ]
    },
    {
     "name": "stdout",
     "output_type": "stream",
     "text": [
      "90%"
     ]
    },
    {
     "name": "stderr",
     "output_type": "stream",
     "text": [
      "c:\\Users\\mp222\\OneDrive - Imperial College London\\IslandTimeGitHub\\IslandTime\\coastsatmaster\\coastsat\\SDS_preprocess.py:607: PendingDeprecationWarning: The set_tight_layout function will be deprecated in a future version. Use set_layout_engine instead.\n",
      "  fig.set_tight_layout(True)\n"
     ]
    },
    {
     "name": "stdout",
     "output_type": "stream",
     "text": [
      "90%"
     ]
    },
    {
     "name": "stderr",
     "output_type": "stream",
     "text": [
      "c:\\Users\\mp222\\OneDrive - Imperial College London\\IslandTimeGitHub\\IslandTime\\coastsatmaster\\coastsat\\SDS_preprocess.py:607: PendingDeprecationWarning: The set_tight_layout function will be deprecated in a future version. Use set_layout_engine instead.\n",
      "  fig.set_tight_layout(True)\n"
     ]
    },
    {
     "name": "stdout",
     "output_type": "stream",
     "text": [
      "90%"
     ]
    },
    {
     "name": "stderr",
     "output_type": "stream",
     "text": [
      "c:\\Users\\mp222\\OneDrive - Imperial College London\\IslandTimeGitHub\\IslandTime\\coastsatmaster\\coastsat\\SDS_preprocess.py:607: PendingDeprecationWarning: The set_tight_layout function will be deprecated in a future version. Use set_layout_engine instead.\n",
      "  fig.set_tight_layout(True)\n"
     ]
    },
    {
     "name": "stdout",
     "output_type": "stream",
     "text": [
      "90%"
     ]
    },
    {
     "name": "stderr",
     "output_type": "stream",
     "text": [
      "c:\\Users\\mp222\\OneDrive - Imperial College London\\IslandTimeGitHub\\IslandTime\\coastsatmaster\\coastsat\\SDS_preprocess.py:607: PendingDeprecationWarning: The set_tight_layout function will be deprecated in a future version. Use set_layout_engine instead.\n",
      "  fig.set_tight_layout(True)\n"
     ]
    },
    {
     "name": "stdout",
     "output_type": "stream",
     "text": [
      "90%"
     ]
    },
    {
     "name": "stderr",
     "output_type": "stream",
     "text": [
      "c:\\Users\\mp222\\OneDrive - Imperial College London\\IslandTimeGitHub\\IslandTime\\coastsatmaster\\coastsat\\SDS_preprocess.py:607: PendingDeprecationWarning: The set_tight_layout function will be deprecated in a future version. Use set_layout_engine instead.\n",
      "  fig.set_tight_layout(True)\n"
     ]
    },
    {
     "name": "stdout",
     "output_type": "stream",
     "text": [
      "91%"
     ]
    },
    {
     "name": "stderr",
     "output_type": "stream",
     "text": [
      "c:\\Users\\mp222\\OneDrive - Imperial College London\\IslandTimeGitHub\\IslandTime\\coastsatmaster\\coastsat\\SDS_preprocess.py:607: PendingDeprecationWarning: The set_tight_layout function will be deprecated in a future version. Use set_layout_engine instead.\n",
      "  fig.set_tight_layout(True)\n"
     ]
    },
    {
     "name": "stdout",
     "output_type": "stream",
     "text": [
      "91%"
     ]
    },
    {
     "name": "stderr",
     "output_type": "stream",
     "text": [
      "c:\\Users\\mp222\\OneDrive - Imperial College London\\IslandTimeGitHub\\IslandTime\\coastsatmaster\\coastsat\\SDS_preprocess.py:607: PendingDeprecationWarning: The set_tight_layout function will be deprecated in a future version. Use set_layout_engine instead.\n",
      "  fig.set_tight_layout(True)\n"
     ]
    },
    {
     "name": "stdout",
     "output_type": "stream",
     "text": [
      "91%"
     ]
    },
    {
     "name": "stderr",
     "output_type": "stream",
     "text": [
      "c:\\Users\\mp222\\OneDrive - Imperial College London\\IslandTimeGitHub\\IslandTime\\coastsatmaster\\coastsat\\SDS_preprocess.py:607: PendingDeprecationWarning: The set_tight_layout function will be deprecated in a future version. Use set_layout_engine instead.\n",
      "  fig.set_tight_layout(True)\n"
     ]
    },
    {
     "name": "stdout",
     "output_type": "stream",
     "text": [
      "91%"
     ]
    },
    {
     "name": "stderr",
     "output_type": "stream",
     "text": [
      "c:\\Users\\mp222\\OneDrive - Imperial College London\\IslandTimeGitHub\\IslandTime\\coastsatmaster\\coastsat\\SDS_preprocess.py:607: PendingDeprecationWarning: The set_tight_layout function will be deprecated in a future version. Use set_layout_engine instead.\n",
      "  fig.set_tight_layout(True)\n"
     ]
    },
    {
     "name": "stdout",
     "output_type": "stream",
     "text": [
      "92%"
     ]
    },
    {
     "name": "stderr",
     "output_type": "stream",
     "text": [
      "c:\\Users\\mp222\\OneDrive - Imperial College London\\IslandTimeGitHub\\IslandTime\\coastsatmaster\\coastsat\\SDS_preprocess.py:607: PendingDeprecationWarning: The set_tight_layout function will be deprecated in a future version. Use set_layout_engine instead.\n",
      "  fig.set_tight_layout(True)\n"
     ]
    },
    {
     "name": "stdout",
     "output_type": "stream",
     "text": [
      "92%"
     ]
    },
    {
     "name": "stderr",
     "output_type": "stream",
     "text": [
      "c:\\Users\\mp222\\OneDrive - Imperial College London\\IslandTimeGitHub\\IslandTime\\coastsatmaster\\coastsat\\SDS_preprocess.py:607: PendingDeprecationWarning: The set_tight_layout function will be deprecated in a future version. Use set_layout_engine instead.\n",
      "  fig.set_tight_layout(True)\n"
     ]
    },
    {
     "name": "stdout",
     "output_type": "stream",
     "text": [
      "93%"
     ]
    },
    {
     "name": "stderr",
     "output_type": "stream",
     "text": [
      "c:\\Users\\mp222\\OneDrive - Imperial College London\\IslandTimeGitHub\\IslandTime\\coastsatmaster\\coastsat\\SDS_preprocess.py:607: PendingDeprecationWarning: The set_tight_layout function will be deprecated in a future version. Use set_layout_engine instead.\n",
      "  fig.set_tight_layout(True)\n"
     ]
    },
    {
     "name": "stdout",
     "output_type": "stream",
     "text": [
      "93%"
     ]
    },
    {
     "name": "stderr",
     "output_type": "stream",
     "text": [
      "c:\\Users\\mp222\\OneDrive - Imperial College London\\IslandTimeGitHub\\IslandTime\\coastsatmaster\\coastsat\\SDS_preprocess.py:607: PendingDeprecationWarning: The set_tight_layout function will be deprecated in a future version. Use set_layout_engine instead.\n",
      "  fig.set_tight_layout(True)\n"
     ]
    },
    {
     "name": "stdout",
     "output_type": "stream",
     "text": [
      "94%"
     ]
    },
    {
     "name": "stderr",
     "output_type": "stream",
     "text": [
      "c:\\Users\\mp222\\OneDrive - Imperial College London\\IslandTimeGitHub\\IslandTime\\coastsatmaster\\coastsat\\SDS_preprocess.py:607: PendingDeprecationWarning: The set_tight_layout function will be deprecated in a future version. Use set_layout_engine instead.\n",
      "  fig.set_tight_layout(True)\n"
     ]
    },
    {
     "name": "stdout",
     "output_type": "stream",
     "text": [
      "94%"
     ]
    },
    {
     "name": "stderr",
     "output_type": "stream",
     "text": [
      "c:\\Users\\mp222\\OneDrive - Imperial College London\\IslandTimeGitHub\\IslandTime\\coastsatmaster\\coastsat\\SDS_preprocess.py:607: PendingDeprecationWarning: The set_tight_layout function will be deprecated in a future version. Use set_layout_engine instead.\n",
      "  fig.set_tight_layout(True)\n"
     ]
    },
    {
     "name": "stdout",
     "output_type": "stream",
     "text": [
      "94%"
     ]
    },
    {
     "name": "stderr",
     "output_type": "stream",
     "text": [
      "c:\\Users\\mp222\\OneDrive - Imperial College London\\IslandTimeGitHub\\IslandTime\\coastsatmaster\\coastsat\\SDS_preprocess.py:607: PendingDeprecationWarning: The set_tight_layout function will be deprecated in a future version. Use set_layout_engine instead.\n",
      "  fig.set_tight_layout(True)\n"
     ]
    },
    {
     "name": "stdout",
     "output_type": "stream",
     "text": [
      "95%"
     ]
    },
    {
     "name": "stderr",
     "output_type": "stream",
     "text": [
      "c:\\Users\\mp222\\OneDrive - Imperial College London\\IslandTimeGitHub\\IslandTime\\coastsatmaster\\coastsat\\SDS_preprocess.py:607: PendingDeprecationWarning: The set_tight_layout function will be deprecated in a future version. Use set_layout_engine instead.\n",
      "  fig.set_tight_layout(True)\n"
     ]
    },
    {
     "name": "stdout",
     "output_type": "stream",
     "text": [
      "95%"
     ]
    },
    {
     "name": "stderr",
     "output_type": "stream",
     "text": [
      "c:\\Users\\mp222\\OneDrive - Imperial College London\\IslandTimeGitHub\\IslandTime\\coastsatmaster\\coastsat\\SDS_preprocess.py:607: PendingDeprecationWarning: The set_tight_layout function will be deprecated in a future version. Use set_layout_engine instead.\n",
      "  fig.set_tight_layout(True)\n"
     ]
    },
    {
     "name": "stdout",
     "output_type": "stream",
     "text": [
      "95%"
     ]
    },
    {
     "name": "stderr",
     "output_type": "stream",
     "text": [
      "c:\\Users\\mp222\\OneDrive - Imperial College London\\IslandTimeGitHub\\IslandTime\\coastsatmaster\\coastsat\\SDS_preprocess.py:607: PendingDeprecationWarning: The set_tight_layout function will be deprecated in a future version. Use set_layout_engine instead.\n",
      "  fig.set_tight_layout(True)\n"
     ]
    },
    {
     "name": "stdout",
     "output_type": "stream",
     "text": [
      "96%"
     ]
    },
    {
     "name": "stderr",
     "output_type": "stream",
     "text": [
      "c:\\Users\\mp222\\OneDrive - Imperial College London\\IslandTimeGitHub\\IslandTime\\coastsatmaster\\coastsat\\SDS_preprocess.py:607: PendingDeprecationWarning: The set_tight_layout function will be deprecated in a future version. Use set_layout_engine instead.\n",
      "  fig.set_tight_layout(True)\n"
     ]
    },
    {
     "name": "stdout",
     "output_type": "stream",
     "text": [
      "96%"
     ]
    },
    {
     "name": "stderr",
     "output_type": "stream",
     "text": [
      "c:\\Users\\mp222\\OneDrive - Imperial College London\\IslandTimeGitHub\\IslandTime\\coastsatmaster\\coastsat\\SDS_preprocess.py:607: PendingDeprecationWarning: The set_tight_layout function will be deprecated in a future version. Use set_layout_engine instead.\n",
      "  fig.set_tight_layout(True)\n"
     ]
    },
    {
     "name": "stdout",
     "output_type": "stream",
     "text": [
      "96%"
     ]
    },
    {
     "name": "stderr",
     "output_type": "stream",
     "text": [
      "c:\\Users\\mp222\\OneDrive - Imperial College London\\IslandTimeGitHub\\IslandTime\\coastsatmaster\\coastsat\\SDS_preprocess.py:607: PendingDeprecationWarning: The set_tight_layout function will be deprecated in a future version. Use set_layout_engine instead.\n",
      "  fig.set_tight_layout(True)\n"
     ]
    },
    {
     "name": "stdout",
     "output_type": "stream",
     "text": [
      "96%"
     ]
    },
    {
     "name": "stderr",
     "output_type": "stream",
     "text": [
      "c:\\Users\\mp222\\OneDrive - Imperial College London\\IslandTimeGitHub\\IslandTime\\coastsatmaster\\coastsat\\SDS_preprocess.py:607: PendingDeprecationWarning: The set_tight_layout function will be deprecated in a future version. Use set_layout_engine instead.\n",
      "  fig.set_tight_layout(True)\n"
     ]
    },
    {
     "name": "stdout",
     "output_type": "stream",
     "text": [
      "97%"
     ]
    },
    {
     "name": "stderr",
     "output_type": "stream",
     "text": [
      "c:\\Users\\mp222\\OneDrive - Imperial College London\\IslandTimeGitHub\\IslandTime\\coastsatmaster\\coastsat\\SDS_preprocess.py:607: PendingDeprecationWarning: The set_tight_layout function will be deprecated in a future version. Use set_layout_engine instead.\n",
      "  fig.set_tight_layout(True)\n"
     ]
    },
    {
     "name": "stdout",
     "output_type": "stream",
     "text": [
      "97%"
     ]
    },
    {
     "name": "stderr",
     "output_type": "stream",
     "text": [
      "c:\\Users\\mp222\\OneDrive - Imperial College London\\IslandTimeGitHub\\IslandTime\\coastsatmaster\\coastsat\\SDS_preprocess.py:607: PendingDeprecationWarning: The set_tight_layout function will be deprecated in a future version. Use set_layout_engine instead.\n",
      "  fig.set_tight_layout(True)\n"
     ]
    },
    {
     "name": "stdout",
     "output_type": "stream",
     "text": [
      "97%"
     ]
    },
    {
     "name": "stderr",
     "output_type": "stream",
     "text": [
      "c:\\Users\\mp222\\OneDrive - Imperial College London\\IslandTimeGitHub\\IslandTime\\coastsatmaster\\coastsat\\SDS_preprocess.py:607: PendingDeprecationWarning: The set_tight_layout function will be deprecated in a future version. Use set_layout_engine instead.\n",
      "  fig.set_tight_layout(True)\n"
     ]
    },
    {
     "name": "stdout",
     "output_type": "stream",
     "text": [
      "98%"
     ]
    },
    {
     "name": "stderr",
     "output_type": "stream",
     "text": [
      "c:\\Users\\mp222\\OneDrive - Imperial College London\\IslandTimeGitHub\\IslandTime\\coastsatmaster\\coastsat\\SDS_preprocess.py:607: PendingDeprecationWarning: The set_tight_layout function will be deprecated in a future version. Use set_layout_engine instead.\n",
      "  fig.set_tight_layout(True)\n"
     ]
    },
    {
     "name": "stdout",
     "output_type": "stream",
     "text": [
      "98%"
     ]
    },
    {
     "name": "stderr",
     "output_type": "stream",
     "text": [
      "c:\\Users\\mp222\\OneDrive - Imperial College London\\IslandTimeGitHub\\IslandTime\\coastsatmaster\\coastsat\\SDS_preprocess.py:607: PendingDeprecationWarning: The set_tight_layout function will be deprecated in a future version. Use set_layout_engine instead.\n",
      "  fig.set_tight_layout(True)\n"
     ]
    },
    {
     "name": "stdout",
     "output_type": "stream",
     "text": [
      "98%"
     ]
    },
    {
     "name": "stderr",
     "output_type": "stream",
     "text": [
      "c:\\Users\\mp222\\OneDrive - Imperial College London\\IslandTimeGitHub\\IslandTime\\coastsatmaster\\coastsat\\SDS_preprocess.py:607: PendingDeprecationWarning: The set_tight_layout function will be deprecated in a future version. Use set_layout_engine instead.\n",
      "  fig.set_tight_layout(True)\n"
     ]
    },
    {
     "name": "stdout",
     "output_type": "stream",
     "text": [
      "99%"
     ]
    },
    {
     "name": "stderr",
     "output_type": "stream",
     "text": [
      "c:\\Users\\mp222\\OneDrive - Imperial College London\\IslandTimeGitHub\\IslandTime\\coastsatmaster\\coastsat\\SDS_preprocess.py:607: PendingDeprecationWarning: The set_tight_layout function will be deprecated in a future version. Use set_layout_engine instead.\n",
      "  fig.set_tight_layout(True)\n"
     ]
    },
    {
     "name": "stdout",
     "output_type": "stream",
     "text": [
      "99%"
     ]
    },
    {
     "name": "stderr",
     "output_type": "stream",
     "text": [
      "c:\\Users\\mp222\\OneDrive - Imperial College London\\IslandTimeGitHub\\IslandTime\\coastsatmaster\\coastsat\\SDS_preprocess.py:607: PendingDeprecationWarning: The set_tight_layout function will be deprecated in a future version. Use set_layout_engine instead.\n",
      "  fig.set_tight_layout(True)\n"
     ]
    },
    {
     "name": "stdout",
     "output_type": "stream",
     "text": [
      "99%"
     ]
    },
    {
     "name": "stderr",
     "output_type": "stream",
     "text": [
      "c:\\Users\\mp222\\OneDrive - Imperial College London\\IslandTimeGitHub\\IslandTime\\coastsatmaster\\coastsat\\SDS_preprocess.py:607: PendingDeprecationWarning: The set_tight_layout function will be deprecated in a future version. Use set_layout_engine instead.\n",
      "  fig.set_tight_layout(True)\n"
     ]
    },
    {
     "name": "stdout",
     "output_type": "stream",
     "text": [
      "99%"
     ]
    },
    {
     "name": "stderr",
     "output_type": "stream",
     "text": [
      "c:\\Users\\mp222\\OneDrive - Imperial College London\\IslandTimeGitHub\\IslandTime\\coastsatmaster\\coastsat\\SDS_preprocess.py:607: PendingDeprecationWarning: The set_tight_layout function will be deprecated in a future version. Use set_layout_engine instead.\n",
      "  fig.set_tight_layout(True)\n"
     ]
    },
    {
     "name": "stdout",
     "output_type": "stream",
     "text": [
      "100%"
     ]
    },
    {
     "name": "stderr",
     "output_type": "stream",
     "text": [
      "c:\\Users\\mp222\\OneDrive - Imperial College London\\IslandTimeGitHub\\IslandTime\\coastsatmaster\\coastsat\\SDS_preprocess.py:607: PendingDeprecationWarning: The set_tight_layout function will be deprecated in a future version. Use set_layout_engine instead.\n",
      "  fig.set_tight_layout(True)\n"
     ]
    },
    {
     "name": "stdout",
     "output_type": "stream",
     "text": [
      "\n",
      "Satellite images saved as .jpg in c:\\Users\\mp222\\OneDrive - Imperial College London\\IslandTimeGitHub\\IslandTime\\data\\coastsat_data\\Kautihulhudhoo-Karuna_Maldives\\jpg_files\\preprocessed\n",
      "~ Retrieving reference shoreline from OpenStreetMap or manually. ~\n",
      "No OSM data available for this island, we will manually define the reference shoreline.\n",
      "Reference shoreline already exists and was loaded\n",
      "Reference shoreline coordinates are in epsg:4326\n",
      "Mapping shorelines:\n",
      "L8:   0%"
     ]
    },
    {
     "name": "stderr",
     "output_type": "stream",
     "text": [
      "c:\\Users\\mp222\\AppData\\Local\\anaconda3\\envs\\IslandTime\\Lib\\site-packages\\sklearn\\base.py:329: UserWarning: Trying to unpickle estimator LabelBinarizer from version 0.22.2.post1 when using version 1.1.1. This might lead to breaking code or invalid results. Use at your own risk. For more info please refer to:\n",
      "https://scikit-learn.org/stable/model_persistence.html#security-maintainability-limitations\n",
      "  warnings.warn(\n",
      "c:\\Users\\mp222\\AppData\\Local\\anaconda3\\envs\\IslandTime\\Lib\\site-packages\\sklearn\\base.py:329: UserWarning: Trying to unpickle estimator MLPClassifier from version 0.22.2.post1 when using version 1.1.1. This might lead to breaking code or invalid results. Use at your own risk. For more info please refer to:\n",
      "https://scikit-learn.org/stable/model_persistence.html#security-maintainability-limitations\n",
      "  warnings.warn(\n"
     ]
    },
    {
     "name": "stdout",
     "output_type": "stream",
     "text": [
      "L8:   100%\n",
      "L9:   12%"
     ]
    },
    {
     "name": "stderr",
     "output_type": "stream",
     "text": [
      "c:\\Users\\mp222\\AppData\\Local\\anaconda3\\envs\\IslandTime\\Lib\\site-packages\\sklearn\\base.py:329: UserWarning: Trying to unpickle estimator LabelBinarizer from version 0.22.2.post1 when using version 1.1.1. This might lead to breaking code or invalid results. Use at your own risk. For more info please refer to:\n",
      "https://scikit-learn.org/stable/model_persistence.html#security-maintainability-limitations\n",
      "  warnings.warn(\n",
      "c:\\Users\\mp222\\AppData\\Local\\anaconda3\\envs\\IslandTime\\Lib\\site-packages\\sklearn\\base.py:329: UserWarning: Trying to unpickle estimator MLPClassifier from version 0.22.2.post1 when using version 1.1.1. This might lead to breaking code or invalid results. Use at your own risk. For more info please refer to:\n",
      "https://scikit-learn.org/stable/model_persistence.html#security-maintainability-limitations\n",
      "  warnings.warn(\n"
     ]
    },
    {
     "name": "stdout",
     "output_type": "stream",
     "text": [
      "L9:   100%\n",
      "S2:   0%"
     ]
    },
    {
     "name": "stderr",
     "output_type": "stream",
     "text": [
      "c:\\Users\\mp222\\AppData\\Local\\anaconda3\\envs\\IslandTime\\Lib\\site-packages\\sklearn\\base.py:329: UserWarning: Trying to unpickle estimator LabelBinarizer from version 0.22.2.post1 when using version 1.1.1. This might lead to breaking code or invalid results. Use at your own risk. For more info please refer to:\n",
      "https://scikit-learn.org/stable/model_persistence.html#security-maintainability-limitations\n",
      "  warnings.warn(\n",
      "c:\\Users\\mp222\\AppData\\Local\\anaconda3\\envs\\IslandTime\\Lib\\site-packages\\sklearn\\base.py:329: UserWarning: Trying to unpickle estimator MLPClassifier from version 0.22.2.post1 when using version 1.1.1. This might lead to breaking code or invalid results. Use at your own risk. For more info please refer to:\n",
      "https://scikit-learn.org/stable/model_persistence.html#security-maintainability-limitations\n",
      "  warnings.warn(\n"
     ]
    },
    {
     "name": "stdout",
     "output_type": "stream",
     "text": [
      "S2:   100%\n",
      "21 duplicates\n",
      "0 duplicates\n",
      "15 bad georef\n",
      "~ Creating transects separated by 50 m. ~\n",
      "0  - outliers removed: 2\n",
      "1  - outliers removed: 0\n",
      "2  - outliers removed: 0\n",
      "3  - outliers removed: 0\n",
      "4  - outliers removed: 0\n",
      "5  - outliers removed: 0\n",
      "6  - outliers removed: 0\n",
      "7  - outliers removed: 0\n",
      "8  - outliers removed: 0\n",
      "9  - outliers removed: 0\n",
      "10  - outliers removed: 1\n",
      "11  - outliers removed: 1\n",
      "12  - outliers removed: 3\n",
      "13  - outliers removed: 0\n",
      "14  - outliers removed: 0\n",
      "15  - outliers removed: 27\n",
      "16  - outliers removed: 0\n",
      "*17  - outliers removed: 57\n",
      "***18  - outliers removed: 75\n",
      "19  - outliers removed: 15\n",
      "***20  - outliers removed: 90\n",
      "*21  - outliers removed: 52\n",
      "**22  - outliers removed: 85\n",
      "***23  - outliers removed: 72\n",
      "24  - outliers removed: 22\n",
      "****25  - outliers removed: 96\n",
      "**26  - outliers removed: 69\n",
      "*27  - outliers removed: 29\n",
      "28  - outliers removed: 0\n",
      "29  - outliers removed: 0\n",
      "30  - outliers removed: 0\n",
      "32  - outliers removed: 0\n",
      "33  - outliers removed: 0\n",
      "*34  - outliers removed: 47\n",
      "35  - outliers removed: 26\n",
      "36  - outliers removed: 0\n",
      "37  - outliers removed: 0\n",
      "38  - outliers removed: 2\n",
      "39  - outliers removed: 5\n",
      "0  - outliers removed: 9\n",
      "1  - outliers removed: 0\n",
      "2  - outliers removed: 0\n",
      "3  - outliers removed: 0\n",
      "4  - outliers removed: 0\n",
      "5  - outliers removed: 1\n",
      "6  - outliers removed: 0\n",
      "7  - outliers removed: 0\n",
      "8  - outliers removed: 0\n",
      "9  - outliers removed: 0\n",
      "10  - outliers removed: 2\n",
      "11  - outliers removed: 0\n",
      "12  - outliers removed: 0\n",
      "13  - outliers removed: 0\n",
      "14  - outliers removed: 0\n",
      "*****15  - outliers removed: 99\n",
      "16  - outliers removed: 1\n",
      "**17  - outliers removed: 59\n",
      "18  - outliers removed: 17\n",
      "19  - outliers removed: 4\n",
      "20  - outliers removed: 46\n",
      "21  - outliers removed: 15\n",
      "22  - outliers removed: 23\n",
      "23  - outliers removed: 29\n",
      "24  - outliers removed: 21\n",
      "25  - outliers removed: 18\n",
      "***26  - outliers removed: 82\n",
      "27  - outliers removed: 15\n",
      "28  - outliers removed: 0\n",
      "29  - outliers removed: 0\n",
      "30  - outliers removed: 0\n",
      "32  - outliers removed: 0\n",
      "33  - outliers removed: 2\n",
      "34  - outliers removed: 10\n",
      "35  - outliers removed: 8\n",
      "36  - outliers removed: 0\n",
      "37  - outliers removed: 1\n",
      "38  - outliers removed: 5\n",
      "**39  - outliers removed: 44\n",
      "\n",
      "-------------------------------------------------------------------\n",
      "Retrieving ERA5: Fifth generation of ECMWF atmospheric reanalyses of the global climate\n",
      "Island: Kautihulhudhoo-Karuna, Maldives\n",
      "-------------------------------------------------------------------\n",
      "\n",
      "~ Retrieving time series. ~\n"
     ]
    },
    {
     "name": "stderr",
     "output_type": "stream",
     "text": [
      "2024-03-27 13:55:52,187 INFO Welcome to the CDS\n",
      "2024-03-27 13:55:52,189 INFO Sending request to https://cds.climate.copernicus.eu/api/v2/resources/reanalysis-era5-single-levels-monthly-means\n",
      "2024-03-27 13:55:52,338 INFO Request is completed\n",
      "2024-03-27 13:55:52,380 INFO Welcome to the CDS\n",
      "2024-03-27 13:55:52,381 INFO Sending request to https://cds.climate.copernicus.eu/api/v2/resources/reanalysis-era5-single-levels-monthly-means\n"
     ]
    },
    {
     "name": "stdout",
     "output_type": "stream",
     "text": [
      "\n",
      "-------------------------------------------------------------------\n",
      "Retrieving Ecological Coastal Units (ECUs)\n",
      "Island: Kautihulhudhoo-Karuna, Maldives\n",
      "-------------------------------------------------------------------\n",
      "\n",
      "~ Retrieving Ecological Coastal Units. ~\n"
     ]
    },
    {
     "name": "stderr",
     "output_type": "stream",
     "text": [
      "c:\\Users\\mp222\\OneDrive - Imperial College London\\IslandTimeGitHub\\IslandTime\\IslandTime\\TimeSeriesExtraction.py:2719: ResourceWarning: unclosed file <_io.BufferedReader name='c:\\\\Users\\\\mp222\\\\OneDrive - Imperial College London\\\\IslandTimeGitHub\\\\IslandTime\\\\data\\\\coastsat_data\\\\Kautihulhudhoo-Karuna_Maldives\\\\Kautihulhudhoo-Karuna_Maldives_metadata.pkl'>\n",
      "  metadata = pickle.load(open(os.path.join(self.coastsat_data_path, '{}_{}_metadata.pkl'.format(self.island, self.country)), 'rb'))\n"
     ]
    },
    {
     "name": "stdout",
     "output_type": "stream",
     "text": [
      "\n",
      "-------------------------------------------------------------------\n",
      "Retrieving Vegetation health (NDVI)\n",
      "Island: Kautihulhudhoo-Karuna, Maldives\n",
      "-------------------------------------------------------------------\n",
      "\n",
      "L8\n",
      "~ Creating vegetation masks. ~\n"
     ]
    },
    {
     "name": "stderr",
     "output_type": "stream",
     "text": [
      "100%|██████████| 39/39 [00:00<00:00, 46.87it/s]\n",
      "c:\\Users\\mp222\\AppData\\Local\\anaconda3\\envs\\IslandTime\\Lib\\site-packages\\numpy\\core\\fromnumeric.py:3504: RuntimeWarning: Mean of empty slice.\n",
      "  return _methods._mean(a, axis=axis, dtype=dtype,\n"
     ]
    },
    {
     "name": "stdout",
     "output_type": "stream",
     "text": [
      "L9\n",
      "~ Creating vegetation masks. ~\n"
     ]
    },
    {
     "name": "stderr",
     "output_type": "stream",
     "text": [
      "100%|██████████| 39/39 [00:00<00:00, 50.41it/s]\n",
      "c:\\Users\\mp222\\AppData\\Local\\anaconda3\\envs\\IslandTime\\Lib\\site-packages\\numpy\\core\\fromnumeric.py:3504: RuntimeWarning: Mean of empty slice.\n",
      "  return _methods._mean(a, axis=axis, dtype=dtype,\n"
     ]
    },
    {
     "name": "stdout",
     "output_type": "stream",
     "text": [
      "S2\n",
      "~ Creating vegetation masks. ~\n"
     ]
    },
    {
     "name": "stderr",
     "output_type": "stream",
     "text": [
      "100%|██████████| 60/60 [00:01<00:00, 33.84it/s]\n",
      "c:\\Users\\mp222\\AppData\\Local\\anaconda3\\envs\\IslandTime\\Lib\\site-packages\\numpy\\core\\fromnumeric.py:3504: RuntimeWarning: Mean of empty slice.\n",
      "  return _methods._mean(a, axis=axis, dtype=dtype,\n"
     ]
    },
    {
     "name": "stdout",
     "output_type": "stream",
     "text": [
      "\n",
      "-------------------------------------------------------------------\n",
      "Retrieving Global Climate Indices\n",
      "Island: Kautihulhudhoo-Karuna, Maldives\n",
      "-------------------------------------------------------------------\n",
      "\n"
     ]
    },
    {
     "name": "stderr",
     "output_type": "stream",
     "text": [
      "100%|██████████| 46/46 [00:21<00:00,  2.14it/s]"
     ]
    },
    {
     "name": "stdout",
     "output_type": "stream",
     "text": [
      "\n",
      "-------------------------------------------------------------------\n",
      "Retrieving all information available for the island\n",
      "Island: Kautihulhudhoo-Karuna, Maldives\n",
      "-------------------------------------------------------------------\n",
      "\n",
      "~ The following information is available: ~\n",
      "\n",
      "general_info\n",
      "               island\n",
      "               country\n",
      "spatial_reference\n",
      "               latitude\n",
      "               longitude\n",
      "               polygon\n",
      "               reference_shoreline\n",
      "               transects\n",
      "               area_country\n",
      "               reference_shoreline_buffer_L8\n",
      "               reference_shoreline_buffer_L9\n",
      "               reference_shoreline_buffer_S2\n",
      "image_collection_dict\n",
      "               description\n",
      "               S2\n",
      "               L7\n",
      "               L8\n",
      "               L9\n",
      "timeseries_CRW\n",
      "               description\n",
      "               description_timeseries\n",
      "               source\n",
      "               timeseries\n",
      "timeseries_nighttime_light\n",
      "               description\n",
      "               description_timeseries\n",
      "               source\n",
      "timeseries_disasters\n",
      "               description\n",
      "               description_timeseries\n",
      "               source\n",
      "               database\n",
      "               timeseries\n",
      "               confounders\n",
      "timeseries_WorldBank\n",
      "               description\n",
      "               description_timeseries\n",
      "               source\n",
      "               timeseries\n",
      "timeseries_WHO\n",
      "               description\n",
      "               description_timeseries\n",
      "               source\n",
      "               timeseries\n",
      "timeseries_sea_level_anomaly\n",
      "               description\n",
      "               description_timeseries\n",
      "               source\n",
      "               units\n",
      "               timeseries\n",
      "timeseries_PMLV2\n",
      "               description\n",
      "               description_timeseries\n",
      "               source\n",
      "               units\n",
      "timeseries_PSMSL\n",
      "               description\n",
      "               description_timeseries\n",
      "               source\n",
      "               stations\n",
      "               timeseries\n",
      "timeseries_PSLGM\n",
      "               description\n",
      "               description_timeseries\n",
      "               source\n",
      "timeseries_coastsat\n",
      "               description\n",
      "               description_timeseries\n",
      "               source\n",
      "               inputs\n",
      "               settings\n",
      "               timeseries\n",
      "timeseries_ERA5\n",
      "               description\n",
      "               description_timeseries\n",
      "               source\n",
      "               timeseries_transect_specific\n",
      "               timeseries\n",
      "               units\n",
      "characteristics_ECU\n",
      "               description\n",
      "               source\n",
      "               transects_characteristics_ECU\n",
      "timeseries_vegetation\n",
      "               description\n",
      "               description_timeseries\n",
      "               source\n",
      "               mask_total_vegetation_L8\n",
      "               mask_coastal_vegetation_L8\n",
      "               mask_total_vegetation_L9\n",
      "               mask_coastal_vegetation_L9\n",
      "               mask_total_vegetation_S2\n",
      "               mask_coastal_vegetation_S2\n",
      "               timeseries\n",
      "timeseries_climate_indices\n",
      "               description\n",
      "               description_timeseries\n",
      "               source\n",
      "               timeseries\n"
     ]
    },
    {
     "name": "stderr",
     "output_type": "stream",
     "text": [
      "\n"
     ]
    }
   ],
   "source": [
    "PreTimeSeries('Kautihulhudhoo-Karuna', 'Maldives', polygon=polygon_array).main()\n",
    "#''  Kudhelifadhoo\n",
    "island_info = Workflow('Kautihulhudhoo-Karuna',country, run_all=True, execute_segmentation=False, execute_preprocess=False, execute_analysis=False, update_maps=False, small_island=False).main()"
   ]
  },
  {
   "cell_type": "code",
   "execution_count": 27,
   "metadata": {},
   "outputs": [],
   "source": [
    "all_poly = os.path.join(os.getcwd(), 'data', 'coastsat_data', '{}_{}'.format(island, country), '{}_{}_metadata.pkl'.format(island, country))"
   ]
  },
  {
   "cell_type": "code",
   "execution_count": 28,
   "metadata": {},
   "outputs": [],
   "source": [
    "import pandas as pd\n",
    "pick = pd.read_pickle(all_poly)"
   ]
  },
  {
   "cell_type": "code",
   "execution_count": 30,
   "metadata": {},
   "outputs": [
    {
     "data": {
      "text/plain": [
       "{'filenames': ['2013-11-14-05-22-20_L8_Kurikeymaahuttaa_Maldives_ms.tif',\n",
       "  '2013-11-30-05-22-15_L8_Kurikeymaahuttaa_Maldives_ms.tif',\n",
       "  '2013-12-16-05-22-09_L8_Kurikeymaahuttaa_Maldives_ms.tif',\n",
       "  '2014-02-18-05-21-27_L8_Kurikeymaahuttaa_Maldives_ms.tif',\n",
       "  '2014-04-07-05-20-46_L8_Kurikeymaahuttaa_Maldives_ms.tif',\n",
       "  '2014-04-23-05-20-30_L8_Kurikeymaahuttaa_Maldives_ms.tif',\n",
       "  '2014-06-26-05-20-20_L8_Kurikeymaahuttaa_Maldives_ms.tif',\n",
       "  '2014-07-12-05-20-30_L8_Kurikeymaahuttaa_Maldives_ms.tif',\n",
       "  '2014-07-28-05-20-33_L8_Kurikeymaahuttaa_Maldives_ms.tif',\n",
       "  '2014-08-13-05-20-41_L8_Kurikeymaahuttaa_Maldives_ms.tif',\n",
       "  '2014-09-14-05-20-47_L8_Kurikeymaahuttaa_Maldives_ms.tif',\n",
       "  '2014-11-01-05-20-49_L8_Kurikeymaahuttaa_Maldives_ms.tif',\n",
       "  '2014-12-03-05-20-49_L8_Kurikeymaahuttaa_Maldives_ms.tif',\n",
       "  '2014-12-19-05-20-45_L8_Kurikeymaahuttaa_Maldives_ms.tif',\n",
       "  '2015-01-04-05-20-40_L8_Kurikeymaahuttaa_Maldives_ms.tif',\n",
       "  '2015-02-21-05-20-27_L8_Kurikeymaahuttaa_Maldives_ms.tif',\n",
       "  '2015-03-25-05-20-09_L8_Kurikeymaahuttaa_Maldives_ms.tif',\n",
       "  '2015-04-10-05-20-00_L8_Kurikeymaahuttaa_Maldives_ms.tif',\n",
       "  '2015-04-26-05-19-56_L8_Kurikeymaahuttaa_Maldives_ms.tif',\n",
       "  '2015-05-28-05-19-42_L8_Kurikeymaahuttaa_Maldives_ms.tif',\n",
       "  '2015-06-13-05-19-54_L8_Kurikeymaahuttaa_Maldives_ms.tif',\n",
       "  '2015-06-29-05-20-00_L8_Kurikeymaahuttaa_Maldives_ms.tif',\n",
       "  '2015-07-31-05-20-15_L8_Kurikeymaahuttaa_Maldives_ms.tif',\n",
       "  '2015-08-16-05-20-21_L8_Kurikeymaahuttaa_Maldives_ms.tif',\n",
       "  '2015-09-17-05-20-35_L8_Kurikeymaahuttaa_Maldives_ms.tif',\n",
       "  '2015-10-03-05-20-39_L8_Kurikeymaahuttaa_Maldives_ms.tif',\n",
       "  '2015-11-20-05-20-46_L8_Kurikeymaahuttaa_Maldives_ms.tif',\n",
       "  '2015-12-06-05-20-46_L8_Kurikeymaahuttaa_Maldives_ms.tif',\n",
       "  '2015-12-22-05-20-46_L8_Kurikeymaahuttaa_Maldives_ms.tif',\n",
       "  '2016-01-23-05-20-43_L8_Kurikeymaahuttaa_Maldives_ms.tif',\n",
       "  '2016-02-08-05-20-38_L8_Kurikeymaahuttaa_Maldives_ms.tif',\n",
       "  '2016-02-24-05-20-32_L8_Kurikeymaahuttaa_Maldives_ms.tif',\n",
       "  '2016-03-27-05-20-20_L8_Kurikeymaahuttaa_Maldives_ms.tif',\n",
       "  '2016-04-12-05-20-14_L8_Kurikeymaahuttaa_Maldives_ms.tif',\n",
       "  '2016-04-28-05-20-12_L8_Kurikeymaahuttaa_Maldives_ms.tif',\n",
       "  '2016-05-14-05-20-10_L8_Kurikeymaahuttaa_Maldives_ms.tif',\n",
       "  '2016-05-30-05-20-17_L8_Kurikeymaahuttaa_Maldives_ms.tif',\n",
       "  '2016-07-01-05-20-29_L8_Kurikeymaahuttaa_Maldives_ms.tif',\n",
       "  '2016-07-17-05-20-36_L8_Kurikeymaahuttaa_Maldives_ms.tif',\n",
       "  '2016-08-02-05-20-39_L8_Kurikeymaahuttaa_Maldives_ms.tif',\n",
       "  '2016-09-03-05-20-50_L8_Kurikeymaahuttaa_Maldives_ms.tif',\n",
       "  '2016-09-19-05-20-52_L8_Kurikeymaahuttaa_Maldives_ms.tif',\n",
       "  '2016-12-08-05-20-56_L8_Kurikeymaahuttaa_Maldives_ms.tif',\n",
       "  '2017-01-09-05-20-49_L8_Kurikeymaahuttaa_Maldives_ms.tif',\n",
       "  '2017-01-25-05-20-44_L8_Kurikeymaahuttaa_Maldives_ms.tif',\n",
       "  '2017-02-10-05-20-35_L8_Kurikeymaahuttaa_Maldives_ms.tif',\n",
       "  '2017-02-26-05-20-30_L8_Kurikeymaahuttaa_Maldives_ms.tif',\n",
       "  '2017-03-14-05-20-22_L8_Kurikeymaahuttaa_Maldives_ms.tif',\n",
       "  '2017-03-30-05-20-13_L8_Kurikeymaahuttaa_Maldives_ms.tif',\n",
       "  '2017-04-15-05-20-05_L8_Kurikeymaahuttaa_Maldives_ms.tif',\n",
       "  '2017-05-17-05-20-05_L8_Kurikeymaahuttaa_Maldives_ms.tif',\n",
       "  '2017-06-18-05-20-21_L8_Kurikeymaahuttaa_Maldives_ms.tif',\n",
       "  '2017-08-21-05-20-42_L8_Kurikeymaahuttaa_Maldives_ms.tif',\n",
       "  '2017-09-22-05-20-48_L8_Kurikeymaahuttaa_Maldives_ms.tif',\n",
       "  '2017-10-08-05-20-54_L8_Kurikeymaahuttaa_Maldives_ms.tif',\n",
       "  '2017-10-24-05-20-56_L8_Kurikeymaahuttaa_Maldives_ms.tif',\n",
       "  '2017-11-25-05-20-49_L8_Kurikeymaahuttaa_Maldives_ms.tif',\n",
       "  '2018-01-28-05-20-33_L8_Kurikeymaahuttaa_Maldives_ms.tif',\n",
       "  '2018-02-13-05-20-27_L8_Kurikeymaahuttaa_Maldives_ms.tif',\n",
       "  '2018-03-01-05-20-20_L8_Kurikeymaahuttaa_Maldives_ms.tif',\n",
       "  '2018-03-17-05-20-11_L8_Kurikeymaahuttaa_Maldives_ms.tif',\n",
       "  '2018-04-02-05-20-04_L8_Kurikeymaahuttaa_Maldives_ms.tif',\n",
       "  '2018-06-05-05-19-24_L8_Kurikeymaahuttaa_Maldives_ms.tif',\n",
       "  '2018-06-21-05-19-35_L8_Kurikeymaahuttaa_Maldives_ms.tif',\n",
       "  '2018-08-08-05-20-00_L8_Kurikeymaahuttaa_Maldives_ms.tif',\n",
       "  '2018-09-09-05-20-14_L8_Kurikeymaahuttaa_Maldives_ms.tif',\n",
       "  '2018-10-11-05-20-27_L8_Kurikeymaahuttaa_Maldives_ms.tif',\n",
       "  '2018-11-12-05-20-34_L8_Kurikeymaahuttaa_Maldives_ms.tif',\n",
       "  '2018-12-14-05-20-30_L8_Kurikeymaahuttaa_Maldives_ms.tif',\n",
       "  '2019-01-15-05-20-28_L8_Kurikeymaahuttaa_Maldives_ms.tif',\n",
       "  '2019-03-20-05-20-13_L8_Kurikeymaahuttaa_Maldives_ms.tif',\n",
       "  '2019-04-05-05-20-09_L8_Kurikeymaahuttaa_Maldives_ms.tif',\n",
       "  '2019-06-08-05-20-25_L8_Kurikeymaahuttaa_Maldives_ms.tif',\n",
       "  '2019-06-24-05-20-30_L8_Kurikeymaahuttaa_Maldives_ms.tif',\n",
       "  '2019-07-10-05-20-34_L8_Kurikeymaahuttaa_Maldives_ms.tif',\n",
       "  '2019-07-26-05-20-39_L8_Kurikeymaahuttaa_Maldives_ms.tif',\n",
       "  '2019-09-12-05-20-53_L8_Kurikeymaahuttaa_Maldives_ms.tif',\n",
       "  '2019-12-01-05-20-57_L8_Kurikeymaahuttaa_Maldives_ms.tif',\n",
       "  '2019-12-17-05-20-55_L8_Kurikeymaahuttaa_Maldives_ms.tif',\n",
       "  '2020-01-18-05-20-48_L8_Kurikeymaahuttaa_Maldives_ms.tif',\n",
       "  '2020-04-07-05-20-17_L8_Kurikeymaahuttaa_Maldives_ms.tif',\n",
       "  '2020-05-09-05-20-01_L8_Kurikeymaahuttaa_Maldives_ms.tif',\n",
       "  '2020-06-26-05-20-22_L8_Kurikeymaahuttaa_Maldives_ms.tif',\n",
       "  '2020-07-12-05-20-29_L8_Kurikeymaahuttaa_Maldives_ms.tif',\n",
       "  '2020-07-28-05-20-34_L8_Kurikeymaahuttaa_Maldives_ms.tif',\n",
       "  '2020-08-13-05-20-37_L8_Kurikeymaahuttaa_Maldives_ms.tif',\n",
       "  '2020-09-14-05-20-52_L8_Kurikeymaahuttaa_Maldives_ms.tif',\n",
       "  '2020-10-16-05-20-58_L8_Kurikeymaahuttaa_Maldives_ms.tif',\n",
       "  '2020-11-01-05-20-57_L8_Kurikeymaahuttaa_Maldives_ms.tif',\n",
       "  '2020-12-03-05-20-59_L8_Kurikeymaahuttaa_Maldives_ms.tif',\n",
       "  '2021-01-04-05-20-53_L8_Kurikeymaahuttaa_Maldives_ms.tif',\n",
       "  '2021-01-20-05-20-46_L8_Kurikeymaahuttaa_Maldives_ms.tif',\n",
       "  '2021-03-25-05-20-26_L8_Kurikeymaahuttaa_Maldives_ms.tif',\n",
       "  '2021-06-13-05-20-27_L8_Kurikeymaahuttaa_Maldives_ms.tif',\n",
       "  '2021-07-31-05-20-41_L8_Kurikeymaahuttaa_Maldives_ms.tif',\n",
       "  '2021-08-16-05-20-47_L8_Kurikeymaahuttaa_Maldives_ms.tif',\n",
       "  '2021-10-19-05-21-04_L8_Kurikeymaahuttaa_Maldives_ms.tif',\n",
       "  '2021-11-04-05-21-03_L8_Kurikeymaahuttaa_Maldives_ms.tif',\n",
       "  '2022-02-08-05-20-45_L8_Kurikeymaahuttaa_Maldives_ms.tif',\n",
       "  '2022-02-24-05-20-40_L8_Kurikeymaahuttaa_Maldives_ms.tif',\n",
       "  '2022-03-12-05-20-36_L8_Kurikeymaahuttaa_Maldives_ms.tif',\n",
       "  '2022-04-13-05-20-28_L8_Kurikeymaahuttaa_Maldives_ms.tif',\n",
       "  '2022-04-29-05-20-23_L8_Kurikeymaahuttaa_Maldives_ms.tif',\n",
       "  '2022-05-31-05-20-37_L8_Kurikeymaahuttaa_Maldives_ms.tif',\n",
       "  '2022-08-19-05-21-10_L8_Kurikeymaahuttaa_Maldives_ms.tif',\n",
       "  '2022-09-20-05-21-17_L8_Kurikeymaahuttaa_Maldives_ms.tif',\n",
       "  '2022-10-06-05-21-14_L8_Kurikeymaahuttaa_Maldives_ms.tif',\n",
       "  '2022-12-09-05-21-10_L8_Kurikeymaahuttaa_Maldives_ms.tif'],\n",
       " 'dates': [datetime.datetime(2013, 11, 14, 5, 22, 20, tzinfo=<UTC>),\n",
       "  datetime.datetime(2013, 11, 30, 5, 22, 15, tzinfo=<UTC>),\n",
       "  datetime.datetime(2013, 12, 16, 5, 22, 9, tzinfo=<UTC>),\n",
       "  datetime.datetime(2014, 2, 18, 5, 21, 27, tzinfo=<UTC>),\n",
       "  datetime.datetime(2014, 4, 7, 5, 20, 46, tzinfo=<UTC>),\n",
       "  datetime.datetime(2014, 4, 23, 5, 20, 30, tzinfo=<UTC>),\n",
       "  datetime.datetime(2014, 6, 26, 5, 20, 20, tzinfo=<UTC>),\n",
       "  datetime.datetime(2014, 7, 12, 5, 20, 30, tzinfo=<UTC>),\n",
       "  datetime.datetime(2014, 7, 28, 5, 20, 33, tzinfo=<UTC>),\n",
       "  datetime.datetime(2014, 8, 13, 5, 20, 41, tzinfo=<UTC>),\n",
       "  datetime.datetime(2014, 9, 14, 5, 20, 47, tzinfo=<UTC>),\n",
       "  datetime.datetime(2014, 11, 1, 5, 20, 49, tzinfo=<UTC>),\n",
       "  datetime.datetime(2014, 12, 3, 5, 20, 49, tzinfo=<UTC>),\n",
       "  datetime.datetime(2014, 12, 19, 5, 20, 45, tzinfo=<UTC>),\n",
       "  datetime.datetime(2015, 1, 4, 5, 20, 40, tzinfo=<UTC>),\n",
       "  datetime.datetime(2015, 2, 21, 5, 20, 27, tzinfo=<UTC>),\n",
       "  datetime.datetime(2015, 3, 25, 5, 20, 9, tzinfo=<UTC>),\n",
       "  datetime.datetime(2015, 4, 10, 5, 20, tzinfo=<UTC>),\n",
       "  datetime.datetime(2015, 4, 26, 5, 19, 56, tzinfo=<UTC>),\n",
       "  datetime.datetime(2015, 5, 28, 5, 19, 42, tzinfo=<UTC>),\n",
       "  datetime.datetime(2015, 6, 13, 5, 19, 54, tzinfo=<UTC>),\n",
       "  datetime.datetime(2015, 6, 29, 5, 20, tzinfo=<UTC>),\n",
       "  datetime.datetime(2015, 7, 31, 5, 20, 15, tzinfo=<UTC>),\n",
       "  datetime.datetime(2015, 8, 16, 5, 20, 21, tzinfo=<UTC>),\n",
       "  datetime.datetime(2015, 9, 17, 5, 20, 35, tzinfo=<UTC>),\n",
       "  datetime.datetime(2015, 10, 3, 5, 20, 39, tzinfo=<UTC>),\n",
       "  datetime.datetime(2015, 11, 20, 5, 20, 46, tzinfo=<UTC>),\n",
       "  datetime.datetime(2015, 12, 6, 5, 20, 46, tzinfo=<UTC>),\n",
       "  datetime.datetime(2015, 12, 22, 5, 20, 46, tzinfo=<UTC>),\n",
       "  datetime.datetime(2016, 1, 23, 5, 20, 43, tzinfo=<UTC>),\n",
       "  datetime.datetime(2016, 2, 8, 5, 20, 38, tzinfo=<UTC>),\n",
       "  datetime.datetime(2016, 2, 24, 5, 20, 32, tzinfo=<UTC>),\n",
       "  datetime.datetime(2016, 3, 27, 5, 20, 20, tzinfo=<UTC>),\n",
       "  datetime.datetime(2016, 4, 12, 5, 20, 14, tzinfo=<UTC>),\n",
       "  datetime.datetime(2016, 4, 28, 5, 20, 12, tzinfo=<UTC>),\n",
       "  datetime.datetime(2016, 5, 14, 5, 20, 10, tzinfo=<UTC>),\n",
       "  datetime.datetime(2016, 5, 30, 5, 20, 17, tzinfo=<UTC>),\n",
       "  datetime.datetime(2016, 7, 1, 5, 20, 29, tzinfo=<UTC>),\n",
       "  datetime.datetime(2016, 7, 17, 5, 20, 36, tzinfo=<UTC>),\n",
       "  datetime.datetime(2016, 8, 2, 5, 20, 39, tzinfo=<UTC>),\n",
       "  datetime.datetime(2016, 9, 3, 5, 20, 50, tzinfo=<UTC>),\n",
       "  datetime.datetime(2016, 9, 19, 5, 20, 52, tzinfo=<UTC>),\n",
       "  datetime.datetime(2016, 12, 8, 5, 20, 56, tzinfo=<UTC>),\n",
       "  datetime.datetime(2017, 1, 9, 5, 20, 49, tzinfo=<UTC>),\n",
       "  datetime.datetime(2017, 1, 25, 5, 20, 44, tzinfo=<UTC>),\n",
       "  datetime.datetime(2017, 2, 10, 5, 20, 35, tzinfo=<UTC>),\n",
       "  datetime.datetime(2017, 2, 26, 5, 20, 30, tzinfo=<UTC>),\n",
       "  datetime.datetime(2017, 3, 14, 5, 20, 22, tzinfo=<UTC>),\n",
       "  datetime.datetime(2017, 3, 30, 5, 20, 13, tzinfo=<UTC>),\n",
       "  datetime.datetime(2017, 4, 15, 5, 20, 5, tzinfo=<UTC>),\n",
       "  datetime.datetime(2017, 5, 17, 5, 20, 5, tzinfo=<UTC>),\n",
       "  datetime.datetime(2017, 6, 18, 5, 20, 21, tzinfo=<UTC>),\n",
       "  datetime.datetime(2017, 8, 21, 5, 20, 42, tzinfo=<UTC>),\n",
       "  datetime.datetime(2017, 9, 22, 5, 20, 48, tzinfo=<UTC>),\n",
       "  datetime.datetime(2017, 10, 8, 5, 20, 54, tzinfo=<UTC>),\n",
       "  datetime.datetime(2017, 10, 24, 5, 20, 56, tzinfo=<UTC>),\n",
       "  datetime.datetime(2017, 11, 25, 5, 20, 49, tzinfo=<UTC>),\n",
       "  datetime.datetime(2018, 1, 28, 5, 20, 33, tzinfo=<UTC>),\n",
       "  datetime.datetime(2018, 2, 13, 5, 20, 27, tzinfo=<UTC>),\n",
       "  datetime.datetime(2018, 3, 1, 5, 20, 20, tzinfo=<UTC>),\n",
       "  datetime.datetime(2018, 3, 17, 5, 20, 11, tzinfo=<UTC>),\n",
       "  datetime.datetime(2018, 4, 2, 5, 20, 4, tzinfo=<UTC>),\n",
       "  datetime.datetime(2018, 6, 5, 5, 19, 24, tzinfo=<UTC>),\n",
       "  datetime.datetime(2018, 6, 21, 5, 19, 35, tzinfo=<UTC>),\n",
       "  datetime.datetime(2018, 8, 8, 5, 20, tzinfo=<UTC>),\n",
       "  datetime.datetime(2018, 9, 9, 5, 20, 14, tzinfo=<UTC>),\n",
       "  datetime.datetime(2018, 10, 11, 5, 20, 27, tzinfo=<UTC>),\n",
       "  datetime.datetime(2018, 11, 12, 5, 20, 34, tzinfo=<UTC>),\n",
       "  datetime.datetime(2018, 12, 14, 5, 20, 30, tzinfo=<UTC>),\n",
       "  datetime.datetime(2019, 1, 15, 5, 20, 28, tzinfo=<UTC>),\n",
       "  datetime.datetime(2019, 3, 20, 5, 20, 13, tzinfo=<UTC>),\n",
       "  datetime.datetime(2019, 4, 5, 5, 20, 9, tzinfo=<UTC>),\n",
       "  datetime.datetime(2019, 6, 8, 5, 20, 25, tzinfo=<UTC>),\n",
       "  datetime.datetime(2019, 6, 24, 5, 20, 30, tzinfo=<UTC>),\n",
       "  datetime.datetime(2019, 7, 10, 5, 20, 34, tzinfo=<UTC>),\n",
       "  datetime.datetime(2019, 7, 26, 5, 20, 39, tzinfo=<UTC>),\n",
       "  datetime.datetime(2019, 9, 12, 5, 20, 53, tzinfo=<UTC>),\n",
       "  datetime.datetime(2019, 12, 1, 5, 20, 57, tzinfo=<UTC>),\n",
       "  datetime.datetime(2019, 12, 17, 5, 20, 55, tzinfo=<UTC>),\n",
       "  datetime.datetime(2020, 1, 18, 5, 20, 48, tzinfo=<UTC>),\n",
       "  datetime.datetime(2020, 4, 7, 5, 20, 17, tzinfo=<UTC>),\n",
       "  datetime.datetime(2020, 5, 9, 5, 20, 1, tzinfo=<UTC>),\n",
       "  datetime.datetime(2020, 6, 26, 5, 20, 22, tzinfo=<UTC>),\n",
       "  datetime.datetime(2020, 7, 12, 5, 20, 29, tzinfo=<UTC>),\n",
       "  datetime.datetime(2020, 7, 28, 5, 20, 34, tzinfo=<UTC>),\n",
       "  datetime.datetime(2020, 8, 13, 5, 20, 37, tzinfo=<UTC>),\n",
       "  datetime.datetime(2020, 9, 14, 5, 20, 52, tzinfo=<UTC>),\n",
       "  datetime.datetime(2020, 10, 16, 5, 20, 58, tzinfo=<UTC>),\n",
       "  datetime.datetime(2020, 11, 1, 5, 20, 57, tzinfo=<UTC>),\n",
       "  datetime.datetime(2020, 12, 3, 5, 20, 59, tzinfo=<UTC>),\n",
       "  datetime.datetime(2021, 1, 4, 5, 20, 53, tzinfo=<UTC>),\n",
       "  datetime.datetime(2021, 1, 20, 5, 20, 46, tzinfo=<UTC>),\n",
       "  datetime.datetime(2021, 3, 25, 5, 20, 26, tzinfo=<UTC>),\n",
       "  datetime.datetime(2021, 6, 13, 5, 20, 27, tzinfo=<UTC>),\n",
       "  datetime.datetime(2021, 7, 31, 5, 20, 41, tzinfo=<UTC>),\n",
       "  datetime.datetime(2021, 8, 16, 5, 20, 47, tzinfo=<UTC>),\n",
       "  datetime.datetime(2021, 10, 19, 5, 21, 4, tzinfo=<UTC>),\n",
       "  datetime.datetime(2021, 11, 4, 5, 21, 3, tzinfo=<UTC>),\n",
       "  datetime.datetime(2022, 2, 8, 5, 20, 45, tzinfo=<UTC>),\n",
       "  datetime.datetime(2022, 2, 24, 5, 20, 40, tzinfo=<UTC>),\n",
       "  datetime.datetime(2022, 3, 12, 5, 20, 36, tzinfo=<UTC>),\n",
       "  datetime.datetime(2022, 4, 13, 5, 20, 28, tzinfo=<UTC>),\n",
       "  datetime.datetime(2022, 4, 29, 5, 20, 23, tzinfo=<UTC>),\n",
       "  datetime.datetime(2022, 5, 31, 5, 20, 37, tzinfo=<UTC>),\n",
       "  datetime.datetime(2022, 8, 19, 5, 21, 10, tzinfo=<UTC>),\n",
       "  datetime.datetime(2022, 9, 20, 5, 21, 17, tzinfo=<UTC>),\n",
       "  datetime.datetime(2022, 10, 6, 5, 21, 14, tzinfo=<UTC>),\n",
       "  datetime.datetime(2022, 12, 9, 5, 21, 10, tzinfo=<UTC>)],\n",
       " 'epsg': [32643,\n",
       "  32643,\n",
       "  32643,\n",
       "  32643,\n",
       "  32643,\n",
       "  32643,\n",
       "  32643,\n",
       "  32643,\n",
       "  32643,\n",
       "  32643,\n",
       "  32643,\n",
       "  32643,\n",
       "  32643,\n",
       "  32643,\n",
       "  32643,\n",
       "  32643,\n",
       "  32643,\n",
       "  32643,\n",
       "  32643,\n",
       "  32643,\n",
       "  32643,\n",
       "  32643,\n",
       "  32643,\n",
       "  32643,\n",
       "  32643,\n",
       "  32643,\n",
       "  32643,\n",
       "  32643,\n",
       "  32643,\n",
       "  32643,\n",
       "  32643,\n",
       "  32643,\n",
       "  32643,\n",
       "  32643,\n",
       "  32643,\n",
       "  32643,\n",
       "  32643,\n",
       "  32643,\n",
       "  32643,\n",
       "  32643,\n",
       "  32643,\n",
       "  32643,\n",
       "  32643,\n",
       "  32643,\n",
       "  32643,\n",
       "  32643,\n",
       "  32643,\n",
       "  32643,\n",
       "  32643,\n",
       "  32643,\n",
       "  32643,\n",
       "  32643,\n",
       "  32643,\n",
       "  32643,\n",
       "  32643,\n",
       "  32643,\n",
       "  32643,\n",
       "  32643,\n",
       "  32643,\n",
       "  32643,\n",
       "  32643,\n",
       "  32643,\n",
       "  32643,\n",
       "  32643,\n",
       "  32643,\n",
       "  32643,\n",
       "  32643,\n",
       "  32643,\n",
       "  32643,\n",
       "  32643,\n",
       "  32643,\n",
       "  32643,\n",
       "  32643,\n",
       "  32643,\n",
       "  32643,\n",
       "  32643,\n",
       "  32643,\n",
       "  32643,\n",
       "  32643,\n",
       "  32643,\n",
       "  32643,\n",
       "  32643,\n",
       "  32643,\n",
       "  32643,\n",
       "  32643,\n",
       "  32643,\n",
       "  32643,\n",
       "  32643,\n",
       "  32643,\n",
       "  32643,\n",
       "  32643,\n",
       "  32643,\n",
       "  32643,\n",
       "  32643,\n",
       "  32643,\n",
       "  32643,\n",
       "  32643,\n",
       "  32643,\n",
       "  32643,\n",
       "  32643,\n",
       "  32643,\n",
       "  32643,\n",
       "  32643,\n",
       "  32643,\n",
       "  32643,\n",
       "  32643,\n",
       "  32643,\n",
       "  32643],\n",
       " 'acc_georef': [7.7,\n",
       "  6.298,\n",
       "  9.925,\n",
       "  8.67,\n",
       "  5.71,\n",
       "  9.663,\n",
       "  7.041,\n",
       "  7.702,\n",
       "  11.8,\n",
       "  5.708,\n",
       "  6.192,\n",
       "  9.56,\n",
       "  8.65,\n",
       "  2.649,\n",
       "  9.937,\n",
       "  7.686,\n",
       "  5.886,\n",
       "  5.693,\n",
       "  7.652,\n",
       "  7.591,\n",
       "  7.668,\n",
       "  8.411,\n",
       "  6.973,\n",
       "  10.376,\n",
       "  6.928,\n",
       "  7.101,\n",
       "  5.09,\n",
       "  7.182,\n",
       "  8.484,\n",
       "  7.373,\n",
       "  7.644,\n",
       "  8.829,\n",
       "  9.423,\n",
       "  5.561,\n",
       "  8.184,\n",
       "  11.953,\n",
       "  6.921,\n",
       "  10.318,\n",
       "  7.423,\n",
       "  10.481,\n",
       "  6.572,\n",
       "  7.583,\n",
       "  8.405,\n",
       "  8.606,\n",
       "  8.985,\n",
       "  7.857,\n",
       "  8.77,\n",
       "  8.957,\n",
       "  8.61,\n",
       "  8.392,\n",
       "  11.166,\n",
       "  8.271,\n",
       "  7.089,\n",
       "  9.064,\n",
       "  7.46,\n",
       "  6.551,\n",
       "  8.857,\n",
       "  8.497,\n",
       "  10.205,\n",
       "  8.382,\n",
       "  7.271,\n",
       "  7.139,\n",
       "  7.942,\n",
       "  8.772,\n",
       "  7.81,\n",
       "  8.071,\n",
       "  9.377,\n",
       "  6.778,\n",
       "  9.245,\n",
       "  8.743,\n",
       "  5.764,\n",
       "  5.516,\n",
       "  8.6,\n",
       "  11.036,\n",
       "  8.179,\n",
       "  7.731,\n",
       "  8.713,\n",
       "  8.556,\n",
       "  9.017,\n",
       "  9.668,\n",
       "  9.611,\n",
       "  7.311,\n",
       "  6.158,\n",
       "  8.36,\n",
       "  7.322,\n",
       "  11.087,\n",
       "  6.93,\n",
       "  8.082,\n",
       "  11.208,\n",
       "  9.499,\n",
       "  8.451,\n",
       "  10.223,\n",
       "  8.348,\n",
       "  7.2,\n",
       "  10.547,\n",
       "  9.12,\n",
       "  11.601,\n",
       "  11.593,\n",
       "  8.671,\n",
       "  7.702,\n",
       "  8.848,\n",
       "  9.227,\n",
       "  7.909,\n",
       "  8.222,\n",
       "  7.564,\n",
       "  10.193,\n",
       "  10.379,\n",
       "  11.64],\n",
       " 'im_quality': [9.0,\n",
       "  9.0,\n",
       "  9.0,\n",
       "  9.0,\n",
       "  9.0,\n",
       "  9.0,\n",
       "  9.0,\n",
       "  9.0,\n",
       "  9.0,\n",
       "  9.0,\n",
       "  9.0,\n",
       "  9.0,\n",
       "  9.0,\n",
       "  9.0,\n",
       "  9.0,\n",
       "  9.0,\n",
       "  9.0,\n",
       "  9.0,\n",
       "  9.0,\n",
       "  9.0,\n",
       "  9.0,\n",
       "  9.0,\n",
       "  9.0,\n",
       "  9.0,\n",
       "  9.0,\n",
       "  9.0,\n",
       "  9.0,\n",
       "  9.0,\n",
       "  9.0,\n",
       "  9.0,\n",
       "  9.0,\n",
       "  9.0,\n",
       "  9.0,\n",
       "  9.0,\n",
       "  9.0,\n",
       "  9.0,\n",
       "  9.0,\n",
       "  9.0,\n",
       "  9.0,\n",
       "  9.0,\n",
       "  9.0,\n",
       "  9.0,\n",
       "  9.0,\n",
       "  9.0,\n",
       "  9.0,\n",
       "  9.0,\n",
       "  9.0,\n",
       "  9.0,\n",
       "  9.0,\n",
       "  9.0,\n",
       "  9.0,\n",
       "  9.0,\n",
       "  9.0,\n",
       "  9.0,\n",
       "  9.0,\n",
       "  9.0,\n",
       "  9.0,\n",
       "  9.0,\n",
       "  9.0,\n",
       "  9.0,\n",
       "  9.0,\n",
       "  9.0,\n",
       "  9.0,\n",
       "  9.0,\n",
       "  9.0,\n",
       "  9.0,\n",
       "  9.0,\n",
       "  9.0,\n",
       "  9.0,\n",
       "  9.0,\n",
       "  9.0,\n",
       "  9.0,\n",
       "  9.0,\n",
       "  9.0,\n",
       "  9.0,\n",
       "  9.0,\n",
       "  9.0,\n",
       "  9.0,\n",
       "  9.0,\n",
       "  9.0,\n",
       "  9.0,\n",
       "  9.0,\n",
       "  9.0,\n",
       "  9.0,\n",
       "  9.0,\n",
       "  9.0,\n",
       "  9.0,\n",
       "  9.0,\n",
       "  9.0,\n",
       "  9.0,\n",
       "  9.0,\n",
       "  9.0,\n",
       "  9.0,\n",
       "  9.0,\n",
       "  9.0,\n",
       "  9.0,\n",
       "  9.0,\n",
       "  9.0,\n",
       "  9.0,\n",
       "  9.0,\n",
       "  9.0,\n",
       "  9.0,\n",
       "  9.0,\n",
       "  9.0,\n",
       "  9.0,\n",
       "  9.0,\n",
       "  9.0,\n",
       "  9.0],\n",
       " 'im_dimensions': [[42, 36],\n",
       "  [42, 36],\n",
       "  [42, 36],\n",
       "  [42, 36],\n",
       "  [42, 36],\n",
       "  [42, 36],\n",
       "  [42, 36],\n",
       "  [42, 36],\n",
       "  [42, 36],\n",
       "  [42, 36],\n",
       "  [42, 36],\n",
       "  [42, 36],\n",
       "  [42, 36],\n",
       "  [42, 36],\n",
       "  [42, 36],\n",
       "  [42, 36],\n",
       "  [42, 36],\n",
       "  [42, 36],\n",
       "  [42, 36],\n",
       "  [42, 36],\n",
       "  [42, 36],\n",
       "  [42, 36],\n",
       "  [42, 36],\n",
       "  [42, 36],\n",
       "  [42, 36],\n",
       "  [42, 36],\n",
       "  [42, 36],\n",
       "  [42, 36],\n",
       "  [42, 36],\n",
       "  [42, 36],\n",
       "  [42, 36],\n",
       "  [42, 36],\n",
       "  [42, 36],\n",
       "  [42, 36],\n",
       "  [42, 36],\n",
       "  [42, 36],\n",
       "  [42, 36],\n",
       "  [42, 36],\n",
       "  [42, 36],\n",
       "  [42, 36],\n",
       "  [42, 36],\n",
       "  [42, 36],\n",
       "  [42, 36],\n",
       "  [42, 36],\n",
       "  [42, 36],\n",
       "  [42, 36],\n",
       "  [42, 36],\n",
       "  [42, 36],\n",
       "  [42, 36],\n",
       "  [42, 36],\n",
       "  [42, 36],\n",
       "  [42, 36],\n",
       "  [42, 36],\n",
       "  [42, 36],\n",
       "  [42, 36],\n",
       "  [42, 36],\n",
       "  [42, 36],\n",
       "  [42, 36],\n",
       "  [42, 36],\n",
       "  [42, 36],\n",
       "  [42, 36],\n",
       "  [42, 36],\n",
       "  [42, 36],\n",
       "  [42, 36],\n",
       "  [42, 36],\n",
       "  [42, 36],\n",
       "  [42, 36],\n",
       "  [42, 36],\n",
       "  [42, 36],\n",
       "  [42, 36],\n",
       "  [42, 36],\n",
       "  [42, 36],\n",
       "  [42, 36],\n",
       "  [42, 36],\n",
       "  [42, 36],\n",
       "  [42, 36],\n",
       "  [42, 36],\n",
       "  [42, 36],\n",
       "  [42, 36],\n",
       "  [42, 36],\n",
       "  [42, 36],\n",
       "  [42, 36],\n",
       "  [42, 36],\n",
       "  [42, 36],\n",
       "  [42, 36],\n",
       "  [42, 36],\n",
       "  [42, 36],\n",
       "  [42, 36],\n",
       "  [42, 36],\n",
       "  [42, 36],\n",
       "  [42, 36],\n",
       "  [42, 36],\n",
       "  [42, 36],\n",
       "  [42, 36],\n",
       "  [42, 36],\n",
       "  [42, 36],\n",
       "  [42, 36],\n",
       "  [42, 36],\n",
       "  [42, 36],\n",
       "  [42, 36],\n",
       "  [42, 36],\n",
       "  [42, 36],\n",
       "  [42, 36],\n",
       "  [42, 36],\n",
       "  [42, 36],\n",
       "  [42, 36],\n",
       "  [42, 36],\n",
       "  [42, 36]]}"
      ]
     },
     "execution_count": 30,
     "metadata": {},
     "output_type": "execute_result"
    }
   ],
   "source": [
    "pick['L8']"
   ]
  },
  {
   "cell_type": "code",
   "execution_count": 26,
   "metadata": {},
   "outputs": [
    {
     "data": {
      "text/plain": [
       "dict_keys(['16-08-2015_S2', '04-12-2015_S2', '03-01-2016_S2', '23-01-2016_S2', '12-04-2016_S2', '19-09-2016_S2', '18-12-2016_S2', '07-01-2017_S2', '28-03-2017_S2', '17-04-2017_S2', '27-04-2017_S2', '17-05-2017_S2', '27-05-2017_S2', '16-06-2017_S2', '26-06-2017_S2', '11-07-2017_S2', '16-07-2017_S2', '09-10-2017_S2', '24-10-2017_S2', '08-12-2017_S2', '13-12-2017_S2', '02-01-2018_S2', '01-02-2018_S2', '06-02-2018_S2', '18-03-2018_S2', '02-04-2018_S2', '07-04-2018_S2', '02-05-2018_S2', '17-05-2018_S2', '22-05-2018_S2', '16-07-2018_S2', '30-08-2018_S2', '14-09-2018_S2', '04-10-2018_S2', '14-10-2018_S2', '29-10-2018_S2', '03-11-2018_S2', '28-11-2018_S2', '23-12-2018_S2', '12-01-2019_S2', '22-01-2019_S2', '06-02-2019_S2', '11-02-2019_S2', '16-02-2019_S2', '21-02-2019_S2', '08-03-2019_S2', '13-03-2019_S2', '23-03-2019_S2', '28-03-2019_S2', '07-04-2019_S2', '12-04-2019_S2', '21-06-2019_S2', '06-07-2019_S2', '05-08-2019_S2', '10-08-2019_S2', '20-08-2019_S2', '04-09-2019_S2', '19-09-2019_S2', '04-10-2019_S2', '03-11-2019_S2', '18-11-2019_S2', '03-12-2019_S2', '28-12-2019_S2', '02-01-2020_S2', '12-01-2020_S2', '17-01-2020_S2', '01-02-2020_S2', '11-02-2020_S2', '16-02-2020_S2', '02-03-2020_S2', '07-03-2020_S2', '17-03-2020_S2', '27-03-2020_S2', '11-04-2020_S2', '09-08-2020_S2', '03-09-2020_S2', '23-09-2020_S2', '18-10-2020_S2', '07-11-2020_S2', '07-12-2020_S2', '17-12-2020_S2', '06-01-2021_S2', '16-01-2021_S2', '21-01-2021_S2', '10-02-2021_S2', '15-02-2021_S2', '20-02-2021_S2', '07-03-2021_S2', '17-03-2021_S2', '11-04-2021_S2', '16-04-2021_S2', '21-04-2021_S2', '01-05-2021_S2', '15-06-2021_S2', '30-06-2021_S2', '15-07-2021_S2'])"
      ]
     },
     "execution_count": 26,
     "metadata": {},
     "output_type": "execute_result"
    }
   ],
   "source": [
    "pick[0].keys()"
   ]
  },
  {
   "cell_type": "code",
   "execution_count": 14,
   "metadata": {},
   "outputs": [
    {
     "data": {
      "text/plain": [
       "1985-01-01 00:00:00+00:00          NaN\n",
       "1985-01-02 00:00:00+00:00          NaN\n",
       "1985-01-03 00:00:00+00:00          NaN\n",
       "1985-01-04 00:00:00+00:00          NaN\n",
       "1985-01-05 00:00:00+00:00          NaN\n",
       "                               ...    \n",
       "2022-11-22 00:00:00+00:00    29.048473\n",
       "2022-11-27 00:00:00+00:00    38.480150\n",
       "2022-12-02 00:00:00+00:00    23.759433\n",
       "2022-12-17 00:00:00+00:00    35.114371\n",
       "2022-12-27 00:00:00+00:00    67.731505\n",
       "Name: coastline_position_transect_1_waterline, Length: 15330, dtype: float64"
      ]
     },
     "execution_count": 14,
     "metadata": {},
     "output_type": "execute_result"
    }
   ],
   "source": [
    "island_info['timeseries_preprocessing']['raw']['df_timeseries_environment']['coastline_position_transect_1_waterline']"
   ]
  },
  {
   "cell_type": "code",
   "execution_count": 10,
   "metadata": {},
   "outputs": [
    {
     "name": "stdout",
     "output_type": "stream",
     "text": [
      "\n",
      "-------------------------------------------------------------------\n",
      "Retrieving all information available for the island\n",
      "Island: Dhakandhoo, Maldives\n",
      "-------------------------------------------------------------------\n",
      "\n",
      "~ The following information is available: ~\n",
      "\n",
      "general_info\n",
      "               island\n",
      "               country\n",
      "               part of\n",
      "               located in the administrative territorial entity\n",
      "               located in or next to body of water\n",
      "               elevation above sea level\n",
      "               atoll\n",
      "spatial_reference\n",
      "               latitude\n",
      "               longitude\n",
      "               polygon\n",
      "               polygon_OSM\n",
      "               reference_shoreline\n",
      "               transects\n",
      "               transects_direction\n",
      "               area_country\n",
      "               reference_shoreline_buffer_L8\n",
      "               reference_shoreline_buffer_L9\n",
      "               reference_shoreline_buffer_S2\n",
      "image_collection_dict\n",
      "               description\n",
      "               S2\n",
      "               L5\n",
      "               L7\n",
      "               L8\n",
      "               L9\n",
      "duvat_magnan_2019\n",
      "               atoll\n",
      "               island number\n",
      "               satellite image date (d/m/y) 2004-2006\n",
      "               satellite image date (d/m/y) 2014-2016\n",
      "               change in island land area (data for inhabited islands only)(in ha) 2014-2016\n",
      "               human footprint on island land area 2004-2006 non-exploited islands\n",
      "               human footprint on island land area 2014-2016 non-exploited islands\n",
      "               coastal modifications 2004-2006 shoreline type entirely natural\n",
      "               coastal modifications 2014-2016 shoreline type entirely natural\n",
      "               human pressure on island reef 2004-2006 boat channel(s) across reef flat\n",
      "               human pressure on island reef 2014-2016 persistence of boat channel(s) across reef flat\n",
      "timeseries_CRW\n",
      "               description\n",
      "               description_timeseries\n",
      "               source\n",
      "               timeseries\n",
      "timeseries_nighttime_light\n",
      "               description\n",
      "               description_timeseries\n",
      "               source\n",
      "timeseries_disasters\n",
      "               description\n",
      "               description_timeseries\n",
      "               source\n",
      "               database\n",
      "               timeseries\n",
      "               confounders\n",
      "timeseries_WorldBank\n",
      "               description\n",
      "               description_timeseries\n",
      "               source\n",
      "               timeseries\n",
      "timeseries_WHO\n",
      "               description\n",
      "               description_timeseries\n",
      "               source\n",
      "               timeseries\n",
      "timeseries_sea_level_anomaly\n",
      "               description\n",
      "               description_timeseries\n",
      "               source\n",
      "               units\n",
      "               timeseries\n",
      "timeseries_PMLV2\n",
      "               description\n",
      "               description_timeseries\n",
      "               source\n",
      "               units\n",
      "timeseries_PSMSL\n",
      "               description\n",
      "               description_timeseries\n",
      "               source\n",
      "               stations\n",
      "               timeseries\n",
      "timeseries_PSLGM\n",
      "               description\n",
      "               description_timeseries\n",
      "               source\n",
      "timeseries_coastsat\n",
      "               description\n",
      "               description_timeseries\n",
      "               source\n",
      "               inputs\n",
      "               settings\n",
      "               timeseries\n",
      "timeseries_ERA5\n",
      "               description\n",
      "               description_timeseries\n",
      "               source\n",
      "               timeseries_transect_specific\n",
      "               timeseries\n",
      "               units\n",
      "characteristics_ECU\n",
      "               description\n",
      "               source\n",
      "               transects_characteristics_ECU\n",
      "timeseries_vegetation\n",
      "               description\n",
      "               description_timeseries\n",
      "               source\n",
      "               mask_total_vegetation_L8\n",
      "               mask_coastal_vegetation_L8\n",
      "               mask_total_vegetation_L9\n",
      "               mask_coastal_vegetation_L9\n",
      "               mask_total_vegetation_S2\n",
      "               mask_coastal_vegetation_S2\n",
      "               timeseries\n",
      "timeseries_climate_indices\n",
      "               description\n",
      "               description_timeseries\n",
      "               source\n",
      "               timeseries\n",
      "timeseries_segmentation\n",
      "               dict_extraction\n",
      "               dict_best_polygons\n",
      "               dict_timeseries\n",
      "               timeseries\n",
      "timeseries_preprocessing\n",
      "               df_coastline_timeseries\n",
      "               raw\n",
      "               optimal time period\n",
      "timeseries_analysis\n",
      "               coastline_position_transect_0_waterline\n",
      "               coastline_position_transect_1_waterline\n",
      "               coastline_position_transect_2_waterline\n",
      "               coastline_position_transect_3_waterline\n",
      "               coastline_position_transect_4_waterline\n",
      "               coastline_position_transect_5_waterline\n",
      "               coastline_position_transect_6_waterline\n",
      "               coastline_position_transect_7_waterline\n",
      "               coastline_position_transect_8_waterline\n",
      "               coastline_position_transect_9_waterline\n",
      "               coastline_position_transect_10_waterline\n",
      "               coastline_position_transect_11_waterline\n",
      "               coastline_position_transect_12_waterline\n",
      "               coastline_position_transect_13_waterline\n",
      "               coastline_position_transect_14_waterline\n",
      "               coastline_position_transect_15_waterline\n",
      "               coastline_position_transect_16_waterline\n",
      "               coastline_position_transect_17_waterline\n",
      "               coastline_position_transect_18_waterline\n",
      "               coastline_position_transect_19_waterline\n",
      "               coastline_position_transect_20_waterline\n",
      "               coastline_position_transect_21_waterline\n",
      "               coastline_position_transect_22_waterline\n",
      "               coastline_position_transect_23_waterline\n",
      "               coastline_position_transect_24_waterline\n",
      "               coastline_position_transect_25_waterline\n",
      "               coastline_position_transect_26_waterline\n",
      "               coastline_position_transect_27_waterline\n",
      "               coastline_position_transect_28_waterline\n",
      "               coastline_position_transect_29_waterline\n",
      "               coastline_position_transect_30_waterline\n",
      "               coastline_position_transect_31_waterline\n",
      "               coastline_position_transect_32_waterline\n",
      "               coastline_position_transect_33_waterline\n",
      "               coastline_position_transect_34_waterline\n",
      "               coastline_position_transect_35_waterline\n",
      "               coastline_position_transect_36_waterline\n",
      "               coastline_position_transect_37_waterline\n",
      "               coastline_position_transect_38_waterline\n",
      "               coastline_position_transect_39_waterline\n",
      "               coastline_position_transect_40_waterline\n",
      "               coastline_position_transect_41_waterline\n",
      "               coastline_position_transect_42_waterline\n",
      "               coastline_position_transect_43_waterline\n",
      "               coastline_position_transect_44_waterline\n",
      "               coastline_position_transect_45_waterline\n",
      "               coastline_position_transect_46_waterline\n",
      "               coastline_position_transect_47_waterline\n",
      "               coastline_position_transect_48_waterline\n",
      "               coastline_position_transect_49_waterline\n",
      "               coastline_position_transect_50_waterline\n",
      "               coastline_position_transect_51_waterline\n",
      "               coastline_position_transect_52_waterline\n",
      "               coastline_position_transect_53_waterline\n",
      "               coastline_position_transect_54_waterline\n",
      "               coastline_position_transect_55_waterline\n",
      "               coastline_position_transect_56_waterline\n",
      "               coastline_position_transect_57_waterline\n",
      "               coastline_position_transect_58_waterline\n",
      "               coastline_position_transect_59_waterline\n",
      "               coastline_position_transect_60_waterline\n",
      "               coastline_position_transect_61_waterline\n",
      "               coastline_position_transect_62_waterline\n",
      "               coastline_position_transect_63_waterline\n",
      "               coastline_position_transect_64_waterline\n",
      "               coastline_position_transect_65_waterline\n",
      "               coastline_position_transect_66_waterline\n",
      "               coastline_position_transect_67_waterline\n",
      "               coastline_position_transect_68_waterline\n",
      "               coastline_position_transect_69_waterline\n",
      "               coastline_position_transect_70_waterline\n",
      "               coastline_position_transect_71_waterline\n",
      "               coastline_position_transect_72_waterline\n",
      "               coastline_position_transect_73_waterline\n",
      "               coastline_position_transect_74_waterline\n",
      "               coastline_position_transect_75_waterline\n",
      "               coastline_position_transect_76_waterline\n",
      "               coastline_position_transect_77_waterline\n",
      "               coastline_position_transect_78_waterline\n",
      "               coastline_position_transect_80_waterline\n",
      "               coastline_position_transect_81_waterline\n",
      "               coastline_position_transect_82_waterline\n",
      "               coastline_position_transect_84_waterline\n",
      "               coastline_position_transect_85_waterline\n",
      "               coastline_position_transect_87_waterline\n",
      "               coastline_position_transect_88_waterline\n",
      "               coastline_position_transect_89_waterline\n",
      "               coastline_position_transect_90_waterline\n",
      "               coastline_position_transect_91_waterline\n",
      "               coastline_position_transect_92_waterline\n",
      "               coastline_position_transect_93_waterline\n",
      "               coastline_position_transect_94_waterline\n",
      "               coastline_position_transect_95_waterline\n",
      "               coastline_position_transect_96_waterline\n",
      "               coastline_position_transect_97_waterline\n",
      "               coastline_position_transect_98_waterline\n",
      "               coastline_position_transect_99_waterline\n",
      "               coastline_position_transect_100_waterline\n",
      "               coastline_position_transect_101_waterline\n",
      "               coastline_position_transect_102_waterline\n",
      "               coastline_position_transect_103_waterline\n",
      "               coastline_position_transect_104_waterline\n",
      "               coastline_position_transect_105_waterline\n",
      "               coastline_position_transect_106_waterline\n",
      "\n",
      "-------------------------------------------------------------------\n",
      "Segmentation of Dhakandhoo, Maldives\n",
      "-------------------------------------------------------------------\n",
      "\n",
      "SATELLITE: S2\n"
     ]
    },
    {
     "name": "stderr",
     "output_type": "stream",
     "text": [
      "100%|██████████| 456/456 [00:04<00:00, 97.01it/s] \n"
     ]
    },
    {
     "name": "stdout",
     "output_type": "stream",
     "text": [
      "SATELLITE: L8\n"
     ]
    },
    {
     "name": "stderr",
     "output_type": "stream",
     "text": [
      "100%|██████████| 203/203 [00:00<00:00, 224.16it/s]\n"
     ]
    },
    {
     "name": "stdout",
     "output_type": "stream",
     "text": [
      "SATELLITE: L9\n"
     ]
    },
    {
     "name": "stderr",
     "output_type": "stream",
     "text": [
      "100%|██████████| 44/44 [00:00<00:00, 210.66it/s]\n"
     ]
    },
    {
     "name": "stdout",
     "output_type": "stream",
     "text": [
      "\n",
      "-------------------------------------------------------------------\n",
      "Time series pre-processing\n",
      "Island: Dhakandhoo, Maldives\n",
      "-------------------------------------------------------------------\n",
      "\n",
      "Retrieving available time series\n",
      "Replacing outliers with NaN using z-score (abnormally high values)\n",
      "Grouping by frequency\n",
      "Filling NaN with rolling mean (only for time series with very few NaN)\n",
      "Retrieving coastline and other time series\n",
      "Creating dictionary for different time frames\n",
      "Finding optimal time period for each time frame for each transect\n",
      "Finding optimal time period for each time frame for each other time series\n",
      "\n",
      "-------------------------------------------------------------------\n",
      "Time series analysis\n",
      "Island: Dhakandhoo, Maldives\n",
      "-------------------------------------------------------------------\n",
      "\n"
     ]
    },
    {
     "name": "stderr",
     "output_type": "stream",
     "text": [
      "Transect:   0%|          | 0/107 [00:00<?, ?it/s]c:\\Users\\mp222\\OneDrive - Imperial College London\\IslandTimeGitHub\\IslandTime\\IslandTime\\TimeSeriesAnalysis.py:634: InterpolationWarning: The test statistic is outside of the range of p-values available in the\n",
      "look-up table. The actual p-value is greater than the p-value returned.\n",
      "\n",
      "  results = test(time_series.values)\n",
      "c:\\Users\\mp222\\OneDrive - Imperial College London\\IslandTimeGitHub\\IslandTime\\IslandTime\\TimeSeriesAnalysis.py:634: InterpolationWarning: The test statistic is outside of the range of p-values available in the\n",
      "look-up table. The actual p-value is greater than the p-value returned.\n",
      "\n",
      "  results = test(time_series.values)\n",
      "Transect:   2%|▏         | 2/107 [00:00<00:08, 12.96it/s]c:\\Users\\mp222\\OneDrive - Imperial College London\\IslandTimeGitHub\\IslandTime\\IslandTime\\TimeSeriesAnalysis.py:634: InterpolationWarning: The test statistic is outside of the range of p-values available in the\n",
      "look-up table. The actual p-value is greater than the p-value returned.\n",
      "\n",
      "  results = test(time_series.values)\n",
      "c:\\Users\\mp222\\OneDrive - Imperial College London\\IslandTimeGitHub\\IslandTime\\IslandTime\\TimeSeriesAnalysis.py:634: InterpolationWarning: The test statistic is outside of the range of p-values available in the\n",
      "look-up table. The actual p-value is greater than the p-value returned.\n",
      "\n",
      "  results = test(time_series.values)\n",
      "Transect:   4%|▎         | 4/107 [00:00<00:06, 15.01it/s]c:\\Users\\mp222\\OneDrive - Imperial College London\\IslandTimeGitHub\\IslandTime\\IslandTime\\TimeSeriesAnalysis.py:634: InterpolationWarning: The test statistic is outside of the range of p-values available in the\n",
      "look-up table. The actual p-value is greater than the p-value returned.\n",
      "\n",
      "  results = test(time_series.values)\n",
      "c:\\Users\\mp222\\OneDrive - Imperial College London\\IslandTimeGitHub\\IslandTime\\IslandTime\\TimeSeriesAnalysis.py:634: InterpolationWarning: The test statistic is outside of the range of p-values available in the\n",
      "look-up table. The actual p-value is greater than the p-value returned.\n",
      "\n",
      "  results = test(time_series.values)\n",
      "Transect:   6%|▌         | 6/107 [00:00<00:06, 15.81it/s]c:\\Users\\mp222\\OneDrive - Imperial College London\\IslandTimeGitHub\\IslandTime\\IslandTime\\TimeSeriesAnalysis.py:634: InterpolationWarning: The test statistic is outside of the range of p-values available in the\n",
      "look-up table. The actual p-value is greater than the p-value returned.\n",
      "\n",
      "  results = test(time_series.values)\n",
      "c:\\Users\\mp222\\OneDrive - Imperial College London\\IslandTimeGitHub\\IslandTime\\IslandTime\\TimeSeriesAnalysis.py:634: InterpolationWarning: The test statistic is outside of the range of p-values available in the\n",
      "look-up table. The actual p-value is greater than the p-value returned.\n",
      "\n",
      "  results = test(time_series.values)\n",
      "Transect:   7%|▋         | 8/107 [00:00<00:06, 16.21it/s]c:\\Users\\mp222\\OneDrive - Imperial College London\\IslandTimeGitHub\\IslandTime\\IslandTime\\TimeSeriesAnalysis.py:634: InterpolationWarning: The test statistic is outside of the range of p-values available in the\n",
      "look-up table. The actual p-value is greater than the p-value returned.\n",
      "\n",
      "  results = test(time_series.values)\n",
      "c:\\Users\\mp222\\OneDrive - Imperial College London\\IslandTimeGitHub\\IslandTime\\IslandTime\\TimeSeriesAnalysis.py:634: InterpolationWarning: The test statistic is outside of the range of p-values available in the\n",
      "look-up table. The actual p-value is greater than the p-value returned.\n",
      "\n",
      "  results = test(time_series.values)\n",
      "Transect:   9%|▉         | 10/107 [00:00<00:06, 15.68it/s]c:\\Users\\mp222\\OneDrive - Imperial College London\\IslandTimeGitHub\\IslandTime\\IslandTime\\TimeSeriesAnalysis.py:634: InterpolationWarning: The test statistic is outside of the range of p-values available in the\n",
      "look-up table. The actual p-value is greater than the p-value returned.\n",
      "\n",
      "  results = test(time_series.values)\n",
      "c:\\Users\\mp222\\OneDrive - Imperial College London\\IslandTimeGitHub\\IslandTime\\IslandTime\\TimeSeriesAnalysis.py:634: InterpolationWarning: The test statistic is outside of the range of p-values available in the\n",
      "look-up table. The actual p-value is greater than the p-value returned.\n",
      "\n",
      "  results = test(time_series.values)\n",
      "Transect:  11%|█         | 12/107 [00:00<00:06, 15.57it/s]c:\\Users\\mp222\\OneDrive - Imperial College London\\IslandTimeGitHub\\IslandTime\\IslandTime\\TimeSeriesAnalysis.py:634: InterpolationWarning: The test statistic is outside of the range of p-values available in the\n",
      "look-up table. The actual p-value is greater than the p-value returned.\n",
      "\n",
      "  results = test(time_series.values)\n",
      "c:\\Users\\mp222\\OneDrive - Imperial College London\\IslandTimeGitHub\\IslandTime\\IslandTime\\TimeSeriesAnalysis.py:634: InterpolationWarning: The test statistic is outside of the range of p-values available in the\n",
      "look-up table. The actual p-value is greater than the p-value returned.\n",
      "\n",
      "  results = test(time_series.values)\n",
      "Transect:  13%|█▎        | 14/107 [00:00<00:05, 16.40it/s]c:\\Users\\mp222\\OneDrive - Imperial College London\\IslandTimeGitHub\\IslandTime\\IslandTime\\TimeSeriesAnalysis.py:634: InterpolationWarning: The test statistic is outside of the range of p-values available in the\n",
      "look-up table. The actual p-value is greater than the p-value returned.\n",
      "\n",
      "  results = test(time_series.values)\n",
      "c:\\Users\\mp222\\OneDrive - Imperial College London\\IslandTimeGitHub\\IslandTime\\IslandTime\\TimeSeriesAnalysis.py:634: InterpolationWarning: The test statistic is outside of the range of p-values available in the\n",
      "look-up table. The actual p-value is greater than the p-value returned.\n",
      "\n",
      "  results = test(time_series.values)\n",
      "Transect:  15%|█▍        | 16/107 [00:00<00:05, 16.93it/s]c:\\Users\\mp222\\OneDrive - Imperial College London\\IslandTimeGitHub\\IslandTime\\IslandTime\\TimeSeriesAnalysis.py:634: InterpolationWarning: The test statistic is outside of the range of p-values available in the\n",
      "look-up table. The actual p-value is greater than the p-value returned.\n",
      "\n",
      "  results = test(time_series.values)\n",
      "c:\\Users\\mp222\\OneDrive - Imperial College London\\IslandTimeGitHub\\IslandTime\\IslandTime\\TimeSeriesAnalysis.py:634: InterpolationWarning: The test statistic is outside of the range of p-values available in the\n",
      "look-up table. The actual p-value is greater than the p-value returned.\n",
      "\n",
      "  results = test(time_series.values)\n",
      "Transect:  17%|█▋        | 18/107 [00:01<00:05, 17.26it/s]c:\\Users\\mp222\\OneDrive - Imperial College London\\IslandTimeGitHub\\IslandTime\\IslandTime\\TimeSeriesAnalysis.py:634: InterpolationWarning: The test statistic is outside of the range of p-values available in the\n",
      "look-up table. The actual p-value is greater than the p-value returned.\n",
      "\n",
      "  results = test(time_series.values)\n",
      "c:\\Users\\mp222\\OneDrive - Imperial College London\\IslandTimeGitHub\\IslandTime\\IslandTime\\TimeSeriesAnalysis.py:634: InterpolationWarning: The test statistic is outside of the range of p-values available in the\n",
      "look-up table. The actual p-value is greater than the p-value returned.\n",
      "\n",
      "  results = test(time_series.values)\n",
      "Transect:  19%|█▊        | 20/107 [00:01<00:05, 16.57it/s]c:\\Users\\mp222\\OneDrive - Imperial College London\\IslandTimeGitHub\\IslandTime\\IslandTime\\TimeSeriesAnalysis.py:634: InterpolationWarning: The test statistic is outside of the range of p-values available in the\n",
      "look-up table. The actual p-value is greater than the p-value returned.\n",
      "\n",
      "  results = test(time_series.values)\n",
      "c:\\Users\\mp222\\OneDrive - Imperial College London\\IslandTimeGitHub\\IslandTime\\IslandTime\\TimeSeriesAnalysis.py:634: InterpolationWarning: The test statistic is outside of the range of p-values available in the\n",
      "look-up table. The actual p-value is greater than the p-value returned.\n",
      "\n",
      "  results = test(time_series.values)\n",
      "Transect:  21%|██        | 22/107 [00:01<00:05, 15.79it/s]c:\\Users\\mp222\\OneDrive - Imperial College London\\IslandTimeGitHub\\IslandTime\\IslandTime\\TimeSeriesAnalysis.py:634: InterpolationWarning: The test statistic is outside of the range of p-values available in the\n",
      "look-up table. The actual p-value is greater than the p-value returned.\n",
      "\n",
      "  results = test(time_series.values)\n",
      "c:\\Users\\mp222\\OneDrive - Imperial College London\\IslandTimeGitHub\\IslandTime\\IslandTime\\TimeSeriesAnalysis.py:634: InterpolationWarning: The test statistic is outside of the range of p-values available in the\n",
      "look-up table. The actual p-value is greater than the p-value returned.\n",
      "\n",
      "  results = test(time_series.values)\n",
      "Transect:  22%|██▏       | 24/107 [00:01<00:05, 16.50it/s]c:\\Users\\mp222\\OneDrive - Imperial College London\\IslandTimeGitHub\\IslandTime\\IslandTime\\TimeSeriesAnalysis.py:634: InterpolationWarning: The test statistic is outside of the range of p-values available in the\n",
      "look-up table. The actual p-value is greater than the p-value returned.\n",
      "\n",
      "  results = test(time_series.values)\n",
      "c:\\Users\\mp222\\OneDrive - Imperial College London\\IslandTimeGitHub\\IslandTime\\IslandTime\\TimeSeriesAnalysis.py:634: InterpolationWarning: The test statistic is outside of the range of p-values available in the\n",
      "look-up table. The actual p-value is greater than the p-value returned.\n",
      "\n",
      "  results = test(time_series.values)\n",
      "Transect:  24%|██▍       | 26/107 [00:01<00:04, 16.95it/s]c:\\Users\\mp222\\OneDrive - Imperial College London\\IslandTimeGitHub\\IslandTime\\IslandTime\\TimeSeriesAnalysis.py:634: InterpolationWarning: The test statistic is outside of the range of p-values available in the\n",
      "look-up table. The actual p-value is greater than the p-value returned.\n",
      "\n",
      "  results = test(time_series.values)\n",
      "c:\\Users\\mp222\\OneDrive - Imperial College London\\IslandTimeGitHub\\IslandTime\\IslandTime\\TimeSeriesAnalysis.py:634: InterpolationWarning: The test statistic is outside of the range of p-values available in the\n",
      "look-up table. The actual p-value is greater than the p-value returned.\n",
      "\n",
      "  results = test(time_series.values)\n",
      "Transect:  26%|██▌       | 28/107 [00:01<00:04, 16.23it/s]c:\\Users\\mp222\\OneDrive - Imperial College London\\IslandTimeGitHub\\IslandTime\\IslandTime\\TimeSeriesAnalysis.py:634: InterpolationWarning: The test statistic is outside of the range of p-values available in the\n",
      "look-up table. The actual p-value is greater than the p-value returned.\n",
      "\n",
      "  results = test(time_series.values)\n",
      "c:\\Users\\mp222\\OneDrive - Imperial College London\\IslandTimeGitHub\\IslandTime\\IslandTime\\TimeSeriesAnalysis.py:634: InterpolationWarning: The test statistic is outside of the range of p-values available in the\n",
      "look-up table. The actual p-value is greater than the p-value returned.\n",
      "\n",
      "  results = test(time_series.values)\n",
      "Transect:  28%|██▊       | 30/107 [00:01<00:04, 16.75it/s]c:\\Users\\mp222\\OneDrive - Imperial College London\\IslandTimeGitHub\\IslandTime\\IslandTime\\TimeSeriesAnalysis.py:634: InterpolationWarning: The test statistic is outside of the range of p-values available in the\n",
      "look-up table. The actual p-value is greater than the p-value returned.\n",
      "\n",
      "  results = test(time_series.values)\n",
      "c:\\Users\\mp222\\OneDrive - Imperial College London\\IslandTimeGitHub\\IslandTime\\IslandTime\\TimeSeriesAnalysis.py:634: InterpolationWarning: The test statistic is outside of the range of p-values available in the\n",
      "look-up table. The actual p-value is greater than the p-value returned.\n",
      "\n",
      "  results = test(time_series.values)\n",
      "Transect:  30%|██▉       | 32/107 [00:01<00:04, 17.36it/s]c:\\Users\\mp222\\OneDrive - Imperial College London\\IslandTimeGitHub\\IslandTime\\IslandTime\\TimeSeriesAnalysis.py:634: InterpolationWarning: The test statistic is outside of the range of p-values available in the\n",
      "look-up table. The actual p-value is greater than the p-value returned.\n",
      "\n",
      "  results = test(time_series.values)\n",
      "c:\\Users\\mp222\\OneDrive - Imperial College London\\IslandTimeGitHub\\IslandTime\\IslandTime\\TimeSeriesAnalysis.py:634: InterpolationWarning: The test statistic is outside of the range of p-values available in the\n",
      "look-up table. The actual p-value is greater than the p-value returned.\n",
      "\n",
      "  results = test(time_series.values)\n",
      "Transect:  32%|███▏      | 34/107 [00:02<00:04, 17.44it/s]c:\\Users\\mp222\\OneDrive - Imperial College London\\IslandTimeGitHub\\IslandTime\\IslandTime\\TimeSeriesAnalysis.py:634: InterpolationWarning: The test statistic is outside of the range of p-values available in the\n",
      "look-up table. The actual p-value is greater than the p-value returned.\n",
      "\n",
      "  results = test(time_series.values)\n",
      "c:\\Users\\mp222\\OneDrive - Imperial College London\\IslandTimeGitHub\\IslandTime\\IslandTime\\TimeSeriesAnalysis.py:634: InterpolationWarning: The test statistic is outside of the range of p-values available in the\n",
      "look-up table. The actual p-value is greater than the p-value returned.\n",
      "\n",
      "  results = test(time_series.values)\n",
      "Transect:  34%|███▎      | 36/107 [00:02<00:04, 16.22it/s]c:\\Users\\mp222\\OneDrive - Imperial College London\\IslandTimeGitHub\\IslandTime\\IslandTime\\TimeSeriesAnalysis.py:634: InterpolationWarning: The test statistic is outside of the range of p-values available in the\n",
      "look-up table. The actual p-value is greater than the p-value returned.\n",
      "\n",
      "  results = test(time_series.values)\n",
      "c:\\Users\\mp222\\OneDrive - Imperial College London\\IslandTimeGitHub\\IslandTime\\IslandTime\\TimeSeriesAnalysis.py:634: InterpolationWarning: The test statistic is outside of the range of p-values available in the\n",
      "look-up table. The actual p-value is greater than the p-value returned.\n",
      "\n",
      "  results = test(time_series.values)\n",
      "Transect:  36%|███▌      | 38/107 [00:02<00:04, 16.65it/s]c:\\Users\\mp222\\OneDrive - Imperial College London\\IslandTimeGitHub\\IslandTime\\IslandTime\\TimeSeriesAnalysis.py:634: InterpolationWarning: The test statistic is outside of the range of p-values available in the\n",
      "look-up table. The actual p-value is greater than the p-value returned.\n",
      "\n",
      "  results = test(time_series.values)\n",
      "c:\\Users\\mp222\\OneDrive - Imperial College London\\IslandTimeGitHub\\IslandTime\\IslandTime\\TimeSeriesAnalysis.py:634: InterpolationWarning: The test statistic is outside of the range of p-values available in the\n",
      "look-up table. The actual p-value is greater than the p-value returned.\n",
      "\n",
      "  results = test(time_series.values)\n",
      "Transect:  37%|███▋      | 40/107 [00:02<00:04, 16.45it/s]c:\\Users\\mp222\\OneDrive - Imperial College London\\IslandTimeGitHub\\IslandTime\\IslandTime\\TimeSeriesAnalysis.py:634: InterpolationWarning: The test statistic is outside of the range of p-values available in the\n",
      "look-up table. The actual p-value is greater than the p-value returned.\n",
      "\n",
      "  results = test(time_series.values)\n",
      "c:\\Users\\mp222\\OneDrive - Imperial College London\\IslandTimeGitHub\\IslandTime\\IslandTime\\TimeSeriesAnalysis.py:634: InterpolationWarning: The test statistic is outside of the range of p-values available in the\n",
      "look-up table. The actual p-value is greater than the p-value returned.\n",
      "\n",
      "  results = test(time_series.values)\n",
      "Transect:  45%|████▍     | 48/107 [00:02<00:03, 15.38it/s]c:\\Users\\mp222\\OneDrive - Imperial College London\\IslandTimeGitHub\\IslandTime\\IslandTime\\TimeSeriesAnalysis.py:634: InterpolationWarning: The test statistic is outside of the range of p-values available in the\n",
      "look-up table. The actual p-value is greater than the p-value returned.\n",
      "\n",
      "  results = test(time_series.values)\n",
      "c:\\Users\\mp222\\OneDrive - Imperial College London\\IslandTimeGitHub\\IslandTime\\IslandTime\\TimeSeriesAnalysis.py:634: InterpolationWarning: The test statistic is outside of the range of p-values available in the\n",
      "look-up table. The actual p-value is greater than the p-value returned.\n",
      "\n",
      "  results = test(time_series.values)\n",
      "Transect:  47%|████▋     | 50/107 [00:03<00:03, 16.11it/s]c:\\Users\\mp222\\OneDrive - Imperial College London\\IslandTimeGitHub\\IslandTime\\IslandTime\\TimeSeriesAnalysis.py:634: InterpolationWarning: The test statistic is outside of the range of p-values available in the\n",
      "look-up table. The actual p-value is greater than the p-value returned.\n",
      "\n",
      "  results = test(time_series.values)\n",
      "c:\\Users\\mp222\\OneDrive - Imperial College London\\IslandTimeGitHub\\IslandTime\\IslandTime\\TimeSeriesAnalysis.py:634: InterpolationWarning: The test statistic is outside of the range of p-values available in the\n",
      "look-up table. The actual p-value is greater than the p-value returned.\n",
      "\n",
      "  results = test(time_series.values)\n",
      "c:\\Users\\mp222\\OneDrive - Imperial College London\\IslandTimeGitHub\\IslandTime\\IslandTime\\TimeSeriesAnalysis.py:634: InterpolationWarning: The test statistic is outside of the range of p-values available in the\n",
      "look-up table. The actual p-value is greater than the p-value returned.\n",
      "\n",
      "  results = test(time_series.values)\n",
      "Transect:  50%|████▉     | 53/107 [00:03<00:03, 17.26it/s]c:\\Users\\mp222\\OneDrive - Imperial College London\\IslandTimeGitHub\\IslandTime\\IslandTime\\TimeSeriesAnalysis.py:634: InterpolationWarning: The test statistic is outside of the range of p-values available in the\n",
      "look-up table. The actual p-value is greater than the p-value returned.\n",
      "\n",
      "  results = test(time_series.values)\n",
      "c:\\Users\\mp222\\OneDrive - Imperial College London\\IslandTimeGitHub\\IslandTime\\IslandTime\\TimeSeriesAnalysis.py:634: InterpolationWarning: The test statistic is outside of the range of p-values available in the\n",
      "look-up table. The actual p-value is greater than the p-value returned.\n",
      "\n",
      "  results = test(time_series.values)\n",
      "Transect:  51%|█████▏    | 55/107 [00:03<00:02, 17.44it/s]c:\\Users\\mp222\\OneDrive - Imperial College London\\IslandTimeGitHub\\IslandTime\\IslandTime\\TimeSeriesAnalysis.py:634: InterpolationWarning: The test statistic is outside of the range of p-values available in the\n",
      "look-up table. The actual p-value is greater than the p-value returned.\n",
      "\n",
      "  results = test(time_series.values)\n",
      "c:\\Users\\mp222\\OneDrive - Imperial College London\\IslandTimeGitHub\\IslandTime\\IslandTime\\TimeSeriesAnalysis.py:634: InterpolationWarning: The test statistic is outside of the range of p-values available in the\n",
      "look-up table. The actual p-value is greater than the p-value returned.\n",
      "\n",
      "  results = test(time_series.values)\n",
      "Transect:  53%|█████▎    | 57/107 [00:03<00:02, 17.53it/s]c:\\Users\\mp222\\OneDrive - Imperial College London\\IslandTimeGitHub\\IslandTime\\IslandTime\\TimeSeriesAnalysis.py:634: InterpolationWarning: The test statistic is outside of the range of p-values available in the\n",
      "look-up table. The actual p-value is greater than the p-value returned.\n",
      "\n",
      "  results = test(time_series.values)\n",
      "c:\\Users\\mp222\\OneDrive - Imperial College London\\IslandTimeGitHub\\IslandTime\\IslandTime\\TimeSeriesAnalysis.py:634: InterpolationWarning: The test statistic is outside of the range of p-values available in the\n",
      "look-up table. The actual p-value is greater than the p-value returned.\n",
      "\n",
      "  results = test(time_series.values)\n",
      "Transect:  59%|█████▉    | 63/107 [00:03<00:02, 17.28it/s]c:\\Users\\mp222\\OneDrive - Imperial College London\\IslandTimeGitHub\\IslandTime\\IslandTime\\TimeSeriesAnalysis.py:634: InterpolationWarning: The test statistic is outside of the range of p-values available in the\n",
      "look-up table. The actual p-value is greater than the p-value returned.\n",
      "\n",
      "  results = test(time_series.values)\n",
      "Transect:  61%|██████    | 65/107 [00:03<00:02, 17.69it/s]c:\\Users\\mp222\\OneDrive - Imperial College London\\IslandTimeGitHub\\IslandTime\\IslandTime\\TimeSeriesAnalysis.py:634: InterpolationWarning: The test statistic is outside of the range of p-values available in the\n",
      "look-up table. The actual p-value is greater than the p-value returned.\n",
      "\n",
      "  results = test(time_series.values)\n",
      "c:\\Users\\mp222\\OneDrive - Imperial College London\\IslandTimeGitHub\\IslandTime\\IslandTime\\TimeSeriesAnalysis.py:634: InterpolationWarning: The test statistic is outside of the range of p-values available in the\n",
      "look-up table. The actual p-value is greater than the p-value returned.\n",
      "\n",
      "  results = test(time_series.values)\n",
      "Transect:  63%|██████▎   | 67/107 [00:04<00:02, 17.77it/s]c:\\Users\\mp222\\OneDrive - Imperial College London\\IslandTimeGitHub\\IslandTime\\IslandTime\\TimeSeriesAnalysis.py:634: InterpolationWarning: The test statistic is outside of the range of p-values available in the\n",
      "look-up table. The actual p-value is greater than the p-value returned.\n",
      "\n",
      "  results = test(time_series.values)\n",
      "c:\\Users\\mp222\\OneDrive - Imperial College London\\IslandTimeGitHub\\IslandTime\\IslandTime\\TimeSeriesAnalysis.py:634: InterpolationWarning: The test statistic is outside of the range of p-values available in the\n",
      "look-up table. The actual p-value is greater than the p-value returned.\n",
      "\n",
      "  results = test(time_series.values)\n",
      "Transect:  64%|██████▍   | 69/107 [00:04<00:02, 17.70it/s]c:\\Users\\mp222\\OneDrive - Imperial College London\\IslandTimeGitHub\\IslandTime\\IslandTime\\TimeSeriesAnalysis.py:634: InterpolationWarning: The test statistic is outside of the range of p-values available in the\n",
      "look-up table. The actual p-value is greater than the p-value returned.\n",
      "\n",
      "  results = test(time_series.values)\n",
      "c:\\Users\\mp222\\OneDrive - Imperial College London\\IslandTimeGitHub\\IslandTime\\IslandTime\\TimeSeriesAnalysis.py:634: InterpolationWarning: The test statistic is outside of the range of p-values available in the\n",
      "look-up table. The actual p-value is greater than the p-value returned.\n",
      "\n",
      "  results = test(time_series.values)\n",
      "Transect:  66%|██████▋   | 71/107 [00:04<00:02, 17.77it/s]c:\\Users\\mp222\\OneDrive - Imperial College London\\IslandTimeGitHub\\IslandTime\\IslandTime\\TimeSeriesAnalysis.py:634: InterpolationWarning: The test statistic is outside of the range of p-values available in the\n",
      "look-up table. The actual p-value is greater than the p-value returned.\n",
      "\n",
      "  results = test(time_series.values)\n",
      "c:\\Users\\mp222\\OneDrive - Imperial College London\\IslandTimeGitHub\\IslandTime\\IslandTime\\TimeSeriesAnalysis.py:634: InterpolationWarning: The test statistic is outside of the range of p-values available in the\n",
      "look-up table. The actual p-value is greater than the p-value returned.\n",
      "\n",
      "  results = test(time_series.values)\n",
      "Transect:  68%|██████▊   | 73/107 [00:04<00:01, 17.72it/s]c:\\Users\\mp222\\OneDrive - Imperial College London\\IslandTimeGitHub\\IslandTime\\IslandTime\\TimeSeriesAnalysis.py:634: InterpolationWarning: The test statistic is outside of the range of p-values available in the\n",
      "look-up table. The actual p-value is greater than the p-value returned.\n",
      "\n",
      "  results = test(time_series.values)\n",
      "c:\\Users\\mp222\\OneDrive - Imperial College London\\IslandTimeGitHub\\IslandTime\\IslandTime\\TimeSeriesAnalysis.py:634: InterpolationWarning: The test statistic is outside of the range of p-values available in the\n",
      "look-up table. The actual p-value is greater than the p-value returned.\n",
      "\n",
      "  results = test(time_series.values)\n",
      "Transect:  70%|███████   | 75/107 [00:04<00:01, 16.43it/s]c:\\Users\\mp222\\OneDrive - Imperial College London\\IslandTimeGitHub\\IslandTime\\IslandTime\\TimeSeriesAnalysis.py:634: InterpolationWarning: The test statistic is outside of the range of p-values available in the\n",
      "look-up table. The actual p-value is greater than the p-value returned.\n",
      "\n",
      "  results = test(time_series.values)\n",
      "c:\\Users\\mp222\\OneDrive - Imperial College London\\IslandTimeGitHub\\IslandTime\\IslandTime\\TimeSeriesAnalysis.py:634: InterpolationWarning: The test statistic is outside of the range of p-values available in the\n",
      "look-up table. The actual p-value is greater than the p-value returned.\n",
      "\n",
      "  results = test(time_series.values)\n",
      "Transect:  72%|███████▏  | 77/107 [00:04<00:01, 16.76it/s]c:\\Users\\mp222\\OneDrive - Imperial College London\\IslandTimeGitHub\\IslandTime\\IslandTime\\TimeSeriesAnalysis.py:634: InterpolationWarning: The test statistic is outside of the range of p-values available in the\n",
      "look-up table. The actual p-value is greater than the p-value returned.\n",
      "\n",
      "  results = test(time_series.values)\n",
      "c:\\Users\\mp222\\OneDrive - Imperial College London\\IslandTimeGitHub\\IslandTime\\IslandTime\\TimeSeriesAnalysis.py:634: InterpolationWarning: The test statistic is outside of the range of p-values available in the\n",
      "look-up table. The actual p-value is greater than the p-value returned.\n",
      "\n",
      "  results = test(time_series.values)\n",
      "Transect:  74%|███████▍  | 79/107 [00:04<00:01, 15.40it/s]c:\\Users\\mp222\\OneDrive - Imperial College London\\IslandTimeGitHub\\IslandTime\\IslandTime\\TimeSeriesAnalysis.py:634: InterpolationWarning: The test statistic is outside of the range of p-values available in the\n",
      "look-up table. The actual p-value is greater than the p-value returned.\n",
      "\n",
      "  results = test(time_series.values)\n",
      "c:\\Users\\mp222\\OneDrive - Imperial College London\\IslandTimeGitHub\\IslandTime\\IslandTime\\TimeSeriesAnalysis.py:634: InterpolationWarning: The test statistic is outside of the range of p-values available in the\n",
      "look-up table. The actual p-value is greater than the p-value returned.\n",
      "\n",
      "  results = test(time_series.values)\n",
      "Transect:  77%|███████▋  | 82/107 [00:04<00:01, 18.63it/s]c:\\Users\\mp222\\OneDrive - Imperial College London\\IslandTimeGitHub\\IslandTime\\IslandTime\\TimeSeriesAnalysis.py:634: InterpolationWarning: The test statistic is outside of the range of p-values available in the\n",
      "look-up table. The actual p-value is greater than the p-value returned.\n",
      "\n",
      "  results = test(time_series.values)\n",
      "c:\\Users\\mp222\\OneDrive - Imperial College London\\IslandTimeGitHub\\IslandTime\\IslandTime\\TimeSeriesAnalysis.py:634: InterpolationWarning: The test statistic is outside of the range of p-values available in the\n",
      "look-up table. The actual p-value is greater than the p-value returned.\n",
      "\n",
      "  results = test(time_series.values)\n",
      "Transect:  79%|███████▉  | 85/107 [00:04<00:01, 21.20it/s]c:\\Users\\mp222\\OneDrive - Imperial College London\\IslandTimeGitHub\\IslandTime\\IslandTime\\TimeSeriesAnalysis.py:634: InterpolationWarning: The test statistic is outside of the range of p-values available in the\n",
      "look-up table. The actual p-value is greater than the p-value returned.\n",
      "\n",
      "  results = test(time_series.values)\n",
      "c:\\Users\\mp222\\OneDrive - Imperial College London\\IslandTimeGitHub\\IslandTime\\IslandTime\\TimeSeriesAnalysis.py:634: InterpolationWarning: The test statistic is outside of the range of p-values available in the\n",
      "look-up table. The actual p-value is greater than the p-value returned.\n",
      "\n",
      "  results = test(time_series.values)\n",
      "Transect:  82%|████████▏ | 88/107 [00:05<00:00, 23.12it/s]c:\\Users\\mp222\\OneDrive - Imperial College London\\IslandTimeGitHub\\IslandTime\\IslandTime\\TimeSeriesAnalysis.py:634: InterpolationWarning: The test statistic is outside of the range of p-values available in the\n",
      "look-up table. The actual p-value is greater than the p-value returned.\n",
      "\n",
      "  results = test(time_series.values)\n",
      "c:\\Users\\mp222\\OneDrive - Imperial College London\\IslandTimeGitHub\\IslandTime\\IslandTime\\TimeSeriesAnalysis.py:634: InterpolationWarning: The test statistic is outside of the range of p-values available in the\n",
      "look-up table. The actual p-value is greater than the p-value returned.\n",
      "\n",
      "  results = test(time_series.values)\n",
      "c:\\Users\\mp222\\OneDrive - Imperial College London\\IslandTimeGitHub\\IslandTime\\IslandTime\\TimeSeriesAnalysis.py:634: InterpolationWarning: The test statistic is outside of the range of p-values available in the\n",
      "look-up table. The actual p-value is greater than the p-value returned.\n",
      "\n",
      "  results = test(time_series.values)\n",
      "Transect:  85%|████████▌ | 91/107 [00:05<00:00, 21.34it/s]c:\\Users\\mp222\\OneDrive - Imperial College London\\IslandTimeGitHub\\IslandTime\\IslandTime\\TimeSeriesAnalysis.py:634: InterpolationWarning: The test statistic is outside of the range of p-values available in the\n",
      "look-up table. The actual p-value is greater than the p-value returned.\n",
      "\n",
      "  results = test(time_series.values)\n",
      "c:\\Users\\mp222\\OneDrive - Imperial College London\\IslandTimeGitHub\\IslandTime\\IslandTime\\TimeSeriesAnalysis.py:634: InterpolationWarning: The test statistic is outside of the range of p-values available in the\n",
      "look-up table. The actual p-value is greater than the p-value returned.\n",
      "\n",
      "  results = test(time_series.values)\n",
      "c:\\Users\\mp222\\OneDrive - Imperial College London\\IslandTimeGitHub\\IslandTime\\IslandTime\\TimeSeriesAnalysis.py:634: InterpolationWarning: The test statistic is outside of the range of p-values available in the\n",
      "look-up table. The actual p-value is greater than the p-value returned.\n",
      "\n",
      "  results = test(time_series.values)\n",
      "Transect:  88%|████████▊ | 94/107 [00:05<00:00, 19.07it/s]c:\\Users\\mp222\\OneDrive - Imperial College London\\IslandTimeGitHub\\IslandTime\\IslandTime\\TimeSeriesAnalysis.py:634: InterpolationWarning: The test statistic is outside of the range of p-values available in the\n",
      "look-up table. The actual p-value is greater than the p-value returned.\n",
      "\n",
      "  results = test(time_series.values)\n",
      "c:\\Users\\mp222\\OneDrive - Imperial College London\\IslandTimeGitHub\\IslandTime\\IslandTime\\TimeSeriesAnalysis.py:634: InterpolationWarning: The test statistic is outside of the range of p-values available in the\n",
      "look-up table. The actual p-value is greater than the p-value returned.\n",
      "\n",
      "  results = test(time_series.values)\n",
      "c:\\Users\\mp222\\OneDrive - Imperial College London\\IslandTimeGitHub\\IslandTime\\IslandTime\\TimeSeriesAnalysis.py:634: InterpolationWarning: The test statistic is outside of the range of p-values available in the\n",
      "look-up table. The actual p-value is greater than the p-value returned.\n",
      "\n",
      "  results = test(time_series.values)\n",
      "Transect:  91%|█████████ | 97/107 [00:05<00:00, 18.11it/s]c:\\Users\\mp222\\OneDrive - Imperial College London\\IslandTimeGitHub\\IslandTime\\IslandTime\\TimeSeriesAnalysis.py:634: InterpolationWarning: The test statistic is outside of the range of p-values available in the\n",
      "look-up table. The actual p-value is greater than the p-value returned.\n",
      "\n",
      "  results = test(time_series.values)\n",
      "c:\\Users\\mp222\\OneDrive - Imperial College London\\IslandTimeGitHub\\IslandTime\\IslandTime\\TimeSeriesAnalysis.py:634: InterpolationWarning: The test statistic is outside of the range of p-values available in the\n",
      "look-up table. The actual p-value is greater than the p-value returned.\n",
      "\n",
      "  results = test(time_series.values)\n",
      "Transect:  93%|█████████▎| 99/107 [00:05<00:00, 17.87it/s]c:\\Users\\mp222\\OneDrive - Imperial College London\\IslandTimeGitHub\\IslandTime\\IslandTime\\TimeSeriesAnalysis.py:634: InterpolationWarning: The test statistic is outside of the range of p-values available in the\n",
      "look-up table. The actual p-value is greater than the p-value returned.\n",
      "\n",
      "  results = test(time_series.values)\n",
      "c:\\Users\\mp222\\OneDrive - Imperial College London\\IslandTimeGitHub\\IslandTime\\IslandTime\\TimeSeriesAnalysis.py:634: InterpolationWarning: The test statistic is outside of the range of p-values available in the\n",
      "look-up table. The actual p-value is greater than the p-value returned.\n",
      "\n",
      "  results = test(time_series.values)\n",
      "Transect:  94%|█████████▍| 101/107 [00:05<00:00, 17.66it/s]c:\\Users\\mp222\\OneDrive - Imperial College London\\IslandTimeGitHub\\IslandTime\\IslandTime\\TimeSeriesAnalysis.py:634: InterpolationWarning: The test statistic is outside of the range of p-values available in the\n",
      "look-up table. The actual p-value is greater than the p-value returned.\n",
      "\n",
      "  results = test(time_series.values)\n",
      "c:\\Users\\mp222\\OneDrive - Imperial College London\\IslandTimeGitHub\\IslandTime\\IslandTime\\TimeSeriesAnalysis.py:634: InterpolationWarning: The test statistic is outside of the range of p-values available in the\n",
      "look-up table. The actual p-value is greater than the p-value returned.\n",
      "\n",
      "  results = test(time_series.values)\n",
      "Transect:  96%|█████████▋| 103/107 [00:05<00:00, 17.81it/s]c:\\Users\\mp222\\OneDrive - Imperial College London\\IslandTimeGitHub\\IslandTime\\IslandTime\\TimeSeriesAnalysis.py:634: InterpolationWarning: The test statistic is outside of the range of p-values available in the\n",
      "look-up table. The actual p-value is greater than the p-value returned.\n",
      "\n",
      "  results = test(time_series.values)\n",
      "c:\\Users\\mp222\\OneDrive - Imperial College London\\IslandTimeGitHub\\IslandTime\\IslandTime\\TimeSeriesAnalysis.py:634: InterpolationWarning: The test statistic is outside of the range of p-values available in the\n",
      "look-up table. The actual p-value is greater than the p-value returned.\n",
      "\n",
      "  results = test(time_series.values)\n",
      "Transect:  98%|█████████▊| 105/107 [00:06<00:00, 17.61it/s]c:\\Users\\mp222\\OneDrive - Imperial College London\\IslandTimeGitHub\\IslandTime\\IslandTime\\TimeSeriesAnalysis.py:634: InterpolationWarning: The test statistic is outside of the range of p-values available in the\n",
      "look-up table. The actual p-value is greater than the p-value returned.\n",
      "\n",
      "  results = test(time_series.values)\n",
      "c:\\Users\\mp222\\OneDrive - Imperial College London\\IslandTimeGitHub\\IslandTime\\IslandTime\\TimeSeriesAnalysis.py:634: InterpolationWarning: The test statistic is outside of the range of p-values available in the\n",
      "look-up table. The actual p-value is greater than the p-value returned.\n",
      "\n",
      "  results = test(time_series.values)\n",
      "Transect: 100%|██████████| 107/107 [00:06<00:00, 17.19it/s]\n"
     ]
    }
   ],
   "source": [
    "# import pickle\n",
    "# import os\n",
    "\n",
    "# path_to_poly = os.path.join('data', 'coastsat_data','Dhakandhoo_Maldives', 'all_polygons_Dhakandhoo_Maldives.data')\n",
    "\n",
    "# # open file\n",
    "# with open(path_to_poly, 'rb') as filehandle:\n",
    "#     # read the data as binary data stream\n",
    "#     polygons = pickle.load(filehandle)\n",
    "\n",
    "\n",
    "island_info = Workflow(island, country, run_all=False, execute_segmentation=True, execute_preprocess=True, execute_analysis=True, update_maps=False, small_island=False).main()"
   ]
  },
  {
   "cell_type": "code",
   "execution_count": 34,
   "metadata": {},
   "outputs": [],
   "source": [
    "tags = {'place':'islet', 'natural':'coastline'}\n",
    "gdf = ox.features_from_place(\"Faadhippolhu\", tags=tags)"
   ]
  },
  {
   "cell_type": "code",
   "execution_count": 35,
   "metadata": {},
   "outputs": [
    {
     "data": {
      "text/plain": [
       "array([nan, nan, 'Maabinhuraa', nan, 'Olhuvelifushi', nan,\n",
       "       'Thilamaafushi', 'Fainuaadhamhuraa', nan, nan, nan, 'Innahura',\n",
       "       nan, nan, nan, nan, 'Raiyruhhuraa', nan, 'Mayyaafushi', nan,\n",
       "       'Faadhoo', nan, nan, nan, 'Meedhaahuraa', 'Kurendhoo', nan,\n",
       "       'Maafilaafushi', 'Lhohi', 'Lhossalafushi', 'Aligaa', 'Medhafushi',\n",
       "       'Varihuraa', nan, nan, 'Madivaru', 'Vavvaru', nan, 'Felivaru',\n",
       "       'Veyvah', nan, nan, 'Naifaru', nan, nan, nan, nan, 'Musleygihuraa',\n",
       "       nan, nan, 'Medhadhihuraa', nan, 'Gaavelifaru', 'Hinnavaru'],\n",
       "      dtype=object)"
      ]
     },
     "execution_count": 35,
     "metadata": {},
     "output_type": "execute_result"
    }
   ],
   "source": [
    "gdf['name:en'].way.values"
   ]
  },
  {
   "cell_type": "code",
   "execution_count": 36,
   "metadata": {},
   "outputs": [
    {
     "name": "stdout",
     "output_type": "stream",
     "text": [
      "\n",
      "-------------------------------------------------------------------\n",
      "Retrieving general and spatial information about the island\n",
      "Island: Maabinhuraa, Maldives\n",
      "-------------------------------------------------------------------\n",
      "\n",
      "~ All information will be extracted/calculated. ~\n",
      "S2 66\n",
      "L5 0\n",
      "L7 24\n",
      "L8 54\n",
      "L9 12\n",
      "~ Retrieving information from Duvat & Magnan (2019). ~\n",
      "Island not found in the database.\n",
      "\n",
      "-------------------------------------------------------------------\n",
      "Retrieving general and spatial information about the island\n",
      "Island: Olhuvelifushi, Maldives\n",
      "-------------------------------------------------------------------\n",
      "\n",
      "~ All information will be extracted/calculated. ~\n",
      "S2 66\n",
      "L5 0\n",
      "L7 24\n",
      "L8 109\n",
      "L9 22\n",
      "~ Retrieving information from Duvat & Magnan (2019). ~\n",
      "Island not found in the database.\n",
      "\n",
      "-------------------------------------------------------------------\n",
      "Retrieving general and spatial information about the island\n",
      "Island: Thilamaafushi, Maldives\n",
      "-------------------------------------------------------------------\n",
      "\n",
      "~ All information will be extracted/calculated. ~\n",
      "S2 66\n",
      "L5 0\n",
      "L7 24\n",
      "L8 109\n",
      "L9 22\n",
      "~ Retrieving information from Duvat & Magnan (2019). ~\n",
      "Island not found in the database.\n",
      "\n",
      "-------------------------------------------------------------------\n",
      "Retrieving general and spatial information about the island\n",
      "Island: Fainuaadhamhuraa, Maldives\n",
      "-------------------------------------------------------------------\n",
      "\n",
      "~ All information will be extracted/calculated. ~\n",
      "S2 122\n",
      "L5 0\n",
      "L7 24\n",
      "L8 54\n",
      "L9 12\n",
      "~ Retrieving information from Duvat & Magnan (2019). ~\n",
      "Island not found in the database.\n",
      "\n",
      "-------------------------------------------------------------------\n",
      "Retrieving general and spatial information about the island\n",
      "Island: Innahura, Maldives\n",
      "-------------------------------------------------------------------\n",
      "\n",
      "~ All information will be extracted/calculated. ~\n",
      "S2 122\n",
      "L5 0\n",
      "L7 24\n",
      "L8 54\n",
      "L9 12\n",
      "No other information available.\n",
      "~ Retrieving information from Duvat & Magnan (2019). ~\n",
      "Island not found in the database.\n",
      "\n",
      "-------------------------------------------------------------------\n",
      "Retrieving general and spatial information about the island\n",
      "Island: Raiyruhhuraa, Maldives\n",
      "-------------------------------------------------------------------\n",
      "\n",
      "~ All information will be extracted/calculated. ~\n",
      "S2 118\n",
      "L5 0\n",
      "L7 24\n",
      "L8 54\n",
      "L9 12\n",
      "~ Retrieving information from Duvat & Magnan (2019). ~\n",
      "Island not found in the database.\n",
      "\n",
      "-------------------------------------------------------------------\n",
      "Retrieving general and spatial information about the island\n",
      "Island: Mayyaafushi, Maldives\n",
      "-------------------------------------------------------------------\n",
      "\n",
      "~ All information will be extracted/calculated. ~\n",
      "Island not available in OpenStreetMap. Will use other methods.\n",
      "Coordinates from Wikipedia (lat/lon): nan nan\n",
      "Coordinates from GeoKeo (lat/lon): nan nan\n",
      "var =  0.001\n",
      "\n",
      "-------------------------------------------------------------------\n",
      "Retrieving general and spatial information about the island\n",
      "Island: Faadhoo, Maldives\n",
      "-------------------------------------------------------------------\n",
      "\n",
      "~ All information will be extracted/calculated. ~\n",
      "S2 54\n",
      "L5 0\n",
      "L7 24\n",
      "L8 54\n",
      "L9 12\n",
      "~ Retrieving information from Duvat & Magnan (2019). ~\n",
      "Island not found in the database.\n",
      "\n",
      "-------------------------------------------------------------------\n",
      "Retrieving general and spatial information about the island\n",
      "Island: Meedhaahuraa, Maldives\n",
      "-------------------------------------------------------------------\n",
      "\n",
      "~ All information will be extracted/calculated. ~\n",
      "S2 122\n",
      "L5 0\n",
      "L7 30\n",
      "L8 55\n",
      "L9 12\n",
      "~ Retrieving information from Duvat & Magnan (2019). ~\n",
      "Island not found in the database.\n",
      "\n",
      "-------------------------------------------------------------------\n",
      "Retrieving general and spatial information about the island\n",
      "Island: Kurendhoo, Maldives\n",
      "-------------------------------------------------------------------\n",
      "\n",
      "~ All information will be extracted/calculated. ~\n",
      "S2 66\n",
      "L5 0\n",
      "L7 24\n",
      "L8 55\n",
      "L9 12\n",
      "~ Retrieving information from Duvat & Magnan (2019). ~\n",
      "\n",
      "-------------------------------------------------------------------\n",
      "Retrieving general and spatial information about the island\n",
      "Island: Maafilaafushi, Maldives\n",
      "-------------------------------------------------------------------\n",
      "\n",
      "~ All information will be extracted/calculated. ~\n",
      "S2 122\n",
      "L5 0\n",
      "L7 25\n",
      "L8 54\n",
      "L9 12\n",
      "~ Retrieving information from Duvat & Magnan (2019). ~\n",
      "Island not found in the database.\n",
      "\n",
      "-------------------------------------------------------------------\n",
      "Retrieving general and spatial information about the island\n",
      "Island: Lhohi, Maldives\n",
      "-------------------------------------------------------------------\n",
      "\n",
      "~ The following information will be extracted/calculated: duvat_magnan_2019 ~\n",
      "~ Retrieving information from Duvat & Magnan (2019). ~\n",
      "More than one island with the same name. Please specify the island number.\n",
      "Island numbers: [37 19]\n",
      "\n",
      "-------------------------------------------------------------------\n",
      "Retrieving general and spatial information about the island\n",
      "Island: Lhossalafushi, Maldives\n",
      "-------------------------------------------------------------------\n",
      "\n",
      "~ All information will be extracted/calculated. ~\n",
      "S2 66\n",
      "L5 0\n",
      "L7 24\n",
      "L8 109\n",
      "L9 22\n",
      "~ Retrieving information from Duvat & Magnan (2019). ~\n",
      "\n",
      "-------------------------------------------------------------------\n",
      "Retrieving general and spatial information about the island\n",
      "Island: Aligaa, Maldives\n",
      "-------------------------------------------------------------------\n",
      "\n",
      "~ All information will be extracted/calculated. ~\n",
      "S2 66\n",
      "L5 0\n",
      "L7 24\n",
      "L8 109\n",
      "L9 22\n",
      "No other information available.\n",
      "~ Retrieving information from Duvat & Magnan (2019). ~\n",
      "Island not found in the database.\n",
      "\n",
      "-------------------------------------------------------------------\n",
      "Retrieving general and spatial information about the island\n",
      "Island: Medhafushi, Maldives\n",
      "-------------------------------------------------------------------\n",
      "\n",
      "~ All information will be extracted/calculated. ~\n",
      "S2 122\n",
      "L5 0\n",
      "L7 24\n",
      "L8 54\n",
      "L9 12\n",
      "~ Retrieving information from Duvat & Magnan (2019). ~\n",
      "\n",
      "-------------------------------------------------------------------\n",
      "Retrieving general and spatial information about the island\n",
      "Island: Varihuraa, Maldives\n",
      "-------------------------------------------------------------------\n",
      "\n",
      "~ All information will be extracted/calculated. ~\n",
      "S2 66\n",
      "L5 0\n",
      "L7 24\n",
      "L8 109\n",
      "L9 22\n",
      "~ Retrieving information from Duvat & Magnan (2019). ~\n",
      "\n",
      "-------------------------------------------------------------------\n",
      "Retrieving general and spatial information about the island\n",
      "Island: Madivaru, Maldives\n",
      "-------------------------------------------------------------------\n",
      "\n",
      "~ All information will be extracted/calculated. ~\n",
      "S2 125\n",
      "L5 1\n",
      "L7 26\n",
      "L8 55\n",
      "L9 10\n",
      "~ Retrieving information from Duvat & Magnan (2019). ~\n",
      "More than one island with the same name. Please specify the island number.\n",
      "Island numbers: [8 3]\n",
      "\n",
      "-------------------------------------------------------------------\n",
      "Retrieving general and spatial information about the island\n",
      "Island: Vavvaru, Maldives\n",
      "-------------------------------------------------------------------\n",
      "\n",
      "~ All information will be extracted/calculated. ~\n",
      "S2 122\n",
      "L5 0\n",
      "L7 51\n",
      "L8 112\n",
      "L9 23\n",
      "~ Retrieving information from Duvat & Magnan (2019). ~\n",
      "\n",
      "-------------------------------------------------------------------\n",
      "Retrieving general and spatial information about the island\n",
      "Island: Felivaru, Maldives\n",
      "-------------------------------------------------------------------\n",
      "\n",
      "~ All information will be extracted/calculated. ~\n",
      "S2 54\n",
      "L5 0\n",
      "L7 37\n",
      "L8 111\n",
      "L9 22\n",
      "~ Retrieving information from Duvat & Magnan (2019). ~\n",
      "\n",
      "-------------------------------------------------------------------\n",
      "Retrieving general and spatial information about the island\n",
      "Island: Veyvah, Maldives\n",
      "-------------------------------------------------------------------\n",
      "\n",
      "~ All information will be extracted/calculated. ~\n",
      "S2 65\n",
      "L5 0\n",
      "L7 29\n",
      "L8 58\n",
      "L9 15\n",
      "~ Retrieving information from Duvat & Magnan (2019). ~\n",
      "More than one island with the same name. Please specify the island number.\n",
      "Island numbers: [4 10]\n",
      "\n",
      "-------------------------------------------------------------------\n",
      "Retrieving general and spatial information about the island\n",
      "Island: Naifaru, Maldives\n",
      "-------------------------------------------------------------------\n",
      "\n",
      "~ All information will be extracted/calculated. ~\n",
      "S2 55\n",
      "L5 0\n",
      "L7 46\n",
      "L8 112\n",
      "L9 23\n",
      "~ Retrieving information from Duvat & Magnan (2019). ~\n",
      "\n",
      "-------------------------------------------------------------------\n",
      "Retrieving general and spatial information about the island\n",
      "Island: Musleygihuraa, Maldives\n",
      "-------------------------------------------------------------------\n",
      "\n",
      "~ All information will be extracted/calculated. ~\n",
      "S2 54\n",
      "L5 0\n",
      "L7 24\n",
      "L8 54\n",
      "L9 12\n",
      "~ Retrieving information from Duvat & Magnan (2019). ~\n",
      "Island not found in the database.\n",
      "\n",
      "-------------------------------------------------------------------\n",
      "Retrieving general and spatial information about the island\n",
      "Island: Medhadhihuraa, Maldives\n",
      "-------------------------------------------------------------------\n",
      "\n",
      "~ All information will be extracted/calculated. ~\n",
      "S2 54\n",
      "L5 0\n",
      "L7 24\n",
      "L8 54\n",
      "L9 12\n",
      "~ Retrieving information from Duvat & Magnan (2019). ~\n",
      "Island not found in the database.\n",
      "\n",
      "-------------------------------------------------------------------\n",
      "Retrieving general and spatial information about the island\n",
      "Island: Gaavelifaru, Maldives\n",
      "-------------------------------------------------------------------\n",
      "\n",
      "~ All information will be extracted/calculated. ~\n",
      "S2 54\n",
      "L5 0\n",
      "L7 33\n",
      "L8 96\n",
      "L9 18\n",
      "~ Retrieving information from Duvat & Magnan (2019). ~\n",
      "Island not found in the database.\n",
      "\n",
      "-------------------------------------------------------------------\n",
      "Retrieving general and spatial information about the island\n",
      "Island: Hinnavaru, Maldives\n",
      "-------------------------------------------------------------------\n",
      "\n",
      "~ All information will be extracted/calculated. ~\n",
      "S2 54\n",
      "L5 0\n",
      "L7 32\n",
      "L8 84\n",
      "L9 17\n",
      "~ Retrieving information from Duvat & Magnan (2019). ~\n"
     ]
    }
   ],
   "source": [
    "islands = gdf['name:en'].way.values\n",
    "for island in islands:\n",
    "    if type(island) == str:\n",
    "        try:\n",
    "            PreTimeSeries(island, 'Maldives').main()\n",
    "        except:\n",
    "            continue"
   ]
  },
  {
   "cell_type": "code",
   "execution_count": 2,
   "metadata": {},
   "outputs": [
    {
     "data": {
      "text/plain": [
       "True"
      ]
     },
     "execution_count": 2,
     "metadata": {},
     "output_type": "execute_result"
    }
   ],
   "source": [
    "path_to_data = os.path.join(os.getcwd(), 'data', 'info_islands')\n",
    "\n",
    "latitude, longitude, colors, names, desc = [], [], [], [], []\n",
    "\n",
    "for file in os.listdir(path_to_data):\n",
    "    island = file.split('_')[1] \n",
    "    country = file.split('_')[2].split('.')[0]\n",
    "    island_info = retrieve_island_info(island, country, verbose=False)\n",
    "    latitude.append(island_info['spatial_reference']['latitude'])\n",
    "    longitude.append(island_info['spatial_reference']['longitude'])\n",
    "    names.append(island_info['general_info']['island'])\n",
    "\n",
    "    if 'visual_inspection' in island_info['general_info'].keys():\n",
    "        colors.append('blue')\n",
    "        desc.append('Visual inspection done')\n",
    "    \n",
    "    else:\n",
    "        if 'timeseries_coastsat' in island_info.keys():\n",
    "            if 'timeseries' in island_info['timeseries_coastsat'].keys():\n",
    "                colors.append('green')\n",
    "                desc.append('CoastSat time series available')\n",
    "            \n",
    "            else:\n",
    "                if os.path.exists(os.path.join(os.getcwd(), 'data', 'coastsat_data', island+'_'+country)):\n",
    "                    colors.append('orange')\n",
    "                    desc.append('CoastSat images are being downloaded')\n",
    "        \n",
    "        else:\n",
    "            if os.path.exists(os.path.join(os.getcwd(), 'data', 'coastsat_data', island+'_'+country)):\n",
    "                colors.append('orange')\n",
    "                desc.append('CoastSat images are being downloaded')\n",
    "            \n",
    "            else:\n",
    "                colors.append('red')\n",
    "                desc.append('CoastSat has not started downloading images yet')\n",
    "\n",
    "# Create a base map\n",
    "m = folium.Map(location=[sum(latitude) / len(latitude), sum(longitude) / len(longitude)], zoom_start=5)\n",
    "\n",
    "# Add markers for each point\n",
    "for lat, lon, color, name, des in zip(latitude, longitude, colors, names, desc):\n",
    "    folium.Marker([lat, lon], popup=str(name)+'\\n'+str(des), icon=folium.Icon(color=color)).add_to(m)\n",
    "\n",
    "# Save the map to an HTML file\n",
    "m.save('progress_island_mapping.html')\n",
    "\n",
    "# Open the map in a web browser\n",
    "webbrowser.open('progress_island_mapping.html')"
   ]
  },
  {
   "cell_type": "code",
   "execution_count": 28,
   "metadata": {},
   "outputs": [
    {
     "data": {
      "text/plain": [
       "True"
      ]
     },
     "execution_count": 28,
     "metadata": {},
     "output_type": "execute_result"
    }
   ],
   "source": [
    "import pyproj\n",
    "from bs4 import BeautifulSoup\n",
    "\n",
    "island = 'Vodamulaa'\n",
    "country = 'Maldives'\n",
    "\n",
    "island_info = retrieve_island_info(island, country, verbose=False)\n",
    "reference_shoreline = island_info['spatial_reference']['reference_shoreline']\n",
    "transects = island_info['spatial_reference']['transects']\n",
    "polygon_reference_shoreline = shapely.geometry.Polygon(reference_shoreline)\n",
    "\n",
    "latitude, longitude = island_info['spatial_reference']['latitude'], island_info['spatial_reference']['longitude']\n",
    "ts_analysis_results = island_info['timeseries_analysis']\n",
    "key_transects = [int((key).split('_')[3]) for key in ts_analysis_results.keys()]\n",
    "intersections = [polygon_reference_shoreline.exterior.intersection(shapely.geometry.LineString(transects[key_transect])) for key_transect in key_transects]\n",
    "x_intersections = [intersection.x for intersection in intersections]\n",
    "y_intersections = [intersection.y for intersection in intersections]\n",
    "\n",
    "m = folium.Map(location=[latitude, longitude], zoom_start=15)\n",
    "\n",
    "# Reproject the coordinates to the Web Mercator projection\n",
    "# Source and target coordinate reference systems\n",
    "tgt_crs = pyproj.CRS('EPSG:4326')\n",
    "src_crs = pyproj.CRS('EPSG:3857')\n",
    "\n",
    "# Define transformer\n",
    "transformer = pyproj.Transformer.from_crs(src_crs, tgt_crs, always_xy=True)\n",
    "\n",
    "# Transform latitude and longitude to x and y\n",
    "x_intersections, y_intersections = transformer.transform(x_intersections, y_intersections)\n",
    "\n",
    "# Transform reference shoreline to x and y\n",
    "x_reference_shoreline, y_reference_shoreline = transformer.transform(polygon_reference_shoreline.exterior.coords.xy[0], polygon_reference_shoreline.exterior.coords.xy[1])\n",
    "\n",
    "c_trend = [ts_analysis_results[val]['trend']['trend_slope'] for val in ts_analysis_results.keys()]\n",
    "symbols_trend = [ts_analysis_results[val]['trend']['trend_result'] for val in ts_analysis_results.keys()]\n",
    "\n",
    "# Add markers for each point with different shapes\n",
    "for lat, lon, symbol in zip(y_intersections, x_intersections, symbols_trend):\n",
    "    if symbol == \"increasing\":\n",
    "        icon = folium.Icon(color='green', icon='arrow-up')\n",
    "    elif symbol == \"decreasing\":\n",
    "        icon = folium.Icon(color='red', icon='arrow-down')\n",
    "    elif symbol == \"no trend\":\n",
    "        icon = folium.Icon(color='orange', icon='minus')\n",
    "    else:\n",
    "        icon = folium.Icon(color='black', icon='question-sign')\n",
    "\n",
    "    folium.Marker(\n",
    "        location=[lat, lon],\n",
    "        icon=icon\n",
    "    ).add_to(m)\n",
    "\n",
    "folium.PolyLine(np.dstack((y_reference_shoreline, x_reference_shoreline)), tooltip=\"Coast\", color='black').add_to(m)\n",
    "\n",
    "# Save the map to an HTML file\n",
    "m.save('results_islands_mapping.html')\n",
    "\n",
    "# Open the map in a web browser\n",
    "webbrowser.open('results_islands_mapping.html')"
   ]
  }
 ],
 "metadata": {
  "kernelspec": {
   "display_name": "IslandTime",
   "language": "python",
   "name": "python3"
  },
  "language_info": {
   "codemirror_mode": {
    "name": "ipython",
    "version": 3
   },
   "file_extension": ".py",
   "mimetype": "text/x-python",
   "name": "python",
   "nbconvert_exporter": "python",
   "pygments_lexer": "ipython3",
   "version": "3.12.2"
  }
 },
 "nbformat": 4,
 "nbformat_minor": 2
}
