{
 "cells": [
  {
   "cell_type": "code",
   "execution_count": 27,
   "metadata": {},
   "outputs": [
    {
     "name": "stdout",
     "output_type": "stream",
     "text": [
      "The autoreload extension is already loaded. To reload it, use:\n",
      "  %reload_ext autoreload\n"
     ]
    }
   ],
   "source": [
    "from IslandTime import retrieve_island_info, PreTimeSeries, update_data_map\n",
    "import pandas as pd\n",
    "import numpy as np\n",
    "import matplotlib.pyplot as plt\n",
    "import seaborn as sns\n",
    "import os\n",
    "import folium\n",
    "import webbrowser\n",
    "import shapely\n",
    "\n",
    "import osmnx as ox\n",
    "%load_ext autoreload\n",
    "%autoreload 2"
   ]
  },
  {
   "cell_type": "code",
   "execution_count": 28,
   "metadata": {},
   "outputs": [
    {
     "name": "stdout",
     "output_type": "stream",
     "text": [
      "Updating the map with the progress of the islands...\n"
     ]
    },
    {
     "name": "stderr",
     "output_type": "stream",
     "text": [
      " 29%|██▉       | 136/464 [01:44<06:52,  1.26s/it]"
     ]
    },
    {
     "name": "stdout",
     "output_type": "stream",
     "text": [
      "Gan (Gaafu Dhaalu)\n"
     ]
    },
    {
     "name": "stderr",
     "output_type": "stream",
     "text": [
      " 75%|███████▍  | 347/464 [04:09<00:45,  2.56it/s]"
     ]
    },
    {
     "name": "stdout",
     "output_type": "stream",
     "text": [
      "Mathihuttaa\n"
     ]
    },
    {
     "name": "stderr",
     "output_type": "stream",
     "text": [
      "100%|██████████| 464/464 [04:56<00:00,  1.57it/s]\n"
     ]
    }
   ],
   "source": [
    "update_data_map()"
   ]
  },
  {
   "cell_type": "code",
   "execution_count": 11,
   "metadata": {},
   "outputs": [],
   "source": [
    "import networkx as nx\n",
    "import matplotlib.pyplot as plt\n",
    "\n",
    "# Create a directed graph\n",
    "G = nx.DiGraph()\n",
    "\n",
    "# Add nodes (variables)\n",
    "G.add_node(\"coastline_position\")\n",
    "G.add_node(\"wave_ucomp\")\n",
    "G.add_node(\"wave_vcomp\")\n",
    "G.add_node(\"sea_level\")\n",
    "\n",
    "# Add edges (causal relationships)\n",
    "G.add_edges_from([\n",
    "    (\"wave_ucomp\", \"coastline_position\"),                   # IOD influences SST\n",
    "    (\"sea_level\", \"wave_ucomp\"),        # SST influences 2m_temperature\n",
    "    (\"sea_level\", \"coastline_position\"), \n",
    "    (\"wave_vcomp\", \"wave_ucomp\")           # SST influences wind_u10            # SST influences wind_v10     # Wind influences evaporation\n",
    "])\n",
    "\n",
    "# Draw the graph\n",
    "plt.figure(figsize=(14, 10))\n",
    "pos = nx.spring_layout(G, seed=42)  # positions for all nodes\n",
    "nx.draw(G, pos, with_labels=True, node_color='lightgreen', node_size=3500, font_size=10, font_weight='bold', arrows=True)\n",
    "plt.title('Causal Graph of Variables with Precipitation and Evaporation', fontsize=15)\n",
    "plt.show()\n"
   ]
  },
  {
   "cell_type": "code",
   "execution_count": 8,
   "metadata": {},
   "outputs": [],
   "source": [
    "import networkx as nx\n",
    "import matplotlib.pyplot as plt\n",
    "\n",
    "# Create a directed graph\n",
    "G = nx.DiGraph()\n",
    "\n",
    "# Add nodes (variables)\n",
    "G.add_node(\"wind_u10\")\n",
    "G.add_node(\"wind_v10\")\n",
    "G.add_node(\"2m_temperature\")\n",
    "G.add_node(\"SST\")\n",
    "G.add_node(\"IOD\")\n",
    "G.add_node(\"MSLP\") \n",
    "G.add_node(\"total_precipitation\")\n",
    "G.add_node(\"evaporation\")\n",
    "\n",
    "# Add edges (causal relationships)\n",
    "G.add_edges_from([\n",
    "    (\"IOD\", \"SST\"),                   # IOD influences SST\n",
    "    (\"SST\", \"2m_temperature\"),        # SST influences 2m_temperature\n",
    "    (\"SST\", \"wind_u10\"),              # SST influences wind_u10\n",
    "    (\"SST\", \"wind_v10\"),              # SST influences wind_v10\n",
    "    (\"SST\", \"MSLP\"),                  # SST influences MSLP\n",
    "    (\"SST\", \"evaporation\"),           # SST influences evaporation\n",
    "    (\"IOD\", \"wind_u10\"),              # IOD influences wind_u10\n",
    "    (\"IOD\", \"wind_v10\"),              # IOD influences wind_v10\n",
    "    (\"IOD\", \"2m_temperature\"),        # IOD influences 2m_temperature\n",
    "    (\"IOD\", \"MSLP\"),                  # IOD influences MSLP\n",
    "    (\"2m_temperature\", \"wind_u10\"),   # 2m_temperature influences wind_u10\n",
    "    (\"2m_temperature\", \"wind_v10\"),   # 2m_temperature influences wind_v10\n",
    "    (\"2m_temperature\", \"evaporation\"),# 2m_temperature influences evaporation\n",
    "    (\"wind_u10\", \"SST\"),              # wind_u10 influences SST\n",
    "    (\"wind_v10\", \"SST\"),              # wind_v10 influences SST\n",
    "    (\"wind_u10\", \"wind_v10\"),         # wind_u10 influences wind_v10 (and vice versa)\n",
    "    (\"wind_v10\", \"wind_u10\"),\n",
    "    (\"MSLP\", \"wind_u10\"),             # MSLP influences wind_u10\n",
    "    (\"MSLP\", \"wind_v10\"),             # MSLP influences wind_v10\n",
    "    (\"MSLP\", \"IOD\"),                  # MSLP influences IOD\n",
    "    (\"SST\", \"IOD\"),                   # SST influences IOD\n",
    "    (\"evaporation\", \"total_precipitation\"), # Evaporation influences precipitation\n",
    "    (\"MSLP\", \"total_precipitation\"),  # MSLP influences precipitation\n",
    "    (\"total_precipitation\", \"2m_temperature\"), # Precipitation influences temperature\n",
    "    (\"wind_u10\", \"evaporation\"),      # Wind influences evaporation\n",
    "    (\"wind_v10\", \"evaporation\"),      # Wind influences evaporation\n",
    "])\n",
    "\n",
    "# Draw the graph\n",
    "plt.figure(figsize=(14, 10))\n",
    "pos = nx.spring_layout(G, seed=42)  # positions for all nodes\n",
    "nx.draw(G, pos, with_labels=True, node_color='lightblue', node_size=3500, font_size=10, font_weight='bold', arrows=True)\n",
    "plt.title('Causal Graph of Variables with Precipitation and Evaporation', fontsize=15)\n",
    "plt.show()\n",
    "\n"
   ]
  },
  {
   "cell_type": "code",
   "execution_count": 29,
   "metadata": {},
   "outputs": [
    {
     "name": "stdout",
     "output_type": "stream",
     "text": [
      "\n",
      "-------------------------------------------------------------------\n",
      "Retrieving general and spatial information about the island\n",
      "Island: Vattaru Island, Maldives\n",
      "-------------------------------------------------------------------\n",
      "\n",
      "~ All information will be extracted/calculated. ~\n",
      "Island not available in OpenStreetMap. Will use other methods.\n",
      "Coordinates from Wikipedia (lat/lon): nan nan\n",
      "Coordinates from GeoKeo (lat/lon): nan nan\n",
      "S2 70\n",
      "L5 0\n",
      "L7 29\n",
      "L8 63\n",
      "L9 20\n",
      "No other information available.\n",
      "~ Retrieving information from Duvat & Magnan (2019). ~\n",
      "Island not found in the database.\n"
     ]
    }
   ],
   "source": [
    "for island in [\"Ruh hurihuraa\"]:\n",
    "    west, north, east, south = 3.226396, 73.423675, 3.218338, 73.430540\n",
    "\n",
    "\n",
    "    polygon_array = [[north, west],\n",
    "                      [south, west],\n",
    "                        [south, east],\n",
    "                          [north, east],\n",
    "                            [north, west]]\n",
    "    # \n",
    "    # PreTimeSeries(island, 'Maldives', atoll='Vattaru Kandu').main()\n",
    "    PreTimeSeries(island, 'Maldives', atoll='Felidhu', polygon=polygon_array).main()"
   ]
  },
  {
   "cell_type": "code",
   "execution_count": 1,
   "metadata": {},
   "outputs": [
    {
     "ename": "NameError",
     "evalue": "name 'retrieve_island_info' is not defined",
     "output_type": "error",
     "traceback": [
      "\u001b[1;31m---------------------------------------------------------------------------\u001b[0m",
      "\u001b[1;31mNameError\u001b[0m                                 Traceback (most recent call last)",
      "Cell \u001b[1;32mIn[1], line 1\u001b[0m\n\u001b[1;32m----> 1\u001b[0m island_info \u001b[38;5;241m=\u001b[39m \u001b[43mretrieve_island_info\u001b[49m(\u001b[38;5;124m'\u001b[39m\u001b[38;5;124mHebaridu\u001b[39m\u001b[38;5;124m'\u001b[39m, \u001b[38;5;124m'\u001b[39m\u001b[38;5;124mMaldives\u001b[39m\u001b[38;5;124m'\u001b[39m, verbose\u001b[38;5;241m=\u001b[39m\u001b[38;5;28;01mFalse\u001b[39;00m)\n\u001b[0;32m      2\u001b[0m island_info[\u001b[38;5;124m'\u001b[39m\u001b[38;5;124mspatial_reference\u001b[39m\u001b[38;5;124m'\u001b[39m][\u001b[38;5;124m'\u001b[39m\u001b[38;5;124mpolygon\u001b[39m\u001b[38;5;124m'\u001b[39m]\n",
      "\u001b[1;31mNameError\u001b[0m: name 'retrieve_island_info' is not defined"
     ]
    }
   ],
   "source": [
    "island_info = retrieve_island_info('Hebaridu', 'Maldives', verbose=False)\n",
    "island_info['spatial_reference']['polygon']"
   ]
  },
  {
   "cell_type": "code",
   "execution_count": 49,
   "metadata": {},
   "outputs": [
    {
     "data": {
      "text/plain": [
       "Index(['Dipole Mode Index (Indian Ocean Dipole Index)',\n",
       "       'Pacific North American Index',\n",
       "       'East Pacific/North Pacific Oscillation', 'Western Pacific Index',\n",
       "       'Eastern Atlantic/Western Russia', 'North Atlantic Oscillation',\n",
       "       'North Atlantic Oscillation (Jones)', 'Southern Oscillation Index',\n",
       "       'Eastern Tropical Pacific SST (anomalies)',\n",
       "       'Eastern Tropical Pacific SST (mean values)',\n",
       "       'Bivariate ENSO Timeseries', 'Tropical Northern Atlantic Index',\n",
       "       'Tropical Southern Atlantic Index', 'Western Hemisphere Warm Pool',\n",
       "       'Oceanic Niño Index', 'Multivariate ENSO Index (MEI V2)',\n",
       "       'Extreme Eastern Tropical Pacific SST (anomalies)',\n",
       "       'Extreme Eastern Tropical Pacific SST (mean values)',\n",
       "       'Central Tropical Pacific SST (anomalies)',\n",
       "       'Central Tropical Pacific SST (mean values)',\n",
       "       'East Central Tropical Pacific SST (anomalies)',\n",
       "       'East Central Tropical Pacific SST (mean values)',\n",
       "       'Pacific Decadal Oscillation',\n",
       "       'Tripole Index for the Interdecadal Pacific Oscillation',\n",
       "       'Northern Oscillation Index', 'North Pacific Pattern',\n",
       "       'Indices of El Niño Evolution', 'Arctic Oscillation',\n",
       "       'Antarctic Oscillation', 'Pacific Warmpool Area Average',\n",
       "       'Tropical Pacific SST EOF', 'Atlantic Tripole SST EOF',\n",
       "       'Atlantic multidecadal Oscillation (unsmoothed)',\n",
       "       'Atlantic Merodional Mode', 'North Tropical Atlantic SST Index',\n",
       "       'Caribbean SST Index', 'Atlantic Multidecadal Oscillation (smoothed)',\n",
       "       'Quasi-Biennial Oscillation', 'ENSO Precipitation Index',\n",
       "       'Central Indian Precipitation', 'Sahel Standardized Rainfall',\n",
       "       'Area Averaged Precipitation for Arizona and New Mexico',\n",
       "       'Northeast Brazil Rainfall Anomaly', 'Solar Flux (10.7cm)',\n",
       "       'Global Mean Land/Ocean Temperature'],\n",
       "      dtype='object')"
      ]
     },
     "execution_count": 49,
     "metadata": {},
     "output_type": "execute_result"
    }
   ],
   "source": [
    "island_info['timeseries_climate_indices']['timeseries'].columns"
   ]
  },
  {
   "cell_type": "code",
   "execution_count": 52,
   "metadata": {},
   "outputs": [
    {
     "data": {
      "text/plain": [
       "<Axes: >"
      ]
     },
     "execution_count": 52,
     "metadata": {},
     "output_type": "execute_result"
    }
   ],
   "source": [
    "island_info['timeseries_climate_indices']['timeseries']['Multivariate ENSO Index (MEI V2)'].plot()"
   ]
  },
  {
   "cell_type": "code",
   "execution_count": 1,
   "metadata": {},
   "outputs": [],
   "source": [
    "import matplotlib.pyplot as plt\n",
    "import Rbeast as rb\n",
    "from datetime import datetime\n",
    "import os\n",
    "import numpy as np\n",
    "from tqdm import tqdm\n",
    "import matplotlib\n",
    "\n",
    "matplotlib.rcParams['mathtext.fontset'] = 'stix'\n",
    "matplotlib.rcParams['font.family'] = 'STIXGeneral'\n",
    "\n",
    "%load_ext autoreload\n",
    "%autoreload 2"
   ]
  },
  {
   "cell_type": "code",
   "execution_count": 34,
   "metadata": {},
   "outputs": [],
   "source": [
    "tags = {'place':'islet', 'natural':'coastline'}\n",
    "gdf = ox.features_from_place(\"Faadhippolhu\", tags=tags)"
   ]
  },
  {
   "cell_type": "code",
   "execution_count": 35,
   "metadata": {},
   "outputs": [
    {
     "data": {
      "text/plain": [
       "array([nan, nan, 'Maabinhuraa', nan, 'Olhuvelifushi', nan,\n",
       "       'Thilamaafushi', 'Fainuaadhamhuraa', nan, nan, nan, 'Innahura',\n",
       "       nan, nan, nan, nan, 'Raiyruhhuraa', nan, 'Mayyaafushi', nan,\n",
       "       'Faadhoo', nan, nan, nan, 'Meedhaahuraa', 'Kurendhoo', nan,\n",
       "       'Maafilaafushi', 'Lhohi', 'Lhossalafushi', 'Aligaa', 'Medhafushi',\n",
       "       'Varihuraa', nan, nan, 'Madivaru', 'Vavvaru', nan, 'Felivaru',\n",
       "       'Veyvah', nan, nan, 'Naifaru', nan, nan, nan, nan, 'Musleygihuraa',\n",
       "       nan, nan, 'Medhadhihuraa', nan, 'Gaavelifaru', 'Hinnavaru'],\n",
       "      dtype=object)"
      ]
     },
     "execution_count": 35,
     "metadata": {},
     "output_type": "execute_result"
    }
   ],
   "source": [
    "gdf['name:en'].way.values"
   ]
  },
  {
   "cell_type": "code",
   "execution_count": null,
   "metadata": {},
   "outputs": [],
   "source": [
    "islands = gdf['name:en'].way.values\n",
    "for island in islands:\n",
    "    if type(island) == str:\n",
    "        try:\n",
    "            PreTimeSeries(island, 'Maldives').main()\n",
    "        except:\n",
    "            continue"
   ]
  },
  {
   "cell_type": "code",
   "execution_count": 2,
   "metadata": {},
   "outputs": [
    {
     "data": {
      "text/plain": [
       "True"
      ]
     },
     "execution_count": 2,
     "metadata": {},
     "output_type": "execute_result"
    }
   ],
   "source": [
    "path_to_data = os.path.join(os.getcwd(), 'data', 'info_islands')\n",
    "\n",
    "latitude, longitude, colors, names, desc = [], [], [], [], []\n",
    "\n",
    "for file in os.listdir(path_to_data):\n",
    "    island = file.split('_')[1] \n",
    "    country = file.split('_')[2].split('.')[0]\n",
    "    island_info = retrieve_island_info(island, country, verbose=False)\n",
    "    latitude.append(island_info['spatial_reference']['latitude'])\n",
    "    longitude.append(island_info['spatial_reference']['longitude'])\n",
    "    names.append(island_info['general_info']['island'])\n",
    "\n",
    "    if 'visual_inspection' in island_info['general_info'].keys():\n",
    "        colors.append('blue')\n",
    "        desc.append('Visual inspection done')\n",
    "    \n",
    "    else:\n",
    "        if 'timeseries_coastsat' in island_info.keys():\n",
    "            if 'timeseries' in island_info['timeseries_coastsat'].keys():\n",
    "                colors.append('green')\n",
    "                desc.append('CoastSat time series available')\n",
    "            \n",
    "            else:\n",
    "                if os.path.exists(os.path.join(os.getcwd(), 'data', 'coastsat_data', island+'_'+country)):\n",
    "                    colors.append('orange')\n",
    "                    desc.append('CoastSat images are being downloaded')\n",
    "        \n",
    "        else:\n",
    "            if os.path.exists(os.path.join(os.getcwd(), 'data', 'coastsat_data', island+'_'+country)):\n",
    "                colors.append('orange')\n",
    "                desc.append('CoastSat images are being downloaded')\n",
    "            \n",
    "            else:\n",
    "                colors.append('red')\n",
    "                desc.append('CoastSat has not started downloading images yet')\n",
    "\n",
    "# Create a base map\n",
    "m = folium.Map(location=[sum(latitude) / len(latitude), sum(longitude) / len(longitude)], zoom_start=5)\n",
    "\n",
    "# Add markers for each point\n",
    "for lat, lon, color, name, des in zip(latitude, longitude, colors, names, desc):\n",
    "    folium.Marker([lat, lon], popup=str(name)+'\\n'+str(des), icon=folium.Icon(color=color)).add_to(m)\n",
    "\n",
    "# Save the map to an HTML file\n",
    "m.save('progress_island_mapping.html')\n",
    "\n",
    "# Open the map in a web browser\n",
    "webbrowser.open('progress_island_mapping.html')"
   ]
  },
  {
   "cell_type": "code",
   "execution_count": 28,
   "metadata": {},
   "outputs": [
    {
     "data": {
      "text/plain": [
       "True"
      ]
     },
     "execution_count": 28,
     "metadata": {},
     "output_type": "execute_result"
    }
   ],
   "source": [
    "import pyproj\n",
    "from bs4 import BeautifulSoup\n",
    "\n",
    "island = 'Vodamulaa'\n",
    "country = 'Maldives'\n",
    "\n",
    "island_info = retrieve_island_info(island, country, verbose=False)\n",
    "reference_shoreline = island_info['spatial_reference']['reference_shoreline']\n",
    "transects = island_info['spatial_reference']['transects']\n",
    "polygon_reference_shoreline = shapely.geometry.Polygon(reference_shoreline)\n",
    "\n",
    "latitude, longitude = island_info['spatial_reference']['latitude'], island_info['spatial_reference']['longitude']\n",
    "ts_analysis_results = island_info['timeseries_analysis']\n",
    "key_transects = [int((key).split('_')[3]) for key in ts_analysis_results.keys()]\n",
    "intersections = [polygon_reference_shoreline.exterior.intersection(shapely.geometry.LineString(transects[key_transect])) for key_transect in key_transects]\n",
    "x_intersections = [intersection.x for intersection in intersections]\n",
    "y_intersections = [intersection.y for intersection in intersections]\n",
    "\n",
    "m = folium.Map(location=[latitude, longitude], zoom_start=15)\n",
    "\n",
    "# Reproject the coordinates to the Web Mercator projection\n",
    "# Source and target coordinate reference systems\n",
    "tgt_crs = pyproj.CRS('EPSG:4326')\n",
    "src_crs = pyproj.CRS('EPSG:3857')\n",
    "\n",
    "# Define transformer\n",
    "transformer = pyproj.Transformer.from_crs(src_crs, tgt_crs, always_xy=True)\n",
    "\n",
    "# Transform latitude and longitude to x and y\n",
    "x_intersections, y_intersections = transformer.transform(x_intersections, y_intersections)\n",
    "\n",
    "# Transform reference shoreline to x and y\n",
    "x_reference_shoreline, y_reference_shoreline = transformer.transform(polygon_reference_shoreline.exterior.coords.xy[0], polygon_reference_shoreline.exterior.coords.xy[1])\n",
    "\n",
    "c_trend = [ts_analysis_results[val]['trend']['trend_slope'] for val in ts_analysis_results.keys()]\n",
    "symbols_trend = [ts_analysis_results[val]['trend']['trend_result'] for val in ts_analysis_results.keys()]\n",
    "\n",
    "# Add markers for each point with different shapes\n",
    "for lat, lon, symbol in zip(y_intersections, x_intersections, symbols_trend):\n",
    "    if symbol == \"increasing\":\n",
    "        icon = folium.Icon(color='green', icon='arrow-up')\n",
    "    elif symbol == \"decreasing\":\n",
    "        icon = folium.Icon(color='red', icon='arrow-down')\n",
    "    elif symbol == \"no trend\":\n",
    "        icon = folium.Icon(color='orange', icon='minus')\n",
    "    else:\n",
    "        icon = folium.Icon(color='black', icon='question-sign')\n",
    "\n",
    "    folium.Marker(\n",
    "        location=[lat, lon],\n",
    "        icon=icon\n",
    "    ).add_to(m)\n",
    "\n",
    "folium.PolyLine(np.dstack((y_reference_shoreline, x_reference_shoreline)), tooltip=\"Coast\", color='black').add_to(m)\n",
    "\n",
    "# Save the map to an HTML file\n",
    "m.save('results_islands_mapping.html')\n",
    "\n",
    "# Open the map in a web browser\n",
    "webbrowser.open('results_islands_mapping.html')"
   ]
  }
 ],
 "metadata": {
  "kernelspec": {
   "display_name": "IslandTime",
   "language": "python",
   "name": "python3"
  },
  "language_info": {
   "codemirror_mode": {
    "name": "ipython",
    "version": 3
   },
   "file_extension": ".py",
   "mimetype": "text/x-python",
   "name": "python",
   "nbconvert_exporter": "python",
   "pygments_lexer": "ipython3",
   "version": "3.12.2"
  }
 },
 "nbformat": 4,
 "nbformat_minor": 2
}
