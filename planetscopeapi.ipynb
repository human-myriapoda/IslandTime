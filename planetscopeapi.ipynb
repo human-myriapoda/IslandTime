{
 "cells": [
  {
   "cell_type": "code",
   "execution_count": 1,
   "metadata": {},
   "outputs": [],
   "source": [
    "from datetime import datetime\n",
    "from planet import Auth\n",
    "from planet import Session, data_filter\n",
    "import json\n",
    "import time\n",
    "import os\n",
    "\n",
    "# We will also create a small helper function to print out JSON with proper indentation.\n",
    "def indent(data):\n",
    "    print(json.dumps(data, indent=2))"
   ]
  },
  {
   "cell_type": "code",
   "execution_count": 2,
   "metadata": {},
   "outputs": [],
   "source": [
    "# if your Planet API Key is not set as an environment variable, you can paste it below\n",
    "if 'PL_API_KEY' in os.environ:\n",
    "    API_KEY = os.environ['PL_API_KEY']\n",
    "else:\n",
    "    API_KEY = 'PLAK03522c42c1ee4651a5b0e983b599f1c7'\n",
    "    os.environ['PL_API_KEY'] = API_KEY\n",
    "\n",
    "client = Auth.from_key(API_KEY)"
   ]
  },
  {
   "cell_type": "code",
   "execution_count": 3,
   "metadata": {},
   "outputs": [],
   "source": [
    "with open(\"map.geojson\") as f:\n",
    "    geom = json.loads(f.read())"
   ]
  },
  {
   "cell_type": "code",
   "execution_count": 5,
   "metadata": {},
   "outputs": [],
   "source": [
    "# Define the filters we'll use to find our data\n",
    "\n",
    "item_types = [\"PSScene\"]\n",
    "\n",
    "geom_filter = data_filter.geometry_filter(geom)\n",
    "clear_percent_filter = data_filter.range_filter('clear_percent', 90)\n",
    "date_range_filter = data_filter.date_range_filter(\"acquired\", gt = datetime(month=1, day=1, year=2017))\n",
    "cloud_cover_filter = data_filter.range_filter('cloud_cover', None, 0.1)\n",
    "\n",
    "combined_filter = data_filter.and_filter([geom_filter, clear_percent_filter, date_range_filter, cloud_cover_filter])"
   ]
  },
  {
   "cell_type": "code",
   "execution_count": 8,
   "metadata": {},
   "outputs": [],
   "source": [
    "async with Session() as sess:\n",
    "    cl = sess.client('data')\n",
    "    request = await cl.create_search(name='Vodamulaa_Maldives_test',search_filter=combined_filter, item_types=item_types)"
   ]
  },
  {
   "cell_type": "code",
   "execution_count": 10,
   "metadata": {},
   "outputs": [],
   "source": [
    "# Search the Data API\n",
    "\n",
    "# The limit paramter allows us to limit the number of results from our search that are returned.\n",
    "# The default limit is 100. Here, we're setting our result limit to 50.\n",
    "async with Session() as sess:\n",
    "    cl = sess.client('data')\n",
    "    items = cl.run_search(search_id=request['id'], limit=50)\n",
    "    item_list = [i async for i in items]"
   ]
  },
  {
   "cell_type": "code",
   "execution_count": null,
   "metadata": {},
   "outputs": [],
   "source": [
    "for item in item_list:\n",
    "    print(item['id'], item['properties']['item_type'])"
   ]
  },
  {
   "cell_type": "code",
   "execution_count": 12,
   "metadata": {},
   "outputs": [],
   "source": [
    "path_ouput = os.path.join(os.getcwd(), 'data', 'coastsat_data', 'Vodamulaa_Maldives', 'PSScene')\n",
    "with open(os.path.join(path_ouput, 'results.json'),'w') as f:\n",
    "    jsonStr = json.dumps(item_list)\n",
    "    f.write(jsonStr)\n",
    "    f.close()"
   ]
  },
  {
   "cell_type": "code",
   "execution_count": 15,
   "metadata": {},
   "outputs": [],
   "source": [
    "# Define our item_id, and item_type\n",
    "item = item_list[0]\n",
    "item_id = item['id']\n",
    "item_type = item['properties']['item_type']"
   ]
  },
  {
   "cell_type": "code",
   "execution_count": 18,
   "metadata": {},
   "outputs": [
    {
     "name": "stderr",
     "output_type": "stream",
     "text": [
      "c:\\Users\\mp222\\OneDrive - Imperial College London\\IslandTimeGitHub\\IslandTime\\data\\coastsat_data\\Vodamulaa_Maldives\\PSScene\\20231023_052057_13_2483_3B_AnalyticMS.tif: 100%|██████████| 467k/467k [00:12<00:00, 38.9MB/s] \n"
     ]
    }
   ],
   "source": [
    "# Analytic Asset\n",
    "async with Session() as sess:\n",
    "    cl = sess.client('data')\n",
    "    # Get Asset\n",
    "    asset_desc = await cl.get_asset(item_type_id=item_type,item_id=item_id, asset_type_id='ortho_analytic_4b')\n",
    "    # Activate Asset\n",
    "    await cl.activate_asset(asset=asset_desc)\n",
    "    # Wait Asset\n",
    "    await cl.wait_asset(asset=asset_desc)\n",
    "    # Download Asset\n",
    "    asset_path = await cl.download_asset(asset=asset_desc, directory=path_ouput, overwrite=True)"
   ]
  },
  {
   "cell_type": "code",
   "execution_count": null,
   "metadata": {},
   "outputs": [],
   "source": [
    "# Analytic XML Asset\n",
    "async with Session() as sess:\n",
    "    cl = sess.client('data')\n",
    "    # Get Asset\n",
    "    asset_desc = await cl.get_asset(item_type_id=item_type,item_id=item_id, asset_type_id='ortho_analytic_4b_xml')\n",
    "    # Activate Asset\n",
    "    await cl.activate_asset(asset=asset_desc)\n",
    "    # Wait Asset (this may take some time!)\n",
    "    await cl.wait_asset(asset=asset_desc)\n",
    "    # Download Asset\n",
    "    asset_path = await cl.download_asset(asset=asset_desc, directory=path_ouput, overwrite=True)"
   ]
  }
 ],
 "metadata": {
  "kernelspec": {
   "display_name": "IslandTime",
   "language": "python",
   "name": "python3"
  },
  "language_info": {
   "codemirror_mode": {
    "name": "ipython",
    "version": 3
   },
   "file_extension": ".py",
   "mimetype": "text/x-python",
   "name": "python",
   "nbconvert_exporter": "python",
   "pygments_lexer": "ipython3",
   "version": "3.11.5"
  }
 },
 "nbformat": 4,
 "nbformat_minor": 2
}
