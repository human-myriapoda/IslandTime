{
 "cells": [
  {
   "cell_type": "code",
   "execution_count": 1,
   "metadata": {},
   "outputs": [],
   "source": [
    "from datetime import datetime\n",
    "from planet import Auth\n",
    "from planet import Session, data_filter\n",
    "import json\n",
    "import time\n",
    "import os\n",
    "\n",
    "# We will also create a small helper function to print out JSON with proper indentation.\n",
    "def indent(data):\n",
    "    print(json.dumps(data, indent=2))"
   ]
  },
  {
   "cell_type": "code",
   "execution_count": 4,
   "metadata": {},
   "outputs": [],
   "source": [
    "with open(os.path.join('geojson', \"map.geojson\")) as f:\n",
    "    geom = json.loads(f.read())"
   ]
  },
  {
   "cell_type": "code",
   "execution_count": 19,
   "metadata": {},
   "outputs": [
    {
     "name": "stderr",
     "output_type": "stream",
     "text": [
      "00:00 - order  - state: creating\n"
     ]
    },
    {
     "ename": "BadQuery",
     "evalue": "{\"field\":{\"Details\":[{\"message\":\"No access to assets: PSScene/20190225_050452_0f52/[ortho_analytic_4b ortho_analytic_4b_xml]\"},{\"message\":\"No access to assets: PSScene/20190207_050731_0f4d/[ortho_analytic_4b ortho_analytic_4b_xml]\"},{\"message\":\"No access to assets: PSScene/20190126_050234_101e/[ortho_analytic_4b ortho_analytic_4b_xml]\"}]},\"general\":[{\"message\":\"Unable to accept order\"}]}\n",
     "output_type": "error",
     "traceback": [
      "\u001b[1;31m---------------------------------------------------------------------------\u001b[0m",
      "\u001b[1;31mHTTPStatusError\u001b[0m                           Traceback (most recent call last)",
      "File \u001b[1;32mc:\\Users\\mp222\\.conda\\envs\\IslandTime\\Lib\\site-packages\\planet\\http.py:279\u001b[0m, in \u001b[0;36mSession._raise_for_status\u001b[1;34m(cls, response)\u001b[0m\n\u001b[0;32m    278\u001b[0m \u001b[39mtry\u001b[39;00m:\n\u001b[1;32m--> 279\u001b[0m     response\u001b[39m.\u001b[39;49mraise_for_status()\n\u001b[0;32m    280\u001b[0m \u001b[39mexcept\u001b[39;00m httpx\u001b[39m.\u001b[39mHTTPStatusError \u001b[39mas\u001b[39;00m e:\n",
      "File \u001b[1;32mc:\\Users\\mp222\\.conda\\envs\\IslandTime\\Lib\\site-packages\\httpx\\_models.py:758\u001b[0m, in \u001b[0;36mResponse.raise_for_status\u001b[1;34m(self)\u001b[0m\n\u001b[0;32m    757\u001b[0m message \u001b[39m=\u001b[39m message\u001b[39m.\u001b[39mformat(\u001b[39mself\u001b[39m, error_type\u001b[39m=\u001b[39merror_type)\n\u001b[1;32m--> 758\u001b[0m \u001b[39mraise\u001b[39;00m HTTPStatusError(message, request\u001b[39m=\u001b[39mrequest, response\u001b[39m=\u001b[39m\u001b[39mself\u001b[39m)\n",
      "\u001b[1;31mHTTPStatusError\u001b[0m: Client error '400 Bad Request' for url 'https://api.planet.com/compute/ops/orders/v2'\nFor more information check: https://developer.mozilla.org/en-US/docs/Web/HTTP/Status/400",
      "\nDuring handling of the above exception, another exception occurred:\n",
      "\u001b[1;31mBadQuery\u001b[0m                                  Traceback (most recent call last)",
      "\u001b[1;32mc:\\Users\\mp222\\OneDrive - Imperial College London\\IslandTimeGitHub\\IslandTime\\planetscopeapi.ipynb Cell 3\u001b[0m line \u001b[0;36m5\n\u001b[0;32m     <a href='vscode-notebook-cell:/c%3A/Users/mp222/OneDrive%20-%20Imperial%20College%20London/IslandTimeGitHub/IslandTime/planetscopeapi.ipynb#X15sZmlsZQ%3D%3D?line=48'>49</a>\u001b[0m         \u001b[39mawait\u001b[39;00m asyncio\u001b[39m.\u001b[39mgather(\u001b[39m*\u001b[39m[\n\u001b[0;32m     <a href='vscode-notebook-cell:/c%3A/Users/mp222/OneDrive%20-%20Imperial%20College%20London/IslandTimeGitHub/IslandTime/planetscopeapi.ipynb#X15sZmlsZQ%3D%3D?line=49'>50</a>\u001b[0m             create_and_download(client, request, DOWNLOAD_DIR)\n\u001b[0;32m     <a href='vscode-notebook-cell:/c%3A/Users/mp222/OneDrive%20-%20Imperial%20College%20London/IslandTimeGitHub/IslandTime/planetscopeapi.ipynb#X15sZmlsZQ%3D%3D?line=50'>51</a>\u001b[0m             \u001b[39mfor\u001b[39;00m request \u001b[39min\u001b[39;00m requests\n\u001b[0;32m     <a href='vscode-notebook-cell:/c%3A/Users/mp222/OneDrive%20-%20Imperial%20College%20London/IslandTimeGitHub/IslandTime/planetscopeapi.ipynb#X15sZmlsZQ%3D%3D?line=51'>52</a>\u001b[0m         ])\n\u001b[0;32m     <a href='vscode-notebook-cell:/c%3A/Users/mp222/OneDrive%20-%20Imperial%20College%20London/IslandTimeGitHub/IslandTime/planetscopeapi.ipynb#X15sZmlsZQ%3D%3D?line=54'>55</a>\u001b[0m \u001b[39mif\u001b[39;00m \u001b[39m__name__\u001b[39m \u001b[39m==\u001b[39m \u001b[39m'\u001b[39m\u001b[39m__main__\u001b[39m\u001b[39m'\u001b[39m:\n\u001b[1;32m---> <a href='vscode-notebook-cell:/c%3A/Users/mp222/OneDrive%20-%20Imperial%20College%20London/IslandTimeGitHub/IslandTime/planetscopeapi.ipynb#X15sZmlsZQ%3D%3D?line=55'>56</a>\u001b[0m    \u001b[39mawait\u001b[39;00m main()\n",
      "\u001b[1;32mc:\\Users\\mp222\\OneDrive - Imperial College London\\IslandTimeGitHub\\IslandTime\\planetscopeapi.ipynb Cell 3\u001b[0m line \u001b[0;36m4\n\u001b[0;32m     <a href='vscode-notebook-cell:/c%3A/Users/mp222/OneDrive%20-%20Imperial%20College%20London/IslandTimeGitHub/IslandTime/planetscopeapi.ipynb#X15sZmlsZQ%3D%3D?line=44'>45</a>\u001b[0m client \u001b[39m=\u001b[39m sess\u001b[39m.\u001b[39mclient(\u001b[39m'\u001b[39m\u001b[39morders\u001b[39m\u001b[39m'\u001b[39m)\n\u001b[0;32m     <a href='vscode-notebook-cell:/c%3A/Users/mp222/OneDrive%20-%20Imperial%20College%20London/IslandTimeGitHub/IslandTime/planetscopeapi.ipynb#X15sZmlsZQ%3D%3D?line=46'>47</a>\u001b[0m requests \u001b[39m=\u001b[39m create_requests()\n\u001b[1;32m---> <a href='vscode-notebook-cell:/c%3A/Users/mp222/OneDrive%20-%20Imperial%20College%20London/IslandTimeGitHub/IslandTime/planetscopeapi.ipynb#X15sZmlsZQ%3D%3D?line=48'>49</a>\u001b[0m \u001b[39mawait\u001b[39;00m asyncio\u001b[39m.\u001b[39mgather(\u001b[39m*\u001b[39m[\n\u001b[0;32m     <a href='vscode-notebook-cell:/c%3A/Users/mp222/OneDrive%20-%20Imperial%20College%20London/IslandTimeGitHub/IslandTime/planetscopeapi.ipynb#X15sZmlsZQ%3D%3D?line=49'>50</a>\u001b[0m     create_and_download(client, request, DOWNLOAD_DIR)\n\u001b[0;32m     <a href='vscode-notebook-cell:/c%3A/Users/mp222/OneDrive%20-%20Imperial%20College%20London/IslandTimeGitHub/IslandTime/planetscopeapi.ipynb#X15sZmlsZQ%3D%3D?line=50'>51</a>\u001b[0m     \u001b[39mfor\u001b[39;00m request \u001b[39min\u001b[39;00m requests\n\u001b[0;32m     <a href='vscode-notebook-cell:/c%3A/Users/mp222/OneDrive%20-%20Imperial%20College%20London/IslandTimeGitHub/IslandTime/planetscopeapi.ipynb#X15sZmlsZQ%3D%3D?line=51'>52</a>\u001b[0m ])\n",
      "\u001b[1;32mc:\\Users\\mp222\\OneDrive - Imperial College London\\IslandTimeGitHub\\IslandTime\\planetscopeapi.ipynb Cell 3\u001b[0m line \u001b[0;36m3\n\u001b[0;32m     <a href='vscode-notebook-cell:/c%3A/Users/mp222/OneDrive%20-%20Imperial%20College%20London/IslandTimeGitHub/IslandTime/planetscopeapi.ipynb#X15sZmlsZQ%3D%3D?line=33'>34</a>\u001b[0m \u001b[39m\u001b[39m\u001b[39m\"\"\"Make an order, wait for completion, download files as a single task.\"\"\"\u001b[39;00m\n\u001b[0;32m     <a href='vscode-notebook-cell:/c%3A/Users/mp222/OneDrive%20-%20Imperial%20College%20London/IslandTimeGitHub/IslandTime/planetscopeapi.ipynb#X15sZmlsZQ%3D%3D?line=34'>35</a>\u001b[0m \u001b[39mwith\u001b[39;00m planet\u001b[39m.\u001b[39mreporting\u001b[39m.\u001b[39mStateBar(state\u001b[39m=\u001b[39m\u001b[39m'\u001b[39m\u001b[39mcreating\u001b[39m\u001b[39m'\u001b[39m) \u001b[39mas\u001b[39;00m reporter:\n\u001b[1;32m---> <a href='vscode-notebook-cell:/c%3A/Users/mp222/OneDrive%20-%20Imperial%20College%20London/IslandTimeGitHub/IslandTime/planetscopeapi.ipynb#X15sZmlsZQ%3D%3D?line=35'>36</a>\u001b[0m     order \u001b[39m=\u001b[39m \u001b[39mawait\u001b[39;00m client\u001b[39m.\u001b[39mcreate_order(order_detail)\n\u001b[0;32m     <a href='vscode-notebook-cell:/c%3A/Users/mp222/OneDrive%20-%20Imperial%20College%20London/IslandTimeGitHub/IslandTime/planetscopeapi.ipynb#X15sZmlsZQ%3D%3D?line=36'>37</a>\u001b[0m     reporter\u001b[39m.\u001b[39mupdate(state\u001b[39m=\u001b[39m\u001b[39m'\u001b[39m\u001b[39mcreated\u001b[39m\u001b[39m'\u001b[39m, order_id\u001b[39m=\u001b[39morder[\u001b[39m'\u001b[39m\u001b[39mid\u001b[39m\u001b[39m'\u001b[39m])\n\u001b[0;32m     <a href='vscode-notebook-cell:/c%3A/Users/mp222/OneDrive%20-%20Imperial%20College%20London/IslandTimeGitHub/IslandTime/planetscopeapi.ipynb#X15sZmlsZQ%3D%3D?line=37'>38</a>\u001b[0m     \u001b[39mawait\u001b[39;00m client\u001b[39m.\u001b[39mwait(order[\u001b[39m'\u001b[39m\u001b[39mid\u001b[39m\u001b[39m'\u001b[39m], callback\u001b[39m=\u001b[39mreporter\u001b[39m.\u001b[39mupdate_state)\n",
      "File \u001b[1;32mc:\\Users\\mp222\\.conda\\envs\\IslandTime\\Lib\\site-packages\\planet\\clients\\orders.py:148\u001b[0m, in \u001b[0;36mOrdersClient.create_order\u001b[1;34m(self, request)\u001b[0m\n\u001b[0;32m    116\u001b[0m \u001b[39m\u001b[39m\u001b[39m\"\"\"Create an order request.\u001b[39;00m\n\u001b[0;32m    117\u001b[0m \n\u001b[0;32m    118\u001b[0m \u001b[39mExample:\u001b[39;00m\n\u001b[1;32m   (...)\u001b[0m\n\u001b[0;32m    145\u001b[0m \u001b[39m    planet.exceptions.APIError: On API error.\u001b[39;00m\n\u001b[0;32m    146\u001b[0m \u001b[39m\"\"\"\u001b[39;00m\n\u001b[0;32m    147\u001b[0m url \u001b[39m=\u001b[39m \u001b[39mself\u001b[39m\u001b[39m.\u001b[39m_orders_url()\n\u001b[1;32m--> 148\u001b[0m response \u001b[39m=\u001b[39m \u001b[39mawait\u001b[39;00m \u001b[39mself\u001b[39m\u001b[39m.\u001b[39m_session\u001b[39m.\u001b[39mrequest(method\u001b[39m=\u001b[39m\u001b[39m'\u001b[39m\u001b[39mPOST\u001b[39m\u001b[39m'\u001b[39m,\n\u001b[0;32m    149\u001b[0m                                        url\u001b[39m=\u001b[39murl,\n\u001b[0;32m    150\u001b[0m                                        json\u001b[39m=\u001b[39mrequest)\n\u001b[0;32m    151\u001b[0m \u001b[39mreturn\u001b[39;00m response\u001b[39m.\u001b[39mjson()\n",
      "File \u001b[1;32mc:\\Users\\mp222\\.conda\\envs\\IslandTime\\Lib\\site-packages\\planet\\http.py:387\u001b[0m, in \u001b[0;36mSession.request\u001b[1;34m(self, method, url, json, params)\u001b[0m\n\u001b[0;32m    379\u001b[0m     headers \u001b[39m=\u001b[39m \u001b[39mNone\u001b[39;00m\n\u001b[0;32m    381\u001b[0m request \u001b[39m=\u001b[39m \u001b[39mself\u001b[39m\u001b[39m.\u001b[39m_client\u001b[39m.\u001b[39mbuild_request(method\u001b[39m=\u001b[39mmethod,\n\u001b[0;32m    382\u001b[0m                                      url\u001b[39m=\u001b[39murl,\n\u001b[0;32m    383\u001b[0m                                      json\u001b[39m=\u001b[39mjson,\n\u001b[0;32m    384\u001b[0m                                      params\u001b[39m=\u001b[39mparams,\n\u001b[0;32m    385\u001b[0m                                      headers\u001b[39m=\u001b[39mheaders)\n\u001b[1;32m--> 387\u001b[0m http_response \u001b[39m=\u001b[39m \u001b[39mawait\u001b[39;00m \u001b[39mself\u001b[39m\u001b[39m.\u001b[39m_retry(\u001b[39mself\u001b[39m\u001b[39m.\u001b[39m_send, request, stream\u001b[39m=\u001b[39m\u001b[39mFalse\u001b[39;00m)\n\u001b[0;32m    388\u001b[0m \u001b[39mreturn\u001b[39;00m models\u001b[39m.\u001b[39mResponse(http_response)\n",
      "File \u001b[1;32mc:\\Users\\mp222\\.conda\\envs\\IslandTime\\Lib\\site-packages\\planet\\http.py:330\u001b[0m, in \u001b[0;36mSession._retry\u001b[1;34m(self, func, *a, **kw)\u001b[0m\n\u001b[0;32m    328\u001b[0m                 \u001b[39mawait\u001b[39;00m asyncio\u001b[39m.\u001b[39msleep(wait_time)\n\u001b[0;32m    329\u001b[0m         \u001b[39melse\u001b[39;00m:\n\u001b[1;32m--> 330\u001b[0m             \u001b[39mraise\u001b[39;00m e\n\u001b[0;32m    332\u001b[0m \u001b[39mself\u001b[39m\u001b[39m.\u001b[39moutcomes\u001b[39m.\u001b[39mupdate([\u001b[39m'\u001b[39m\u001b[39mSuccessful\u001b[39m\u001b[39m'\u001b[39m])\n\u001b[0;32m    333\u001b[0m \u001b[39mreturn\u001b[39;00m resp\n",
      "File \u001b[1;32mc:\\Users\\mp222\\.conda\\envs\\IslandTime\\Lib\\site-packages\\planet\\http.py:315\u001b[0m, in \u001b[0;36mSession._retry\u001b[1;34m(self, func, *a, **kw)\u001b[0m\n\u001b[0;32m    313\u001b[0m num_tries \u001b[39m+\u001b[39m\u001b[39m=\u001b[39m \u001b[39m1\u001b[39m\n\u001b[0;32m    314\u001b[0m \u001b[39mtry\u001b[39;00m:\n\u001b[1;32m--> 315\u001b[0m     resp \u001b[39m=\u001b[39m \u001b[39mawait\u001b[39;00m func(\u001b[39m*\u001b[39ma, \u001b[39m*\u001b[39m\u001b[39m*\u001b[39mkw)\n\u001b[0;32m    316\u001b[0m     \u001b[39mbreak\u001b[39;00m\n\u001b[0;32m    317\u001b[0m \u001b[39mexcept\u001b[39;00m \u001b[39mException\u001b[39;00m \u001b[39mas\u001b[39;00m e:\n",
      "File \u001b[1;32mc:\\Users\\mp222\\.conda\\envs\\IslandTime\\Lib\\site-packages\\planet\\http.py:393\u001b[0m, in \u001b[0;36mSession._send\u001b[1;34m(self, request, stream)\u001b[0m\n\u001b[0;32m    391\u001b[0m \u001b[39m\u001b[39m\u001b[39m\"\"\"Send request with with rate/worker limiting.\"\"\"\u001b[39;00m\n\u001b[0;32m    392\u001b[0m \u001b[39masync\u001b[39;00m \u001b[39mwith\u001b[39;00m \u001b[39mself\u001b[39m\u001b[39m.\u001b[39m_limiter:\n\u001b[1;32m--> 393\u001b[0m     http_resp \u001b[39m=\u001b[39m \u001b[39mawait\u001b[39;00m \u001b[39mself\u001b[39m\u001b[39m.\u001b[39m_client\u001b[39m.\u001b[39msend(request, stream\u001b[39m=\u001b[39mstream)\n\u001b[0;32m    395\u001b[0m \u001b[39mreturn\u001b[39;00m http_resp\n",
      "File \u001b[1;32mc:\\Users\\mp222\\.conda\\envs\\IslandTime\\Lib\\site-packages\\httpx\\_client.py:1617\u001b[0m, in \u001b[0;36mAsyncClient.send\u001b[1;34m(self, request, stream, auth, follow_redirects)\u001b[0m\n\u001b[0;32m   1609\u001b[0m follow_redirects \u001b[39m=\u001b[39m (\n\u001b[0;32m   1610\u001b[0m     \u001b[39mself\u001b[39m\u001b[39m.\u001b[39mfollow_redirects\n\u001b[0;32m   1611\u001b[0m     \u001b[39mif\u001b[39;00m \u001b[39misinstance\u001b[39m(follow_redirects, UseClientDefault)\n\u001b[0;32m   1612\u001b[0m     \u001b[39melse\u001b[39;00m follow_redirects\n\u001b[0;32m   1613\u001b[0m )\n\u001b[0;32m   1615\u001b[0m auth \u001b[39m=\u001b[39m \u001b[39mself\u001b[39m\u001b[39m.\u001b[39m_build_request_auth(request, auth)\n\u001b[1;32m-> 1617\u001b[0m response \u001b[39m=\u001b[39m \u001b[39mawait\u001b[39;00m \u001b[39mself\u001b[39m\u001b[39m.\u001b[39m_send_handling_auth(\n\u001b[0;32m   1618\u001b[0m     request,\n\u001b[0;32m   1619\u001b[0m     auth\u001b[39m=\u001b[39mauth,\n\u001b[0;32m   1620\u001b[0m     follow_redirects\u001b[39m=\u001b[39mfollow_redirects,\n\u001b[0;32m   1621\u001b[0m     history\u001b[39m=\u001b[39m[],\n\u001b[0;32m   1622\u001b[0m )\n\u001b[0;32m   1623\u001b[0m \u001b[39mtry\u001b[39;00m:\n\u001b[0;32m   1624\u001b[0m     \u001b[39mif\u001b[39;00m \u001b[39mnot\u001b[39;00m stream:\n",
      "File \u001b[1;32mc:\\Users\\mp222\\.conda\\envs\\IslandTime\\Lib\\site-packages\\httpx\\_client.py:1645\u001b[0m, in \u001b[0;36mAsyncClient._send_handling_auth\u001b[1;34m(self, request, auth, follow_redirects, history)\u001b[0m\n\u001b[0;32m   1642\u001b[0m request \u001b[39m=\u001b[39m \u001b[39mawait\u001b[39;00m auth_flow\u001b[39m.\u001b[39m\u001b[39m__anext__\u001b[39m()\n\u001b[0;32m   1644\u001b[0m \u001b[39mwhile\u001b[39;00m \u001b[39mTrue\u001b[39;00m:\n\u001b[1;32m-> 1645\u001b[0m     response \u001b[39m=\u001b[39m \u001b[39mawait\u001b[39;00m \u001b[39mself\u001b[39m\u001b[39m.\u001b[39m_send_handling_redirects(\n\u001b[0;32m   1646\u001b[0m         request,\n\u001b[0;32m   1647\u001b[0m         follow_redirects\u001b[39m=\u001b[39mfollow_redirects,\n\u001b[0;32m   1648\u001b[0m         history\u001b[39m=\u001b[39mhistory,\n\u001b[0;32m   1649\u001b[0m     )\n\u001b[0;32m   1650\u001b[0m     \u001b[39mtry\u001b[39;00m:\n\u001b[0;32m   1651\u001b[0m         \u001b[39mtry\u001b[39;00m:\n",
      "File \u001b[1;32mc:\\Users\\mp222\\.conda\\envs\\IslandTime\\Lib\\site-packages\\httpx\\_client.py:1703\u001b[0m, in \u001b[0;36mAsyncClient._send_handling_redirects\u001b[1;34m(self, request, follow_redirects, history)\u001b[0m\n\u001b[0;32m   1701\u001b[0m \u001b[39mexcept\u001b[39;00m \u001b[39mBaseException\u001b[39;00m \u001b[39mas\u001b[39;00m exc:\n\u001b[0;32m   1702\u001b[0m     \u001b[39mawait\u001b[39;00m response\u001b[39m.\u001b[39maclose()\n\u001b[1;32m-> 1703\u001b[0m     \u001b[39mraise\u001b[39;00m exc\n",
      "File \u001b[1;32mc:\\Users\\mp222\\.conda\\envs\\IslandTime\\Lib\\site-packages\\httpx\\_client.py:1685\u001b[0m, in \u001b[0;36mAsyncClient._send_handling_redirects\u001b[1;34m(self, request, follow_redirects, history)\u001b[0m\n\u001b[0;32m   1683\u001b[0m \u001b[39mtry\u001b[39;00m:\n\u001b[0;32m   1684\u001b[0m     \u001b[39mfor\u001b[39;00m hook \u001b[39min\u001b[39;00m \u001b[39mself\u001b[39m\u001b[39m.\u001b[39m_event_hooks[\u001b[39m\"\u001b[39m\u001b[39mresponse\u001b[39m\u001b[39m\"\u001b[39m]:\n\u001b[1;32m-> 1685\u001b[0m         \u001b[39mawait\u001b[39;00m hook(response)\n\u001b[0;32m   1687\u001b[0m     response\u001b[39m.\u001b[39mhistory \u001b[39m=\u001b[39m \u001b[39mlist\u001b[39m(history)\n\u001b[0;32m   1689\u001b[0m     \u001b[39mif\u001b[39;00m \u001b[39mnot\u001b[39;00m response\u001b[39m.\u001b[39mhas_redirect_location:\n",
      "File \u001b[1;32mc:\\Users\\mp222\\.conda\\envs\\IslandTime\\Lib\\site-packages\\planet\\http.py:282\u001b[0m, in \u001b[0;36mSession._raise_for_status\u001b[1;34m(cls, response)\u001b[0m\n\u001b[0;32m    280\u001b[0m     \u001b[39mexcept\u001b[39;00m httpx\u001b[39m.\u001b[39mHTTPStatusError \u001b[39mas\u001b[39;00m e:\n\u001b[0;32m    281\u001b[0m         \u001b[39mawait\u001b[39;00m e\u001b[39m.\u001b[39mresponse\u001b[39m.\u001b[39maread()\n\u001b[1;32m--> 282\u001b[0m         \u001b[39mcls\u001b[39;49m\u001b[39m.\u001b[39;49m_convert_and_raise(e)\n\u001b[0;32m    284\u001b[0m \u001b[39mreturn\u001b[39;00m\n",
      "File \u001b[1;32mc:\\Users\\mp222\\.conda\\envs\\IslandTime\\Lib\\site-packages\\planet\\http.py:95\u001b[0m, in \u001b[0;36mBaseSession._convert_and_raise\u001b[1;34m(cls, error)\u001b[0m\n\u001b[0;32m     84\u001b[0m error_types \u001b[39m=\u001b[39m {\n\u001b[0;32m     85\u001b[0m     HTTPStatus\u001b[39m.\u001b[39mBAD_REQUEST: exceptions\u001b[39m.\u001b[39mBadQuery,\n\u001b[0;32m     86\u001b[0m     HTTPStatus\u001b[39m.\u001b[39mUNAUTHORIZED: exceptions\u001b[39m.\u001b[39mInvalidAPIKey,\n\u001b[1;32m   (...)\u001b[0m\n\u001b[0;32m     92\u001b[0m     HTTPStatus\u001b[39m.\u001b[39mBAD_GATEWAY: exceptions\u001b[39m.\u001b[39mBadGateway\n\u001b[0;32m     93\u001b[0m }\n\u001b[0;32m     94\u001b[0m error_type \u001b[39m=\u001b[39m error_types\u001b[39m.\u001b[39mget(response\u001b[39m.\u001b[39mstatus_code, exceptions\u001b[39m.\u001b[39mAPIError)\n\u001b[1;32m---> 95\u001b[0m \u001b[39mraise\u001b[39;00m error_type(response\u001b[39m.\u001b[39mtext)\n",
      "\u001b[1;31mBadQuery\u001b[0m: {\"field\":{\"Details\":[{\"message\":\"No access to assets: PSScene/20190225_050452_0f52/[ortho_analytic_4b ortho_analytic_4b_xml]\"},{\"message\":\"No access to assets: PSScene/20190207_050731_0f4d/[ortho_analytic_4b ortho_analytic_4b_xml]\"},{\"message\":\"No access to assets: PSScene/20190126_050234_101e/[ortho_analytic_4b ortho_analytic_4b_xml]\"}]},\"general\":[{\"message\":\"Unable to accept order\"}]}\n"
     ]
    }
   ],
   "source": [
    "import asyncio\n",
    "import os\n",
    "\n",
    "import planet\n",
    "\n",
    "DOWNLOAD_DIR = os.getenv('TEST_DOWNLOAD_DIR', '.')\n",
    "\n",
    "with open(os.path.join('geojson', \"map.geojson\")) as f:\n",
    "    geom = json.loads(f.read())\n",
    "\n",
    "\n",
    "def create_requests():\n",
    "    # The Orders API will be asked to mask, or clip, results to\n",
    "    # this area of interest.\n",
    "    iowa_aoi = geom\n",
    "\n",
    "    # In practice, you will use a Data API search to find items, but\n",
    "    # for this example take them as given.\n",
    "    iowa_items = list_id\n",
    "\n",
    "    iowa_order = planet.order_request.build_request(\n",
    "        name='Vodamulaa_Maldives_Jan_June_2019',\n",
    "        products=[\n",
    "            planet.order_request.product(item_ids=iowa_items,\n",
    "                                         product_bundle='analytic_udm2',\n",
    "                                         item_type='PSScene')\n",
    "        ],\n",
    "        tools=[planet.order_request.clip_tool(aoi=iowa_aoi)])\n",
    "\n",
    "    return [iowa_order]\n",
    "\n",
    "\n",
    "async def create_and_download(client, order_detail, directory):\n",
    "    \"\"\"Make an order, wait for completion, download files as a single task.\"\"\"\n",
    "    with planet.reporting.StateBar(state='creating') as reporter:\n",
    "        order = await client.create_order(order_detail)\n",
    "        reporter.update(state='created', order_id=order['id'])\n",
    "        await client.wait(order['id'], callback=reporter.update_state)\n",
    "\n",
    "    await client.download_order(order['id'], directory, progress_bar=True)\n",
    "\n",
    "\n",
    "async def main():\n",
    "    async with planet.Session() as sess:\n",
    "        client = sess.client('orders')\n",
    "\n",
    "        requests = create_requests()\n",
    "\n",
    "        await asyncio.gather(*[\n",
    "            create_and_download(client, request, DOWNLOAD_DIR)\n",
    "            for request in requests\n",
    "        ])\n",
    "\n",
    "\n",
    "if __name__ == '__main__':\n",
    "   await main()"
   ]
  },
  {
   "cell_type": "code",
   "execution_count": 14,
   "metadata": {},
   "outputs": [
    {
     "name": "stderr",
     "output_type": "stream",
     "text": [
      "c:\\Users\\mp222\\.conda\\envs\\IslandTime\\Lib\\site-packages\\matplotlib\\colors.py:1099: RuntimeWarning: coroutine 'main' was never awaited\n",
      "  data_r = {key: (functools.partial(self._reverser, data)\n",
      "RuntimeWarning: Enable tracemalloc to get the object allocation traceback\n"
     ]
    }
   ],
   "source": [
    "from osgeo import gdal\n",
    "import matplotlib.pyplot as plt\n",
    "data = gdal.Open(os.path.join('c6d972cb-04dd-4b3f-bb29-7177593144d2', 'PSScene', '20231202_044119_76_24af_3B_AnalyticMS_clip.tif'))\n",
    "blue = data.GetRasterBand(1).ReadAsArray()"
   ]
  },
  {
   "cell_type": "code",
   "execution_count": 18,
   "metadata": {},
   "outputs": [],
   "source": [
    "# if your Planet API Key is not set as an environment variable, you can paste it below\n",
    "if 'PL_API_KEY' in os.environ:\n",
    "    API_KEY = os.environ['PL_API_KEY']\n",
    "else:\n",
    "    API_KEY = 'PLAK03522c42c1ee4651a5b0e983b599f1c7'\n",
    "    os.environ['PL_API_KEY'] = API_KEY\n",
    "\n",
    "client = Auth.from_key(API_KEY)"
   ]
  },
  {
   "cell_type": "code",
   "execution_count": 12,
   "metadata": {},
   "outputs": [],
   "source": [
    "# Define the filters we'll use to find our data\n",
    "\n",
    "item_types = [\"PSScene\"]\n",
    "\n",
    "geom_filter = data_filter.geometry_filter(geom)\n",
    "clear_percent_filter = data_filter.range_filter('clear_percent', 90)\n",
    "date_range_filter = data_filter.date_range_filter(\"acquired\", gt = datetime(month=1, day=1, year=2019), lt = datetime(month=6, day=30, year=2019))\n",
    "cloud_cover_filter = data_filter.range_filter('cloud_cover', None, 0.3)\n",
    "\n",
    "combined_filter = data_filter.and_filter([geom_filter, clear_percent_filter, date_range_filter, cloud_cover_filter])"
   ]
  },
  {
   "cell_type": "code",
   "execution_count": 13,
   "metadata": {},
   "outputs": [],
   "source": [
    "async with Session() as sess:\n",
    "    cl = sess.client('data')\n",
    "    request = await cl.create_search(name='Vodamulaa_Maldives_2019', search_filter=combined_filter, item_types=item_types)"
   ]
  },
  {
   "cell_type": "code",
   "execution_count": 14,
   "metadata": {},
   "outputs": [],
   "source": [
    "# Search the Data API\n",
    "\n",
    "# The limit paramter allows us to limit the number of results from our search that are returned.\n",
    "# The default limit is 100. Here, we're setting our result limit to 50.\n",
    "async with Session() as sess:\n",
    "    cl = sess.client('data')\n",
    "    items = cl.run_search(search_id=request['id'], limit=1000)\n",
    "    item_list = [i async for i in items]"
   ]
  },
  {
   "cell_type": "code",
   "execution_count": 15,
   "metadata": {},
   "outputs": [],
   "source": [
    "list_id = [item_list[i]['id'] for i in range(len(item_list))]"
   ]
  },
  {
   "cell_type": "code",
   "execution_count": 16,
   "metadata": {},
   "outputs": [
    {
     "data": {
      "text/plain": [
       "20"
      ]
     },
     "execution_count": 16,
     "metadata": {},
     "output_type": "execute_result"
    }
   ],
   "source": [
    "len(list_id)"
   ]
  },
  {
   "cell_type": "code",
   "execution_count": 39,
   "metadata": {},
   "outputs": [
    {
     "name": "stdout",
     "output_type": "stream",
     "text": [
      "20191217_061008_03_1063 PSScene\n",
      "20190903_061431_79_1068 PSScene\n",
      "20190903_061433_89_1068 PSScene\n",
      "20190331_062214_80_1062 PSScene\n",
      "20190317_050409_1042 PSScene\n",
      "20191228_051623_1105 PSScene\n",
      "20191222_051004_103d PSScene\n",
      "20191217_045841_0e19 PSScene\n",
      "20191217_045840_0e19 PSScene\n",
      "20191203_050851_1011 PSScene\n",
      "20191203_042315_0f49 PSScene\n",
      "20191127_051015_0f22 PSScene\n",
      "20191124_050929_1001 PSScene\n",
      "20191119_042609_1049 PSScene\n",
      "20191118_042557_1_0f32 PSScene\n",
      "20191103_050935_0f3f PSScene\n",
      "20191102_052636_21_1057 PSScene\n",
      "20191009_043119_0f2a PSScene\n",
      "20191008_050813_0f25 PSScene\n",
      "20191002_052447_21_105d PSScene\n",
      "20190918_050749_103d PSScene\n",
      "20190918_050748_103d PSScene\n",
      "20190916_050914_1003 PSScene\n",
      "20190910_051017_0f34 PSScene\n",
      "20190908_050616_1003 PSScene\n",
      "20190905_043654_104a PSScene\n",
      "20190905_043655_104a PSScene\n",
      "20190903_043713_0f2b PSScene\n",
      "20190902_050848_103d PSScene\n",
      "20190902_050849_103d PSScene\n",
      "20190827_050835_1025 PSScene\n",
      "20190820_043936_1049 PSScene\n",
      "20190820_043935_1049 PSScene\n",
      "20190814_050704_1010 PSScene\n",
      "20190805_050843_103d PSScene\n",
      "20190804_044049_0f4d PSScene\n",
      "20190801_044117_1054 PSScene\n",
      "20190729_050653_1021 PSScene\n",
      "20190728_050853_0f15 PSScene\n",
      "20190728_050851_0f15 PSScene\n",
      "20190725_050630_0f35 PSScene\n",
      "20190724_061807_91_106a PSScene\n",
      "20190724_061805_84_106a PSScene\n",
      "20190722_050801_1038 PSScene\n",
      "20190715_050909_103a PSScene\n",
      "20190712_044526_0f2a PSScene\n",
      "20190712_044527_0f2a PSScene\n",
      "20190711_050832_103c PSScene\n",
      "20190710_050818_1042 PSScene\n",
      "20190708_050646_103d PSScene\n",
      "20190708_050647_103d PSScene\n",
      "20190706_050733_1034 PSScene\n",
      "20190704_050649_1032 PSScene\n",
      "20190704_050940_1105 PSScene\n",
      "20190701_050659_1024 PSScene\n",
      "20190615_050805_0f4e PSScene\n",
      "20190611_050815_1012 PSScene\n",
      "20190517_050457_1024 PSScene\n",
      "20190510_050741_1006 PSScene\n",
      "20190505_050723_0f4e PSScene\n",
      "20190501_050630_1105 PSScene\n",
      "20190423_050554_1038 PSScene\n",
      "20190413_045934_1051 PSScene\n",
      "20190409_062201_51_1063 PSScene\n",
      "20190408_050739_0f28 PSScene\n",
      "20190330_050024_0f4d PSScene\n",
      "20190330_050023_0f4d PSScene\n",
      "20190329_050423_100a PSScene\n",
      "20190225_050452_0f52 PSScene\n",
      "20190207_050731_0f4d PSScene\n",
      "20190201_050909_0f44 PSScene\n",
      "20190126_050932_101c PSScene\n",
      "20190126_050234_101e PSScene\n"
     ]
    }
   ],
   "source": [
    "for item in item_list:\n",
    "    print(item['id'], item['properties']['item_type'])"
   ]
  },
  {
   "cell_type": "code",
   "execution_count": 12,
   "metadata": {},
   "outputs": [],
   "source": [
    "path_ouput = os.path.join(os.getcwd(), 'data', 'coastsat_data', 'Vodamulaa_Maldives', 'PSScene')\n",
    "with open(os.path.join(path_ouput, 'results.json'),'w') as f:\n",
    "    jsonStr = json.dumps(item_list)\n",
    "    f.write(jsonStr)\n",
    "    f.close()"
   ]
  },
  {
   "cell_type": "code",
   "execution_count": 15,
   "metadata": {},
   "outputs": [],
   "source": [
    "# Define our item_id, and item_type\n",
    "item = item_list[0]\n",
    "item_id = item['id']\n",
    "item_type = item['properties']['item_type']"
   ]
  },
  {
   "cell_type": "code",
   "execution_count": 18,
   "metadata": {},
   "outputs": [
    {
     "name": "stderr",
     "output_type": "stream",
     "text": [
      "c:\\Users\\mp222\\OneDrive - Imperial College London\\IslandTimeGitHub\\IslandTime\\data\\coastsat_data\\Vodamulaa_Maldives\\PSScene\\20231023_052057_13_2483_3B_AnalyticMS.tif: 100%|██████████| 467k/467k [00:12<00:00, 38.9MB/s] \n"
     ]
    }
   ],
   "source": [
    "# Analytic Asset\n",
    "async with Session() as sess:\n",
    "    cl = sess.client('data')\n",
    "    # Get Asset\n",
    "    asset_desc = await cl.get_asset(item_type_id=item_type,item_id=item_id, asset_type_id='ortho_analytic_4b')\n",
    "    # Activate Asset\n",
    "    await cl.activate_asset(asset=asset_desc)\n",
    "    # Wait Asset\n",
    "    await cl.wait_asset(asset=asset_desc)\n",
    "    # Download Asset\n",
    "    asset_path = await cl.download_asset(asset=asset_desc, directory=path_ouput, overwrite=True)"
   ]
  },
  {
   "cell_type": "code",
   "execution_count": null,
   "metadata": {},
   "outputs": [],
   "source": [
    "# Analytic XML Asset\n",
    "async with Session() as sess:\n",
    "    cl = sess.client('data')\n",
    "    # Get Asset\n",
    "    asset_desc = await cl.get_asset(item_type_id=item_type,item_id=item_id, asset_type_id='ortho_analytic_4b_xml')\n",
    "    # Activate Asset\n",
    "    await cl.activate_asset(asset=asset_desc)\n",
    "    # Wait Asset (this may take some time!)\n",
    "    await cl.wait_asset(asset=asset_desc)\n",
    "    # Download Asset\n",
    "    asset_path = await cl.download_asset(asset=asset_desc, directory=path_ouput, overwrite=True)"
   ]
  }
 ],
 "metadata": {
  "kernelspec": {
   "display_name": "IslandTime",
   "language": "python",
   "name": "python3"
  },
  "language_info": {
   "codemirror_mode": {
    "name": "ipython",
    "version": 3
   },
   "file_extension": ".py",
   "mimetype": "text/x-python",
   "name": "python",
   "nbconvert_exporter": "python",
   "pygments_lexer": "ipython3",
   "version": "3.11.5"
  }
 },
 "nbformat": 4,
 "nbformat_minor": 2
}
