{
 "cells": [
  {
   "cell_type": "code",
   "execution_count": 3,
   "metadata": {},
   "outputs": [
    {
     "name": "stdout",
     "output_type": "stream",
     "text": [
      "The autoreload extension is already loaded. To reload it, use:\n",
      "  %reload_ext autoreload\n"
     ]
    }
   ],
   "source": [
    "from IslandTime import Workflow, retrieve_island_info, TimeSeriesCoastSat, update_data_map, update_results_map, plot_shoreline_transects\n",
    "import matplotlib.pyplot as plt\n",
    "import Rbeast as rb\n",
    "from datetime import datetime\n",
    "import os\n",
    "import numpy as np\n",
    "from tqdm import tqdm\n",
    "import matplotlib\n",
    "\n",
    "matplotlib.rcParams['mathtext.fontset'] = 'stix'\n",
    "matplotlib.rcParams['font.family'] = 'STIXGeneral'\n",
    "\n",
    "%load_ext autoreload\n",
    "%autoreload 2"
   ]
  },
  {
   "cell_type": "code",
   "execution_count": null,
   "metadata": {},
   "outputs": [],
   "source": [
    "from statsmodels.graphics.tsaplots import plot_acf, plot_pacf\n",
    "\n",
    "from matplotlib.collections import PolyCollection, LineCollection\n",
    "\n",
    "t = 9\n",
    "ts = island_info['timeseries_preprocessing']['optimal time period']['dict_timeseries']['coastline_position_transect_{}_waterline'.format(t)]['monthly']['coastline_position_transect_{}_waterline'.format(t)]\n",
    "\n",
    "o = rb.beast(ts.values, deltat = '1/12 year', period='1 year')\n",
    "# rb.plot(o)\n",
    "\n",
    "def plot_acf_colors(ax, markercolor=\"#d62828\", linecolor=\"black\", facecolor=\"silver\", barcolor=\"#003049\", linewidth=1):\n",
    "    \"\"\"utility function to get some control over colors with  plot_acf()\"\"\"\n",
    "    \n",
    "    for item in ax.collections:\n",
    "        # change the color of the confidence interval \n",
    "        if type(item) == PolyCollection:\n",
    "            item.set_facecolor(facecolor)\n",
    "        # change the color of the vertical lines\n",
    "        if type(item) == LineCollection:\n",
    "            item.set_color(barcolor)\n",
    "    # change the color of the markers\n",
    "    [line.get_label() for line in ax.lines]\n",
    "    for item in ax.lines:\n",
    "        item.set_color(markercolor)\n",
    "    # change the color of the horizontal lines\n",
    "    ax.lines[0].set_color(linecolor)\n",
    "    ax.lines[0].set_linewidth(linewidth)\n",
    "    #ax.lines.remove(ax.lines[0])\n",
    "    return ax\n",
    "\n",
    "fig, axs = plt.subplots(2,2, figsize=(20,20))\n",
    "axs = axs.ravel()\n",
    "plot_acf(ts - o.trend.Y, lags=40, alpha=0.05, ax=axs[1], color='k', use_vlines=True, fft=True, vlines_kwargs={'colors': 'k', 'linestyles': 'dashed'}, title='', gapcolor='k')\n",
    "ax = plot_acf_colors(axs[1])\n",
    "# axs[1].axvline(x=12, color='k', linestyle='-', linewidth=0.5, zorder=0, alpha=0.5)\n",
    "# axs[1].axvline(x=6, color='k', linestyle='-', linewidth=0.5, zorder=0, alpha=0.5)\n",
    "# axs[1].axvline(x=18, color='k', linestyle='-', linewidth=0.5, zorder=0, alpha=0.5)\n",
    "# ax.axvline(x=24, color='red', linestyle='--')\n",
    "# ax.axvline(x=36, color='red', linestyle='--')\n",
    "# ax.axvline(x=6, color='g', linestyle='--', label='6 months')\n",
    "# ax.axvline(x=18, color='g', linestyle='--')\n",
    "# ax.axvline(x=30, color='g', linestyle='--')\n",
    "axs[1].set_xlabel('Lag (months)', fontsize=20)\n",
    "axs[1].set_ylabel('Autocorrelation', fontsize=20)\n",
    "# axs[1].text(12.2, 0.75, '12 months', fontsize=15, fontweight='bold')\n",
    "# axs[1].text(6.2, 0.85, '6 months', fontsize=15, fontweight='bold')\n",
    "# axs[1].text(18.2, 0.65, '18 months', fontsize=15, fontweight='bold')\n",
    "axs[1].set_xlim(-1, 40.5)\n",
    "axs[1].set_ylim(-1.05, 1.05)\n",
    "# Increase tick size\n",
    "# We change the fontsize of minor ticks label \n",
    "axs[1].tick_params(axis='both', which='major', labelsize=12)\n",
    "axs[3].tick_params(axis='both', which='major', labelsize=12)\n",
    "# axs[1].tick_params(axis='both', which='minor', labelsize=20)\n",
    "\n",
    "# axs[1].plot(ts, color='k', linewidth=1.5, label='Preprocessed time series')\n",
    "# axs[1].set_xlabel('Time', fontsize=20)\n",
    "# axs[1].set_ylabel('Coastline position (m)', fontsize=20)\n",
    "# axs[1].legend()\n",
    "# plot_shoreline_transects(island_info, ax=axs[0], transect_plot=10)\n",
    "\n",
    "axs[3].plot(ts - o.trend.Y, color='#456990', linewidth=1.5, alpha=0.7, label='Preprocessed time series')\n",
    "axs[3].set_xlabel('Time', fontsize=20)\n",
    "axs[3].set_ylabel('Coastline position (m)', fontsize=20)\n",
    "# ax.set_title('')\n",
    "# ax.legend(fontsize=15)\n",
    "\n",
    "import numpy as np\n",
    "import skimage.exposure as exposure\n",
    "import pyproj\n",
    "\n",
    "def _image_stretch(im):\n",
    "    # Rescale image for visualisation\n",
    "    if np.ndim(im) > 2:\n",
    "        for i in range(np.shape(im)[2]):\n",
    "            im_no_nan = im[:, :, i][~np.isnan(im[:, :, i])]\n",
    "            im[:, :, i] = exposure.rescale_intensity(im[:, :, i], in_range=(im_no_nan.min(), im_no_nan.max()))\n",
    "    \n",
    "    else:\n",
    "        im_no_nan = im[~np.isnan(im)]\n",
    "        im = exposure.rescale_intensity(im, in_range=(im_no_nan.min(), im_no_nan.max()))\n",
    "    \n",
    "    return im\n",
    "\n",
    "kk = 73\n",
    "# georef = all_dict[2][list(all_dict[2].keys())[kk]]\n",
    "# rgb = all_dict[1][list(all_dict[1].keys())[kk]]\n",
    "\n",
    "# axs[0].imshow(_image_stretch(rgb), extent=[georef[0], georef[0] + georef[1] * rgb.shape[1], georef[3] + georef[5] * rgb.shape[0], georef[3]])\n",
    "plot_shoreline_transects(island_info, transect_plot=t, ax=axs[0])\n",
    "axs[0].axis('off')\n",
    "\n",
    "from scipy.fft import fft\n",
    "from scipy.signal import find_peaks, argrelextrema\n",
    "from scipy import stats\n",
    "\n",
    "\n",
    "time_series = ts\n",
    "# Fourier transform of time series\n",
    "fft_result = fft(time_series.values - o.trend.Y)\n",
    "\n",
    "# Get frequencies\n",
    "frequencies = np.fft.fftfreq(len(time_series.values), d=1)#1/12)\n",
    "\n",
    "# Only take the positive half of the spectrum\n",
    "positive_freq = frequencies[:len(frequencies)//2]\n",
    "positive_magnitude = np.abs(fft_result[:len(fft_result)//2])\n",
    "\n",
    "# Convert frequency to cycles per year\n",
    "positive_freq_yearly = positive_freq * 12\n",
    "\n",
    "axs[2].plot(positive_freq_yearly[1:], positive_magnitude[1:], color='#20a39e', linewidth=1.5, label='Fast Fourier Transform')\n",
    "axs[2].set_xlabel('Frequency (cycles per year)', fontsize=20)\n",
    "axs[2].set_ylabel('Amplitude', fontsize=20)\n",
    "axs[2].axvline(x=1, color='k', linestyle='-', linewidth=0.5, zorder=0, alpha=0.5)\n",
    "axs[2].axvline(x=2, color='k', linestyle='-', linewidth=0.5, zorder=0, alpha=0.5)\n",
    "axs[2].axvline(x=3, color='k', linestyle='-', linewidth=0.5, zorder=0, alpha=0.5)\n",
    "axs[2].tick_params(axis='both', which='major', labelsize=12)\n",
    "# axs[2].set_ylim(0, 600)\n",
    "axs[2].set_xlim(0.1, 5)\n",
    "\n",
    "# fft_result without frequency 0\n",
    "fft_result_n = fft_result[1:]\n",
    "\n",
    "# Remove frequencies with amplitude below a threshold\n",
    "#print(all(element is False for element in (stats.zscore(np.abs(fft_result_n)) > self.z_score_seasonality)))\n",
    "score_list = stats.zscore(np.abs(fft_result_n)) > 2.\n",
    "if all(not element for element in score_list):\n",
    "    fft_result = fft_result\n",
    "else:\n",
    "    threshold = np.min(np.abs(fft_result_n[stats.zscore(np.abs(fft_result_n)) > 2.]))\n",
    "    fft_result[np.abs(fft_result) < threshold] = 0\n",
    "\n",
    "# Only take the positive half of the spectrum\n",
    "positive_freq = frequencies[:len(frequencies)//2]\n",
    "positive_magnitude = np.abs(fft_result[:len(fft_result)//2])\n",
    "\n",
    "# Convert frequency to cycles per year\n",
    "positive_freq_yearly = positive_freq * 12\n",
    "\n",
    "axs[2].plot(positive_freq_yearly[1:], positive_magnitude[1:], color='#ffba49', linewidth=2, ls = '--', label='Filtered Fast Fourier Transform')\n",
    "axs[2].legend(fontsize=15)\n",
    "\n",
    "# Inverse Fourier transform (filetered data)\n",
    "filtered_data_fourier = np.fft.ifft(fft_result).real\n",
    "\n",
    "# Find peaks\n",
    "peaks_fourier, _ = find_peaks(filtered_data_fourier, height=0)\n",
    "\n",
    "# Find period\n",
    "period_fourier = stats.mode(np.diff(peaks_fourier)).mode\n",
    "print(period_fourier)\n",
    "\n",
    "axs[3].plot(time_series.index, filtered_data_fourier, color='#540d6e', linewidth=1.5, label='Fourier-filtered time series')\n",
    "ii=0\n",
    "for peak in peaks_fourier:\n",
    "        if ii==0:\n",
    "            axs[3].axvline(time_series.index[peak], color='#EF767A', linestyle='--', linewidth=1.3)\n",
    "        else:\n",
    "            axs[3].axvline(time_series.index[peak], color='#EF767A', linestyle='--', linewidth=1.3)\n",
    "        ii+=1\n",
    "\n",
    "import datetime\n",
    "# axs[3].annotate('', xy=(datetime.datetime(2017, 5, 1), 136), xytext=(datetime.datetime(2018, 4, 1), 136), arrowprops=dict(arrowstyle='<->', color='black'))\n",
    "# plt.text(datetime.datetime(2017, 10, 15), 138, '12 months', horizontalalignment='center', verticalalignment='center', fontsize=20, fontweight='bold')\n",
    "\n",
    "# axs[3].annotate('', xy=(datetime.datetime(2017, 7, 1), 115), xytext=(datetime.datetime(2018, 1, 15), 115), arrowprops=dict(arrowstyle='<->', color='black'))\n",
    "# plt.text(datetime.datetime(2017, 10, 1), 117, '7 months', horizontalalignment='center', verticalalignment='center', fontsize=20, fontweight='bold')\n",
    "\n",
    "# axs[3].annotate('', xy=(datetime.datetime(2017, 2, 1), 95), xytext=(datetime.datetime(2017, 7, 1), 95), arrowprops=dict(arrowstyle='<->', color='black'))\n",
    "# plt.text(datetime.datetime(2017, 4, 1), 97, '5 months', horizontalalignment='center', verticalalignment='center', fontsize=20, fontweight='bold')\n",
    "\n",
    "axs[3].legend(fontsize=15, loc='best')\n",
    "# ax[1, 1].set_title('Fourier reconstruction'\n",
    "\n",
    "# fig.savefig('figures//non_seasonal_signal_new.png', dpi=300)\n",
    "\n",
    "# axs[0].text()"
   ]
  },
  {
   "cell_type": "code",
   "execution_count": 13,
   "metadata": {},
   "outputs": [
    {
     "data": {
      "text/plain": [
       "'#58508d'"
      ]
     },
     "execution_count": 13,
     "metadata": {},
     "output_type": "execute_result"
    }
   ],
   "source": [
    "# For legend\n",
    "dict_colours_labels = {'sw_monsoon': '#58508d',\n",
    "                        'ne_monsoon': '#bc5090', \n",
    "                        'transition_sw_ne': '#ffa600',\n",
    "                        'transition_ne_sw': '#ff6361',\n",
    "                        'undetermined': '#003f5c'}\n",
    "\n",
    "list(dict_colours_labels.values())[0]"
   ]
  },
  {
   "cell_type": "code",
   "execution_count": 36,
   "metadata": {},
   "outputs": [
    {
     "name": "stdout",
     "output_type": "stream",
     "text": [
      "Updating results maps...\n"
     ]
    },
    {
     "name": "stderr",
     "output_type": "stream",
     "text": [
      "  0%|          | 1/406 [00:00<00:55,  7.34it/s]"
     ]
    },
    {
     "name": "stdout",
     "output_type": "stream",
     "text": [
      "Could not retrieve information for Aakiraahuttaa in Maldives\n"
     ]
    },
    {
     "name": "stderr",
     "output_type": "stream",
     "text": [
      "  6%|▌         | 25/406 [00:12<02:27,  2.59it/s]"
     ]
    },
    {
     "name": "stdout",
     "output_type": "stream",
     "text": [
      "Could not retrieve information for Burunee in Maldives\n"
     ]
    },
    {
     "name": "stderr",
     "output_type": "stream",
     "text": [
      " 11%|█         | 44/406 [00:22<04:31,  1.33it/s]"
     ]
    }
   ],
   "source": [
    "import pandas as pd\n",
    "\n",
    "# Path to data\n",
    "path_to_data = os.path.join(os.getcwd(), 'data', 'info_islands')\n",
    "\n",
    "# Read file for islands to ignore\n",
    "df_islands_ignore = pd.read_excel('islands_to_ignore.xlsx')\n",
    "list_islands_ignore = df_islands_ignore['Island'].values\n",
    "\n",
    "print('Updating results maps...')\n",
    "\n",
    "for file in tqdm(os.listdir(path_to_data)):\n",
    "    island = file.split('_')[1] \n",
    "    country = file.split('_')[2].split('.')[0]\n",
    "\n",
    "    if island in list_islands_ignore:\n",
    "        continue\n",
    "\n",
    "    try:\n",
    "        island_info = retrieve_island_info(island, country, verbose=False)\n",
    "    \n",
    "    except:\n",
    "        print(f'Could not retrieve information for {island} in {country}')\n",
    "        continue"
   ]
  },
  {
   "cell_type": "code",
   "execution_count": 149,
   "metadata": {},
   "outputs": [],
   "source": [
    "from selenium import webdriver\n",
    "\n",
    "# Set up Selenium\n",
    "options = webdriver.ChromeOptions()\n",
    "options.add_argument('headless')  # To run Chrome in headless mode\n",
    "driver = webdriver.Chrome(options=options)\n",
    "\n",
    "# Open the HTML file in the browser\n",
    "driver.get(os.path.join(os.getcwd(), 'maps', 'results_islands_seasonality_minima.html'))  # Replace with the path to your HTML file\n",
    "# Wait for the map to load\n",
    "import time\n",
    "time.sleep(15)  # Adjust the time as needed\n",
    "\n",
    "# Take a screenshot\n",
    "driver.save_screenshot('maps//results_islands_seasonality_minima.png')\n",
    "\n",
    "# Close the browser\n",
    "driver.quit()"
   ]
  },
  {
   "cell_type": "code",
   "execution_count": null,
   "metadata": {},
   "outputs": [],
   "source": [
    "for file in tqdm(os.listdir(os.path.join(os.getcwd(), 'data', 'info_islands'))):\n",
    "    island = file.split('_')[1] \n",
    "    country = file.split('_')[2].split('.')[0]\n",
    "\n",
    "    if island == 'Dhigelaabadhoo' or island == 'Olhurataa':\n",
    "        continue\n",
    "    \n",
    "    try:\n",
    "        island_info = retrieve_island_info(island, country, verbose=False)\n",
    "    except:\n",
    "        print('Error with island:', island)\n",
    "        continue\n",
    "    if 'timeseries_analysis' in island_info.keys():\n",
    "        ts_analysis_results = island_info['timeseries_analysis']\n",
    "        # print(island)\n",
    "        if 'amplitude_seasonal_STL_absrange' in ts_analysis_results[list(ts_analysis_results.keys())[0]]['seasonality'].keys():\n",
    "            continue\n",
    "        else:\n",
    "            try:\n",
    "                island_info = Workflow(island, country, run_all=False, execute_segmentation=True, execute_preprocess=True, execute_analysis=True, update_maps=False).main()\n",
    "            except:\n",
    "                print('Error with island:', island)\n",
    "                continue\n",
    "    else:\n",
    "        continue"
   ]
  },
  {
   "cell_type": "code",
   "execution_count": null,
   "metadata": {},
   "outputs": [],
   "source": [
    "import matplotlib.pyplot as plt\n",
    "from matplotlib.colors import LinearSegmentedColormap\n",
    "\n",
    "# Get the Viridis colormap\n",
    "viridis_cmap = plt.get_cmap('viridis')\n",
    "\n",
    "# Number of colors to extract\n",
    "num_colors = 7\n",
    "\n",
    "# Sample the colormap at evenly spaced intervals\n",
    "colors = [viridis_cmap(i / (num_colors - 1)) for i in range(num_colors)]\n",
    "\n",
    "# Convert RGB colors to hexadecimal format (F code)\n",
    "hex_colors = [f\"#{int(color[0] * 255):02X}{int(color[1] * 255):02X}{int(color[2] * 255):02X}\" for color in colors]\n",
    "\n",
    "# Print the hexadecimal representation of the colors\n",
    "for i, hex_color in enumerate(hex_colors):\n",
    "    print(f\"Color {i + 1}: {hex_color}\")"
   ]
  },
  {
   "cell_type": "markdown",
   "metadata": {},
   "source": [
    "# Maps climate data"
   ]
  },
  {
   "cell_type": "code",
   "execution_count": 1,
   "metadata": {},
   "outputs": [],
   "source": [
    "import cdsapi\n",
    "import urllib.request\n",
    "import xarray as xr\n",
    "import osmnx as ox"
   ]
  },
  {
   "cell_type": "code",
   "execution_count": 3,
   "metadata": {},
   "outputs": [
    {
     "name": "stderr",
     "output_type": "stream",
     "text": [
      "2024-07-15 15:40:41,221 INFO Welcome to the CDS\n",
      "2024-07-15 15:40:41,223 INFO Sending request to https://cds.climate.copernicus.eu/api/v2/resources/reanalysis-era5-single-levels-monthly-means\n",
      "2024-07-15 15:40:41,635 INFO Request is queued\n",
      "2024-07-15 15:40:42,675 INFO Request is running\n",
      "2024-07-15 15:47:00,669 INFO Request is completed\n",
      "2024-07-15 15:47:00,705 INFO Welcome to the CDS\n",
      "2024-07-15 15:47:00,706 INFO Sending request to https://cds.climate.copernicus.eu/api/v2/resources/reanalysis-era5-single-levels-monthly-means\n",
      "2024-07-15 15:47:00,886 INFO Request is queued\n",
      "2024-07-15 15:47:01,926 INFO Request is running\n",
      "2024-07-15 15:48:54,647 INFO Request is completed\n"
     ]
    }
   ],
   "source": [
    "geometry_ox_country = ox.geocode_to_gdf('Maldives')\n",
    "area_country = [geometry_ox_country.bbox_north.values[0], \\\n",
    "                geometry_ox_country.bbox_west.values[0], \\\n",
    "                geometry_ox_country.bbox_south.values[0], \\\n",
    "                geometry_ox_country.bbox_east.values[0]]\n",
    "\n",
    "cds = cdsapi.Client(url=\"https://cds.climate.copernicus.eu/api/v2\", key=\"200721:d13b27b3-32f8-4315-a9c0-e65dc3eb6fdd\")\n",
    "\n",
    "# Query cdsapi request\n",
    "fl = cds.retrieve(\n",
    "    'reanalysis-era5-single-levels-monthly-means',\n",
    "    {\n",
    "        'format': 'netcdf',\n",
    "        'product_type': 'monthly_averaged_reanalysis',\n",
    "        'variable': ['10m_u_component_of_wind', '10m_v_component_of_wind',\n",
    "                        '2m_dewpoint_temperature', '2m_temperature', \n",
    "                        'soil_temperature_level_1', 'total_precipitation',\n",
    "                        'evaporation', 'sea_surface_temperature', 'mean_sea_level_pressure',\n",
    "        ],\n",
    "        'time': '00:00',\n",
    "        'year': [\n",
    "            '2010', '2011', '2012', \n",
    "            '2013', '2014', '2015',\n",
    "            '2016', '2017', '2018',\n",
    "            '2019', '2020', '2021',\n",
    "            '2022'\n",
    "        ],\n",
    "        'month': [\n",
    "            '01', '02', '03',\n",
    "            '04', '05', '06',\n",
    "            '07', '08', '09',\n",
    "            '10', '11', '12',\n",
    "        ],\n",
    "        'area': area_country,\n",
    "    })\n",
    "\n",
    "# Query cdsapi request\n",
    "fl_waves = cds.retrieve(\n",
    "    'reanalysis-era5-single-levels-monthly-means',\n",
    "    {\n",
    "        'format': 'netcdf',\n",
    "        'product_type': 'monthly_averaged_reanalysis',\n",
    "        'variable': ['mean_direction_of_total_swell', 'mean_direction_of_wind_waves', \n",
    "                        'mean_period_of_total_swell', 'mean_period_of_wind_waves', \n",
    "                        'mean_wave_direction', 'mean_wave_period',\n",
    "                        'significant_height_of_combined_wind_waves_and_swell',\n",
    "                        'significant_height_of_total_swell', 'significant_height_of_wind_waves',\n",
    "        ],\n",
    "        'time': '00:00',\n",
    "        'year': [\n",
    "            '2010', '2011', '2012', \n",
    "            '2013', '2014', '2015',\n",
    "            '2016', '2017', '2018',\n",
    "            '2019', '2020', '2021',\n",
    "            '2022'\n",
    "        ],\n",
    "        'month': [\n",
    "            '01', '02', '03',\n",
    "            '04', '05', '06',\n",
    "            '07', '08', '09',\n",
    "            '10', '11', '12',\n",
    "        ],\n",
    "        'area': area_country,\n",
    "    })"
   ]
  },
  {
   "cell_type": "code",
   "execution_count": 4,
   "metadata": {},
   "outputs": [],
   "source": [
    "# Open file as xarray dataset\n",
    "with urllib.request.urlopen(fl.location) as f:\n",
    "    data_ERA5 = xr.open_dataset(f.read())\n",
    "\n",
    "with urllib.request.urlopen(fl_waves.location) as f:\n",
    "    data_ERA5_waves = xr.open_dataset(f.read())"
   ]
  },
  {
   "cell_type": "code",
   "execution_count": 6,
   "metadata": {},
   "outputs": [],
   "source": [
    "huvadhu_atoll = ox.geocode_to_gdf('Huvadhu Atoll, Maldives')\n",
    "huvadhu_atoll_box = [huvadhu_atoll.bbox_north.values[0], \\\n",
    "                huvadhu_atoll.bbox_west.values[0], \\\n",
    "                huvadhu_atoll.bbox_south.values[0], \\\n",
    "                huvadhu_atoll.bbox_east.values[0]]"
   ]
  },
  {
   "cell_type": "code",
   "execution_count": 9,
   "metadata": {},
   "outputs": [
    {
     "data": {
      "text/plain": [
       "<matplotlib.collections.QuadMesh at 0x228b515d250>"
      ]
     },
     "execution_count": 9,
     "metadata": {},
     "output_type": "execute_result"
    }
   ],
   "source": [
    "data_ERA5_waves['mwd'].sel(time='2015-01-01').plot()"
   ]
  },
  {
   "cell_type": "code",
   "execution_count": 5,
   "metadata": {},
   "outputs": [],
   "source": [
    "clip_data_waves = data_ERA5_waves.sel(latitude=slice(1.50, 0.), longitude=slice(72.6, 74.))\n",
    "\n",
    "wave_height = clip_data_waves['swh']\n",
    "wave_period = clip_data_waves['mwp']\n",
    "\n",
    "# SI units\n",
    "rho =  1025 # kg/m^3\n",
    "g = 9.81 # m/s^2\n",
    "\n",
    "# Wave energy flux in watts per meter of wave front\n",
    "wave_energy = (rho * (g ** 2) * (wave_height ** 2) * wave_period) / (64 * np.pi)\n",
    "\n",
    "#clip_data_waves['wave_energy'] = wave_energy"
   ]
  },
  {
   "cell_type": "code",
   "execution_count": 6,
   "metadata": {},
   "outputs": [],
   "source": [
    "clip_data_waves['wave_energy'] = wave_energy"
   ]
  },
  {
   "cell_type": "code",
   "execution_count": 10,
   "metadata": {},
   "outputs": [
    {
     "data": {
      "text/plain": [
       "<Axes: title={'center': 'time = 2015-01-01'}, xlabel='longitude [degrees_east]', ylabel='latitude [degrees_north]'>"
      ]
     },
     "execution_count": 10,
     "metadata": {},
     "output_type": "execute_result"
    }
   ],
   "source": [
    "fig, ax = plt.subplots()\n",
    "clip_data_waves['wave_energy'].sel(time='2015-01-01').plot(ax=ax)\n",
    "huvadhu_atoll.plot(ax=ax, facecolor='none', edgecolor='black')"
   ]
  },
  {
   "cell_type": "code",
   "execution_count": 7,
   "metadata": {},
   "outputs": [],
   "source": [
    "list_datasets = []\n",
    "file_paths = os.path.join(os.getcwd(), 'data', 'copernicus_data')\n",
    "list_files = os.listdir(file_paths)\n",
    "\n",
    "for file in list_files:\n",
    "\n",
    "    ds = xr.open_dataset(os.path.join('data', 'copernicus_data', file))\n",
    "    list_datasets.append(ds)\n",
    "\n",
    "    ds.close()"
   ]
  },
  {
   "cell_type": "code",
   "execution_count": 8,
   "metadata": {},
   "outputs": [],
   "source": [
    "merged_dataset = xr.concat(list_datasets, dim='time')"
   ]
  },
  {
   "cell_type": "code",
   "execution_count": 20,
   "metadata": {},
   "outputs": [
    {
     "data": {
      "text/plain": [
       "<matplotlib.collections.QuadMesh at 0x228b62b7680>"
      ]
     },
     "execution_count": 20,
     "metadata": {},
     "output_type": "execute_result"
    }
   ],
   "source": [
    "fig, ax = plt.subplots()\n",
    "huvadhu_atoll.plot(ax=ax, facecolor='none', edgecolor='black')\n",
    "merged_dataset['sla'].sel(latitude=slice(0., 1.0), longitude=slice(72.6, 74.), time='2022-07-15').plot(ax=ax)\n"
   ]
  },
  {
   "cell_type": "code",
   "execution_count": 21,
   "metadata": {},
   "outputs": [
    {
     "ename": "ValueError",
     "evalue": "did not find a match in any of xarray's currently installed IO backends ['netcdf4', 'h5netcdf', 'scipy', 'pydap', 'zarr']. Consider explicitly selecting one of the installed engines via the ``engine`` parameter, or installing additional IO dependencies, see:\nhttps://docs.xarray.dev/en/stable/getting-started-guide/installing.html\nhttps://docs.xarray.dev/en/stable/user-guide/io.html",
     "output_type": "error",
     "traceback": [
      "\u001b[1;31m---------------------------------------------------------------------------\u001b[0m",
      "\u001b[1;31mValueError\u001b[0m                                Traceback (most recent call last)",
      "Cell \u001b[1;32mIn[21], line 6\u001b[0m\n\u001b[0;32m      3\u001b[0m file_paths \u001b[38;5;241m=\u001b[39m os\u001b[38;5;241m.\u001b[39mpath\u001b[38;5;241m.\u001b[39mjoin(os\u001b[38;5;241m.\u001b[39mgetcwd(), \u001b[38;5;124m'\u001b[39m\u001b[38;5;124mdata\u001b[39m\u001b[38;5;124m'\u001b[39m, \u001b[38;5;124m'\u001b[39m\u001b[38;5;124mcopernicus_data\u001b[39m\u001b[38;5;124m'\u001b[39m)\n\u001b[0;32m      5\u001b[0m \u001b[38;5;66;03m# Open each file as an xarray dataset\u001b[39;00m\n\u001b[1;32m----> 6\u001b[0m datasets \u001b[38;5;241m=\u001b[39m [\u001b[43mxr\u001b[49m\u001b[38;5;241;43m.\u001b[39;49m\u001b[43mopen_dataset\u001b[49m\u001b[43m(\u001b[49m\u001b[43mfile\u001b[49m\u001b[43m)\u001b[49m \u001b[38;5;28;01mfor\u001b[39;00m file \u001b[38;5;129;01min\u001b[39;00m file_paths]\n\u001b[0;32m      8\u001b[0m \u001b[38;5;66;03m# Concatenate along a specific dimension (e.g., time)\u001b[39;00m\n\u001b[0;32m      9\u001b[0m merged_dataset \u001b[38;5;241m=\u001b[39m xr\u001b[38;5;241m.\u001b[39mconcat(datasets, dim\u001b[38;5;241m=\u001b[39m\u001b[38;5;124m'\u001b[39m\u001b[38;5;124mtime\u001b[39m\u001b[38;5;124m'\u001b[39m)\n",
      "File \u001b[1;32mc:\\Users\\myriampe\\anaconda3\\envs\\IslandTimeEnv\\Lib\\site-packages\\xarray\\backends\\api.py:554\u001b[0m, in \u001b[0;36mopen_dataset\u001b[1;34m(filename_or_obj, engine, chunks, cache, decode_cf, mask_and_scale, decode_times, decode_timedelta, use_cftime, concat_characters, decode_coords, drop_variables, inline_array, chunked_array_type, from_array_kwargs, backend_kwargs, **kwargs)\u001b[0m\n\u001b[0;32m    551\u001b[0m     kwargs\u001b[38;5;241m.\u001b[39mupdate(backend_kwargs)\n\u001b[0;32m    553\u001b[0m \u001b[38;5;28;01mif\u001b[39;00m engine \u001b[38;5;129;01mis\u001b[39;00m \u001b[38;5;28;01mNone\u001b[39;00m:\n\u001b[1;32m--> 554\u001b[0m     engine \u001b[38;5;241m=\u001b[39m \u001b[43mplugins\u001b[49m\u001b[38;5;241;43m.\u001b[39;49m\u001b[43mguess_engine\u001b[49m\u001b[43m(\u001b[49m\u001b[43mfilename_or_obj\u001b[49m\u001b[43m)\u001b[49m\n\u001b[0;32m    556\u001b[0m \u001b[38;5;28;01mif\u001b[39;00m from_array_kwargs \u001b[38;5;129;01mis\u001b[39;00m \u001b[38;5;28;01mNone\u001b[39;00m:\n\u001b[0;32m    557\u001b[0m     from_array_kwargs \u001b[38;5;241m=\u001b[39m {}\n",
      "File \u001b[1;32mc:\\Users\\myriampe\\anaconda3\\envs\\IslandTimeEnv\\Lib\\site-packages\\xarray\\backends\\plugins.py:197\u001b[0m, in \u001b[0;36mguess_engine\u001b[1;34m(store_spec)\u001b[0m\n\u001b[0;32m    189\u001b[0m \u001b[38;5;28;01melse\u001b[39;00m:\n\u001b[0;32m    190\u001b[0m     error_msg \u001b[38;5;241m=\u001b[39m (\n\u001b[0;32m    191\u001b[0m         \u001b[38;5;124m\"\u001b[39m\u001b[38;5;124mfound the following matches with the input file in xarray\u001b[39m\u001b[38;5;124m'\u001b[39m\u001b[38;5;124ms IO \u001b[39m\u001b[38;5;124m\"\u001b[39m\n\u001b[0;32m    192\u001b[0m         \u001b[38;5;124mf\u001b[39m\u001b[38;5;124m\"\u001b[39m\u001b[38;5;124mbackends: \u001b[39m\u001b[38;5;132;01m{\u001b[39;00mcompatible_engines\u001b[38;5;132;01m}\u001b[39;00m\u001b[38;5;124m. But their dependencies may not be installed, see:\u001b[39m\u001b[38;5;130;01m\\n\u001b[39;00m\u001b[38;5;124m\"\u001b[39m\n\u001b[0;32m    193\u001b[0m         \u001b[38;5;124m\"\u001b[39m\u001b[38;5;124mhttps://docs.xarray.dev/en/stable/user-guide/io.html \u001b[39m\u001b[38;5;130;01m\\n\u001b[39;00m\u001b[38;5;124m\"\u001b[39m\n\u001b[0;32m    194\u001b[0m         \u001b[38;5;124m\"\u001b[39m\u001b[38;5;124mhttps://docs.xarray.dev/en/stable/getting-started-guide/installing.html\u001b[39m\u001b[38;5;124m\"\u001b[39m\n\u001b[0;32m    195\u001b[0m     )\n\u001b[1;32m--> 197\u001b[0m \u001b[38;5;28;01mraise\u001b[39;00m \u001b[38;5;167;01mValueError\u001b[39;00m(error_msg)\n",
      "\u001b[1;31mValueError\u001b[0m: did not find a match in any of xarray's currently installed IO backends ['netcdf4', 'h5netcdf', 'scipy', 'pydap', 'zarr']. Consider explicitly selecting one of the installed engines via the ``engine`` parameter, or installing additional IO dependencies, see:\nhttps://docs.xarray.dev/en/stable/getting-started-guide/installing.html\nhttps://docs.xarray.dev/en/stable/user-guide/io.html"
     ]
    }
   ],
   "source": [
    "# sea level\n",
    "# List of file paths to the .nc files you want to merge\n",
    "file_paths = os.path.join(os.getcwd(), 'data', 'copernicus_data')\n",
    "\n",
    "# Open each file as an xarray dataset\n",
    "datasets = [xr.open_dataset(file) for file in file_paths]\n",
    "\n",
    "# Concatenate along a specific dimension (e.g., time)\n",
    "merged_dataset = xr.concat(datasets, dim='time')\n",
    "\n",
    "# Save the merged dataset to a new .nc file\n",
    "# merged_dataset.to_netcdf('merged_file.nc')\n",
    "\n",
    "# Close the datasets\n",
    "for ds in datasets:\n",
    "    ds.close()"
   ]
  },
  {
   "cell_type": "code",
   "execution_count": 9,
   "metadata": {},
   "outputs": [],
   "source": [
    "wave_energy = clip_data_waves['wave_energy']\n",
    "wave_direction = clip_data_waves['mwd']\n",
    "sea_level = merged_dataset['sla']"
   ]
  },
  {
   "cell_type": "code",
   "execution_count": 24,
   "metadata": {},
   "outputs": [
    {
     "data": {
      "text/plain": [
       "<Axes: title={'center': 'time = 2015-01-01'}, xlabel='longitude [degrees_east]', ylabel='latitude [degrees_north]'>"
      ]
     },
     "execution_count": 24,
     "metadata": {},
     "output_type": "execute_result"
    }
   ],
   "source": [
    "fig, ax = plt.subplots()\n",
    "wave_energy.sel(time='2015-01-01').plot(ax=ax)\n",
    "huvadhu_atoll.plot(ax=ax)"
   ]
  },
  {
   "cell_type": "code",
   "execution_count": null,
   "metadata": {},
   "outputs": [],
   "source": [
    "# NE Monsoon: December to February\n",
    "# NE-SW Transition: March to April\n",
    "# SW Monsoon: May to September\n",
    "# SW-NE Transition: October to November"
   ]
  },
  {
   "cell_type": "code",
   "execution_count": 10,
   "metadata": {},
   "outputs": [],
   "source": [
    "import numpy as np\n",
    "import matplotlib.pyplot as plt\n",
    "import matplotlib.colors as mcolors\n",
    "\n",
    "# Sample data for wave direction and energy\n",
    "wave_energy = clip_data_waves['wave_energy'].values.flatten()\n",
    "wave_direction = clip_data_waves['mwd'].values.flatten() # Assuming wave_direction is already in degrees\n",
    "\n",
    "# Create subplots\n",
    "fig, ax = plt.subplots(subplot_kw={'projection': 'polar'})\n",
    "\n",
    "# Plot wave energy (bar plot)\n",
    "bars = ax.bar(np.radians(wave_direction), wave_energy, width=0.1, color='skyblue', alpha=0.7, label='Wave Energy')\n",
    "\n",
    "# Set the theta zero location and direction\n",
    "ax.set_theta_zero_location('N')\n",
    "ax.set_theta_direction(-1)\n",
    "\n",
    "# Adjust legend\n",
    "lines, labels = ax.get_legend_handles_labels()\n",
    "ax.legend(lines, labels, loc='upper right')\n",
    "\n",
    "plt.title('Wave Direction and Energy')\n",
    "plt.show()"
   ]
  },
  {
   "cell_type": "code",
   "execution_count": 27,
   "metadata": {},
   "outputs": [
    {
     "data": {
      "text/plain": [
       "<Axes: title={'center': 'time = 2010-06-01'}, xlabel='longitude [degrees_east]', ylabel='latitude [degrees_north]'>"
      ]
     },
     "execution_count": 27,
     "metadata": {},
     "output_type": "execute_result"
    }
   ],
   "source": [
    "fig, ax = plt.subplots()\n",
    "clip_data_waves['wave_energy'].isel(latitude=slice(0, 2), longitude=slice(0,2), time=5).plot(ax=ax)\n",
    "huvadhu_atoll.plot(ax=ax)"
   ]
  },
  {
   "cell_type": "code",
   "execution_count": 28,
   "metadata": {},
   "outputs": [],
   "source": [
    "import numpy as np\n",
    "import matplotlib.pyplot as plt\n",
    "import matplotlib.colors as mcolors\n",
    "\n",
    "idxx = 1\n",
    "idxy = 1\n",
    "\n",
    "# Sample data for wave direction and energy\n",
    "wave_energy = clip_data_waves['wave_energy'].isel(latitude=idxy, longitude=idxx).values.flatten()\n",
    "wave_direction = clip_data_waves['mwd'].isel(latitude=idxy, longitude=idxx).values.flatten() # Assuming wave_direction is already in degrees\n",
    "\n",
    "# Create subplots\n",
    "fig, ax = plt.subplots(subplot_kw={'projection': 'polar'})\n",
    "\n",
    "# Choose a colormap\n",
    "cmap = plt.get_cmap('plasma')  # You can choose any other colormap\n",
    "\n",
    "# Normalize wave energy values to range [0, 1]\n",
    "norm = mcolors.Normalize(vmin=min(wave_energy), vmax=max(wave_energy))\n",
    "\n",
    "# Plot wave energy using a colormap\n",
    "bars = ax.bar(np.radians(wave_direction), wave_energy, width=0.1, color=cmap(norm(wave_energy)), alpha=0.7, label='Wave Energy')\n",
    "\n",
    "# Add color bar for wave energy\n",
    "cbar = plt.colorbar(plt.cm.ScalarMappable(cmap=cmap, norm=norm), ax=ax, label='Wave Energy')\n",
    "\n",
    "# Set the theta zero location and direction\n",
    "ax.set_theta_zero_location('N')\n",
    "ax.set_theta_direction(-1)\n",
    "\n",
    "# Adjust legend\n",
    "#lines, labels = ax.get_legend_handles_labels()\n",
    "#ax.legend(lines, labels, loc='upper right')\n",
    "\n",
    "plt.title('Wave Direction and Energy')\n",
    "plt.show()"
   ]
  },
  {
   "cell_type": "code",
   "execution_count": 29,
   "metadata": {},
   "outputs": [
    {
     "data": {
      "text/html": [
       "<div><svg style=\"position: absolute; width: 0; height: 0; overflow: hidden\">\n",
       "<defs>\n",
       "<symbol id=\"icon-database\" viewBox=\"0 0 32 32\">\n",
       "<path d=\"M16 0c-8.837 0-16 2.239-16 5v4c0 2.761 7.163 5 16 5s16-2.239 16-5v-4c0-2.761-7.163-5-16-5z\"></path>\n",
       "<path d=\"M16 17c-8.837 0-16-2.239-16-5v6c0 2.761 7.163 5 16 5s16-2.239 16-5v-6c0 2.761-7.163 5-16 5z\"></path>\n",
       "<path d=\"M16 26c-8.837 0-16-2.239-16-5v6c0 2.761 7.163 5 16 5s16-2.239 16-5v-6c0 2.761-7.163 5-16 5z\"></path>\n",
       "</symbol>\n",
       "<symbol id=\"icon-file-text2\" viewBox=\"0 0 32 32\">\n",
       "<path d=\"M28.681 7.159c-0.694-0.947-1.662-2.053-2.724-3.116s-2.169-2.030-3.116-2.724c-1.612-1.182-2.393-1.319-2.841-1.319h-15.5c-1.378 0-2.5 1.121-2.5 2.5v27c0 1.378 1.122 2.5 2.5 2.5h23c1.378 0 2.5-1.122 2.5-2.5v-19.5c0-0.448-0.137-1.23-1.319-2.841zM24.543 5.457c0.959 0.959 1.712 1.825 2.268 2.543h-4.811v-4.811c0.718 0.556 1.584 1.309 2.543 2.268zM28 29.5c0 0.271-0.229 0.5-0.5 0.5h-23c-0.271 0-0.5-0.229-0.5-0.5v-27c0-0.271 0.229-0.5 0.5-0.5 0 0 15.499-0 15.5 0v7c0 0.552 0.448 1 1 1h7v19.5z\"></path>\n",
       "<path d=\"M23 26h-14c-0.552 0-1-0.448-1-1s0.448-1 1-1h14c0.552 0 1 0.448 1 1s-0.448 1-1 1z\"></path>\n",
       "<path d=\"M23 22h-14c-0.552 0-1-0.448-1-1s0.448-1 1-1h14c0.552 0 1 0.448 1 1s-0.448 1-1 1z\"></path>\n",
       "<path d=\"M23 18h-14c-0.552 0-1-0.448-1-1s0.448-1 1-1h14c0.552 0 1 0.448 1 1s-0.448 1-1 1z\"></path>\n",
       "</symbol>\n",
       "</defs>\n",
       "</svg>\n",
       "<style>/* CSS stylesheet for displaying xarray objects in jupyterlab.\n",
       " *\n",
       " */\n",
       "\n",
       ":root {\n",
       "  --xr-font-color0: var(--jp-content-font-color0, rgba(0, 0, 0, 1));\n",
       "  --xr-font-color2: var(--jp-content-font-color2, rgba(0, 0, 0, 0.54));\n",
       "  --xr-font-color3: var(--jp-content-font-color3, rgba(0, 0, 0, 0.38));\n",
       "  --xr-border-color: var(--jp-border-color2, #e0e0e0);\n",
       "  --xr-disabled-color: var(--jp-layout-color3, #bdbdbd);\n",
       "  --xr-background-color: var(--jp-layout-color0, white);\n",
       "  --xr-background-color-row-even: var(--jp-layout-color1, white);\n",
       "  --xr-background-color-row-odd: var(--jp-layout-color2, #eeeeee);\n",
       "}\n",
       "\n",
       "html[theme=dark],\n",
       "body[data-theme=dark],\n",
       "body.vscode-dark {\n",
       "  --xr-font-color0: rgba(255, 255, 255, 1);\n",
       "  --xr-font-color2: rgba(255, 255, 255, 0.54);\n",
       "  --xr-font-color3: rgba(255, 255, 255, 0.38);\n",
       "  --xr-border-color: #1F1F1F;\n",
       "  --xr-disabled-color: #515151;\n",
       "  --xr-background-color: #111111;\n",
       "  --xr-background-color-row-even: #111111;\n",
       "  --xr-background-color-row-odd: #313131;\n",
       "}\n",
       "\n",
       ".xr-wrap {\n",
       "  display: block !important;\n",
       "  min-width: 300px;\n",
       "  max-width: 700px;\n",
       "}\n",
       "\n",
       ".xr-text-repr-fallback {\n",
       "  /* fallback to plain text repr when CSS is not injected (untrusted notebook) */\n",
       "  display: none;\n",
       "}\n",
       "\n",
       ".xr-header {\n",
       "  padding-top: 6px;\n",
       "  padding-bottom: 6px;\n",
       "  margin-bottom: 4px;\n",
       "  border-bottom: solid 1px var(--xr-border-color);\n",
       "}\n",
       "\n",
       ".xr-header > div,\n",
       ".xr-header > ul {\n",
       "  display: inline;\n",
       "  margin-top: 0;\n",
       "  margin-bottom: 0;\n",
       "}\n",
       "\n",
       ".xr-obj-type,\n",
       ".xr-array-name {\n",
       "  margin-left: 2px;\n",
       "  margin-right: 10px;\n",
       "}\n",
       "\n",
       ".xr-obj-type {\n",
       "  color: var(--xr-font-color2);\n",
       "}\n",
       "\n",
       ".xr-sections {\n",
       "  padding-left: 0 !important;\n",
       "  display: grid;\n",
       "  grid-template-columns: 150px auto auto 1fr 20px 20px;\n",
       "}\n",
       "\n",
       ".xr-section-item {\n",
       "  display: contents;\n",
       "}\n",
       "\n",
       ".xr-section-item input {\n",
       "  display: none;\n",
       "}\n",
       "\n",
       ".xr-section-item input + label {\n",
       "  color: var(--xr-disabled-color);\n",
       "}\n",
       "\n",
       ".xr-section-item input:enabled + label {\n",
       "  cursor: pointer;\n",
       "  color: var(--xr-font-color2);\n",
       "}\n",
       "\n",
       ".xr-section-item input:enabled + label:hover {\n",
       "  color: var(--xr-font-color0);\n",
       "}\n",
       "\n",
       ".xr-section-summary {\n",
       "  grid-column: 1;\n",
       "  color: var(--xr-font-color2);\n",
       "  font-weight: 500;\n",
       "}\n",
       "\n",
       ".xr-section-summary > span {\n",
       "  display: inline-block;\n",
       "  padding-left: 0.5em;\n",
       "}\n",
       "\n",
       ".xr-section-summary-in:disabled + label {\n",
       "  color: var(--xr-font-color2);\n",
       "}\n",
       "\n",
       ".xr-section-summary-in + label:before {\n",
       "  display: inline-block;\n",
       "  content: '►';\n",
       "  font-size: 11px;\n",
       "  width: 15px;\n",
       "  text-align: center;\n",
       "}\n",
       "\n",
       ".xr-section-summary-in:disabled + label:before {\n",
       "  color: var(--xr-disabled-color);\n",
       "}\n",
       "\n",
       ".xr-section-summary-in:checked + label:before {\n",
       "  content: '▼';\n",
       "}\n",
       "\n",
       ".xr-section-summary-in:checked + label > span {\n",
       "  display: none;\n",
       "}\n",
       "\n",
       ".xr-section-summary,\n",
       ".xr-section-inline-details {\n",
       "  padding-top: 4px;\n",
       "  padding-bottom: 4px;\n",
       "}\n",
       "\n",
       ".xr-section-inline-details {\n",
       "  grid-column: 2 / -1;\n",
       "}\n",
       "\n",
       ".xr-section-details {\n",
       "  display: none;\n",
       "  grid-column: 1 / -1;\n",
       "  margin-bottom: 5px;\n",
       "}\n",
       "\n",
       ".xr-section-summary-in:checked ~ .xr-section-details {\n",
       "  display: contents;\n",
       "}\n",
       "\n",
       ".xr-array-wrap {\n",
       "  grid-column: 1 / -1;\n",
       "  display: grid;\n",
       "  grid-template-columns: 20px auto;\n",
       "}\n",
       "\n",
       ".xr-array-wrap > label {\n",
       "  grid-column: 1;\n",
       "  vertical-align: top;\n",
       "}\n",
       "\n",
       ".xr-preview {\n",
       "  color: var(--xr-font-color3);\n",
       "}\n",
       "\n",
       ".xr-array-preview,\n",
       ".xr-array-data {\n",
       "  padding: 0 5px !important;\n",
       "  grid-column: 2;\n",
       "}\n",
       "\n",
       ".xr-array-data,\n",
       ".xr-array-in:checked ~ .xr-array-preview {\n",
       "  display: none;\n",
       "}\n",
       "\n",
       ".xr-array-in:checked ~ .xr-array-data,\n",
       ".xr-array-preview {\n",
       "  display: inline-block;\n",
       "}\n",
       "\n",
       ".xr-dim-list {\n",
       "  display: inline-block !important;\n",
       "  list-style: none;\n",
       "  padding: 0 !important;\n",
       "  margin: 0;\n",
       "}\n",
       "\n",
       ".xr-dim-list li {\n",
       "  display: inline-block;\n",
       "  padding: 0;\n",
       "  margin: 0;\n",
       "}\n",
       "\n",
       ".xr-dim-list:before {\n",
       "  content: '(';\n",
       "}\n",
       "\n",
       ".xr-dim-list:after {\n",
       "  content: ')';\n",
       "}\n",
       "\n",
       ".xr-dim-list li:not(:last-child):after {\n",
       "  content: ',';\n",
       "  padding-right: 5px;\n",
       "}\n",
       "\n",
       ".xr-has-index {\n",
       "  font-weight: bold;\n",
       "}\n",
       "\n",
       ".xr-var-list,\n",
       ".xr-var-item {\n",
       "  display: contents;\n",
       "}\n",
       "\n",
       ".xr-var-item > div,\n",
       ".xr-var-item label,\n",
       ".xr-var-item > .xr-var-name span {\n",
       "  background-color: var(--xr-background-color-row-even);\n",
       "  margin-bottom: 0;\n",
       "}\n",
       "\n",
       ".xr-var-item > .xr-var-name:hover span {\n",
       "  padding-right: 5px;\n",
       "}\n",
       "\n",
       ".xr-var-list > li:nth-child(odd) > div,\n",
       ".xr-var-list > li:nth-child(odd) > label,\n",
       ".xr-var-list > li:nth-child(odd) > .xr-var-name span {\n",
       "  background-color: var(--xr-background-color-row-odd);\n",
       "}\n",
       "\n",
       ".xr-var-name {\n",
       "  grid-column: 1;\n",
       "}\n",
       "\n",
       ".xr-var-dims {\n",
       "  grid-column: 2;\n",
       "}\n",
       "\n",
       ".xr-var-dtype {\n",
       "  grid-column: 3;\n",
       "  text-align: right;\n",
       "  color: var(--xr-font-color2);\n",
       "}\n",
       "\n",
       ".xr-var-preview {\n",
       "  grid-column: 4;\n",
       "}\n",
       "\n",
       ".xr-index-preview {\n",
       "  grid-column: 2 / 5;\n",
       "  color: var(--xr-font-color2);\n",
       "}\n",
       "\n",
       ".xr-var-name,\n",
       ".xr-var-dims,\n",
       ".xr-var-dtype,\n",
       ".xr-preview,\n",
       ".xr-attrs dt {\n",
       "  white-space: nowrap;\n",
       "  overflow: hidden;\n",
       "  text-overflow: ellipsis;\n",
       "  padding-right: 10px;\n",
       "}\n",
       "\n",
       ".xr-var-name:hover,\n",
       ".xr-var-dims:hover,\n",
       ".xr-var-dtype:hover,\n",
       ".xr-attrs dt:hover {\n",
       "  overflow: visible;\n",
       "  width: auto;\n",
       "  z-index: 1;\n",
       "}\n",
       "\n",
       ".xr-var-attrs,\n",
       ".xr-var-data,\n",
       ".xr-index-data {\n",
       "  display: none;\n",
       "  background-color: var(--xr-background-color) !important;\n",
       "  padding-bottom: 5px !important;\n",
       "}\n",
       "\n",
       ".xr-var-attrs-in:checked ~ .xr-var-attrs,\n",
       ".xr-var-data-in:checked ~ .xr-var-data,\n",
       ".xr-index-data-in:checked ~ .xr-index-data {\n",
       "  display: block;\n",
       "}\n",
       "\n",
       ".xr-var-data > table {\n",
       "  float: right;\n",
       "}\n",
       "\n",
       ".xr-var-name span,\n",
       ".xr-var-data,\n",
       ".xr-index-name div,\n",
       ".xr-index-data,\n",
       ".xr-attrs {\n",
       "  padding-left: 25px !important;\n",
       "}\n",
       "\n",
       ".xr-attrs,\n",
       ".xr-var-attrs,\n",
       ".xr-var-data,\n",
       ".xr-index-data {\n",
       "  grid-column: 1 / -1;\n",
       "}\n",
       "\n",
       "dl.xr-attrs {\n",
       "  padding: 0;\n",
       "  margin: 0;\n",
       "  display: grid;\n",
       "  grid-template-columns: 125px auto;\n",
       "}\n",
       "\n",
       ".xr-attrs dt,\n",
       ".xr-attrs dd {\n",
       "  padding: 0;\n",
       "  margin: 0;\n",
       "  float: left;\n",
       "  padding-right: 10px;\n",
       "  width: auto;\n",
       "}\n",
       "\n",
       ".xr-attrs dt {\n",
       "  font-weight: normal;\n",
       "  grid-column: 1;\n",
       "}\n",
       "\n",
       ".xr-attrs dt:hover span {\n",
       "  display: inline-block;\n",
       "  background: var(--xr-background-color);\n",
       "  padding-right: 10px;\n",
       "}\n",
       "\n",
       ".xr-attrs dd {\n",
       "  grid-column: 2;\n",
       "  white-space: pre-wrap;\n",
       "  word-break: break-all;\n",
       "}\n",
       "\n",
       ".xr-icon-database,\n",
       ".xr-icon-file-text2,\n",
       ".xr-no-icon {\n",
       "  display: inline-block;\n",
       "  vertical-align: middle;\n",
       "  width: 1em;\n",
       "  height: 1.5em !important;\n",
       "  stroke-width: 0;\n",
       "  stroke: currentColor;\n",
       "  fill: currentColor;\n",
       "}\n",
       "</style><pre class='xr-text-repr-fallback'>&lt;xarray.DataArray &#x27;wave_energy&#x27; (time: 26)&gt; Size: 104B\n",
       "array([3489.3508, 4391.886 , 3124.0706, 3514.175 , 3490.5405, 3346.449 ,\n",
       "       2979.1653, 3107.802 , 2906.5706, 3955.991 , 2953.9219, 3641.015 ,\n",
       "       2787.0837, 5241.4614, 3531.147 , 3676.1902, 3636.993 , 3402.801 ,\n",
       "       3240.2876, 3404.3054, 3055.867 , 3511.7139, 3252.9915, 4944.2266,\n",
       "       2848.115 , 3955.1824], dtype=float32)\n",
       "Coordinates:\n",
       "    longitude  float32 4B 73.36\n",
       "    latitude   float32 4B 0.593\n",
       "  * time       (time) datetime64[ns] 208B 2010-04-01 2010-11-01 ... 2022-11-01</pre><div class='xr-wrap' style='display:none'><div class='xr-header'><div class='xr-obj-type'>xarray.DataArray</div><div class='xr-array-name'>'wave_energy'</div><ul class='xr-dim-list'><li><span class='xr-has-index'>time</span>: 26</li></ul></div><ul class='xr-sections'><li class='xr-section-item'><div class='xr-array-wrap'><input id='section-bff038ff-e890-4de0-8ff2-231d8951e1c4' class='xr-array-in' type='checkbox' checked><label for='section-bff038ff-e890-4de0-8ff2-231d8951e1c4' title='Show/hide data repr'><svg class='icon xr-icon-database'><use xlink:href='#icon-database'></use></svg></label><div class='xr-array-preview xr-preview'><span>3.489e+03 4.392e+03 3.124e+03 ... 4.944e+03 2.848e+03 3.955e+03</span></div><div class='xr-array-data'><pre>array([3489.3508, 4391.886 , 3124.0706, 3514.175 , 3490.5405, 3346.449 ,\n",
       "       2979.1653, 3107.802 , 2906.5706, 3955.991 , 2953.9219, 3641.015 ,\n",
       "       2787.0837, 5241.4614, 3531.147 , 3676.1902, 3636.993 , 3402.801 ,\n",
       "       3240.2876, 3404.3054, 3055.867 , 3511.7139, 3252.9915, 4944.2266,\n",
       "       2848.115 , 3955.1824], dtype=float32)</pre></div></div></li><li class='xr-section-item'><input id='section-2f0f9c21-5ab5-498a-8544-61d80c6fde4a' class='xr-section-summary-in' type='checkbox'  checked><label for='section-2f0f9c21-5ab5-498a-8544-61d80c6fde4a' class='xr-section-summary' >Coordinates: <span>(3)</span></label><div class='xr-section-inline-details'></div><div class='xr-section-details'><ul class='xr-var-list'><li class='xr-var-item'><div class='xr-var-name'><span>longitude</span></div><div class='xr-var-dims'>()</div><div class='xr-var-dtype'>float32</div><div class='xr-var-preview xr-preview'>73.36</div><input id='attrs-1a781992-a434-420a-935d-d69f20df6d69' class='xr-var-attrs-in' type='checkbox' ><label for='attrs-1a781992-a434-420a-935d-d69f20df6d69' title='Show/Hide attributes'><svg class='icon xr-icon-file-text2'><use xlink:href='#icon-file-text2'></use></svg></label><input id='data-70f3048a-ee5c-40cb-9df1-31ef4c608c1d' class='xr-var-data-in' type='checkbox'><label for='data-70f3048a-ee5c-40cb-9df1-31ef4c608c1d' title='Show/Hide data repr'><svg class='icon xr-icon-database'><use xlink:href='#icon-database'></use></svg></label><div class='xr-var-attrs'><dl class='xr-attrs'><dt><span>units :</span></dt><dd>degrees_east</dd><dt><span>long_name :</span></dt><dd>longitude</dd></dl></div><div class='xr-var-data'><pre>array(73.35567, dtype=float32)</pre></div></li><li class='xr-var-item'><div class='xr-var-name'><span>latitude</span></div><div class='xr-var-dims'>()</div><div class='xr-var-dtype'>float32</div><div class='xr-var-preview xr-preview'>0.593</div><input id='attrs-5a60b8f5-7bef-4135-97a9-69af98cc4e73' class='xr-var-attrs-in' type='checkbox' ><label for='attrs-5a60b8f5-7bef-4135-97a9-69af98cc4e73' title='Show/Hide attributes'><svg class='icon xr-icon-file-text2'><use xlink:href='#icon-file-text2'></use></svg></label><input id='data-fa3c2547-59f6-41d3-b5d0-0e0025e642bd' class='xr-var-data-in' type='checkbox'><label for='data-fa3c2547-59f6-41d3-b5d0-0e0025e642bd' title='Show/Hide data repr'><svg class='icon xr-icon-database'><use xlink:href='#icon-database'></use></svg></label><div class='xr-var-attrs'><dl class='xr-attrs'><dt><span>units :</span></dt><dd>degrees_north</dd><dt><span>long_name :</span></dt><dd>latitude</dd></dl></div><div class='xr-var-data'><pre>array(0.593, dtype=float32)</pre></div></li><li class='xr-var-item'><div class='xr-var-name'><span class='xr-has-index'>time</span></div><div class='xr-var-dims'>(time)</div><div class='xr-var-dtype'>datetime64[ns]</div><div class='xr-var-preview xr-preview'>2010-04-01 ... 2022-11-01</div><input id='attrs-5e4a1607-fcc4-42d8-af94-c96574c794c5' class='xr-var-attrs-in' type='checkbox' ><label for='attrs-5e4a1607-fcc4-42d8-af94-c96574c794c5' title='Show/Hide attributes'><svg class='icon xr-icon-file-text2'><use xlink:href='#icon-file-text2'></use></svg></label><input id='data-c4f34681-292d-4738-9aaa-747962dccc11' class='xr-var-data-in' type='checkbox'><label for='data-c4f34681-292d-4738-9aaa-747962dccc11' title='Show/Hide data repr'><svg class='icon xr-icon-database'><use xlink:href='#icon-database'></use></svg></label><div class='xr-var-attrs'><dl class='xr-attrs'><dt><span>long_name :</span></dt><dd>time</dd></dl></div><div class='xr-var-data'><pre>array([&#x27;2010-04-01T00:00:00.000000000&#x27;, &#x27;2010-11-01T00:00:00.000000000&#x27;,\n",
       "       &#x27;2011-04-01T00:00:00.000000000&#x27;, &#x27;2011-11-01T00:00:00.000000000&#x27;,\n",
       "       &#x27;2012-04-01T00:00:00.000000000&#x27;, &#x27;2012-11-01T00:00:00.000000000&#x27;,\n",
       "       &#x27;2013-04-01T00:00:00.000000000&#x27;, &#x27;2013-11-01T00:00:00.000000000&#x27;,\n",
       "       &#x27;2014-04-01T00:00:00.000000000&#x27;, &#x27;2014-11-01T00:00:00.000000000&#x27;,\n",
       "       &#x27;2015-04-01T00:00:00.000000000&#x27;, &#x27;2015-11-01T00:00:00.000000000&#x27;,\n",
       "       &#x27;2016-04-01T00:00:00.000000000&#x27;, &#x27;2016-11-01T00:00:00.000000000&#x27;,\n",
       "       &#x27;2017-04-01T00:00:00.000000000&#x27;, &#x27;2017-11-01T00:00:00.000000000&#x27;,\n",
       "       &#x27;2018-04-01T00:00:00.000000000&#x27;, &#x27;2018-11-01T00:00:00.000000000&#x27;,\n",
       "       &#x27;2019-04-01T00:00:00.000000000&#x27;, &#x27;2019-11-01T00:00:00.000000000&#x27;,\n",
       "       &#x27;2020-04-01T00:00:00.000000000&#x27;, &#x27;2020-11-01T00:00:00.000000000&#x27;,\n",
       "       &#x27;2021-04-01T00:00:00.000000000&#x27;, &#x27;2021-11-01T00:00:00.000000000&#x27;,\n",
       "       &#x27;2022-04-01T00:00:00.000000000&#x27;, &#x27;2022-11-01T00:00:00.000000000&#x27;],\n",
       "      dtype=&#x27;datetime64[ns]&#x27;)</pre></div></li></ul></div></li><li class='xr-section-item'><input id='section-f0c71318-0cd1-4998-86ac-86fc51102c97' class='xr-section-summary-in' type='checkbox'  ><label for='section-f0c71318-0cd1-4998-86ac-86fc51102c97' class='xr-section-summary' >Indexes: <span>(1)</span></label><div class='xr-section-inline-details'></div><div class='xr-section-details'><ul class='xr-var-list'><li class='xr-var-item'><div class='xr-index-name'><div>time</div></div><div class='xr-index-preview'>PandasIndex</div><div></div><input id='index-4677e730-b5fb-4433-9be9-34fbbd5aa6bc' class='xr-index-data-in' type='checkbox'/><label for='index-4677e730-b5fb-4433-9be9-34fbbd5aa6bc' title='Show/Hide index repr'><svg class='icon xr-icon-database'><use xlink:href='#icon-database'></use></svg></label><div class='xr-index-data'><pre>PandasIndex(DatetimeIndex([&#x27;2010-04-01&#x27;, &#x27;2010-11-01&#x27;, &#x27;2011-04-01&#x27;, &#x27;2011-11-01&#x27;,\n",
       "               &#x27;2012-04-01&#x27;, &#x27;2012-11-01&#x27;, &#x27;2013-04-01&#x27;, &#x27;2013-11-01&#x27;,\n",
       "               &#x27;2014-04-01&#x27;, &#x27;2014-11-01&#x27;, &#x27;2015-04-01&#x27;, &#x27;2015-11-01&#x27;,\n",
       "               &#x27;2016-04-01&#x27;, &#x27;2016-11-01&#x27;, &#x27;2017-04-01&#x27;, &#x27;2017-11-01&#x27;,\n",
       "               &#x27;2018-04-01&#x27;, &#x27;2018-11-01&#x27;, &#x27;2019-04-01&#x27;, &#x27;2019-11-01&#x27;,\n",
       "               &#x27;2020-04-01&#x27;, &#x27;2020-11-01&#x27;, &#x27;2021-04-01&#x27;, &#x27;2021-11-01&#x27;,\n",
       "               &#x27;2022-04-01&#x27;, &#x27;2022-11-01&#x27;],\n",
       "              dtype=&#x27;datetime64[ns]&#x27;, name=&#x27;time&#x27;, freq=None))</pre></div></li></ul></div></li><li class='xr-section-item'><input id='section-d10fb248-b06d-4543-a357-a398f9744c9b' class='xr-section-summary-in' type='checkbox' disabled ><label for='section-d10fb248-b06d-4543-a357-a398f9744c9b' class='xr-section-summary'  title='Expand/collapse section'>Attributes: <span>(0)</span></label><div class='xr-section-inline-details'></div><div class='xr-section-details'><dl class='xr-attrs'></dl></div></li></ul></div></div>"
      ],
      "text/plain": [
       "<xarray.DataArray 'wave_energy' (time: 26)> Size: 104B\n",
       "array([3489.3508, 4391.886 , 3124.0706, 3514.175 , 3490.5405, 3346.449 ,\n",
       "       2979.1653, 3107.802 , 2906.5706, 3955.991 , 2953.9219, 3641.015 ,\n",
       "       2787.0837, 5241.4614, 3531.147 , 3676.1902, 3636.993 , 3402.801 ,\n",
       "       3240.2876, 3404.3054, 3055.867 , 3511.7139, 3252.9915, 4944.2266,\n",
       "       2848.115 , 3955.1824], dtype=float32)\n",
       "Coordinates:\n",
       "    longitude  float32 4B 73.36\n",
       "    latitude   float32 4B 0.593\n",
       "  * time       (time) datetime64[ns] 208B 2010-04-01 2010-11-01 ... 2022-11-01"
      ]
     },
     "execution_count": 29,
     "metadata": {},
     "output_type": "execute_result"
    }
   ],
   "source": [
    "clip_data_waves['wave_energy'].isel(latitude=idxy, longitude=idxx).sel(time=clip_data_waves['wave_energy'].time.dt.month.isin([4, 11]))"
   ]
  },
  {
   "cell_type": "code",
   "execution_count": 30,
   "metadata": {},
   "outputs": [],
   "source": [
    "import numpy as np\n",
    "import matplotlib.pyplot as plt\n",
    "import matplotlib.colors as mcolors\n",
    "\n",
    "# Define the values for idxx and idxy\n",
    "idxx_values = [0, 1, 2]\n",
    "idxy_values = [0, 1, 2]\n",
    "\n",
    "# Create a figure and axes for the joint plot\n",
    "fig, axs = plt.subplots(3, 3, subplot_kw={'projection': 'polar'})\n",
    "\n",
    "# Choose a common colormap for all subplots\n",
    "cmap = plt.get_cmap('plasma')\n",
    "\n",
    "# Normalize wave energy values to range [0, 1]\n",
    "global_min_wave_energy = float('inf')\n",
    "global_max_wave_energy = float('-inf')\n",
    "\n",
    "# Iterate over idxx and idxy values to create the subplots\n",
    "for idxx in idxx_values:\n",
    "    for idxy in idxy_values:\n",
    "        # Sample data for wave direction and energy\n",
    "        wave_energy_ne_monsoon = clip_data_waves['wave_energy'].isel(latitude=idxy, longitude=idxx).sel(time=clip_data_waves['wave_energy'].time.dt.month.isin([1, 2, 3, 12])).values.flatten()\n",
    "        wave_direction_ne_monsoon = clip_data_waves['mwd'].isel(latitude=idxy, longitude=idxx).sel(time=clip_data_waves['wave_energy'].time.dt.month.isin([1, 2, 3, 12])).values.flatten() # Assuming wave_direction is already in degrees\n",
    "\n",
    "        wave_energy_sw_monsoon = clip_data_waves['wave_energy'].isel(latitude=idxy, longitude=idxx).sel(time=clip_data_waves['wave_energy'].time.dt.month.isin([4, 5, 6, 7, 8, 9, 10, 11])).values.flatten()\n",
    "        wave_direction_sw_monsoon = clip_data_waves['mwd'].isel(latitude=idxy, longitude=idxx).sel(time=clip_data_waves['wave_energy'].time.dt.month.isin([4, 5, 6, 7, 8, 9, 10, 11])).values.flatten() # Assuming wave_direction is already in degrees\n",
    "\n",
    "        # Calculate global min and max for wave_energy\n",
    "        local_min_wave_energy = np.min(wave_energy)\n",
    "        local_max_wave_energy = np.max(wave_energy)\n",
    "        if local_min_wave_energy < global_min_wave_energy:\n",
    "            global_min_wave_energy = local_min_wave_energy\n",
    "        if local_max_wave_energy > global_max_wave_energy:\n",
    "            global_max_wave_energy = local_max_wave_energy\n",
    "\n",
    "        # Plot wave energy using a colormap\n",
    "        ax = axs[idxy, idxx]\n",
    "        bars = ax.bar(np.radians(wave_direction), wave_energy, width=0.1, color=cmap((wave_energy - global_min_wave_energy) / (global_max_wave_energy - global_min_wave_energy)), alpha=0.7, label='Wave Energy')\n",
    "\n",
    "        # Set the theta zero location and direction\n",
    "        ax.set_theta_zero_location('N')\n",
    "        ax.set_theta_direction(-1)\n",
    "\n",
    "# Add a common color bar for wave energy\n",
    "norm = mcolors.Normalize(vmin=global_min_wave_energy, vmax=global_max_wave_energy)\n",
    "cbar = fig.colorbar(plt.cm.ScalarMappable(cmap=cmap, norm=norm), ax=axs, orientation='vertical', label='Wave Energy')\n",
    "\n",
    "# Adjust layout\n",
    "#plt.tight_layout()\n",
    "\n",
    "plt.show()"
   ]
  },
  {
   "cell_type": "code",
   "execution_count": 47,
   "metadata": {},
   "outputs": [
    {
     "name": "stdout",
     "output_type": "stream",
     "text": [
      "\n"
     ]
    }
   ],
   "source": [
    "import pandas as pd\n",
    "d = wave_energy.sel(latitude=0.5, longitude=73.1, method='nearest').time[0].values\n",
    "# transform d from numpy.datetime64 to datetime\n",
    "d = pd.to_datetime(d)\n",
    "\n",
    "ow = rb.beast(wave_energy.sel(latitude=0.5, longitude=73.1, method='nearest').values, start = [d.year, d.month, d.day], season='monthly', deltat='1/12 year', quiet=True, print_progress=False)\n",
    "# rb.plot(o)\n",
    "\n"
   ]
  },
  {
   "cell_type": "code",
   "execution_count": 16,
   "metadata": {},
   "outputs": [
    {
     "name": "stdout",
     "output_type": "stream",
     "text": [
      "\n"
     ]
    },
    {
     "data": {
      "text/plain": [
       "(<Figure size 640x480 with 9 Axes>,\n",
       " array([<Axes: xlabel='[]', ylabel='Y'>,\n",
       "        <Axes: xlabel='[]', ylabel='season'>,\n",
       "        <Axes: xlabel='[]', ylabel='Pr(scp)'>,\n",
       "        <Axes: xlabel='[]', ylabel='sOrder'>,\n",
       "        <Axes: xlabel='[]', ylabel='trend'>,\n",
       "        <Axes: xlabel='[]', ylabel='Pr(tcp)'>,\n",
       "        <Axes: xlabel='[]', ylabel='tOrder'>,\n",
       "        <Axes: xlabel='[]', ylabel='slpsgn'>,\n",
       "        <Axes: xlabel='time', ylabel='error'>], dtype=object))"
      ]
     },
     "execution_count": 16,
     "metadata": {},
     "output_type": "execute_result"
    }
   ],
   "source": [
    "import pandas as pd\n",
    "d = sea_level.sel(latitude=0.5, longitude=73.1, method='nearest').time[0].values\n",
    "# transform d from numpy.datetime64 to datetime\n",
    "d = pd.to_datetime(d)\n",
    "\n",
    "o = rb.beast(sea_level.sel(latitude=0.5, longitude=73.1, method='nearest').values, start = [d.year, d.month, d.day], season='monthly', deltat='1/12 year', quiet=True, print_progress=False)\n",
    "rb.plot(o)\n",
    "\n",
    "# plt.plot(sea_level.sel(latitude=0.5, longitude=73.1, method='nearest').time, o.season.Y)"
   ]
  },
  {
   "cell_type": "code",
   "execution_count": 53,
   "metadata": {},
   "outputs": [
    {
     "data": {
      "text/plain": [
       "(15706.0, 19357.0)"
      ]
     },
     "execution_count": 53,
     "metadata": {},
     "output_type": "execute_result"
    }
   ],
   "source": [
    "# function to normalise between 0 and 1\n",
    "def normalise(data):\n",
    "    return (data - np.min(data)) / (np.max(data) - np.min(data))\n",
    "\n",
    "plt.figure()\n",
    "plt.plot(sea_level.sel(latitude=0.5, longitude=73.1, method='nearest').time, normalise(o.season.Y))\n",
    "plt.plot(wave_energy.sel(latitude=0.5, longitude=73.1, method='nearest').time, normalise(ow.season.Y))\n",
    "plt.xlim(datetime(2013, 1, 1), datetime(2022, 12, 31))"
   ]
  },
  {
   "cell_type": "code",
   "execution_count": 15,
   "metadata": {},
   "outputs": [
    {
     "ename": "NameError",
     "evalue": "name 'we' is not defined",
     "output_type": "error",
     "traceback": [
      "\u001b[1;31m---------------------------------------------------------------------------\u001b[0m",
      "\u001b[1;31mNameError\u001b[0m                                 Traceback (most recent call last)",
      "Cell \u001b[1;32mIn[15], line 26\u001b[0m\n\u001b[0;32m     22\u001b[0m \u001b[38;5;28;01mfor\u001b[39;00m idxx \u001b[38;5;129;01min\u001b[39;00m idxx_values:\n\u001b[0;32m     23\u001b[0m     \u001b[38;5;28;01mfor\u001b[39;00m idxy \u001b[38;5;129;01min\u001b[39;00m idxy_values:\n\u001b[0;32m     24\u001b[0m         \u001b[38;5;66;03m# Sample data for wave direction and energy for NE monsoon (January, February, March, December)\u001b[39;00m\n\u001b[0;32m     25\u001b[0m         \u001b[38;5;66;03m# we = wave_energy.isel(latitude=idxy, longitude=idxx)\u001b[39;00m\n\u001b[1;32m---> 26\u001b[0m         lat \u001b[38;5;241m=\u001b[39m \u001b[43mwe\u001b[49m\u001b[38;5;241m.\u001b[39mlatitude\u001b[38;5;241m.\u001b[39mvalues\n\u001b[0;32m     27\u001b[0m         lon \u001b[38;5;241m=\u001b[39m we\u001b[38;5;241m.\u001b[39mlongitude\u001b[38;5;241m.\u001b[39mvalues\n\u001b[0;32m     28\u001b[0m         sl \u001b[38;5;241m=\u001b[39m sea_level\u001b[38;5;241m.\u001b[39msel(latitude\u001b[38;5;241m=\u001b[39mlat, longitude\u001b[38;5;241m=\u001b[39mlon, method\u001b[38;5;241m=\u001b[39m\u001b[38;5;124m'\u001b[39m\u001b[38;5;124mnearest\u001b[39m\u001b[38;5;124m'\u001b[39m)\u001b[38;5;241m.\u001b[39mvalues\u001b[38;5;241m.\u001b[39mflatten() \u001b[38;5;66;03m# Assuming wave_direction is already in degrees\u001b[39;00m\n",
      "\u001b[1;31mNameError\u001b[0m: name 'we' is not defined"
     ]
    }
   ],
   "source": [
    "import numpy as np\n",
    "import matplotlib.pyplot as plt\n",
    "import matplotlib.colors as mcolors\n",
    "from mpl_toolkits.axes_grid1.inset_locator import inset_axes\n",
    "\n",
    "# Define the values for idxx and idxy\n",
    "idxx_values = [0, 1, 2]\n",
    "idxy_values = [0, 1, 2]\n",
    "\n",
    "# Create a figure and axes for the joint plot\n",
    "fig, axs = plt.subplots(3, 3, figsize=(20, 10))\n",
    "# fig2, axs2 = plt.subplots(3, 3, subplot_kw={'projection': 'polar'}, figsize=(20, 10))\n",
    "\n",
    "# Choose a common colormap for both panels\n",
    "cmap = plt.get_cmap('plasma')\n",
    "\n",
    "# Normalize wave energy values to range [0, 1]\n",
    "global_min_wave_energy = float('inf')\n",
    "global_max_wave_energy = float('-inf')\n",
    "\n",
    "# Iterate over idxx and idxy values to create the subplots\n",
    "for idxx in idxx_values:\n",
    "    for idxy in idxy_values:\n",
    "        # Sample data for wave direction and energy for NE monsoon (January, February, March, December)\n",
    "        we = wave_energy.isel(latitude=idxy, longitude=idxx)\n",
    "        lat = we.latitude.values\n",
    "        lon = we.longitude.values\n",
    "        sl = sea_level.sel(latitude=lat, longitude=lon, method='nearest').values.flatten() # Assuming wave_direction is already in degrees\n",
    "\n",
    "        axs[idxx, idxy].plot(wave_energy.isel(latitude=idxy, longitude=idxx).time, we.values.flatten(), label='Wave Energy', color='blue')\n",
    "        axs[idxx, idxy].plot(sea_level.isel(latitude=idxy, longitude=idxx).time, sl, label='Sea Level', color='red')\n",
    "\n",
    "# Add a common color bar for wave energy\n",
    "# norm = mcolors.Normalize(vmin=global_min_wave_energy, vmax=global_max_wave_energy)\n",
    "# cbar = fig.colorbar(plt.cm.ScalarMappable(cmap=cmap, norm=norm), ax=axs, orientation='vertical')\n",
    "# cbar.set_label('Wave Energy (kW/m)', fontsize=20)\n",
    "\n",
    "# cbar2 = fig.colorbar(plt.cm.ScalarMappable(cmap=cmap, norm=norm), ax=axs2, orientation='vertical', label='Wave Energy')\n",
    "# cbar2.set_label('Wave Energy (kW/m)', fontsize=20)\n",
    "\n",
    "# fig.suptitle(r'Northeast Monsoon [December$-$February]', fontweight='bold', fontsize=20)\n",
    "# fig2.suptitle(r'Southwest Monsoon [May$-$September]', fontweight='bold', fontsize=20)\n",
    "\n",
    "# Adjust layout\n",
    "#plt.tight_layout()\n",
    "\n",
    "plt.show()"
   ]
  },
  {
   "cell_type": "code",
   "execution_count": 16,
   "metadata": {},
   "outputs": [],
   "source": [
    "import numpy as np\n",
    "import matplotlib.pyplot as plt\n",
    "import matplotlib.colors as mcolors\n",
    "from mpl_toolkits.axes_grid1.inset_locator import inset_axes\n",
    "\n",
    "figg, axx = plt.subplots()\n",
    "huvadhu_atoll.plot(ax=axx, facecolor='none', edgecolor='black', linewidth=3)\n",
    "axx.axis('off')\n",
    "\n",
    "# Define the values for idxx and idxy\n",
    "idxx_values = [0, 1, 2]\n",
    "idxy_values = [0, 1, 2]\n",
    "\n",
    "# Create a figure and axes for the joint plot\n",
    "fig, axs = plt.subplots(3, 3, subplot_kw={'projection': 'polar'}, figsize=(20, 10))\n",
    "fig2, axs2 = plt.subplots(3, 3, subplot_kw={'projection': 'polar'}, figsize=(20, 10))\n",
    "\n",
    "# Choose a common colormap for both panels\n",
    "cmap = plt.get_cmap('plasma')\n",
    "\n",
    "# Normalize wave energy values to range [0, 1]\n",
    "global_min_wave_energy = float('inf')\n",
    "global_max_wave_energy = float('-inf')\n",
    "\n",
    "# Iterate over idxx and idxy values to create the subplots\n",
    "for idxx in idxx_values:\n",
    "    for idxy in idxy_values:\n",
    "        axx.plot(clip_data_waves['wave_energy'].isel(latitude=idxy, longitude=idxx).sel(time=clip_data_waves['wave_energy'].time.dt.month.isin([1, 2, 12])).longitude, clip_data_waves['wave_energy'].isel(latitude=idxy, longitude=idxx).sel(time=clip_data_waves['wave_energy'].time.dt.month.isin([1, 2, 3, 12])).latitude, 'ro')\n",
    "        fig3, ax3 = plt.subplots(1, 1, subplot_kw={'projection': 'polar'})\n",
    "        fig4, ax4 = plt.subplots(1, 1, subplot_kw={'projection': 'polar'})\n",
    "        fig5, ax5 = plt.subplots(1, 1, subplot_kw={'projection': 'polar'})\n",
    "        fig6, ax6 = plt.subplots(1, 1, subplot_kw={'projection': 'polar'})\n",
    "        # Sample data for wave direction and energy for NE monsoon (January, February, March, December)\n",
    "        wave_energy_ne_monsoon = clip_data_waves['wave_energy'].isel(latitude=idxy, longitude=idxx).sel(time=clip_data_waves['wave_energy'].time.dt.month.isin([1, 2, 12])).values.flatten()\n",
    "        wave_direction_ne_monsoon = clip_data_waves['mwd'].isel(latitude=idxy, longitude=idxx).sel(time=clip_data_waves['wave_energy'].time.dt.month.isin([1, 2, 12])).values.flatten() # Assuming wave_direction is already in degrees\n",
    "\n",
    "        # Sample data for wave direction and energy for SW monsoon (April to November)\n",
    "        wave_energy_sw_monsoon = clip_data_waves['wave_energy'].isel(latitude=idxy, longitude=idxx).sel(time=clip_data_waves['wave_energy'].time.dt.month.isin([5, 6, 7, 8, 9])).values.flatten()\n",
    "        wave_direction_sw_monsoon = clip_data_waves['mwd'].isel(latitude=idxy, longitude=idxx).sel(time=clip_data_waves['wave_energy'].time.dt.month.isin([5, 6, 7, 8, 9])).values.flatten() # Assuming wave_direction is already in degrees\n",
    "\n",
    "        # Sample data for wave direction and energy for transition NE to SW monsoon (March, April)\n",
    "        wave_energy_transition_ne_sw = clip_data_waves['wave_energy'].isel(latitude=idxy, longitude=idxx).sel(time=clip_data_waves['wave_energy'].time.dt.month.isin([3, 4])).values.flatten()\n",
    "        wave_direction_transition_ne_sw = clip_data_waves['mwd'].isel(latitude=idxy, longitude=idxx).sel(time=clip_data_waves['wave_energy'].time.dt.month.isin([3, 4])).values.flatten() # Assuming wave_direction is already in degrees\n",
    "\n",
    "        # Sample data for wave direction and energy for transition SW to NE monsoon (October, November)\n",
    "        wave_energy_transition_sw_ne = clip_data_waves['wave_energy'].isel(latitude=idxy, longitude=idxx).sel(time=clip_data_waves['wave_energy'].time.dt.month.isin([10, 11])).values.flatten()\n",
    "        wave_direction_transition_sw_ne = clip_data_waves['mwd'].isel(latitude=idxy, longitude=idxx).sel(time=clip_data_waves['wave_energy'].time.dt.month.isin([10, 11])).values.flatten() # Assuming wave_direction is already in degrees\n",
    "\n",
    "        # Combine wave_energy and wave_direction for both monsoon seasons\n",
    "        all_wave_energy = np.concatenate((wave_energy_ne_monsoon, wave_energy_sw_monsoon, wave_energy_transition_ne_sw, wave_energy_transition_sw_ne))\n",
    "        all_wave_direction = np.concatenate((wave_direction_ne_monsoon, wave_direction_sw_monsoon, wave_direction_transition_ne_sw, wave_direction_transition_sw_ne))\n",
    "\n",
    "        # Calculate global min and max for all_wave_energy\n",
    "        local_min_wave_energy = np.min(all_wave_energy)\n",
    "        local_max_wave_energy = np.max(all_wave_energy)\n",
    "        if local_min_wave_energy < global_min_wave_energy:\n",
    "            global_min_wave_energy = local_min_wave_energy\n",
    "        if local_max_wave_energy > global_max_wave_energy:\n",
    "            global_max_wave_energy = local_max_wave_energy\n",
    "\n",
    "        # Plot wave energy using a colormap\n",
    "        ax = axs[idxy, idxx]\n",
    "        ax2 = axs2[idxy, idxx]\n",
    "        bars = ax.bar(np.radians(wave_direction_ne_monsoon), wave_energy_ne_monsoon, width=0.1, color=cmap((wave_energy_ne_monsoon - global_min_wave_energy) / (global_max_wave_energy - global_min_wave_energy)), alpha=0.7, label='Wave Energy NE Monsoon', zorder=5)\n",
    "        bars2 = ax2.bar(np.radians(wave_direction_sw_monsoon), wave_energy_sw_monsoon, width=0.1, color=cmap((wave_energy_sw_monsoon - global_min_wave_energy) / (global_max_wave_energy - global_min_wave_energy)), alpha=0.7, label='Wave Energy SW Monsoon', zorder=5)\n",
    "\n",
    "        bars3 = ax3.bar(np.radians(wave_direction_ne_monsoon), wave_energy_ne_monsoon, width=0.1, color=cmap((wave_energy_ne_monsoon - global_min_wave_energy) / (global_max_wave_energy - global_min_wave_energy)), alpha=0.7, label='Wave Energy NE Monsoon', zorder=5)\n",
    "        bars4 = ax4.bar(np.radians(wave_direction_sw_monsoon), wave_energy_sw_monsoon, width=0.1, color=cmap((wave_energy_sw_monsoon - global_min_wave_energy) / (global_max_wave_energy - global_min_wave_energy)), alpha=0.7, label='Wave Energy SW Monsoon', zorder=5)\n",
    "        \n",
    "        bars5 = ax5.bar(np.radians(wave_direction_transition_ne_sw), wave_energy_transition_ne_sw, width=0.1, color=cmap((wave_energy_transition_ne_sw - global_min_wave_energy) / (global_max_wave_energy - global_min_wave_energy)), alpha=0.7, label='Wave Energy Transition NE to SW Monsoon', zorder=5)\n",
    "        bars6 = ax6.bar(np.radians(wave_direction_transition_sw_ne), wave_energy_transition_sw_ne, width=0.1, color=cmap((wave_energy_transition_sw_ne - global_min_wave_energy) / (global_max_wave_energy - global_min_wave_energy)), alpha=0.7, label='Wave Energy Transition SW to NE Monsoon', zorder=5)\n",
    "\n",
    "        \n",
    "        # Set the theta zero location and direction\n",
    "        # Set the theta zero location and direction\n",
    "        ax.set_theta_zero_location('N')\n",
    "        ax.set_theta_direction(-1)\n",
    "        ax2.set_theta_zero_location('N')\n",
    "        ax2.set_theta_direction(-1)\n",
    "        ax3.set_theta_zero_location('N')\n",
    "        ax3.set_theta_direction(-1)\n",
    "        ax4.set_theta_zero_location('N')\n",
    "        ax4.set_theta_direction(-1)\n",
    "        ax5.set_theta_zero_location('N')\n",
    "        ax5.set_theta_direction(-1)\n",
    "\n",
    "        ax.tick_params(axis='x', which='major', labelsize=12, width=2, direction='out', pad=0.5)\n",
    "        ax2.tick_params(axis='x', which='major', labelsize=12, width=2, direction='out', pad=0.5)\n",
    "        ax3.tick_params(axis='x', which='major', labelsize=12, width=2, direction='out', pad=0.5)\n",
    "        ax4.tick_params(axis='x', which='major', labelsize=12, width=2, direction='out', pad=0.5)\n",
    "        ax5.tick_params(axis='x', which='major', labelsize=12, width=2, direction='out', pad=0.5)\n",
    "        ax6.tick_params(axis='x', which='major', labelsize=12, width=2, direction='out', pad=0.5)\n",
    "\n",
    "        ax.tick_params(axis='y', which='major', width=2, direction='out', pad=1, color='gray', zorder=15, grid_zorder=1)\n",
    "        ax2.tick_params(axis='y', which='major', width=2, direction='out', pad=1, color='gray', zorder=15, grid_zorder=1)\n",
    "        ax3.tick_params(axis='y', which='major', width=2, direction='out', pad=1, color='gray', zorder=15, grid_zorder=1) \n",
    "        ax4.tick_params(axis='y', which='major', width=2, direction='out', pad=1, color='gray', zorder=15, grid_zorder=1)\n",
    "\n",
    "        fig3.savefig(f'figures//process regime//NE_wave_energy_{idxx}_{idxy}.png', transparent=True)  \n",
    "        fig4.savefig(f'figures//process regime//SW_wave_energy_{idxx}_{idxy}.png', transparent=True)\n",
    "\n",
    "# Add a common color bar for wave energy\n",
    "norm = mcolors.Normalize(vmin=global_min_wave_energy, vmax=global_max_wave_energy)\n",
    "cbar = fig.colorbar(plt.cm.ScalarMappable(cmap=cmap, norm=norm), ax=axs, orientation='vertical')\n",
    "cbar.set_label('Wave Energy (kW/m)', fontsize=20)\n",
    "\n",
    "cbar2 = fig.colorbar(plt.cm.ScalarMappable(cmap=cmap, norm=norm), ax=axs2, orientation='vertical', label='Wave Energy')\n",
    "cbar2.set_label('Wave Energy (kW/m)', fontsize=20)\n",
    "\n",
    "fig.suptitle(r'Northeast Monsoon [December$-$February]', fontweight='bold', fontsize=20)\n",
    "fig2.suptitle(r'Southwest Monsoon [May$-$September]', fontweight='bold', fontsize=20)\n",
    "\n",
    "# Adjust layout\n",
    "#plt.tight_layout()\n",
    "\n",
    "plt.show()"
   ]
  },
  {
   "cell_type": "code",
   "execution_count": 152,
   "metadata": {},
   "outputs": [],
   "source": [
    "\n",
    "for month in range(1, 13):\n",
    "\n",
    "    fig, ax = plt.subplots()\n",
    "\n",
    "    clip_data_waves = data_ERA5_waves['mwd'].sel(time='2013-{}-01'.format(month), latitude=slice(1.50, 0.), longitude=slice(72.6, 74.))\n",
    "    clip_data_energy = data_ERA5_waves['swh'].sel(time='2013-{}-01'.format(month), latitude=slice(1.50, 0.), longitude=slice(72.6, 74.))\n",
    "    clip_data_energy.plot(ax=ax)\n",
    "\n",
    "    # Overlaying the area boundary\n",
    "    area.plot(ax=ax, facecolor='none', edgecolor='black')\n",
    "\n",
    "    # Plotting wind vectors\n",
    "    for i in range(len(clip_data_waves['latitude'])):\n",
    "        for j in range(len(clip_data_waves['longitude'])):\n",
    "            latitude_value = clip_data_waves['latitude'].values[i]\n",
    "            longitude_value = clip_data_waves['longitude'].values[j]\n",
    "            value = clip_data_waves.sel(latitude=latitude_value, longitude=longitude_value).values\n",
    "            \n",
    "            # Plotting wind vectors using quiver\n",
    "            ax.quiver(longitude_value, latitude_value, 0.2*np.cos(np.radians(value)), 0.2*np.sin(np.radians(value)),\n",
    "                    angles='xy', scale_units='xy', scale=1)\n",
    "    \n",
    "    plt.title('Month: {}'.format(month))\n",
    "\n",
    "    # Show the plot\n",
    "    plt.show()"
   ]
  },
  {
   "cell_type": "code",
   "execution_count": 144,
   "metadata": {},
   "outputs": [],
   "source": [
    "import numpy as np\n",
    "import matplotlib.pyplot as plt\n",
    "import calendar\n",
    "\n",
    "# Assuming data_ERA5_waves['mwd'] contains data for each month of the year\n",
    "\n",
    "# Iterate over each month\n",
    "for month_num in range(1, 13):\n",
    "    # Extract angles for the current month\n",
    "    angles = data_ERA5_waves['mwd'].sel(latitude=slice(1.50, 0.), longitude=slice(72.6, 74.), time=data_ERA5_waves['mwd'].time.dt.month == month_num).values[0]\n",
    "\n",
    "    # Number of bins (directions)\n",
    "    num_bins = 16\n",
    "\n",
    "    # Convert angles to radians\n",
    "    angles = np.radians(angles)\n",
    "\n",
    "    # Create the histogram\n",
    "    hist, bins = np.histogram(angles, bins=num_bins, range=(0, 2*np.pi))\n",
    "\n",
    "    # Compute width of each bin\n",
    "    width = 2 * np.pi / num_bins\n",
    "\n",
    "    # Create the rose diagram\n",
    "    fig, ax = plt.subplots(subplot_kw={'projection': 'polar'})\n",
    "    bars = ax.bar(bins[:-1], hist, width=width, color='skyblue', edgecolor='black')\n",
    "\n",
    "    # Add labels to the bars\n",
    "    ax.set_theta_zero_location('N')\n",
    "    ax.set_theta_direction(-1)\n",
    "    ax.set_xticks(np.arange(0, 2*np.pi, np.pi/4))\n",
    "    ax.set_xticklabels(['N', 'NE', 'E', 'SE', 'S', 'SW', 'W', 'NW'])\n",
    "\n",
    "    plt.title(f'Rose Diagram for {calendar.month_name[month_num]}')\n",
    "    plt.show()"
   ]
  },
  {
   "cell_type": "code",
   "execution_count": 137,
   "metadata": {},
   "outputs": [],
   "source": [
    "angles = data_ERA5_waves['mwd'].sel(latitude=slice(1.50, 0.), longitude=slice(72.6, 74.)).values.flatten()\n",
    "\n",
    "# Number of bins (directions)\n",
    "num_bins = 16\n",
    "\n",
    "# Convert angles to radians\n",
    "angles = np.radians(angles)\n",
    "\n",
    "# Create the histogram\n",
    "hist, bins = np.histogram(angles, bins=num_bins, range=(0, 2*np.pi))\n",
    "\n",
    "# Compute width of each bin\n",
    "width = 2 * np.pi / num_bins\n",
    "\n",
    "# Create the rose diagram\n",
    "fig, ax = plt.subplots(subplot_kw={'projection': 'polar'})\n",
    "bars = ax.bar(bins[:-1], hist, width=width, color='skyblue', edgecolor='black')\n",
    "\n",
    "# Add labels to the bars\n",
    "ax.set_theta_zero_location('N')\n",
    "ax.set_theta_direction(-1)\n",
    "ax.set_xticks(np.arange(0, 2*np.pi, np.pi/4))\n",
    "ax.set_xticklabels(['N', 'NE', 'E', 'SE', 'S', 'SW', 'W', 'NW'])\n",
    "\n",
    "plt.title('Rose Diagram')\n",
    "plt.show()"
   ]
  },
  {
   "cell_type": "code",
   "execution_count": 107,
   "metadata": {},
   "outputs": [
    {
     "data": {
      "text/plain": [
       "<Axes: title={'center': 'time = 2015-01-01'}, xlabel='longitude [degrees_east]', ylabel='latitude [degrees_north]'>"
      ]
     },
     "execution_count": 107,
     "metadata": {},
     "output_type": "execute_result"
    }
   ],
   "source": [
    "fig, ax = plt.subplots()\n",
    "data_ERA5_waves['mwd'].sel(time='2015-01-01', latitude=slice(1.50, 0.), longitude=slice(72.6, 74.)).plot()\n",
    "ax.quiver(72.853, 1.098, 0.2*np.cos(np.radians(120)), 0.2*np.sin(np.radians(120)), angles='xy', scale_units='xy', scale=1)\n",
    "area.plot(ax=ax, facecolor='none', edgecolor='black')"
   ]
  },
  {
   "cell_type": "markdown",
   "metadata": {},
   "source": [
    "# Plot by region"
   ]
  },
  {
   "cell_type": "code",
   "execution_count": 239,
   "metadata": {},
   "outputs": [],
   "source": [
    "island_info = retrieve_island_info('Dhakandhoo', 'Maldives', verbose=False)\n",
    "\n",
    "plot_shoreline_transects(island_info)\n",
    "\n",
    "transect = 55\n",
    "\n",
    "sc = island_info['timeseries_preprocessing']['optimal time period']['dict_timeseries']['coastline_position_transect_{}_waterline'.format(transect)]['monthly']\n",
    "\n",
    "wave_energy = sc['wave_energy_of_combined_wind_waves_and_swell']\n",
    "sea_level = sc['sea_level_anomaly']\n",
    "sst = sc['sea_surface_temperature']\n",
    "wave_direction = sc['mean_wave_direction']\n",
    "coastline = sc['coastline_position_transect_{}_waterline'.format(transect)]\n",
    "wind = sc['wind_speed_10m']"
   ]
  },
  {
   "cell_type": "code",
   "execution_count": 62,
   "metadata": {},
   "outputs": [],
   "source": [
    "# Min-Max Scaling\n",
    "def min_max_scaling(series):\n",
    "    return (series - series.min()) / (series.max() - series.min())"
   ]
  },
  {
   "cell_type": "code",
   "execution_count": 149,
   "metadata": {},
   "outputs": [
    {
     "data": {
      "text/plain": [
       "[<matplotlib.lines.Line2D at 0x19becc15dd0>]"
      ]
     },
     "execution_count": 149,
     "metadata": {},
     "output_type": "execute_result"
    }
   ],
   "source": [
    "fig, ax = plt.subplots()\n",
    "ax.plot(wave_energy.index, min_max_scaling(wave_energy.values))\n",
    "ax.plot(sea_level.index, min_max_scaling(sea_level.values))\n",
    "ax.plot(sst.index, min_max_scaling(sst.values))\n",
    "ax.plot(wave_direction.index, min_max_scaling(wave_direction.values))\n",
    "ax.plot(coastline.index, min_max_scaling(coastline.values))"
   ]
  },
  {
   "cell_type": "code",
   "execution_count": 231,
   "metadata": {},
   "outputs": [
    {
     "name": "stdout",
     "output_type": "stream",
     "text": [
      "\n",
      "\n"
     ]
    }
   ],
   "source": [
    "from scipy import signal\n",
    "\n",
    "list_var = [wave_energy, sea_level, sst, coastline]\n",
    "list_var = [wave_energy, coastline]\n",
    "#list_var = [sea_level, coastline]\n",
    "fig, ax = plt.subplots()\n",
    "o_cp = rb.beast(coastline.values, start=[coastline.index[0].year, coastline.index[0].month, coastline.index[0].day], period='1 year', deltat='1/12 year', quiet=True, print_progress=False)\n",
    "for var in list_var:\n",
    "    o = rb.beast(var.values, start=[var.index[0].year, var.index[0].month, var.index[0].day], period='1 year', deltat='1/12 year', quiet=True, print_progress=False)\n",
    "    rb.plot(o)\n",
    "    fig2, ax2 = plt.subplots()\n",
    "    ax.plot(var.index, min_max_scaling(o.season.Y))\n",
    "    #ax2.scatter(coastline.values, var.values)\n",
    "    #ax2.scatter(o_cp.season.Y, o.season.Y)\n",
    "    y = o_cp.season.Y\n",
    "    x = o.season.Y\n",
    "    correlation = signal.correlate(x-np.mean(x), y-np.mean(y), mode=\"full\")\n",
    "    lags = signal.correlation_lags(len(x), len(y), mode=\"full\")\n",
    "    lag = lags[np.argmax(abs(correlation))]\n",
    "    corr = correlation[np.argmax(abs(correlation))]\n",
    "    #ax2.set_title(np.corrcoef(o_cp.season.Y, o.season.Y)[0, 1])\n",
    "    #ax2.set_title('lag: {}, corr: {}'.format(lag, corr))\n",
    "    ax2.plot(lags, correlation)\n",
    "    ax2.set_title(lag)\n",
    "    \n",
    "    break\n",
    "\n",
    "\n"
   ]
  },
  {
   "cell_type": "code",
   "execution_count": 203,
   "metadata": {},
   "outputs": [
    {
     "data": {
      "text/plain": [
       "[<matplotlib.lines.Line2D at 0x19bca9deed0>]"
      ]
     },
     "execution_count": 203,
     "metadata": {},
     "output_type": "execute_result"
    }
   ],
   "source": [
    "plt.plot(np.arange(-len(x) + 1, len(x)), abs(np.correlate(x-np.mean(x), y-np.mean(y), mode='full')))"
   ]
  },
  {
   "cell_type": "code",
   "execution_count": 183,
   "metadata": {},
   "outputs": [
    {
     "data": {
      "text/plain": [
       "array([ -7,   4,  -8,   5, -19,  16, -20,  17, -31,  -1,  -2, -13, -25,\n",
       "        28, -14, -32,   0,  10,  11, -24, -12, -18,   3,  -6, -43,  29,\n",
       "       -26, -37, -30,  -3,  40, -44,   6,  -9,  15, -36,  12,   9,  22,\n",
       "       -38,  23, -55, -42, -49,  41, -15,  27,  21,  52,  18, -56,  24,\n",
       "       -48, -50, -21,  34, -23,  39, -11,  35,  33, -27, -54, -61, -33,\n",
       "       -67,   1,  53, -35,  51,  64,  30, -39, -60,  36, -62,  45, -68,\n",
       "        46, -45,  13,   8,  63, -29,  47, -51,  -4, -47, -66,  57,  20,\n",
       "        32, -17, -57, -73,  44,  56,  25,  76,  75,  68, -41,  42,  65,\n",
       "        58, -74,  48, -79, -72, -63,  69, -59, -80, -69,  79,  80, -53,\n",
       "        37,  59, -78,  67,  -5,  87, -16, -75, -71,  70,  74,  88, -85,\n",
       "        62,  54,  81, -65,   2,  50,  60, -81, -86, -84,  38,  55,  14,\n",
       "        26,   7,  49,  77,  91,  78,  90, -91, -92, -87, -83, -28,  86,\n",
       "       -40, -77, -52, -90,  19, -64,  92,  71,  43, -76,  95,  82, -93,\n",
       "        73,  61, -22, -88,  93, -10,  94,  96,  83, -89,  66, -34, -95,\n",
       "        97,  72, -96,  84, -46, -82,  31, -70, -97, -94,  89,  85, -58])"
      ]
     },
     "execution_count": 183,
     "metadata": {},
     "output_type": "execute_result"
    }
   ],
   "source": [
    "lags[np.argsort(abs(correlation))][::-1]"
   ]
  },
  {
   "cell_type": "code",
   "execution_count": 169,
   "metadata": {},
   "outputs": [
    {
     "data": {
      "text/plain": [
       "[<matplotlib.lines.Line2D at 0x19bf2133090>]"
      ]
     },
     "execution_count": 169,
     "metadata": {},
     "output_type": "execute_result"
    }
   ],
   "source": [
    "plt.plot(lags, abs(correlation))"
   ]
  },
  {
   "cell_type": "code",
   "execution_count": 170,
   "metadata": {},
   "outputs": [
    {
     "data": {
      "text/plain": [
       "-0.9200372746666252"
      ]
     },
     "execution_count": 170,
     "metadata": {},
     "output_type": "execute_result"
    }
   ],
   "source": [
    "np.corrcoef(o_cp.season.Y[4:], o.season.Y[:-4])[0, 1]"
   ]
  },
  {
   "cell_type": "code",
   "execution_count": 189,
   "metadata": {},
   "outputs": [
    {
     "data": {
      "text/plain": [
       "[<matplotlib.lines.Line2D at 0x19c02a24890>]"
      ]
     },
     "execution_count": 189,
     "metadata": {},
     "output_type": "execute_result"
    }
   ],
   "source": [
    "plt.plot(o.season.Y)\n",
    "plt.plot(o_cp.season.Y[4:])"
   ]
  },
  {
   "cell_type": "code",
   "execution_count": 187,
   "metadata": {},
   "outputs": [
    {
     "data": {
      "text/plain": [
       "[<matplotlib.lines.Line2D at 0x19beccb1250>]"
      ]
     },
     "execution_count": 187,
     "metadata": {},
     "output_type": "execute_result"
    }
   ],
   "source": [
    "plt.plot(o.season.Y[:-4])\n",
    "plt.plot(o_cp.season.Y[4:])"
   ]
  },
  {
   "cell_type": "code",
   "execution_count": 232,
   "metadata": {},
   "outputs": [],
   "source": [
    "from scipy.signal import find_peaks, argrelextrema\n",
    "\n",
    "find_peaks(o_cp.season.Y)\n",
    "\n",
    "plt.plot(coastline.index, o_cp.season.Y, color='g')\n",
    "plt.plot(coastline.index, o.season.Y, color='r')\n",
    "\n",
    "for peak in argrelextrema(o_cp.season.Y, np.less)[0]:\n",
    "    plt.axvline(coastline.index[peak], color='g', ls=':')\n",
    "\n",
    "for peak in find_peaks(o.season.Y)[0]:\n",
    "    plt.axvline(coastline.index[peak], color='r', ls=':')"
   ]
  },
  {
   "cell_type": "code",
   "execution_count": 243,
   "metadata": {},
   "outputs": [
    {
     "name": "stdout",
     "output_type": "stream",
     "text": [
      "\n",
      "\n"
     ]
    }
   ],
   "source": [
    "fig, ax = plt.subplots()\n",
    "time_series = coastline\n",
    "\n",
    "# Plot fitting sinusoidal function\n",
    "#for peak in find_peaks(o_cp.season.Y)[0]:\n",
    "    #ax.axvline(time_series.index[peak], color='r', linestyle='--')\n",
    "#for minimum in argrelextrema(o_cp.season.Y, np.less)[0]:\n",
    "    #ax.axvline(time_series.index[minimum], color='pink', linestyle='--')\n",
    "for year in range(2010, 2023):\n",
    "    if year == 2010:\n",
    "        ax.axvspan(datetime.datetime(year=year, month=12, day=1), datetime.datetime(year=year+1, month=2, day=28), color='yellow', alpha=0.2, label='NE Monsoon')\n",
    "        ax.axvspan(datetime.datetime(year=year, month=5, day=1), datetime.datetime(year=year, month=9, day=30), color='blue', alpha=0.2, label='SW Monsoon')\n",
    "    else:\n",
    "        ax.axvspan(datetime.datetime(year=year, month=12, day=1), datetime.datetime(year=year+1, month=2, day=28), color='yellow', alpha=0.2)\n",
    "        ax.axvspan(datetime.datetime(year=year, month=5, day=1), datetime.datetime(year=year, month=9, day=30), color='blue', alpha=0.2)\n",
    "ax.plot(time_series.index, min_max_scaling(o_cp.season.Y), color='g')\n",
    "var = wave_energy\n",
    "o = rb.beast(var.values, start=[var.index[0].year, var.index[0].month, var.index[0].day], period='1 year', deltat='1/12 year', quiet=True, print_progress=False)\n",
    "ax.plot(time_series.index, min_max_scaling(o.season.Y), color='black')\n",
    "var = wave_direction\n",
    "o = rb.beast(var.values, start=[var.index[0].year, var.index[0].month, var.index[0].day], period='1 year', deltat='1/12 year', quiet=True, print_progress=False)\n",
    "ax.plot(time_series.index, min_max_scaling(o.season.Y), color='gray')\n",
    "ax.legend(fontsize=10)\n",
    "ax.set_xlim(time_series.index[0], time_series.index[-1])\n",
    "#ax.set_title('Name: {}'.format(time_series_name))\n",
    "plt.show()"
   ]
  },
  {
   "cell_type": "code",
   "execution_count": 247,
   "metadata": {},
   "outputs": [
    {
     "name": "stdout",
     "output_type": "stream",
     "text": [
      "\n"
     ]
    }
   ],
   "source": [
    "fig, ax = plt.subplots()\n",
    "time_series = coastline\n",
    "\n",
    "# Plot fitting sinusoidal function\n",
    "#for peak in find_peaks(o_cp.season.Y)[0]:\n",
    "    #ax.axvline(time_series.index[peak], color='r', linestyle='--')\n",
    "#for minimum in argrelextrema(o_cp.season.Y, np.less)[0]:\n",
    "    #ax.axvline(time_series.index[minimum], color='pink', linestyle='--')\n",
    "for year in range(2010, 2023):\n",
    "    if year == 2010:\n",
    "        ax.axvspan(datetime.datetime(year=year, month=12, day=1), datetime.datetime(year=year+1, month=2, day=28), color='yellow', alpha=0.2, label='NE Monsoon')\n",
    "        ax.axvspan(datetime.datetime(year=year, month=5, day=1), datetime.datetime(year=year, month=9, day=30), color='blue', alpha=0.2, label='SW Monsoon')\n",
    "    else:\n",
    "        ax.axvspan(datetime.datetime(year=year, month=12, day=1), datetime.datetime(year=year+1, month=2, day=28), color='yellow', alpha=0.2)\n",
    "        ax.axvspan(datetime.datetime(year=year, month=5, day=1), datetime.datetime(year=year, month=9, day=30), color='blue', alpha=0.2)\n",
    "var = wave_direction\n",
    "o = rb.beast(var.values, start=[var.index[0].year, var.index[0].month, var.index[0].day], period='1 year', deltat='1/12 year', quiet=True, print_progress=False)\n",
    "ax.plot(time_series.index, o.season.Y, color='gray')\n",
    "ax.legend(fontsize=10)\n",
    "ax.set_xlim(time_series.index[0], time_series.index[-1])\n",
    "#ax.set_title('Name: {}'.format(time_series_name))\n",
    "plt.show()"
   ]
  },
  {
   "cell_type": "markdown",
   "metadata": {},
   "source": [
    "# Test for asymmetric sinusoidal data"
   ]
  },
  {
   "cell_type": "code",
   "execution_count": 115,
   "metadata": {},
   "outputs": [
    {
     "name": "stdout",
     "output_type": "stream",
     "text": [
      "\n",
      "Fitted Parameters: [ 1.73173871e+01 -1.41004299e-04 -4.34346102e-01  3.63417120e+02\n",
      "  1.94248051e-01  1.16525403e+02]\n"
     ]
    }
   ],
   "source": [
    "import numpy as np\n",
    "import matplotlib.pyplot as plt\n",
    "from scipy.optimize import curve_fit\n",
    "\n",
    "# Define the Clausen function\n",
    "# def clausen(x, *params):\n",
    "#     result = np.zeros_like(x, dtype=np.float64)\n",
    "#     for k, param in enumerate(params, start=1):\n",
    "#         result += np.sin(k * x) / k**2\n",
    "#     return result\n",
    "\n",
    "def clausen(x, A, B):\n",
    "    result = A * np.sum(np.sin(np.outer(np.arange(1, len(x)+1), x)) / np.arange(1, len(x)+1)**2, axis=0) + B\n",
    "    return result\n",
    "\n",
    "# def seasonal_function_fitting(x, A, k, period, phi, offset):\n",
    "#     return A * np.exp(k * x) * np.sin(2 * np.pi / period * x + phi) + offset\n",
    "\n",
    "def seasonal_function_fitting(x, A, k, sp, period, phi, offset):\n",
    "    inside_sin = 2 * np.pi / period * x + phi\n",
    "    skewed_sin = np.sin(inside_sin) / np.sqrt((sp + np.cos(inside_sin))**2 + np.sin(inside_sin)**2)\n",
    "    return A * np.exp(k * x) * skewed_sin + offset\n",
    "\n",
    "# Generate some synthetic data\n",
    "np.random.seed(0)\n",
    "x_data = np.array([(date - ts.index[0]).days for date in ts.index])\n",
    "x_data_big = np.linspace(0, x_data[-1], 1000)\n",
    "x_data_big_datetime = np.array([ts.index[0] + pd.Timedelta(days=int(x)) for x in x_data_big])\n",
    "y_data = ts.values\n",
    "o = rb.beast(y_data, start=[y_data[0]], period='1 year', deltat='1/12 year', quiet=True, print_progress=False)\n",
    "y_data_b = o.season.Y\n",
    "\n",
    "# stl\n",
    "from statsmodels.tsa.seasonal import STL, MSTL\n",
    "res = STL(ts, period=12, seasonal=13).fit()\n",
    "y_data_s = res.seasonal.values\n",
    "\n",
    "# Fit the Clausen function to the data using curve_fit\n",
    "initial_guess = [7, 0.001, -0.5, 365, 1, 0]  # Initial guess for parameters\n",
    "params, covariance = curve_fit(seasonal_function_fitting, x_data, y_data, p0=initial_guess, maxfev=10000)\n",
    "params_b, covariance_b = curve_fit(seasonal_function_fitting, x_data, y_data_b, p0=initial_guess, maxfev=10000)\n",
    "params_s, covariance_s = curve_fit(seasonal_function_fitting, x_data, y_data_s, p0=initial_guess, maxfev=10000)\n",
    "\n",
    "# Generate curve using fitted parameters\n",
    "y_fit = seasonal_function_fitting(x_data, *params)\n",
    "y_fit_b = seasonal_function_fitting(x_data_big, *params_b)\n",
    "y_fit_s = seasonal_function_fitting(x_data_big, *params_s)\n",
    "\n",
    "# Plotting\n",
    "plt.figure(figsize=(20, 20))\n",
    "# plt.plot(x_data, y_data, label='Data with Noise')\n",
    "# plt.plot(x_data, y_fit, 'r-', label='Fitted Clausen Function')\n",
    "plt.plot(ts.index, y_data_b, color='k', linestyle='-', label='Seasonal component BEAST')\n",
    "plt.plot(ts.index, y_data_s, color='k', linestyle='--', label='Seasonal component STL')\n",
    "plt.plot(x_data_big_datetime, y_fit_b, color='k', linestyle=':', label=r'Fit BEAST ($R^2>0.99)$')\n",
    "plt.plot(x_data_big_datetime, y_fit_s, color='k', linestyle='-.', label=r'Fit STL ($R^2=0.95)$')\n",
    "\n",
    "for year in range(2013, 2023):\n",
    "    if year == 2013:\n",
    "        plt.axvspan(datetime(year=year, month=12, day=1), datetime(year=year+1, month=2, day=28), color='#bc5090', alpha=0.2, label='NE Monsoon')\n",
    "        plt.axvspan(datetime(year=year, month=5, day=1), datetime(year=year, month=9, day=30), color='#58508d', alpha=0.2, label='SW Monsoon')\n",
    "        plt.axvspan(datetime(year=year, month=3, day=1), datetime(year=year, month=4, day=30), color='#ff6361', alpha=0.2, label='NE-SW Transition')\n",
    "        plt.axvspan(datetime(year=year, month=10, day=1), datetime(year=year, month=11, day=30), color='#ffa600', alpha=0.2, label='SW-NE Transition')\n",
    "    else:\n",
    "        plt.axvspan(datetime(year=year, month=12, day=1), datetime(year=year+1, month=2, day=28), color='#bc5090', alpha=0.2)\n",
    "        plt.axvspan(datetime(year=year, month=5, day=1), datetime(year=year, month=9, day=30), color='#58508d', alpha=0.2)\n",
    "        plt.axvspan(datetime(year=year, month=3, day=1), datetime(year=year, month=4, day=30), color='#ff6361', alpha=0.2)\n",
    "        plt.axvspan(datetime(year=year, month=10, day=1), datetime(year=year, month=11, day=30), color='#ffa600', alpha=0.2)\n",
    "\n",
    "plt.legend(fontsize=15, loc='upper right')\n",
    "plt.xlabel('Date', fontsize=20)\n",
    "plt.ylabel('Amplitude (m)', fontsize=20)\n",
    "# increase tick size\n",
    "plt.xticks(fontsize=15)\n",
    "plt.yticks(fontsize=15)\n",
    "\n",
    "# plt.grid(True)\n",
    "plt.xlim(datetime(2016, 1, 1), datetime(2018, 12, 31))\n",
    "# plt.savefig('figures//seasonal_component_fitting.png', dpi=300)\n",
    "plt.show()\n",
    "\n",
    "# Print the fitted parameters\n",
    "print('Fitted Parameters:', params)"
   ]
  },
  {
   "cell_type": "code",
   "execution_count": 90,
   "metadata": {},
   "outputs": [
    {
     "data": {
      "text/plain": [
       "0.9987202066338721"
      ]
     },
     "execution_count": 90,
     "metadata": {},
     "output_type": "execute_result"
    }
   ],
   "source": [
    "# r2 score\n",
    "\n",
    "from sklearn.metrics import r2_score\n",
    "\n",
    "r2_score(y_data_b, y_fit_b)\n"
   ]
  }
 ],
 "metadata": {
  "kernelspec": {
   "display_name": "IslandTime",
   "language": "python",
   "name": "python3"
  },
  "language_info": {
   "codemirror_mode": {
    "name": "ipython",
    "version": 3
   },
   "file_extension": ".py",
   "mimetype": "text/x-python",
   "name": "python",
   "nbconvert_exporter": "python",
   "pygments_lexer": "ipython3",
   "version": "3.12.2"
  }
 },
 "nbformat": 4,
 "nbformat_minor": 2
}
