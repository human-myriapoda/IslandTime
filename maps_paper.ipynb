{
 "cells": [
  {
   "cell_type": "code",
   "execution_count": 3,
   "metadata": {},
   "outputs": [
    {
     "name": "stdout",
     "output_type": "stream",
     "text": [
      "The autoreload extension is already loaded. To reload it, use:\n",
      "  %reload_ext autoreload\n"
     ]
    }
   ],
   "source": [
    "from IslandTime import Workflow, retrieve_island_info, TimeSeriesCoastSat, update_data_map, update_results_map, plot_shoreline_transects\n",
    "import matplotlib.pyplot as plt\n",
    "import Rbeast as rb\n",
    "from datetime import datetime\n",
    "import os\n",
    "import numpy as np\n",
    "from tqdm import tqdm\n",
    "import matplotlib\n",
    "\n",
    "matplotlib.rcParams['mathtext.fontset'] = 'stix'\n",
    "matplotlib.rcParams['font.family'] = 'STIXGeneral'\n",
    "\n",
    "%load_ext autoreload\n",
    "%autoreload 2"
   ]
  },
  {
   "cell_type": "code",
   "execution_count": null,
   "metadata": {},
   "outputs": [],
   "source": [
    "ii['timeseries_analysis']['coastline_position_transect_45_waterline']"
   ]
  },
  {
   "cell_type": "code",
   "execution_count": 19,
   "metadata": {},
   "outputs": [
    {
     "ename": "TypeError",
     "evalue": "'int' object is not subscriptable",
     "output_type": "error",
     "traceback": [
      "\u001b[1;31m---------------------------------------------------------------------------\u001b[0m",
      "\u001b[1;31mTypeError\u001b[0m                                 Traceback (most recent call last)",
      "Cell \u001b[1;32mIn[19], line 1\u001b[0m\n\u001b[1;32m----> 1\u001b[0m ts \u001b[38;5;241m=\u001b[39m \u001b[43mii\u001b[49m\u001b[43m[\u001b[49m\u001b[38;5;124;43m'\u001b[39;49m\u001b[38;5;124;43mtimeseries_preprocessing\u001b[39;49m\u001b[38;5;124;43m'\u001b[39;49m\u001b[43m]\u001b[49m[\u001b[38;5;124m'\u001b[39m\u001b[38;5;124moptimal time period\u001b[39m\u001b[38;5;124m'\u001b[39m][\u001b[38;5;124m'\u001b[39m\u001b[38;5;124mdict_timeseries\u001b[39m\u001b[38;5;124m'\u001b[39m][\u001b[38;5;124m'\u001b[39m\u001b[38;5;124mcoastline_position_transect_45_waterline\u001b[39m\u001b[38;5;124m'\u001b[39m][\u001b[38;5;124m'\u001b[39m\u001b[38;5;124mmonthly\u001b[39m\u001b[38;5;124m'\u001b[39m][\u001b[38;5;124m'\u001b[39m\u001b[38;5;124mcoastline_position_transect_45_waterline\u001b[39m\u001b[38;5;124m'\u001b[39m]\n\u001b[0;32m      2\u001b[0m \u001b[38;5;28mlen\u001b[39m(ts)\n\u001b[0;32m      3\u001b[0m \u001b[38;5;28;01mimport\u001b[39;00m \u001b[38;5;21;01mRbeast\u001b[39;00m \u001b[38;5;28;01mas\u001b[39;00m \u001b[38;5;21;01mrb\u001b[39;00m\n",
      "\u001b[1;31mTypeError\u001b[0m: 'int' object is not subscriptable"
     ]
    }
   ],
   "source": [
    "ts = ii['timeseries_preprocessing']['optimal time period']['dict_timeseries']['coastline_position_transect_45_waterline']['monthly']['coastline_position_transect_45_waterline']\n",
    "len(ts)\n",
    "import Rbeast as rb\n",
    "\n",
    "o = rb.beast(ts.values, deltat = '1/12 year', period='1 year')\n",
    "rb.plot(o)"
   ]
  },
  {
   "cell_type": "code",
   "execution_count": 14,
   "metadata": {},
   "outputs": [
    {
     "data": {
      "text/plain": [
       "[<matplotlib.lines.Line2D at 0x156a0f2acf0>]"
      ]
     },
     "execution_count": 14,
     "metadata": {},
     "output_type": "execute_result"
    }
   ],
   "source": [
    "from statsmodels.tsa.stattools import acf, adfuller, kpss\n",
    "\n",
    "plt.plot(ts.values - o.trend.Y)"
   ]
  },
  {
   "cell_type": "code",
   "execution_count": 33,
   "metadata": {},
   "outputs": [],
   "source": [
    "plot_shoreline_transects(island_info)"
   ]
  },
  {
   "cell_type": "code",
   "execution_count": 34,
   "metadata": {},
   "outputs": [
    {
     "name": "stdout",
     "output_type": "stream",
     "text": [
      "\n",
      "INFO: To supress printing the parameers in beast(),      set print.options = 0 \n",
      "INFO: To supress printing the parameers in beast_irreg(),set print.options = 0 \n",
      "INFO: To supress printing the parameers in beast123(),   set extra.printOptions = 0  \n",
      "INFO: To supress warning messages in beast(),            set quiet = 1 \n",
      "INFO: To supress warning messages in beast_irreg(),      set quiet = 1 \n",
      "INFO: To supress warning messages in beast123(),         set extra.quiet = 1  \n",
      "\n",
      "#--------------------------------------------------#\n",
      "#       Brief summary of Input Data                #\n",
      "#--------------------------------------------------#\n",
      "Data Dimension: One signal of length 65\n",
      "IsOrdered     : Yes, ordered in time\n",
      "IsRegular     : Yes, evenly spaced at interval of  0.0833333 year = 1 months = 30.4167 days\n",
      "HasSeasonCmpnt: True  | period = 1 year = 12 months = 365 days. The model 'Y=Trend+Season+Error' is fitted.\n",
      "              : Num_of_DataPoints_per_Period = period/deltaTime = 1/0.0833333 = 12\n",
      "HasOutlierCmpt: False | If true, Y=Trend+Season+Outlier+Error fitted instead of Y=Trend+Season+Error\n",
      "Deseasonalize : False | If true, remove a global seasonal  cmpnt before running BEAST & add it back after BEAST\n",
      "Detrend       : False | If true, remove a global trend component before running BEAST & add it back after BEAST\n",
      "MissingValue  : NaN  flagged as missing values \n",
      "MaxMissingRate: if more than 75% of data is missing, BEAST will skip it.\n",
      "\n",
      "\n",
      "#--------------------------------------------------#\n",
      "#      OPTIONS used in the MCMC inference          #\n",
      "#--------------------------------------------------#\n",
      "\n",
      "#......Start of displaying 'MetaData' ......\n",
      "metadata                =  rb.args() ### or 'lambda: None': just get an empty object### # metadata is used to interpret the input data Y\n",
      "metadata.season         = 'harmonic' # fit a harmonic model to the periodic component\n",
      "metadata.startTime      = 1          # 0001-01-01\n",
      "metadata.deltaTime      = 0.0833333  # 0.0833333 year(s) = 1 month(s) = 30.4167 day(s)\n",
      "metadata.period         = 1          # 1 year(s) = 12 month(s) = 365 day(s) \n",
      "metadata.maxMissingRate = 0.75       # if more than 75% of data is missing, BEAST will skip it.\n",
      "metadata.deseasonalize  = False      # if true,remove a global seasonal cmpnt before running BEAST & add it back later\n",
      "metadata.detrend        = False      # if true,remove a global trend  cmpnt before running BEAST & add it back later\n",
      "#........End of displaying MetaData ........\n",
      "\n",
      "#......Start of displaying 'prior' ......\n",
      "prior                   =  rb.args() ### or 'lambda: None': just get an empty object### # prior is the true model parameters of BEAST\n",
      "prior.seasonMinOrder    = 1          # sorder.minmax[1]: min harmonic order alllowed\n",
      "prior.seasonMaxOrder    = 5          # sorder.minmax[2]: max harmonic order alllowed\n",
      "prior.seasonMinKnotNum  = 0          # scp.minmax[1]   : min num of seasonal chngpts allowed\n",
      "prior.seasonMaxKnotNum  = 8          # scp.minmax[2]   : max num of seasonal chngpts allowed\n",
      "prior.seasonMinSepDist  = 6          # sseg.min        : min seasonal segment length in terms of datapoints\n",
      "prior.seasonLeftMargin  = 6          # sseg.leftmargin : no season chngpts in the first 6 datapoints\n",
      "prior.seasonRightMargin = 6          # sseg.rightmargin: no seoson chngpts in the last 6 datapoints\n",
      "prior.trendMinOrder     = 0          # torder.minmax[1]: min trend polynomial order alllowed\n",
      "prior.trendMaxOrder     = 1          # torder.minmax[2]: max trend polynomial order alllowed\n",
      "prior.trendMinKnotNum   = 0          # tcp.minmax[1]   : min num of chngpts in trend allowed\n",
      "prior.trendMaxKnotNum   = 8          # tcp.minmax[2]   : max num of chngpts in trend allowed\n",
      "prior.trendMinSepDist   = 6          # tseg.min        : min trend segment length in terms of datapoints\n",
      "prior.trendLeftMargin   = 6          # tseg.leftmargin : no trend chngpts in the first 6 datapoints\n",
      "prior.trendRightMargin  = 6          # tseg.rightmargin: no trend chngpts in the last 6 datapoints\n",
      "prior.K_MAX             = 65         # max number of terms in general linear model (relevant only at small values)\n",
      "prior.precValue         = 1.5        # useful mainly when precPriorType='constant'\n",
      "prior.modelPriorType    = 1         \n",
      "prior.precPriorType     = 'componentwise'\n",
      "#......End of displaying prior ......\n",
      "\n",
      "#......Start of displaying 'mcmc' ......\n",
      "mcmc                           =  rb.args() ### or 'lambda: None': just get an empty object### # mcmc is not BEAST parameters but MCMC sampler options\n",
      "mcmc.seed                      = 0          # A nonzero seed to replicate among runs\n",
      "mcmc.samples                   = 8000       # Number of samples saved per chain: the larger, the better\n",
      "mcmc.thinningFactor            = 5          # Thinning the chain: the larger, the better \n",
      "mcmc.burnin                    = 200        # Number of initial samples discarded: the larger, the better\n",
      "mcmc.chainNumber               = 3          # Number of chains: the larger, the better\n",
      "mcmc.maxMoveStepSize           = 6          # Max step of jumping from current changepoint: No need to change\n",
      "mcmc.trendResamplingOrderProb  = 0.1        # Proposal probability of sampling trend polynominal order \n",
      "mcmc.seasonResamplingOrderProb = 0.17       # Proposal probability of sampling seasoanl order \n",
      "mcmc.credIntervalAlphaLevel    = 0.95       # The alphal level for Credible Intervals\n",
      "# Total number of models randomly visited in BEAST is (burnin+sampples*thinFactor)*chainNumber=120600\n",
      "#......End of displaying mcmc ......\n",
      "\n",
      "#......Start of displaying 'extra' ......\n",
      "extra                      =  rb.args() ### or 'lambda: None': just get an empty object### # extra is used to configure output/computing options\n",
      "extra.dumpInputData        = True  # if true, dump a copy of the input data as o.data \n",
      "extra.whichOutputDimIsTime = 1     # 1,2 or 3; which dim of the result is time; used for a 2D/3D input Y\n",
      "extra.computeCredible      = True  # if true, compute  credibiel interval of estimated Y (e.g., o.trend.CI)\n",
      "extra.fastCIComputation    = True  # if true, do not sort but approximiate CI \n",
      "extra.computeSeasonOrder   = True  # if true, dump the estimated time-varying seasonal order: o.season.order \n",
      "extra.computeTrendOrder    = True  # if true, dump the estimated trend polynomial order \n",
      "extra.computeSeasonChngpt  = True  # if true, dump the seasoanl changepoints (scp) in the output \n",
      "extra.computeTrendChngpt   = True  # if true, dump the trend changepoints (tcp) in the output \n",
      "extra.computeSeasonAmp     = False #  compute time-varying seasonal mangitude if season=harmonic  \n",
      "extra.computeTrendSlope    = True  # if true, dump the time-varying slope in trend\n",
      "extra.tallyPosNegSeasonJump= False # differentiate postive/negative jumps at scp\n",
      "extra.tallyPosNegTrendJump = False # differentiate postive/negative jumps at tcp\n",
      "extra.tallyIncDecTrendJump = False # differentiate increased/decreased slopes at tcp\n",
      "extra.printProgressBar     = True  # if true, show an ascii progressbar\n",
      "extra.printOptions         = True  # if true, print the option of the BEAST run\n",
      "extra.consoleWidth         = 85    # an integer specifying the console width for printing\n",
      "extra.numThreadsPerCPU     = 2     # each cpu core spawns 2 concurrent threads (for beast123())\n",
      "extra.numParThreads        = 0     # total number of threads (for beast123() only)\n",
      "#......End of displaying extra ......\n",
      "\n",
      "\\Progress:100.0% done[==============================================================]\n",
      "13\n"
     ]
    },
    {
     "data": {
      "text/plain": [
       "<matplotlib.legend.Legend at 0x15697a7a0f0>"
      ]
     },
     "execution_count": 34,
     "metadata": {},
     "output_type": "execute_result"
    }
   ],
   "source": [
    "from statsmodels.graphics.tsaplots import plot_acf, plot_pacf\n",
    "\n",
    "from matplotlib.collections import PolyCollection, LineCollection\n",
    "\n",
    "t = 9\n",
    "ts = island_info['timeseries_preprocessing']['optimal time period']['dict_timeseries']['coastline_position_transect_{}_waterline'.format(t)]['monthly']['coastline_position_transect_{}_waterline'.format(t)]\n",
    "\n",
    "o = rb.beast(ts.values, deltat = '1/12 year', period='1 year')\n",
    "# rb.plot(o)\n",
    "\n",
    "def plot_acf_colors(ax, markercolor=\"#d62828\", linecolor=\"black\", facecolor=\"silver\", barcolor=\"#003049\", linewidth=1):\n",
    "    \"\"\"utility function to get some control over colors with  plot_acf()\"\"\"\n",
    "    \n",
    "    for item in ax.collections:\n",
    "        # change the color of the confidence interval \n",
    "        if type(item) == PolyCollection:\n",
    "            item.set_facecolor(facecolor)\n",
    "        # change the color of the vertical lines\n",
    "        if type(item) == LineCollection:\n",
    "            item.set_color(barcolor)\n",
    "    # change the color of the markers\n",
    "    [line.get_label() for line in ax.lines]\n",
    "    for item in ax.lines:\n",
    "        item.set_color(markercolor)\n",
    "    # change the color of the horizontal lines\n",
    "    ax.lines[0].set_color(linecolor)\n",
    "    ax.lines[0].set_linewidth(linewidth)\n",
    "    #ax.lines.remove(ax.lines[0])\n",
    "    return ax\n",
    "\n",
    "fig, axs = plt.subplots(2,2, figsize=(20,20))\n",
    "axs = axs.ravel()\n",
    "plot_acf(ts - o.trend.Y, lags=40, alpha=0.05, ax=axs[1], color='k', use_vlines=True, fft=True, vlines_kwargs={'colors': 'k', 'linestyles': 'dashed'}, title='', gapcolor='k')\n",
    "ax = plot_acf_colors(axs[1])\n",
    "# axs[1].axvline(x=12, color='k', linestyle='-', linewidth=0.5, zorder=0, alpha=0.5)\n",
    "# axs[1].axvline(x=6, color='k', linestyle='-', linewidth=0.5, zorder=0, alpha=0.5)\n",
    "# axs[1].axvline(x=18, color='k', linestyle='-', linewidth=0.5, zorder=0, alpha=0.5)\n",
    "# ax.axvline(x=24, color='red', linestyle='--')\n",
    "# ax.axvline(x=36, color='red', linestyle='--')\n",
    "# ax.axvline(x=6, color='g', linestyle='--', label='6 months')\n",
    "# ax.axvline(x=18, color='g', linestyle='--')\n",
    "# ax.axvline(x=30, color='g', linestyle='--')\n",
    "axs[1].set_xlabel('Lag (months)', fontsize=20)\n",
    "axs[1].set_ylabel('Autocorrelation', fontsize=20)\n",
    "# axs[1].text(12.2, 0.75, '12 months', fontsize=15, fontweight='bold')\n",
    "# axs[1].text(6.2, 0.85, '6 months', fontsize=15, fontweight='bold')\n",
    "# axs[1].text(18.2, 0.65, '18 months', fontsize=15, fontweight='bold')\n",
    "axs[1].set_xlim(-1, 40.5)\n",
    "axs[1].set_ylim(-1.05, 1.05)\n",
    "# Increase tick size\n",
    "# We change the fontsize of minor ticks label \n",
    "axs[1].tick_params(axis='both', which='major', labelsize=12)\n",
    "axs[3].tick_params(axis='both', which='major', labelsize=12)\n",
    "# axs[1].tick_params(axis='both', which='minor', labelsize=20)\n",
    "\n",
    "# axs[1].plot(ts, color='k', linewidth=1.5, label='Preprocessed time series')\n",
    "# axs[1].set_xlabel('Time', fontsize=20)\n",
    "# axs[1].set_ylabel('Coastline position (m)', fontsize=20)\n",
    "# axs[1].legend()\n",
    "# plot_shoreline_transects(island_info, ax=axs[0], transect_plot=10)\n",
    "\n",
    "axs[3].plot(ts - o.trend.Y, color='#456990', linewidth=1.5, alpha=0.7, label='Preprocessed time series')\n",
    "axs[3].set_xlabel('Time', fontsize=20)\n",
    "axs[3].set_ylabel('Coastline position (m)', fontsize=20)\n",
    "# ax.set_title('')\n",
    "# ax.legend(fontsize=15)\n",
    "\n",
    "import numpy as np\n",
    "import skimage.exposure as exposure\n",
    "import pyproj\n",
    "\n",
    "def _image_stretch(im):\n",
    "    # Rescale image for visualisation\n",
    "    if np.ndim(im) > 2:\n",
    "        for i in range(np.shape(im)[2]):\n",
    "            im_no_nan = im[:, :, i][~np.isnan(im[:, :, i])]\n",
    "            im[:, :, i] = exposure.rescale_intensity(im[:, :, i], in_range=(im_no_nan.min(), im_no_nan.max()))\n",
    "    \n",
    "    else:\n",
    "        im_no_nan = im[~np.isnan(im)]\n",
    "        im = exposure.rescale_intensity(im, in_range=(im_no_nan.min(), im_no_nan.max()))\n",
    "    \n",
    "    return im\n",
    "\n",
    "kk = 73\n",
    "# georef = all_dict[2][list(all_dict[2].keys())[kk]]\n",
    "# rgb = all_dict[1][list(all_dict[1].keys())[kk]]\n",
    "\n",
    "# axs[0].imshow(_image_stretch(rgb), extent=[georef[0], georef[0] + georef[1] * rgb.shape[1], georef[3] + georef[5] * rgb.shape[0], georef[3]])\n",
    "plot_shoreline_transects(island_info, transect_plot=t, ax=axs[0])\n",
    "axs[0].axis('off')\n",
    "\n",
    "from scipy.fft import fft\n",
    "from scipy.signal import find_peaks, argrelextrema\n",
    "from scipy import stats\n",
    "\n",
    "\n",
    "time_series = ts\n",
    "# Fourier transform of time series\n",
    "fft_result = fft(time_series.values - o.trend.Y)\n",
    "\n",
    "# Get frequencies\n",
    "frequencies = np.fft.fftfreq(len(time_series.values), d=1)#1/12)\n",
    "\n",
    "# Only take the positive half of the spectrum\n",
    "positive_freq = frequencies[:len(frequencies)//2]\n",
    "positive_magnitude = np.abs(fft_result[:len(fft_result)//2])\n",
    "\n",
    "# Convert frequency to cycles per year\n",
    "positive_freq_yearly = positive_freq * 12\n",
    "\n",
    "axs[2].plot(positive_freq_yearly[1:], positive_magnitude[1:], color='#20a39e', linewidth=1.5, label='Fast Fourier Transform')\n",
    "axs[2].set_xlabel('Frequency (cycles per year)', fontsize=20)\n",
    "axs[2].set_ylabel('Amplitude', fontsize=20)\n",
    "axs[2].axvline(x=1, color='k', linestyle='-', linewidth=0.5, zorder=0, alpha=0.5)\n",
    "axs[2].axvline(x=2, color='k', linestyle='-', linewidth=0.5, zorder=0, alpha=0.5)\n",
    "axs[2].axvline(x=3, color='k', linestyle='-', linewidth=0.5, zorder=0, alpha=0.5)\n",
    "axs[2].tick_params(axis='both', which='major', labelsize=12)\n",
    "# axs[2].set_ylim(0, 600)\n",
    "axs[2].set_xlim(0.1, 5)\n",
    "\n",
    "# fft_result without frequency 0\n",
    "fft_result_n = fft_result[1:]\n",
    "\n",
    "# Remove frequencies with amplitude below a threshold\n",
    "#print(all(element is False for element in (stats.zscore(np.abs(fft_result_n)) > self.z_score_seasonality)))\n",
    "score_list = stats.zscore(np.abs(fft_result_n)) > 2.\n",
    "if all(not element for element in score_list):\n",
    "    fft_result = fft_result\n",
    "else:\n",
    "    threshold = np.min(np.abs(fft_result_n[stats.zscore(np.abs(fft_result_n)) > 2.]))\n",
    "    fft_result[np.abs(fft_result) < threshold] = 0\n",
    "\n",
    "# Only take the positive half of the spectrum\n",
    "positive_freq = frequencies[:len(frequencies)//2]\n",
    "positive_magnitude = np.abs(fft_result[:len(fft_result)//2])\n",
    "\n",
    "# Convert frequency to cycles per year\n",
    "positive_freq_yearly = positive_freq * 12\n",
    "\n",
    "axs[2].plot(positive_freq_yearly[1:], positive_magnitude[1:], color='#ffba49', linewidth=2, ls = '--', label='Filtered Fast Fourier Transform')\n",
    "axs[2].legend(fontsize=15)\n",
    "\n",
    "# Inverse Fourier transform (filetered data)\n",
    "filtered_data_fourier = np.fft.ifft(fft_result).real\n",
    "\n",
    "# Find peaks\n",
    "peaks_fourier, _ = find_peaks(filtered_data_fourier, height=0)\n",
    "\n",
    "# Find period\n",
    "period_fourier = stats.mode(np.diff(peaks_fourier)).mode\n",
    "print(period_fourier)\n",
    "\n",
    "axs[3].plot(time_series.index, filtered_data_fourier, color='#540d6e', linewidth=1.5, label='Fourier-filtered time series')\n",
    "ii=0\n",
    "for peak in peaks_fourier:\n",
    "        if ii==0:\n",
    "            axs[3].axvline(time_series.index[peak], color='#EF767A', linestyle='--', linewidth=1.3)\n",
    "        else:\n",
    "            axs[3].axvline(time_series.index[peak], color='#EF767A', linestyle='--', linewidth=1.3)\n",
    "        ii+=1\n",
    "\n",
    "import datetime\n",
    "# axs[3].annotate('', xy=(datetime.datetime(2017, 5, 1), 136), xytext=(datetime.datetime(2018, 4, 1), 136), arrowprops=dict(arrowstyle='<->', color='black'))\n",
    "# plt.text(datetime.datetime(2017, 10, 15), 138, '12 months', horizontalalignment='center', verticalalignment='center', fontsize=20, fontweight='bold')\n",
    "\n",
    "# axs[3].annotate('', xy=(datetime.datetime(2017, 7, 1), 115), xytext=(datetime.datetime(2018, 1, 15), 115), arrowprops=dict(arrowstyle='<->', color='black'))\n",
    "# plt.text(datetime.datetime(2017, 10, 1), 117, '7 months', horizontalalignment='center', verticalalignment='center', fontsize=20, fontweight='bold')\n",
    "\n",
    "# axs[3].annotate('', xy=(datetime.datetime(2017, 2, 1), 95), xytext=(datetime.datetime(2017, 7, 1), 95), arrowprops=dict(arrowstyle='<->', color='black'))\n",
    "# plt.text(datetime.datetime(2017, 4, 1), 97, '5 months', horizontalalignment='center', verticalalignment='center', fontsize=20, fontweight='bold')\n",
    "\n",
    "axs[3].legend(fontsize=15, loc='best')\n",
    "# ax[1, 1].set_title('Fourier reconstruction'\n",
    "\n",
    "# fig.savefig('figures//non_seasonal_signal_new.png', dpi=300)\n",
    "\n",
    "# axs[0].text()"
   ]
  },
  {
   "cell_type": "code",
   "execution_count": 2,
   "metadata": {},
   "outputs": [
    {
     "name": "stdout",
     "output_type": "stream",
     "text": [
      "b'filename\\t2013-11-14-05-22-20_L8_Kalherehaa_Maldives_ms.tif\\r\\nepsg\\t32643\\r\\nacc_georef\\t7.7\\r\\nimage_quality\\t9\\r\\nim_width\\t135\\r\\nim_height\\t98\\r\\n'\n"
     ]
    }
   ],
   "source": [
    "ff = 'c:\\\\Users\\\\myriampe\\\\OneDrive - Imperial College London\\\\IslandTimeGitHub\\\\IslandTime\\\\data\\\\coastsat_data\\\\Kalherehaa_Maldives\\\\L8\\\\meta\\\\2013-11-14-05-22-20_L8_Kalherehaa_Maldives.txt'\n",
    "\n",
    "with open(ff, 'rb') as f:\n",
    "    print(f.read())"
   ]
  },
  {
   "cell_type": "code",
   "execution_count": 3,
   "metadata": {},
   "outputs": [],
   "source": [
    "plot_shoreline_transects(island_info)"
   ]
  },
  {
   "cell_type": "code",
   "execution_count": 4,
   "metadata": {},
   "outputs": [
    {
     "name": "stdout",
     "output_type": "stream",
     "text": [
      "\n",
      "-------------------------------------------------------------------\n",
      "Retrieving all information available for the island\n",
      "Island: Kereddhoo, Maldives\n",
      "-------------------------------------------------------------------\n",
      "\n",
      "~ The following information is available: ~\n",
      "\n",
      "general_info\n",
      "               island\n",
      "               country\n",
      "               atoll\n",
      "spatial_reference\n",
      "               latitude\n",
      "               longitude\n",
      "               polygon\n",
      "               reference_shoreline\n",
      "               transects\n",
      "               area_country\n",
      "               reference_shoreline_buffer_L8\n",
      "               reference_shoreline_buffer_L9\n",
      "               reference_shoreline_buffer_S2\n",
      "image_collection_dict\n",
      "               description\n",
      "               S2\n",
      "               L7\n",
      "               L8\n",
      "               L9\n",
      "timeseries_coastsat\n",
      "               description\n",
      "               description_timeseries\n",
      "               source\n",
      "               inputs\n",
      "               settings\n",
      "               timeseries\n",
      "timeseries_CRW\n",
      "               description\n",
      "               description_timeseries\n",
      "               source\n",
      "               timeseries\n",
      "timeseries_nighttime_light\n",
      "               description\n",
      "               description_timeseries\n",
      "               source\n",
      "               timeseries\n",
      "timeseries_disasters\n",
      "               description\n",
      "               description_timeseries\n",
      "               source\n",
      "               database\n",
      "               timeseries\n",
      "               confounders\n",
      "timeseries_WorldBank\n",
      "               description\n",
      "               description_timeseries\n",
      "               source\n",
      "               timeseries\n",
      "timeseries_WHO\n",
      "               description\n",
      "               description_timeseries\n",
      "               source\n",
      "               timeseries\n",
      "timeseries_sea_level_anomaly\n",
      "               description\n",
      "               description_timeseries\n",
      "               source\n",
      "               units\n",
      "               timeseries\n",
      "timeseries_PMLV2\n",
      "               description\n",
      "               description_timeseries\n",
      "               source\n",
      "               units\n",
      "timeseries_PSMSL\n",
      "               description\n",
      "               description_timeseries\n",
      "               source\n",
      "               stations\n",
      "               timeseries\n",
      "timeseries_PSLGM\n",
      "               description\n",
      "               description_timeseries\n",
      "               source\n",
      "timeseries_ERA5\n",
      "               description\n",
      "               description_timeseries\n",
      "               source\n",
      "               timeseries_transect_specific\n",
      "               timeseries\n",
      "               units\n",
      "characteristics_ECU\n",
      "               description\n",
      "               source\n",
      "               transects_characteristics_ECU\n",
      "timeseries_vegetation\n",
      "               description\n",
      "               description_timeseries\n",
      "               source\n",
      "               mask_total_vegetation_L8\n",
      "               mask_coastal_vegetation_L8\n",
      "               mask_total_vegetation_L9\n",
      "               mask_coastal_vegetation_L9\n",
      "               mask_total_vegetation_S2\n",
      "               mask_coastal_vegetation_S2\n",
      "               timeseries\n",
      "timeseries_climate_indices\n",
      "               description\n",
      "               description_timeseries\n",
      "               source\n",
      "               timeseries\n",
      "timeseries_segmentation\n",
      "               dict_extraction\n",
      "               dict_best_polygons\n",
      "               dict_timeseries\n",
      "               timeseries\n",
      "timeseries_preprocessing\n",
      "               df_coastline_timeseries\n",
      "               raw\n",
      "               optimal time period\n",
      "timeseries_analysis\n",
      "               coastline_position_transect_0_waterline\n",
      "               coastline_position_transect_1_waterline\n",
      "               coastline_position_transect_2_waterline\n",
      "               coastline_position_transect_3_waterline\n",
      "               coastline_position_transect_4_waterline\n",
      "               coastline_position_transect_5_waterline\n",
      "               coastline_position_transect_6_waterline\n",
      "               coastline_position_transect_7_waterline\n",
      "               coastline_position_transect_8_waterline\n",
      "               coastline_position_transect_9_waterline\n",
      "               coastline_position_transect_10_waterline\n",
      "               coastline_position_transect_11_waterline\n",
      "               coastline_position_transect_12_waterline\n",
      "               coastline_position_transect_13_waterline\n",
      "               coastline_position_transect_14_waterline\n",
      "               coastline_position_transect_15_waterline\n",
      "               coastline_position_transect_16_waterline\n",
      "               coastline_position_transect_17_waterline\n",
      "               coastline_position_transect_18_waterline\n",
      "               coastline_position_transect_19_waterline\n",
      "               coastline_position_transect_20_waterline\n",
      "               coastline_position_transect_21_waterline\n",
      "               coastline_position_transect_22_waterline\n",
      "               coastline_position_transect_23_waterline\n",
      "               coastline_position_transect_24_waterline\n",
      "               coastline_position_transect_25_waterline\n",
      "               coastline_position_transect_26_waterline\n",
      "               coastline_position_transect_27_waterline\n",
      "               coastline_position_transect_28_waterline\n",
      "               coastline_position_transect_29_waterline\n",
      "               coastline_position_transect_30_waterline\n",
      "               coastline_position_transect_33_waterline\n",
      "               coastline_position_transect_34_waterline\n",
      "               coastline_position_transect_35_waterline\n",
      "               coastline_position_transect_36_waterline\n",
      "               coastline_position_transect_37_waterline\n",
      "               coastline_position_transect_38_waterline\n",
      "               coastline_position_transect_39_waterline\n",
      "               coastline_position_transect_41_waterline\n",
      "               coastline_position_transect_42_waterline\n",
      "               coastline_position_transect_43_waterline\n",
      "               coastline_position_transect_44_waterline\n",
      "               coastline_position_transect_45_waterline\n",
      "               coastline_position_transect_46_waterline\n",
      "               coastline_position_transect_47_waterline\n",
      "               coastline_position_transect_48_waterline\n",
      "               coastline_position_transect_49_waterline\n",
      "               coastline_position_transect_50_waterline\n",
      "               coastline_position_transect_51_waterline\n",
      "               coastline_position_transect_52_waterline\n",
      "               coastline_position_transect_53_waterline\n",
      "               coastline_position_transect_54_waterline\n",
      "               coastline_position_transect_55_waterline\n",
      "               coastline_position_transect_56_waterline\n",
      "               coastline_position_transect_57_waterline\n",
      "               coastline_position_transect_58_waterline\n",
      "               coastline_position_transect_59_waterline\n",
      "               coastline_position_transect_60_waterline\n",
      "               coastline_position_transect_61_waterline\n",
      "               coastline_position_transect_62_waterline\n",
      "               coastline_position_transect_63_waterline\n",
      "               coastline_position_transect_64_waterline\n",
      "               coastline_position_transect_65_waterline\n",
      "               coastline_position_transect_66_waterline\n",
      "               coastline_position_transect_67_waterline\n",
      "               coastline_position_transect_68_waterline\n",
      "               coastline_position_transect_69_waterline\n",
      "               coastline_position_transect_70_waterline\n",
      "               coastline_position_transect_71_waterline\n",
      "               coastline_position_transect_72_waterline\n",
      "               coastline_position_transect_73_waterline\n",
      "               coastline_position_transect_74_waterline\n",
      "               coastline_position_transect_75_waterline\n",
      "               coastline_position_transect_76_waterline\n",
      "               coastline_position_transect_77_waterline\n",
      "               coastline_position_transect_78_waterline\n",
      "               coastline_position_transect_79_waterline\n",
      "               coastline_position_transect_80_waterline\n",
      "               coastline_position_transect_81_waterline\n",
      "               coastline_position_transect_82_waterline\n",
      "               coastline_position_transect_83_waterline\n",
      "               coastline_position_transect_84_waterline\n",
      "               coastline_position_transect_85_waterline\n",
      "timeseries_aggregation\n",
      "               dict_results_agg_minima\n",
      "               dict_results_agg_peaks\n",
      "\n",
      "-------------------------------------------------------------------\n",
      "Time series analysis\n",
      "Island: Kereddhoo, Maldives\n",
      "-------------------------------------------------------------------\n",
      "\n"
     ]
    },
    {
     "name": "stderr",
     "output_type": "stream",
     "text": [
      "Transect:   0%|          | 0/83 [00:00<?, ?it/s]"
     ]
    },
    {
     "name": "stdout",
     "output_type": "stream",
     "text": [
      "\n",
      "\n"
     ]
    },
    {
     "name": "stderr",
     "output_type": "stream",
     "text": [
      "Transect:   1%|          | 1/83 [00:00<01:07,  1.22it/s]"
     ]
    },
    {
     "name": "stdout",
     "output_type": "stream",
     "text": [
      "\n",
      "\n",
      "\n",
      "\n"
     ]
    },
    {
     "name": "stderr",
     "output_type": "stream",
     "text": [
      "Transect:   2%|▏         | 2/83 [00:01<01:18,  1.03it/s]"
     ]
    },
    {
     "name": "stdout",
     "output_type": "stream",
     "text": [
      "\n",
      "\n",
      "\n"
     ]
    },
    {
     "name": "stderr",
     "output_type": "stream",
     "text": [
      "Transect:   4%|▎         | 3/83 [00:03<01:26,  1.08s/it]"
     ]
    },
    {
     "name": "stdout",
     "output_type": "stream",
     "text": [
      "\n",
      "\n",
      "\n"
     ]
    },
    {
     "name": "stderr",
     "output_type": "stream",
     "text": [
      "Transect:   5%|▍         | 4/83 [00:04<01:27,  1.11s/it]"
     ]
    },
    {
     "name": "stdout",
     "output_type": "stream",
     "text": [
      "\n",
      "\n",
      "\n"
     ]
    },
    {
     "name": "stderr",
     "output_type": "stream",
     "text": [
      "Transect:   6%|▌         | 5/83 [00:05<01:28,  1.13s/it]"
     ]
    },
    {
     "name": "stdout",
     "output_type": "stream",
     "text": [
      "\n",
      "\n",
      "\n"
     ]
    },
    {
     "name": "stderr",
     "output_type": "stream",
     "text": [
      "Transect:   7%|▋         | 6/83 [00:06<01:27,  1.13s/it]"
     ]
    },
    {
     "name": "stdout",
     "output_type": "stream",
     "text": [
      "\n",
      "\n",
      "\n"
     ]
    },
    {
     "name": "stderr",
     "output_type": "stream",
     "text": [
      "Transect:   8%|▊         | 7/83 [00:07<01:28,  1.16s/it]"
     ]
    },
    {
     "name": "stdout",
     "output_type": "stream",
     "text": [
      "\n",
      "\n",
      "\n"
     ]
    },
    {
     "name": "stderr",
     "output_type": "stream",
     "text": [
      "Transect:  10%|▉         | 8/83 [00:08<01:24,  1.13s/it]"
     ]
    },
    {
     "name": "stdout",
     "output_type": "stream",
     "text": [
      "\n",
      "\n",
      "\n"
     ]
    },
    {
     "name": "stderr",
     "output_type": "stream",
     "text": [
      "Transect:  11%|█         | 9/83 [00:09<01:21,  1.10s/it]"
     ]
    },
    {
     "name": "stdout",
     "output_type": "stream",
     "text": [
      "\n",
      "\n",
      "\n"
     ]
    },
    {
     "name": "stderr",
     "output_type": "stream",
     "text": [
      "Transect:  12%|█▏        | 10/83 [00:10<01:16,  1.04s/it]"
     ]
    },
    {
     "name": "stdout",
     "output_type": "stream",
     "text": [
      "\n",
      "\n",
      "\n"
     ]
    },
    {
     "name": "stderr",
     "output_type": "stream",
     "text": [
      "Transect:  13%|█▎        | 11/83 [00:11<01:14,  1.04s/it]"
     ]
    },
    {
     "name": "stdout",
     "output_type": "stream",
     "text": [
      "\n",
      "\n",
      "\n"
     ]
    },
    {
     "name": "stderr",
     "output_type": "stream",
     "text": [
      "Transect:  14%|█▍        | 12/83 [00:12<01:11,  1.00s/it]"
     ]
    },
    {
     "name": "stdout",
     "output_type": "stream",
     "text": [
      "\n",
      "\n",
      "\n"
     ]
    },
    {
     "name": "stderr",
     "output_type": "stream",
     "text": [
      "Transect:  16%|█▌        | 13/83 [00:13<01:11,  1.03s/it]"
     ]
    },
    {
     "name": "stdout",
     "output_type": "stream",
     "text": [
      "\n",
      "\n",
      "\n"
     ]
    },
    {
     "name": "stderr",
     "output_type": "stream",
     "text": [
      "Transect:  17%|█▋        | 14/83 [00:14<01:09,  1.01s/it]"
     ]
    },
    {
     "name": "stdout",
     "output_type": "stream",
     "text": [
      "\n",
      "\n",
      "\n"
     ]
    },
    {
     "name": "stderr",
     "output_type": "stream",
     "text": [
      "Transect:  18%|█▊        | 15/83 [00:15<01:07,  1.00it/s]"
     ]
    },
    {
     "name": "stdout",
     "output_type": "stream",
     "text": [
      "\n",
      "\n",
      "\n"
     ]
    },
    {
     "name": "stderr",
     "output_type": "stream",
     "text": [
      "Transect:  19%|█▉        | 16/83 [00:16<01:08,  1.02s/it]"
     ]
    },
    {
     "name": "stdout",
     "output_type": "stream",
     "text": [
      "\n",
      "\n",
      "\n"
     ]
    },
    {
     "name": "stderr",
     "output_type": "stream",
     "text": [
      "Transect:  20%|██        | 17/83 [00:18<01:12,  1.09s/it]"
     ]
    },
    {
     "name": "stdout",
     "output_type": "stream",
     "text": [
      "\n",
      "\n"
     ]
    },
    {
     "name": "stderr",
     "output_type": "stream",
     "text": [
      "Transect:  22%|██▏       | 18/83 [00:19<01:08,  1.06s/it]"
     ]
    },
    {
     "name": "stdout",
     "output_type": "stream",
     "text": [
      "\n",
      "\n",
      "\n"
     ]
    },
    {
     "name": "stderr",
     "output_type": "stream",
     "text": [
      "Transect:  23%|██▎       | 19/83 [00:19<01:03,  1.01it/s]"
     ]
    },
    {
     "name": "stdout",
     "output_type": "stream",
     "text": [
      "\n",
      "\n",
      "\n",
      "\n"
     ]
    },
    {
     "name": "stderr",
     "output_type": "stream",
     "text": [
      "Transect:  24%|██▍       | 20/83 [00:21<01:07,  1.07s/it]"
     ]
    },
    {
     "name": "stdout",
     "output_type": "stream",
     "text": [
      "\n",
      "\n",
      "\n"
     ]
    },
    {
     "name": "stderr",
     "output_type": "stream",
     "text": [
      "Transect:  25%|██▌       | 21/83 [00:22<01:16,  1.24s/it]"
     ]
    },
    {
     "name": "stdout",
     "output_type": "stream",
     "text": [
      "\n",
      "\n",
      "\n"
     ]
    },
    {
     "name": "stderr",
     "output_type": "stream",
     "text": [
      "Transect:  27%|██▋       | 22/83 [00:24<01:20,  1.32s/it]"
     ]
    },
    {
     "name": "stdout",
     "output_type": "stream",
     "text": [
      "\n",
      "\n",
      "\n"
     ]
    },
    {
     "name": "stderr",
     "output_type": "stream",
     "text": [
      "Transect:  28%|██▊       | 23/83 [00:26<01:38,  1.64s/it]"
     ]
    },
    {
     "name": "stdout",
     "output_type": "stream",
     "text": [
      "\n",
      "\n",
      "\n"
     ]
    },
    {
     "name": "stderr",
     "output_type": "stream",
     "text": [
      "Transect:  29%|██▉       | 24/83 [00:28<01:32,  1.57s/it]"
     ]
    },
    {
     "name": "stdout",
     "output_type": "stream",
     "text": [
      "\n",
      "\n",
      "\n"
     ]
    },
    {
     "name": "stderr",
     "output_type": "stream",
     "text": [
      "Transect:  30%|███       | 25/83 [00:29<01:27,  1.50s/it]"
     ]
    },
    {
     "name": "stdout",
     "output_type": "stream",
     "text": [
      "\n",
      "\n"
     ]
    },
    {
     "name": "stderr",
     "output_type": "stream",
     "text": [
      "Transect:  31%|███▏      | 26/83 [00:30<01:21,  1.43s/it]"
     ]
    },
    {
     "name": "stdout",
     "output_type": "stream",
     "text": [
      "\n",
      "\n",
      "\n",
      "\n"
     ]
    },
    {
     "name": "stderr",
     "output_type": "stream",
     "text": [
      "Transect:  33%|███▎      | 27/83 [00:31<01:15,  1.36s/it]"
     ]
    },
    {
     "name": "stdout",
     "output_type": "stream",
     "text": [
      "\n",
      "\n",
      "\n"
     ]
    },
    {
     "name": "stderr",
     "output_type": "stream",
     "text": [
      "Transect:  34%|███▎      | 28/83 [00:33<01:12,  1.32s/it]"
     ]
    },
    {
     "name": "stdout",
     "output_type": "stream",
     "text": [
      "\n",
      "\n",
      "\n"
     ]
    },
    {
     "name": "stderr",
     "output_type": "stream",
     "text": [
      "Transect:  35%|███▍      | 29/83 [00:34<01:12,  1.34s/it]"
     ]
    },
    {
     "name": "stdout",
     "output_type": "stream",
     "text": [
      "\n",
      "\n"
     ]
    },
    {
     "name": "stderr",
     "output_type": "stream",
     "text": [
      "Transect:  36%|███▌      | 30/83 [00:35<01:07,  1.28s/it]"
     ]
    },
    {
     "name": "stdout",
     "output_type": "stream",
     "text": [
      "\n",
      "\n",
      "\n",
      "\n"
     ]
    },
    {
     "name": "stderr",
     "output_type": "stream",
     "text": [
      "Transect:  37%|███▋      | 31/83 [00:36<01:02,  1.21s/it]"
     ]
    },
    {
     "name": "stdout",
     "output_type": "stream",
     "text": [
      "\n",
      "\n",
      "\n"
     ]
    },
    {
     "name": "stderr",
     "output_type": "stream",
     "text": [
      "Transect:  39%|███▊      | 32/83 [00:37<00:57,  1.13s/it]"
     ]
    },
    {
     "name": "stdout",
     "output_type": "stream",
     "text": [
      "\n",
      "\n"
     ]
    },
    {
     "name": "stderr",
     "output_type": "stream",
     "text": [
      "Transect:  40%|███▉      | 33/83 [00:38<00:55,  1.11s/it]"
     ]
    },
    {
     "name": "stdout",
     "output_type": "stream",
     "text": [
      "\n",
      "\n",
      "\n",
      "\n"
     ]
    },
    {
     "name": "stderr",
     "output_type": "stream",
     "text": [
      "Transect:  41%|████      | 34/83 [00:39<00:51,  1.05s/it]"
     ]
    },
    {
     "name": "stdout",
     "output_type": "stream",
     "text": [
      "\n",
      "\n",
      "\n"
     ]
    },
    {
     "name": "stderr",
     "output_type": "stream",
     "text": [
      "Transect:  42%|████▏     | 35/83 [00:40<00:49,  1.04s/it]"
     ]
    },
    {
     "name": "stdout",
     "output_type": "stream",
     "text": [
      "\n",
      "\n",
      "\n"
     ]
    },
    {
     "name": "stderr",
     "output_type": "stream",
     "text": [
      "Transect:  43%|████▎     | 36/83 [00:41<00:49,  1.04s/it]"
     ]
    },
    {
     "name": "stdout",
     "output_type": "stream",
     "text": [
      "\n",
      "\n"
     ]
    },
    {
     "name": "stderr",
     "output_type": "stream",
     "text": [
      "Transect:  45%|████▍     | 37/83 [00:42<00:47,  1.03s/it]"
     ]
    },
    {
     "name": "stdout",
     "output_type": "stream",
     "text": [
      "\n",
      "\n",
      "\n"
     ]
    },
    {
     "name": "stderr",
     "output_type": "stream",
     "text": [
      "Transect:  46%|████▌     | 38/83 [00:43<00:45,  1.00s/it]"
     ]
    },
    {
     "name": "stdout",
     "output_type": "stream",
     "text": [
      "\n",
      "\n",
      "\n"
     ]
    },
    {
     "name": "stderr",
     "output_type": "stream",
     "text": [
      "Transect:  47%|████▋     | 39/83 [00:44<00:46,  1.05s/it]"
     ]
    },
    {
     "name": "stdout",
     "output_type": "stream",
     "text": [
      "\n",
      "\n",
      "\n",
      "\n"
     ]
    },
    {
     "name": "stderr",
     "output_type": "stream",
     "text": [
      "Transect:  48%|████▊     | 40/83 [00:46<00:49,  1.16s/it]"
     ]
    },
    {
     "name": "stdout",
     "output_type": "stream",
     "text": [
      "\n",
      "\n"
     ]
    },
    {
     "name": "stderr",
     "output_type": "stream",
     "text": [
      "Transect:  49%|████▉     | 41/83 [00:47<00:47,  1.13s/it]"
     ]
    },
    {
     "name": "stdout",
     "output_type": "stream",
     "text": [
      "\n",
      "\n",
      "\n"
     ]
    },
    {
     "name": "stderr",
     "output_type": "stream",
     "text": [
      "Transect:  51%|█████     | 42/83 [00:48<00:42,  1.04s/it]"
     ]
    },
    {
     "name": "stdout",
     "output_type": "stream",
     "text": [
      "\n",
      "\n",
      "\n"
     ]
    },
    {
     "name": "stderr",
     "output_type": "stream",
     "text": [
      "Transect:  52%|█████▏    | 43/83 [00:48<00:38,  1.03it/s]"
     ]
    },
    {
     "name": "stdout",
     "output_type": "stream",
     "text": [
      "\n",
      "\n",
      "\n"
     ]
    },
    {
     "name": "stderr",
     "output_type": "stream",
     "text": [
      "Transect:  53%|█████▎    | 44/83 [00:49<00:36,  1.07it/s]"
     ]
    },
    {
     "name": "stdout",
     "output_type": "stream",
     "text": [
      "\n",
      "\n",
      "\n"
     ]
    },
    {
     "name": "stderr",
     "output_type": "stream",
     "text": [
      "Transect:  54%|█████▍    | 45/83 [00:50<00:34,  1.12it/s]"
     ]
    },
    {
     "name": "stdout",
     "output_type": "stream",
     "text": [
      "\n",
      "\n",
      "\n"
     ]
    },
    {
     "name": "stderr",
     "output_type": "stream",
     "text": [
      "Transect:  55%|█████▌    | 46/83 [00:51<00:33,  1.11it/s]"
     ]
    },
    {
     "name": "stdout",
     "output_type": "stream",
     "text": [
      "\n",
      "\n",
      "\n"
     ]
    },
    {
     "name": "stderr",
     "output_type": "stream",
     "text": [
      "Transect:  57%|█████▋    | 47/83 [00:52<00:31,  1.13it/s]"
     ]
    },
    {
     "name": "stdout",
     "output_type": "stream",
     "text": [
      "\n",
      "\n",
      "\n"
     ]
    },
    {
     "name": "stderr",
     "output_type": "stream",
     "text": [
      "Transect:  58%|█████▊    | 48/83 [00:53<00:30,  1.14it/s]"
     ]
    },
    {
     "name": "stdout",
     "output_type": "stream",
     "text": [
      "\n",
      "\n",
      "\n"
     ]
    },
    {
     "name": "stderr",
     "output_type": "stream",
     "text": [
      "Transect:  59%|█████▉    | 49/83 [00:53<00:28,  1.17it/s]"
     ]
    },
    {
     "name": "stdout",
     "output_type": "stream",
     "text": [
      "\n",
      "\n",
      "\n"
     ]
    },
    {
     "name": "stderr",
     "output_type": "stream",
     "text": [
      "Transect:  60%|██████    | 50/83 [00:55<00:30,  1.08it/s]"
     ]
    },
    {
     "name": "stdout",
     "output_type": "stream",
     "text": [
      "\n",
      "\n",
      "\n",
      "\n"
     ]
    },
    {
     "name": "stderr",
     "output_type": "stream",
     "text": [
      "Transect:  61%|██████▏   | 51/83 [00:56<00:30,  1.04it/s]"
     ]
    },
    {
     "name": "stdout",
     "output_type": "stream",
     "text": [
      "\n",
      "\n"
     ]
    },
    {
     "name": "stderr",
     "output_type": "stream",
     "text": [
      "Transect:  63%|██████▎   | 52/83 [00:57<00:32,  1.03s/it]"
     ]
    },
    {
     "name": "stdout",
     "output_type": "stream",
     "text": [
      "\n",
      "\n",
      "\n"
     ]
    },
    {
     "name": "stderr",
     "output_type": "stream",
     "text": [
      "Transect:  64%|██████▍   | 53/83 [00:58<00:31,  1.05s/it]"
     ]
    },
    {
     "name": "stdout",
     "output_type": "stream",
     "text": [
      "\n",
      "\n",
      "\n"
     ]
    },
    {
     "name": "stderr",
     "output_type": "stream",
     "text": [
      "Transect:  65%|██████▌   | 54/83 [00:59<00:28,  1.00it/s]"
     ]
    },
    {
     "name": "stdout",
     "output_type": "stream",
     "text": [
      "\n",
      "\n",
      "\n",
      "\n"
     ]
    },
    {
     "name": "stderr",
     "output_type": "stream",
     "text": [
      "Transect:  66%|██████▋   | 55/83 [01:00<00:28,  1.02s/it]"
     ]
    },
    {
     "name": "stdout",
     "output_type": "stream",
     "text": [
      "\n",
      "\n"
     ]
    },
    {
     "name": "stderr",
     "output_type": "stream",
     "text": [
      "Transect:  67%|██████▋   | 56/83 [01:01<00:27,  1.01s/it]"
     ]
    },
    {
     "name": "stdout",
     "output_type": "stream",
     "text": [
      "\n",
      "\n",
      "\n",
      "\n"
     ]
    },
    {
     "name": "stderr",
     "output_type": "stream",
     "text": [
      "Transect:  69%|██████▊   | 57/83 [01:02<00:26,  1.02s/it]"
     ]
    },
    {
     "name": "stdout",
     "output_type": "stream",
     "text": [
      "\n",
      "\n"
     ]
    },
    {
     "name": "stderr",
     "output_type": "stream",
     "text": [
      "Transect:  70%|██████▉   | 58/83 [01:03<00:24,  1.00it/s]"
     ]
    },
    {
     "name": "stdout",
     "output_type": "stream",
     "text": [
      "\n",
      "\n",
      "\n",
      "\n"
     ]
    },
    {
     "name": "stderr",
     "output_type": "stream",
     "text": [
      "Transect:  71%|███████   | 59/83 [01:04<00:23,  1.00it/s]"
     ]
    },
    {
     "name": "stdout",
     "output_type": "stream",
     "text": [
      "\n",
      "\n"
     ]
    },
    {
     "name": "stderr",
     "output_type": "stream",
     "text": [
      "Transect:  72%|███████▏  | 60/83 [01:05<00:22,  1.03it/s]"
     ]
    },
    {
     "name": "stdout",
     "output_type": "stream",
     "text": [
      "\n",
      "\n",
      "\n",
      "\n"
     ]
    },
    {
     "name": "stderr",
     "output_type": "stream",
     "text": [
      "Transect:  73%|███████▎  | 61/83 [01:06<00:22,  1.00s/it]"
     ]
    },
    {
     "name": "stdout",
     "output_type": "stream",
     "text": [
      "\n",
      "\n"
     ]
    },
    {
     "name": "stderr",
     "output_type": "stream",
     "text": [
      "Transect:  75%|███████▍  | 62/83 [01:07<00:20,  1.01it/s]"
     ]
    },
    {
     "name": "stdout",
     "output_type": "stream",
     "text": [
      "\n",
      "\n",
      "\n"
     ]
    },
    {
     "name": "stderr",
     "output_type": "stream",
     "text": [
      "Transect:  76%|███████▌  | 63/83 [01:08<00:19,  1.01it/s]"
     ]
    },
    {
     "name": "stdout",
     "output_type": "stream",
     "text": [
      "\n",
      "\n",
      "\n"
     ]
    },
    {
     "name": "stderr",
     "output_type": "stream",
     "text": [
      "Transect:  77%|███████▋  | 64/83 [01:09<00:17,  1.06it/s]"
     ]
    },
    {
     "name": "stdout",
     "output_type": "stream",
     "text": [
      "\n",
      "\n",
      "\n"
     ]
    },
    {
     "name": "stderr",
     "output_type": "stream",
     "text": [
      "Transect:  78%|███████▊  | 65/83 [01:09<00:16,  1.11it/s]"
     ]
    },
    {
     "name": "stdout",
     "output_type": "stream",
     "text": [
      "\n",
      "\n",
      "\n",
      "\n"
     ]
    },
    {
     "name": "stderr",
     "output_type": "stream",
     "text": [
      "Transect:  80%|███████▉  | 66/83 [01:10<00:16,  1.05it/s]"
     ]
    },
    {
     "name": "stdout",
     "output_type": "stream",
     "text": [
      "\n",
      "\n"
     ]
    },
    {
     "name": "stderr",
     "output_type": "stream",
     "text": [
      "Transect:  81%|████████  | 67/83 [01:11<00:14,  1.11it/s]"
     ]
    },
    {
     "name": "stdout",
     "output_type": "stream",
     "text": [
      "\n",
      "\n",
      "\n"
     ]
    },
    {
     "name": "stderr",
     "output_type": "stream",
     "text": [
      "Transect:  82%|████████▏ | 68/83 [01:12<00:12,  1.16it/s]"
     ]
    },
    {
     "name": "stdout",
     "output_type": "stream",
     "text": [
      "\n",
      "\n",
      "\n"
     ]
    },
    {
     "name": "stderr",
     "output_type": "stream",
     "text": [
      "Transect:  83%|████████▎ | 69/83 [01:13<00:11,  1.21it/s]"
     ]
    },
    {
     "name": "stdout",
     "output_type": "stream",
     "text": [
      "\n",
      "\n",
      "\n",
      "\n"
     ]
    },
    {
     "name": "stderr",
     "output_type": "stream",
     "text": [
      "Transect:  84%|████████▍ | 70/83 [01:14<00:11,  1.18it/s]"
     ]
    },
    {
     "name": "stdout",
     "output_type": "stream",
     "text": [
      "\n",
      "\n",
      "\n"
     ]
    },
    {
     "name": "stderr",
     "output_type": "stream",
     "text": [
      "Transect:  86%|████████▌ | 71/83 [01:15<00:10,  1.17it/s]"
     ]
    },
    {
     "name": "stdout",
     "output_type": "stream",
     "text": [
      "\n",
      "\n"
     ]
    },
    {
     "name": "stderr",
     "output_type": "stream",
     "text": [
      "Transect:  87%|████████▋ | 72/83 [01:15<00:09,  1.15it/s]"
     ]
    },
    {
     "name": "stdout",
     "output_type": "stream",
     "text": [
      "\n",
      "\n",
      "\n"
     ]
    },
    {
     "name": "stderr",
     "output_type": "stream",
     "text": [
      "Transect:  88%|████████▊ | 73/83 [01:16<00:08,  1.16it/s]"
     ]
    },
    {
     "name": "stdout",
     "output_type": "stream",
     "text": [
      "\n",
      "\n",
      "\n"
     ]
    },
    {
     "name": "stderr",
     "output_type": "stream",
     "text": [
      "Transect:  89%|████████▉ | 74/83 [01:17<00:07,  1.18it/s]"
     ]
    },
    {
     "name": "stdout",
     "output_type": "stream",
     "text": [
      "\n",
      "\n",
      "\n"
     ]
    },
    {
     "name": "stderr",
     "output_type": "stream",
     "text": [
      "Transect:  90%|█████████ | 75/83 [01:18<00:06,  1.19it/s]"
     ]
    },
    {
     "name": "stdout",
     "output_type": "stream",
     "text": [
      "\n",
      "\n",
      "\n",
      "\n"
     ]
    },
    {
     "name": "stderr",
     "output_type": "stream",
     "text": [
      "Transect:  92%|█████████▏| 76/83 [01:19<00:06,  1.15it/s]"
     ]
    },
    {
     "name": "stdout",
     "output_type": "stream",
     "text": [
      "\n",
      "\n"
     ]
    },
    {
     "name": "stderr",
     "output_type": "stream",
     "text": [
      "Transect:  93%|█████████▎| 77/83 [01:20<00:05,  1.18it/s]"
     ]
    },
    {
     "name": "stdout",
     "output_type": "stream",
     "text": [
      "\n",
      "\n",
      "\n"
     ]
    },
    {
     "name": "stderr",
     "output_type": "stream",
     "text": [
      "Transect:  94%|█████████▍| 78/83 [01:20<00:04,  1.19it/s]"
     ]
    },
    {
     "name": "stdout",
     "output_type": "stream",
     "text": [
      "\n",
      "\n",
      "\n"
     ]
    },
    {
     "name": "stderr",
     "output_type": "stream",
     "text": [
      "Transect:  95%|█████████▌| 79/83 [01:21<00:03,  1.20it/s]"
     ]
    },
    {
     "name": "stdout",
     "output_type": "stream",
     "text": [
      "\n",
      "\n",
      "\n",
      "\n"
     ]
    },
    {
     "name": "stderr",
     "output_type": "stream",
     "text": [
      "Transect:  96%|█████████▋| 80/83 [01:22<00:02,  1.17it/s]"
     ]
    },
    {
     "name": "stdout",
     "output_type": "stream",
     "text": [
      "\n",
      "\n"
     ]
    },
    {
     "name": "stderr",
     "output_type": "stream",
     "text": [
      "Transect:  98%|█████████▊| 81/83 [01:23<00:01,  1.14it/s]"
     ]
    },
    {
     "name": "stdout",
     "output_type": "stream",
     "text": [
      "\n",
      "\n",
      "\n",
      "\n"
     ]
    },
    {
     "name": "stderr",
     "output_type": "stream",
     "text": [
      "Transect:  99%|█████████▉| 82/83 [01:24<00:00,  1.15it/s]"
     ]
    },
    {
     "name": "stdout",
     "output_type": "stream",
     "text": [
      "\n",
      "\n",
      "\n"
     ]
    },
    {
     "name": "stderr",
     "output_type": "stream",
     "text": [
      "Transect: 100%|██████████| 83/83 [01:25<00:00,  1.03s/it]\n"
     ]
    },
    {
     "name": "stdout",
     "output_type": "stream",
     "text": [
      "\n",
      "-------------------------------------------------------------------\n",
      "Retrieving all information available for the island\n",
      "Island: Hadahaahuttaa, Maldives\n",
      "-------------------------------------------------------------------\n",
      "\n",
      "~ The following information is available: ~\n",
      "\n",
      "general_info\n",
      "               island\n",
      "               country\n",
      "               atoll\n",
      "spatial_reference\n",
      "               latitude\n",
      "               longitude\n",
      "               polygon\n",
      "               reference_shoreline\n",
      "               transects\n",
      "               area_country\n",
      "               reference_shoreline_buffer_L8\n",
      "               reference_shoreline_buffer_L9\n",
      "               reference_shoreline_buffer_S2\n",
      "image_collection_dict\n",
      "               description\n",
      "               S2\n",
      "               L7\n",
      "               L8\n",
      "               L9\n",
      "timeseries_coastsat\n",
      "               description\n",
      "               description_timeseries\n",
      "               source\n",
      "               inputs\n",
      "               settings\n",
      "               timeseries\n",
      "timeseries_CRW\n",
      "               description\n",
      "               description_timeseries\n",
      "               source\n",
      "               timeseries\n",
      "timeseries_nighttime_light\n",
      "               description\n",
      "               description_timeseries\n",
      "               source\n",
      "               timeseries\n",
      "timeseries_disasters\n",
      "               description\n",
      "               description_timeseries\n",
      "               source\n",
      "               database\n",
      "               timeseries\n",
      "               confounders\n",
      "timeseries_WorldBank\n",
      "               description\n",
      "               description_timeseries\n",
      "               source\n",
      "               timeseries\n",
      "timeseries_WHO\n",
      "               description\n",
      "               description_timeseries\n",
      "               source\n",
      "               timeseries\n",
      "timeseries_sea_level_anomaly\n",
      "               description\n",
      "               description_timeseries\n",
      "               source\n",
      "               units\n",
      "               timeseries\n",
      "timeseries_PMLV2\n",
      "               description\n",
      "               description_timeseries\n",
      "               source\n",
      "               units\n",
      "timeseries_PSMSL\n",
      "               description\n",
      "               description_timeseries\n",
      "               source\n",
      "               stations\n",
      "               timeseries\n",
      "timeseries_PSLGM\n",
      "               description\n",
      "               description_timeseries\n",
      "               source\n",
      "timeseries_ERA5\n",
      "               description\n",
      "               description_timeseries\n",
      "               source\n",
      "               timeseries_transect_specific\n",
      "               timeseries\n",
      "               units\n",
      "characteristics_ECU\n",
      "               description\n",
      "               source\n",
      "               transects_characteristics_ECU\n",
      "timeseries_vegetation\n",
      "               description\n",
      "               description_timeseries\n",
      "               source\n",
      "               mask_total_vegetation_L8\n",
      "               mask_coastal_vegetation_L8\n",
      "               mask_total_vegetation_L9\n",
      "               mask_coastal_vegetation_L9\n",
      "               mask_total_vegetation_S2\n",
      "               mask_coastal_vegetation_S2\n",
      "               timeseries\n",
      "timeseries_climate_indices\n",
      "               description\n",
      "               description_timeseries\n",
      "               source\n",
      "               timeseries\n",
      "timeseries_segmentation\n",
      "               dict_extraction\n",
      "               dict_best_polygons\n",
      "               dict_timeseries\n",
      "               timeseries\n",
      "timeseries_preprocessing\n",
      "               df_coastline_timeseries\n",
      "               raw\n",
      "               optimal time period\n",
      "timeseries_analysis\n",
      "               coastline_position_transect_0_waterline\n",
      "               coastline_position_transect_1_waterline\n",
      "               coastline_position_transect_2_waterline\n",
      "               coastline_position_transect_3_waterline\n",
      "               coastline_position_transect_4_waterline\n",
      "               coastline_position_transect_5_waterline\n",
      "               coastline_position_transect_6_waterline\n",
      "               coastline_position_transect_7_waterline\n",
      "               coastline_position_transect_8_waterline\n",
      "               coastline_position_transect_9_waterline\n",
      "               coastline_position_transect_10_waterline\n",
      "               coastline_position_transect_11_waterline\n",
      "               coastline_position_transect_12_waterline\n",
      "               coastline_position_transect_13_waterline\n",
      "               coastline_position_transect_14_waterline\n",
      "               coastline_position_transect_15_waterline\n",
      "               coastline_position_transect_16_waterline\n",
      "               coastline_position_transect_17_waterline\n",
      "               coastline_position_transect_18_waterline\n",
      "               coastline_position_transect_19_waterline\n",
      "               coastline_position_transect_20_waterline\n",
      "               coastline_position_transect_21_waterline\n",
      "               coastline_position_transect_22_waterline\n",
      "               coastline_position_transect_23_waterline\n",
      "               coastline_position_transect_24_waterline\n",
      "               coastline_position_transect_25_waterline\n",
      "               coastline_position_transect_26_waterline\n",
      "               coastline_position_transect_27_waterline\n",
      "               coastline_position_transect_28_waterline\n",
      "               coastline_position_transect_29_waterline\n",
      "               coastline_position_transect_30_waterline\n",
      "               coastline_position_transect_31_waterline\n",
      "               coastline_position_transect_32_waterline\n",
      "               coastline_position_transect_33_waterline\n",
      "               coastline_position_transect_34_waterline\n",
      "               coastline_position_transect_35_waterline\n",
      "               coastline_position_transect_36_waterline\n",
      "               coastline_position_transect_37_waterline\n",
      "               coastline_position_transect_38_waterline\n",
      "               coastline_position_transect_39_waterline\n",
      "               coastline_position_transect_40_waterline\n",
      "               coastline_position_transect_41_waterline\n",
      "               coastline_position_transect_42_waterline\n",
      "               coastline_position_transect_43_waterline\n",
      "               coastline_position_transect_44_waterline\n",
      "               coastline_position_transect_45_waterline\n",
      "               coastline_position_transect_46_waterline\n",
      "               coastline_position_transect_47_waterline\n",
      "               coastline_position_transect_48_waterline\n",
      "               coastline_position_transect_49_waterline\n",
      "               coastline_position_transect_50_waterline\n",
      "               coastline_position_transect_51_waterline\n",
      "               coastline_position_transect_52_waterline\n",
      "               coastline_position_transect_53_waterline\n",
      "               coastline_position_transect_54_waterline\n",
      "               coastline_position_transect_55_waterline\n",
      "               coastline_position_transect_56_waterline\n",
      "               coastline_position_transect_57_waterline\n",
      "               coastline_position_transect_58_waterline\n",
      "               coastline_position_transect_59_waterline\n",
      "               coastline_position_transect_60_waterline\n",
      "               coastline_position_transect_61_waterline\n",
      "               coastline_position_transect_62_waterline\n",
      "               coastline_position_transect_63_waterline\n",
      "               coastline_position_transect_64_waterline\n",
      "               coastline_position_transect_65_waterline\n",
      "               coastline_position_transect_66_waterline\n",
      "               coastline_position_transect_67_waterline\n",
      "               coastline_position_transect_68_waterline\n",
      "               coastline_position_transect_69_waterline\n",
      "               coastline_position_transect_70_waterline\n",
      "               coastline_position_transect_71_waterline\n",
      "               coastline_position_transect_72_waterline\n",
      "               coastline_position_transect_73_waterline\n",
      "               coastline_position_transect_74_waterline\n",
      "               coastline_position_transect_75_waterline\n",
      "               coastline_position_transect_76_waterline\n",
      "               coastline_position_transect_77_waterline\n",
      "               coastline_position_transect_78_waterline\n",
      "               coastline_position_transect_79_waterline\n",
      "               coastline_position_transect_80_waterline\n",
      "               coastline_position_transect_81_waterline\n",
      "               coastline_position_transect_82_waterline\n",
      "               coastline_position_transect_83_waterline\n",
      "               coastline_position_transect_84_waterline\n",
      "               coastline_position_transect_85_waterline\n",
      "               coastline_position_transect_86_waterline\n",
      "               coastline_position_transect_87_waterline\n",
      "               coastline_position_transect_88_waterline\n",
      "               coastline_position_transect_89_waterline\n",
      "               coastline_position_transect_90_waterline\n",
      "               coastline_position_transect_91_waterline\n",
      "               coastline_position_transect_92_waterline\n",
      "               coastline_position_transect_93_waterline\n",
      "               coastline_position_transect_94_waterline\n",
      "               coastline_position_transect_95_waterline\n",
      "               coastline_position_transect_96_waterline\n",
      "               coastline_position_transect_97_waterline\n",
      "               coastline_position_transect_98_waterline\n",
      "               coastline_position_transect_99_waterline\n",
      "               coastline_position_transect_100_waterline\n",
      "               coastline_position_transect_101_waterline\n",
      "               coastline_position_transect_102_waterline\n",
      "               coastline_position_transect_103_waterline\n",
      "               coastline_position_transect_104_waterline\n",
      "               coastline_position_transect_105_waterline\n",
      "               coastline_position_transect_106_waterline\n",
      "               coastline_position_transect_107_waterline\n",
      "               coastline_position_transect_108_waterline\n",
      "               coastline_position_transect_109_waterline\n",
      "               coastline_position_transect_110_waterline\n",
      "               coastline_position_transect_111_waterline\n",
      "               coastline_position_transect_112_waterline\n",
      "               coastline_position_transect_113_waterline\n",
      "               coastline_position_transect_114_waterline\n",
      "               coastline_position_transect_115_waterline\n",
      "               coastline_position_transect_116_waterline\n",
      "               coastline_position_transect_117_waterline\n",
      "               coastline_position_transect_118_waterline\n",
      "               coastline_position_transect_119_waterline\n",
      "               coastline_position_transect_120_waterline\n",
      "               coastline_position_transect_121_waterline\n",
      "               coastline_position_transect_122_waterline\n",
      "               coastline_position_transect_123_waterline\n",
      "               coastline_position_transect_124_waterline\n",
      "               coastline_position_transect_125_waterline\n",
      "               coastline_position_transect_126_waterline\n",
      "               coastline_position_transect_127_waterline\n",
      "               coastline_position_transect_128_waterline\n",
      "               coastline_position_transect_129_waterline\n",
      "               coastline_position_transect_130_waterline\n",
      "               coastline_position_transect_131_waterline\n",
      "               coastline_position_transect_132_waterline\n",
      "               coastline_position_transect_133_waterline\n",
      "               coastline_position_transect_134_waterline\n",
      "               coastline_position_transect_135_waterline\n",
      "               coastline_position_transect_136_waterline\n",
      "               coastline_position_transect_137_waterline\n",
      "               coastline_position_transect_138_waterline\n",
      "               coastline_position_transect_139_waterline\n",
      "               coastline_position_transect_140_waterline\n",
      "               coastline_position_transect_141_waterline\n",
      "               coastline_position_transect_142_waterline\n",
      "               coastline_position_transect_143_waterline\n",
      "               coastline_position_transect_144_waterline\n",
      "               coastline_position_transect_145_waterline\n",
      "               coastline_position_transect_146_waterline\n",
      "               coastline_position_transect_147_waterline\n",
      "               coastline_position_transect_148_waterline\n",
      "               coastline_position_transect_149_waterline\n",
      "               coastline_position_transect_150_waterline\n",
      "               coastline_position_transect_151_waterline\n",
      "               coastline_position_transect_152_waterline\n",
      "               coastline_position_transect_153_waterline\n",
      "               coastline_position_transect_154_waterline\n",
      "               coastline_position_transect_155_waterline\n",
      "               coastline_position_transect_156_waterline\n",
      "               coastline_position_transect_157_waterline\n",
      "               coastline_position_transect_158_waterline\n",
      "timeseries_aggregation\n",
      "               dict_results_agg_minima\n",
      "               dict_results_agg_peaks\n",
      "\n",
      "-------------------------------------------------------------------\n",
      "Time series analysis\n",
      "Island: Hadahaahuttaa, Maldives\n",
      "-------------------------------------------------------------------\n",
      "\n"
     ]
    },
    {
     "name": "stderr",
     "output_type": "stream",
     "text": [
      "Transect:   0%|          | 0/159 [00:00<?, ?it/s]"
     ]
    },
    {
     "ename": "",
     "evalue": "",
     "output_type": "error",
     "traceback": [
      "\u001b[1;31mThe Kernel crashed while executing code in the current cell or a previous cell. \n",
      "\u001b[1;31mPlease review the code in the cell(s) to identify a possible cause of the failure. \n",
      "\u001b[1;31mClick <a href='https://aka.ms/vscodeJupyterKernelCrash'>here</a> for more info. \n",
      "\u001b[1;31mView Jupyter <a href='command:jupyter.viewOutput'>log</a> for further details."
     ]
    }
   ],
   "source": [
    "from IslandTime import retrieve_island_info, Segmentation, update_results_map, plot_shoreline_transects, Workflow, update_data_map, TimeSeriesCoastSat, PreTimeSeries, TimeSeriesERA5, TimeSeriesClimateIndices\n",
    " \n",
    "for island in ['Kereddhoo', ]: # Dhigelaabadhoo # Gaddhoo # Gan (Gaafu Dhaalu)  ## 'Kondeyviligili' \n",
    " \n",
    "    n, w, s, e = 0.633257, 73.339587, 0.627212, 73.349113\n",
    "\n",
    "    # polygon = shapely.geometry.box(w, s, e, n)\n",
    "    polygon = [[w, s], [e, s], [e, n], [w, n], [w, s]]\n",
    "\n",
    "\n",
    "    # island_info = retrieve_island_info(island, 'Maldives', verbose=True)\n",
    "\n",
    "    # PreTimeSeries(island, 'Maldives', polygon=polygon).main()\n",
    "    # TimeSeriesCoastSat(island, 'Maldives', reference_shoreline_transects_only=True, overwrite=True, retrieve_reference_shoreline_manually=True).main()\n",
    "    # TimeSeriesERA5(island, country='Maldives').main()\n",
    "    # TimeSeriesClimateIndices(island, country='Maldives').main()\n",
    "    # PreTimeSeries(island, 'Maldives', polygon=polygon).main()\n",
    "    # \n",
    "    ii = Workflow(island, 'Maldives', run_all=False, execute_analysis=True, execute_segmentation=False, execute_preprocess=False, update_maps=False, overwrite_analysis=True).main()"
   ]
  },
  {
   "cell_type": "code",
   "execution_count": null,
   "metadata": {},
   "outputs": [
    {
     "name": "stdout",
     "output_type": "stream",
     "text": [
      "\n",
      "-------------------------------------------------------------------\n",
      "Retrieving all information available for the island\n",
      "Island: Gan (Gaafu Dhaalu), Maldives\n",
      "-------------------------------------------------------------------\n",
      "\n",
      "~ The following information is available: ~\n",
      "\n",
      "general_info\n",
      "               island\n",
      "               country\n",
      "               part of\n",
      "               located in the administrative territorial entity\n",
      "               located in or next to body of water\n",
      "               elevation above sea level\n",
      "               atoll\n",
      "spatial_reference\n",
      "               latitude\n",
      "               longitude\n",
      "               polygon\n",
      "               polygon_OSM\n",
      "               reference_shoreline\n",
      "               transects\n",
      "               area_country\n",
      "               reference_shoreline_buffer_L8\n",
      "               reference_shoreline_buffer_L9\n",
      "               reference_shoreline_buffer_S2\n",
      "image_collection_dict\n",
      "               description\n",
      "               S2\n",
      "               L7\n",
      "               L8\n",
      "               L9\n",
      "timeseries_coastsat\n",
      "               description\n",
      "               description_timeseries\n",
      "               source\n",
      "               inputs\n",
      "               settings\n",
      "               timeseries\n",
      "timeseries_CRW\n",
      "               description\n",
      "               description_timeseries\n",
      "               source\n",
      "               timeseries\n",
      "timeseries_nighttime_light\n",
      "               description\n",
      "               description_timeseries\n",
      "               source\n",
      "               timeseries\n",
      "timeseries_disasters\n",
      "               description\n",
      "               description_timeseries\n",
      "               source\n",
      "               database\n",
      "               timeseries\n",
      "               confounders\n",
      "timeseries_WorldBank\n",
      "               description\n",
      "               description_timeseries\n",
      "               source\n",
      "               timeseries\n",
      "timeseries_WHO\n",
      "               description\n",
      "               description_timeseries\n",
      "               source\n",
      "               timeseries\n",
      "timeseries_sea_level_anomaly\n",
      "               description\n",
      "               description_timeseries\n",
      "               source\n",
      "               units\n",
      "               timeseries\n",
      "timeseries_PMLV2\n",
      "               description\n",
      "               description_timeseries\n",
      "               source\n",
      "               units\n",
      "timeseries_PSMSL\n",
      "               description\n",
      "               description_timeseries\n",
      "               source\n",
      "               stations\n",
      "               timeseries\n",
      "timeseries_PSLGM\n",
      "               description\n",
      "               description_timeseries\n",
      "               source\n",
      "timeseries_ERA5\n",
      "               description\n",
      "               description_timeseries\n",
      "               source\n",
      "               timeseries_transect_specific\n",
      "               timeseries\n",
      "               units\n",
      "characteristics_ECU\n",
      "               description\n",
      "               source\n",
      "               transects_characteristics_ECU\n",
      "timeseries_vegetation\n",
      "               description\n",
      "               description_timeseries\n",
      "               source\n",
      "               mask_total_vegetation_L8\n",
      "               mask_coastal_vegetation_L8\n",
      "               mask_total_vegetation_L9\n",
      "               mask_coastal_vegetation_L9\n",
      "               mask_total_vegetation_S2\n",
      "               mask_coastal_vegetation_S2\n",
      "               timeseries\n",
      "timeseries_climate_indices\n",
      "               description\n",
      "               description_timeseries\n",
      "               source\n",
      "               timeseries\n",
      "timeseries_segmentation\n",
      "               dict_extraction\n",
      "               dict_best_polygons\n",
      "               dict_timeseries\n",
      "               timeseries\n",
      "timeseries_preprocessing\n",
      "               df_coastline_timeseries\n",
      "               raw\n",
      "               optimal time period\n",
      "timeseries_analysis\n",
      "               coastline_position_transect_0_waterline\n",
      "               coastline_position_transect_1_waterline\n",
      "               coastline_position_transect_2_waterline\n",
      "               coastline_position_transect_3_waterline\n",
      "               coastline_position_transect_4_waterline\n",
      "               coastline_position_transect_5_waterline\n",
      "               coastline_position_transect_6_waterline\n",
      "               coastline_position_transect_7_waterline\n",
      "               coastline_position_transect_8_waterline\n",
      "               coastline_position_transect_9_waterline\n",
      "               coastline_position_transect_10_waterline\n",
      "               coastline_position_transect_11_waterline\n",
      "               coastline_position_transect_12_waterline\n",
      "               coastline_position_transect_13_waterline\n",
      "               coastline_position_transect_14_waterline\n",
      "               coastline_position_transect_15_waterline\n",
      "               coastline_position_transect_16_waterline\n",
      "               coastline_position_transect_17_waterline\n",
      "               coastline_position_transect_18_waterline\n",
      "               coastline_position_transect_19_waterline\n",
      "               coastline_position_transect_20_waterline\n",
      "               coastline_position_transect_21_waterline\n",
      "               coastline_position_transect_22_waterline\n",
      "               coastline_position_transect_23_waterline\n",
      "               coastline_position_transect_24_waterline\n",
      "               coastline_position_transect_25_waterline\n",
      "               coastline_position_transect_26_waterline\n",
      "               coastline_position_transect_27_waterline\n",
      "               coastline_position_transect_28_waterline\n",
      "               coastline_position_transect_29_waterline\n",
      "               coastline_position_transect_30_waterline\n",
      "               coastline_position_transect_31_waterline\n",
      "               coastline_position_transect_32_waterline\n",
      "               coastline_position_transect_33_waterline\n",
      "               coastline_position_transect_34_waterline\n",
      "               coastline_position_transect_35_waterline\n",
      "               coastline_position_transect_36_waterline\n",
      "               coastline_position_transect_37_waterline\n",
      "               coastline_position_transect_38_waterline\n",
      "               coastline_position_transect_39_waterline\n",
      "               coastline_position_transect_40_waterline\n",
      "               coastline_position_transect_41_waterline\n",
      "               coastline_position_transect_42_waterline\n",
      "               coastline_position_transect_43_waterline\n",
      "               coastline_position_transect_44_waterline\n",
      "               coastline_position_transect_45_waterline\n",
      "               coastline_position_transect_46_waterline\n",
      "               coastline_position_transect_47_waterline\n",
      "               coastline_position_transect_48_waterline\n",
      "               coastline_position_transect_49_waterline\n",
      "               coastline_position_transect_50_waterline\n",
      "               coastline_position_transect_51_waterline\n",
      "               coastline_position_transect_52_waterline\n",
      "               coastline_position_transect_53_waterline\n",
      "               coastline_position_transect_54_waterline\n",
      "               coastline_position_transect_55_waterline\n",
      "               coastline_position_transect_56_waterline\n",
      "               coastline_position_transect_57_waterline\n",
      "               coastline_position_transect_58_waterline\n",
      "               coastline_position_transect_59_waterline\n",
      "               coastline_position_transect_60_waterline\n",
      "               coastline_position_transect_61_waterline\n",
      "               coastline_position_transect_62_waterline\n",
      "               coastline_position_transect_63_waterline\n",
      "               coastline_position_transect_64_waterline\n",
      "               coastline_position_transect_65_waterline\n",
      "               coastline_position_transect_66_waterline\n",
      "               coastline_position_transect_67_waterline\n",
      "               coastline_position_transect_68_waterline\n",
      "               coastline_position_transect_69_waterline\n",
      "               coastline_position_transect_70_waterline\n",
      "               coastline_position_transect_71_waterline\n",
      "               coastline_position_transect_72_waterline\n",
      "               coastline_position_transect_73_waterline\n",
      "               coastline_position_transect_74_waterline\n",
      "               coastline_position_transect_75_waterline\n",
      "               coastline_position_transect_76_waterline\n",
      "               coastline_position_transect_77_waterline\n",
      "               coastline_position_transect_78_waterline\n",
      "               coastline_position_transect_79_waterline\n",
      "               coastline_position_transect_81_waterline\n",
      "               coastline_position_transect_82_waterline\n",
      "               coastline_position_transect_83_waterline\n",
      "               coastline_position_transect_84_waterline\n",
      "               coastline_position_transect_85_waterline\n",
      "               coastline_position_transect_86_waterline\n",
      "               coastline_position_transect_87_waterline\n",
      "               coastline_position_transect_88_waterline\n",
      "               coastline_position_transect_89_waterline\n",
      "               coastline_position_transect_90_waterline\n",
      "               coastline_position_transect_91_waterline\n",
      "               coastline_position_transect_92_waterline\n",
      "               coastline_position_transect_93_waterline\n",
      "               coastline_position_transect_94_waterline\n",
      "               coastline_position_transect_95_waterline\n",
      "               coastline_position_transect_98_waterline\n",
      "               coastline_position_transect_99_waterline\n",
      "               coastline_position_transect_100_waterline\n",
      "               coastline_position_transect_101_waterline\n",
      "               coastline_position_transect_102_waterline\n",
      "               coastline_position_transect_103_waterline\n",
      "               coastline_position_transect_104_waterline\n",
      "               coastline_position_transect_105_waterline\n",
      "               coastline_position_transect_106_waterline\n",
      "               coastline_position_transect_107_waterline\n",
      "               coastline_position_transect_108_waterline\n",
      "               coastline_position_transect_109_waterline\n",
      "               coastline_position_transect_110_waterline\n",
      "               coastline_position_transect_111_waterline\n",
      "               coastline_position_transect_112_waterline\n",
      "               coastline_position_transect_113_waterline\n",
      "               coastline_position_transect_114_waterline\n",
      "               coastline_position_transect_115_waterline\n",
      "               coastline_position_transect_116_waterline\n",
      "               coastline_position_transect_117_waterline\n",
      "               coastline_position_transect_118_waterline\n",
      "               coastline_position_transect_119_waterline\n",
      "               coastline_position_transect_120_waterline\n",
      "               coastline_position_transect_121_waterline\n",
      "               coastline_position_transect_122_waterline\n",
      "               coastline_position_transect_123_waterline\n",
      "               coastline_position_transect_124_waterline\n",
      "               coastline_position_transect_125_waterline\n",
      "               coastline_position_transect_126_waterline\n",
      "               coastline_position_transect_127_waterline\n",
      "               coastline_position_transect_128_waterline\n",
      "               coastline_position_transect_129_waterline\n",
      "               coastline_position_transect_130_waterline\n",
      "               coastline_position_transect_131_waterline\n",
      "               coastline_position_transect_132_waterline\n",
      "               coastline_position_transect_133_waterline\n",
      "               coastline_position_transect_134_waterline\n",
      "               coastline_position_transect_135_waterline\n",
      "               coastline_position_transect_136_waterline\n",
      "               coastline_position_transect_137_waterline\n",
      "               coastline_position_transect_138_waterline\n",
      "               coastline_position_transect_139_waterline\n",
      "               coastline_position_transect_140_waterline\n",
      "               coastline_position_transect_141_waterline\n",
      "               coastline_position_transect_142_waterline\n",
      "               coastline_position_transect_143_waterline\n",
      "               coastline_position_transect_144_waterline\n",
      "               coastline_position_transect_145_waterline\n",
      "               coastline_position_transect_146_waterline\n",
      "               coastline_position_transect_147_waterline\n",
      "               coastline_position_transect_148_waterline\n",
      "               coastline_position_transect_149_waterline\n",
      "               coastline_position_transect_150_waterline\n",
      "               coastline_position_transect_151_waterline\n",
      "               coastline_position_transect_152_waterline\n",
      "               coastline_position_transect_153_waterline\n",
      "               coastline_position_transect_154_waterline\n",
      "               coastline_position_transect_155_waterline\n",
      "               coastline_position_transect_156_waterline\n",
      "               coastline_position_transect_157_waterline\n",
      "               coastline_position_transect_158_waterline\n",
      "               coastline_position_transect_159_waterline\n",
      "               coastline_position_transect_160_waterline\n",
      "               coastline_position_transect_161_waterline\n",
      "               coastline_position_transect_162_waterline\n",
      "               coastline_position_transect_163_waterline\n",
      "               coastline_position_transect_164_waterline\n",
      "               coastline_position_transect_165_waterline\n",
      "               coastline_position_transect_166_waterline\n",
      "               coastline_position_transect_167_waterline\n",
      "               coastline_position_transect_168_waterline\n",
      "               coastline_position_transect_169_waterline\n",
      "               coastline_position_transect_170_waterline\n",
      "               coastline_position_transect_171_waterline\n",
      "               coastline_position_transect_172_waterline\n",
      "               coastline_position_transect_173_waterline\n",
      "               coastline_position_transect_174_waterline\n",
      "               coastline_position_transect_175_waterline\n",
      "               coastline_position_transect_176_waterline\n",
      "               coastline_position_transect_177_waterline\n",
      "               coastline_position_transect_178_waterline\n",
      "               coastline_position_transect_179_waterline\n",
      "               coastline_position_transect_180_waterline\n",
      "               coastline_position_transect_181_waterline\n",
      "               coastline_position_transect_182_waterline\n",
      "               coastline_position_transect_183_waterline\n",
      "               coastline_position_transect_184_waterline\n",
      "               coastline_position_transect_185_waterline\n",
      "               coastline_position_transect_186_waterline\n",
      "               coastline_position_transect_187_waterline\n",
      "               coastline_position_transect_188_waterline\n",
      "               coastline_position_transect_189_waterline\n",
      "               coastline_position_transect_190_waterline\n",
      "               coastline_position_transect_191_waterline\n",
      "               coastline_position_transect_192_waterline\n",
      "               coastline_position_transect_193_waterline\n",
      "               coastline_position_transect_194_waterline\n",
      "               coastline_position_transect_195_waterline\n",
      "               coastline_position_transect_196_waterline\n",
      "               coastline_position_transect_197_waterline\n",
      "               coastline_position_transect_198_waterline\n",
      "               coastline_position_transect_199_waterline\n",
      "               coastline_position_transect_200_waterline\n",
      "               coastline_position_transect_201_waterline\n",
      "               coastline_position_transect_202_waterline\n",
      "               coastline_position_transect_203_waterline\n",
      "               coastline_position_transect_204_waterline\n",
      "               coastline_position_transect_205_waterline\n",
      "               coastline_position_transect_206_waterline\n",
      "               coastline_position_transect_207_waterline\n",
      "               coastline_position_transect_208_waterline\n",
      "               coastline_position_transect_209_waterline\n",
      "               coastline_position_transect_210_waterline\n",
      "               coastline_position_transect_211_waterline\n",
      "               coastline_position_transect_212_waterline\n",
      "               coastline_position_transect_213_waterline\n",
      "               coastline_position_transect_214_waterline\n",
      "               coastline_position_transect_215_waterline\n",
      "               coastline_position_transect_216_waterline\n",
      "               coastline_position_transect_218_waterline\n",
      "               coastline_position_transect_219_waterline\n",
      "               coastline_position_transect_220_waterline\n",
      "               coastline_position_transect_221_waterline\n",
      "               coastline_position_transect_222_waterline\n",
      "               coastline_position_transect_223_waterline\n",
      "               coastline_position_transect_224_waterline\n",
      "               coastline_position_transect_225_waterline\n",
      "               coastline_position_transect_226_waterline\n",
      "               coastline_position_transect_227_waterline\n",
      "               coastline_position_transect_228_waterline\n",
      "               coastline_position_transect_229_waterline\n",
      "               coastline_position_transect_230_waterline\n",
      "               coastline_position_transect_231_waterline\n",
      "               coastline_position_transect_232_waterline\n",
      "               coastline_position_transect_233_waterline\n",
      "               coastline_position_transect_234_waterline\n",
      "               coastline_position_transect_235_waterline\n",
      "               coastline_position_transect_236_waterline\n",
      "               coastline_position_transect_237_waterline\n",
      "               coastline_position_transect_238_waterline\n",
      "               coastline_position_transect_239_waterline\n",
      "               coastline_position_transect_240_waterline\n",
      "               coastline_position_transect_241_waterline\n",
      "               coastline_position_transect_242_waterline\n",
      "               coastline_position_transect_243_waterline\n",
      "               coastline_position_transect_244_waterline\n",
      "               coastline_position_transect_245_waterline\n",
      "               coastline_position_transect_246_waterline\n",
      "               coastline_position_transect_247_waterline\n",
      "               coastline_position_transect_248_waterline\n",
      "               coastline_position_transect_249_waterline\n",
      "               coastline_position_transect_250_waterline\n",
      "               coastline_position_transect_251_waterline\n",
      "               coastline_position_transect_252_waterline\n",
      "               coastline_position_transect_253_waterline\n",
      "               coastline_position_transect_254_waterline\n",
      "               coastline_position_transect_255_waterline\n",
      "               coastline_position_transect_256_waterline\n",
      "               coastline_position_transect_257_waterline\n",
      "               coastline_position_transect_258_waterline\n",
      "               coastline_position_transect_259_waterline\n",
      "timeseries_aggregation\n",
      "               dict_results_agg_minima\n",
      "               dict_results_agg_peaks\n",
      "\n",
      "-------------------------------------------------------------------\n",
      "Time series analysis\n",
      "Island: Gan (Gaafu Dhaalu), Maldives\n",
      "-------------------------------------------------------------------\n",
      "\n"
     ]
    },
    {
     "name": "stderr",
     "output_type": "stream",
     "text": [
      "Transect:   0%|          | 0/258 [00:00<?, ?it/s]"
     ]
    },
    {
     "ename": "",
     "evalue": "",
     "output_type": "error",
     "traceback": [
      "\u001b[1;31mThe Kernel crashed while executing code in the current cell or a previous cell. \n",
      "\u001b[1;31mPlease review the code in the cell(s) to identify a possible cause of the failure. \n",
      "\u001b[1;31mClick <a href='https://aka.ms/vscodeJupyterKernelCrash'>here</a> for more info. \n",
      "\u001b[1;31mView Jupyter <a href='command:jupyter.viewOutput'>log</a> for further details."
     ]
    }
   ],
   "source": [
    "from IslandTime import retrieve_island_info, Segmentation, update_results_map, plot_shoreline_transects, Workflow, update_data_map, TimeSeriesCoastSat, PreTimeSeries, TimeSeriesERA5, TimeSeriesClimateIndices\n",
    "\n",
    "island = \"Gaddhoo\" # Dhigelaabadhoo # Gaddhoo # Gan (Gaafu Dhaalu)\n",
    "\n",
    "n, w, s, e = 0.259568, 73.321894, 0.246963, 73.341152\n",
    "\n",
    "# polygon = shapely.geometry.box(w, s, e, n)\n",
    "polygon = [[w, s], [e, s], [e, n], [w, n], [w, s]]\n",
    "\n",
    "\n",
    "# island_info = retrieve_island_info(island, 'Maldives', verbose=True)\n",
    "\n",
    "# PreTimeSeries(island, 'Maldives', polygon=polygon).main()\n",
    "# TimeSeriesCoastSat(island, 'Maldives', reference_shoreline_transects_only=True).main()\n",
    "# TimeSeriesERA5(island, country='Maldives').main()\n",
    "# TimeSeriesClimateIndices(island, country='Maldives').main()\n",
    "# PreTimeSeries(island, 'Maldives', polygon=polygon).main()\n",
    "\n",
    "ii = Workflow(island, 'Maldives', run_all=False, execute_analysis=True, execute_segmentation=False, execute_preprocess=False, update_maps=False, overwrite_analysis=True).main()"
   ]
  },
  {
   "cell_type": "code",
   "execution_count": 18,
   "metadata": {},
   "outputs": [
    {
     "name": "stdout",
     "output_type": "stream",
     "text": [
      "Updating results maps...\n"
     ]
    },
    {
     "name": "stderr",
     "output_type": "stream",
     "text": [
      "100%|██████████| 406/406 [04:10<00:00,  1.62it/s]\n"
     ]
    }
   ],
   "source": [
    "update_results_map('Maldives')"
   ]
  },
  {
   "cell_type": "code",
   "execution_count": 13,
   "metadata": {},
   "outputs": [
    {
     "data": {
      "text/plain": [
       "'#58508d'"
      ]
     },
     "execution_count": 13,
     "metadata": {},
     "output_type": "execute_result"
    }
   ],
   "source": [
    "# For legend\n",
    "dict_colours_labels = {'sw_monsoon': '#58508d',\n",
    "                        'ne_monsoon': '#bc5090', \n",
    "                        'transition_sw_ne': '#ffa600',\n",
    "                        'transition_ne_sw': '#ff6361',\n",
    "                        'undetermined': '#003f5c'}\n",
    "\n",
    "list(dict_colours_labels.values())[0]"
   ]
  },
  {
   "cell_type": "code",
   "execution_count": null,
   "metadata": {},
   "outputs": [],
   "source": [
    "island = 'Hulhudhoo (South Maalhosmadulu)'\n",
    "\n",
    "island_info = retrieve_island_info(island, 'Maldives')"
   ]
  },
  {
   "cell_type": "code",
   "execution_count": null,
   "metadata": {},
   "outputs": [],
   "source": [
    "island_info['timeseries_analysis'].keys()"
   ]
  },
  {
   "cell_type": "code",
   "execution_count": null,
   "metadata": {},
   "outputs": [],
   "source": [
    "for file in tqdm(os.listdir(os.path.join(os.getcwd(), 'data', 'info_islands'))):\n",
    "    island = file.split('_')[1] \n",
    "    country = file.split('_')[2].split('.')[0]\n",
    "\n",
    "    island_info = retrieve_island_info(island, country, verbose=False)\n",
    "\n",
    "    if 'timeseries_analysis' in island_info.keys():\n",
    "        if 'conditions_seasonality' in island_info['timeseries_analysis']['coastline_position_transect_0_waterline']['seasonality'].keys():\n",
    "            continue\n",
    "        \n",
    "        else:\n",
    "            island_info = Workflow(island, country, run_all=False, execute_analysis=True, execute_preprocess=False, execute_segmentation=False, update_maps=False, small_island=False).main()\n",
    "            break\n",
    "\n",
    "    else:\n",
    "        continue\n",
    "\n",
    "    # except:\n",
    "    #     print('Error with island:', island)\n",
    "    #     continue"
   ]
  },
  {
   "cell_type": "code",
   "execution_count": null,
   "metadata": {},
   "outputs": [],
   "source": [
    "island = \"Kan'duvilin'gili\" \n",
    "country = 'Maldives'\n",
    "\n",
    "# Retrieve island info\n",
    "# island_info = retrieve_island_info(island, country, verbose=False)\n",
    "# ii = TimeSeriesCoastSat(island, country, distance_between_transects=5, reference_shoreline_transects_only=True, overwrite=True, retrieve_reference_shoreline_manually=True).main()\n",
    "\n",
    "# plot_shoreline_transects(island_info)\n",
    "\n",
    "ii = Workflow(island, country, run_all=False, execute_analysis=True, execute_preprocess=False, execute_segmentation=False, update_maps=False, small_island=False, overwrite_analysis=True).main()"
   ]
  },
  {
   "cell_type": "code",
   "execution_count": 36,
   "metadata": {},
   "outputs": [
    {
     "name": "stdout",
     "output_type": "stream",
     "text": [
      "Updating results maps...\n"
     ]
    },
    {
     "name": "stderr",
     "output_type": "stream",
     "text": [
      "  0%|          | 1/406 [00:00<00:55,  7.34it/s]"
     ]
    },
    {
     "name": "stdout",
     "output_type": "stream",
     "text": [
      "Could not retrieve information for Aakiraahuttaa in Maldives\n"
     ]
    },
    {
     "name": "stderr",
     "output_type": "stream",
     "text": [
      "  6%|▌         | 25/406 [00:12<02:27,  2.59it/s]"
     ]
    },
    {
     "name": "stdout",
     "output_type": "stream",
     "text": [
      "Could not retrieve information for Burunee in Maldives\n"
     ]
    },
    {
     "name": "stderr",
     "output_type": "stream",
     "text": [
      " 11%|█         | 44/406 [00:22<04:31,  1.33it/s]"
     ]
    }
   ],
   "source": [
    "import pandas as pd\n",
    "\n",
    "# Path to data\n",
    "path_to_data = os.path.join(os.getcwd(), 'data', 'info_islands')\n",
    "\n",
    "# Read file for islands to ignore\n",
    "df_islands_ignore = pd.read_excel('islands_to_ignore.xlsx')\n",
    "list_islands_ignore = df_islands_ignore['Island'].values\n",
    "\n",
    "print('Updating results maps...')\n",
    "\n",
    "for file in tqdm(os.listdir(path_to_data)):\n",
    "    island = file.split('_')[1] \n",
    "    country = file.split('_')[2].split('.')[0]\n",
    "\n",
    "    if island in list_islands_ignore:\n",
    "        continue\n",
    "\n",
    "    try:\n",
    "        island_info = retrieve_island_info(island, country, verbose=False)\n",
    "    \n",
    "    except:\n",
    "        print(f'Could not retrieve information for {island} in {country}')\n",
    "        continue"
   ]
  },
  {
   "cell_type": "code",
   "execution_count": 31,
   "metadata": {},
   "outputs": [
    {
     "data": {
      "text/plain": [
       "[]"
      ]
     },
     "execution_count": 31,
     "metadata": {},
     "output_type": "execute_result"
    }
   ],
   "source": [
    "list_atolls = ['Huvadhu', 'Addu']\n",
    "fig, ax = plt.subplots()\n",
    "\n",
    "for atoll in list_atolls:\n",
    "    area = ox.geocode_to_gdf('{} Atoll, Maldives'.format(atoll))\n",
    "    area.plot(ax=ax, facecolor='none', edgecolor='black')\n",
    "plt.plot()"
   ]
  },
  {
   "cell_type": "code",
   "execution_count": null,
   "metadata": {},
   "outputs": [],
   "source": [
    "import osmnx as ox\n",
    "import matplotlib.pyplot as plt\n",
    "list_atolls = ['Huvadhu', 'Addu', 'North Male', 'Haa Alifu']\n",
    "fig, ax = plt.subplots()\n",
    "\n",
    "for atoll in list_atolls:\n",
    "    print(atoll)\n",
    "    area = ox.geocode_to_gdf('{}, Maldives'.format(atoll))\n",
    "    area.plot(ax=ax, facecolor='none', edgecolor='black')\n",
    "plt.show()"
   ]
  },
  {
   "cell_type": "code",
   "execution_count": 62,
   "metadata": {},
   "outputs": [
    {
     "data": {
      "text/html": [
       "<div>\n",
       "<style scoped>\n",
       "    .dataframe tbody tr th:only-of-type {\n",
       "        vertical-align: middle;\n",
       "    }\n",
       "\n",
       "    .dataframe tbody tr th {\n",
       "        vertical-align: top;\n",
       "    }\n",
       "\n",
       "    .dataframe thead th {\n",
       "        text-align: right;\n",
       "    }\n",
       "</style>\n",
       "<table border=\"1\" class=\"dataframe\">\n",
       "  <thead>\n",
       "    <tr style=\"text-align: right;\">\n",
       "      <th></th>\n",
       "      <th>geometry</th>\n",
       "      <th>bbox_north</th>\n",
       "      <th>bbox_south</th>\n",
       "      <th>bbox_east</th>\n",
       "      <th>bbox_west</th>\n",
       "      <th>place_id</th>\n",
       "      <th>osm_type</th>\n",
       "      <th>osm_id</th>\n",
       "      <th>lat</th>\n",
       "      <th>lon</th>\n",
       "      <th>class</th>\n",
       "      <th>type</th>\n",
       "      <th>place_rank</th>\n",
       "      <th>importance</th>\n",
       "      <th>addresstype</th>\n",
       "      <th>name</th>\n",
       "      <th>display_name</th>\n",
       "    </tr>\n",
       "  </thead>\n",
       "  <tbody>\n",
       "    <tr>\n",
       "      <th>0</th>\n",
       "      <td>MULTIPOLYGON (((73.45459 4.18088, 73.45471 4.1...</td>\n",
       "      <td>4.241171</td>\n",
       "      <td>4.168304</td>\n",
       "      <td>73.551915</td>\n",
       "      <td>73.454595</td>\n",
       "      <td>221321871</td>\n",
       "      <td>relation</td>\n",
       "      <td>6599336</td>\n",
       "      <td>4.177988</td>\n",
       "      <td>73.510739</td>\n",
       "      <td>boundary</td>\n",
       "      <td>administrative</td>\n",
       "      <td>8</td>\n",
       "      <td>0.542149</td>\n",
       "      <td>city</td>\n",
       "      <td>Malé</td>\n",
       "      <td>Malé, Maldives</td>\n",
       "    </tr>\n",
       "  </tbody>\n",
       "</table>\n",
       "</div>"
      ],
      "text/plain": [
       "                                            geometry  bbox_north  bbox_south  \\\n",
       "0  MULTIPOLYGON (((73.45459 4.18088, 73.45471 4.1...    4.241171    4.168304   \n",
       "\n",
       "   bbox_east  bbox_west   place_id  osm_type   osm_id       lat        lon  \\\n",
       "0  73.551915  73.454595  221321871  relation  6599336  4.177988  73.510739   \n",
       "\n",
       "      class            type  place_rank  importance addresstype  name  \\\n",
       "0  boundary  administrative           8    0.542149        city  Malé   \n",
       "\n",
       "     display_name  \n",
       "0  Malé, Maldives  "
      ]
     },
     "execution_count": 62,
     "metadata": {},
     "output_type": "execute_result"
    }
   ],
   "source": [
    "ox.geocode_to_gdf('Male, Maldives')"
   ]
  },
  {
   "cell_type": "code",
   "execution_count": 50,
   "metadata": {},
   "outputs": [],
   "source": [
    "import osmnx as ox\n",
    "import matplotlib.pyplot as plt\n",
    "\n",
    "maldives = ox.geocode_to_gdf('Maldives')\n",
    "area = ox.geocode_to_gdf('Huvadhu Atoll, Maldives')\n",
    "\n",
    "fig, ax = plt.subplots()\n",
    "maldives.exterior.plot(ax=ax)\n",
    "area.plot(ax=ax)\n",
    "plt.show()"
   ]
  },
  {
   "cell_type": "code",
   "execution_count": null,
   "metadata": {},
   "outputs": [],
   "source": [
    "island = 'Kodegalaa'\n",
    "country = 'Maldives'\n",
    "\n",
    "from IslandTime import Segmentation\n",
    "\n",
    "Segmentation()"
   ]
  },
  {
   "cell_type": "code",
   "execution_count": 38,
   "metadata": {},
   "outputs": [],
   "source": [
    "import matplotlib.pyplot as plt\n",
    "import cartopy.crs as ccrs\n",
    "\n",
    "# Create a figure and axis with a specific projection\n",
    "fig, ax = plt.subplots(subplot_kw={'projection': ccrs.PlateCarree()})\n",
    "\n",
    "# Set extent to focus on Maldives\n",
    "ax.set_extent([72, 74, 2, 4])\n",
    "\n",
    "# Add coastlines and gridlines\n",
    "ax.coastlines()\n",
    "ax.gridlines()\n",
    "\n",
    "# Add a marker for Maldives\n",
    "ax.plot(73.2207, 3.2028, 'ro', markersize=7, transform=ccrs.PlateCarree())\n",
    "ax.text(73.2207 + 0.1, 3.2028 - 0.1, 'Maldives', transform=ccrs.PlateCarree())\n",
    "\n",
    "# Show the plot\n",
    "plt.show()"
   ]
  },
  {
   "cell_type": "code",
   "execution_count": 2,
   "metadata": {},
   "outputs": [],
   "source": [
    "import osmnx as ox\n",
    "\n",
    "area = ox.geocode_to_gdf('Huvadhu Atoll, Maldives')"
   ]
  },
  {
   "cell_type": "code",
   "execution_count": null,
   "metadata": {},
   "outputs": [],
   "source": [
    "area.plot()"
   ]
  },
  {
   "cell_type": "code",
   "execution_count": 151,
   "metadata": {},
   "outputs": [
    {
     "name": "stdout",
     "output_type": "stream",
     "text": [
      "Updating results maps...\n"
     ]
    },
    {
     "name": "stderr",
     "output_type": "stream",
     "text": [
      " 86%|████████▌ | 343/401 [01:22<00:12,  4.80it/s]"
     ]
    },
    {
     "name": "stdout",
     "output_type": "stream",
     "text": [
      "Error with island: Qaruh Island\n"
     ]
    },
    {
     "name": "stderr",
     "output_type": "stream",
     "text": [
      "100%|██████████| 401/401 [01:31<00:00,  4.37it/s]\n"
     ]
    }
   ],
   "source": [
    "update_results_map('Maldives')"
   ]
  },
  {
   "cell_type": "code",
   "execution_count": null,
   "metadata": {},
   "outputs": [],
   "source": [
    "import pandas as pd\n",
    "with open('islands_to_ignore.txt') as f:\n",
    "    lines = f.read().split('\\n')\n",
    "    arr = []\n",
    "    for line in lines:\n",
    "        arr.append(line.split(','))\n",
    "    df = pd.DataFrame(arr, columns=['Island', 'Country', 'Atoll', 'Reason']) \n",
    "df.to_excel('islands_to_ignore.xlsx', index=False)"
   ]
  },
  {
   "cell_type": "code",
   "execution_count": null,
   "metadata": {},
   "outputs": [],
   "source": [
    "df = pd.read_excel('islands_to_ignore.xlsx')"
   ]
  },
  {
   "cell_type": "code",
   "execution_count": null,
   "metadata": {},
   "outputs": [],
   "source": [
    "'Fulu' in df.Island.values"
   ]
  },
  {
   "cell_type": "code",
   "execution_count": 148,
   "metadata": {},
   "outputs": [],
   "source": [
    "from selenium import webdriver\n",
    "import os\n",
    "\n",
    "# Set up Selenium\n",
    "options = webdriver.ChromeOptions()\n",
    "options.add_argument('headless')  # To run Chrome in headless mode\n",
    "driver = webdriver.Chrome(options=options)\n",
    "\n",
    "# Open the HTML file in the browser\n",
    "html_file_path = os.path.join(os.getcwd(), 'maps', 'results_islands_seasonality_minima.html')\n",
    "driver.get(html_file_path)\n",
    "\n",
    "# Wait for the map to load\n",
    "import time\n",
    "time.sleep(5)  # Adjust the time as needed\n",
    "\n",
    "# Set the desired width and height for the window\n",
    "desired_width = 1920\n",
    "desired_height = 1080\n",
    "driver.set_window_size(desired_width, desired_height)\n",
    "\n",
    "# Take a screenshot\n",
    "screenshot_path = 'map.png'\n",
    "driver.save_screenshot(screenshot_path)\n",
    "\n",
    "# Close the browser\n",
    "driver.quit()"
   ]
  },
  {
   "cell_type": "code",
   "execution_count": 149,
   "metadata": {},
   "outputs": [],
   "source": [
    "from selenium import webdriver\n",
    "\n",
    "# Set up Selenium\n",
    "options = webdriver.ChromeOptions()\n",
    "options.add_argument('headless')  # To run Chrome in headless mode\n",
    "driver = webdriver.Chrome(options=options)\n",
    "\n",
    "# Open the HTML file in the browser\n",
    "driver.get(os.path.join(os.getcwd(), 'maps', 'results_islands_seasonality_minima.html'))  # Replace with the path to your HTML file\n",
    "# Wait for the map to load\n",
    "import time\n",
    "time.sleep(15)  # Adjust the time as needed\n",
    "\n",
    "# Take a screenshot\n",
    "driver.save_screenshot('maps//results_islands_seasonality_minima.png')\n",
    "\n",
    "# Close the browser\n",
    "driver.quit()"
   ]
  },
  {
   "cell_type": "code",
   "execution_count": 407,
   "metadata": {},
   "outputs": [
    {
     "name": "stdout",
     "output_type": "stream",
     "text": [
      "\n",
      "-------------------------------------------------------------------\n",
      "Retrieving all information available for the island\n",
      "Island: Dhakandhoo, Maldives\n",
      "-------------------------------------------------------------------\n",
      "\n",
      "~ The following information is available: ~\n",
      "\n",
      "general_info\n",
      "               island\n",
      "               country\n",
      "               part of\n",
      "               located in the administrative territorial entity\n",
      "               located in or next to body of water\n",
      "               elevation above sea level\n",
      "               atoll\n",
      "spatial_reference\n",
      "               latitude\n",
      "               longitude\n",
      "               polygon\n",
      "               polygon_OSM\n",
      "               reference_shoreline\n",
      "               transects\n",
      "               transects_direction\n",
      "               area_country\n",
      "               reference_shoreline_buffer_L8\n",
      "               reference_shoreline_buffer_L9\n",
      "               reference_shoreline_buffer_S2\n",
      "image_collection_dict\n",
      "               description\n",
      "               S2\n",
      "               L5\n",
      "               L7\n",
      "               L8\n",
      "               L9\n",
      "duvat_magnan_2019\n",
      "               atoll\n",
      "               island number\n",
      "               satellite image date (d/m/y) 2004-2006\n",
      "               satellite image date (d/m/y) 2014-2016\n",
      "               change in island land area (data for inhabited islands only)(in ha) 2014-2016\n",
      "               human footprint on island land area 2004-2006 non-exploited islands\n",
      "               human footprint on island land area 2014-2016 non-exploited islands\n",
      "               coastal modifications 2004-2006 shoreline type entirely natural\n",
      "               coastal modifications 2014-2016 shoreline type entirely natural\n",
      "               human pressure on island reef 2004-2006 boat channel(s) across reef flat\n",
      "               human pressure on island reef 2014-2016 persistence of boat channel(s) across reef flat\n",
      "timeseries_CRW\n",
      "               description\n",
      "               description_timeseries\n",
      "               source\n",
      "               timeseries\n",
      "timeseries_nighttime_light\n",
      "               description\n",
      "               description_timeseries\n",
      "               source\n",
      "timeseries_disasters\n",
      "               description\n",
      "               description_timeseries\n",
      "               source\n",
      "               database\n",
      "               timeseries\n",
      "               confounders\n",
      "timeseries_WorldBank\n",
      "               description\n",
      "               description_timeseries\n",
      "               source\n",
      "               timeseries\n",
      "timeseries_WHO\n",
      "               description\n",
      "               description_timeseries\n",
      "               source\n",
      "               timeseries\n",
      "timeseries_sea_level_anomaly\n",
      "               description\n",
      "               description_timeseries\n",
      "               source\n",
      "               units\n",
      "               timeseries\n",
      "timeseries_PMLV2\n",
      "               description\n",
      "               description_timeseries\n",
      "               source\n",
      "               units\n",
      "timeseries_PSMSL\n",
      "               description\n",
      "               description_timeseries\n",
      "               source\n",
      "               stations\n",
      "               timeseries\n",
      "timeseries_PSLGM\n",
      "               description\n",
      "               description_timeseries\n",
      "               source\n",
      "timeseries_coastsat\n",
      "               description\n",
      "               description_timeseries\n",
      "               source\n",
      "               inputs\n",
      "               settings\n",
      "               timeseries\n",
      "timeseries_ERA5\n",
      "               description\n",
      "               description_timeseries\n",
      "               source\n",
      "               timeseries_transect_specific\n",
      "               timeseries\n",
      "               units\n",
      "characteristics_ECU\n",
      "               description\n",
      "               source\n",
      "               transects_characteristics_ECU\n",
      "timeseries_vegetation\n",
      "               description\n",
      "               description_timeseries\n",
      "               source\n",
      "               mask_total_vegetation_L8\n",
      "               mask_coastal_vegetation_L8\n",
      "               mask_total_vegetation_L9\n",
      "               mask_coastal_vegetation_L9\n",
      "               mask_total_vegetation_S2\n",
      "               mask_coastal_vegetation_S2\n",
      "               timeseries\n",
      "timeseries_climate_indices\n",
      "               description\n",
      "               description_timeseries\n",
      "               source\n",
      "               timeseries\n",
      "timeseries_segmentation\n",
      "               dict_extraction\n",
      "               dict_best_polygons\n",
      "               dict_timeseries\n",
      "               timeseries\n",
      "timeseries_preprocessing\n",
      "               df_coastline_timeseries\n",
      "               raw\n",
      "               optimal time period\n",
      "timeseries_analysis\n",
      "               coastline_position_transect_0_waterline\n",
      "               coastline_position_transect_1_waterline\n",
      "               coastline_position_transect_2_waterline\n",
      "               coastline_position_transect_3_waterline\n",
      "               coastline_position_transect_4_waterline\n",
      "               coastline_position_transect_5_waterline\n",
      "               coastline_position_transect_6_waterline\n",
      "               coastline_position_transect_7_waterline\n",
      "               coastline_position_transect_8_waterline\n",
      "               coastline_position_transect_9_waterline\n",
      "               coastline_position_transect_10_waterline\n",
      "               coastline_position_transect_11_waterline\n",
      "               coastline_position_transect_12_waterline\n",
      "               coastline_position_transect_13_waterline\n",
      "               coastline_position_transect_14_waterline\n",
      "               coastline_position_transect_15_waterline\n",
      "               coastline_position_transect_16_waterline\n",
      "               coastline_position_transect_17_waterline\n",
      "               coastline_position_transect_18_waterline\n",
      "               coastline_position_transect_19_waterline\n",
      "               coastline_position_transect_20_waterline\n",
      "               coastline_position_transect_21_waterline\n",
      "               coastline_position_transect_22_waterline\n",
      "               coastline_position_transect_23_waterline\n",
      "               coastline_position_transect_24_waterline\n",
      "               coastline_position_transect_25_waterline\n",
      "               coastline_position_transect_26_waterline\n",
      "               coastline_position_transect_27_waterline\n",
      "               coastline_position_transect_28_waterline\n",
      "               coastline_position_transect_29_waterline\n",
      "               coastline_position_transect_30_waterline\n",
      "               coastline_position_transect_31_waterline\n",
      "               coastline_position_transect_32_waterline\n",
      "               coastline_position_transect_33_waterline\n",
      "               coastline_position_transect_34_waterline\n",
      "               coastline_position_transect_35_waterline\n",
      "               coastline_position_transect_36_waterline\n",
      "               coastline_position_transect_37_waterline\n",
      "               coastline_position_transect_38_waterline\n",
      "               coastline_position_transect_39_waterline\n",
      "               coastline_position_transect_40_waterline\n",
      "               coastline_position_transect_41_waterline\n",
      "               coastline_position_transect_42_waterline\n",
      "               coastline_position_transect_43_waterline\n",
      "               coastline_position_transect_44_waterline\n",
      "               coastline_position_transect_45_waterline\n",
      "               coastline_position_transect_46_waterline\n",
      "               coastline_position_transect_47_waterline\n",
      "               coastline_position_transect_48_waterline\n",
      "               coastline_position_transect_49_waterline\n",
      "               coastline_position_transect_50_waterline\n",
      "               coastline_position_transect_51_waterline\n",
      "               coastline_position_transect_52_waterline\n",
      "               coastline_position_transect_53_waterline\n",
      "               coastline_position_transect_54_waterline\n",
      "               coastline_position_transect_55_waterline\n",
      "               coastline_position_transect_56_waterline\n",
      "               coastline_position_transect_57_waterline\n",
      "               coastline_position_transect_58_waterline\n",
      "               coastline_position_transect_59_waterline\n",
      "               coastline_position_transect_60_waterline\n",
      "               coastline_position_transect_61_waterline\n",
      "               coastline_position_transect_62_waterline\n",
      "               coastline_position_transect_63_waterline\n",
      "               coastline_position_transect_64_waterline\n",
      "               coastline_position_transect_65_waterline\n",
      "               coastline_position_transect_66_waterline\n",
      "               coastline_position_transect_67_waterline\n",
      "               coastline_position_transect_68_waterline\n",
      "               coastline_position_transect_69_waterline\n",
      "               coastline_position_transect_70_waterline\n",
      "               coastline_position_transect_71_waterline\n",
      "               coastline_position_transect_72_waterline\n",
      "               coastline_position_transect_73_waterline\n",
      "               coastline_position_transect_74_waterline\n",
      "               coastline_position_transect_75_waterline\n",
      "               coastline_position_transect_76_waterline\n",
      "               coastline_position_transect_77_waterline\n",
      "               coastline_position_transect_78_waterline\n",
      "               coastline_position_transect_80_waterline\n",
      "               coastline_position_transect_81_waterline\n",
      "               coastline_position_transect_82_waterline\n",
      "               coastline_position_transect_84_waterline\n",
      "               coastline_position_transect_85_waterline\n",
      "               coastline_position_transect_87_waterline\n",
      "               coastline_position_transect_88_waterline\n",
      "               coastline_position_transect_89_waterline\n",
      "               coastline_position_transect_90_waterline\n",
      "               coastline_position_transect_91_waterline\n",
      "               coastline_position_transect_92_waterline\n",
      "               coastline_position_transect_93_waterline\n",
      "               coastline_position_transect_94_waterline\n",
      "               coastline_position_transect_95_waterline\n",
      "               coastline_position_transect_96_waterline\n",
      "               coastline_position_transect_97_waterline\n",
      "               coastline_position_transect_98_waterline\n",
      "               coastline_position_transect_99_waterline\n",
      "               coastline_position_transect_100_waterline\n",
      "               coastline_position_transect_101_waterline\n",
      "               coastline_position_transect_102_waterline\n",
      "               coastline_position_transect_103_waterline\n",
      "               coastline_position_transect_104_waterline\n",
      "               coastline_position_transect_105_waterline\n",
      "               coastline_position_transect_106_waterline\n",
      "timeseries_aggregation\n",
      "               dict_results_agg_minima\n",
      "               dict_results_agg_peaks\n",
      "\n",
      "-------------------------------------------------------------------\n",
      "Segmentation of Dhakandhoo, Maldives\n",
      "-------------------------------------------------------------------\n",
      "\n"
     ]
    },
    {
     "name": "stderr",
     "output_type": "stream",
     "text": [
      "MovieWriter Pillow unavailable; using Pillow instead.\n"
     ]
    }
   ],
   "source": [
    "island = 'Dhakandhoo'\n",
    "country = 'Maldives'\n",
    "\n",
    "# island_info = retrieve_island_info(island, country)\n",
    "# plot_shoreline_transects(island_info)\n",
    "\n",
    "# island_info = TimeSeriesCoastSat(island, country, reference_shoreline_transects_only=True, overwrite=True, distance_between_transects=5, retrieve_reference_shoreline_manually=True).main()\n",
    "\n",
    "island_info = Workflow(island, country, run_all=False, execute_segmentation=True, execute_preprocess=False, execute_analysis=False, update_maps=False, small_island=True).main()"
   ]
  },
  {
   "cell_type": "code",
   "execution_count": null,
   "metadata": {},
   "outputs": [],
   "source": [
    "for file in tqdm(os.listdir(os.path.join(os.getcwd(), 'data', 'info_islands'))):\n",
    "    island = file.split('_')[1] \n",
    "    country = file.split('_')[2].split('.')[0]\n",
    "\n",
    "    if island == 'Dhigelaabadhoo' or island == 'Olhurataa':\n",
    "        continue\n",
    "    \n",
    "    try:\n",
    "        island_info = retrieve_island_info(island, country, verbose=False)\n",
    "    except:\n",
    "        print('Error with island:', island)\n",
    "        continue\n",
    "    if 'timeseries_analysis' in island_info.keys():\n",
    "        ts_analysis_results = island_info['timeseries_analysis']\n",
    "        # print(island)\n",
    "        if 'amplitude_seasonal_STL_absrange' in ts_analysis_results[list(ts_analysis_results.keys())[0]]['seasonality'].keys():\n",
    "            continue\n",
    "        else:\n",
    "            try:\n",
    "                island_info = Workflow(island, country, run_all=False, execute_segmentation=True, execute_preprocess=True, execute_analysis=True, update_maps=False).main()\n",
    "            except:\n",
    "                print('Error with island:', island)\n",
    "                continue\n",
    "    else:\n",
    "        continue"
   ]
  },
  {
   "cell_type": "code",
   "execution_count": null,
   "metadata": {},
   "outputs": [],
   "source": [
    "# for file in tqdm(os.listdir(os.path.join(os.getcwd(), 'data', 'info_islands'))):\n",
    "#     island = file.split('_')[1] \n",
    "#     country = file.split('_')[2].split('.')[0]\n",
    "#     try:\n",
    "#         island_info = Workflow(island, country, run_all=False, execute_segmentation=True, execute_preprocess=True, execute_analysis=True, update_maps=False).main()\n",
    "#     except:\n",
    "#         print('Error with island:', island)\n",
    "#         continue\n",
    "\n",
    "island = 'Keredhdhoo'\n",
    "country = 'Maldives'\n",
    "\n",
    "island_info = retrieve_island_info(island, country)\n",
    "\n",
    "# TimeSeriesCoastSat(island, country, overwrite=True, reference_shoreline_transects_only=True, distance_between_transects=10).main()\n",
    "\n",
    "#island_info = Workflow(island, country, run_all=False, execute_segmentation=False, execute_preprocess=False, execute_analysis=True, update_maps=False).main()"
   ]
  },
  {
   "cell_type": "code",
   "execution_count": null,
   "metadata": {},
   "outputs": [],
   "source": [
    "import matplotlib.pyplot as plt\n",
    "from matplotlib.colors import LinearSegmentedColormap\n",
    "\n",
    "# Get the Viridis colormap\n",
    "viridis_cmap = plt.get_cmap('viridis')\n",
    "\n",
    "# Number of colors to extract\n",
    "num_colors = 7\n",
    "\n",
    "# Sample the colormap at evenly spaced intervals\n",
    "colors = [viridis_cmap(i / (num_colors - 1)) for i in range(num_colors)]\n",
    "\n",
    "# Convert RGB colors to hexadecimal format (F code)\n",
    "hex_colors = [f\"#{int(color[0] * 255):02X}{int(color[1] * 255):02X}{int(color[2] * 255):02X}\" for color in colors]\n",
    "\n",
    "# Print the hexadecimal representation of the colors\n",
    "for i, hex_color in enumerate(hex_colors):\n",
    "    print(f\"Color {i + 1}: {hex_color}\")"
   ]
  },
  {
   "cell_type": "code",
   "execution_count": null,
   "metadata": {},
   "outputs": [],
   "source": [
    "island_info['timeseries_analysis']['coastline_position_transect_100_waterline']['seasonality']['amplitude_seasonal_STL_absrange']"
   ]
  },
  {
   "cell_type": "code",
   "execution_count": null,
   "metadata": {},
   "outputs": [],
   "source": [
    "ts_analysis_results = island_info['timeseries_analysis']\n",
    "c_seasonality_amplitude = [ts_analysis_results[val]['seasonality']['amplitude_seasonal_STL_absrange'] for val in ts_analysis_results.keys()]"
   ]
  },
  {
   "cell_type": "code",
   "execution_count": null,
   "metadata": {},
   "outputs": [],
   "source": [
    "c_seasonality_amplitude"
   ]
  },
  {
   "cell_type": "code",
   "execution_count": null,
   "metadata": {},
   "outputs": [],
   "source": [
    "ts = island_info['timeseries_preprocessing']['optimal time period']['dict_timeseries']['coastline_position_transect_0_waterline']['monthly']['coastline_position_transect_0_waterline']\n",
    "plt.plot(ts.index, ts.values)\n",
    "\n",
    "o = rb.beast(ts.values, start=datetime.strftime(ts.index[0], '%Y-%m-%d'), season='monthly', deltat='1/12 year', quiet=True, print_progress=False)"
   ]
  },
  {
   "cell_type": "code",
   "execution_count": null,
   "metadata": {},
   "outputs": [],
   "source": [
    "ts.index[0]"
   ]
  },
  {
   "cell_type": "code",
   "execution_count": null,
   "metadata": {},
   "outputs": [],
   "source": [
    "plt.plot(ts.index, o.trend.Y)"
   ]
  },
  {
   "cell_type": "markdown",
   "metadata": {},
   "source": [
    "# Maps climate data"
   ]
  },
  {
   "cell_type": "code",
   "execution_count": 1,
   "metadata": {},
   "outputs": [],
   "source": [
    "import cdsapi\n",
    "import urllib.request\n",
    "import xarray as xr\n",
    "import osmnx as ox"
   ]
  },
  {
   "cell_type": "code",
   "execution_count": 3,
   "metadata": {},
   "outputs": [
    {
     "name": "stderr",
     "output_type": "stream",
     "text": [
      "2024-07-15 15:40:41,221 INFO Welcome to the CDS\n",
      "2024-07-15 15:40:41,223 INFO Sending request to https://cds.climate.copernicus.eu/api/v2/resources/reanalysis-era5-single-levels-monthly-means\n",
      "2024-07-15 15:40:41,635 INFO Request is queued\n",
      "2024-07-15 15:40:42,675 INFO Request is running\n",
      "2024-07-15 15:47:00,669 INFO Request is completed\n",
      "2024-07-15 15:47:00,705 INFO Welcome to the CDS\n",
      "2024-07-15 15:47:00,706 INFO Sending request to https://cds.climate.copernicus.eu/api/v2/resources/reanalysis-era5-single-levels-monthly-means\n",
      "2024-07-15 15:47:00,886 INFO Request is queued\n",
      "2024-07-15 15:47:01,926 INFO Request is running\n",
      "2024-07-15 15:48:54,647 INFO Request is completed\n"
     ]
    }
   ],
   "source": [
    "geometry_ox_country = ox.geocode_to_gdf('Maldives')\n",
    "area_country = [geometry_ox_country.bbox_north.values[0], \\\n",
    "                geometry_ox_country.bbox_west.values[0], \\\n",
    "                geometry_ox_country.bbox_south.values[0], \\\n",
    "                geometry_ox_country.bbox_east.values[0]]\n",
    "\n",
    "cds = cdsapi.Client(url=\"https://cds.climate.copernicus.eu/api/v2\", key=\"200721:d13b27b3-32f8-4315-a9c0-e65dc3eb6fdd\")\n",
    "\n",
    "# Query cdsapi request\n",
    "fl = cds.retrieve(\n",
    "    'reanalysis-era5-single-levels-monthly-means',\n",
    "    {\n",
    "        'format': 'netcdf',\n",
    "        'product_type': 'monthly_averaged_reanalysis',\n",
    "        'variable': ['10m_u_component_of_wind', '10m_v_component_of_wind',\n",
    "                        '2m_dewpoint_temperature', '2m_temperature', \n",
    "                        'soil_temperature_level_1', 'total_precipitation',\n",
    "                        'evaporation', 'sea_surface_temperature', 'mean_sea_level_pressure',\n",
    "        ],\n",
    "        'time': '00:00',\n",
    "        'year': [\n",
    "            '2010', '2011', '2012', \n",
    "            '2013', '2014', '2015',\n",
    "            '2016', '2017', '2018',\n",
    "            '2019', '2020', '2021',\n",
    "            '2022'\n",
    "        ],\n",
    "        'month': [\n",
    "            '01', '02', '03',\n",
    "            '04', '05', '06',\n",
    "            '07', '08', '09',\n",
    "            '10', '11', '12',\n",
    "        ],\n",
    "        'area': area_country,\n",
    "    })\n",
    "\n",
    "# Query cdsapi request\n",
    "fl_waves = cds.retrieve(\n",
    "    'reanalysis-era5-single-levels-monthly-means',\n",
    "    {\n",
    "        'format': 'netcdf',\n",
    "        'product_type': 'monthly_averaged_reanalysis',\n",
    "        'variable': ['mean_direction_of_total_swell', 'mean_direction_of_wind_waves', \n",
    "                        'mean_period_of_total_swell', 'mean_period_of_wind_waves', \n",
    "                        'mean_wave_direction', 'mean_wave_period',\n",
    "                        'significant_height_of_combined_wind_waves_and_swell',\n",
    "                        'significant_height_of_total_swell', 'significant_height_of_wind_waves',\n",
    "        ],\n",
    "        'time': '00:00',\n",
    "        'year': [\n",
    "            '2010', '2011', '2012', \n",
    "            '2013', '2014', '2015',\n",
    "            '2016', '2017', '2018',\n",
    "            '2019', '2020', '2021',\n",
    "            '2022'\n",
    "        ],\n",
    "        'month': [\n",
    "            '01', '02', '03',\n",
    "            '04', '05', '06',\n",
    "            '07', '08', '09',\n",
    "            '10', '11', '12',\n",
    "        ],\n",
    "        'area': area_country,\n",
    "    })"
   ]
  },
  {
   "cell_type": "code",
   "execution_count": 4,
   "metadata": {},
   "outputs": [],
   "source": [
    "# Open file as xarray dataset\n",
    "with urllib.request.urlopen(fl.location) as f:\n",
    "    data_ERA5 = xr.open_dataset(f.read())\n",
    "\n",
    "with urllib.request.urlopen(fl_waves.location) as f:\n",
    "    data_ERA5_waves = xr.open_dataset(f.read())"
   ]
  },
  {
   "cell_type": "code",
   "execution_count": 6,
   "metadata": {},
   "outputs": [],
   "source": [
    "huvadhu_atoll = ox.geocode_to_gdf('Huvadhu Atoll, Maldives')\n",
    "huvadhu_atoll_box = [huvadhu_atoll.bbox_north.values[0], \\\n",
    "                huvadhu_atoll.bbox_west.values[0], \\\n",
    "                huvadhu_atoll.bbox_south.values[0], \\\n",
    "                huvadhu_atoll.bbox_east.values[0]]"
   ]
  },
  {
   "cell_type": "code",
   "execution_count": 9,
   "metadata": {},
   "outputs": [
    {
     "data": {
      "text/plain": [
       "<matplotlib.collections.QuadMesh at 0x228b515d250>"
      ]
     },
     "execution_count": 9,
     "metadata": {},
     "output_type": "execute_result"
    }
   ],
   "source": [
    "data_ERA5_waves['mwd'].sel(time='2015-01-01').plot()"
   ]
  },
  {
   "cell_type": "code",
   "execution_count": 5,
   "metadata": {},
   "outputs": [],
   "source": [
    "clip_data_waves = data_ERA5_waves.sel(latitude=slice(1.50, 0.), longitude=slice(72.6, 74.))\n",
    "\n",
    "wave_height = clip_data_waves['swh']\n",
    "wave_period = clip_data_waves['mwp']\n",
    "\n",
    "# SI units\n",
    "rho =  1025 # kg/m^3\n",
    "g = 9.81 # m/s^2\n",
    "\n",
    "# Wave energy flux in watts per meter of wave front\n",
    "wave_energy = (rho * (g ** 2) * (wave_height ** 2) * wave_period) / (64 * np.pi)\n",
    "\n",
    "#clip_data_waves['wave_energy'] = wave_energy"
   ]
  },
  {
   "cell_type": "code",
   "execution_count": 6,
   "metadata": {},
   "outputs": [],
   "source": [
    "clip_data_waves['wave_energy'] = wave_energy"
   ]
  },
  {
   "cell_type": "code",
   "execution_count": 10,
   "metadata": {},
   "outputs": [
    {
     "data": {
      "text/plain": [
       "<Axes: title={'center': 'time = 2015-01-01'}, xlabel='longitude [degrees_east]', ylabel='latitude [degrees_north]'>"
      ]
     },
     "execution_count": 10,
     "metadata": {},
     "output_type": "execute_result"
    }
   ],
   "source": [
    "fig, ax = plt.subplots()\n",
    "clip_data_waves['wave_energy'].sel(time='2015-01-01').plot(ax=ax)\n",
    "huvadhu_atoll.plot(ax=ax, facecolor='none', edgecolor='black')"
   ]
  },
  {
   "cell_type": "code",
   "execution_count": 7,
   "metadata": {},
   "outputs": [],
   "source": [
    "list_datasets = []\n",
    "file_paths = os.path.join(os.getcwd(), 'data', 'copernicus_data')\n",
    "list_files = os.listdir(file_paths)\n",
    "\n",
    "for file in list_files:\n",
    "\n",
    "    ds = xr.open_dataset(os.path.join('data', 'copernicus_data', file))\n",
    "    list_datasets.append(ds)\n",
    "\n",
    "    ds.close()"
   ]
  },
  {
   "cell_type": "code",
   "execution_count": 8,
   "metadata": {},
   "outputs": [],
   "source": [
    "merged_dataset = xr.concat(list_datasets, dim='time')"
   ]
  },
  {
   "cell_type": "code",
   "execution_count": 20,
   "metadata": {},
   "outputs": [
    {
     "data": {
      "text/html": [
       "<div><svg style=\"position: absolute; width: 0; height: 0; overflow: hidden\">\n",
       "<defs>\n",
       "<symbol id=\"icon-database\" viewBox=\"0 0 32 32\">\n",
       "<path d=\"M16 0c-8.837 0-16 2.239-16 5v4c0 2.761 7.163 5 16 5s16-2.239 16-5v-4c0-2.761-7.163-5-16-5z\"></path>\n",
       "<path d=\"M16 17c-8.837 0-16-2.239-16-5v6c0 2.761 7.163 5 16 5s16-2.239 16-5v-6c0 2.761-7.163 5-16 5z\"></path>\n",
       "<path d=\"M16 26c-8.837 0-16-2.239-16-5v6c0 2.761 7.163 5 16 5s16-2.239 16-5v-6c0 2.761-7.163 5-16 5z\"></path>\n",
       "</symbol>\n",
       "<symbol id=\"icon-file-text2\" viewBox=\"0 0 32 32\">\n",
       "<path d=\"M28.681 7.159c-0.694-0.947-1.662-2.053-2.724-3.116s-2.169-2.030-3.116-2.724c-1.612-1.182-2.393-1.319-2.841-1.319h-15.5c-1.378 0-2.5 1.121-2.5 2.5v27c0 1.378 1.122 2.5 2.5 2.5h23c1.378 0 2.5-1.122 2.5-2.5v-19.5c0-0.448-0.137-1.23-1.319-2.841zM24.543 5.457c0.959 0.959 1.712 1.825 2.268 2.543h-4.811v-4.811c0.718 0.556 1.584 1.309 2.543 2.268zM28 29.5c0 0.271-0.229 0.5-0.5 0.5h-23c-0.271 0-0.5-0.229-0.5-0.5v-27c0-0.271 0.229-0.5 0.5-0.5 0 0 15.499-0 15.5 0v7c0 0.552 0.448 1 1 1h7v19.5z\"></path>\n",
       "<path d=\"M23 26h-14c-0.552 0-1-0.448-1-1s0.448-1 1-1h14c0.552 0 1 0.448 1 1s-0.448 1-1 1z\"></path>\n",
       "<path d=\"M23 22h-14c-0.552 0-1-0.448-1-1s0.448-1 1-1h14c0.552 0 1 0.448 1 1s-0.448 1-1 1z\"></path>\n",
       "<path d=\"M23 18h-14c-0.552 0-1-0.448-1-1s0.448-1 1-1h14c0.552 0 1 0.448 1 1s-0.448 1-1 1z\"></path>\n",
       "</symbol>\n",
       "</defs>\n",
       "</svg>\n",
       "<style>/* CSS stylesheet for displaying xarray objects in jupyterlab.\n",
       " *\n",
       " */\n",
       "\n",
       ":root {\n",
       "  --xr-font-color0: var(--jp-content-font-color0, rgba(0, 0, 0, 1));\n",
       "  --xr-font-color2: var(--jp-content-font-color2, rgba(0, 0, 0, 0.54));\n",
       "  --xr-font-color3: var(--jp-content-font-color3, rgba(0, 0, 0, 0.38));\n",
       "  --xr-border-color: var(--jp-border-color2, #e0e0e0);\n",
       "  --xr-disabled-color: var(--jp-layout-color3, #bdbdbd);\n",
       "  --xr-background-color: var(--jp-layout-color0, white);\n",
       "  --xr-background-color-row-even: var(--jp-layout-color1, white);\n",
       "  --xr-background-color-row-odd: var(--jp-layout-color2, #eeeeee);\n",
       "}\n",
       "\n",
       "html[theme=dark],\n",
       "body[data-theme=dark],\n",
       "body.vscode-dark {\n",
       "  --xr-font-color0: rgba(255, 255, 255, 1);\n",
       "  --xr-font-color2: rgba(255, 255, 255, 0.54);\n",
       "  --xr-font-color3: rgba(255, 255, 255, 0.38);\n",
       "  --xr-border-color: #1F1F1F;\n",
       "  --xr-disabled-color: #515151;\n",
       "  --xr-background-color: #111111;\n",
       "  --xr-background-color-row-even: #111111;\n",
       "  --xr-background-color-row-odd: #313131;\n",
       "}\n",
       "\n",
       ".xr-wrap {\n",
       "  display: block !important;\n",
       "  min-width: 300px;\n",
       "  max-width: 700px;\n",
       "}\n",
       "\n",
       ".xr-text-repr-fallback {\n",
       "  /* fallback to plain text repr when CSS is not injected (untrusted notebook) */\n",
       "  display: none;\n",
       "}\n",
       "\n",
       ".xr-header {\n",
       "  padding-top: 6px;\n",
       "  padding-bottom: 6px;\n",
       "  margin-bottom: 4px;\n",
       "  border-bottom: solid 1px var(--xr-border-color);\n",
       "}\n",
       "\n",
       ".xr-header > div,\n",
       ".xr-header > ul {\n",
       "  display: inline;\n",
       "  margin-top: 0;\n",
       "  margin-bottom: 0;\n",
       "}\n",
       "\n",
       ".xr-obj-type,\n",
       ".xr-array-name {\n",
       "  margin-left: 2px;\n",
       "  margin-right: 10px;\n",
       "}\n",
       "\n",
       ".xr-obj-type {\n",
       "  color: var(--xr-font-color2);\n",
       "}\n",
       "\n",
       ".xr-sections {\n",
       "  padding-left: 0 !important;\n",
       "  display: grid;\n",
       "  grid-template-columns: 150px auto auto 1fr 20px 20px;\n",
       "}\n",
       "\n",
       ".xr-section-item {\n",
       "  display: contents;\n",
       "}\n",
       "\n",
       ".xr-section-item input {\n",
       "  display: none;\n",
       "}\n",
       "\n",
       ".xr-section-item input + label {\n",
       "  color: var(--xr-disabled-color);\n",
       "}\n",
       "\n",
       ".xr-section-item input:enabled + label {\n",
       "  cursor: pointer;\n",
       "  color: var(--xr-font-color2);\n",
       "}\n",
       "\n",
       ".xr-section-item input:enabled + label:hover {\n",
       "  color: var(--xr-font-color0);\n",
       "}\n",
       "\n",
       ".xr-section-summary {\n",
       "  grid-column: 1;\n",
       "  color: var(--xr-font-color2);\n",
       "  font-weight: 500;\n",
       "}\n",
       "\n",
       ".xr-section-summary > span {\n",
       "  display: inline-block;\n",
       "  padding-left: 0.5em;\n",
       "}\n",
       "\n",
       ".xr-section-summary-in:disabled + label {\n",
       "  color: var(--xr-font-color2);\n",
       "}\n",
       "\n",
       ".xr-section-summary-in + label:before {\n",
       "  display: inline-block;\n",
       "  content: '►';\n",
       "  font-size: 11px;\n",
       "  width: 15px;\n",
       "  text-align: center;\n",
       "}\n",
       "\n",
       ".xr-section-summary-in:disabled + label:before {\n",
       "  color: var(--xr-disabled-color);\n",
       "}\n",
       "\n",
       ".xr-section-summary-in:checked + label:before {\n",
       "  content: '▼';\n",
       "}\n",
       "\n",
       ".xr-section-summary-in:checked + label > span {\n",
       "  display: none;\n",
       "}\n",
       "\n",
       ".xr-section-summary,\n",
       ".xr-section-inline-details {\n",
       "  padding-top: 4px;\n",
       "  padding-bottom: 4px;\n",
       "}\n",
       "\n",
       ".xr-section-inline-details {\n",
       "  grid-column: 2 / -1;\n",
       "}\n",
       "\n",
       ".xr-section-details {\n",
       "  display: none;\n",
       "  grid-column: 1 / -1;\n",
       "  margin-bottom: 5px;\n",
       "}\n",
       "\n",
       ".xr-section-summary-in:checked ~ .xr-section-details {\n",
       "  display: contents;\n",
       "}\n",
       "\n",
       ".xr-array-wrap {\n",
       "  grid-column: 1 / -1;\n",
       "  display: grid;\n",
       "  grid-template-columns: 20px auto;\n",
       "}\n",
       "\n",
       ".xr-array-wrap > label {\n",
       "  grid-column: 1;\n",
       "  vertical-align: top;\n",
       "}\n",
       "\n",
       ".xr-preview {\n",
       "  color: var(--xr-font-color3);\n",
       "}\n",
       "\n",
       ".xr-array-preview,\n",
       ".xr-array-data {\n",
       "  padding: 0 5px !important;\n",
       "  grid-column: 2;\n",
       "}\n",
       "\n",
       ".xr-array-data,\n",
       ".xr-array-in:checked ~ .xr-array-preview {\n",
       "  display: none;\n",
       "}\n",
       "\n",
       ".xr-array-in:checked ~ .xr-array-data,\n",
       ".xr-array-preview {\n",
       "  display: inline-block;\n",
       "}\n",
       "\n",
       ".xr-dim-list {\n",
       "  display: inline-block !important;\n",
       "  list-style: none;\n",
       "  padding: 0 !important;\n",
       "  margin: 0;\n",
       "}\n",
       "\n",
       ".xr-dim-list li {\n",
       "  display: inline-block;\n",
       "  padding: 0;\n",
       "  margin: 0;\n",
       "}\n",
       "\n",
       ".xr-dim-list:before {\n",
       "  content: '(';\n",
       "}\n",
       "\n",
       ".xr-dim-list:after {\n",
       "  content: ')';\n",
       "}\n",
       "\n",
       ".xr-dim-list li:not(:last-child):after {\n",
       "  content: ',';\n",
       "  padding-right: 5px;\n",
       "}\n",
       "\n",
       ".xr-has-index {\n",
       "  font-weight: bold;\n",
       "}\n",
       "\n",
       ".xr-var-list,\n",
       ".xr-var-item {\n",
       "  display: contents;\n",
       "}\n",
       "\n",
       ".xr-var-item > div,\n",
       ".xr-var-item label,\n",
       ".xr-var-item > .xr-var-name span {\n",
       "  background-color: var(--xr-background-color-row-even);\n",
       "  margin-bottom: 0;\n",
       "}\n",
       "\n",
       ".xr-var-item > .xr-var-name:hover span {\n",
       "  padding-right: 5px;\n",
       "}\n",
       "\n",
       ".xr-var-list > li:nth-child(odd) > div,\n",
       ".xr-var-list > li:nth-child(odd) > label,\n",
       ".xr-var-list > li:nth-child(odd) > .xr-var-name span {\n",
       "  background-color: var(--xr-background-color-row-odd);\n",
       "}\n",
       "\n",
       ".xr-var-name {\n",
       "  grid-column: 1;\n",
       "}\n",
       "\n",
       ".xr-var-dims {\n",
       "  grid-column: 2;\n",
       "}\n",
       "\n",
       ".xr-var-dtype {\n",
       "  grid-column: 3;\n",
       "  text-align: right;\n",
       "  color: var(--xr-font-color2);\n",
       "}\n",
       "\n",
       ".xr-var-preview {\n",
       "  grid-column: 4;\n",
       "}\n",
       "\n",
       ".xr-index-preview {\n",
       "  grid-column: 2 / 5;\n",
       "  color: var(--xr-font-color2);\n",
       "}\n",
       "\n",
       ".xr-var-name,\n",
       ".xr-var-dims,\n",
       ".xr-var-dtype,\n",
       ".xr-preview,\n",
       ".xr-attrs dt {\n",
       "  white-space: nowrap;\n",
       "  overflow: hidden;\n",
       "  text-overflow: ellipsis;\n",
       "  padding-right: 10px;\n",
       "}\n",
       "\n",
       ".xr-var-name:hover,\n",
       ".xr-var-dims:hover,\n",
       ".xr-var-dtype:hover,\n",
       ".xr-attrs dt:hover {\n",
       "  overflow: visible;\n",
       "  width: auto;\n",
       "  z-index: 1;\n",
       "}\n",
       "\n",
       ".xr-var-attrs,\n",
       ".xr-var-data,\n",
       ".xr-index-data {\n",
       "  display: none;\n",
       "  background-color: var(--xr-background-color) !important;\n",
       "  padding-bottom: 5px !important;\n",
       "}\n",
       "\n",
       ".xr-var-attrs-in:checked ~ .xr-var-attrs,\n",
       ".xr-var-data-in:checked ~ .xr-var-data,\n",
       ".xr-index-data-in:checked ~ .xr-index-data {\n",
       "  display: block;\n",
       "}\n",
       "\n",
       ".xr-var-data > table {\n",
       "  float: right;\n",
       "}\n",
       "\n",
       ".xr-var-name span,\n",
       ".xr-var-data,\n",
       ".xr-index-name div,\n",
       ".xr-index-data,\n",
       ".xr-attrs {\n",
       "  padding-left: 25px !important;\n",
       "}\n",
       "\n",
       ".xr-attrs,\n",
       ".xr-var-attrs,\n",
       ".xr-var-data,\n",
       ".xr-index-data {\n",
       "  grid-column: 1 / -1;\n",
       "}\n",
       "\n",
       "dl.xr-attrs {\n",
       "  padding: 0;\n",
       "  margin: 0;\n",
       "  display: grid;\n",
       "  grid-template-columns: 125px auto;\n",
       "}\n",
       "\n",
       ".xr-attrs dt,\n",
       ".xr-attrs dd {\n",
       "  padding: 0;\n",
       "  margin: 0;\n",
       "  float: left;\n",
       "  padding-right: 10px;\n",
       "  width: auto;\n",
       "}\n",
       "\n",
       ".xr-attrs dt {\n",
       "  font-weight: normal;\n",
       "  grid-column: 1;\n",
       "}\n",
       "\n",
       ".xr-attrs dt:hover span {\n",
       "  display: inline-block;\n",
       "  background: var(--xr-background-color);\n",
       "  padding-right: 10px;\n",
       "}\n",
       "\n",
       ".xr-attrs dd {\n",
       "  grid-column: 2;\n",
       "  white-space: pre-wrap;\n",
       "  word-break: break-all;\n",
       "}\n",
       "\n",
       ".xr-icon-database,\n",
       ".xr-icon-file-text2,\n",
       ".xr-no-icon {\n",
       "  display: inline-block;\n",
       "  vertical-align: middle;\n",
       "  width: 1em;\n",
       "  height: 1.5em !important;\n",
       "  stroke-width: 0;\n",
       "  stroke: currentColor;\n",
       "  fill: currentColor;\n",
       "}\n",
       "</style><pre class='xr-text-repr-fallback'>&lt;xarray.Dataset&gt; Size: 4GB\n",
       "Dimensions:           (time: 211, nv: 2, latitude: 720, longitude: 1440)\n",
       "Coordinates:\n",
       "  * time              (time) datetime64[ns] 2kB 2005-01-15 ... 2022-07-15\n",
       "  * latitude          (latitude) float32 3kB -89.88 -89.62 ... 89.62 89.88\n",
       "  * longitude         (longitude) float32 6kB 0.125 0.375 0.625 ... 359.6 359.9\n",
       "  * nv                (nv) int32 8B 0 1\n",
       "Data variables:\n",
       "    crs               (time) int32 844B -2147483647 -2147483647 ... -2147483647\n",
       "    climatology_bnds  (time, nv) datetime64[ns] 3kB 2005-01-01 ... 2022-07-31\n",
       "    lat_bnds          (time, latitude, nv) float32 1MB -89.75 -90.0 ... 89.75\n",
       "    lon_bnds          (time, longitude, nv) float32 2MB 0.0 0.25 ... 359.8 360.0\n",
       "    sla               (time, latitude, longitude) float64 2GB nan nan ... nan\n",
       "    eke               (time, latitude, longitude) float64 2GB nan nan ... nan\n",
       "Attributes: (12/43)\n",
       "    Conventions:                     CF-1.6\n",
       "    Metadata_Conventions:            Unidata Dataset Discovery v1.0\n",
       "    cdm_data_type:                   Grid\n",
       "    comment:                         Monthly Mean of Sea Level Anomalies refe...\n",
       "    contact:                         http://climate.copernicus.eu/c3s-user-se...\n",
       "    creator_email:                   http://climate.copernicus.eu/c3s-user-se...\n",
       "    ...                              ...\n",
       "    summary:                         Delayed Time Level-4 monthly means of Se...\n",
       "    time_coverage_duration:          P1M\n",
       "    time_coverage_end:               2005-01-31T00:00:00Z\n",
       "    time_coverage_resolution:        P1M\n",
       "    time_coverage_start:             2005-01-01T00:00:00Z\n",
       "    title:                           DT merged two-satellite Global Ocean L4 ...</pre><div class='xr-wrap' style='display:none'><div class='xr-header'><div class='xr-obj-type'>xarray.Dataset</div></div><ul class='xr-sections'><li class='xr-section-item'><input id='section-9c16a82a-cd94-4ca8-a8e4-25f1875d429b' class='xr-section-summary-in' type='checkbox' disabled ><label for='section-9c16a82a-cd94-4ca8-a8e4-25f1875d429b' class='xr-section-summary'  title='Expand/collapse section'>Dimensions:</label><div class='xr-section-inline-details'><ul class='xr-dim-list'><li><span class='xr-has-index'>time</span>: 211</li><li><span class='xr-has-index'>nv</span>: 2</li><li><span class='xr-has-index'>latitude</span>: 720</li><li><span class='xr-has-index'>longitude</span>: 1440</li></ul></div><div class='xr-section-details'></div></li><li class='xr-section-item'><input id='section-16c6e38a-b695-46dd-a8cd-153361fa8b82' class='xr-section-summary-in' type='checkbox'  checked><label for='section-16c6e38a-b695-46dd-a8cd-153361fa8b82' class='xr-section-summary' >Coordinates: <span>(4)</span></label><div class='xr-section-inline-details'></div><div class='xr-section-details'><ul class='xr-var-list'><li class='xr-var-item'><div class='xr-var-name'><span class='xr-has-index'>time</span></div><div class='xr-var-dims'>(time)</div><div class='xr-var-dtype'>datetime64[ns]</div><div class='xr-var-preview xr-preview'>2005-01-15 ... 2022-07-15</div><input id='attrs-fe23d33b-c296-4167-9ce5-19ae15feace2' class='xr-var-attrs-in' type='checkbox' ><label for='attrs-fe23d33b-c296-4167-9ce5-19ae15feace2' title='Show/Hide attributes'><svg class='icon xr-icon-file-text2'><use xlink:href='#icon-file-text2'></use></svg></label><input id='data-8337152e-5e13-4fe5-b945-a66b460447be' class='xr-var-data-in' type='checkbox'><label for='data-8337152e-5e13-4fe5-b945-a66b460447be' title='Show/Hide data repr'><svg class='icon xr-icon-database'><use xlink:href='#icon-database'></use></svg></label><div class='xr-var-attrs'><dl class='xr-attrs'><dt><span>axis :</span></dt><dd>T</dd><dt><span>bounds :</span></dt><dd>climatology_bnds</dd><dt><span>long_name :</span></dt><dd>Time</dd><dt><span>standard_name :</span></dt><dd>time</dd></dl></div><div class='xr-var-data'><pre>array([&#x27;2005-01-15T00:00:00.000000000&#x27;, &#x27;2005-02-15T00:00:00.000000000&#x27;,\n",
       "       &#x27;2005-03-15T00:00:00.000000000&#x27;, ..., &#x27;2022-05-15T00:00:00.000000000&#x27;,\n",
       "       &#x27;2022-06-15T00:00:00.000000000&#x27;, &#x27;2022-07-15T00:00:00.000000000&#x27;],\n",
       "      dtype=&#x27;datetime64[ns]&#x27;)</pre></div></li><li class='xr-var-item'><div class='xr-var-name'><span class='xr-has-index'>latitude</span></div><div class='xr-var-dims'>(latitude)</div><div class='xr-var-dtype'>float32</div><div class='xr-var-preview xr-preview'>-89.88 -89.62 ... 89.62 89.88</div><input id='attrs-422598a0-6cf5-4b00-97f4-d5b34f152cef' class='xr-var-attrs-in' type='checkbox' ><label for='attrs-422598a0-6cf5-4b00-97f4-d5b34f152cef' title='Show/Hide attributes'><svg class='icon xr-icon-file-text2'><use xlink:href='#icon-file-text2'></use></svg></label><input id='data-706fbf9e-6f55-4578-b5a8-0ba4048f4d50' class='xr-var-data-in' type='checkbox'><label for='data-706fbf9e-6f55-4578-b5a8-0ba4048f4d50' title='Show/Hide data repr'><svg class='icon xr-icon-database'><use xlink:href='#icon-database'></use></svg></label><div class='xr-var-attrs'><dl class='xr-attrs'><dt><span>axis :</span></dt><dd>Y</dd><dt><span>bounds :</span></dt><dd>lat_bnds</dd><dt><span>long_name :</span></dt><dd>Latitude</dd><dt><span>standard_name :</span></dt><dd>latitude</dd><dt><span>units :</span></dt><dd>degrees_north</dd><dt><span>valid_max :</span></dt><dd>89.875</dd><dt><span>valid_min :</span></dt><dd>-89.875</dd></dl></div><div class='xr-var-data'><pre>array([-89.875, -89.625, -89.375, ...,  89.375,  89.625,  89.875],\n",
       "      dtype=float32)</pre></div></li><li class='xr-var-item'><div class='xr-var-name'><span class='xr-has-index'>longitude</span></div><div class='xr-var-dims'>(longitude)</div><div class='xr-var-dtype'>float32</div><div class='xr-var-preview xr-preview'>0.125 0.375 0.625 ... 359.6 359.9</div><input id='attrs-131a284e-3e81-4a13-9f93-525c20999e02' class='xr-var-attrs-in' type='checkbox' ><label for='attrs-131a284e-3e81-4a13-9f93-525c20999e02' title='Show/Hide attributes'><svg class='icon xr-icon-file-text2'><use xlink:href='#icon-file-text2'></use></svg></label><input id='data-c86cfbb0-dc85-4489-bc64-014619934a97' class='xr-var-data-in' type='checkbox'><label for='data-c86cfbb0-dc85-4489-bc64-014619934a97' title='Show/Hide data repr'><svg class='icon xr-icon-database'><use xlink:href='#icon-database'></use></svg></label><div class='xr-var-attrs'><dl class='xr-attrs'><dt><span>axis :</span></dt><dd>X</dd><dt><span>bounds :</span></dt><dd>lon_bnds</dd><dt><span>long_name :</span></dt><dd>Longitude</dd><dt><span>standard_name :</span></dt><dd>longitude</dd><dt><span>units :</span></dt><dd>degrees_east</dd><dt><span>valid_max :</span></dt><dd>359.875</dd><dt><span>valid_min :</span></dt><dd>0.125</dd></dl></div><div class='xr-var-data'><pre>array([1.25000e-01, 3.75000e-01, 6.25000e-01, ..., 3.59375e+02, 3.59625e+02,\n",
       "       3.59875e+02], dtype=float32)</pre></div></li><li class='xr-var-item'><div class='xr-var-name'><span class='xr-has-index'>nv</span></div><div class='xr-var-dims'>(nv)</div><div class='xr-var-dtype'>int32</div><div class='xr-var-preview xr-preview'>0 1</div><input id='attrs-eca80280-a209-4e86-b8c4-3390fca2bd9d' class='xr-var-attrs-in' type='checkbox' ><label for='attrs-eca80280-a209-4e86-b8c4-3390fca2bd9d' title='Show/Hide attributes'><svg class='icon xr-icon-file-text2'><use xlink:href='#icon-file-text2'></use></svg></label><input id='data-16279f0f-47fc-4741-b313-28c7021ed717' class='xr-var-data-in' type='checkbox'><label for='data-16279f0f-47fc-4741-b313-28c7021ed717' title='Show/Hide data repr'><svg class='icon xr-icon-database'><use xlink:href='#icon-database'></use></svg></label><div class='xr-var-attrs'><dl class='xr-attrs'><dt><span>comment :</span></dt><dd>Vertex.</dd><dt><span>long_name :</span></dt><dd>Number of cell vertices</dd><dt><span>units :</span></dt><dd>1</dd></dl></div><div class='xr-var-data'><pre>array([0, 1])</pre></div></li></ul></div></li><li class='xr-section-item'><input id='section-db10a7f4-7fc3-4bd4-8245-3b0b26908fbd' class='xr-section-summary-in' type='checkbox'  checked><label for='section-db10a7f4-7fc3-4bd4-8245-3b0b26908fbd' class='xr-section-summary' >Data variables: <span>(6)</span></label><div class='xr-section-inline-details'></div><div class='xr-section-details'><ul class='xr-var-list'><li class='xr-var-item'><div class='xr-var-name'><span>crs</span></div><div class='xr-var-dims'>(time)</div><div class='xr-var-dtype'>int32</div><div class='xr-var-preview xr-preview'>-2147483647 ... -2147483647</div><input id='attrs-a38746ba-4269-41df-a522-75ae162a5eb8' class='xr-var-attrs-in' type='checkbox' ><label for='attrs-a38746ba-4269-41df-a522-75ae162a5eb8' title='Show/Hide attributes'><svg class='icon xr-icon-file-text2'><use xlink:href='#icon-file-text2'></use></svg></label><input id='data-b6a76a25-8733-44c3-a809-54e48b916619' class='xr-var-data-in' type='checkbox'><label for='data-b6a76a25-8733-44c3-a809-54e48b916619' title='Show/Hide data repr'><svg class='icon xr-icon-database'><use xlink:href='#icon-database'></use></svg></label><div class='xr-var-attrs'><dl class='xr-attrs'><dt><span>comment :</span></dt><dd>This is a container variable that describes the grid_mapping used by the data in this file. This variable does not contain any data; only information about the geographic coordinate system.</dd><dt><span>grid_mapping_name :</span></dt><dd>latitude_longitude</dd><dt><span>inverse_flattening :</span></dt><dd>298.257</dd><dt><span>semi_major_axis :</span></dt><dd>6378136.3</dd></dl></div><div class='xr-var-data'><pre>array([-2147483647, -2147483647, -2147483647, -2147483647, -2147483647,\n",
       "       -2147483647, -2147483647, -2147483647, -2147483647, -2147483647,\n",
       "       -2147483647, -2147483647, -2147483647, -2147483647, -2147483647,\n",
       "       -2147483647, -2147483647, -2147483647, -2147483647, -2147483647,\n",
       "       -2147483647, -2147483647, -2147483647, -2147483647, -2147483647,\n",
       "       -2147483647, -2147483647, -2147483647, -2147483647, -2147483647,\n",
       "       -2147483647, -2147483647, -2147483647, -2147483647, -2147483647,\n",
       "       -2147483647, -2147483647, -2147483647, -2147483647, -2147483647,\n",
       "       -2147483647, -2147483647, -2147483647, -2147483647, -2147483647,\n",
       "       -2147483647, -2147483647, -2147483647, -2147483647, -2147483647,\n",
       "       -2147483647, -2147483647, -2147483647, -2147483647, -2147483647,\n",
       "       -2147483647, -2147483647, -2147483647, -2147483647, -2147483647,\n",
       "       -2147483647, -2147483647, -2147483647, -2147483647, -2147483647,\n",
       "       -2147483647, -2147483647, -2147483647, -2147483647, -2147483647,\n",
       "       -2147483647, -2147483647, -2147483647, -2147483647, -2147483647,\n",
       "       -2147483647, -2147483647, -2147483647, -2147483647, -2147483647,\n",
       "       -2147483647, -2147483647, -2147483647, -2147483647, -2147483647,\n",
       "       -2147483647, -2147483647, -2147483647, -2147483647, -2147483647,\n",
       "       -2147483647, -2147483647, -2147483647, -2147483647, -2147483647,\n",
       "       -2147483647, -2147483647, -2147483647, -2147483647, -2147483647,\n",
       "...\n",
       "       -2147483647, -2147483647, -2147483647, -2147483647, -2147483647,\n",
       "       -2147483647, -2147483647, -2147483647, -2147483647, -2147483647,\n",
       "       -2147483647, -2147483647, -2147483647, -2147483647, -2147483647,\n",
       "       -2147483647, -2147483647, -2147483647, -2147483647, -2147483647,\n",
       "       -2147483647, -2147483647, -2147483647, -2147483647, -2147483647,\n",
       "       -2147483647, -2147483647, -2147483647, -2147483647, -2147483647,\n",
       "       -2147483647, -2147483647, -2147483647, -2147483647, -2147483647,\n",
       "       -2147483647, -2147483647, -2147483647, -2147483647, -2147483647,\n",
       "       -2147483647, -2147483647, -2147483647, -2147483647, -2147483647,\n",
       "       -2147483647, -2147483647, -2147483647, -2147483647, -2147483647,\n",
       "       -2147483647, -2147483647, -2147483647, -2147483647, -2147483647,\n",
       "       -2147483647, -2147483647, -2147483647, -2147483647, -2147483647,\n",
       "       -2147483647, -2147483647, -2147483647, -2147483647, -2147483647,\n",
       "       -2147483647, -2147483647, -2147483647, -2147483647, -2147483647,\n",
       "       -2147483647, -2147483647, -2147483647, -2147483647, -2147483647,\n",
       "       -2147483647, -2147483647, -2147483647, -2147483647, -2147483647,\n",
       "       -2147483647, -2147483647, -2147483647, -2147483647, -2147483647,\n",
       "       -2147483647, -2147483647, -2147483647, -2147483647, -2147483647,\n",
       "       -2147483647, -2147483647, -2147483647, -2147483647, -2147483647,\n",
       "       -2147483647])</pre></div></li><li class='xr-var-item'><div class='xr-var-name'><span>climatology_bnds</span></div><div class='xr-var-dims'>(time, nv)</div><div class='xr-var-dtype'>datetime64[ns]</div><div class='xr-var-preview xr-preview'>2005-01-01 ... 2022-07-31</div><input id='attrs-7eb953c2-05be-4f9b-8a48-fabf9b90c7d4' class='xr-var-attrs-in' type='checkbox' disabled><label for='attrs-7eb953c2-05be-4f9b-8a48-fabf9b90c7d4' title='Show/Hide attributes'><svg class='icon xr-icon-file-text2'><use xlink:href='#icon-file-text2'></use></svg></label><input id='data-635aa09b-57ce-45fa-b408-7e1ef7699359' class='xr-var-data-in' type='checkbox'><label for='data-635aa09b-57ce-45fa-b408-7e1ef7699359' title='Show/Hide data repr'><svg class='icon xr-icon-database'><use xlink:href='#icon-database'></use></svg></label><div class='xr-var-attrs'><dl class='xr-attrs'></dl></div><div class='xr-var-data'><pre>array([[&#x27;2005-01-01T00:00:00.000000000&#x27;, &#x27;2005-01-31T00:00:00.000000000&#x27;],\n",
       "       [&#x27;2005-02-01T00:00:00.000000000&#x27;, &#x27;2005-02-28T00:00:00.000000000&#x27;],\n",
       "       [&#x27;2005-03-01T00:00:00.000000000&#x27;, &#x27;2005-03-31T00:00:00.000000000&#x27;],\n",
       "       [&#x27;2005-04-01T00:00:00.000000000&#x27;, &#x27;2005-04-30T00:00:00.000000000&#x27;],\n",
       "       [&#x27;2005-05-01T00:00:00.000000000&#x27;, &#x27;2005-05-31T00:00:00.000000000&#x27;],\n",
       "       [&#x27;2005-06-01T00:00:00.000000000&#x27;, &#x27;2005-06-30T00:00:00.000000000&#x27;],\n",
       "       [&#x27;2005-07-01T00:00:00.000000000&#x27;, &#x27;2005-07-31T00:00:00.000000000&#x27;],\n",
       "       [&#x27;2005-08-01T00:00:00.000000000&#x27;, &#x27;2005-08-31T00:00:00.000000000&#x27;],\n",
       "       [&#x27;2005-09-01T00:00:00.000000000&#x27;, &#x27;2005-09-30T00:00:00.000000000&#x27;],\n",
       "       [&#x27;2005-10-01T00:00:00.000000000&#x27;, &#x27;2005-10-31T00:00:00.000000000&#x27;],\n",
       "       [&#x27;2005-11-01T00:00:00.000000000&#x27;, &#x27;2005-11-30T00:00:00.000000000&#x27;],\n",
       "       [&#x27;2005-12-01T00:00:00.000000000&#x27;, &#x27;2005-12-31T00:00:00.000000000&#x27;],\n",
       "       [&#x27;2006-01-01T00:00:00.000000000&#x27;, &#x27;2006-01-31T00:00:00.000000000&#x27;],\n",
       "       [&#x27;2006-02-01T00:00:00.000000000&#x27;, &#x27;2006-02-28T00:00:00.000000000&#x27;],\n",
       "       [&#x27;2006-03-01T00:00:00.000000000&#x27;, &#x27;2006-03-31T00:00:00.000000000&#x27;],\n",
       "       [&#x27;2006-04-01T00:00:00.000000000&#x27;, &#x27;2006-04-30T00:00:00.000000000&#x27;],\n",
       "       [&#x27;2006-05-01T00:00:00.000000000&#x27;, &#x27;2006-05-31T00:00:00.000000000&#x27;],\n",
       "       [&#x27;2006-06-01T00:00:00.000000000&#x27;, &#x27;2006-06-30T00:00:00.000000000&#x27;],\n",
       "       [&#x27;2006-07-01T00:00:00.000000000&#x27;, &#x27;2006-07-31T00:00:00.000000000&#x27;],\n",
       "       [&#x27;2006-08-01T00:00:00.000000000&#x27;, &#x27;2006-08-31T00:00:00.000000000&#x27;],\n",
       "...\n",
       "       [&#x27;2021-01-01T00:00:00.000000000&#x27;, &#x27;2021-01-31T00:00:00.000000000&#x27;],\n",
       "       [&#x27;2021-02-01T00:00:00.000000000&#x27;, &#x27;2021-02-28T00:00:00.000000000&#x27;],\n",
       "       [&#x27;2021-03-01T00:00:00.000000000&#x27;, &#x27;2021-03-31T00:00:00.000000000&#x27;],\n",
       "       [&#x27;2021-04-01T00:00:00.000000000&#x27;, &#x27;2021-04-30T00:00:00.000000000&#x27;],\n",
       "       [&#x27;2021-05-01T00:00:00.000000000&#x27;, &#x27;2021-05-31T00:00:00.000000000&#x27;],\n",
       "       [&#x27;2021-06-01T00:00:00.000000000&#x27;, &#x27;2021-06-30T00:00:00.000000000&#x27;],\n",
       "       [&#x27;2021-07-01T00:00:00.000000000&#x27;, &#x27;2021-07-31T00:00:00.000000000&#x27;],\n",
       "       [&#x27;2021-08-01T00:00:00.000000000&#x27;, &#x27;2021-08-31T00:00:00.000000000&#x27;],\n",
       "       [&#x27;2021-09-01T00:00:00.000000000&#x27;, &#x27;2021-09-30T00:00:00.000000000&#x27;],\n",
       "       [&#x27;2021-10-01T00:00:00.000000000&#x27;, &#x27;2021-10-31T00:00:00.000000000&#x27;],\n",
       "       [&#x27;2021-11-01T00:00:00.000000000&#x27;, &#x27;2021-11-30T00:00:00.000000000&#x27;],\n",
       "       [&#x27;2021-12-01T00:00:00.000000000&#x27;, &#x27;2021-12-31T00:00:00.000000000&#x27;],\n",
       "       [&#x27;2022-01-01T00:00:00.000000000&#x27;, &#x27;2022-01-31T00:00:00.000000000&#x27;],\n",
       "       [&#x27;2022-02-01T00:00:00.000000000&#x27;, &#x27;2022-02-28T00:00:00.000000000&#x27;],\n",
       "       [&#x27;2022-03-01T00:00:00.000000000&#x27;, &#x27;2022-03-31T00:00:00.000000000&#x27;],\n",
       "       [&#x27;2022-04-01T00:00:00.000000000&#x27;, &#x27;2022-04-30T00:00:00.000000000&#x27;],\n",
       "       [&#x27;2022-05-01T00:00:00.000000000&#x27;, &#x27;2022-05-31T00:00:00.000000000&#x27;],\n",
       "       [&#x27;2022-06-01T00:00:00.000000000&#x27;, &#x27;2022-06-30T00:00:00.000000000&#x27;],\n",
       "       [&#x27;2022-07-01T00:00:00.000000000&#x27;, &#x27;2022-07-31T00:00:00.000000000&#x27;]],\n",
       "      dtype=&#x27;datetime64[ns]&#x27;)</pre></div></li><li class='xr-var-item'><div class='xr-var-name'><span>lat_bnds</span></div><div class='xr-var-dims'>(time, latitude, nv)</div><div class='xr-var-dtype'>float32</div><div class='xr-var-preview xr-preview'>-89.75 -90.0 -89.5 ... 90.0 89.75</div><input id='attrs-ba143c7f-a8c5-48c2-bfbf-581642559614' class='xr-var-attrs-in' type='checkbox' ><label for='attrs-ba143c7f-a8c5-48c2-bfbf-581642559614' title='Show/Hide attributes'><svg class='icon xr-icon-file-text2'><use xlink:href='#icon-file-text2'></use></svg></label><input id='data-d4fae58b-cba2-4ded-8c8d-ea526fb41c8b' class='xr-var-data-in' type='checkbox'><label for='data-d4fae58b-cba2-4ded-8c8d-ea526fb41c8b' title='Show/Hide data repr'><svg class='icon xr-icon-database'><use xlink:href='#icon-database'></use></svg></label><div class='xr-var-attrs'><dl class='xr-attrs'><dt><span>comment :</span></dt><dd>latitude values at the north and south bounds of each pixel.</dd><dt><span>units :</span></dt><dd>degrees_north</dd></dl></div><div class='xr-var-data'><pre>array([[[-89.75, -90.  ],\n",
       "        [-89.5 , -89.75],\n",
       "        [-89.25, -89.5 ],\n",
       "        ...,\n",
       "        [ 89.5 ,  89.25],\n",
       "        [ 89.75,  89.5 ],\n",
       "        [ 90.  ,  89.75]],\n",
       "\n",
       "       [[-89.75, -90.  ],\n",
       "        [-89.5 , -89.75],\n",
       "        [-89.25, -89.5 ],\n",
       "        ...,\n",
       "        [ 89.5 ,  89.25],\n",
       "        [ 89.75,  89.5 ],\n",
       "        [ 90.  ,  89.75]],\n",
       "\n",
       "       [[-89.75, -90.  ],\n",
       "        [-89.5 , -89.75],\n",
       "        [-89.25, -89.5 ],\n",
       "        ...,\n",
       "...\n",
       "        ...,\n",
       "        [ 89.5 ,  89.25],\n",
       "        [ 89.75,  89.5 ],\n",
       "        [ 90.  ,  89.75]],\n",
       "\n",
       "       [[-89.75, -90.  ],\n",
       "        [-89.5 , -89.75],\n",
       "        [-89.25, -89.5 ],\n",
       "        ...,\n",
       "        [ 89.5 ,  89.25],\n",
       "        [ 89.75,  89.5 ],\n",
       "        [ 90.  ,  89.75]],\n",
       "\n",
       "       [[-89.75, -90.  ],\n",
       "        [-89.5 , -89.75],\n",
       "        [-89.25, -89.5 ],\n",
       "        ...,\n",
       "        [ 89.5 ,  89.25],\n",
       "        [ 89.75,  89.5 ],\n",
       "        [ 90.  ,  89.75]]], dtype=float32)</pre></div></li><li class='xr-var-item'><div class='xr-var-name'><span>lon_bnds</span></div><div class='xr-var-dims'>(time, longitude, nv)</div><div class='xr-var-dtype'>float32</div><div class='xr-var-preview xr-preview'>0.0 0.25 0.25 ... 359.8 359.8 360.0</div><input id='attrs-842eb942-938b-4a63-bb65-6ea53ed0934c' class='xr-var-attrs-in' type='checkbox' ><label for='attrs-842eb942-938b-4a63-bb65-6ea53ed0934c' title='Show/Hide attributes'><svg class='icon xr-icon-file-text2'><use xlink:href='#icon-file-text2'></use></svg></label><input id='data-2725c3dd-ba2c-407b-ab1c-156d5e311697' class='xr-var-data-in' type='checkbox'><label for='data-2725c3dd-ba2c-407b-ab1c-156d5e311697' title='Show/Hide data repr'><svg class='icon xr-icon-database'><use xlink:href='#icon-database'></use></svg></label><div class='xr-var-attrs'><dl class='xr-attrs'><dt><span>comment :</span></dt><dd>longitude values at the west and east bounds of each pixel.</dd><dt><span>units :</span></dt><dd>degrees_east</dd></dl></div><div class='xr-var-data'><pre>array([[[0.0000e+00, 2.5000e-01],\n",
       "        [2.5000e-01, 5.0000e-01],\n",
       "        [5.0000e-01, 7.5000e-01],\n",
       "        ...,\n",
       "        [3.5925e+02, 3.5950e+02],\n",
       "        [3.5950e+02, 3.5975e+02],\n",
       "        [3.5975e+02, 3.6000e+02]],\n",
       "\n",
       "       [[0.0000e+00, 2.5000e-01],\n",
       "        [2.5000e-01, 5.0000e-01],\n",
       "        [5.0000e-01, 7.5000e-01],\n",
       "        ...,\n",
       "        [3.5925e+02, 3.5950e+02],\n",
       "        [3.5950e+02, 3.5975e+02],\n",
       "        [3.5975e+02, 3.6000e+02]],\n",
       "\n",
       "       [[0.0000e+00, 2.5000e-01],\n",
       "        [2.5000e-01, 5.0000e-01],\n",
       "        [5.0000e-01, 7.5000e-01],\n",
       "        ...,\n",
       "...\n",
       "        ...,\n",
       "        [3.5925e+02, 3.5950e+02],\n",
       "        [3.5950e+02, 3.5975e+02],\n",
       "        [3.5975e+02, 3.6000e+02]],\n",
       "\n",
       "       [[0.0000e+00, 2.5000e-01],\n",
       "        [2.5000e-01, 5.0000e-01],\n",
       "        [5.0000e-01, 7.5000e-01],\n",
       "        ...,\n",
       "        [3.5925e+02, 3.5950e+02],\n",
       "        [3.5950e+02, 3.5975e+02],\n",
       "        [3.5975e+02, 3.6000e+02]],\n",
       "\n",
       "       [[0.0000e+00, 2.5000e-01],\n",
       "        [2.5000e-01, 5.0000e-01],\n",
       "        [5.0000e-01, 7.5000e-01],\n",
       "        ...,\n",
       "        [3.5925e+02, 3.5950e+02],\n",
       "        [3.5950e+02, 3.5975e+02],\n",
       "        [3.5975e+02, 3.6000e+02]]], dtype=float32)</pre></div></li><li class='xr-var-item'><div class='xr-var-name'><span>sla</span></div><div class='xr-var-dims'>(time, latitude, longitude)</div><div class='xr-var-dtype'>float64</div><div class='xr-var-preview xr-preview'>nan nan nan nan ... nan nan nan nan</div><input id='attrs-1d05ec11-3318-4683-bfbb-d70195a1f4d3' class='xr-var-attrs-in' type='checkbox' ><label for='attrs-1d05ec11-3318-4683-bfbb-d70195a1f4d3' title='Show/Hide attributes'><svg class='icon xr-icon-file-text2'><use xlink:href='#icon-file-text2'></use></svg></label><input id='data-b8bbfd21-4457-4718-a85a-fac503a5ae17' class='xr-var-data-in' type='checkbox'><label for='data-b8bbfd21-4457-4718-a85a-fac503a5ae17' title='Show/Hide data repr'><svg class='icon xr-icon-database'><use xlink:href='#icon-database'></use></svg></label><div class='xr-var-attrs'><dl class='xr-attrs'><dt><span>cell_methods :</span></dt><dd>time: mean within years</dd><dt><span>grid_mapping :</span></dt><dd>crs</dd><dt><span>long_name :</span></dt><dd>Averaged Sea Level Anomalies 2005/01</dd><dt><span>standard_name :</span></dt><dd>sea_surface_height_above_sea_level</dd><dt><span>units :</span></dt><dd>m</dd></dl></div><div class='xr-var-data'><pre>array([[[nan, nan, nan, ..., nan, nan, nan],\n",
       "        [nan, nan, nan, ..., nan, nan, nan],\n",
       "        [nan, nan, nan, ..., nan, nan, nan],\n",
       "        ...,\n",
       "        [nan, nan, nan, ..., nan, nan, nan],\n",
       "        [nan, nan, nan, ..., nan, nan, nan],\n",
       "        [nan, nan, nan, ..., nan, nan, nan]],\n",
       "\n",
       "       [[nan, nan, nan, ..., nan, nan, nan],\n",
       "        [nan, nan, nan, ..., nan, nan, nan],\n",
       "        [nan, nan, nan, ..., nan, nan, nan],\n",
       "        ...,\n",
       "        [nan, nan, nan, ..., nan, nan, nan],\n",
       "        [nan, nan, nan, ..., nan, nan, nan],\n",
       "        [nan, nan, nan, ..., nan, nan, nan]],\n",
       "\n",
       "       [[nan, nan, nan, ..., nan, nan, nan],\n",
       "        [nan, nan, nan, ..., nan, nan, nan],\n",
       "        [nan, nan, nan, ..., nan, nan, nan],\n",
       "        ...,\n",
       "...\n",
       "        ...,\n",
       "        [nan, nan, nan, ..., nan, nan, nan],\n",
       "        [nan, nan, nan, ..., nan, nan, nan],\n",
       "        [nan, nan, nan, ..., nan, nan, nan]],\n",
       "\n",
       "       [[nan, nan, nan, ..., nan, nan, nan],\n",
       "        [nan, nan, nan, ..., nan, nan, nan],\n",
       "        [nan, nan, nan, ..., nan, nan, nan],\n",
       "        ...,\n",
       "        [nan, nan, nan, ..., nan, nan, nan],\n",
       "        [nan, nan, nan, ..., nan, nan, nan],\n",
       "        [nan, nan, nan, ..., nan, nan, nan]],\n",
       "\n",
       "       [[nan, nan, nan, ..., nan, nan, nan],\n",
       "        [nan, nan, nan, ..., nan, nan, nan],\n",
       "        [nan, nan, nan, ..., nan, nan, nan],\n",
       "        ...,\n",
       "        [nan, nan, nan, ..., nan, nan, nan],\n",
       "        [nan, nan, nan, ..., nan, nan, nan],\n",
       "        [nan, nan, nan, ..., nan, nan, nan]]])</pre></div></li><li class='xr-var-item'><div class='xr-var-name'><span>eke</span></div><div class='xr-var-dims'>(time, latitude, longitude)</div><div class='xr-var-dtype'>float64</div><div class='xr-var-preview xr-preview'>nan nan nan nan ... nan nan nan nan</div><input id='attrs-efb0ffca-22bc-444f-99b5-05bdc1dc771c' class='xr-var-attrs-in' type='checkbox' ><label for='attrs-efb0ffca-22bc-444f-99b5-05bdc1dc771c' title='Show/Hide attributes'><svg class='icon xr-icon-file-text2'><use xlink:href='#icon-file-text2'></use></svg></label><input id='data-e374ce59-0b2d-4435-ae09-48fb845acfa2' class='xr-var-data-in' type='checkbox'><label for='data-e374ce59-0b2d-4435-ae09-48fb845acfa2' title='Show/Hide data repr'><svg class='icon xr-icon-database'><use xlink:href='#icon-database'></use></svg></label><div class='xr-var-attrs'><dl class='xr-attrs'><dt><span>cell_methods :</span></dt><dd>time: mean within years</dd><dt><span>grid_mapping :</span></dt><dd>crs</dd><dt><span>long_name :</span></dt><dd>Averaged Eddy Kinetic Energy 2005/01</dd><dt><span>standard_name :</span></dt><dd>specific_kinetic_energy_of_sea_water</dd><dt><span>units :</span></dt><dd>cm2/s2</dd></dl></div><div class='xr-var-data'><pre>array([[[nan, nan, nan, ..., nan, nan, nan],\n",
       "        [nan, nan, nan, ..., nan, nan, nan],\n",
       "        [nan, nan, nan, ..., nan, nan, nan],\n",
       "        ...,\n",
       "        [nan, nan, nan, ..., nan, nan, nan],\n",
       "        [nan, nan, nan, ..., nan, nan, nan],\n",
       "        [nan, nan, nan, ..., nan, nan, nan]],\n",
       "\n",
       "       [[nan, nan, nan, ..., nan, nan, nan],\n",
       "        [nan, nan, nan, ..., nan, nan, nan],\n",
       "        [nan, nan, nan, ..., nan, nan, nan],\n",
       "        ...,\n",
       "        [nan, nan, nan, ..., nan, nan, nan],\n",
       "        [nan, nan, nan, ..., nan, nan, nan],\n",
       "        [nan, nan, nan, ..., nan, nan, nan]],\n",
       "\n",
       "       [[nan, nan, nan, ..., nan, nan, nan],\n",
       "        [nan, nan, nan, ..., nan, nan, nan],\n",
       "        [nan, nan, nan, ..., nan, nan, nan],\n",
       "        ...,\n",
       "...\n",
       "        ...,\n",
       "        [nan, nan, nan, ..., nan, nan, nan],\n",
       "        [nan, nan, nan, ..., nan, nan, nan],\n",
       "        [nan, nan, nan, ..., nan, nan, nan]],\n",
       "\n",
       "       [[nan, nan, nan, ..., nan, nan, nan],\n",
       "        [nan, nan, nan, ..., nan, nan, nan],\n",
       "        [nan, nan, nan, ..., nan, nan, nan],\n",
       "        ...,\n",
       "        [nan, nan, nan, ..., nan, nan, nan],\n",
       "        [nan, nan, nan, ..., nan, nan, nan],\n",
       "        [nan, nan, nan, ..., nan, nan, nan]],\n",
       "\n",
       "       [[nan, nan, nan, ..., nan, nan, nan],\n",
       "        [nan, nan, nan, ..., nan, nan, nan],\n",
       "        [nan, nan, nan, ..., nan, nan, nan],\n",
       "        ...,\n",
       "        [nan, nan, nan, ..., nan, nan, nan],\n",
       "        [nan, nan, nan, ..., nan, nan, nan],\n",
       "        [nan, nan, nan, ..., nan, nan, nan]]])</pre></div></li></ul></div></li><li class='xr-section-item'><input id='section-26d7dd58-af4f-449b-aa96-ca05dfd8770f' class='xr-section-summary-in' type='checkbox'  ><label for='section-26d7dd58-af4f-449b-aa96-ca05dfd8770f' class='xr-section-summary' >Indexes: <span>(4)</span></label><div class='xr-section-inline-details'></div><div class='xr-section-details'><ul class='xr-var-list'><li class='xr-var-item'><div class='xr-index-name'><div>time</div></div><div class='xr-index-preview'>PandasIndex</div><div></div><input id='index-72decae3-4fc5-46d5-b8c8-353fc30e39a6' class='xr-index-data-in' type='checkbox'/><label for='index-72decae3-4fc5-46d5-b8c8-353fc30e39a6' title='Show/Hide index repr'><svg class='icon xr-icon-database'><use xlink:href='#icon-database'></use></svg></label><div class='xr-index-data'><pre>PandasIndex(DatetimeIndex([&#x27;2005-01-15&#x27;, &#x27;2005-02-15&#x27;, &#x27;2005-03-15&#x27;, &#x27;2005-04-15&#x27;,\n",
       "               &#x27;2005-05-15&#x27;, &#x27;2005-06-15&#x27;, &#x27;2005-07-15&#x27;, &#x27;2005-08-15&#x27;,\n",
       "               &#x27;2005-09-15&#x27;, &#x27;2005-10-15&#x27;,\n",
       "               ...\n",
       "               &#x27;2021-10-15&#x27;, &#x27;2021-11-15&#x27;, &#x27;2021-12-15&#x27;, &#x27;2022-01-15&#x27;,\n",
       "               &#x27;2022-02-15&#x27;, &#x27;2022-03-15&#x27;, &#x27;2022-04-15&#x27;, &#x27;2022-05-15&#x27;,\n",
       "               &#x27;2022-06-15&#x27;, &#x27;2022-07-15&#x27;],\n",
       "              dtype=&#x27;datetime64[ns]&#x27;, name=&#x27;time&#x27;, length=211, freq=None))</pre></div></li><li class='xr-var-item'><div class='xr-index-name'><div>latitude</div></div><div class='xr-index-preview'>PandasIndex</div><div></div><input id='index-3be50dbd-fcb9-41f3-b9e6-ac4a6e80ea49' class='xr-index-data-in' type='checkbox'/><label for='index-3be50dbd-fcb9-41f3-b9e6-ac4a6e80ea49' title='Show/Hide index repr'><svg class='icon xr-icon-database'><use xlink:href='#icon-database'></use></svg></label><div class='xr-index-data'><pre>PandasIndex(Index([-89.875, -89.625, -89.375, -89.125, -88.875, -88.625, -88.375, -88.125,\n",
       "       -87.875, -87.625,\n",
       "       ...\n",
       "        87.625,  87.875,  88.125,  88.375,  88.625,  88.875,  89.125,  89.375,\n",
       "        89.625,  89.875],\n",
       "      dtype=&#x27;float32&#x27;, name=&#x27;latitude&#x27;, length=720))</pre></div></li><li class='xr-var-item'><div class='xr-index-name'><div>longitude</div></div><div class='xr-index-preview'>PandasIndex</div><div></div><input id='index-97db75f8-3df7-4efa-abac-1e6a7f5c8a13' class='xr-index-data-in' type='checkbox'/><label for='index-97db75f8-3df7-4efa-abac-1e6a7f5c8a13' title='Show/Hide index repr'><svg class='icon xr-icon-database'><use xlink:href='#icon-database'></use></svg></label><div class='xr-index-data'><pre>PandasIndex(Index([  0.125,   0.375,   0.625,   0.875,   1.125,   1.375,   1.625,   1.875,\n",
       "         2.125,   2.375,\n",
       "       ...\n",
       "       357.625, 357.875, 358.125, 358.375, 358.625, 358.875, 359.125, 359.375,\n",
       "       359.625, 359.875],\n",
       "      dtype=&#x27;float32&#x27;, name=&#x27;longitude&#x27;, length=1440))</pre></div></li><li class='xr-var-item'><div class='xr-index-name'><div>nv</div></div><div class='xr-index-preview'>PandasIndex</div><div></div><input id='index-acf763a0-5fc1-4c46-8486-bfd19a542e46' class='xr-index-data-in' type='checkbox'/><label for='index-acf763a0-5fc1-4c46-8486-bfd19a542e46' title='Show/Hide index repr'><svg class='icon xr-icon-database'><use xlink:href='#icon-database'></use></svg></label><div class='xr-index-data'><pre>PandasIndex(Index([0, 1], dtype=&#x27;int32&#x27;, name=&#x27;nv&#x27;))</pre></div></li></ul></div></li><li class='xr-section-item'><input id='section-d54d9060-4174-47ae-8ecc-af2d8899bbee' class='xr-section-summary-in' type='checkbox'  ><label for='section-d54d9060-4174-47ae-8ecc-af2d8899bbee' class='xr-section-summary' >Attributes: <span>(43)</span></label><div class='xr-section-inline-details'></div><div class='xr-section-details'><dl class='xr-attrs'><dt><span>Conventions :</span></dt><dd>CF-1.6</dd><dt><span>Metadata_Conventions :</span></dt><dd>Unidata Dataset Discovery v1.0</dd><dt><span>cdm_data_type :</span></dt><dd>Grid</dd><dt><span>comment :</span></dt><dd>Monthly Mean of Sea Level Anomalies referenced to the [1993, 2012] period</dd><dt><span>contact :</span></dt><dd>http://climate.copernicus.eu/c3s-user-service-desk</dd><dt><span>creator_email :</span></dt><dd>http://climate.copernicus.eu/c3s-user-service-desk</dd><dt><span>creator_name :</span></dt><dd>Copernicus Climate Change Service (C3S)</dd><dt><span>creator_url :</span></dt><dd>http://climate.copernicus.eu</dd><dt><span>date_created :</span></dt><dd>2022-06-30T19:01:24Z: Creation</dd><dt><span>date_issued :</span></dt><dd>2022-06-30T19:01:24Z: Creation</dd><dt><span>date_modified :</span></dt><dd>2022-06-30T19:01:24Z: Creation</dd><dt><span>geospatial_lat_max :</span></dt><dd>89.875</dd><dt><span>geospatial_lat_min :</span></dt><dd>-89.875</dd><dt><span>geospatial_lat_resolution :</span></dt><dd>0.25</dd><dt><span>geospatial_lat_units :</span></dt><dd>degrees_north</dd><dt><span>geospatial_lon_max :</span></dt><dd>359.875</dd><dt><span>geospatial_lon_min :</span></dt><dd>0.125</dd><dt><span>geospatial_lon_resolution :</span></dt><dd>0.25</dd><dt><span>geospatial_lon_units :</span></dt><dd>degrees_east</dd><dt><span>geospatial_vertical_max :</span></dt><dd>0.0</dd><dt><span>geospatial_vertical_min :</span></dt><dd>0.0</dd><dt><span>geospatial_vertical_positive :</span></dt><dd>down</dd><dt><span>geospatial_vertical_resolution :</span></dt><dd>point</dd><dt><span>geospatial_vertical_units :</span></dt><dd>m</dd><dt><span>history :</span></dt><dd>2022-06-30T19:01:24Z: Creation</dd><dt><span>institution :</span></dt><dd>CNES, CLS</dd><dt><span>keywords :</span></dt><dd>Oceans &gt; Ocean Topography &gt; Sea Surface Height</dd><dt><span>keywords_vocabulary :</span></dt><dd>NetCDF COARDS Climate and Forecast Standard Names</dd><dt><span>license :</span></dt><dd>http://climate.copernicus.eu/c3s-user-service-desk</dd><dt><span>processing_level :</span></dt><dd>L4</dd><dt><span>product_version :</span></dt><dd>vDec2021</dd><dt><span>project :</span></dt><dd>Copernicus Climate Change Service (C3S)</dd><dt><span>references :</span></dt><dd>http://climate.copernicus.eu</dd><dt><span>software_version :</span></dt><dd>7.0_DUACS_DT2021_baseline</dd><dt><span>source :</span></dt><dd>Altimetry measurements</dd><dt><span>ssalto_duacs_comment :</span></dt><dd>The reference mission used for the altimeter inter-calibration processing is Topex/Poseidon between 1993-01-01 and 2002-04-23, Jason-1 between 2002-04-24 and 2008-10-18, OSTM/Jason-2 between 2008-10-19 and 2016-06-25, Jason-3 since 2016-06-25.</dd><dt><span>standard_name_vocabulary :</span></dt><dd>NetCDF Climate and Forecast (CF) Metadata Convention Standard Name Table v37</dd><dt><span>summary :</span></dt><dd>Delayed Time Level-4 monthly means of Sea Level Anomalies and derived Eddy Kinetic Energy from two-satellite altimetry observations over the Global Ocean.</dd><dt><span>time_coverage_duration :</span></dt><dd>P1M</dd><dt><span>time_coverage_end :</span></dt><dd>2005-01-31T00:00:00Z</dd><dt><span>time_coverage_resolution :</span></dt><dd>P1M</dd><dt><span>time_coverage_start :</span></dt><dd>2005-01-01T00:00:00Z</dd><dt><span>title :</span></dt><dd>DT merged two-satellite Global Ocean L4 Monthly Means of Sea Level Anomalies and Derived Eddy Kinetic Energy</dd></dl></div></li></ul></div></div>"
      ],
      "text/plain": [
       "<xarray.Dataset> Size: 4GB\n",
       "Dimensions:           (time: 211, nv: 2, latitude: 720, longitude: 1440)\n",
       "Coordinates:\n",
       "  * time              (time) datetime64[ns] 2kB 2005-01-15 ... 2022-07-15\n",
       "  * latitude          (latitude) float32 3kB -89.88 -89.62 ... 89.62 89.88\n",
       "  * longitude         (longitude) float32 6kB 0.125 0.375 0.625 ... 359.6 359.9\n",
       "  * nv                (nv) int32 8B 0 1\n",
       "Data variables:\n",
       "    crs               (time) int32 844B -2147483647 -2147483647 ... -2147483647\n",
       "    climatology_bnds  (time, nv) datetime64[ns] 3kB 2005-01-01 ... 2022-07-31\n",
       "    lat_bnds          (time, latitude, nv) float32 1MB -89.75 -90.0 ... 89.75\n",
       "    lon_bnds          (time, longitude, nv) float32 2MB 0.0 0.25 ... 359.8 360.0\n",
       "    sla               (time, latitude, longitude) float64 2GB nan nan ... nan\n",
       "    eke               (time, latitude, longitude) float64 2GB nan nan ... nan\n",
       "Attributes: (12/43)\n",
       "    Conventions:                     CF-1.6\n",
       "    Metadata_Conventions:            Unidata Dataset Discovery v1.0\n",
       "    cdm_data_type:                   Grid\n",
       "    comment:                         Monthly Mean of Sea Level Anomalies refe...\n",
       "    contact:                         http://climate.copernicus.eu/c3s-user-se...\n",
       "    creator_email:                   http://climate.copernicus.eu/c3s-user-se...\n",
       "    ...                              ...\n",
       "    summary:                         Delayed Time Level-4 monthly means of Se...\n",
       "    time_coverage_duration:          P1M\n",
       "    time_coverage_end:               2005-01-31T00:00:00Z\n",
       "    time_coverage_resolution:        P1M\n",
       "    time_coverage_start:             2005-01-01T00:00:00Z\n",
       "    title:                           DT merged two-satellite Global Ocean L4 ..."
      ]
     },
     "execution_count": 20,
     "metadata": {},
     "output_type": "execute_result"
    }
   ],
   "source": [
    "merged_dataset"
   ]
  },
  {
   "cell_type": "code",
   "execution_count": 20,
   "metadata": {},
   "outputs": [
    {
     "data": {
      "text/plain": [
       "<matplotlib.collections.QuadMesh at 0x228b62b7680>"
      ]
     },
     "execution_count": 20,
     "metadata": {},
     "output_type": "execute_result"
    }
   ],
   "source": [
    "fig, ax = plt.subplots()\n",
    "huvadhu_atoll.plot(ax=ax, facecolor='none', edgecolor='black')\n",
    "merged_dataset['sla'].sel(latitude=slice(0., 1.0), longitude=slice(72.6, 74.), time='2022-07-15').plot(ax=ax)\n"
   ]
  },
  {
   "cell_type": "code",
   "execution_count": 21,
   "metadata": {},
   "outputs": [
    {
     "ename": "ValueError",
     "evalue": "did not find a match in any of xarray's currently installed IO backends ['netcdf4', 'h5netcdf', 'scipy', 'pydap', 'zarr']. Consider explicitly selecting one of the installed engines via the ``engine`` parameter, or installing additional IO dependencies, see:\nhttps://docs.xarray.dev/en/stable/getting-started-guide/installing.html\nhttps://docs.xarray.dev/en/stable/user-guide/io.html",
     "output_type": "error",
     "traceback": [
      "\u001b[1;31m---------------------------------------------------------------------------\u001b[0m",
      "\u001b[1;31mValueError\u001b[0m                                Traceback (most recent call last)",
      "Cell \u001b[1;32mIn[21], line 6\u001b[0m\n\u001b[0;32m      3\u001b[0m file_paths \u001b[38;5;241m=\u001b[39m os\u001b[38;5;241m.\u001b[39mpath\u001b[38;5;241m.\u001b[39mjoin(os\u001b[38;5;241m.\u001b[39mgetcwd(), \u001b[38;5;124m'\u001b[39m\u001b[38;5;124mdata\u001b[39m\u001b[38;5;124m'\u001b[39m, \u001b[38;5;124m'\u001b[39m\u001b[38;5;124mcopernicus_data\u001b[39m\u001b[38;5;124m'\u001b[39m)\n\u001b[0;32m      5\u001b[0m \u001b[38;5;66;03m# Open each file as an xarray dataset\u001b[39;00m\n\u001b[1;32m----> 6\u001b[0m datasets \u001b[38;5;241m=\u001b[39m [\u001b[43mxr\u001b[49m\u001b[38;5;241;43m.\u001b[39;49m\u001b[43mopen_dataset\u001b[49m\u001b[43m(\u001b[49m\u001b[43mfile\u001b[49m\u001b[43m)\u001b[49m \u001b[38;5;28;01mfor\u001b[39;00m file \u001b[38;5;129;01min\u001b[39;00m file_paths]\n\u001b[0;32m      8\u001b[0m \u001b[38;5;66;03m# Concatenate along a specific dimension (e.g., time)\u001b[39;00m\n\u001b[0;32m      9\u001b[0m merged_dataset \u001b[38;5;241m=\u001b[39m xr\u001b[38;5;241m.\u001b[39mconcat(datasets, dim\u001b[38;5;241m=\u001b[39m\u001b[38;5;124m'\u001b[39m\u001b[38;5;124mtime\u001b[39m\u001b[38;5;124m'\u001b[39m)\n",
      "File \u001b[1;32mc:\\Users\\myriampe\\anaconda3\\envs\\IslandTimeEnv\\Lib\\site-packages\\xarray\\backends\\api.py:554\u001b[0m, in \u001b[0;36mopen_dataset\u001b[1;34m(filename_or_obj, engine, chunks, cache, decode_cf, mask_and_scale, decode_times, decode_timedelta, use_cftime, concat_characters, decode_coords, drop_variables, inline_array, chunked_array_type, from_array_kwargs, backend_kwargs, **kwargs)\u001b[0m\n\u001b[0;32m    551\u001b[0m     kwargs\u001b[38;5;241m.\u001b[39mupdate(backend_kwargs)\n\u001b[0;32m    553\u001b[0m \u001b[38;5;28;01mif\u001b[39;00m engine \u001b[38;5;129;01mis\u001b[39;00m \u001b[38;5;28;01mNone\u001b[39;00m:\n\u001b[1;32m--> 554\u001b[0m     engine \u001b[38;5;241m=\u001b[39m \u001b[43mplugins\u001b[49m\u001b[38;5;241;43m.\u001b[39;49m\u001b[43mguess_engine\u001b[49m\u001b[43m(\u001b[49m\u001b[43mfilename_or_obj\u001b[49m\u001b[43m)\u001b[49m\n\u001b[0;32m    556\u001b[0m \u001b[38;5;28;01mif\u001b[39;00m from_array_kwargs \u001b[38;5;129;01mis\u001b[39;00m \u001b[38;5;28;01mNone\u001b[39;00m:\n\u001b[0;32m    557\u001b[0m     from_array_kwargs \u001b[38;5;241m=\u001b[39m {}\n",
      "File \u001b[1;32mc:\\Users\\myriampe\\anaconda3\\envs\\IslandTimeEnv\\Lib\\site-packages\\xarray\\backends\\plugins.py:197\u001b[0m, in \u001b[0;36mguess_engine\u001b[1;34m(store_spec)\u001b[0m\n\u001b[0;32m    189\u001b[0m \u001b[38;5;28;01melse\u001b[39;00m:\n\u001b[0;32m    190\u001b[0m     error_msg \u001b[38;5;241m=\u001b[39m (\n\u001b[0;32m    191\u001b[0m         \u001b[38;5;124m\"\u001b[39m\u001b[38;5;124mfound the following matches with the input file in xarray\u001b[39m\u001b[38;5;124m'\u001b[39m\u001b[38;5;124ms IO \u001b[39m\u001b[38;5;124m\"\u001b[39m\n\u001b[0;32m    192\u001b[0m         \u001b[38;5;124mf\u001b[39m\u001b[38;5;124m\"\u001b[39m\u001b[38;5;124mbackends: \u001b[39m\u001b[38;5;132;01m{\u001b[39;00mcompatible_engines\u001b[38;5;132;01m}\u001b[39;00m\u001b[38;5;124m. But their dependencies may not be installed, see:\u001b[39m\u001b[38;5;130;01m\\n\u001b[39;00m\u001b[38;5;124m\"\u001b[39m\n\u001b[0;32m    193\u001b[0m         \u001b[38;5;124m\"\u001b[39m\u001b[38;5;124mhttps://docs.xarray.dev/en/stable/user-guide/io.html \u001b[39m\u001b[38;5;130;01m\\n\u001b[39;00m\u001b[38;5;124m\"\u001b[39m\n\u001b[0;32m    194\u001b[0m         \u001b[38;5;124m\"\u001b[39m\u001b[38;5;124mhttps://docs.xarray.dev/en/stable/getting-started-guide/installing.html\u001b[39m\u001b[38;5;124m\"\u001b[39m\n\u001b[0;32m    195\u001b[0m     )\n\u001b[1;32m--> 197\u001b[0m \u001b[38;5;28;01mraise\u001b[39;00m \u001b[38;5;167;01mValueError\u001b[39;00m(error_msg)\n",
      "\u001b[1;31mValueError\u001b[0m: did not find a match in any of xarray's currently installed IO backends ['netcdf4', 'h5netcdf', 'scipy', 'pydap', 'zarr']. Consider explicitly selecting one of the installed engines via the ``engine`` parameter, or installing additional IO dependencies, see:\nhttps://docs.xarray.dev/en/stable/getting-started-guide/installing.html\nhttps://docs.xarray.dev/en/stable/user-guide/io.html"
     ]
    }
   ],
   "source": [
    "# sea level\n",
    "# List of file paths to the .nc files you want to merge\n",
    "file_paths = os.path.join(os.getcwd(), 'data', 'copernicus_data')\n",
    "\n",
    "# Open each file as an xarray dataset\n",
    "datasets = [xr.open_dataset(file) for file in file_paths]\n",
    "\n",
    "# Concatenate along a specific dimension (e.g., time)\n",
    "merged_dataset = xr.concat(datasets, dim='time')\n",
    "\n",
    "# Save the merged dataset to a new .nc file\n",
    "# merged_dataset.to_netcdf('merged_file.nc')\n",
    "\n",
    "# Close the datasets\n",
    "for ds in datasets:\n",
    "    ds.close()"
   ]
  },
  {
   "cell_type": "code",
   "execution_count": 9,
   "metadata": {},
   "outputs": [],
   "source": [
    "wave_energy = clip_data_waves['wave_energy']\n",
    "wave_direction = clip_data_waves['mwd']\n",
    "sea_level = merged_dataset['sla']"
   ]
  },
  {
   "cell_type": "code",
   "execution_count": 24,
   "metadata": {},
   "outputs": [
    {
     "data": {
      "text/plain": [
       "<Axes: title={'center': 'time = 2015-01-01'}, xlabel='longitude [degrees_east]', ylabel='latitude [degrees_north]'>"
      ]
     },
     "execution_count": 24,
     "metadata": {},
     "output_type": "execute_result"
    }
   ],
   "source": [
    "fig, ax = plt.subplots()\n",
    "wave_energy.sel(time='2015-01-01').plot(ax=ax)\n",
    "huvadhu_atoll.plot(ax=ax)"
   ]
  },
  {
   "cell_type": "code",
   "execution_count": null,
   "metadata": {},
   "outputs": [],
   "source": [
    "# NE Monsoon: December to February\n",
    "# NE-SW Transition: March to April\n",
    "# SW Monsoon: May to September\n",
    "# SW-NE Transition: October to November"
   ]
  },
  {
   "cell_type": "code",
   "execution_count": 10,
   "metadata": {},
   "outputs": [],
   "source": [
    "import numpy as np\n",
    "import matplotlib.pyplot as plt\n",
    "import matplotlib.colors as mcolors\n",
    "\n",
    "# Sample data for wave direction and energy\n",
    "wave_energy = clip_data_waves['wave_energy'].values.flatten()\n",
    "wave_direction = clip_data_waves['mwd'].values.flatten() # Assuming wave_direction is already in degrees\n",
    "\n",
    "# Create subplots\n",
    "fig, ax = plt.subplots(subplot_kw={'projection': 'polar'})\n",
    "\n",
    "# Plot wave energy (bar plot)\n",
    "bars = ax.bar(np.radians(wave_direction), wave_energy, width=0.1, color='skyblue', alpha=0.7, label='Wave Energy')\n",
    "\n",
    "# Set the theta zero location and direction\n",
    "ax.set_theta_zero_location('N')\n",
    "ax.set_theta_direction(-1)\n",
    "\n",
    "# Adjust legend\n",
    "lines, labels = ax.get_legend_handles_labels()\n",
    "ax.legend(lines, labels, loc='upper right')\n",
    "\n",
    "plt.title('Wave Direction and Energy')\n",
    "plt.show()"
   ]
  },
  {
   "cell_type": "code",
   "execution_count": 13,
   "metadata": {},
   "outputs": [
    {
     "data": {
      "text/html": [
       "<div><svg style=\"position: absolute; width: 0; height: 0; overflow: hidden\">\n",
       "<defs>\n",
       "<symbol id=\"icon-database\" viewBox=\"0 0 32 32\">\n",
       "<path d=\"M16 0c-8.837 0-16 2.239-16 5v4c0 2.761 7.163 5 16 5s16-2.239 16-5v-4c0-2.761-7.163-5-16-5z\"></path>\n",
       "<path d=\"M16 17c-8.837 0-16-2.239-16-5v6c0 2.761 7.163 5 16 5s16-2.239 16-5v-6c0 2.761-7.163 5-16 5z\"></path>\n",
       "<path d=\"M16 26c-8.837 0-16-2.239-16-5v6c0 2.761 7.163 5 16 5s16-2.239 16-5v-6c0 2.761-7.163 5-16 5z\"></path>\n",
       "</symbol>\n",
       "<symbol id=\"icon-file-text2\" viewBox=\"0 0 32 32\">\n",
       "<path d=\"M28.681 7.159c-0.694-0.947-1.662-2.053-2.724-3.116s-2.169-2.030-3.116-2.724c-1.612-1.182-2.393-1.319-2.841-1.319h-15.5c-1.378 0-2.5 1.121-2.5 2.5v27c0 1.378 1.122 2.5 2.5 2.5h23c1.378 0 2.5-1.122 2.5-2.5v-19.5c0-0.448-0.137-1.23-1.319-2.841zM24.543 5.457c0.959 0.959 1.712 1.825 2.268 2.543h-4.811v-4.811c0.718 0.556 1.584 1.309 2.543 2.268zM28 29.5c0 0.271-0.229 0.5-0.5 0.5h-23c-0.271 0-0.5-0.229-0.5-0.5v-27c0-0.271 0.229-0.5 0.5-0.5 0 0 15.499-0 15.5 0v7c0 0.552 0.448 1 1 1h7v19.5z\"></path>\n",
       "<path d=\"M23 26h-14c-0.552 0-1-0.448-1-1s0.448-1 1-1h14c0.552 0 1 0.448 1 1s-0.448 1-1 1z\"></path>\n",
       "<path d=\"M23 22h-14c-0.552 0-1-0.448-1-1s0.448-1 1-1h14c0.552 0 1 0.448 1 1s-0.448 1-1 1z\"></path>\n",
       "<path d=\"M23 18h-14c-0.552 0-1-0.448-1-1s0.448-1 1-1h14c0.552 0 1 0.448 1 1s-0.448 1-1 1z\"></path>\n",
       "</symbol>\n",
       "</defs>\n",
       "</svg>\n",
       "<style>/* CSS stylesheet for displaying xarray objects in jupyterlab.\n",
       " *\n",
       " */\n",
       "\n",
       ":root {\n",
       "  --xr-font-color0: var(--jp-content-font-color0, rgba(0, 0, 0, 1));\n",
       "  --xr-font-color2: var(--jp-content-font-color2, rgba(0, 0, 0, 0.54));\n",
       "  --xr-font-color3: var(--jp-content-font-color3, rgba(0, 0, 0, 0.38));\n",
       "  --xr-border-color: var(--jp-border-color2, #e0e0e0);\n",
       "  --xr-disabled-color: var(--jp-layout-color3, #bdbdbd);\n",
       "  --xr-background-color: var(--jp-layout-color0, white);\n",
       "  --xr-background-color-row-even: var(--jp-layout-color1, white);\n",
       "  --xr-background-color-row-odd: var(--jp-layout-color2, #eeeeee);\n",
       "}\n",
       "\n",
       "html[theme=dark],\n",
       "body[data-theme=dark],\n",
       "body.vscode-dark {\n",
       "  --xr-font-color0: rgba(255, 255, 255, 1);\n",
       "  --xr-font-color2: rgba(255, 255, 255, 0.54);\n",
       "  --xr-font-color3: rgba(255, 255, 255, 0.38);\n",
       "  --xr-border-color: #1F1F1F;\n",
       "  --xr-disabled-color: #515151;\n",
       "  --xr-background-color: #111111;\n",
       "  --xr-background-color-row-even: #111111;\n",
       "  --xr-background-color-row-odd: #313131;\n",
       "}\n",
       "\n",
       ".xr-wrap {\n",
       "  display: block !important;\n",
       "  min-width: 300px;\n",
       "  max-width: 700px;\n",
       "}\n",
       "\n",
       ".xr-text-repr-fallback {\n",
       "  /* fallback to plain text repr when CSS is not injected (untrusted notebook) */\n",
       "  display: none;\n",
       "}\n",
       "\n",
       ".xr-header {\n",
       "  padding-top: 6px;\n",
       "  padding-bottom: 6px;\n",
       "  margin-bottom: 4px;\n",
       "  border-bottom: solid 1px var(--xr-border-color);\n",
       "}\n",
       "\n",
       ".xr-header > div,\n",
       ".xr-header > ul {\n",
       "  display: inline;\n",
       "  margin-top: 0;\n",
       "  margin-bottom: 0;\n",
       "}\n",
       "\n",
       ".xr-obj-type,\n",
       ".xr-array-name {\n",
       "  margin-left: 2px;\n",
       "  margin-right: 10px;\n",
       "}\n",
       "\n",
       ".xr-obj-type {\n",
       "  color: var(--xr-font-color2);\n",
       "}\n",
       "\n",
       ".xr-sections {\n",
       "  padding-left: 0 !important;\n",
       "  display: grid;\n",
       "  grid-template-columns: 150px auto auto 1fr 20px 20px;\n",
       "}\n",
       "\n",
       ".xr-section-item {\n",
       "  display: contents;\n",
       "}\n",
       "\n",
       ".xr-section-item input {\n",
       "  display: none;\n",
       "}\n",
       "\n",
       ".xr-section-item input + label {\n",
       "  color: var(--xr-disabled-color);\n",
       "}\n",
       "\n",
       ".xr-section-item input:enabled + label {\n",
       "  cursor: pointer;\n",
       "  color: var(--xr-font-color2);\n",
       "}\n",
       "\n",
       ".xr-section-item input:enabled + label:hover {\n",
       "  color: var(--xr-font-color0);\n",
       "}\n",
       "\n",
       ".xr-section-summary {\n",
       "  grid-column: 1;\n",
       "  color: var(--xr-font-color2);\n",
       "  font-weight: 500;\n",
       "}\n",
       "\n",
       ".xr-section-summary > span {\n",
       "  display: inline-block;\n",
       "  padding-left: 0.5em;\n",
       "}\n",
       "\n",
       ".xr-section-summary-in:disabled + label {\n",
       "  color: var(--xr-font-color2);\n",
       "}\n",
       "\n",
       ".xr-section-summary-in + label:before {\n",
       "  display: inline-block;\n",
       "  content: '►';\n",
       "  font-size: 11px;\n",
       "  width: 15px;\n",
       "  text-align: center;\n",
       "}\n",
       "\n",
       ".xr-section-summary-in:disabled + label:before {\n",
       "  color: var(--xr-disabled-color);\n",
       "}\n",
       "\n",
       ".xr-section-summary-in:checked + label:before {\n",
       "  content: '▼';\n",
       "}\n",
       "\n",
       ".xr-section-summary-in:checked + label > span {\n",
       "  display: none;\n",
       "}\n",
       "\n",
       ".xr-section-summary,\n",
       ".xr-section-inline-details {\n",
       "  padding-top: 4px;\n",
       "  padding-bottom: 4px;\n",
       "}\n",
       "\n",
       ".xr-section-inline-details {\n",
       "  grid-column: 2 / -1;\n",
       "}\n",
       "\n",
       ".xr-section-details {\n",
       "  display: none;\n",
       "  grid-column: 1 / -1;\n",
       "  margin-bottom: 5px;\n",
       "}\n",
       "\n",
       ".xr-section-summary-in:checked ~ .xr-section-details {\n",
       "  display: contents;\n",
       "}\n",
       "\n",
       ".xr-array-wrap {\n",
       "  grid-column: 1 / -1;\n",
       "  display: grid;\n",
       "  grid-template-columns: 20px auto;\n",
       "}\n",
       "\n",
       ".xr-array-wrap > label {\n",
       "  grid-column: 1;\n",
       "  vertical-align: top;\n",
       "}\n",
       "\n",
       ".xr-preview {\n",
       "  color: var(--xr-font-color3);\n",
       "}\n",
       "\n",
       ".xr-array-preview,\n",
       ".xr-array-data {\n",
       "  padding: 0 5px !important;\n",
       "  grid-column: 2;\n",
       "}\n",
       "\n",
       ".xr-array-data,\n",
       ".xr-array-in:checked ~ .xr-array-preview {\n",
       "  display: none;\n",
       "}\n",
       "\n",
       ".xr-array-in:checked ~ .xr-array-data,\n",
       ".xr-array-preview {\n",
       "  display: inline-block;\n",
       "}\n",
       "\n",
       ".xr-dim-list {\n",
       "  display: inline-block !important;\n",
       "  list-style: none;\n",
       "  padding: 0 !important;\n",
       "  margin: 0;\n",
       "}\n",
       "\n",
       ".xr-dim-list li {\n",
       "  display: inline-block;\n",
       "  padding: 0;\n",
       "  margin: 0;\n",
       "}\n",
       "\n",
       ".xr-dim-list:before {\n",
       "  content: '(';\n",
       "}\n",
       "\n",
       ".xr-dim-list:after {\n",
       "  content: ')';\n",
       "}\n",
       "\n",
       ".xr-dim-list li:not(:last-child):after {\n",
       "  content: ',';\n",
       "  padding-right: 5px;\n",
       "}\n",
       "\n",
       ".xr-has-index {\n",
       "  font-weight: bold;\n",
       "}\n",
       "\n",
       ".xr-var-list,\n",
       ".xr-var-item {\n",
       "  display: contents;\n",
       "}\n",
       "\n",
       ".xr-var-item > div,\n",
       ".xr-var-item label,\n",
       ".xr-var-item > .xr-var-name span {\n",
       "  background-color: var(--xr-background-color-row-even);\n",
       "  margin-bottom: 0;\n",
       "}\n",
       "\n",
       ".xr-var-item > .xr-var-name:hover span {\n",
       "  padding-right: 5px;\n",
       "}\n",
       "\n",
       ".xr-var-list > li:nth-child(odd) > div,\n",
       ".xr-var-list > li:nth-child(odd) > label,\n",
       ".xr-var-list > li:nth-child(odd) > .xr-var-name span {\n",
       "  background-color: var(--xr-background-color-row-odd);\n",
       "}\n",
       "\n",
       ".xr-var-name {\n",
       "  grid-column: 1;\n",
       "}\n",
       "\n",
       ".xr-var-dims {\n",
       "  grid-column: 2;\n",
       "}\n",
       "\n",
       ".xr-var-dtype {\n",
       "  grid-column: 3;\n",
       "  text-align: right;\n",
       "  color: var(--xr-font-color2);\n",
       "}\n",
       "\n",
       ".xr-var-preview {\n",
       "  grid-column: 4;\n",
       "}\n",
       "\n",
       ".xr-index-preview {\n",
       "  grid-column: 2 / 5;\n",
       "  color: var(--xr-font-color2);\n",
       "}\n",
       "\n",
       ".xr-var-name,\n",
       ".xr-var-dims,\n",
       ".xr-var-dtype,\n",
       ".xr-preview,\n",
       ".xr-attrs dt {\n",
       "  white-space: nowrap;\n",
       "  overflow: hidden;\n",
       "  text-overflow: ellipsis;\n",
       "  padding-right: 10px;\n",
       "}\n",
       "\n",
       ".xr-var-name:hover,\n",
       ".xr-var-dims:hover,\n",
       ".xr-var-dtype:hover,\n",
       ".xr-attrs dt:hover {\n",
       "  overflow: visible;\n",
       "  width: auto;\n",
       "  z-index: 1;\n",
       "}\n",
       "\n",
       ".xr-var-attrs,\n",
       ".xr-var-data,\n",
       ".xr-index-data {\n",
       "  display: none;\n",
       "  background-color: var(--xr-background-color) !important;\n",
       "  padding-bottom: 5px !important;\n",
       "}\n",
       "\n",
       ".xr-var-attrs-in:checked ~ .xr-var-attrs,\n",
       ".xr-var-data-in:checked ~ .xr-var-data,\n",
       ".xr-index-data-in:checked ~ .xr-index-data {\n",
       "  display: block;\n",
       "}\n",
       "\n",
       ".xr-var-data > table {\n",
       "  float: right;\n",
       "}\n",
       "\n",
       ".xr-var-name span,\n",
       ".xr-var-data,\n",
       ".xr-index-name div,\n",
       ".xr-index-data,\n",
       ".xr-attrs {\n",
       "  padding-left: 25px !important;\n",
       "}\n",
       "\n",
       ".xr-attrs,\n",
       ".xr-var-attrs,\n",
       ".xr-var-data,\n",
       ".xr-index-data {\n",
       "  grid-column: 1 / -1;\n",
       "}\n",
       "\n",
       "dl.xr-attrs {\n",
       "  padding: 0;\n",
       "  margin: 0;\n",
       "  display: grid;\n",
       "  grid-template-columns: 125px auto;\n",
       "}\n",
       "\n",
       ".xr-attrs dt,\n",
       ".xr-attrs dd {\n",
       "  padding: 0;\n",
       "  margin: 0;\n",
       "  float: left;\n",
       "  padding-right: 10px;\n",
       "  width: auto;\n",
       "}\n",
       "\n",
       ".xr-attrs dt {\n",
       "  font-weight: normal;\n",
       "  grid-column: 1;\n",
       "}\n",
       "\n",
       ".xr-attrs dt:hover span {\n",
       "  display: inline-block;\n",
       "  background: var(--xr-background-color);\n",
       "  padding-right: 10px;\n",
       "}\n",
       "\n",
       ".xr-attrs dd {\n",
       "  grid-column: 2;\n",
       "  white-space: pre-wrap;\n",
       "  word-break: break-all;\n",
       "}\n",
       "\n",
       ".xr-icon-database,\n",
       ".xr-icon-file-text2,\n",
       ".xr-no-icon {\n",
       "  display: inline-block;\n",
       "  vertical-align: middle;\n",
       "  width: 1em;\n",
       "  height: 1.5em !important;\n",
       "  stroke-width: 0;\n",
       "  stroke: currentColor;\n",
       "  fill: currentColor;\n",
       "}\n",
       "</style><pre class='xr-text-repr-fallback'>&lt;xarray.DataArray &#x27;sla&#x27; (time: 211, latitude: 720, longitude: 1440)&gt; Size: 2GB\n",
       "array([[[nan, nan, nan, ..., nan, nan, nan],\n",
       "        [nan, nan, nan, ..., nan, nan, nan],\n",
       "        [nan, nan, nan, ..., nan, nan, nan],\n",
       "        ...,\n",
       "        [nan, nan, nan, ..., nan, nan, nan],\n",
       "        [nan, nan, nan, ..., nan, nan, nan],\n",
       "        [nan, nan, nan, ..., nan, nan, nan]],\n",
       "\n",
       "       [[nan, nan, nan, ..., nan, nan, nan],\n",
       "        [nan, nan, nan, ..., nan, nan, nan],\n",
       "        [nan, nan, nan, ..., nan, nan, nan],\n",
       "        ...,\n",
       "        [nan, nan, nan, ..., nan, nan, nan],\n",
       "        [nan, nan, nan, ..., nan, nan, nan],\n",
       "        [nan, nan, nan, ..., nan, nan, nan]],\n",
       "\n",
       "       [[nan, nan, nan, ..., nan, nan, nan],\n",
       "        [nan, nan, nan, ..., nan, nan, nan],\n",
       "        [nan, nan, nan, ..., nan, nan, nan],\n",
       "        ...,\n",
       "...\n",
       "        ...,\n",
       "        [nan, nan, nan, ..., nan, nan, nan],\n",
       "        [nan, nan, nan, ..., nan, nan, nan],\n",
       "        [nan, nan, nan, ..., nan, nan, nan]],\n",
       "\n",
       "       [[nan, nan, nan, ..., nan, nan, nan],\n",
       "        [nan, nan, nan, ..., nan, nan, nan],\n",
       "        [nan, nan, nan, ..., nan, nan, nan],\n",
       "        ...,\n",
       "        [nan, nan, nan, ..., nan, nan, nan],\n",
       "        [nan, nan, nan, ..., nan, nan, nan],\n",
       "        [nan, nan, nan, ..., nan, nan, nan]],\n",
       "\n",
       "       [[nan, nan, nan, ..., nan, nan, nan],\n",
       "        [nan, nan, nan, ..., nan, nan, nan],\n",
       "        [nan, nan, nan, ..., nan, nan, nan],\n",
       "        ...,\n",
       "        [nan, nan, nan, ..., nan, nan, nan],\n",
       "        [nan, nan, nan, ..., nan, nan, nan],\n",
       "        [nan, nan, nan, ..., nan, nan, nan]]])\n",
       "Coordinates:\n",
       "  * time       (time) datetime64[ns] 2kB 2005-01-15 2005-02-15 ... 2022-07-15\n",
       "  * latitude   (latitude) float32 3kB -89.88 -89.62 -89.38 ... 89.38 89.62 89.88\n",
       "  * longitude  (longitude) float32 6kB 0.125 0.375 0.625 ... 359.4 359.6 359.9\n",
       "Attributes:\n",
       "    cell_methods:   time: mean within years\n",
       "    grid_mapping:   crs\n",
       "    long_name:      Averaged Sea Level Anomalies 2005/01\n",
       "    standard_name:  sea_surface_height_above_sea_level\n",
       "    units:          m</pre><div class='xr-wrap' style='display:none'><div class='xr-header'><div class='xr-obj-type'>xarray.DataArray</div><div class='xr-array-name'>'sla'</div><ul class='xr-dim-list'><li><span class='xr-has-index'>time</span>: 211</li><li><span class='xr-has-index'>latitude</span>: 720</li><li><span class='xr-has-index'>longitude</span>: 1440</li></ul></div><ul class='xr-sections'><li class='xr-section-item'><div class='xr-array-wrap'><input id='section-5f74ec48-5a43-4028-b455-f7ec78d0e81a' class='xr-array-in' type='checkbox' checked><label for='section-5f74ec48-5a43-4028-b455-f7ec78d0e81a' title='Show/hide data repr'><svg class='icon xr-icon-database'><use xlink:href='#icon-database'></use></svg></label><div class='xr-array-preview xr-preview'><span>nan nan nan nan nan nan nan nan ... nan nan nan nan nan nan nan nan</span></div><div class='xr-array-data'><pre>array([[[nan, nan, nan, ..., nan, nan, nan],\n",
       "        [nan, nan, nan, ..., nan, nan, nan],\n",
       "        [nan, nan, nan, ..., nan, nan, nan],\n",
       "        ...,\n",
       "        [nan, nan, nan, ..., nan, nan, nan],\n",
       "        [nan, nan, nan, ..., nan, nan, nan],\n",
       "        [nan, nan, nan, ..., nan, nan, nan]],\n",
       "\n",
       "       [[nan, nan, nan, ..., nan, nan, nan],\n",
       "        [nan, nan, nan, ..., nan, nan, nan],\n",
       "        [nan, nan, nan, ..., nan, nan, nan],\n",
       "        ...,\n",
       "        [nan, nan, nan, ..., nan, nan, nan],\n",
       "        [nan, nan, nan, ..., nan, nan, nan],\n",
       "        [nan, nan, nan, ..., nan, nan, nan]],\n",
       "\n",
       "       [[nan, nan, nan, ..., nan, nan, nan],\n",
       "        [nan, nan, nan, ..., nan, nan, nan],\n",
       "        [nan, nan, nan, ..., nan, nan, nan],\n",
       "        ...,\n",
       "...\n",
       "        ...,\n",
       "        [nan, nan, nan, ..., nan, nan, nan],\n",
       "        [nan, nan, nan, ..., nan, nan, nan],\n",
       "        [nan, nan, nan, ..., nan, nan, nan]],\n",
       "\n",
       "       [[nan, nan, nan, ..., nan, nan, nan],\n",
       "        [nan, nan, nan, ..., nan, nan, nan],\n",
       "        [nan, nan, nan, ..., nan, nan, nan],\n",
       "        ...,\n",
       "        [nan, nan, nan, ..., nan, nan, nan],\n",
       "        [nan, nan, nan, ..., nan, nan, nan],\n",
       "        [nan, nan, nan, ..., nan, nan, nan]],\n",
       "\n",
       "       [[nan, nan, nan, ..., nan, nan, nan],\n",
       "        [nan, nan, nan, ..., nan, nan, nan],\n",
       "        [nan, nan, nan, ..., nan, nan, nan],\n",
       "        ...,\n",
       "        [nan, nan, nan, ..., nan, nan, nan],\n",
       "        [nan, nan, nan, ..., nan, nan, nan],\n",
       "        [nan, nan, nan, ..., nan, nan, nan]]])</pre></div></div></li><li class='xr-section-item'><input id='section-017cd1f6-752a-4296-ae6f-1663094ed7ea' class='xr-section-summary-in' type='checkbox'  checked><label for='section-017cd1f6-752a-4296-ae6f-1663094ed7ea' class='xr-section-summary' >Coordinates: <span>(3)</span></label><div class='xr-section-inline-details'></div><div class='xr-section-details'><ul class='xr-var-list'><li class='xr-var-item'><div class='xr-var-name'><span class='xr-has-index'>time</span></div><div class='xr-var-dims'>(time)</div><div class='xr-var-dtype'>datetime64[ns]</div><div class='xr-var-preview xr-preview'>2005-01-15 ... 2022-07-15</div><input id='attrs-07f5cc58-cc08-4bba-9baf-f57e827280ba' class='xr-var-attrs-in' type='checkbox' ><label for='attrs-07f5cc58-cc08-4bba-9baf-f57e827280ba' title='Show/Hide attributes'><svg class='icon xr-icon-file-text2'><use xlink:href='#icon-file-text2'></use></svg></label><input id='data-c374a454-1e5d-4582-9434-8b2abee11462' class='xr-var-data-in' type='checkbox'><label for='data-c374a454-1e5d-4582-9434-8b2abee11462' title='Show/Hide data repr'><svg class='icon xr-icon-database'><use xlink:href='#icon-database'></use></svg></label><div class='xr-var-attrs'><dl class='xr-attrs'><dt><span>axis :</span></dt><dd>T</dd><dt><span>bounds :</span></dt><dd>climatology_bnds</dd><dt><span>long_name :</span></dt><dd>Time</dd><dt><span>standard_name :</span></dt><dd>time</dd></dl></div><div class='xr-var-data'><pre>array([&#x27;2005-01-15T00:00:00.000000000&#x27;, &#x27;2005-02-15T00:00:00.000000000&#x27;,\n",
       "       &#x27;2005-03-15T00:00:00.000000000&#x27;, ..., &#x27;2022-05-15T00:00:00.000000000&#x27;,\n",
       "       &#x27;2022-06-15T00:00:00.000000000&#x27;, &#x27;2022-07-15T00:00:00.000000000&#x27;],\n",
       "      dtype=&#x27;datetime64[ns]&#x27;)</pre></div></li><li class='xr-var-item'><div class='xr-var-name'><span class='xr-has-index'>latitude</span></div><div class='xr-var-dims'>(latitude)</div><div class='xr-var-dtype'>float32</div><div class='xr-var-preview xr-preview'>-89.88 -89.62 ... 89.62 89.88</div><input id='attrs-6ebfe12d-7e64-4df8-afe6-1393d90c4207' class='xr-var-attrs-in' type='checkbox' ><label for='attrs-6ebfe12d-7e64-4df8-afe6-1393d90c4207' title='Show/Hide attributes'><svg class='icon xr-icon-file-text2'><use xlink:href='#icon-file-text2'></use></svg></label><input id='data-a2f32b0a-7d86-476c-a604-62d3cfe6ba34' class='xr-var-data-in' type='checkbox'><label for='data-a2f32b0a-7d86-476c-a604-62d3cfe6ba34' title='Show/Hide data repr'><svg class='icon xr-icon-database'><use xlink:href='#icon-database'></use></svg></label><div class='xr-var-attrs'><dl class='xr-attrs'><dt><span>axis :</span></dt><dd>Y</dd><dt><span>bounds :</span></dt><dd>lat_bnds</dd><dt><span>long_name :</span></dt><dd>Latitude</dd><dt><span>standard_name :</span></dt><dd>latitude</dd><dt><span>units :</span></dt><dd>degrees_north</dd><dt><span>valid_max :</span></dt><dd>89.875</dd><dt><span>valid_min :</span></dt><dd>-89.875</dd></dl></div><div class='xr-var-data'><pre>array([-89.875, -89.625, -89.375, ...,  89.375,  89.625,  89.875],\n",
       "      dtype=float32)</pre></div></li><li class='xr-var-item'><div class='xr-var-name'><span class='xr-has-index'>longitude</span></div><div class='xr-var-dims'>(longitude)</div><div class='xr-var-dtype'>float32</div><div class='xr-var-preview xr-preview'>0.125 0.375 0.625 ... 359.6 359.9</div><input id='attrs-3a15c28a-0780-433d-a39a-7183c7018a98' class='xr-var-attrs-in' type='checkbox' ><label for='attrs-3a15c28a-0780-433d-a39a-7183c7018a98' title='Show/Hide attributes'><svg class='icon xr-icon-file-text2'><use xlink:href='#icon-file-text2'></use></svg></label><input id='data-d9c67ec4-34bb-4f6a-8f5c-cb48f43a9f77' class='xr-var-data-in' type='checkbox'><label for='data-d9c67ec4-34bb-4f6a-8f5c-cb48f43a9f77' title='Show/Hide data repr'><svg class='icon xr-icon-database'><use xlink:href='#icon-database'></use></svg></label><div class='xr-var-attrs'><dl class='xr-attrs'><dt><span>axis :</span></dt><dd>X</dd><dt><span>bounds :</span></dt><dd>lon_bnds</dd><dt><span>long_name :</span></dt><dd>Longitude</dd><dt><span>standard_name :</span></dt><dd>longitude</dd><dt><span>units :</span></dt><dd>degrees_east</dd><dt><span>valid_max :</span></dt><dd>359.875</dd><dt><span>valid_min :</span></dt><dd>0.125</dd></dl></div><div class='xr-var-data'><pre>array([1.25000e-01, 3.75000e-01, 6.25000e-01, ..., 3.59375e+02, 3.59625e+02,\n",
       "       3.59875e+02], dtype=float32)</pre></div></li></ul></div></li><li class='xr-section-item'><input id='section-b94b8d84-403e-44e7-a154-de34d36c3a0c' class='xr-section-summary-in' type='checkbox'  ><label for='section-b94b8d84-403e-44e7-a154-de34d36c3a0c' class='xr-section-summary' >Indexes: <span>(3)</span></label><div class='xr-section-inline-details'></div><div class='xr-section-details'><ul class='xr-var-list'><li class='xr-var-item'><div class='xr-index-name'><div>time</div></div><div class='xr-index-preview'>PandasIndex</div><div></div><input id='index-64184311-ac02-4f68-87cd-e67cff8516a3' class='xr-index-data-in' type='checkbox'/><label for='index-64184311-ac02-4f68-87cd-e67cff8516a3' title='Show/Hide index repr'><svg class='icon xr-icon-database'><use xlink:href='#icon-database'></use></svg></label><div class='xr-index-data'><pre>PandasIndex(DatetimeIndex([&#x27;2005-01-15&#x27;, &#x27;2005-02-15&#x27;, &#x27;2005-03-15&#x27;, &#x27;2005-04-15&#x27;,\n",
       "               &#x27;2005-05-15&#x27;, &#x27;2005-06-15&#x27;, &#x27;2005-07-15&#x27;, &#x27;2005-08-15&#x27;,\n",
       "               &#x27;2005-09-15&#x27;, &#x27;2005-10-15&#x27;,\n",
       "               ...\n",
       "               &#x27;2021-10-15&#x27;, &#x27;2021-11-15&#x27;, &#x27;2021-12-15&#x27;, &#x27;2022-01-15&#x27;,\n",
       "               &#x27;2022-02-15&#x27;, &#x27;2022-03-15&#x27;, &#x27;2022-04-15&#x27;, &#x27;2022-05-15&#x27;,\n",
       "               &#x27;2022-06-15&#x27;, &#x27;2022-07-15&#x27;],\n",
       "              dtype=&#x27;datetime64[ns]&#x27;, name=&#x27;time&#x27;, length=211, freq=None))</pre></div></li><li class='xr-var-item'><div class='xr-index-name'><div>latitude</div></div><div class='xr-index-preview'>PandasIndex</div><div></div><input id='index-d72d373d-fe0c-4003-b08a-7375cd5f4488' class='xr-index-data-in' type='checkbox'/><label for='index-d72d373d-fe0c-4003-b08a-7375cd5f4488' title='Show/Hide index repr'><svg class='icon xr-icon-database'><use xlink:href='#icon-database'></use></svg></label><div class='xr-index-data'><pre>PandasIndex(Index([-89.875, -89.625, -89.375, -89.125, -88.875, -88.625, -88.375, -88.125,\n",
       "       -87.875, -87.625,\n",
       "       ...\n",
       "        87.625,  87.875,  88.125,  88.375,  88.625,  88.875,  89.125,  89.375,\n",
       "        89.625,  89.875],\n",
       "      dtype=&#x27;float32&#x27;, name=&#x27;latitude&#x27;, length=720))</pre></div></li><li class='xr-var-item'><div class='xr-index-name'><div>longitude</div></div><div class='xr-index-preview'>PandasIndex</div><div></div><input id='index-3727f474-52cb-46cf-bc60-6c5b11d19add' class='xr-index-data-in' type='checkbox'/><label for='index-3727f474-52cb-46cf-bc60-6c5b11d19add' title='Show/Hide index repr'><svg class='icon xr-icon-database'><use xlink:href='#icon-database'></use></svg></label><div class='xr-index-data'><pre>PandasIndex(Index([  0.125,   0.375,   0.625,   0.875,   1.125,   1.375,   1.625,   1.875,\n",
       "         2.125,   2.375,\n",
       "       ...\n",
       "       357.625, 357.875, 358.125, 358.375, 358.625, 358.875, 359.125, 359.375,\n",
       "       359.625, 359.875],\n",
       "      dtype=&#x27;float32&#x27;, name=&#x27;longitude&#x27;, length=1440))</pre></div></li></ul></div></li><li class='xr-section-item'><input id='section-2d1aa758-4d8f-4846-8e3e-309c62f8da38' class='xr-section-summary-in' type='checkbox'  checked><label for='section-2d1aa758-4d8f-4846-8e3e-309c62f8da38' class='xr-section-summary' >Attributes: <span>(5)</span></label><div class='xr-section-inline-details'></div><div class='xr-section-details'><dl class='xr-attrs'><dt><span>cell_methods :</span></dt><dd>time: mean within years</dd><dt><span>grid_mapping :</span></dt><dd>crs</dd><dt><span>long_name :</span></dt><dd>Averaged Sea Level Anomalies 2005/01</dd><dt><span>standard_name :</span></dt><dd>sea_surface_height_above_sea_level</dd><dt><span>units :</span></dt><dd>m</dd></dl></div></li></ul></div></div>"
      ],
      "text/plain": [
       "<xarray.DataArray 'sla' (time: 211, latitude: 720, longitude: 1440)> Size: 2GB\n",
       "array([[[nan, nan, nan, ..., nan, nan, nan],\n",
       "        [nan, nan, nan, ..., nan, nan, nan],\n",
       "        [nan, nan, nan, ..., nan, nan, nan],\n",
       "        ...,\n",
       "        [nan, nan, nan, ..., nan, nan, nan],\n",
       "        [nan, nan, nan, ..., nan, nan, nan],\n",
       "        [nan, nan, nan, ..., nan, nan, nan]],\n",
       "\n",
       "       [[nan, nan, nan, ..., nan, nan, nan],\n",
       "        [nan, nan, nan, ..., nan, nan, nan],\n",
       "        [nan, nan, nan, ..., nan, nan, nan],\n",
       "        ...,\n",
       "        [nan, nan, nan, ..., nan, nan, nan],\n",
       "        [nan, nan, nan, ..., nan, nan, nan],\n",
       "        [nan, nan, nan, ..., nan, nan, nan]],\n",
       "\n",
       "       [[nan, nan, nan, ..., nan, nan, nan],\n",
       "        [nan, nan, nan, ..., nan, nan, nan],\n",
       "        [nan, nan, nan, ..., nan, nan, nan],\n",
       "        ...,\n",
       "...\n",
       "        ...,\n",
       "        [nan, nan, nan, ..., nan, nan, nan],\n",
       "        [nan, nan, nan, ..., nan, nan, nan],\n",
       "        [nan, nan, nan, ..., nan, nan, nan]],\n",
       "\n",
       "       [[nan, nan, nan, ..., nan, nan, nan],\n",
       "        [nan, nan, nan, ..., nan, nan, nan],\n",
       "        [nan, nan, nan, ..., nan, nan, nan],\n",
       "        ...,\n",
       "        [nan, nan, nan, ..., nan, nan, nan],\n",
       "        [nan, nan, nan, ..., nan, nan, nan],\n",
       "        [nan, nan, nan, ..., nan, nan, nan]],\n",
       "\n",
       "       [[nan, nan, nan, ..., nan, nan, nan],\n",
       "        [nan, nan, nan, ..., nan, nan, nan],\n",
       "        [nan, nan, nan, ..., nan, nan, nan],\n",
       "        ...,\n",
       "        [nan, nan, nan, ..., nan, nan, nan],\n",
       "        [nan, nan, nan, ..., nan, nan, nan],\n",
       "        [nan, nan, nan, ..., nan, nan, nan]]])\n",
       "Coordinates:\n",
       "  * time       (time) datetime64[ns] 2kB 2005-01-15 2005-02-15 ... 2022-07-15\n",
       "  * latitude   (latitude) float32 3kB -89.88 -89.62 -89.38 ... 89.38 89.62 89.88\n",
       "  * longitude  (longitude) float32 6kB 0.125 0.375 0.625 ... 359.4 359.6 359.9\n",
       "Attributes:\n",
       "    cell_methods:   time: mean within years\n",
       "    grid_mapping:   crs\n",
       "    long_name:      Averaged Sea Level Anomalies 2005/01\n",
       "    standard_name:  sea_surface_height_above_sea_level\n",
       "    units:          m"
      ]
     },
     "execution_count": 13,
     "metadata": {},
     "output_type": "execute_result"
    }
   ],
   "source": [
    "sea_level"
   ]
  },
  {
   "cell_type": "code",
   "execution_count": 27,
   "metadata": {},
   "outputs": [
    {
     "data": {
      "text/plain": [
       "<Axes: title={'center': 'time = 2010-06-01'}, xlabel='longitude [degrees_east]', ylabel='latitude [degrees_north]'>"
      ]
     },
     "execution_count": 27,
     "metadata": {},
     "output_type": "execute_result"
    }
   ],
   "source": [
    "fig, ax = plt.subplots()\n",
    "clip_data_waves['wave_energy'].isel(latitude=slice(0, 2), longitude=slice(0,2), time=5).plot(ax=ax)\n",
    "huvadhu_atoll.plot(ax=ax)"
   ]
  },
  {
   "cell_type": "code",
   "execution_count": 28,
   "metadata": {},
   "outputs": [],
   "source": [
    "import numpy as np\n",
    "import matplotlib.pyplot as plt\n",
    "import matplotlib.colors as mcolors\n",
    "\n",
    "idxx = 1\n",
    "idxy = 1\n",
    "\n",
    "# Sample data for wave direction and energy\n",
    "wave_energy = clip_data_waves['wave_energy'].isel(latitude=idxy, longitude=idxx).values.flatten()\n",
    "wave_direction = clip_data_waves['mwd'].isel(latitude=idxy, longitude=idxx).values.flatten() # Assuming wave_direction is already in degrees\n",
    "\n",
    "# Create subplots\n",
    "fig, ax = plt.subplots(subplot_kw={'projection': 'polar'})\n",
    "\n",
    "# Choose a colormap\n",
    "cmap = plt.get_cmap('plasma')  # You can choose any other colormap\n",
    "\n",
    "# Normalize wave energy values to range [0, 1]\n",
    "norm = mcolors.Normalize(vmin=min(wave_energy), vmax=max(wave_energy))\n",
    "\n",
    "# Plot wave energy using a colormap\n",
    "bars = ax.bar(np.radians(wave_direction), wave_energy, width=0.1, color=cmap(norm(wave_energy)), alpha=0.7, label='Wave Energy')\n",
    "\n",
    "# Add color bar for wave energy\n",
    "cbar = plt.colorbar(plt.cm.ScalarMappable(cmap=cmap, norm=norm), ax=ax, label='Wave Energy')\n",
    "\n",
    "# Set the theta zero location and direction\n",
    "ax.set_theta_zero_location('N')\n",
    "ax.set_theta_direction(-1)\n",
    "\n",
    "# Adjust legend\n",
    "#lines, labels = ax.get_legend_handles_labels()\n",
    "#ax.legend(lines, labels, loc='upper right')\n",
    "\n",
    "plt.title('Wave Direction and Energy')\n",
    "plt.show()"
   ]
  },
  {
   "cell_type": "code",
   "execution_count": 29,
   "metadata": {},
   "outputs": [
    {
     "data": {
      "text/html": [
       "<div><svg style=\"position: absolute; width: 0; height: 0; overflow: hidden\">\n",
       "<defs>\n",
       "<symbol id=\"icon-database\" viewBox=\"0 0 32 32\">\n",
       "<path d=\"M16 0c-8.837 0-16 2.239-16 5v4c0 2.761 7.163 5 16 5s16-2.239 16-5v-4c0-2.761-7.163-5-16-5z\"></path>\n",
       "<path d=\"M16 17c-8.837 0-16-2.239-16-5v6c0 2.761 7.163 5 16 5s16-2.239 16-5v-6c0 2.761-7.163 5-16 5z\"></path>\n",
       "<path d=\"M16 26c-8.837 0-16-2.239-16-5v6c0 2.761 7.163 5 16 5s16-2.239 16-5v-6c0 2.761-7.163 5-16 5z\"></path>\n",
       "</symbol>\n",
       "<symbol id=\"icon-file-text2\" viewBox=\"0 0 32 32\">\n",
       "<path d=\"M28.681 7.159c-0.694-0.947-1.662-2.053-2.724-3.116s-2.169-2.030-3.116-2.724c-1.612-1.182-2.393-1.319-2.841-1.319h-15.5c-1.378 0-2.5 1.121-2.5 2.5v27c0 1.378 1.122 2.5 2.5 2.5h23c1.378 0 2.5-1.122 2.5-2.5v-19.5c0-0.448-0.137-1.23-1.319-2.841zM24.543 5.457c0.959 0.959 1.712 1.825 2.268 2.543h-4.811v-4.811c0.718 0.556 1.584 1.309 2.543 2.268zM28 29.5c0 0.271-0.229 0.5-0.5 0.5h-23c-0.271 0-0.5-0.229-0.5-0.5v-27c0-0.271 0.229-0.5 0.5-0.5 0 0 15.499-0 15.5 0v7c0 0.552 0.448 1 1 1h7v19.5z\"></path>\n",
       "<path d=\"M23 26h-14c-0.552 0-1-0.448-1-1s0.448-1 1-1h14c0.552 0 1 0.448 1 1s-0.448 1-1 1z\"></path>\n",
       "<path d=\"M23 22h-14c-0.552 0-1-0.448-1-1s0.448-1 1-1h14c0.552 0 1 0.448 1 1s-0.448 1-1 1z\"></path>\n",
       "<path d=\"M23 18h-14c-0.552 0-1-0.448-1-1s0.448-1 1-1h14c0.552 0 1 0.448 1 1s-0.448 1-1 1z\"></path>\n",
       "</symbol>\n",
       "</defs>\n",
       "</svg>\n",
       "<style>/* CSS stylesheet for displaying xarray objects in jupyterlab.\n",
       " *\n",
       " */\n",
       "\n",
       ":root {\n",
       "  --xr-font-color0: var(--jp-content-font-color0, rgba(0, 0, 0, 1));\n",
       "  --xr-font-color2: var(--jp-content-font-color2, rgba(0, 0, 0, 0.54));\n",
       "  --xr-font-color3: var(--jp-content-font-color3, rgba(0, 0, 0, 0.38));\n",
       "  --xr-border-color: var(--jp-border-color2, #e0e0e0);\n",
       "  --xr-disabled-color: var(--jp-layout-color3, #bdbdbd);\n",
       "  --xr-background-color: var(--jp-layout-color0, white);\n",
       "  --xr-background-color-row-even: var(--jp-layout-color1, white);\n",
       "  --xr-background-color-row-odd: var(--jp-layout-color2, #eeeeee);\n",
       "}\n",
       "\n",
       "html[theme=dark],\n",
       "body[data-theme=dark],\n",
       "body.vscode-dark {\n",
       "  --xr-font-color0: rgba(255, 255, 255, 1);\n",
       "  --xr-font-color2: rgba(255, 255, 255, 0.54);\n",
       "  --xr-font-color3: rgba(255, 255, 255, 0.38);\n",
       "  --xr-border-color: #1F1F1F;\n",
       "  --xr-disabled-color: #515151;\n",
       "  --xr-background-color: #111111;\n",
       "  --xr-background-color-row-even: #111111;\n",
       "  --xr-background-color-row-odd: #313131;\n",
       "}\n",
       "\n",
       ".xr-wrap {\n",
       "  display: block !important;\n",
       "  min-width: 300px;\n",
       "  max-width: 700px;\n",
       "}\n",
       "\n",
       ".xr-text-repr-fallback {\n",
       "  /* fallback to plain text repr when CSS is not injected (untrusted notebook) */\n",
       "  display: none;\n",
       "}\n",
       "\n",
       ".xr-header {\n",
       "  padding-top: 6px;\n",
       "  padding-bottom: 6px;\n",
       "  margin-bottom: 4px;\n",
       "  border-bottom: solid 1px var(--xr-border-color);\n",
       "}\n",
       "\n",
       ".xr-header > div,\n",
       ".xr-header > ul {\n",
       "  display: inline;\n",
       "  margin-top: 0;\n",
       "  margin-bottom: 0;\n",
       "}\n",
       "\n",
       ".xr-obj-type,\n",
       ".xr-array-name {\n",
       "  margin-left: 2px;\n",
       "  margin-right: 10px;\n",
       "}\n",
       "\n",
       ".xr-obj-type {\n",
       "  color: var(--xr-font-color2);\n",
       "}\n",
       "\n",
       ".xr-sections {\n",
       "  padding-left: 0 !important;\n",
       "  display: grid;\n",
       "  grid-template-columns: 150px auto auto 1fr 20px 20px;\n",
       "}\n",
       "\n",
       ".xr-section-item {\n",
       "  display: contents;\n",
       "}\n",
       "\n",
       ".xr-section-item input {\n",
       "  display: none;\n",
       "}\n",
       "\n",
       ".xr-section-item input + label {\n",
       "  color: var(--xr-disabled-color);\n",
       "}\n",
       "\n",
       ".xr-section-item input:enabled + label {\n",
       "  cursor: pointer;\n",
       "  color: var(--xr-font-color2);\n",
       "}\n",
       "\n",
       ".xr-section-item input:enabled + label:hover {\n",
       "  color: var(--xr-font-color0);\n",
       "}\n",
       "\n",
       ".xr-section-summary {\n",
       "  grid-column: 1;\n",
       "  color: var(--xr-font-color2);\n",
       "  font-weight: 500;\n",
       "}\n",
       "\n",
       ".xr-section-summary > span {\n",
       "  display: inline-block;\n",
       "  padding-left: 0.5em;\n",
       "}\n",
       "\n",
       ".xr-section-summary-in:disabled + label {\n",
       "  color: var(--xr-font-color2);\n",
       "}\n",
       "\n",
       ".xr-section-summary-in + label:before {\n",
       "  display: inline-block;\n",
       "  content: '►';\n",
       "  font-size: 11px;\n",
       "  width: 15px;\n",
       "  text-align: center;\n",
       "}\n",
       "\n",
       ".xr-section-summary-in:disabled + label:before {\n",
       "  color: var(--xr-disabled-color);\n",
       "}\n",
       "\n",
       ".xr-section-summary-in:checked + label:before {\n",
       "  content: '▼';\n",
       "}\n",
       "\n",
       ".xr-section-summary-in:checked + label > span {\n",
       "  display: none;\n",
       "}\n",
       "\n",
       ".xr-section-summary,\n",
       ".xr-section-inline-details {\n",
       "  padding-top: 4px;\n",
       "  padding-bottom: 4px;\n",
       "}\n",
       "\n",
       ".xr-section-inline-details {\n",
       "  grid-column: 2 / -1;\n",
       "}\n",
       "\n",
       ".xr-section-details {\n",
       "  display: none;\n",
       "  grid-column: 1 / -1;\n",
       "  margin-bottom: 5px;\n",
       "}\n",
       "\n",
       ".xr-section-summary-in:checked ~ .xr-section-details {\n",
       "  display: contents;\n",
       "}\n",
       "\n",
       ".xr-array-wrap {\n",
       "  grid-column: 1 / -1;\n",
       "  display: grid;\n",
       "  grid-template-columns: 20px auto;\n",
       "}\n",
       "\n",
       ".xr-array-wrap > label {\n",
       "  grid-column: 1;\n",
       "  vertical-align: top;\n",
       "}\n",
       "\n",
       ".xr-preview {\n",
       "  color: var(--xr-font-color3);\n",
       "}\n",
       "\n",
       ".xr-array-preview,\n",
       ".xr-array-data {\n",
       "  padding: 0 5px !important;\n",
       "  grid-column: 2;\n",
       "}\n",
       "\n",
       ".xr-array-data,\n",
       ".xr-array-in:checked ~ .xr-array-preview {\n",
       "  display: none;\n",
       "}\n",
       "\n",
       ".xr-array-in:checked ~ .xr-array-data,\n",
       ".xr-array-preview {\n",
       "  display: inline-block;\n",
       "}\n",
       "\n",
       ".xr-dim-list {\n",
       "  display: inline-block !important;\n",
       "  list-style: none;\n",
       "  padding: 0 !important;\n",
       "  margin: 0;\n",
       "}\n",
       "\n",
       ".xr-dim-list li {\n",
       "  display: inline-block;\n",
       "  padding: 0;\n",
       "  margin: 0;\n",
       "}\n",
       "\n",
       ".xr-dim-list:before {\n",
       "  content: '(';\n",
       "}\n",
       "\n",
       ".xr-dim-list:after {\n",
       "  content: ')';\n",
       "}\n",
       "\n",
       ".xr-dim-list li:not(:last-child):after {\n",
       "  content: ',';\n",
       "  padding-right: 5px;\n",
       "}\n",
       "\n",
       ".xr-has-index {\n",
       "  font-weight: bold;\n",
       "}\n",
       "\n",
       ".xr-var-list,\n",
       ".xr-var-item {\n",
       "  display: contents;\n",
       "}\n",
       "\n",
       ".xr-var-item > div,\n",
       ".xr-var-item label,\n",
       ".xr-var-item > .xr-var-name span {\n",
       "  background-color: var(--xr-background-color-row-even);\n",
       "  margin-bottom: 0;\n",
       "}\n",
       "\n",
       ".xr-var-item > .xr-var-name:hover span {\n",
       "  padding-right: 5px;\n",
       "}\n",
       "\n",
       ".xr-var-list > li:nth-child(odd) > div,\n",
       ".xr-var-list > li:nth-child(odd) > label,\n",
       ".xr-var-list > li:nth-child(odd) > .xr-var-name span {\n",
       "  background-color: var(--xr-background-color-row-odd);\n",
       "}\n",
       "\n",
       ".xr-var-name {\n",
       "  grid-column: 1;\n",
       "}\n",
       "\n",
       ".xr-var-dims {\n",
       "  grid-column: 2;\n",
       "}\n",
       "\n",
       ".xr-var-dtype {\n",
       "  grid-column: 3;\n",
       "  text-align: right;\n",
       "  color: var(--xr-font-color2);\n",
       "}\n",
       "\n",
       ".xr-var-preview {\n",
       "  grid-column: 4;\n",
       "}\n",
       "\n",
       ".xr-index-preview {\n",
       "  grid-column: 2 / 5;\n",
       "  color: var(--xr-font-color2);\n",
       "}\n",
       "\n",
       ".xr-var-name,\n",
       ".xr-var-dims,\n",
       ".xr-var-dtype,\n",
       ".xr-preview,\n",
       ".xr-attrs dt {\n",
       "  white-space: nowrap;\n",
       "  overflow: hidden;\n",
       "  text-overflow: ellipsis;\n",
       "  padding-right: 10px;\n",
       "}\n",
       "\n",
       ".xr-var-name:hover,\n",
       ".xr-var-dims:hover,\n",
       ".xr-var-dtype:hover,\n",
       ".xr-attrs dt:hover {\n",
       "  overflow: visible;\n",
       "  width: auto;\n",
       "  z-index: 1;\n",
       "}\n",
       "\n",
       ".xr-var-attrs,\n",
       ".xr-var-data,\n",
       ".xr-index-data {\n",
       "  display: none;\n",
       "  background-color: var(--xr-background-color) !important;\n",
       "  padding-bottom: 5px !important;\n",
       "}\n",
       "\n",
       ".xr-var-attrs-in:checked ~ .xr-var-attrs,\n",
       ".xr-var-data-in:checked ~ .xr-var-data,\n",
       ".xr-index-data-in:checked ~ .xr-index-data {\n",
       "  display: block;\n",
       "}\n",
       "\n",
       ".xr-var-data > table {\n",
       "  float: right;\n",
       "}\n",
       "\n",
       ".xr-var-name span,\n",
       ".xr-var-data,\n",
       ".xr-index-name div,\n",
       ".xr-index-data,\n",
       ".xr-attrs {\n",
       "  padding-left: 25px !important;\n",
       "}\n",
       "\n",
       ".xr-attrs,\n",
       ".xr-var-attrs,\n",
       ".xr-var-data,\n",
       ".xr-index-data {\n",
       "  grid-column: 1 / -1;\n",
       "}\n",
       "\n",
       "dl.xr-attrs {\n",
       "  padding: 0;\n",
       "  margin: 0;\n",
       "  display: grid;\n",
       "  grid-template-columns: 125px auto;\n",
       "}\n",
       "\n",
       ".xr-attrs dt,\n",
       ".xr-attrs dd {\n",
       "  padding: 0;\n",
       "  margin: 0;\n",
       "  float: left;\n",
       "  padding-right: 10px;\n",
       "  width: auto;\n",
       "}\n",
       "\n",
       ".xr-attrs dt {\n",
       "  font-weight: normal;\n",
       "  grid-column: 1;\n",
       "}\n",
       "\n",
       ".xr-attrs dt:hover span {\n",
       "  display: inline-block;\n",
       "  background: var(--xr-background-color);\n",
       "  padding-right: 10px;\n",
       "}\n",
       "\n",
       ".xr-attrs dd {\n",
       "  grid-column: 2;\n",
       "  white-space: pre-wrap;\n",
       "  word-break: break-all;\n",
       "}\n",
       "\n",
       ".xr-icon-database,\n",
       ".xr-icon-file-text2,\n",
       ".xr-no-icon {\n",
       "  display: inline-block;\n",
       "  vertical-align: middle;\n",
       "  width: 1em;\n",
       "  height: 1.5em !important;\n",
       "  stroke-width: 0;\n",
       "  stroke: currentColor;\n",
       "  fill: currentColor;\n",
       "}\n",
       "</style><pre class='xr-text-repr-fallback'>&lt;xarray.DataArray &#x27;wave_energy&#x27; (time: 26)&gt; Size: 104B\n",
       "array([3489.3508, 4391.886 , 3124.0706, 3514.175 , 3490.5405, 3346.449 ,\n",
       "       2979.1653, 3107.802 , 2906.5706, 3955.991 , 2953.9219, 3641.015 ,\n",
       "       2787.0837, 5241.4614, 3531.147 , 3676.1902, 3636.993 , 3402.801 ,\n",
       "       3240.2876, 3404.3054, 3055.867 , 3511.7139, 3252.9915, 4944.2266,\n",
       "       2848.115 , 3955.1824], dtype=float32)\n",
       "Coordinates:\n",
       "    longitude  float32 4B 73.36\n",
       "    latitude   float32 4B 0.593\n",
       "  * time       (time) datetime64[ns] 208B 2010-04-01 2010-11-01 ... 2022-11-01</pre><div class='xr-wrap' style='display:none'><div class='xr-header'><div class='xr-obj-type'>xarray.DataArray</div><div class='xr-array-name'>'wave_energy'</div><ul class='xr-dim-list'><li><span class='xr-has-index'>time</span>: 26</li></ul></div><ul class='xr-sections'><li class='xr-section-item'><div class='xr-array-wrap'><input id='section-bff038ff-e890-4de0-8ff2-231d8951e1c4' class='xr-array-in' type='checkbox' checked><label for='section-bff038ff-e890-4de0-8ff2-231d8951e1c4' title='Show/hide data repr'><svg class='icon xr-icon-database'><use xlink:href='#icon-database'></use></svg></label><div class='xr-array-preview xr-preview'><span>3.489e+03 4.392e+03 3.124e+03 ... 4.944e+03 2.848e+03 3.955e+03</span></div><div class='xr-array-data'><pre>array([3489.3508, 4391.886 , 3124.0706, 3514.175 , 3490.5405, 3346.449 ,\n",
       "       2979.1653, 3107.802 , 2906.5706, 3955.991 , 2953.9219, 3641.015 ,\n",
       "       2787.0837, 5241.4614, 3531.147 , 3676.1902, 3636.993 , 3402.801 ,\n",
       "       3240.2876, 3404.3054, 3055.867 , 3511.7139, 3252.9915, 4944.2266,\n",
       "       2848.115 , 3955.1824], dtype=float32)</pre></div></div></li><li class='xr-section-item'><input id='section-2f0f9c21-5ab5-498a-8544-61d80c6fde4a' class='xr-section-summary-in' type='checkbox'  checked><label for='section-2f0f9c21-5ab5-498a-8544-61d80c6fde4a' class='xr-section-summary' >Coordinates: <span>(3)</span></label><div class='xr-section-inline-details'></div><div class='xr-section-details'><ul class='xr-var-list'><li class='xr-var-item'><div class='xr-var-name'><span>longitude</span></div><div class='xr-var-dims'>()</div><div class='xr-var-dtype'>float32</div><div class='xr-var-preview xr-preview'>73.36</div><input id='attrs-1a781992-a434-420a-935d-d69f20df6d69' class='xr-var-attrs-in' type='checkbox' ><label for='attrs-1a781992-a434-420a-935d-d69f20df6d69' title='Show/Hide attributes'><svg class='icon xr-icon-file-text2'><use xlink:href='#icon-file-text2'></use></svg></label><input id='data-70f3048a-ee5c-40cb-9df1-31ef4c608c1d' class='xr-var-data-in' type='checkbox'><label for='data-70f3048a-ee5c-40cb-9df1-31ef4c608c1d' title='Show/Hide data repr'><svg class='icon xr-icon-database'><use xlink:href='#icon-database'></use></svg></label><div class='xr-var-attrs'><dl class='xr-attrs'><dt><span>units :</span></dt><dd>degrees_east</dd><dt><span>long_name :</span></dt><dd>longitude</dd></dl></div><div class='xr-var-data'><pre>array(73.35567, dtype=float32)</pre></div></li><li class='xr-var-item'><div class='xr-var-name'><span>latitude</span></div><div class='xr-var-dims'>()</div><div class='xr-var-dtype'>float32</div><div class='xr-var-preview xr-preview'>0.593</div><input id='attrs-5a60b8f5-7bef-4135-97a9-69af98cc4e73' class='xr-var-attrs-in' type='checkbox' ><label for='attrs-5a60b8f5-7bef-4135-97a9-69af98cc4e73' title='Show/Hide attributes'><svg class='icon xr-icon-file-text2'><use xlink:href='#icon-file-text2'></use></svg></label><input id='data-fa3c2547-59f6-41d3-b5d0-0e0025e642bd' class='xr-var-data-in' type='checkbox'><label for='data-fa3c2547-59f6-41d3-b5d0-0e0025e642bd' title='Show/Hide data repr'><svg class='icon xr-icon-database'><use xlink:href='#icon-database'></use></svg></label><div class='xr-var-attrs'><dl class='xr-attrs'><dt><span>units :</span></dt><dd>degrees_north</dd><dt><span>long_name :</span></dt><dd>latitude</dd></dl></div><div class='xr-var-data'><pre>array(0.593, dtype=float32)</pre></div></li><li class='xr-var-item'><div class='xr-var-name'><span class='xr-has-index'>time</span></div><div class='xr-var-dims'>(time)</div><div class='xr-var-dtype'>datetime64[ns]</div><div class='xr-var-preview xr-preview'>2010-04-01 ... 2022-11-01</div><input id='attrs-5e4a1607-fcc4-42d8-af94-c96574c794c5' class='xr-var-attrs-in' type='checkbox' ><label for='attrs-5e4a1607-fcc4-42d8-af94-c96574c794c5' title='Show/Hide attributes'><svg class='icon xr-icon-file-text2'><use xlink:href='#icon-file-text2'></use></svg></label><input id='data-c4f34681-292d-4738-9aaa-747962dccc11' class='xr-var-data-in' type='checkbox'><label for='data-c4f34681-292d-4738-9aaa-747962dccc11' title='Show/Hide data repr'><svg class='icon xr-icon-database'><use xlink:href='#icon-database'></use></svg></label><div class='xr-var-attrs'><dl class='xr-attrs'><dt><span>long_name :</span></dt><dd>time</dd></dl></div><div class='xr-var-data'><pre>array([&#x27;2010-04-01T00:00:00.000000000&#x27;, &#x27;2010-11-01T00:00:00.000000000&#x27;,\n",
       "       &#x27;2011-04-01T00:00:00.000000000&#x27;, &#x27;2011-11-01T00:00:00.000000000&#x27;,\n",
       "       &#x27;2012-04-01T00:00:00.000000000&#x27;, &#x27;2012-11-01T00:00:00.000000000&#x27;,\n",
       "       &#x27;2013-04-01T00:00:00.000000000&#x27;, &#x27;2013-11-01T00:00:00.000000000&#x27;,\n",
       "       &#x27;2014-04-01T00:00:00.000000000&#x27;, &#x27;2014-11-01T00:00:00.000000000&#x27;,\n",
       "       &#x27;2015-04-01T00:00:00.000000000&#x27;, &#x27;2015-11-01T00:00:00.000000000&#x27;,\n",
       "       &#x27;2016-04-01T00:00:00.000000000&#x27;, &#x27;2016-11-01T00:00:00.000000000&#x27;,\n",
       "       &#x27;2017-04-01T00:00:00.000000000&#x27;, &#x27;2017-11-01T00:00:00.000000000&#x27;,\n",
       "       &#x27;2018-04-01T00:00:00.000000000&#x27;, &#x27;2018-11-01T00:00:00.000000000&#x27;,\n",
       "       &#x27;2019-04-01T00:00:00.000000000&#x27;, &#x27;2019-11-01T00:00:00.000000000&#x27;,\n",
       "       &#x27;2020-04-01T00:00:00.000000000&#x27;, &#x27;2020-11-01T00:00:00.000000000&#x27;,\n",
       "       &#x27;2021-04-01T00:00:00.000000000&#x27;, &#x27;2021-11-01T00:00:00.000000000&#x27;,\n",
       "       &#x27;2022-04-01T00:00:00.000000000&#x27;, &#x27;2022-11-01T00:00:00.000000000&#x27;],\n",
       "      dtype=&#x27;datetime64[ns]&#x27;)</pre></div></li></ul></div></li><li class='xr-section-item'><input id='section-f0c71318-0cd1-4998-86ac-86fc51102c97' class='xr-section-summary-in' type='checkbox'  ><label for='section-f0c71318-0cd1-4998-86ac-86fc51102c97' class='xr-section-summary' >Indexes: <span>(1)</span></label><div class='xr-section-inline-details'></div><div class='xr-section-details'><ul class='xr-var-list'><li class='xr-var-item'><div class='xr-index-name'><div>time</div></div><div class='xr-index-preview'>PandasIndex</div><div></div><input id='index-4677e730-b5fb-4433-9be9-34fbbd5aa6bc' class='xr-index-data-in' type='checkbox'/><label for='index-4677e730-b5fb-4433-9be9-34fbbd5aa6bc' title='Show/Hide index repr'><svg class='icon xr-icon-database'><use xlink:href='#icon-database'></use></svg></label><div class='xr-index-data'><pre>PandasIndex(DatetimeIndex([&#x27;2010-04-01&#x27;, &#x27;2010-11-01&#x27;, &#x27;2011-04-01&#x27;, &#x27;2011-11-01&#x27;,\n",
       "               &#x27;2012-04-01&#x27;, &#x27;2012-11-01&#x27;, &#x27;2013-04-01&#x27;, &#x27;2013-11-01&#x27;,\n",
       "               &#x27;2014-04-01&#x27;, &#x27;2014-11-01&#x27;, &#x27;2015-04-01&#x27;, &#x27;2015-11-01&#x27;,\n",
       "               &#x27;2016-04-01&#x27;, &#x27;2016-11-01&#x27;, &#x27;2017-04-01&#x27;, &#x27;2017-11-01&#x27;,\n",
       "               &#x27;2018-04-01&#x27;, &#x27;2018-11-01&#x27;, &#x27;2019-04-01&#x27;, &#x27;2019-11-01&#x27;,\n",
       "               &#x27;2020-04-01&#x27;, &#x27;2020-11-01&#x27;, &#x27;2021-04-01&#x27;, &#x27;2021-11-01&#x27;,\n",
       "               &#x27;2022-04-01&#x27;, &#x27;2022-11-01&#x27;],\n",
       "              dtype=&#x27;datetime64[ns]&#x27;, name=&#x27;time&#x27;, freq=None))</pre></div></li></ul></div></li><li class='xr-section-item'><input id='section-d10fb248-b06d-4543-a357-a398f9744c9b' class='xr-section-summary-in' type='checkbox' disabled ><label for='section-d10fb248-b06d-4543-a357-a398f9744c9b' class='xr-section-summary'  title='Expand/collapse section'>Attributes: <span>(0)</span></label><div class='xr-section-inline-details'></div><div class='xr-section-details'><dl class='xr-attrs'></dl></div></li></ul></div></div>"
      ],
      "text/plain": [
       "<xarray.DataArray 'wave_energy' (time: 26)> Size: 104B\n",
       "array([3489.3508, 4391.886 , 3124.0706, 3514.175 , 3490.5405, 3346.449 ,\n",
       "       2979.1653, 3107.802 , 2906.5706, 3955.991 , 2953.9219, 3641.015 ,\n",
       "       2787.0837, 5241.4614, 3531.147 , 3676.1902, 3636.993 , 3402.801 ,\n",
       "       3240.2876, 3404.3054, 3055.867 , 3511.7139, 3252.9915, 4944.2266,\n",
       "       2848.115 , 3955.1824], dtype=float32)\n",
       "Coordinates:\n",
       "    longitude  float32 4B 73.36\n",
       "    latitude   float32 4B 0.593\n",
       "  * time       (time) datetime64[ns] 208B 2010-04-01 2010-11-01 ... 2022-11-01"
      ]
     },
     "execution_count": 29,
     "metadata": {},
     "output_type": "execute_result"
    }
   ],
   "source": [
    "clip_data_waves['wave_energy'].isel(latitude=idxy, longitude=idxx).sel(time=clip_data_waves['wave_energy'].time.dt.month.isin([4, 11]))"
   ]
  },
  {
   "cell_type": "code",
   "execution_count": 30,
   "metadata": {},
   "outputs": [],
   "source": [
    "import numpy as np\n",
    "import matplotlib.pyplot as plt\n",
    "import matplotlib.colors as mcolors\n",
    "\n",
    "# Define the values for idxx and idxy\n",
    "idxx_values = [0, 1, 2]\n",
    "idxy_values = [0, 1, 2]\n",
    "\n",
    "# Create a figure and axes for the joint plot\n",
    "fig, axs = plt.subplots(3, 3, subplot_kw={'projection': 'polar'})\n",
    "\n",
    "# Choose a common colormap for all subplots\n",
    "cmap = plt.get_cmap('plasma')\n",
    "\n",
    "# Normalize wave energy values to range [0, 1]\n",
    "global_min_wave_energy = float('inf')\n",
    "global_max_wave_energy = float('-inf')\n",
    "\n",
    "# Iterate over idxx and idxy values to create the subplots\n",
    "for idxx in idxx_values:\n",
    "    for idxy in idxy_values:\n",
    "        # Sample data for wave direction and energy\n",
    "        wave_energy_ne_monsoon = clip_data_waves['wave_energy'].isel(latitude=idxy, longitude=idxx).sel(time=clip_data_waves['wave_energy'].time.dt.month.isin([1, 2, 3, 12])).values.flatten()\n",
    "        wave_direction_ne_monsoon = clip_data_waves['mwd'].isel(latitude=idxy, longitude=idxx).sel(time=clip_data_waves['wave_energy'].time.dt.month.isin([1, 2, 3, 12])).values.flatten() # Assuming wave_direction is already in degrees\n",
    "\n",
    "        wave_energy_sw_monsoon = clip_data_waves['wave_energy'].isel(latitude=idxy, longitude=idxx).sel(time=clip_data_waves['wave_energy'].time.dt.month.isin([4, 5, 6, 7, 8, 9, 10, 11])).values.flatten()\n",
    "        wave_direction_sw_monsoon = clip_data_waves['mwd'].isel(latitude=idxy, longitude=idxx).sel(time=clip_data_waves['wave_energy'].time.dt.month.isin([4, 5, 6, 7, 8, 9, 10, 11])).values.flatten() # Assuming wave_direction is already in degrees\n",
    "\n",
    "        # Calculate global min and max for wave_energy\n",
    "        local_min_wave_energy = np.min(wave_energy)\n",
    "        local_max_wave_energy = np.max(wave_energy)\n",
    "        if local_min_wave_energy < global_min_wave_energy:\n",
    "            global_min_wave_energy = local_min_wave_energy\n",
    "        if local_max_wave_energy > global_max_wave_energy:\n",
    "            global_max_wave_energy = local_max_wave_energy\n",
    "\n",
    "        # Plot wave energy using a colormap\n",
    "        ax = axs[idxy, idxx]\n",
    "        bars = ax.bar(np.radians(wave_direction), wave_energy, width=0.1, color=cmap((wave_energy - global_min_wave_energy) / (global_max_wave_energy - global_min_wave_energy)), alpha=0.7, label='Wave Energy')\n",
    "\n",
    "        # Set the theta zero location and direction\n",
    "        ax.set_theta_zero_location('N')\n",
    "        ax.set_theta_direction(-1)\n",
    "\n",
    "# Add a common color bar for wave energy\n",
    "norm = mcolors.Normalize(vmin=global_min_wave_energy, vmax=global_max_wave_energy)\n",
    "cbar = fig.colorbar(plt.cm.ScalarMappable(cmap=cmap, norm=norm), ax=axs, orientation='vertical', label='Wave Energy')\n",
    "\n",
    "# Adjust layout\n",
    "#plt.tight_layout()\n",
    "\n",
    "plt.show()"
   ]
  },
  {
   "cell_type": "code",
   "execution_count": 38,
   "metadata": {},
   "outputs": [
    {
     "ename": "TypeError",
     "evalue": "strptime() argument 1 must be str, not numpy.datetime64",
     "output_type": "error",
     "traceback": [
      "\u001b[1;31m---------------------------------------------------------------------------\u001b[0m",
      "\u001b[1;31mTypeError\u001b[0m                                 Traceback (most recent call last)",
      "Cell \u001b[1;32mIn[38], line 1\u001b[0m\n\u001b[1;32m----> 1\u001b[0m \u001b[43mdatetime\u001b[49m\u001b[38;5;241;43m.\u001b[39;49m\u001b[43mstrptime\u001b[49m\u001b[43m(\u001b[49m\u001b[43md\u001b[49m\u001b[43m,\u001b[49m\u001b[43m \u001b[49m\u001b[38;5;124;43m'\u001b[39;49m\u001b[38;5;124;43m%\u001b[39;49m\u001b[38;5;124;43mY-\u001b[39;49m\u001b[38;5;124;43m%\u001b[39;49m\u001b[38;5;124;43mm-\u001b[39;49m\u001b[38;5;132;43;01m%d\u001b[39;49;00m\u001b[38;5;124;43mT\u001b[39;49m\u001b[38;5;124;43m%\u001b[39;49m\u001b[38;5;124;43mH:\u001b[39;49m\u001b[38;5;124;43m%\u001b[39;49m\u001b[38;5;124;43mM:\u001b[39;49m\u001b[38;5;124;43m%\u001b[39;49m\u001b[38;5;124;43mS.\u001b[39;49m\u001b[38;5;132;43;01m%f\u001b[39;49;00m\u001b[38;5;124;43m'\u001b[39;49m\u001b[43m)\u001b[49m\n",
      "\u001b[1;31mTypeError\u001b[0m: strptime() argument 1 must be str, not numpy.datetime64"
     ]
    }
   ],
   "source": []
  },
  {
   "cell_type": "code",
   "execution_count": 47,
   "metadata": {},
   "outputs": [
    {
     "name": "stdout",
     "output_type": "stream",
     "text": [
      "\n"
     ]
    }
   ],
   "source": [
    "import pandas as pd\n",
    "d = wave_energy.sel(latitude=0.5, longitude=73.1, method='nearest').time[0].values\n",
    "# transform d from numpy.datetime64 to datetime\n",
    "d = pd.to_datetime(d)\n",
    "\n",
    "ow = rb.beast(wave_energy.sel(latitude=0.5, longitude=73.1, method='nearest').values, start = [d.year, d.month, d.day], season='monthly', deltat='1/12 year', quiet=True, print_progress=False)\n",
    "# rb.plot(o)\n",
    "\n"
   ]
  },
  {
   "cell_type": "code",
   "execution_count": 60,
   "metadata": {},
   "outputs": [
    {
     "name": "stdout",
     "output_type": "stream",
     "text": [
      "INFO: '2014-01-31' interpreted as 2014-01-01 (Y-M-D)\n",
      "\n"
     ]
    },
    {
     "data": {
      "text/plain": [
       "(<Figure size 640x480 with 9 Axes>,\n",
       " array([<Axes: xlabel='[]', ylabel='Y'>,\n",
       "        <Axes: xlabel='[]', ylabel='season'>,\n",
       "        <Axes: xlabel='[]', ylabel='Pr(scp)'>,\n",
       "        <Axes: xlabel='[]', ylabel='sOrder'>,\n",
       "        <Axes: xlabel='[]', ylabel='trend'>,\n",
       "        <Axes: xlabel='[]', ylabel='Pr(tcp)'>,\n",
       "        <Axes: xlabel='[]', ylabel='tOrder'>,\n",
       "        <Axes: xlabel='[]', ylabel='slpsgn'>,\n",
       "        <Axes: xlabel='time', ylabel='error'>], dtype=object))"
      ]
     },
     "execution_count": 60,
     "metadata": {},
     "output_type": "execute_result"
    }
   ],
   "source": [
    "import pandas as pd\n",
    "oc = rb.beast(ts.values, start=datetime.strftime(ts.index[0], '%Y-%m-%d'), season='monthly', deltat='1/12 year', quiet=True, print_progress=False)\n",
    "rb.plot(oc)\n"
   ]
  },
  {
   "cell_type": "code",
   "execution_count": 19,
   "metadata": {},
   "outputs": [
    {
     "data": {
      "text/plain": [
       "0.09396128"
      ]
     },
     "execution_count": 19,
     "metadata": {},
     "output_type": "execute_result"
    }
   ],
   "source": [
    "max(o.season.Y) - min(o.season.Y)"
   ]
  },
  {
   "cell_type": "code",
   "execution_count": 16,
   "metadata": {},
   "outputs": [
    {
     "name": "stdout",
     "output_type": "stream",
     "text": [
      "\n"
     ]
    },
    {
     "data": {
      "text/plain": [
       "(<Figure size 640x480 with 9 Axes>,\n",
       " array([<Axes: xlabel='[]', ylabel='Y'>,\n",
       "        <Axes: xlabel='[]', ylabel='season'>,\n",
       "        <Axes: xlabel='[]', ylabel='Pr(scp)'>,\n",
       "        <Axes: xlabel='[]', ylabel='sOrder'>,\n",
       "        <Axes: xlabel='[]', ylabel='trend'>,\n",
       "        <Axes: xlabel='[]', ylabel='Pr(tcp)'>,\n",
       "        <Axes: xlabel='[]', ylabel='tOrder'>,\n",
       "        <Axes: xlabel='[]', ylabel='slpsgn'>,\n",
       "        <Axes: xlabel='time', ylabel='error'>], dtype=object))"
      ]
     },
     "execution_count": 16,
     "metadata": {},
     "output_type": "execute_result"
    }
   ],
   "source": [
    "import pandas as pd\n",
    "d = sea_level.sel(latitude=0.5, longitude=73.1, method='nearest').time[0].values\n",
    "# transform d from numpy.datetime64 to datetime\n",
    "d = pd.to_datetime(d)\n",
    "\n",
    "o = rb.beast(sea_level.sel(latitude=0.5, longitude=73.1, method='nearest').values, start = [d.year, d.month, d.day], season='monthly', deltat='1/12 year', quiet=True, print_progress=False)\n",
    "rb.plot(o)\n",
    "\n",
    "# plt.plot(sea_level.sel(latitude=0.5, longitude=73.1, method='nearest').time, o.season.Y)"
   ]
  },
  {
   "cell_type": "code",
   "execution_count": 53,
   "metadata": {},
   "outputs": [
    {
     "data": {
      "text/plain": [
       "(15706.0, 19357.0)"
      ]
     },
     "execution_count": 53,
     "metadata": {},
     "output_type": "execute_result"
    }
   ],
   "source": [
    "# function to normalise between 0 and 1\n",
    "def normalise(data):\n",
    "    return (data - np.min(data)) / (np.max(data) - np.min(data))\n",
    "\n",
    "plt.figure()\n",
    "plt.plot(sea_level.sel(latitude=0.5, longitude=73.1, method='nearest').time, normalise(o.season.Y))\n",
    "plt.plot(wave_energy.sel(latitude=0.5, longitude=73.1, method='nearest').time, normalise(ow.season.Y))\n",
    "plt.xlim(datetime(2013, 1, 1), datetime(2022, 12, 31))"
   ]
  },
  {
   "cell_type": "code",
   "execution_count": 15,
   "metadata": {},
   "outputs": [
    {
     "ename": "NameError",
     "evalue": "name 'we' is not defined",
     "output_type": "error",
     "traceback": [
      "\u001b[1;31m---------------------------------------------------------------------------\u001b[0m",
      "\u001b[1;31mNameError\u001b[0m                                 Traceback (most recent call last)",
      "Cell \u001b[1;32mIn[15], line 26\u001b[0m\n\u001b[0;32m     22\u001b[0m \u001b[38;5;28;01mfor\u001b[39;00m idxx \u001b[38;5;129;01min\u001b[39;00m idxx_values:\n\u001b[0;32m     23\u001b[0m     \u001b[38;5;28;01mfor\u001b[39;00m idxy \u001b[38;5;129;01min\u001b[39;00m idxy_values:\n\u001b[0;32m     24\u001b[0m         \u001b[38;5;66;03m# Sample data for wave direction and energy for NE monsoon (January, February, March, December)\u001b[39;00m\n\u001b[0;32m     25\u001b[0m         \u001b[38;5;66;03m# we = wave_energy.isel(latitude=idxy, longitude=idxx)\u001b[39;00m\n\u001b[1;32m---> 26\u001b[0m         lat \u001b[38;5;241m=\u001b[39m \u001b[43mwe\u001b[49m\u001b[38;5;241m.\u001b[39mlatitude\u001b[38;5;241m.\u001b[39mvalues\n\u001b[0;32m     27\u001b[0m         lon \u001b[38;5;241m=\u001b[39m we\u001b[38;5;241m.\u001b[39mlongitude\u001b[38;5;241m.\u001b[39mvalues\n\u001b[0;32m     28\u001b[0m         sl \u001b[38;5;241m=\u001b[39m sea_level\u001b[38;5;241m.\u001b[39msel(latitude\u001b[38;5;241m=\u001b[39mlat, longitude\u001b[38;5;241m=\u001b[39mlon, method\u001b[38;5;241m=\u001b[39m\u001b[38;5;124m'\u001b[39m\u001b[38;5;124mnearest\u001b[39m\u001b[38;5;124m'\u001b[39m)\u001b[38;5;241m.\u001b[39mvalues\u001b[38;5;241m.\u001b[39mflatten() \u001b[38;5;66;03m# Assuming wave_direction is already in degrees\u001b[39;00m\n",
      "\u001b[1;31mNameError\u001b[0m: name 'we' is not defined"
     ]
    }
   ],
   "source": [
    "import numpy as np\n",
    "import matplotlib.pyplot as plt\n",
    "import matplotlib.colors as mcolors\n",
    "from mpl_toolkits.axes_grid1.inset_locator import inset_axes\n",
    "\n",
    "# Define the values for idxx and idxy\n",
    "idxx_values = [0, 1, 2]\n",
    "idxy_values = [0, 1, 2]\n",
    "\n",
    "# Create a figure and axes for the joint plot\n",
    "fig, axs = plt.subplots(3, 3, figsize=(20, 10))\n",
    "# fig2, axs2 = plt.subplots(3, 3, subplot_kw={'projection': 'polar'}, figsize=(20, 10))\n",
    "\n",
    "# Choose a common colormap for both panels\n",
    "cmap = plt.get_cmap('plasma')\n",
    "\n",
    "# Normalize wave energy values to range [0, 1]\n",
    "global_min_wave_energy = float('inf')\n",
    "global_max_wave_energy = float('-inf')\n",
    "\n",
    "# Iterate over idxx and idxy values to create the subplots\n",
    "for idxx in idxx_values:\n",
    "    for idxy in idxy_values:\n",
    "        # Sample data for wave direction and energy for NE monsoon (January, February, March, December)\n",
    "        we = wave_energy.isel(latitude=idxy, longitude=idxx)\n",
    "        lat = we.latitude.values\n",
    "        lon = we.longitude.values\n",
    "        sl = sea_level.sel(latitude=lat, longitude=lon, method='nearest').values.flatten() # Assuming wave_direction is already in degrees\n",
    "\n",
    "        axs[idxx, idxy].plot(wave_energy.isel(latitude=idxy, longitude=idxx).time, we.values.flatten(), label='Wave Energy', color='blue')\n",
    "        axs[idxx, idxy].plot(sea_level.isel(latitude=idxy, longitude=idxx).time, sl, label='Sea Level', color='red')\n",
    "\n",
    "# Add a common color bar for wave energy\n",
    "# norm = mcolors.Normalize(vmin=global_min_wave_energy, vmax=global_max_wave_energy)\n",
    "# cbar = fig.colorbar(plt.cm.ScalarMappable(cmap=cmap, norm=norm), ax=axs, orientation='vertical')\n",
    "# cbar.set_label('Wave Energy (kW/m)', fontsize=20)\n",
    "\n",
    "# cbar2 = fig.colorbar(plt.cm.ScalarMappable(cmap=cmap, norm=norm), ax=axs2, orientation='vertical', label='Wave Energy')\n",
    "# cbar2.set_label('Wave Energy (kW/m)', fontsize=20)\n",
    "\n",
    "# fig.suptitle(r'Northeast Monsoon [December$-$February]', fontweight='bold', fontsize=20)\n",
    "# fig2.suptitle(r'Southwest Monsoon [May$-$September]', fontweight='bold', fontsize=20)\n",
    "\n",
    "# Adjust layout\n",
    "#plt.tight_layout()\n",
    "\n",
    "plt.show()"
   ]
  },
  {
   "cell_type": "code",
   "execution_count": 16,
   "metadata": {},
   "outputs": [],
   "source": [
    "import numpy as np\n",
    "import matplotlib.pyplot as plt\n",
    "import matplotlib.colors as mcolors\n",
    "from mpl_toolkits.axes_grid1.inset_locator import inset_axes\n",
    "\n",
    "figg, axx = plt.subplots()\n",
    "huvadhu_atoll.plot(ax=axx, facecolor='none', edgecolor='black', linewidth=3)\n",
    "axx.axis('off')\n",
    "\n",
    "# Define the values for idxx and idxy\n",
    "idxx_values = [0, 1, 2]\n",
    "idxy_values = [0, 1, 2]\n",
    "\n",
    "# Create a figure and axes for the joint plot\n",
    "fig, axs = plt.subplots(3, 3, subplot_kw={'projection': 'polar'}, figsize=(20, 10))\n",
    "fig2, axs2 = plt.subplots(3, 3, subplot_kw={'projection': 'polar'}, figsize=(20, 10))\n",
    "\n",
    "# Choose a common colormap for both panels\n",
    "cmap = plt.get_cmap('plasma')\n",
    "\n",
    "# Normalize wave energy values to range [0, 1]\n",
    "global_min_wave_energy = float('inf')\n",
    "global_max_wave_energy = float('-inf')\n",
    "\n",
    "# Iterate over idxx and idxy values to create the subplots\n",
    "for idxx in idxx_values:\n",
    "    for idxy in idxy_values:\n",
    "        axx.plot(clip_data_waves['wave_energy'].isel(latitude=idxy, longitude=idxx).sel(time=clip_data_waves['wave_energy'].time.dt.month.isin([1, 2, 12])).longitude, clip_data_waves['wave_energy'].isel(latitude=idxy, longitude=idxx).sel(time=clip_data_waves['wave_energy'].time.dt.month.isin([1, 2, 3, 12])).latitude, 'ro')\n",
    "        fig3, ax3 = plt.subplots(1, 1, subplot_kw={'projection': 'polar'})\n",
    "        fig4, ax4 = plt.subplots(1, 1, subplot_kw={'projection': 'polar'})\n",
    "        fig5, ax5 = plt.subplots(1, 1, subplot_kw={'projection': 'polar'})\n",
    "        fig6, ax6 = plt.subplots(1, 1, subplot_kw={'projection': 'polar'})\n",
    "        # Sample data for wave direction and energy for NE monsoon (January, February, March, December)\n",
    "        wave_energy_ne_monsoon = clip_data_waves['wave_energy'].isel(latitude=idxy, longitude=idxx).sel(time=clip_data_waves['wave_energy'].time.dt.month.isin([1, 2, 12])).values.flatten()\n",
    "        wave_direction_ne_monsoon = clip_data_waves['mwd'].isel(latitude=idxy, longitude=idxx).sel(time=clip_data_waves['wave_energy'].time.dt.month.isin([1, 2, 12])).values.flatten() # Assuming wave_direction is already in degrees\n",
    "\n",
    "        # Sample data for wave direction and energy for SW monsoon (April to November)\n",
    "        wave_energy_sw_monsoon = clip_data_waves['wave_energy'].isel(latitude=idxy, longitude=idxx).sel(time=clip_data_waves['wave_energy'].time.dt.month.isin([5, 6, 7, 8, 9])).values.flatten()\n",
    "        wave_direction_sw_monsoon = clip_data_waves['mwd'].isel(latitude=idxy, longitude=idxx).sel(time=clip_data_waves['wave_energy'].time.dt.month.isin([5, 6, 7, 8, 9])).values.flatten() # Assuming wave_direction is already in degrees\n",
    "\n",
    "        # Sample data for wave direction and energy for transition NE to SW monsoon (March, April)\n",
    "        wave_energy_transition_ne_sw = clip_data_waves['wave_energy'].isel(latitude=idxy, longitude=idxx).sel(time=clip_data_waves['wave_energy'].time.dt.month.isin([3, 4])).values.flatten()\n",
    "        wave_direction_transition_ne_sw = clip_data_waves['mwd'].isel(latitude=idxy, longitude=idxx).sel(time=clip_data_waves['wave_energy'].time.dt.month.isin([3, 4])).values.flatten() # Assuming wave_direction is already in degrees\n",
    "\n",
    "        # Sample data for wave direction and energy for transition SW to NE monsoon (October, November)\n",
    "        wave_energy_transition_sw_ne = clip_data_waves['wave_energy'].isel(latitude=idxy, longitude=idxx).sel(time=clip_data_waves['wave_energy'].time.dt.month.isin([10, 11])).values.flatten()\n",
    "        wave_direction_transition_sw_ne = clip_data_waves['mwd'].isel(latitude=idxy, longitude=idxx).sel(time=clip_data_waves['wave_energy'].time.dt.month.isin([10, 11])).values.flatten() # Assuming wave_direction is already in degrees\n",
    "\n",
    "        # Combine wave_energy and wave_direction for both monsoon seasons\n",
    "        all_wave_energy = np.concatenate((wave_energy_ne_monsoon, wave_energy_sw_monsoon, wave_energy_transition_ne_sw, wave_energy_transition_sw_ne))\n",
    "        all_wave_direction = np.concatenate((wave_direction_ne_monsoon, wave_direction_sw_monsoon, wave_direction_transition_ne_sw, wave_direction_transition_sw_ne))\n",
    "\n",
    "        # Calculate global min and max for all_wave_energy\n",
    "        local_min_wave_energy = np.min(all_wave_energy)\n",
    "        local_max_wave_energy = np.max(all_wave_energy)\n",
    "        if local_min_wave_energy < global_min_wave_energy:\n",
    "            global_min_wave_energy = local_min_wave_energy\n",
    "        if local_max_wave_energy > global_max_wave_energy:\n",
    "            global_max_wave_energy = local_max_wave_energy\n",
    "\n",
    "        # Plot wave energy using a colormap\n",
    "        ax = axs[idxy, idxx]\n",
    "        ax2 = axs2[idxy, idxx]\n",
    "        bars = ax.bar(np.radians(wave_direction_ne_monsoon), wave_energy_ne_monsoon, width=0.1, color=cmap((wave_energy_ne_monsoon - global_min_wave_energy) / (global_max_wave_energy - global_min_wave_energy)), alpha=0.7, label='Wave Energy NE Monsoon', zorder=5)\n",
    "        bars2 = ax2.bar(np.radians(wave_direction_sw_monsoon), wave_energy_sw_monsoon, width=0.1, color=cmap((wave_energy_sw_monsoon - global_min_wave_energy) / (global_max_wave_energy - global_min_wave_energy)), alpha=0.7, label='Wave Energy SW Monsoon', zorder=5)\n",
    "\n",
    "        bars3 = ax3.bar(np.radians(wave_direction_ne_monsoon), wave_energy_ne_monsoon, width=0.1, color=cmap((wave_energy_ne_monsoon - global_min_wave_energy) / (global_max_wave_energy - global_min_wave_energy)), alpha=0.7, label='Wave Energy NE Monsoon', zorder=5)\n",
    "        bars4 = ax4.bar(np.radians(wave_direction_sw_monsoon), wave_energy_sw_monsoon, width=0.1, color=cmap((wave_energy_sw_monsoon - global_min_wave_energy) / (global_max_wave_energy - global_min_wave_energy)), alpha=0.7, label='Wave Energy SW Monsoon', zorder=5)\n",
    "        \n",
    "        bars5 = ax5.bar(np.radians(wave_direction_transition_ne_sw), wave_energy_transition_ne_sw, width=0.1, color=cmap((wave_energy_transition_ne_sw - global_min_wave_energy) / (global_max_wave_energy - global_min_wave_energy)), alpha=0.7, label='Wave Energy Transition NE to SW Monsoon', zorder=5)\n",
    "        bars6 = ax6.bar(np.radians(wave_direction_transition_sw_ne), wave_energy_transition_sw_ne, width=0.1, color=cmap((wave_energy_transition_sw_ne - global_min_wave_energy) / (global_max_wave_energy - global_min_wave_energy)), alpha=0.7, label='Wave Energy Transition SW to NE Monsoon', zorder=5)\n",
    "\n",
    "        \n",
    "        # Set the theta zero location and direction\n",
    "        # Set the theta zero location and direction\n",
    "        ax.set_theta_zero_location('N')\n",
    "        ax.set_theta_direction(-1)\n",
    "        ax2.set_theta_zero_location('N')\n",
    "        ax2.set_theta_direction(-1)\n",
    "        ax3.set_theta_zero_location('N')\n",
    "        ax3.set_theta_direction(-1)\n",
    "        ax4.set_theta_zero_location('N')\n",
    "        ax4.set_theta_direction(-1)\n",
    "        ax5.set_theta_zero_location('N')\n",
    "        ax5.set_theta_direction(-1)\n",
    "\n",
    "        ax.tick_params(axis='x', which='major', labelsize=12, width=2, direction='out', pad=0.5)\n",
    "        ax2.tick_params(axis='x', which='major', labelsize=12, width=2, direction='out', pad=0.5)\n",
    "        ax3.tick_params(axis='x', which='major', labelsize=12, width=2, direction='out', pad=0.5)\n",
    "        ax4.tick_params(axis='x', which='major', labelsize=12, width=2, direction='out', pad=0.5)\n",
    "        ax5.tick_params(axis='x', which='major', labelsize=12, width=2, direction='out', pad=0.5)\n",
    "        ax6.tick_params(axis='x', which='major', labelsize=12, width=2, direction='out', pad=0.5)\n",
    "\n",
    "        ax.tick_params(axis='y', which='major', width=2, direction='out', pad=1, color='gray', zorder=15, grid_zorder=1)\n",
    "        ax2.tick_params(axis='y', which='major', width=2, direction='out', pad=1, color='gray', zorder=15, grid_zorder=1)\n",
    "        ax3.tick_params(axis='y', which='major', width=2, direction='out', pad=1, color='gray', zorder=15, grid_zorder=1) \n",
    "        ax4.tick_params(axis='y', which='major', width=2, direction='out', pad=1, color='gray', zorder=15, grid_zorder=1)\n",
    "\n",
    "        fig3.savefig(f'figures//process regime//NE_wave_energy_{idxx}_{idxy}.png', transparent=True)  \n",
    "        fig4.savefig(f'figures//process regime//SW_wave_energy_{idxx}_{idxy}.png', transparent=True)\n",
    "\n",
    "# Add a common color bar for wave energy\n",
    "norm = mcolors.Normalize(vmin=global_min_wave_energy, vmax=global_max_wave_energy)\n",
    "cbar = fig.colorbar(plt.cm.ScalarMappable(cmap=cmap, norm=norm), ax=axs, orientation='vertical')\n",
    "cbar.set_label('Wave Energy (kW/m)', fontsize=20)\n",
    "\n",
    "cbar2 = fig.colorbar(plt.cm.ScalarMappable(cmap=cmap, norm=norm), ax=axs2, orientation='vertical', label='Wave Energy')\n",
    "cbar2.set_label('Wave Energy (kW/m)', fontsize=20)\n",
    "\n",
    "fig.suptitle(r'Northeast Monsoon [December$-$February]', fontweight='bold', fontsize=20)\n",
    "fig2.suptitle(r'Southwest Monsoon [May$-$September]', fontweight='bold', fontsize=20)\n",
    "\n",
    "# Adjust layout\n",
    "#plt.tight_layout()\n",
    "\n",
    "plt.show()"
   ]
  },
  {
   "cell_type": "code",
   "execution_count": 152,
   "metadata": {},
   "outputs": [],
   "source": [
    "\n",
    "for month in range(1, 13):\n",
    "\n",
    "    fig, ax = plt.subplots()\n",
    "\n",
    "    clip_data_waves = data_ERA5_waves['mwd'].sel(time='2013-{}-01'.format(month), latitude=slice(1.50, 0.), longitude=slice(72.6, 74.))\n",
    "    clip_data_energy = data_ERA5_waves['swh'].sel(time='2013-{}-01'.format(month), latitude=slice(1.50, 0.), longitude=slice(72.6, 74.))\n",
    "    clip_data_energy.plot(ax=ax)\n",
    "\n",
    "    # Overlaying the area boundary\n",
    "    area.plot(ax=ax, facecolor='none', edgecolor='black')\n",
    "\n",
    "    # Plotting wind vectors\n",
    "    for i in range(len(clip_data_waves['latitude'])):\n",
    "        for j in range(len(clip_data_waves['longitude'])):\n",
    "            latitude_value = clip_data_waves['latitude'].values[i]\n",
    "            longitude_value = clip_data_waves['longitude'].values[j]\n",
    "            value = clip_data_waves.sel(latitude=latitude_value, longitude=longitude_value).values\n",
    "            \n",
    "            # Plotting wind vectors using quiver\n",
    "            ax.quiver(longitude_value, latitude_value, 0.2*np.cos(np.radians(value)), 0.2*np.sin(np.radians(value)),\n",
    "                    angles='xy', scale_units='xy', scale=1)\n",
    "    \n",
    "    plt.title('Month: {}'.format(month))\n",
    "\n",
    "    # Show the plot\n",
    "    plt.show()"
   ]
  },
  {
   "cell_type": "code",
   "execution_count": 144,
   "metadata": {},
   "outputs": [],
   "source": [
    "import numpy as np\n",
    "import matplotlib.pyplot as plt\n",
    "import calendar\n",
    "\n",
    "# Assuming data_ERA5_waves['mwd'] contains data for each month of the year\n",
    "\n",
    "# Iterate over each month\n",
    "for month_num in range(1, 13):\n",
    "    # Extract angles for the current month\n",
    "    angles = data_ERA5_waves['mwd'].sel(latitude=slice(1.50, 0.), longitude=slice(72.6, 74.), time=data_ERA5_waves['mwd'].time.dt.month == month_num).values[0]\n",
    "\n",
    "    # Number of bins (directions)\n",
    "    num_bins = 16\n",
    "\n",
    "    # Convert angles to radians\n",
    "    angles = np.radians(angles)\n",
    "\n",
    "    # Create the histogram\n",
    "    hist, bins = np.histogram(angles, bins=num_bins, range=(0, 2*np.pi))\n",
    "\n",
    "    # Compute width of each bin\n",
    "    width = 2 * np.pi / num_bins\n",
    "\n",
    "    # Create the rose diagram\n",
    "    fig, ax = plt.subplots(subplot_kw={'projection': 'polar'})\n",
    "    bars = ax.bar(bins[:-1], hist, width=width, color='skyblue', edgecolor='black')\n",
    "\n",
    "    # Add labels to the bars\n",
    "    ax.set_theta_zero_location('N')\n",
    "    ax.set_theta_direction(-1)\n",
    "    ax.set_xticks(np.arange(0, 2*np.pi, np.pi/4))\n",
    "    ax.set_xticklabels(['N', 'NE', 'E', 'SE', 'S', 'SW', 'W', 'NW'])\n",
    "\n",
    "    plt.title(f'Rose Diagram for {calendar.month_name[month_num]}')\n",
    "    plt.show()"
   ]
  },
  {
   "cell_type": "code",
   "execution_count": 137,
   "metadata": {},
   "outputs": [],
   "source": [
    "angles = data_ERA5_waves['mwd'].sel(latitude=slice(1.50, 0.), longitude=slice(72.6, 74.)).values.flatten()\n",
    "\n",
    "# Number of bins (directions)\n",
    "num_bins = 16\n",
    "\n",
    "# Convert angles to radians\n",
    "angles = np.radians(angles)\n",
    "\n",
    "# Create the histogram\n",
    "hist, bins = np.histogram(angles, bins=num_bins, range=(0, 2*np.pi))\n",
    "\n",
    "# Compute width of each bin\n",
    "width = 2 * np.pi / num_bins\n",
    "\n",
    "# Create the rose diagram\n",
    "fig, ax = plt.subplots(subplot_kw={'projection': 'polar'})\n",
    "bars = ax.bar(bins[:-1], hist, width=width, color='skyblue', edgecolor='black')\n",
    "\n",
    "# Add labels to the bars\n",
    "ax.set_theta_zero_location('N')\n",
    "ax.set_theta_direction(-1)\n",
    "ax.set_xticks(np.arange(0, 2*np.pi, np.pi/4))\n",
    "ax.set_xticklabels(['N', 'NE', 'E', 'SE', 'S', 'SW', 'W', 'NW'])\n",
    "\n",
    "plt.title('Rose Diagram')\n",
    "plt.show()"
   ]
  },
  {
   "cell_type": "code",
   "execution_count": 107,
   "metadata": {},
   "outputs": [
    {
     "data": {
      "text/plain": [
       "<Axes: title={'center': 'time = 2015-01-01'}, xlabel='longitude [degrees_east]', ylabel='latitude [degrees_north]'>"
      ]
     },
     "execution_count": 107,
     "metadata": {},
     "output_type": "execute_result"
    }
   ],
   "source": [
    "fig, ax = plt.subplots()\n",
    "data_ERA5_waves['mwd'].sel(time='2015-01-01', latitude=slice(1.50, 0.), longitude=slice(72.6, 74.)).plot()\n",
    "ax.quiver(72.853, 1.098, 0.2*np.cos(np.radians(120)), 0.2*np.sin(np.radians(120)), angles='xy', scale_units='xy', scale=1)\n",
    "area.plot(ax=ax, facecolor='none', edgecolor='black')"
   ]
  },
  {
   "cell_type": "markdown",
   "metadata": {},
   "source": [
    "# Plot by region"
   ]
  },
  {
   "cell_type": "code",
   "execution_count": 239,
   "metadata": {},
   "outputs": [],
   "source": [
    "island_info = retrieve_island_info('Dhakandhoo', 'Maldives', verbose=False)\n",
    "\n",
    "plot_shoreline_transects(island_info)\n",
    "\n",
    "transect = 55\n",
    "\n",
    "sc = island_info['timeseries_preprocessing']['optimal time period']['dict_timeseries']['coastline_position_transect_{}_waterline'.format(transect)]['monthly']\n",
    "\n",
    "wave_energy = sc['wave_energy_of_combined_wind_waves_and_swell']\n",
    "sea_level = sc['sea_level_anomaly']\n",
    "sst = sc['sea_surface_temperature']\n",
    "wave_direction = sc['mean_wave_direction']\n",
    "coastline = sc['coastline_position_transect_{}_waterline'.format(transect)]\n",
    "wind = sc['wind_speed_10m']"
   ]
  },
  {
   "cell_type": "code",
   "execution_count": 246,
   "metadata": {},
   "outputs": [
    {
     "data": {
      "text/plain": [
       "Index(['coastline_position_transect_55_waterline',\n",
       "       'sea_surface_temperature_NOAACRW', 'sea_level_anomaly',\n",
       "       '2_metre_dewpoint_temperature', 'soil_temperature_level_1',\n",
       "       'total_precipitation', 'evaporation', 'sea_surface_temperature',\n",
       "       'mean_sea_level_pressure', 'mean_direction_of_total_swell',\n",
       "       'mean_direction_of_wind_waves', 'mean_wave_direction', 'wind_speed_10m',\n",
       "       'wind_direction_10m', 'wind_direction_true_10m',\n",
       "       'wave_energy_of_total_swell', 'wave_energy_of_wind_waves',\n",
       "       'wave_energy_of_combined_wind_waves_and_swell'],\n",
       "      dtype='object')"
      ]
     },
     "execution_count": 246,
     "metadata": {},
     "output_type": "execute_result"
    }
   ],
   "source": [
    "sc.keys()"
   ]
  },
  {
   "cell_type": "code",
   "execution_count": 62,
   "metadata": {},
   "outputs": [],
   "source": [
    "# Min-Max Scaling\n",
    "def min_max_scaling(series):\n",
    "    return (series - series.min()) / (series.max() - series.min())"
   ]
  },
  {
   "cell_type": "code",
   "execution_count": 149,
   "metadata": {},
   "outputs": [
    {
     "data": {
      "text/plain": [
       "[<matplotlib.lines.Line2D at 0x19becc15dd0>]"
      ]
     },
     "execution_count": 149,
     "metadata": {},
     "output_type": "execute_result"
    }
   ],
   "source": [
    "fig, ax = plt.subplots()\n",
    "ax.plot(wave_energy.index, min_max_scaling(wave_energy.values))\n",
    "ax.plot(sea_level.index, min_max_scaling(sea_level.values))\n",
    "ax.plot(sst.index, min_max_scaling(sst.values))\n",
    "ax.plot(wave_direction.index, min_max_scaling(wave_direction.values))\n",
    "ax.plot(coastline.index, min_max_scaling(coastline.values))"
   ]
  },
  {
   "cell_type": "code",
   "execution_count": 231,
   "metadata": {},
   "outputs": [
    {
     "name": "stdout",
     "output_type": "stream",
     "text": [
      "\n",
      "\n"
     ]
    }
   ],
   "source": [
    "from scipy import signal\n",
    "\n",
    "list_var = [wave_energy, sea_level, sst, coastline]\n",
    "list_var = [wave_energy, coastline]\n",
    "#list_var = [sea_level, coastline]\n",
    "fig, ax = plt.subplots()\n",
    "o_cp = rb.beast(coastline.values, start=[coastline.index[0].year, coastline.index[0].month, coastline.index[0].day], period='1 year', deltat='1/12 year', quiet=True, print_progress=False)\n",
    "for var in list_var:\n",
    "    o = rb.beast(var.values, start=[var.index[0].year, var.index[0].month, var.index[0].day], period='1 year', deltat='1/12 year', quiet=True, print_progress=False)\n",
    "    rb.plot(o)\n",
    "    fig2, ax2 = plt.subplots()\n",
    "    ax.plot(var.index, min_max_scaling(o.season.Y))\n",
    "    #ax2.scatter(coastline.values, var.values)\n",
    "    #ax2.scatter(o_cp.season.Y, o.season.Y)\n",
    "    y = o_cp.season.Y\n",
    "    x = o.season.Y\n",
    "    correlation = signal.correlate(x-np.mean(x), y-np.mean(y), mode=\"full\")\n",
    "    lags = signal.correlation_lags(len(x), len(y), mode=\"full\")\n",
    "    lag = lags[np.argmax(abs(correlation))]\n",
    "    corr = correlation[np.argmax(abs(correlation))]\n",
    "    #ax2.set_title(np.corrcoef(o_cp.season.Y, o.season.Y)[0, 1])\n",
    "    #ax2.set_title('lag: {}, corr: {}'.format(lag, corr))\n",
    "    ax2.plot(lags, correlation)\n",
    "    ax2.set_title(lag)\n",
    "    \n",
    "    break\n",
    "\n",
    "\n"
   ]
  },
  {
   "cell_type": "code",
   "execution_count": 203,
   "metadata": {},
   "outputs": [
    {
     "data": {
      "text/plain": [
       "[<matplotlib.lines.Line2D at 0x19bca9deed0>]"
      ]
     },
     "execution_count": 203,
     "metadata": {},
     "output_type": "execute_result"
    }
   ],
   "source": [
    "plt.plot(np.arange(-len(x) + 1, len(x)), abs(np.correlate(x-np.mean(x), y-np.mean(y), mode='full')))"
   ]
  },
  {
   "cell_type": "code",
   "execution_count": 183,
   "metadata": {},
   "outputs": [
    {
     "data": {
      "text/plain": [
       "array([ -7,   4,  -8,   5, -19,  16, -20,  17, -31,  -1,  -2, -13, -25,\n",
       "        28, -14, -32,   0,  10,  11, -24, -12, -18,   3,  -6, -43,  29,\n",
       "       -26, -37, -30,  -3,  40, -44,   6,  -9,  15, -36,  12,   9,  22,\n",
       "       -38,  23, -55, -42, -49,  41, -15,  27,  21,  52,  18, -56,  24,\n",
       "       -48, -50, -21,  34, -23,  39, -11,  35,  33, -27, -54, -61, -33,\n",
       "       -67,   1,  53, -35,  51,  64,  30, -39, -60,  36, -62,  45, -68,\n",
       "        46, -45,  13,   8,  63, -29,  47, -51,  -4, -47, -66,  57,  20,\n",
       "        32, -17, -57, -73,  44,  56,  25,  76,  75,  68, -41,  42,  65,\n",
       "        58, -74,  48, -79, -72, -63,  69, -59, -80, -69,  79,  80, -53,\n",
       "        37,  59, -78,  67,  -5,  87, -16, -75, -71,  70,  74,  88, -85,\n",
       "        62,  54,  81, -65,   2,  50,  60, -81, -86, -84,  38,  55,  14,\n",
       "        26,   7,  49,  77,  91,  78,  90, -91, -92, -87, -83, -28,  86,\n",
       "       -40, -77, -52, -90,  19, -64,  92,  71,  43, -76,  95,  82, -93,\n",
       "        73,  61, -22, -88,  93, -10,  94,  96,  83, -89,  66, -34, -95,\n",
       "        97,  72, -96,  84, -46, -82,  31, -70, -97, -94,  89,  85, -58])"
      ]
     },
     "execution_count": 183,
     "metadata": {},
     "output_type": "execute_result"
    }
   ],
   "source": [
    "lags[np.argsort(abs(correlation))][::-1]"
   ]
  },
  {
   "cell_type": "code",
   "execution_count": 169,
   "metadata": {},
   "outputs": [
    {
     "data": {
      "text/plain": [
       "[<matplotlib.lines.Line2D at 0x19bf2133090>]"
      ]
     },
     "execution_count": 169,
     "metadata": {},
     "output_type": "execute_result"
    }
   ],
   "source": [
    "plt.plot(lags, abs(correlation))"
   ]
  },
  {
   "cell_type": "code",
   "execution_count": 170,
   "metadata": {},
   "outputs": [
    {
     "data": {
      "text/plain": [
       "-0.9200372746666252"
      ]
     },
     "execution_count": 170,
     "metadata": {},
     "output_type": "execute_result"
    }
   ],
   "source": [
    "np.corrcoef(o_cp.season.Y[4:], o.season.Y[:-4])[0, 1]"
   ]
  },
  {
   "cell_type": "code",
   "execution_count": 189,
   "metadata": {},
   "outputs": [
    {
     "data": {
      "text/plain": [
       "[<matplotlib.lines.Line2D at 0x19c02a24890>]"
      ]
     },
     "execution_count": 189,
     "metadata": {},
     "output_type": "execute_result"
    }
   ],
   "source": [
    "plt.plot(o.season.Y)\n",
    "plt.plot(o_cp.season.Y[4:])"
   ]
  },
  {
   "cell_type": "code",
   "execution_count": 187,
   "metadata": {},
   "outputs": [
    {
     "data": {
      "text/plain": [
       "[<matplotlib.lines.Line2D at 0x19beccb1250>]"
      ]
     },
     "execution_count": 187,
     "metadata": {},
     "output_type": "execute_result"
    }
   ],
   "source": [
    "plt.plot(o.season.Y[:-4])\n",
    "plt.plot(o_cp.season.Y[4:])"
   ]
  },
  {
   "cell_type": "code",
   "execution_count": 232,
   "metadata": {},
   "outputs": [],
   "source": [
    "from scipy.signal import find_peaks, argrelextrema\n",
    "\n",
    "find_peaks(o_cp.season.Y)\n",
    "\n",
    "plt.plot(coastline.index, o_cp.season.Y, color='g')\n",
    "plt.plot(coastline.index, o.season.Y, color='r')\n",
    "\n",
    "for peak in argrelextrema(o_cp.season.Y, np.less)[0]:\n",
    "    plt.axvline(coastline.index[peak], color='g', ls=':')\n",
    "\n",
    "for peak in find_peaks(o.season.Y)[0]:\n",
    "    plt.axvline(coastline.index[peak], color='r', ls=':')"
   ]
  },
  {
   "cell_type": "code",
   "execution_count": 243,
   "metadata": {},
   "outputs": [
    {
     "name": "stdout",
     "output_type": "stream",
     "text": [
      "\n",
      "\n"
     ]
    }
   ],
   "source": [
    "fig, ax = plt.subplots()\n",
    "time_series = coastline\n",
    "\n",
    "# Plot fitting sinusoidal function\n",
    "#for peak in find_peaks(o_cp.season.Y)[0]:\n",
    "    #ax.axvline(time_series.index[peak], color='r', linestyle='--')\n",
    "#for minimum in argrelextrema(o_cp.season.Y, np.less)[0]:\n",
    "    #ax.axvline(time_series.index[minimum], color='pink', linestyle='--')\n",
    "for year in range(2010, 2023):\n",
    "    if year == 2010:\n",
    "        ax.axvspan(datetime.datetime(year=year, month=12, day=1), datetime.datetime(year=year+1, month=2, day=28), color='yellow', alpha=0.2, label='NE Monsoon')\n",
    "        ax.axvspan(datetime.datetime(year=year, month=5, day=1), datetime.datetime(year=year, month=9, day=30), color='blue', alpha=0.2, label='SW Monsoon')\n",
    "    else:\n",
    "        ax.axvspan(datetime.datetime(year=year, month=12, day=1), datetime.datetime(year=year+1, month=2, day=28), color='yellow', alpha=0.2)\n",
    "        ax.axvspan(datetime.datetime(year=year, month=5, day=1), datetime.datetime(year=year, month=9, day=30), color='blue', alpha=0.2)\n",
    "ax.plot(time_series.index, min_max_scaling(o_cp.season.Y), color='g')\n",
    "var = wave_energy\n",
    "o = rb.beast(var.values, start=[var.index[0].year, var.index[0].month, var.index[0].day], period='1 year', deltat='1/12 year', quiet=True, print_progress=False)\n",
    "ax.plot(time_series.index, min_max_scaling(o.season.Y), color='black')\n",
    "var = wave_direction\n",
    "o = rb.beast(var.values, start=[var.index[0].year, var.index[0].month, var.index[0].day], period='1 year', deltat='1/12 year', quiet=True, print_progress=False)\n",
    "ax.plot(time_series.index, min_max_scaling(o.season.Y), color='gray')\n",
    "ax.legend(fontsize=10)\n",
    "ax.set_xlim(time_series.index[0], time_series.index[-1])\n",
    "#ax.set_title('Name: {}'.format(time_series_name))\n",
    "plt.show()"
   ]
  },
  {
   "cell_type": "code",
   "execution_count": 251,
   "metadata": {},
   "outputs": [
    {
     "data": {
      "text/plain": [
       "array([[[147.4288  ,  97.38376 ,  92.409966, 102.785286],\n",
       "        [139.57602 ,  92.38803 ,  85.64845 ,  97.47698 ],\n",
       "        [143.135   ,  91.532555,  77.65858 ,  91.614815],\n",
       "        ...,\n",
       "        [157.7109  , 139.55408 , 120.89824 , 127.53362 ],\n",
       "        [159.75087 , 155.819   , 141.79147 , 136.14317 ],\n",
       "        [161.19312 , 159.92087 , 150.13779 , 143.52983 ]],\n",
       "\n",
       "       [[120.75566 ,  64.78264 ,  68.66516 ,  86.273605],\n",
       "        [122.455635,  72.80542 ,  70.754486,  86.57521 ],\n",
       "        [131.53679 ,  76.5673  ,  67.79872 ,  85.55523 ],\n",
       "        ...,\n",
       "        [145.08174 , 127.670715, 108.7352  , 113.648674],\n",
       "        [150.01715 , 143.45854 , 127.66524 , 123.700455],\n",
       "        [153.33484 , 151.41551 , 139.97086 , 133.52191 ]],\n",
       "\n",
       "       [[194.9184  , 156.66899 , 129.48586 , 132.98999 ],\n",
       "        [191.17297 , 151.31133 , 122.16499 , 128.76747 ],\n",
       "        [190.37782 , 145.88786 , 113.84061 , 124.15012 ],\n",
       "        ...,\n",
       "        [176.28448 , 172.561   , 165.8324  , 164.81241 ],\n",
       "        [175.8403  , 175.6374  , 169.53943 , 168.38235 ],\n",
       "        [174.77097 , 174.42549 , 172.38004 , 171.06393 ]],\n",
       "\n",
       "       ...,\n",
       "\n",
       "       [[239.74837 , 247.39825 , 231.21011 , 217.83514 ],\n",
       "        [241.71704 , 250.43626 , 236.51842 , 218.31772 ],\n",
       "        [241.10286 , 252.9588  , 243.77347 , 219.48029 ],\n",
       "        ...,\n",
       "        [195.05002 , 203.63762 , 196.37709 , 182.876   ],\n",
       "        [187.37271 , 192.22586 , 184.72404 , 180.44669 ],\n",
       "        [178.5493  , 180.56734 , 178.89478 , 176.56966 ]],\n",
       "\n",
       "       [[216.73839 , 210.68977 , 179.08122 , 168.34946 ],\n",
       "        [219.80931 , 215.93228 , 184.32373 , 169.01299 ],\n",
       "        [220.00673 , 229.17014 , 196.11386 , 172.93938 ],\n",
       "        ...,\n",
       "        [195.8287  , 204.63019 , 197.66577 , 183.51761 ],\n",
       "        [189.81848 , 194.95131 , 187.18626 , 182.18504 ],\n",
       "        [182.37698 , 184.4992  , 182.43182 , 179.32251 ]],\n",
       "\n",
       "       [[216.56839 , 115.03059 , 122.24177 , 138.4299  ],\n",
       "        [219.68318 , 144.92271 , 119.269554, 135.98413 ],\n",
       "        [220.30286 ,  14.161804,  90.622246, 127.64878 ],\n",
       "        ...,\n",
       "        [199.63994 , 209.49979 , 199.84285 , 182.83214 ],\n",
       "        [195.77388 , 201.16992 , 190.9646  , 184.61436 ],\n",
       "        [190.43814 , 192.30264 , 188.91914 , 184.85565 ]]], dtype=float32)"
      ]
     },
     "execution_count": 251,
     "metadata": {},
     "output_type": "execute_result"
    }
   ],
   "source": [
    "data_ERA5_waves['mwd'].values"
   ]
  },
  {
   "cell_type": "code",
   "execution_count": 247,
   "metadata": {},
   "outputs": [
    {
     "name": "stdout",
     "output_type": "stream",
     "text": [
      "\n"
     ]
    }
   ],
   "source": [
    "fig, ax = plt.subplots()\n",
    "time_series = coastline\n",
    "\n",
    "# Plot fitting sinusoidal function\n",
    "#for peak in find_peaks(o_cp.season.Y)[0]:\n",
    "    #ax.axvline(time_series.index[peak], color='r', linestyle='--')\n",
    "#for minimum in argrelextrema(o_cp.season.Y, np.less)[0]:\n",
    "    #ax.axvline(time_series.index[minimum], color='pink', linestyle='--')\n",
    "for year in range(2010, 2023):\n",
    "    if year == 2010:\n",
    "        ax.axvspan(datetime.datetime(year=year, month=12, day=1), datetime.datetime(year=year+1, month=2, day=28), color='yellow', alpha=0.2, label='NE Monsoon')\n",
    "        ax.axvspan(datetime.datetime(year=year, month=5, day=1), datetime.datetime(year=year, month=9, day=30), color='blue', alpha=0.2, label='SW Monsoon')\n",
    "    else:\n",
    "        ax.axvspan(datetime.datetime(year=year, month=12, day=1), datetime.datetime(year=year+1, month=2, day=28), color='yellow', alpha=0.2)\n",
    "        ax.axvspan(datetime.datetime(year=year, month=5, day=1), datetime.datetime(year=year, month=9, day=30), color='blue', alpha=0.2)\n",
    "var = wave_direction\n",
    "o = rb.beast(var.values, start=[var.index[0].year, var.index[0].month, var.index[0].day], period='1 year', deltat='1/12 year', quiet=True, print_progress=False)\n",
    "ax.plot(time_series.index, o.season.Y, color='gray')\n",
    "ax.legend(fontsize=10)\n",
    "ax.set_xlim(time_series.index[0], time_series.index[-1])\n",
    "#ax.set_title('Name: {}'.format(time_series_name))\n",
    "plt.show()"
   ]
  },
  {
   "cell_type": "markdown",
   "metadata": {},
   "source": [
    "# Test for asymmetric sinusoidal data"
   ]
  },
  {
   "cell_type": "code",
   "execution_count": 120,
   "metadata": {},
   "outputs": [],
   "source": [
    "def asymmetric_sinusoidal(x, A, k, period1, period2, phi, offset):\n",
    "    return A * np.sin(2 * np.pi / period1 * x + k * np.sin(2 * np.pi / period2 * x) + phi) + offset"
   ]
  },
  {
   "cell_type": "code",
   "execution_count": 114,
   "metadata": {},
   "outputs": [],
   "source": [
    "x = np.linspace(0, 4*np.pi, 100)\n",
    "y = np.sin(x)\n",
    "y2 = np.sin(x + 0.5*np.sin(x)) \n",
    "\n",
    "# add random noise\n",
    "y += np.random.normal(0, 0.1, y.shape)\n",
    "\n",
    "# add trend\n",
    "y += 0.1 * x\n",
    "\n",
    "fig, ax = plt.subplots()\n",
    "ax.plot(x, y)\n",
    "ax.plot(x, y2)\n",
    "\n",
    "# find peaks\n",
    "\n",
    "from scipy.signal import find_peaks\n",
    "\n",
    "peaks, _ = find_peaks(y2)\n",
    "ax.plot(x[peaks], y2[peaks], \"x\")\n",
    "\n",
    "# find minima\n",
    "from scipy.signal import argrelextrema\n",
    "\n",
    "minima = argrelextrema(y2, np.less)\n",
    "ax.plot(x[minima], y2[minima], \"o\")\n",
    "plt.show()"
   ]
  },
  {
   "cell_type": "code",
   "execution_count": 115,
   "metadata": {},
   "outputs": [
    {
     "name": "stdout",
     "output_type": "stream",
     "text": [
      "\n"
     ]
    },
    {
     "data": {
      "text/plain": [
       "(<Figure size 640x480 with 9 Axes>,\n",
       " array([<Axes: xlabel='[]', ylabel='Y'>,\n",
       "        <Axes: xlabel='[]', ylabel='season'>,\n",
       "        <Axes: xlabel='[]', ylabel='Pr(scp)'>,\n",
       "        <Axes: xlabel='[]', ylabel='sOrder'>,\n",
       "        <Axes: xlabel='[]', ylabel='trend'>,\n",
       "        <Axes: xlabel='[]', ylabel='Pr(tcp)'>,\n",
       "        <Axes: xlabel='[]', ylabel='tOrder'>,\n",
       "        <Axes: xlabel='[]', ylabel='slpsgn'>,\n",
       "        <Axes: xlabel='time', ylabel='error'>], dtype=object))"
      ]
     },
     "execution_count": 115,
     "metadata": {},
     "output_type": "execute_result"
    }
   ],
   "source": [
    "import Rbeast as rb\n",
    "\n",
    "o = rb.beast(y2, start=[0], quiet=True, print_progress=False)\n",
    "rb.plot(o)"
   ]
  },
  {
   "cell_type": "code",
   "execution_count": 107,
   "metadata": {},
   "outputs": [
    {
     "data": {
      "text/plain": [
       "2.1578616206475347"
      ]
     },
     "execution_count": 107,
     "metadata": {},
     "output_type": "execute_result"
    }
   ],
   "source": [
    "x[peaks][1] - x[minima][0]"
   ]
  },
  {
   "cell_type": "code",
   "execution_count": 131,
   "metadata": {},
   "outputs": [
    {
     "data": {
      "text/plain": [
       "[<matplotlib.lines.Line2D at 0x2288372f0b0>]"
      ]
     },
     "execution_count": 131,
     "metadata": {},
     "output_type": "execute_result"
    }
   ],
   "source": [
    "# def f(x, delta=0.5):\n",
    "\n",
    "#     o1 = np.pi + 0.5*np.pi*delta\n",
    "#     o2 = np.pi - 0.5*np.pi*(1 - delta)\n",
    "\n",
    "#     print(o1, o2)\n",
    "    \n",
    "#     res = []\n",
    "\n",
    "#     for i in range(len(x)):\n",
    "#         if x[i] < o1:\n",
    "#             res.append(-1*np.cos(x[i] * np.pi / o1))\n",
    "#         else:\n",
    "#             res.append(-1*np.cos(x[i] * np.pi / o2))\n",
    "#     return res\n",
    "\n",
    "def f(x, delta=0.5):\n",
    "    o1 = np.pi + 0.5 * np.pi * delta\n",
    "    o2 = np.pi - 0.5 * np.pi * (1 - delta)\n",
    "    T = o1 + o2  # Total period\n",
    "\n",
    "    res = []\n",
    "    for xi in x:\n",
    "        xi_mod = xi % T  # Make the function periodic\n",
    "        if xi_mod < o1:\n",
    "            res.append(-1 * np.cos(xi_mod * np.pi / o1))\n",
    "        else:\n",
    "            res.append(-1 * np.cos((xi_mod - o1) * np.pi / o2))\n",
    "    return res\n",
    "\n",
    "x = np.linspace(0, 2*np.pi, 1000, endpoint=True)\n",
    "plt.plot(x, )"
   ]
  },
  {
   "cell_type": "code",
   "execution_count": 139,
   "metadata": {},
   "outputs": [
    {
     "name": "stdout",
     "output_type": "stream",
     "text": [
      "Vibration along x-axis: -0.651288474745862\n",
      "Vibration along y-axis: -0.651288474745862\n"
     ]
    },
    {
     "data": {
      "text/plain": [
       "[<matplotlib.lines.Line2D at 0x228c842ce00>]"
      ]
     },
     "execution_count": 139,
     "metadata": {},
     "output_type": "execute_result"
    }
   ],
   "source": [
    "import math\n",
    "\n",
    "def asymsin(t, f, delta):\n",
    "    # Define the asymmetric sinusoidal function\n",
    "    omega1 = math.pi + math.pi/2 * delta\n",
    "    omega2 = math.pi - math.pi/2 * (1 - delta)\n",
    "    \n",
    "    if t < omega1:\n",
    "        return -math.cos(t * math.pi / omega1)\n",
    "    else:\n",
    "        return -math.cos(t * math.pi / omega2)\n",
    "\n",
    "def compute_vibration(A, alpha, t, f, delta):\n",
    "    # Compute vibrations along x and y axes\n",
    "    x = A * math.cos(alpha) * asymsin(t * f, f, delta)\n",
    "    y = A * math.sin(alpha) * asymsin(t * f, f, delta)\n",
    "    return x, y\n",
    "\n",
    "# Example usage:\n",
    "A = 1.0        # Amplitude\n",
    "alpha = math.pi / 4  # Angle in radians (45 degrees)\n",
    "t = 0.5        # Time in seconds\n",
    "f = 1.0        # Frequency in Hertz\n",
    "delta = 0.5    # Asymmetry parameter\n",
    "\n",
    "# Compute vibrations\n",
    "x, y = compute_vibration(A, alpha, t, f, delta)\n",
    "\n",
    "# Print results\n",
    "print(f\"Vibration along x-axis: {x}\")\n",
    "print(f\"Vibration along y-axis: {y}\")\n",
    "\n",
    "# plot \n",
    "import matplotlib.pyplot as plt\n",
    "\n",
    "# Define time range\n",
    "t = np.linspace(0, 2 * np.pi, 1000)\n",
    "\n",
    "# Compute vibrations along x and y axes\n",
    "x = [compute_vibration(A, alpha, ti, f, delta)[0] for ti in t]\n",
    "y = [compute_vibration(A, alpha, ti, f, delta)[1] for ti in t]\n",
    "\n",
    "# Plot the vibrations\n",
    "plt.plot(t, x, label='Vibration along x-axis')\n",
    "plt.plot(t, y, label='Vibration along y-axis')"
   ]
  },
  {
   "cell_type": "code",
   "execution_count": 143,
   "metadata": {},
   "outputs": [
    {
     "data": {
      "text/plain": [
       "[<matplotlib.lines.Line2D at 0x2289e6276b0>]"
      ]
     },
     "execution_count": 143,
     "metadata": {},
     "output_type": "execute_result"
    }
   ],
   "source": [
    "delta = 0.5\n",
    "omega1 = np.pi + np.pi/2 * delta\n",
    "omega2 = np.pi - np.pi/2 * (1 - delta)\n",
    "\n",
    "x = np.linspace(0, 2*np.pi, 1000)\n",
    "\n",
    "y1 = np.where(x < omega1, -np.cos(x * np.pi / omega1), -np.cos(x * np.pi / omega2))\n",
    "y2 = np.where(x < omega1, -np.cos(x * np.pi / omega1), -np.cos((x - omega1) * np.pi / omega2))\n",
    "\n"
   ]
  },
  {
   "cell_type": "code",
   "execution_count": 144,
   "metadata": {},
   "outputs": [],
   "source": [
    "\n",
    "import numpy as np\n",
    "import matplotlib.pyplot as plt\n",
    "\n",
    "def asymmetric_sin_wave(t, T1, T2, omega1, omega2, A):\n",
    "    \"\"\"\n",
    "    Generate an asymmetric sinusoidal waveform.\n",
    "    \n",
    "    Parameters:\n",
    "    t: array-like\n",
    "        Time array.\n",
    "    T1: float\n",
    "        Duration of the shorter half period.\n",
    "    T2: float\n",
    "        Duration of the longer half period.\n",
    "    omega1: float\n",
    "        Angular frequency for the shorter half period.\n",
    "    omega2: float\n",
    "        Angular frequency for the longer half period.\n",
    "    A: float\n",
    "        Amplitude of the sinusoidal signal.\n",
    "    \n",
    "    Returns:\n",
    "    x: array-like\n",
    "        Asymmetric sinusoidal waveform.\n",
    "    \"\"\"\n",
    "    x = np.zeros_like(t)\n",
    "    x[(t >= 0) & (t < T1)] = A * np.sin(omega1 * t[(t >= 0) & (t < T1)])\n",
    "    x[(t >= T1) & (t < T1 + T2)] = A * np.sin(omega2 * t[(t >= T1) & (t < T1 + T2)])\n",
    "    return x\n",
    "\n",
    "# Parameters\n",
    "T1 = 1.0   # Duration of the shorter half period\n",
    "T2 = 2.0   # Duration of the longer half period\n",
    "omega1 = 2 * np.pi / T1   # Angular frequency for the shorter half period\n",
    "omega2 = 2 * np.pi / T2   # Angular frequency for the longer half period\n",
    "A = 1.0    # Amplitude\n",
    "\n",
    "# Time array\n",
    "t = np.linspace(0, T1 + T2, num=1000)\n",
    "\n",
    "# Generate asymmetric sinusoidal waveform\n",
    "x = asymmetric_sin_wave(t, T1, T2, omega1, omega2, A)\n",
    "\n",
    "# Plotting\n",
    "plt.figure(figsize=(10, 5))\n",
    "plt.plot(t, x, label='Asymmetric Sinusoidal Waveform')\n",
    "plt.title('Asymmetric Sinusoidal Waveform')\n",
    "plt.xlabel('Time')\n",
    "plt.ylabel('Amplitude')\n",
    "plt.grid(True)\n",
    "plt.legend()\n",
    "plt.show()\n"
   ]
  },
  {
   "cell_type": "code",
   "execution_count": 145,
   "metadata": {},
   "outputs": [],
   "source": [
    "import numpy as np\n",
    "import matplotlib.pyplot as plt\n",
    "\n",
    "# Define parameters\n",
    "T = 2 * np.pi  # Period of the wave\n",
    "T1 = T / 2     # Point where wave shape changes\n",
    "\n",
    "# Define the asymmetric wave function\n",
    "def asymmetric_wave(t):\n",
    "    if 0 <= t < T1:\n",
    "        return np.sin(t)\n",
    "    elif T1 <= t < T:\n",
    "        return np.sign(np.sin(t))\n",
    "\n",
    "# Generate time values for plotting\n",
    "t_values = np.linspace(0, T, 1000)\n",
    "\n",
    "# Calculate the wave values\n",
    "wave_values = np.array([asymmetric_wave(t) for t in t_values])\n",
    "\n",
    "# Plotting\n",
    "plt.figure(figsize=(8, 4))\n",
    "plt.plot(t_values, wave_values, label='Asymmetric Wave')\n",
    "plt.title('Asymmetric Waveform Example')\n",
    "plt.xlabel('Time')\n",
    "plt.ylabel('Amplitude')\n",
    "plt.grid(True)\n",
    "plt.legend()\n",
    "plt.show()"
   ]
  },
  {
   "cell_type": "code",
   "execution_count": null,
   "metadata": {},
   "outputs": [],
   "source": [
    "def titled_sin(x, n):\n",
    "\n",
    "    y = np.sin(x)"
   ]
  },
  {
   "cell_type": "code",
   "execution_count": 158,
   "metadata": {},
   "outputs": [],
   "source": [
    "import numpy as np\n",
    "import matplotlib.pyplot as plt\n",
    "\n",
    "# Define the parameters\n",
    "n = 1  # Parameter affecting the waveform\n",
    "x = np.linspace(0, 10*np.pi, 1000)  # x values from 0 to 10*pi\n",
    "\n",
    "# Initialize y as zeros (or initial guess)\n",
    "y = np.zeros_like(x)\n",
    "\n",
    "# Define the tolerance and maximum number of iterations\n",
    "tolerance = 1e-6\n",
    "max_iterations = 100\n",
    "\n",
    "# Iterate to find y using the implicit equation y = sin(x + y * n)\n",
    "for i in range(max_iterations):\n",
    "    y_new = np.sin(x + y * n)\n",
    "    error = np.max(np.abs(y_new - y))\n",
    "    y = y_new\n",
    "    \n",
    "    if error < tolerance:\n",
    "        print(f'Converged after {i+1} iterations with error {error:.6e}')\n",
    "        break\n",
    "\n",
    "# Plot the waveform\n",
    "plt.figure(figsize=(8, 4))\n",
    "plt.plot(x, y, label='y = sin(x + y*n)')\n",
    "plt.title('Implicit Waveform y = sin(x + y*n)')\n",
    "plt.xlabel('x')\n",
    "plt.ylabel('y')\n",
    "plt.grid(True)\n",
    "plt.legend()\n",
    "plt.show()\n"
   ]
  },
  {
   "cell_type": "code",
   "execution_count": 165,
   "metadata": {},
   "outputs": [],
   "source": [
    "x = np.linspace(0, 100, 1000)\n",
    "t = np.arange(0, 1, 0.1)\n",
    "# y = 1/t * np.arctan((t * np.sin(x)/(1 - t*np.cos(x))))\n",
    "\n",
    "for i in t:\n",
    "    plt.plot(x, 1/i * np.arctan((i * np.sin(x)/(1 - i*np.cos(x)))))\n",
    "# plt.plot(x, y)"
   ]
  },
  {
   "cell_type": "code",
   "execution_count": 56,
   "metadata": {},
   "outputs": [],
   "source": [
    "island = \"Hulhudhoo (South Maalhosmadulu)\"\n",
    "\n",
    "island_info = retrieve_island_info(island, 'Maldives', verbose=False)\n",
    "\n",
    "ts_name = 'coastline_position_transect_10_waterline'\n",
    "ts = island_info['timeseries_preprocessing']['optimal time period']['dict_timeseries'][ts_name]['monthly'][ts_name] \n",
    "p = island_info['timeseries_analysis'][ts_name]['seasonality']['peaks_seasonal_BEAST']\n",
    "# stats.mode([ts.index[p][i].month for i in range(len(p))]).mode"
   ]
  },
  {
   "cell_type": "code",
   "execution_count": 178,
   "metadata": {},
   "outputs": [
    {
     "ename": "IndexError",
     "evalue": "index 3 is out of bounds for axis 0 with size 3",
     "output_type": "error",
     "traceback": [
      "\u001b[1;31m---------------------------------------------------------------------------\u001b[0m",
      "\u001b[1;31mIndexError\u001b[0m                                Traceback (most recent call last)",
      "Cell \u001b[1;32mIn[178], line 1\u001b[0m\n\u001b[1;32m----> 1\u001b[0m \u001b[38;5;28mtype\u001b[39m(\u001b[43mparams\u001b[49m\u001b[43m[\u001b[49m\u001b[38;5;241;43m3\u001b[39;49m\u001b[43m]\u001b[49m)\n",
      "\u001b[1;31mIndexError\u001b[0m: index 3 is out of bounds for axis 0 with size 3"
     ]
    }
   ],
   "source": [
    "type(params[3])"
   ]
  },
  {
   "cell_type": "code",
   "execution_count": 272,
   "metadata": {},
   "outputs": [
    {
     "data": {
      "text/plain": [
       "(<Figure size 640x480 with 9 Axes>,\n",
       " array([<Axes: xlabel='[]', ylabel='Y'>,\n",
       "        <Axes: xlabel='[]', ylabel='season'>,\n",
       "        <Axes: xlabel='[]', ylabel='Pr(scp)'>,\n",
       "        <Axes: xlabel='[]', ylabel='sOrder'>,\n",
       "        <Axes: xlabel='[]', ylabel='trend'>,\n",
       "        <Axes: xlabel='[]', ylabel='Pr(tcp)'>,\n",
       "        <Axes: xlabel='[]', ylabel='tOrder'>,\n",
       "        <Axes: xlabel='[]', ylabel='slpsgn'>,\n",
       "        <Axes: xlabel='time', ylabel='error'>], dtype=object))"
      ]
     },
     "execution_count": 272,
     "metadata": {},
     "output_type": "execute_result"
    }
   ],
   "source": [
    "rb.plot(o)"
   ]
  },
  {
   "cell_type": "code",
   "execution_count": 115,
   "metadata": {},
   "outputs": [
    {
     "name": "stdout",
     "output_type": "stream",
     "text": [
      "\n",
      "Fitted Parameters: [ 1.73173871e+01 -1.41004299e-04 -4.34346102e-01  3.63417120e+02\n",
      "  1.94248051e-01  1.16525403e+02]\n"
     ]
    }
   ],
   "source": [
    "import numpy as np\n",
    "import matplotlib.pyplot as plt\n",
    "from scipy.optimize import curve_fit\n",
    "\n",
    "# Define the Clausen function\n",
    "# def clausen(x, *params):\n",
    "#     result = np.zeros_like(x, dtype=np.float64)\n",
    "#     for k, param in enumerate(params, start=1):\n",
    "#         result += np.sin(k * x) / k**2\n",
    "#     return result\n",
    "\n",
    "def clausen(x, A, B):\n",
    "    result = A * np.sum(np.sin(np.outer(np.arange(1, len(x)+1), x)) / np.arange(1, len(x)+1)**2, axis=0) + B\n",
    "    return result\n",
    "\n",
    "# def seasonal_function_fitting(x, A, k, period, phi, offset):\n",
    "#     return A * np.exp(k * x) * np.sin(2 * np.pi / period * x + phi) + offset\n",
    "\n",
    "def seasonal_function_fitting(x, A, k, sp, period, phi, offset):\n",
    "    inside_sin = 2 * np.pi / period * x + phi\n",
    "    skewed_sin = np.sin(inside_sin) / np.sqrt((sp + np.cos(inside_sin))**2 + np.sin(inside_sin)**2)\n",
    "    return A * np.exp(k * x) * skewed_sin + offset\n",
    "\n",
    "# Generate some synthetic data\n",
    "np.random.seed(0)\n",
    "x_data = np.array([(date - ts.index[0]).days for date in ts.index])\n",
    "x_data_big = np.linspace(0, x_data[-1], 1000)\n",
    "x_data_big_datetime = np.array([ts.index[0] + pd.Timedelta(days=int(x)) for x in x_data_big])\n",
    "y_data = ts.values\n",
    "o = rb.beast(y_data, start=[y_data[0]], period='1 year', deltat='1/12 year', quiet=True, print_progress=False)\n",
    "y_data_b = o.season.Y\n",
    "\n",
    "# stl\n",
    "from statsmodels.tsa.seasonal import STL, MSTL\n",
    "res = STL(ts, period=12, seasonal=13).fit()\n",
    "y_data_s = res.seasonal.values\n",
    "\n",
    "# Fit the Clausen function to the data using curve_fit\n",
    "initial_guess = [7, 0.001, -0.5, 365, 1, 0]  # Initial guess for parameters\n",
    "params, covariance = curve_fit(seasonal_function_fitting, x_data, y_data, p0=initial_guess, maxfev=10000)\n",
    "params_b, covariance_b = curve_fit(seasonal_function_fitting, x_data, y_data_b, p0=initial_guess, maxfev=10000)\n",
    "params_s, covariance_s = curve_fit(seasonal_function_fitting, x_data, y_data_s, p0=initial_guess, maxfev=10000)\n",
    "\n",
    "# Generate curve using fitted parameters\n",
    "y_fit = seasonal_function_fitting(x_data, *params)\n",
    "y_fit_b = seasonal_function_fitting(x_data_big, *params_b)\n",
    "y_fit_s = seasonal_function_fitting(x_data_big, *params_s)\n",
    "\n",
    "# Plotting\n",
    "plt.figure(figsize=(20, 20))\n",
    "# plt.plot(x_data, y_data, label='Data with Noise')\n",
    "# plt.plot(x_data, y_fit, 'r-', label='Fitted Clausen Function')\n",
    "plt.plot(ts.index, y_data_b, color='k', linestyle='-', label='Seasonal component BEAST')\n",
    "plt.plot(ts.index, y_data_s, color='k', linestyle='--', label='Seasonal component STL')\n",
    "plt.plot(x_data_big_datetime, y_fit_b, color='k', linestyle=':', label=r'Fit BEAST ($R^2>0.99)$')\n",
    "plt.plot(x_data_big_datetime, y_fit_s, color='k', linestyle='-.', label=r'Fit STL ($R^2=0.95)$')\n",
    "\n",
    "for year in range(2013, 2023):\n",
    "    if year == 2013:\n",
    "        plt.axvspan(datetime(year=year, month=12, day=1), datetime(year=year+1, month=2, day=28), color='#bc5090', alpha=0.2, label='NE Monsoon')\n",
    "        plt.axvspan(datetime(year=year, month=5, day=1), datetime(year=year, month=9, day=30), color='#58508d', alpha=0.2, label='SW Monsoon')\n",
    "        plt.axvspan(datetime(year=year, month=3, day=1), datetime(year=year, month=4, day=30), color='#ff6361', alpha=0.2, label='NE-SW Transition')\n",
    "        plt.axvspan(datetime(year=year, month=10, day=1), datetime(year=year, month=11, day=30), color='#ffa600', alpha=0.2, label='SW-NE Transition')\n",
    "    else:\n",
    "        plt.axvspan(datetime(year=year, month=12, day=1), datetime(year=year+1, month=2, day=28), color='#bc5090', alpha=0.2)\n",
    "        plt.axvspan(datetime(year=year, month=5, day=1), datetime(year=year, month=9, day=30), color='#58508d', alpha=0.2)\n",
    "        plt.axvspan(datetime(year=year, month=3, day=1), datetime(year=year, month=4, day=30), color='#ff6361', alpha=0.2)\n",
    "        plt.axvspan(datetime(year=year, month=10, day=1), datetime(year=year, month=11, day=30), color='#ffa600', alpha=0.2)\n",
    "\n",
    "plt.legend(fontsize=15, loc='upper right')\n",
    "plt.xlabel('Date', fontsize=20)\n",
    "plt.ylabel('Amplitude (m)', fontsize=20)\n",
    "# increase tick size\n",
    "plt.xticks(fontsize=15)\n",
    "plt.yticks(fontsize=15)\n",
    "\n",
    "# plt.grid(True)\n",
    "plt.xlim(datetime(2016, 1, 1), datetime(2018, 12, 31))\n",
    "# plt.savefig('figures//seasonal_component_fitting.png', dpi=300)\n",
    "plt.show()\n",
    "\n",
    "# Print the fitted parameters\n",
    "print('Fitted Parameters:', params)"
   ]
  },
  {
   "cell_type": "code",
   "execution_count": 117,
   "metadata": {},
   "outputs": [
    {
     "data": {
      "text/plain": [
       "(14.093981243683753, 15.746914837986012)"
      ]
     },
     "execution_count": 117,
     "metadata": {},
     "output_type": "execute_result"
    }
   ],
   "source": [
    "params_b[0], params_s[0]"
   ]
  },
  {
   "cell_type": "code",
   "execution_count": 90,
   "metadata": {},
   "outputs": [
    {
     "data": {
      "text/plain": [
       "0.9987202066338721"
      ]
     },
     "execution_count": 90,
     "metadata": {},
     "output_type": "execute_result"
    }
   ],
   "source": [
    "# r2 score\n",
    "\n",
    "from sklearn.metrics import r2_score\n",
    "\n",
    "r2_score(y_data_b, y_fit_b)\n"
   ]
  },
  {
   "cell_type": "code",
   "execution_count": 282,
   "metadata": {},
   "outputs": [
    {
     "data": {
      "text/plain": [
       "[<matplotlib.lines.Line2D at 0x2289b262a20>]"
      ]
     },
     "execution_count": 282,
     "metadata": {},
     "output_type": "execute_result"
    }
   ],
   "source": [
    "plt.plot(ts.index, y_data - y_fit)\n",
    "plt.plot(ts.index, y_data - o.season.Y - o.trend.Y)"
   ]
  },
  {
   "cell_type": "code",
   "execution_count": 82,
   "metadata": {},
   "outputs": [
    {
     "ename": "NameError",
     "evalue": "name 'find_peaks' is not defined",
     "output_type": "error",
     "traceback": [
      "\u001b[1;31m---------------------------------------------------------------------------\u001b[0m",
      "\u001b[1;31mNameError\u001b[0m                                 Traceback (most recent call last)",
      "Cell \u001b[1;32mIn[82], line 1\u001b[0m\n\u001b[1;32m----> 1\u001b[0m peaks, _ \u001b[38;5;241m=\u001b[39m \u001b[43mfind_peaks\u001b[49m(y_fit)\n\u001b[0;32m      2\u001b[0m minima, _ \u001b[38;5;241m=\u001b[39m find_peaks(\u001b[38;5;241m-\u001b[39my_fit)\n\u001b[0;32m      5\u001b[0m peaks2, _ \u001b[38;5;241m=\u001b[39m find_peaks(y_data)\n",
      "\u001b[1;31mNameError\u001b[0m: name 'find_peaks' is not defined"
     ]
    }
   ],
   "source": [
    "peaks, _ = find_peaks(y_fit)\n",
    "minima, _ = find_peaks(-y_fit)\n",
    "\n",
    "\n",
    "peaks2, _ = find_peaks(y_data)\n",
    "minima2, _ = find_peaks(-y_data)\n",
    "# plt.plot(x_data, y_data)\n",
    "\n",
    "# plt.plot(x_data[peaks], y_data[peaks], 'x')\n",
    "# plt.plot(x_data[minima], y_data[minima], 'o')\n",
    "\n"
   ]
  },
  {
   "cell_type": "code",
   "execution_count": 265,
   "metadata": {},
   "outputs": [
    {
     "data": {
      "text/plain": [
       "-0.4343461021388106"
      ]
     },
     "execution_count": 265,
     "metadata": {},
     "output_type": "execute_result"
    }
   ],
   "source": [
    "params[2]"
   ]
  },
  {
   "cell_type": "code",
   "execution_count": 269,
   "metadata": {},
   "outputs": [
    {
     "name": "stdout",
     "output_type": "stream",
     "text": [
      "2014-03-24 00:00:00+00:00 2014-02-28 00:00:00+00:00\n",
      "2014-11-12 00:00:00+00:00 2014-04-30 00:00:00+00:00\n"
     ]
    },
    {
     "data": {
      "text/plain": [
       "Timedelta('-233 days +00:00:00')"
      ]
     },
     "execution_count": 269,
     "metadata": {},
     "output_type": "execute_result"
    }
   ],
   "source": [
    "# numeric dates to datetime\n",
    "\n",
    "import datetime\n",
    "numeric_dates_fit = np.array([ts.index[0] + datetime.timedelta(days=int(x)) for x in x_data_big])\n",
    "\n",
    "print(numeric_dates_fit[peaks][0], ts.index[peaks2][0])\n",
    "print(numeric_dates_fit[minima][0], ts.index[minima2][0])\n",
    "\n",
    "ts.index[peaks2][3] - ts.index[minima2][2]\n",
    "numeric_dates_fit[peaks][0] - numeric_dates_fit[minima][0]\n",
    "\n",
    "# (numeric_dates_fit[peaks][1] - numeric_dates_fit[minima][0]) + abs(numeric_dates_fit[peaks][0] - numeric_dates_fit[minima][0])"
   ]
  },
  {
   "cell_type": "code",
   "execution_count": 6,
   "metadata": {},
   "outputs": [],
   "source": [
    "from IslandTime import plot_shoreline_transects\n",
    "plot_shoreline_transects(island_info)"
   ]
  },
  {
   "cell_type": "code",
   "execution_count": 1,
   "metadata": {},
   "outputs": [],
   "source": [
    "import pandas as pd\n",
    "islands_h = pd.read_excel('Huvadhoo_islands.xlsx', index_col=0)"
   ]
  },
  {
   "cell_type": "code",
   "execution_count": 4,
   "metadata": {},
   "outputs": [
    {
     "data": {
      "text/html": [
       "<div>\n",
       "<style scoped>\n",
       "    .dataframe tbody tr th:only-of-type {\n",
       "        vertical-align: middle;\n",
       "    }\n",
       "\n",
       "    .dataframe tbody tr th {\n",
       "        vertical-align: top;\n",
       "    }\n",
       "\n",
       "    .dataframe thead th {\n",
       "        text-align: right;\n",
       "    }\n",
       "</style>\n",
       "<table border=\"1\" class=\"dataframe\">\n",
       "  <thead>\n",
       "    <tr style=\"text-align: right;\">\n",
       "      <th></th>\n",
       "      <th>island</th>\n",
       "      <th>country</th>\n",
       "      <th>geometry</th>\n",
       "    </tr>\n",
       "  </thead>\n",
       "  <tbody>\n",
       "    <tr>\n",
       "      <th>10</th>\n",
       "      <td>Bodehuttaa</td>\n",
       "      <td>Maldives</td>\n",
       "      <td>POINT (73.572107 0.413156)</td>\n",
       "    </tr>\n",
       "    <tr>\n",
       "      <th>11</th>\n",
       "      <td>Boderehaa</td>\n",
       "      <td>Maldives</td>\n",
       "      <td>POINT (73.012414 0.386207)</td>\n",
       "    </tr>\n",
       "    <tr>\n",
       "      <th>12</th>\n",
       "      <td>Bolimathaidhoo</td>\n",
       "      <td>Maldives</td>\n",
       "      <td>POINT (73.126432 0.232835)</td>\n",
       "    </tr>\n",
       "    <tr>\n",
       "      <th>13</th>\n",
       "      <td>Budhiyahuttaa</td>\n",
       "      <td>Maldives</td>\n",
       "      <td>POINT (73.403026 0.855165)</td>\n",
       "    </tr>\n",
       "    <tr>\n",
       "      <th>14</th>\n",
       "      <td>Dhaandhoo</td>\n",
       "      <td>Maldives</td>\n",
       "      <td>POINT (73.46146847985355 0.6209737)</td>\n",
       "    </tr>\n",
       "    <tr>\n",
       "      <th>...</th>\n",
       "      <td>...</td>\n",
       "      <td>...</td>\n",
       "      <td>...</td>\n",
       "    </tr>\n",
       "    <tr>\n",
       "      <th>182</th>\n",
       "      <td>Veraaviligillaa</td>\n",
       "      <td>Maldives</td>\n",
       "      <td>POINT (73.448828 0.312796)</td>\n",
       "    </tr>\n",
       "    <tr>\n",
       "      <th>183</th>\n",
       "      <td>Viligalaa</td>\n",
       "      <td>Maldives</td>\n",
       "      <td>POINT (73.216486 0.51876)</td>\n",
       "    </tr>\n",
       "    <tr>\n",
       "      <th>184</th>\n",
       "      <td>Viligili</td>\n",
       "      <td>Maldives</td>\n",
       "      <td>POINT (73.43585 0.756172)</td>\n",
       "    </tr>\n",
       "    <tr>\n",
       "      <th>185</th>\n",
       "      <td>Villigalaa</td>\n",
       "      <td>Maldives</td>\n",
       "      <td>POINT (73.129523 0.229659)</td>\n",
       "    </tr>\n",
       "    <tr>\n",
       "      <th>186</th>\n",
       "      <td>Vodamulaa</td>\n",
       "      <td>Maldives</td>\n",
       "      <td>POINT (73.486465 0.603859)</td>\n",
       "    </tr>\n",
       "  </tbody>\n",
       "</table>\n",
       "<p>177 rows × 3 columns</p>\n",
       "</div>"
      ],
      "text/plain": [
       "              island   country                             geometry\n",
       "10        Bodehuttaa  Maldives           POINT (73.572107 0.413156)\n",
       "11         Boderehaa  Maldives           POINT (73.012414 0.386207)\n",
       "12    Bolimathaidhoo  Maldives           POINT (73.126432 0.232835)\n",
       "13     Budhiyahuttaa  Maldives           POINT (73.403026 0.855165)\n",
       "14         Dhaandhoo  Maldives  POINT (73.46146847985355 0.6209737)\n",
       "..               ...       ...                                  ...\n",
       "182  Veraaviligillaa  Maldives           POINT (73.448828 0.312796)\n",
       "183        Viligalaa  Maldives            POINT (73.216486 0.51876)\n",
       "184         Viligili  Maldives            POINT (73.43585 0.756172)\n",
       "185       Villigalaa  Maldives           POINT (73.129523 0.229659)\n",
       "186        Vodamulaa  Maldives           POINT (73.486465 0.603859)\n",
       "\n",
       "[177 rows x 3 columns]"
      ]
     },
     "execution_count": 4,
     "metadata": {},
     "output_type": "execute_result"
    }
   ],
   "source": [
    "islands_h[10:]"
   ]
  },
  {
   "cell_type": "code",
   "execution_count": null,
   "metadata": {},
   "outputs": [],
   "source": [
    "from IslandTime import Workflow, retrieve_island_info\n",
    "\n",
    "%load_ext autoreload\n",
    "%autoreload 2\n",
    "\n",
    "islands_d = []\n",
    "\n",
    "for isl in islands_h.island[10:]:\n",
    "\n",
    "    if isl in islands_d:\n",
    "        continue\n",
    "\n",
    "    # island_info = retrieve_island_info(island, 'Maldives', verbose=False)\n",
    "\n",
    "    island_info = Workflow(isl, 'Maldives', execute_analysis=True, execute_segmentation=False, execute_preprocess=False, update_maps=False, overwrite_analysis=True).main()\n",
    "    islands_d.append(isl)\n",
    "    # ts = island_info['timeseries_preprocessing']['optimal time period']['dict_timeseries']['coastline_position_transect_5_waterline']['monthly']['coastline_position_transect_67_waterline']"
   ]
  },
  {
   "cell_type": "code",
   "execution_count": null,
   "metadata": {},
   "outputs": [],
   "source": [
    "islands_d"
   ]
  },
  {
   "cell_type": "code",
   "execution_count": null,
   "metadata": {},
   "outputs": [],
   "source": [
    "for i in range(1, 10):\n",
    "    print(i)\n",
    "    print(island_info['timeseries_analysis']['coastline_position_transect_{}_waterline'.format(i)]['seasonality']['amplitude_seasonal_BEAST_absrange'])"
   ]
  },
  {
   "cell_type": "code",
   "execution_count": 9,
   "metadata": {},
   "outputs": [
    {
     "data": {
      "text/plain": [
       "[<matplotlib.lines.Line2D at 0x272e2715070>]"
      ]
     },
     "execution_count": 9,
     "metadata": {},
     "output_type": "execute_result"
    }
   ],
   "source": [
    "import matplotlib.pyplot as plt\n",
    "plt.plot(ts.index, ts.values)"
   ]
  },
  {
   "cell_type": "code",
   "execution_count": 243,
   "metadata": {},
   "outputs": [
    {
     "data": {
      "text/plain": [
       "[<matplotlib.lines.Line2D at 0x22910b14fe0>]"
      ]
     },
     "execution_count": 243,
     "metadata": {},
     "output_type": "execute_result"
    }
   ],
   "source": [
    "def sin_skewed(x, ks):\n",
    "    return np.sin(x) / (np.sqrt((ks + np.cos(x))**2 + np.sin(x)**2))\n",
    "\n",
    "x = np.linspace(0, 2*np.pi, 1000)\n",
    "ks = -0.8\n",
    "plt.plot(x, sin_skewed(x, ks))\n",
    "plt.plot(x, np.sin(x))"
   ]
  }
 ],
 "metadata": {
  "kernelspec": {
   "display_name": "IslandTime",
   "language": "python",
   "name": "python3"
  },
  "language_info": {
   "codemirror_mode": {
    "name": "ipython",
    "version": 3
   },
   "file_extension": ".py",
   "mimetype": "text/x-python",
   "name": "python",
   "nbconvert_exporter": "python",
   "pygments_lexer": "ipython3",
   "version": "3.12.2"
  }
 },
 "nbformat": 4,
 "nbformat_minor": 2
}
